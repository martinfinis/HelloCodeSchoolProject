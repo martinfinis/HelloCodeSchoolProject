{
  "nbformat": 4,
  "nbformat_minor": 0,
  "metadata": {
    "colab": {
      "name": "RNN_Quest_2_Martin.ipynb",
      "provenance": [],
      "collapsed_sections": [],
      "toc_visible": true,
      "include_colab_link": true
    },
    "kernelspec": {
      "name": "python3",
      "display_name": "Python 3"
    },
    "accelerator": "GPU"
  },
  "cells": [
    {
      "cell_type": "markdown",
      "metadata": {
        "id": "view-in-github",
        "colab_type": "text"
      },
      "source": [
        "<a href=\"https://colab.research.google.com/github/martinfinis/HelloCodeSchoolProject/blob/master/RNN_Quest_2_Martin.ipynb\" target=\"_parent\"><img src=\"https://colab.research.google.com/assets/colab-badge.svg\" alt=\"Open In Colab\"/></a>"
      ]
    },
    {
      "cell_type": "markdown",
      "metadata": {
        "id": "Xaba-WZpRcOI"
      },
      "source": [
        "#beforehand"
      ]
    },
    {
      "cell_type": "code",
      "metadata": {
        "id": "n4kxOuc7RZOD"
      },
      "source": [
        "import glob\n",
        "import cv2\n",
        "import keras,os\n",
        "import tensorflow as tf\n",
        "from os import listdir\n",
        "from os.path import isfile, join\n",
        "from keras.models import Sequential, load_model\n",
        "from keras.layers import Dropout, Input, Dense, Conv2D, MaxPool2D , Flatten, BatchNormalization, AveragePooling2D, MaxPooling2D\n",
        "from tensorflow.keras.optimizers import Adam\n",
        "from keras.preprocessing.image import ImageDataGenerator\n",
        "from tensorflow.keras.callbacks import ModelCheckpoint,EarlyStopping\n",
        "\n",
        "import numpy as np\n",
        "import pandas as pd"
      ],
      "execution_count": 1,
      "outputs": []
    },
    {
      "cell_type": "markdown",
      "metadata": {
        "id": "f38wbIikR_ly"
      },
      "source": [
        "## helper"
      ]
    },
    {
      "cell_type": "code",
      "metadata": {
        "id": "Aw7_QA5Pxmal"
      },
      "source": [
        "def get_image_information(main_target_path,sub_path ,class_list ,data_format ):\n",
        "    info_array = []#np.array([[0,8]])\n",
        "    column_names = ['class_x','name_x','row','column','channel','shape','main_target_path','sub_path']\n",
        "\n",
        "    for class_name in class_list:\n",
        "        path = os.path.join(os.sep,main_target_path,sub_path,class_name)\n",
        "        img_path_list = glob.glob(path + data_format)\n",
        "\n",
        "        for img_path in img_path_list:\n",
        "            img = cv2.imread(img_path)\n",
        "            #img = cv2.cvtColor(img, cv2.COLOR_BGR2RGB)\n",
        "            info_array.append([class_name,os.path.split(img_path)[-1],img.shape[0],img.shape[1],img.shape[2],img.shape,main_target_path,sub_path])\n",
        "\n",
        "    df = pd.DataFrame(data=info_array,columns= column_names)\n",
        "    return df"
      ],
      "execution_count": 39,
      "outputs": []
    },
    {
      "cell_type": "code",
      "metadata": {
        "id": "fI-gnIuBQF3Q"
      },
      "source": [
        "import matplotlib.pyplot as plt\n",
        "\n",
        "def history_plot_from_loss_acc(history, title):\n",
        "  plt.figure(figsize=(10,5))\n",
        "\n",
        "  train_loss_list = history.history['loss']\n",
        "  train_accuracy = history.history['accuracy']\n",
        "  val_loss_list = history.history['val_loss']\n",
        "  val_accuracy_list = history.history['val_accuracy']\n",
        "  x = history.epoch\n",
        "  \n",
        "  plt.subplot(1,2,1)\n",
        "  plt.plot(x, train_loss_list)\n",
        "  plt.plot(x, val_loss_list)\n",
        "  plt.legend(['train_loss', 'val_loss'])\n",
        "  plt.title(title+\"_ LOSS\")\n",
        "  \n",
        "  plt.subplot(1,2,2)\n",
        "  plt.plot(x, train_accuracy)\n",
        "  plt.plot(x, val_accuracy_list)\n",
        "  plt.legend(['train_acc','val_accuracy'])\n",
        "  plt.title(title+\"_ ACCURACY\")\n",
        "  plt.show()"
      ],
      "execution_count": 2,
      "outputs": []
    },
    {
      "cell_type": "code",
      "metadata": {
        "id": "gH80eu0fxB0C"
      },
      "source": [
        "def create_result_df(y_predict,test_generator):\n",
        "  \"\"\"\n",
        "  y_predict_vgg16 = y_predict\n",
        "  test_generator = generator\n",
        "  sub_path = 'test\n",
        "\n",
        "  uses function:\n",
        "  get_image_information(main_target_path=main_target_path,\n",
        "            sub_path='test',\n",
        "            class_list=artist_list,\n",
        "            data_format=data_format)\n",
        "\n",
        "  \"\"\"\n",
        "  y_predict = np.argmax(y_predict, axis=-1)\n",
        "  pre_file_df = pd.DataFrame(data=[y_predict,test_generator.filenames]).T\n",
        "  pre_file_df.columns = ['predict','class_name']\n",
        "\n",
        "  df_test =get_image_information(main_target_path=main_target_path,sub_path='test',class_list=artist_list,data_format=data_format)\n",
        "  df_test['class_name']=df_test.apply(lambda x: (str(x.class_x)+\"/\"+str(x.name_x)),axis=1)\n",
        "  df_test = pd.merge(df_test, pre_file_df, on=[\"class_name\", \"class_name\"])\n",
        "  df_test['class_value'] = df_test.class_x.map(artist_class_name_dict)\n",
        "  df_test['test_result'] = df_test.apply(lambda x: x.predict == x.class_value,axis = 1)\n",
        "\n",
        "  df_groups = df_test.groupby('class_x').agg( class_sum =('class_x','count'),test_sum =('test_result','sum')).reset_index()\n",
        "  df_groups['percent_all'] = (df_groups['class_sum']/df_groups['class_sum'].sum())*100\n",
        "  df_groups['percent_test'] = (df_groups['test_sum']/df_groups['class_sum'])*100\n",
        "  return df_groups"
      ],
      "execution_count": 36,
      "outputs": []
    },
    {
      "cell_type": "code",
      "metadata": {
        "id": "okgoyEJxSDg6"
      },
      "source": [
        "from tensorflow.keras import datasets, layers, models\n",
        "import matplotlib.pyplot as plt\n",
        "import tensorflow as tf\n",
        "import numpy as np\n",
        "import seaborn as sns\n",
        "import pandas as pd\n",
        "\n",
        "def plot_confusion_matrix_x(labels,predictions,classes_name):\n",
        "  \"\"\"\n",
        "  example:\n",
        "  predictions=max_predict # np.argmax(y_predict, axis=-1)\n",
        "  labels=test_generator.classes\n",
        "  classes_name = artist_list\n",
        "  \"\"\"\n",
        "  con_mat = tf.math.confusion_matrix(labels=labels, predictions=np.argmax(predictions, axis=-1) ).numpy()\n",
        "  con_mat_norm = np.around(con_mat.astype('float') / con_mat.sum(axis=1)[:, np.newaxis], decimals=2)\n",
        "\n",
        "  con_mat_df = pd.DataFrame(con_mat_norm,index = classes_name,columns = classes_name)\n",
        "\n",
        "  figure = plt.figure(figsize=(8, 8))\n",
        "  sns.heatmap(con_mat_df, annot=True,cmap=plt.cm.Blues)\n",
        "  plt.tight_layout()\n",
        "  plt.ylabel('True label')\n",
        "  plt.xlabel('Predicted label')\n",
        "  plt.show()"
      ],
      "execution_count": 3,
      "outputs": []
    },
    {
      "cell_type": "code",
      "metadata": {
        "id": "gpRlpbfOiyT4"
      },
      "source": [
        "import glob\n",
        "data_format = '/*.jpg'\n",
        "\n",
        "def number_of_images_in_path(target_path,data_format):\n",
        "    print(target_path)\n",
        "    img_path_list = glob.glob(target_path + data_format)\n",
        "           \n",
        "    n = len(img_path_list)\n",
        "    print(f'Number of images: {n}\\n')\n",
        "\n"
      ],
      "execution_count": 4,
      "outputs": []
    },
    {
      "cell_type": "markdown",
      "metadata": {
        "id": "kH3AR4xPSEmA"
      },
      "source": [
        "#import data"
      ]
    },
    {
      "cell_type": "code",
      "metadata": {
        "colab": {
          "base_uri": "https://localhost:8080/"
        },
        "id": "TmyyUMLnSi1g",
        "outputId": "88dcc7d5-422e-4343-ec80-6c3f083d779b"
      },
      "source": [
        "# mount google drive to access dataset\n",
        "from google.colab import drive\n",
        "drive.mount('/content/drive')\n",
        "# change directory\n",
        "%cd /content/\n",
        "# create new local directory, i.e. on the current machine which you are connected to\n",
        "!mkdir local_data   # could also be another name than local_data"
      ],
      "execution_count": 5,
      "outputs": [
        {
          "output_type": "stream",
          "text": [
            "Mounted at /content/drive\n",
            "/content\n"
          ],
          "name": "stdout"
        }
      ]
    },
    {
      "cell_type": "code",
      "metadata": {
        "id": "tb8_z34gVCIC",
        "colab": {
          "base_uri": "https://localhost:8080/"
        },
        "outputId": "997142ce-d9be-4607-b747-432d63666830"
      },
      "source": [
        "!unzip '/content/drive/MyDrive/Copy_Material_AIDA_2021/_spec_ML3_wolfgang/Week_3/Fabritius.zip' -d local_data"
      ],
      "execution_count": 46,
      "outputs": [
        {
          "output_type": "stream",
          "text": [
            "Archive:  /content/drive/MyDrive/Copy_Material_AIDA_2021/_spec_ML3_wolfgang/Week_3/Fabritius.zip\n",
            "replace local_data/Fabritius/Fabritius-07b496b2-45df-bb00-1cf7-d3fb4c2d86bd.jpg? [y]es, [n]o, [A]ll, [N]one, [r]ename: N\n"
          ],
          "name": "stdout"
        }
      ]
    },
    {
      "cell_type": "code",
      "metadata": {
        "id": "p84dFikFSjdQ"
      },
      "source": [
        "!unzip '/content/drive/MyDrive/Copy_Material_AIDA_2021/_spec_ML3_wolfgang/Week_3/resized.zip' -d local_data"
      ],
      "execution_count": null,
      "outputs": []
    },
    {
      "cell_type": "code",
      "metadata": {
        "id": "JX6DnOghIOA-",
        "colab": {
          "base_uri": "https://localhost:8080/"
        },
        "outputId": "1dd57084-84e7-4c78-f59c-54858e5318a1"
      },
      "source": [
        "cd /content/"
      ],
      "execution_count": 8,
      "outputs": [
        {
          "output_type": "stream",
          "text": [
            "/content\n"
          ],
          "name": "stdout"
        }
      ]
    },
    {
      "cell_type": "code",
      "metadata": {
        "id": "2WjasAbeIgFp"
      },
      "source": [
        "#!mkdir training_set\n",
        "#!mkdir test_set"
      ],
      "execution_count": 9,
      "outputs": []
    },
    {
      "cell_type": "code",
      "metadata": {
        "id": "H9TtTuCyDEsV"
      },
      "source": [
        "#ls -l"
      ],
      "execution_count": 10,
      "outputs": []
    },
    {
      "cell_type": "code",
      "metadata": {
        "id": "xdq7mREmAp8U"
      },
      "source": [
        "#rm -r ./best_model_simple/"
      ],
      "execution_count": 11,
      "outputs": []
    },
    {
      "cell_type": "code",
      "metadata": {
        "id": "DsMG0mkI-97w"
      },
      "source": [
        "#/content/local_data/resized\n",
        "#data_path = 'C:/_dev/_aida/scientificProject/data/w_3/resized'\n",
        "data_path = '/content/local_data/resized'\n",
        "\n",
        "#/content/local_data/\n",
        "#main_target_path = 'C:\\\\_dev\\\\_aida\\\\scientificProject\\\\data\\\\w_3\\\\'\n",
        "main_target_path = '/content/local_data'\n",
        "\n",
        "\n",
        "all_subdir = 'data_set'\n",
        "train_subdir = 'train'\n",
        "val_subdir = 'valid'\n",
        "test_subdir = 'test'\n",
        "\n",
        "train_size = 0.7\n",
        "val_size = 0.15\n",
        "test_size = 0.15\n",
        "\n",
        "artist_list = ['Albrecht_Duerer','Caravaggio','Fabritius','Giotto_di_Bondone','Leonardo_da_Vinci','Michelangelo','Raphael','Rembrandt']\n",
        "#artist_list = ['Albrecht_Duerer','Caravaggio','Giotto_di_Bondone','Leonardo_da_Vinci','Michelangelo','Raphael','Rembrandt']\n",
        "data_format = '/*.jpg'\n"
      ],
      "execution_count": 41,
      "outputs": []
    },
    {
      "cell_type": "code",
      "metadata": {
        "id": "mWk5l6LUbo9I"
      },
      "source": [
        "artist_name_class_dict = { i : artist_list[i] for i in range(0, len(artist_list) ) }\n",
        "artist_class_name_dict = { artist_list[i] : i for i in range(0, len(artist_list) ) }"
      ],
      "execution_count": 42,
      "outputs": []
    },
    {
      "cell_type": "code",
      "metadata": {
        "colab": {
          "base_uri": "https://localhost:8080/"
        },
        "id": "HdsvdHRwcsBQ",
        "outputId": "5eb3720a-2841-49ae-ba11-668c032930ec"
      },
      "source": [
        "artist_class_name_dict"
      ],
      "execution_count": 43,
      "outputs": [
        {
          "output_type": "execute_result",
          "data": {
            "text/plain": [
              "{'Albrecht_Duerer': 0,\n",
              " 'Caravaggio': 1,\n",
              " 'Fabritius': 2,\n",
              " 'Giotto_di_Bondone': 3,\n",
              " 'Leonardo_da_Vinci': 4,\n",
              " 'Michelangelo': 5,\n",
              " 'Raphael': 6,\n",
              " 'Rembrandt': 7}"
            ]
          },
          "metadata": {
            "tags": []
          },
          "execution_count": 43
        }
      ]
    },
    {
      "cell_type": "markdown",
      "metadata": {
        "id": "li2dypJlVXOj"
      },
      "source": [
        "## import and organize images"
      ]
    },
    {
      "cell_type": "code",
      "metadata": {
        "collapsed": true,
        "id": "rTGgfOq3T1UG"
      },
      "source": [
        "for file_name in listdir(data_path):\n",
        "    #print(file_name)\n",
        "\n",
        "    #convert Albrecht_DuÔòá├¬rer\n",
        "    if file_name.startswith('Albrecht_DuтХа├кrer'):\n",
        "        new_file_name = file_name.replace('Albrecht_DuтХа├кrer','Albrecht_Duerer_x')\n",
        "    elif file_name.startswith('Albrecht_Du╠Иrer'):\n",
        "        new_file_name = file_name.replace('Albrecht_Du╠Иrer','Albrecht_Duerer_y')\n",
        "    else:\n",
        "        new_file_name = file_name\n",
        "\n",
        "    for artist_name in artist_list:\n",
        "        if new_file_name.startswith(artist_name):\n",
        "            filepath = os.path.join(data_path,file_name)\n",
        "            new_filepath = os.path.join(main_target_path,all_subdir,artist_name,new_file_name)\n",
        "\n",
        "            #check dir and create\n",
        "            if not os.path.exists(os.path.join(main_target_path,all_subdir,artist_name)):\n",
        "                os.makedirs(os.path.join(main_target_path,all_subdir,artist_name))\n",
        "            #move file\n",
        "            try:\n",
        "                os.rename(filepath, new_filepath)\n",
        "            except:\n",
        "                continue"
      ],
      "execution_count": 44,
      "outputs": []
    },
    {
      "cell_type": "code",
      "metadata": {
        "id": "Uz_ykjilXDyt"
      },
      "source": [
        "!mv /content/local_data/Fabritius /content/local_data/data_set"
      ],
      "execution_count": 47,
      "outputs": []
    },
    {
      "cell_type": "code",
      "metadata": {
        "colab": {
          "base_uri": "https://localhost:8080/"
        },
        "id": "_IgcL6FkS5uX",
        "outputId": "b83ff456-2387-48d5-88f1-9aee622effa8"
      },
      "source": [
        "for artist_name in artist_list:\n",
        "    number_of_images_in_path(os.path.join(os.sep,main_target_path,all_subdir,artist_name),data_format)"
      ],
      "execution_count": 48,
      "outputs": [
        {
          "output_type": "stream",
          "text": [
            "/content/local_data/data_set/Albrecht_Duerer\n",
            "Number of images: 656\n",
            "\n",
            "/content/local_data/data_set/Caravaggio\n",
            "Number of images: 55\n",
            "\n",
            "/content/local_data/data_set/Fabritius\n",
            "Number of images: 17\n",
            "\n",
            "/content/local_data/data_set/Giotto_di_Bondone\n",
            "Number of images: 119\n",
            "\n",
            "/content/local_data/data_set/Leonardo_da_Vinci\n",
            "Number of images: 143\n",
            "\n",
            "/content/local_data/data_set/Michelangelo\n",
            "Number of images: 49\n",
            "\n",
            "/content/local_data/data_set/Raphael\n",
            "Number of images: 109\n",
            "\n",
            "/content/local_data/data_set/Rembrandt\n",
            "Number of images: 262\n",
            "\n"
          ],
          "name": "stdout"
        }
      ]
    },
    {
      "cell_type": "code",
      "metadata": {
        "id": "9DrCCChkYONE"
      },
      "source": [
        ""
      ],
      "execution_count": 17,
      "outputs": []
    },
    {
      "cell_type": "markdown",
      "metadata": {
        "id": "7wyALTSQtE02"
      },
      "source": [
        "## orginze in train,test and validate"
      ]
    },
    {
      "cell_type": "code",
      "metadata": {
        "colab": {
          "base_uri": "https://localhost:8080/"
        },
        "id": "eExyPsTFGRX9",
        "outputId": "e22670dd-13c8-4523-d9a4-e578ee5dffab"
      },
      "source": [
        "from shutil import copyfile\n",
        "from sys import exit\n",
        "\n",
        "all_subdir = 'data_set'\n",
        "train_subdir = 'train'\n",
        "val_subdir = 'validation'\n",
        "test_subdir = 'test'\n",
        "\n",
        "train_size = 0.7\n",
        "val_size = 0.15\n",
        "test_size = 0.15\n",
        "\n",
        "def number_of_images_in_path(target_path,data_format):\n",
        "    print(target_path)\n",
        "    img_path_list = glob.glob(target_path + data_format)\n",
        "\n",
        "    n = len(img_path_list)\n",
        "    print(f'Number of images: {n}\\n')\n",
        "    return img_path_list\n",
        "\n",
        "def organize_by_copy_train_test_vaildation_dir(main_target_path,all_subdir,class_list,data_format,ml_subdir_list,train_size,test_size,validation_size):\n",
        "    \"\"\"\n",
        "    :param main_target_path:\n",
        "    :param all_subdir:\n",
        "    :param class_list:\n",
        "    :param data_format:\n",
        "    :param ml_subdir_list:\n",
        "    :param train_size:\n",
        "    :param test_size:\n",
        "    :param validation_size:\n",
        "    :return:\n",
        "    \"\"\"\n",
        "    assert(train_size+test_size+validation_size == 1)\n",
        "\n",
        "    for ml_subdir in ml_subdir_list:\n",
        "        if not os.path.exists(os.path.join(main_target_path, ml_subdir)):\n",
        "            os.makedirs(os.path.join(main_target_path, ml_subdir))\n",
        "\n",
        "    for class_name in class_list:\n",
        "        img_path_list =  number_of_images_in_path(os.path.join(os.sep,main_target_path,all_subdir,class_name),data_format)\n",
        "\n",
        "        #shuffle\n",
        "        np.random.shuffle(img_path_list)\n",
        "        #create class_dir\n",
        "        for ml_subdir in ml_subdir_list:\n",
        "            if not os.path.exists(os.path.join(main_target_path,ml_subdir,class_name)):\n",
        "                os.makedirs(os.path.join(main_target_path,ml_subdir,class_name))\n",
        "\n",
        "        #move images to class subdir\n",
        "        train_stop = int(len(img_path_list) * train_size)\n",
        "        validation_stop = train_stop + int(len(img_path_list) * validation_size)\n",
        "        test_stop = validation_stop + int(len(img_path_list) * test_size)\n",
        "\n",
        "        n = 0\n",
        "        for imp_path in img_path_list:\n",
        "            new_filepath = ''\n",
        "            if n <= train_stop:\n",
        "                new_filepath = os.path.join(main_target_path, ml_subdir_list[0], class_name, os.path.split(img_path_list[n])[-1])\n",
        "            elif n <= validation_stop:\n",
        "                new_filepath = os.path.join(main_target_path, ml_subdir_list[1], class_name, os.path.split(img_path_list[n])[-1])\n",
        "            elif n <= test_stop:\n",
        "                new_filepath = os.path.join(main_target_path, ml_subdir_list[2], class_name, os.path.split(img_path_list[n])[-1])\n",
        "\n",
        "            # copy file\n",
        "            source = img_path_list[n]\n",
        "            target = new_filepath\n",
        "\n",
        "            try:\n",
        "                copyfile(source, target)\n",
        "                n += 1\n",
        "            except IOError as e:\n",
        "                print(\"Unable to copy file. %s\" % e)\n",
        "                continue\n",
        "\n",
        "\n",
        "organize_by_copy_train_test_vaildation_dir(main_target_path=main_target_path,all_subdir=all_subdir,\n",
        "                                   class_list=artist_list,data_format=data_format,\n",
        "                                   ml_subdir_list=[train_subdir,val_subdir,test_subdir],\n",
        "                                   train_size=train_size,\n",
        "                                   validation_size=val_size,\n",
        "                                   test_size=test_size)"
      ],
      "execution_count": 49,
      "outputs": [
        {
          "output_type": "stream",
          "text": [
            "/content/local_data/data_set/Albrecht_Duerer\n",
            "Number of images: 656\n",
            "\n",
            "/content/local_data/data_set/Caravaggio\n",
            "Number of images: 55\n",
            "\n",
            "/content/local_data/data_set/Fabritius\n",
            "Number of images: 17\n",
            "\n",
            "Unable to copy file. [Errno 2] No such file or directory: ''\n",
            "/content/local_data/data_set/Giotto_di_Bondone\n",
            "Number of images: 119\n",
            "\n",
            "Unable to copy file. [Errno 2] No such file or directory: ''\n",
            "/content/local_data/data_set/Leonardo_da_Vinci\n",
            "Number of images: 143\n",
            "\n",
            "/content/local_data/data_set/Michelangelo\n",
            "Number of images: 49\n",
            "\n",
            "/content/local_data/data_set/Raphael\n",
            "Number of images: 109\n",
            "\n",
            "/content/local_data/data_set/Rembrandt\n",
            "Number of images: 262\n",
            "\n"
          ],
          "name": "stdout"
        }
      ]
    },
    {
      "cell_type": "markdown",
      "metadata": {
        "id": "EIi4VscBTspP"
      },
      "source": [
        "# begin with VGG16"
      ]
    },
    {
      "cell_type": "markdown",
      "metadata": {
        "id": "B_gnz_GrWqS7"
      },
      "source": [
        "Let's improve our painter classifier! It's always a good idea to look at how other people have tackled a problem. \n",
        "\n",
        "Here are some links: \n",
        "\n",
        "http://cs231n.stanford.edu/reports/2017/pdfs/406.pdf\n",
        "\n",
        "http://cs231n.stanford.edu/reports/2017/pdfs/410.pdf\n",
        "\n",
        "\n",
        "\n",
        "\n"
      ]
    },
    {
      "cell_type": "markdown",
      "metadata": {
        "id": "IzGXys_2MsQW"
      },
      "source": [
        "https://github.com/keras-team/keras/issues/3338"
      ]
    },
    {
      "cell_type": "markdown",
      "metadata": {
        "id": "xuN8qAGxkLjf"
      },
      "source": [
        "##1 add Carel Fabritius"
      ]
    },
    {
      "cell_type": "markdown",
      "metadata": {
        "id": "zdZ0TmKcXbE2"
      },
      "source": [
        "I also want you to implement another painter into your dataset - Carel Fabritius, a scolar of Rembrandt. The reason is, that there are only 17 paintings of Fabritius left. Let's (along with other things) see how our model performs on such a small class. "
      ]
    },
    {
      "cell_type": "code",
      "metadata": {
        "id": "gspL2Uv9oalF"
      },
      "source": [
        "in_shape = (224,224,3)"
      ],
      "execution_count": 50,
      "outputs": []
    },
    {
      "cell_type": "code",
      "metadata": {
        "id": "qxrRVeUduioZ"
      },
      "source": [
        "train_gen = ImageDataGenerator(rescale=1./255.)\n",
        "validation_gen = ImageDataGenerator(rescale=1./255.)\n",
        "test_gen = ImageDataGenerator(rescale=1./255.)"
      ],
      "execution_count": 51,
      "outputs": []
    },
    {
      "cell_type": "code",
      "metadata": {
        "colab": {
          "base_uri": "https://localhost:8080/"
        },
        "id": "ZnHlpXh3uioZ",
        "outputId": "745a6efa-c5f2-4cee-ffca-efaa91730bda"
      },
      "source": [
        "train_generator = train_gen.flow_from_directory(directory=\"/content/local_data/train\",target_size=(224,224),batch_size=16,shuffle=True,seed=42)\n",
        "valid_generator = validation_gen.flow_from_directory(directory=\"/content/local_data/validation\",target_size=(224,224),batch_size=16,shuffle=False,seed=42)\n",
        "test_generator = test_gen.flow_from_directory(directory=\"/content/local_data/test\", target_size=(224,224),batch_size=16,shuffle=False,seed=42)"
      ],
      "execution_count": 52,
      "outputs": [
        {
          "output_type": "stream",
          "text": [
            "Found 1286 images belonging to 8 classes.\n",
            "Found 385 images belonging to 8 classes.\n",
            "Found 388 images belonging to 8 classes.\n"
          ],
          "name": "stdout"
        }
      ]
    },
    {
      "cell_type": "code",
      "metadata": {
        "id": "2bg4pgzim7oa"
      },
      "source": [
        "import tensorflow. keras as keras\n",
        "vgg16_model = keras.applications.VGG16()"
      ],
      "execution_count": 56,
      "outputs": []
    },
    {
      "cell_type": "code",
      "metadata": {
        "id": "It7uNgWkm8n6"
      },
      "source": [
        "vgg16_model = keras.applications.vgg16.VGG16(\n",
        "  weights='imagenet',\n",
        "  include_top=False,\n",
        "  input_shape=in_shape)\n",
        "\n",
        "# freeze the weights\n",
        "vgg16_model.trainable = False"
      ],
      "execution_count": 57,
      "outputs": []
    },
    {
      "cell_type": "code",
      "metadata": {
        "id": "eAQjvPS2rDLL"
      },
      "source": [
        "model_vgg16_c = Sequential()\n",
        "for layer in vgg16_model.layers:\n",
        "  model_vgg16_c.add(layer)"
      ],
      "execution_count": 58,
      "outputs": []
    },
    {
      "cell_type": "code",
      "metadata": {
        "id": "H61hEu0NV1zL"
      },
      "source": [
        "for layer in model_vgg16_c.layers:\n",
        "  layer.trainable = False"
      ],
      "execution_count": 59,
      "outputs": []
    },
    {
      "cell_type": "code",
      "metadata": {
        "id": "8o48KUYZJuf-",
        "colab": {
          "base_uri": "https://localhost:8080/"
        },
        "outputId": "ee1fa776-9a2c-4a5c-9ef6-bb25dfea2199"
      },
      "source": [
        "model_vgg16_c.add(Flatten())\n",
        "model_vgg16_c.add(Dense(256,activation='relu'))\n",
        "model_vgg16_c.add(Dropout(0.5))\n",
        "model_vgg16_c.add(Dense(8,activation='softmax'))\n",
        "model_vgg16_c.summary()"
      ],
      "execution_count": 64,
      "outputs": [
        {
          "output_type": "stream",
          "text": [
            "Model: \"sequential_1\"\n",
            "_________________________________________________________________\n",
            "Layer (type)                 Output Shape              Param #   \n",
            "=================================================================\n",
            "block1_conv1 (Conv2D)        (None, 224, 224, 64)      1792      \n",
            "_________________________________________________________________\n",
            "block1_conv2 (Conv2D)        (None, 224, 224, 64)      36928     \n",
            "_________________________________________________________________\n",
            "block1_pool (MaxPooling2D)   (None, 112, 112, 64)      0         \n",
            "_________________________________________________________________\n",
            "block2_conv1 (Conv2D)        (None, 112, 112, 128)     73856     \n",
            "_________________________________________________________________\n",
            "block2_conv2 (Conv2D)        (None, 112, 112, 128)     147584    \n",
            "_________________________________________________________________\n",
            "block2_pool (MaxPooling2D)   (None, 56, 56, 128)       0         \n",
            "_________________________________________________________________\n",
            "block3_conv1 (Conv2D)        (None, 56, 56, 256)       295168    \n",
            "_________________________________________________________________\n",
            "block3_conv2 (Conv2D)        (None, 56, 56, 256)       590080    \n",
            "_________________________________________________________________\n",
            "block3_conv3 (Conv2D)        (None, 56, 56, 256)       590080    \n",
            "_________________________________________________________________\n",
            "block3_pool (MaxPooling2D)   (None, 28, 28, 256)       0         \n",
            "_________________________________________________________________\n",
            "block4_conv1 (Conv2D)        (None, 28, 28, 512)       1180160   \n",
            "_________________________________________________________________\n",
            "block4_conv2 (Conv2D)        (None, 28, 28, 512)       2359808   \n",
            "_________________________________________________________________\n",
            "block4_conv3 (Conv2D)        (None, 28, 28, 512)       2359808   \n",
            "_________________________________________________________________\n",
            "block4_pool (MaxPooling2D)   (None, 14, 14, 512)       0         \n",
            "_________________________________________________________________\n",
            "block5_conv1 (Conv2D)        (None, 14, 14, 512)       2359808   \n",
            "_________________________________________________________________\n",
            "block5_conv2 (Conv2D)        (None, 14, 14, 512)       2359808   \n",
            "_________________________________________________________________\n",
            "block5_conv3 (Conv2D)        (None, 14, 14, 512)       2359808   \n",
            "_________________________________________________________________\n",
            "block5_pool (MaxPooling2D)   (None, 7, 7, 512)         0         \n",
            "_________________________________________________________________\n",
            "flatten_1 (Flatten)          (None, 25088)             0         \n",
            "_________________________________________________________________\n",
            "dense_2 (Dense)              (None, 256)               6422784   \n",
            "_________________________________________________________________\n",
            "dropout_1 (Dropout)          (None, 256)               0         \n",
            "_________________________________________________________________\n",
            "dense_3 (Dense)              (None, 7)                 1799      \n",
            "_________________________________________________________________\n",
            "flatten_2 (Flatten)          (None, 7)                 0         \n",
            "_________________________________________________________________\n",
            "dense_4 (Dense)              (None, 256)               2048      \n",
            "_________________________________________________________________\n",
            "dropout_2 (Dropout)          (None, 256)               0         \n",
            "_________________________________________________________________\n",
            "dense_5 (Dense)              (None, 8)                 2056      \n",
            "=================================================================\n",
            "Total params: 21,143,375\n",
            "Trainable params: 6,428,687\n",
            "Non-trainable params: 14,714,688\n",
            "_________________________________________________________________\n"
          ],
          "name": "stdout"
        }
      ]
    },
    {
      "cell_type": "code",
      "metadata": {
        "id": "C04J2BxppvOU"
      },
      "source": [
        "\"\"\"\n",
        "TODO use api\n",
        "\n",
        "# Top Model input todo\n",
        "a = Input(shape=(7,7,2048))\n",
        "x = Flatten()(x)\n",
        "x = Dense(1024,activation='relu')(x)\n",
        "x = Dropout(0.5)(x)\n",
        "x = Dense(1024,activation='softmax')(x)\n",
        "\n",
        "top_model = Model(inputs=a, outputs=x)\n",
        "\n",
        "#top_model.summary()\n",
        "\n",
        "inp = Input(shape=in_shape)\n",
        "y = vgg16_model(inp)\n",
        "y = top_model(y)\n",
        "final_model = Model(inp,y)\n",
        "\n",
        "final_model.summary()\n",
        "\n",
        "\"\"\"\n"
      ],
      "execution_count": null,
      "outputs": []
    },
    {
      "cell_type": "code",
      "metadata": {
        "id": "ZVXhHeZonJHa"
      },
      "source": [
        "model_vgg16_c.compile(optimizer=Adam(lr=0.0001),loss='categorical_crossentropy',metrics='accuracy') "
      ],
      "execution_count": 65,
      "outputs": []
    },
    {
      "cell_type": "code",
      "metadata": {
        "id": "Nrd_sOZGnLsT"
      },
      "source": [
        "mcp_2 = ModelCheckpoint('keras_applications_VGG16', monitor='val_accuracy', save_best_only=True, save_weights_only=False, verbose=1)"
      ],
      "execution_count": 66,
      "outputs": []
    },
    {
      "cell_type": "code",
      "metadata": {
        "colab": {
          "base_uri": "https://localhost:8080/"
        },
        "id": "GdGBTK6unOiS",
        "outputId": "98facc0f-7ab9-4b33-aaa7-5e7969419ed2"
      },
      "source": [
        "history_model_vgg16_c = model_vgg16_c.fit(train_generator,validation_data = valid_generator,epochs=15,callbacks=[mcp_2])    "
      ],
      "execution_count": 74,
      "outputs": [
        {
          "output_type": "stream",
          "text": [
            "Epoch 1/15\n",
            "81/81 [==============================] - 13s 166ms/step - loss: 0.9519 - accuracy: 0.7278 - val_loss: 0.8905 - val_accuracy: 0.7429\n",
            "\n",
            "Epoch 00001: val_accuracy improved from 0.74026 to 0.74286, saving model to keras_applications_VGG16\n",
            "INFO:tensorflow:Assets written to: keras_applications_VGG16/assets\n",
            "Epoch 2/15\n",
            "81/81 [==============================] - 13s 164ms/step - loss: 0.9277 - accuracy: 0.7286 - val_loss: 0.8576 - val_accuracy: 0.7429\n",
            "\n",
            "Epoch 00002: val_accuracy did not improve from 0.74286\n",
            "Epoch 3/15\n",
            "81/81 [==============================] - 13s 164ms/step - loss: 0.8932 - accuracy: 0.7325 - val_loss: 0.8406 - val_accuracy: 0.7403\n",
            "\n",
            "Epoch 00003: val_accuracy did not improve from 0.74286\n",
            "Epoch 4/15\n",
            "81/81 [==============================] - 13s 162ms/step - loss: 0.8675 - accuracy: 0.7333 - val_loss: 0.8167 - val_accuracy: 0.7429\n",
            "\n",
            "Epoch 00004: val_accuracy did not improve from 0.74286\n",
            "Epoch 5/15\n",
            "81/81 [==============================] - 13s 162ms/step - loss: 0.8575 - accuracy: 0.7309 - val_loss: 0.7847 - val_accuracy: 0.7403\n",
            "\n",
            "Epoch 00005: val_accuracy did not improve from 0.74286\n",
            "Epoch 6/15\n",
            "81/81 [==============================] - 13s 164ms/step - loss: 0.8280 - accuracy: 0.7317 - val_loss: 0.7727 - val_accuracy: 0.7377\n",
            "\n",
            "Epoch 00006: val_accuracy did not improve from 0.74286\n",
            "Epoch 7/15\n",
            "81/81 [==============================] - 13s 163ms/step - loss: 0.8043 - accuracy: 0.7333 - val_loss: 0.7466 - val_accuracy: 0.7377\n",
            "\n",
            "Epoch 00007: val_accuracy did not improve from 0.74286\n",
            "Epoch 8/15\n",
            "81/81 [==============================] - 13s 163ms/step - loss: 0.7824 - accuracy: 0.7341 - val_loss: 0.7265 - val_accuracy: 0.7377\n",
            "\n",
            "Epoch 00008: val_accuracy did not improve from 0.74286\n",
            "Epoch 9/15\n",
            "81/81 [==============================] - 13s 162ms/step - loss: 0.7491 - accuracy: 0.7372 - val_loss: 0.7104 - val_accuracy: 0.7403\n",
            "\n",
            "Epoch 00009: val_accuracy did not improve from 0.74286\n",
            "Epoch 10/15\n",
            "81/81 [==============================] - 14s 167ms/step - loss: 0.7335 - accuracy: 0.7426 - val_loss: 0.6909 - val_accuracy: 0.7429\n",
            "\n",
            "Epoch 00010: val_accuracy did not improve from 0.74286\n",
            "Epoch 11/15\n",
            "81/81 [==============================] - 13s 164ms/step - loss: 0.7112 - accuracy: 0.7589 - val_loss: 0.6814 - val_accuracy: 0.7506\n",
            "\n",
            "Epoch 00011: val_accuracy improved from 0.74286 to 0.75065, saving model to keras_applications_VGG16\n",
            "INFO:tensorflow:Assets written to: keras_applications_VGG16/assets\n",
            "Epoch 12/15\n",
            "81/81 [==============================] - 13s 164ms/step - loss: 0.6841 - accuracy: 0.7675 - val_loss: 0.6412 - val_accuracy: 0.7818\n",
            "\n",
            "Epoch 00012: val_accuracy improved from 0.75065 to 0.78182, saving model to keras_applications_VGG16\n",
            "INFO:tensorflow:Assets written to: keras_applications_VGG16/assets\n",
            "Epoch 13/15\n",
            "81/81 [==============================] - 13s 164ms/step - loss: 0.6772 - accuracy: 0.7745 - val_loss: 0.6346 - val_accuracy: 0.7740\n",
            "\n",
            "Epoch 00013: val_accuracy did not improve from 0.78182\n",
            "Epoch 14/15\n",
            "81/81 [==============================] - 13s 163ms/step - loss: 0.6468 - accuracy: 0.7932 - val_loss: 0.6063 - val_accuracy: 0.8052\n",
            "\n",
            "Epoch 00014: val_accuracy improved from 0.78182 to 0.80519, saving model to keras_applications_VGG16\n",
            "INFO:tensorflow:Assets written to: keras_applications_VGG16/assets\n",
            "Epoch 15/15\n",
            "81/81 [==============================] - 13s 163ms/step - loss: 0.6121 - accuracy: 0.8033 - val_loss: 0.5950 - val_accuracy: 0.8078\n",
            "\n",
            "Epoch 00015: val_accuracy improved from 0.80519 to 0.80779, saving model to keras_applications_VGG16\n",
            "INFO:tensorflow:Assets written to: keras_applications_VGG16/assets\n"
          ],
          "name": "stdout"
        }
      ]
    },
    {
      "cell_type": "code",
      "metadata": {
        "colab": {
          "base_uri": "https://localhost:8080/",
          "height": 336
        },
        "id": "AWg4cUI-nSDz",
        "outputId": "434641ea-f5ed-4433-ef49-a0af21005611"
      },
      "source": [
        "history_plot_from_loss_acc(history_model_vgg16_c,'keras.applications.VGG16')"
      ],
      "execution_count": 75,
      "outputs": [
        {
          "output_type": "display_data",
          "data": {
            "image/png": "[encoded data removed]",
            "text/plain": [
              "<Figure size 720x360 with 2 Axes>"
            ]
          },
          "metadata": {
            "tags": [],
            "needs_background": "light"
          }
        }
      ]
    },
    {
      "cell_type": "code",
      "metadata": {
        "id": "dO6HDo_2nWt7"
      },
      "source": [
        "best_keras_applications_VGG16_model = load_model('keras_applications_VGG16')"
      ],
      "execution_count": 69,
      "outputs": []
    },
    {
      "cell_type": "markdown",
      "metadata": {
        "id": "TPNRvxMu7HyR"
      },
      "source": [
        "#### result"
      ]
    },
    {
      "cell_type": "code",
      "metadata": {
        "id": "evOsK8Z6Kkki",
        "colab": {
          "base_uri": "https://localhost:8080/"
        },
        "outputId": "34175ef8-7f8f-4f2c-8490-577e6bdbe937"
      },
      "source": [
        "y_eval = best_keras_applications_VGG16_model.evaluate(test_generator)"
      ],
      "execution_count": 70,
      "outputs": [
        {
          "output_type": "stream",
          "text": [
            "25/25 [==============================] - 3s 126ms/step - loss: 0.9651 - accuracy: 0.7371\n"
          ],
          "name": "stdout"
        }
      ]
    },
    {
      "cell_type": "code",
      "metadata": {
        "id": "PzGyvIbk0Iob"
      },
      "source": [
        "y_predict_vgg16_model = best_keras_applications_VGG16_model.predict(test_generator)"
      ],
      "execution_count": 71,
      "outputs": []
    },
    {
      "cell_type": "code",
      "metadata": {
        "id": "3QizXC250Iod",
        "colab": {
          "base_uri": "https://localhost:8080/",
          "height": 599
        },
        "outputId": "6c77fcb6-363a-41c5-8cbb-6f04a0097776"
      },
      "source": [
        "plot_confusion_matrix_x(test_generator.classes,y_predict_vgg16_model,artist_list)"
      ],
      "execution_count": 72,
      "outputs": [
        {
          "output_type": "display_data",
          "data": {
            "image/png": "[encoded data removed]",
            "text/plain": [
              "<Figure size 576x576 with 2 Axes>"
            ]
          },
          "metadata": {
            "tags": [],
            "needs_background": "light"
          }
        }
      ]
    },
    {
      "cell_type": "code",
      "metadata": {
        "id": "xjTu8H6h0Iod",
        "colab": {
          "base_uri": "https://localhost:8080/",
          "height": 288
        },
        "outputId": "f088aeba-f2bc-4de5-9be0-8784705f35db"
      },
      "source": [
        "create_result_df(y_predict_vgg16_model,test_generator)"
      ],
      "execution_count": 73,
      "outputs": [
        {
          "output_type": "execute_result",
          "data": {
            "text/html": [
              "<div>\n",
              "<style scoped>\n",
              "    .dataframe tbody tr th:only-of-type {\n",
              "        vertical-align: middle;\n",
              "    }\n",
              "\n",
              "    .dataframe tbody tr th {\n",
              "        vertical-align: top;\n",
              "    }\n",
              "\n",
              "    .dataframe thead th {\n",
              "        text-align: right;\n",
              "    }\n",
              "</style>\n",
              "<table border=\"1\" class=\"dataframe\">\n",
              "  <thead>\n",
              "    <tr style=\"text-align: right;\">\n",
              "      <th></th>\n",
              "      <th>class_x</th>\n",
              "      <th>class_sum</th>\n",
              "      <th>test_sum</th>\n",
              "      <th>percent_all</th>\n",
              "      <th>percent_test</th>\n",
              "    </tr>\n",
              "  </thead>\n",
              "  <tbody>\n",
              "    <tr>\n",
              "      <th>0</th>\n",
              "      <td>Albrecht_Duerer</td>\n",
              "      <td>184</td>\n",
              "      <td>184</td>\n",
              "      <td>47.422680</td>\n",
              "      <td>100.000000</td>\n",
              "    </tr>\n",
              "    <tr>\n",
              "      <th>1</th>\n",
              "      <td>Caravaggio</td>\n",
              "      <td>16</td>\n",
              "      <td>0</td>\n",
              "      <td>4.123711</td>\n",
              "      <td>0.000000</td>\n",
              "    </tr>\n",
              "    <tr>\n",
              "      <th>2</th>\n",
              "      <td>Fabritius</td>\n",
              "      <td>2</td>\n",
              "      <td>0</td>\n",
              "      <td>0.515464</td>\n",
              "      <td>0.000000</td>\n",
              "    </tr>\n",
              "    <tr>\n",
              "      <th>3</th>\n",
              "      <td>Giotto_di_Bondone</td>\n",
              "      <td>32</td>\n",
              "      <td>32</td>\n",
              "      <td>8.247423</td>\n",
              "      <td>100.000000</td>\n",
              "    </tr>\n",
              "    <tr>\n",
              "      <th>4</th>\n",
              "      <td>Leonardo_da_Vinci</td>\n",
              "      <td>40</td>\n",
              "      <td>0</td>\n",
              "      <td>10.309278</td>\n",
              "      <td>0.000000</td>\n",
              "    </tr>\n",
              "    <tr>\n",
              "      <th>5</th>\n",
              "      <td>Michelangelo</td>\n",
              "      <td>13</td>\n",
              "      <td>0</td>\n",
              "      <td>3.350515</td>\n",
              "      <td>0.000000</td>\n",
              "    </tr>\n",
              "    <tr>\n",
              "      <th>6</th>\n",
              "      <td>Raphael</td>\n",
              "      <td>30</td>\n",
              "      <td>0</td>\n",
              "      <td>7.731959</td>\n",
              "      <td>0.000000</td>\n",
              "    </tr>\n",
              "    <tr>\n",
              "      <th>7</th>\n",
              "      <td>Rembrandt</td>\n",
              "      <td>71</td>\n",
              "      <td>70</td>\n",
              "      <td>18.298969</td>\n",
              "      <td>98.591549</td>\n",
              "    </tr>\n",
              "  </tbody>\n",
              "</table>\n",
              "</div>"
            ],
            "text/plain": [
              "             class_x  class_sum  test_sum  percent_all  percent_test\n",
              "0    Albrecht_Duerer        184       184    47.422680    100.000000\n",
              "1         Caravaggio         16         0     4.123711      0.000000\n",
              "2          Fabritius          2         0     0.515464      0.000000\n",
              "3  Giotto_di_Bondone         32        32     8.247423    100.000000\n",
              "4  Leonardo_da_Vinci         40         0    10.309278      0.000000\n",
              "5       Michelangelo         13         0     3.350515      0.000000\n",
              "6            Raphael         30         0     7.731959      0.000000\n",
              "7          Rembrandt         71        70    18.298969     98.591549"
            ]
          },
          "metadata": {
            "tags": []
          },
          "execution_count": 73
        }
      ]
    },
    {
      "cell_type": "markdown",
      "metadata": {
        "id": "UTm4G8twkSCe"
      },
      "source": [
        "##2 use only crop samples"
      ]
    },
    {
      "cell_type": "markdown",
      "metadata": {
        "id": "uSZyHiOTYw_T"
      },
      "source": [
        "Now restructure your dataset so that you can implement Nitin Vishwanathans approach: Take one center crop and one random crop of each image. To do so, you need to write two functions, one to get a center crop of your image dimensions and one to get a random crop. "
      ]
    },
    {
      "cell_type": "markdown",
      "metadata": {
        "id": "O-kXKcBHkKrf"
      },
      "source": [
        "### crop"
      ]
    },
    {
      "cell_type": "markdown",
      "metadata": {
        "id": "_wdbLGHEHD0V"
      },
      "source": [
        " inspired from"
      ]
    },
    {
      "cell_type": "markdown",
      "metadata": {
        "id": "HRzFCImF1lth"
      },
      "source": [
        "https://jkjung-avt.github.io/keras-image-cropping/"
      ]
    },
    {
      "cell_type": "markdown",
      "metadata": {
        "id": "8qGLsfnPnta1"
      },
      "source": [
        "https://gist.github.com/rstml/bbd491287efc24133b90d4f7f3663905"
      ]
    },
    {
      "cell_type": "code",
      "metadata": {
        "id": "ySaAqrQxnUyB"
      },
      "source": [
        "\"\"\"\n",
        "width, height = img.size\n",
        "\n",
        "            if crop == \"center\":\n",
        "                left_corner = int(round(width/2)) - int(round(target_width/2))\n",
        "                top_corner = int(round(height/2)) - int(round(target_height/2))\n",
        "                return img.crop((left_corner, top_corner, left_corner + target_width, top_corner + target_height))\n",
        "            elif crop == \"random\":\n",
        "                left_shift = random.randint(0, int((width - target_width)))\n",
        "                down_shift = random.randint(0, int((height - target_height)))\n",
        "                return img.crop((left_shift, down_shift, target_width + left_shift, target_height + down_shift))\n",
        "\n",
        "def get_center_crop():\n",
        "  target_width = target_size[1]\n",
        "  target_height = target_size[0]\n",
        "  left_corner = int(round(width/2)) - int(round(target_width/2))\n",
        "  top_corner = int(round(height/2)) - int(round(target_height/2))\n",
        "  return img.crop((left_corner, top_corner, left_corner + target_width, top_corner + target_height))                \n",
        "\"\"\"                "
      ],
      "execution_count": null,
      "outputs": []
    },
    {
      "cell_type": "code",
      "metadata": {
        "id": "GluScz3Nh2L7"
      },
      "source": [
        "def get_center_crop(img):\n",
        "  #target_size=(224,224)\n",
        "  #crop_size=(224,224)\n",
        "  #dy, dx = crop_size\n",
        "  dy = 224\n",
        "  dx = 224\n",
        "\n",
        "  height, width = img.shape[0], img.shape[1]\n",
        "  print(f\"img.shape{height,width}\")\n",
        "  \n",
        "  x = (width - dx + 1) // 2\n",
        "  y = (height - dy + 1) // 2\n",
        "  return img[y:(y+dy), x:(x+dx), :]"
      ],
      "execution_count": null,
      "outputs": []
    },
    {
      "cell_type": "code",
      "metadata": {
        "id": "YeZw0-BdnqMJ"
      },
      "source": [
        "def get_random_crop(img):\n",
        "# Note: image_data_format is 'channel_last'\n",
        " assert img.shape[2] == 3\n",
        " height, width = img.shape[0], img.shape[1]\n",
        " #dy, dx = random_crop_size\n",
        " dy = 224\n",
        " dx = 224\n",
        " x = np.random.randint(0, width - dx + 1)\n",
        " y = np.random.randint(0, height - dy + 1)\n",
        " return img[y:(y+dy), x:(x+dx), :]"
      ],
      "execution_count": null,
      "outputs": []
    },
    {
      "cell_type": "code",
      "metadata": {
        "id": "8JFHDHKvZJ6g"
      },
      "source": [
        ""
      ],
      "execution_count": null,
      "outputs": []
    },
    {
      "cell_type": "code",
      "metadata": {
        "id": "rGYrzPaHYu0o"
      },
      "source": [
        "def get_random_crop()"
      ],
      "execution_count": null,
      "outputs": []
    },
    {
      "cell_type": "code",
      "metadata": {
        "id": "yg46GTf7ZVE8"
      },
      "source": [
        "# Restructure your data set. "
      ],
      "execution_count": null,
      "outputs": []
    },
    {
      "cell_type": "code",
      "metadata": {
        "id": "bdzeyBA2CtHo"
      },
      "source": [
        "def random_crop(img, random_crop_size):\n",
        "    # Note: image_data_format is 'channel_last'\n",
        "    assert img.shape[2] == 3\n",
        "    height, width = img.shape[0], img.shape[1]\n",
        "    dy, dx = random_crop_size\n",
        "    x = np.random.randint(0, width - dx + 1)\n",
        "    y = np.random.randint(0, height - dy + 1)\n",
        "    return img[y:(y+dy), x:(x+dx), :]\n",
        "\n",
        "\n",
        "def crop_generator(batches, crop_length):\n",
        "    \"\"\"Take as input a Keras ImageGen (Iterator) and generate random\n",
        "    crops from the image batches generated by the original iterator.\n",
        "    \"\"\"\n",
        "    while True:\n",
        "        batch_x, batch_y = next(batches)\n",
        "        batch_crops = np.zeros((batch_x.shape[0], crop_length, crop_length, 3))\n",
        "        for i in range(batch_x.shape[0]):\n",
        "            batch_crops[i] = random_crop(batch_x[i], (crop_length, crop_length))\n",
        "        yield (batch_crops, batch_y)"
      ],
      "execution_count": null,
      "outputs": []
    },
    {
      "cell_type": "code",
      "metadata": {
        "id": "YN5JliA-CusR"
      },
      "source": [
        "def center_crop(x, center_crop_size, **kwargs):\n",
        "    centerw, centerh = x.shape[1]//2, x.shape[2]//2\n",
        "    halfw, halfh = center_crop_size[0]//2, center_crop_size[1]//2\n",
        "    return x[:, centerw-halfw:centerw+halfw,centerh-halfh:centerh+halfh]"
      ],
      "execution_count": null,
      "outputs": []
    },
    {
      "cell_type": "code",
      "metadata": {
        "id": "VDhOC2tDK8F9"
      },
      "source": [
        "train_gen = ImageDataGenerator(rescale=1./255.)\n",
        "validation_gen = ImageDataGenerator(rescale=1./255.)\n",
        "test_gen = ImageDataGenerator(rescale=1./255.)"
      ],
      "execution_count": null,
      "outputs": []
    },
    {
      "cell_type": "code",
      "metadata": {
        "id": "A7Iw6M5bNMGJ"
      },
      "source": [
        "#train_gen.config['center_crop_size'] = (224, 224)"
      ],
      "execution_count": null,
      "outputs": []
    },
    {
      "cell_type": "code",
      "metadata": {
        "id": "UgtBF4MENZbq"
      },
      "source": [
        "#datagenX.set_pipeline([random_crop, random_transform, standardize, center_crop])"
      ],
      "execution_count": null,
      "outputs": []
    },
    {
      "cell_type": "markdown",
      "metadata": {
        "id": "jYqwWZMTZYzV"
      },
      "source": [
        "NOTE: you would not necessarily need to restructure the data set - if you wrote a custom data_generator who does the cropping for you. And check whether keras has this under the hood. But you might be unlucky..."
      ]
    },
    {
      "cell_type": "code",
      "metadata": {
        "id": "-_yUwUUQZuth"
      },
      "source": [
        ""
      ],
      "execution_count": null,
      "outputs": []
    },
    {
      "cell_type": "code",
      "metadata": {
        "id": "nz9FTCoVQiTw"
      },
      "source": [
        ""
      ],
      "execution_count": null,
      "outputs": []
    },
    {
      "cell_type": "markdown",
      "metadata": {
        "id": "rxORuOKbBfO3"
      },
      "source": [
        "### crop Data Augmentation (look at what keras has under the hood)"
      ]
    },
    {
      "cell_type": "code",
      "metadata": {
        "id": "z4KLHZUvQ6sA"
      },
      "source": [
        "train_gen = ImageDataGenerator(rescale=1./255,\n",
        "        shear_range=0.2,\n",
        "        zoom_range=0.2,\n",
        "        brightness_range = (0.7, 1.3),\n",
        "        horizontal_flip=True,\n",
        "        vertical_flip=True,\n",
        "        preprocessing_function=get_center_crop,\n",
        "        rotation_range=359)\n"
      ],
      "execution_count": null,
      "outputs": []
    },
    {
      "cell_type": "code",
      "metadata": {
        "id": "_qG3EKFjDcBy"
      },
      "source": [
        "train_generator = train_gen.flow_from_directory(directory=\"/content/local_data/train\",batch_size=16,shuffle=True,seed=42)\n",
        "#train_generator = train_gen.flow_from_directory(directory=\"/content/local_data/train\",target_size=(224,224),batch_size=16,shuffle=True,seed=42)"
      ],
      "execution_count": null,
      "outputs": []
    },
    {
      "cell_type": "code",
      "metadata": {
        "id": "UBzSXgQ2XaGs"
      },
      "source": [
        "next_gen = train_generator.next()\n",
        "type(next_gen)"
      ],
      "execution_count": null,
      "outputs": []
    },
    {
      "cell_type": "code",
      "metadata": {
        "id": "qEKH1uCaXoFR"
      },
      "source": [
        "type(next_gen)"
      ],
      "execution_count": null,
      "outputs": []
    },
    {
      "cell_type": "code",
      "metadata": {
        "id": "zLj5p28EkweH"
      },
      "source": [
        "#train_generator = train_gen.flow_from_directory(directory=\"/content/local_data/train\",target_size=(224,224),batch_size=16,shuffle=True,seed=42)\n",
        "valid_generator = validation_gen.flow_from_directory(directory=\"/content/local_data/validation\",target_size=(224,224),batch_size=16,shuffle=False,seed=42)\n",
        "test_generator = test_gen.flow_from_directory(directory=\"/content/local_data/test\", target_size=(224,224),batch_size=16,shuffle=False,seed=42)"
      ],
      "execution_count": null,
      "outputs": []
    },
    {
      "cell_type": "code",
      "metadata": {
        "id": "8DRqvBEuIJ86"
      },
      "source": [
        ""
      ],
      "execution_count": null,
      "outputs": []
    },
    {
      "cell_type": "code",
      "metadata": {
        "id": "Szv5eSqFpwTX"
      },
      "source": [
        "in_shape = (224,224,3)"
      ],
      "execution_count": null,
      "outputs": []
    },
    {
      "cell_type": "code",
      "metadata": {
        "id": "B2zkw36bpm7Q"
      },
      "source": [
        "learning_rate = 0.0001\n",
        "dec_rate = 0 #1/4353 * 0.2 \n",
        "optim = Adam(lr=learning_rate, decay=dec_rate)\n",
        "\n",
        "model = Sequential()\n",
        "model.add(Conv2D(32, (3,3), padding='valid',activation='relu', input_shape=in_shape))\n",
        "model.add(MaxPooling2D())\n",
        "model.add(Conv2D(64,(3,3), padding='valid',activation='relu'))\n",
        "model.add(MaxPooling2D())\n",
        "model.add(Conv2D(128,(3,3), padding='valid',activation='relu'))\n",
        "model.add(Flatten())\n",
        "model.add(Dense(64,activation='relu'))\n",
        "model.add(Dense(7,activation='softmax'))\n",
        "model.summary()"
      ],
      "execution_count": null,
      "outputs": []
    },
    {
      "cell_type": "code",
      "metadata": {
        "id": "7ZcdoJlGta5Q"
      },
      "source": [
        "model.compile(optimizer=Adam(lr=0.0001),loss='categorical_crossentropy',metrics='accuracy') "
      ],
      "execution_count": null,
      "outputs": []
    },
    {
      "cell_type": "code",
      "metadata": {
        "id": "ZtrSD5Mir6kn"
      },
      "source": [
        "mcp_1 = ModelCheckpoint('best_model_simple', monitor='val_accuracy', save_best_only=True, save_weights_only=False, verbose=1)\n",
        "early = EarlyStopping(monitor='val_accuracy', min_delta=0, patience=5, verbose=1, mode='auto', restore_best_weights=True)"
      ],
      "execution_count": null,
      "outputs": []
    },
    {
      "cell_type": "code",
      "metadata": {
        "id": "JzCF-ZiEsFbG"
      },
      "source": [
        "history_model = model.fit(train_generator,validation_data = valid_generator,epochs=1,callbacks=[mcp_1,early])    "
      ],
      "execution_count": null,
      "outputs": []
    },
    {
      "cell_type": "code",
      "metadata": {
        "id": "w_cHrUOvsFqv"
      },
      "source": [
        "history_plot_from_loss_acc(history_model,'best_model_simple')"
      ],
      "execution_count": null,
      "outputs": []
    },
    {
      "cell_type": "code",
      "metadata": {
        "id": "GelBHqPmDFbt"
      },
      "source": [
        "best_simple_model = load_model('best_model_simple')\n",
        "best_simple_model.summary()"
      ],
      "execution_count": null,
      "outputs": []
    },
    {
      "cell_type": "code",
      "metadata": {
        "id": "79yWRfMTsFqv"
      },
      "source": [
        "best_simple_model.evaluate(test_generator)"
      ],
      "execution_count": null,
      "outputs": []
    },
    {
      "cell_type": "code",
      "metadata": {
        "id": "WP8kbH3OZ_TQ"
      },
      "source": [
        "from sklearn.metrics import classification_report\n",
        "\n",
        "print(classification_report(test_gen.classes, pred, target_names=test_gen.class_indices))"
      ],
      "execution_count": null,
      "outputs": []
    },
    {
      "cell_type": "markdown",
      "metadata": {
        "id": "HqR6ndQGjlsm"
      },
      "source": [
        "#feed them with the crops"
      ]
    },
    {
      "cell_type": "markdown",
      "metadata": {
        "id": "RyJ3Q4lkZw84"
      },
      "source": [
        "Now take the models from RNN_Quest_1 - and feed them with the crops, rather than the resized images!\n",
        "\n",
        "What is the performance? Did it improve? "
      ]
    },
    {
      "cell_type": "code",
      "metadata": {
        "id": "zwf5q73jZ_4C"
      },
      "source": [
        ""
      ],
      "execution_count": null,
      "outputs": []
    },
    {
      "cell_type": "code",
      "metadata": {
        "id": "2uvMjdGEZ_8n"
      },
      "source": [
        ""
      ],
      "execution_count": null,
      "outputs": []
    },
    {
      "cell_type": "markdown",
      "metadata": {
        "id": "56KYbN_GlQLP"
      },
      "source": [
        "#Rethink the data preprocessing procedure"
      ]
    },
    {
      "cell_type": "markdown",
      "metadata": {
        "id": "hbFCBtvjaXN6"
      },
      "source": [
        "Rethink the data preprocessing procedure. You missed a great chance (and so did Vishwanathan)! What could it be.\n",
        "\n",
        "Really DO think about it - and when you have (or maybe haven't despite trying hard) came up with a solution, go to RNN_Quest_3!"
      ]
    },
    {
      "cell_type": "markdown",
      "metadata": {
        "id": "9_3KVs5QkuTK"
      },
      "source": [
        "## create more random samples"
      ]
    },
    {
      "cell_type": "markdown",
      "metadata": {
        "id": "qiyKf17lk6-U"
      },
      "source": [
        "## retune the hyperparameter"
      ]
    },
    {
      "cell_type": "markdown",
      "metadata": {
        "id": "Voc9Vp99aARa"
      },
      "source": [
        "You may need to also retune the hyperparameters. Try and get the best model you can on weighted accuracy. What is the performance of this model for Carel Fabritius? What is the unweighted accuracy - and how big is the difference?"
      ]
    },
    {
      "cell_type": "code",
      "metadata": {
        "id": "2XxeK0MRaV6M"
      },
      "source": [
        ""
      ],
      "execution_count": null,
      "outputs": []
    },
    {
      "cell_type": "code",
      "metadata": {
        "id": "8FaSGWO7aWCT"
      },
      "source": [
        ""
      ],
      "execution_count": null,
      "outputs": []
    },
    {
      "cell_type": "code",
      "metadata": {
        "id": "PvbEgrptaWnT"
      },
      "source": [
        ""
      ],
      "execution_count": null,
      "outputs": []
    },
    {
      "cell_type": "markdown",
      "metadata": {
        "id": "L5Nr73fqlJpo"
      },
      "source": [
        "## compare with resnet 50"
      ]
    }
  ]
}