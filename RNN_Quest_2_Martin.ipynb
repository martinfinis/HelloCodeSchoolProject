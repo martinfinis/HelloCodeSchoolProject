{
  "nbformat": 4,
  "nbformat_minor": 0,
  "metadata": {
    "colab": {
      "name": "RNN_Quest_2_Martin.ipynb",
      "provenance": [],
      "collapsed_sections": [],
      "toc_visible": true,
      "include_colab_link": true
    },
    "kernelspec": {
      "name": "python3",
      "display_name": "Python 3"
    }
  },
  "cells": [
    {
      "cell_type": "markdown",
      "metadata": {
        "id": "view-in-github",
        "colab_type": "text"
      },
      "source": [
        "<a href=\"https://colab.research.google.com/github/martinfinis/HelloCodeSchoolProject/blob/master/RNN_Quest_2_Martin.ipynb\" target=\"_parent\"><img src=\"https://colab.research.google.com/assets/colab-badge.svg\" alt=\"Open In Colab\"/></a>"
      ]
    },
    {
      "cell_type": "markdown",
      "metadata": {
        "id": "Xaba-WZpRcOI"
      },
      "source": [
        "#beforehand"
      ]
    },
    {
      "cell_type": "code",
      "metadata": {
        "id": "n4kxOuc7RZOD"
      },
      "source": [
        "import glob\n",
        "import cv2\n",
        "import keras,os\n",
        "import tensorflow as tf\n",
        "from os import listdir\n",
        "from os.path import isfile, join\n",
        "from keras.models import Sequential, load_model\n",
        "from keras.layers import Dropout, Input, Dense, Conv2D, MaxPool2D , Flatten, BatchNormalization, AveragePooling2D, MaxPooling2D\n",
        "from tensorflow.keras.optimizers import Adam\n",
        "from keras.preprocessing.image import ImageDataGenerator\n",
        "from tensorflow.keras.callbacks import ModelCheckpoint,EarlyStopping\n",
        "\n",
        "import numpy as np\n",
        "import pandas as pd"
      ],
      "execution_count": 1,
      "outputs": []
    },
    {
      "cell_type": "markdown",
      "metadata": {
        "id": "f38wbIikR_ly"
      },
      "source": [
        "## helper"
      ]
    },
    {
      "cell_type": "code",
      "metadata": {
        "id": "Aw7_QA5Pxmal"
      },
      "source": [
        "def get_image_information(main_target_path,sub_path ,class_list ,data_format ):\n",
        "    info_array = []#np.array([[0,8]])\n",
        "    column_names = ['class_x','name_x','row','column','channel','shape','main_target_path','sub_path']\n",
        "\n",
        "    for class_name in class_list:\n",
        "        path = os.path.join(os.sep,main_target_path,sub_path,class_name)\n",
        "        img_path_list = glob.glob(path + data_format)\n",
        "\n",
        "        for img_path in img_path_list:\n",
        "            img = cv2.imread(img_path)\n",
        "            #img = cv2.cvtColor(img, cv2.COLOR_BGR2RGB)\n",
        "            info_array.append([class_name,os.path.split(img_path)[-1],img.shape[0],img.shape[1],img.shape[2],img.shape,main_target_path,sub_path])\n",
        "\n",
        "    df = pd.DataFrame(data=info_array,columns= column_names)\n",
        "    return df"
      ],
      "execution_count": 2,
      "outputs": []
    },
    {
      "cell_type": "code",
      "metadata": {
        "id": "fI-gnIuBQF3Q"
      },
      "source": [
        "import matplotlib.pyplot as plt\n",
        "\n",
        "def history_plot_from_loss_acc(history, title):\n",
        "  plt.figure(figsize=(10,5))\n",
        "\n",
        "  train_loss_list = history.history['loss']\n",
        "  train_accuracy = history.history['accuracy']\n",
        "  val_loss_list = history.history['val_loss']\n",
        "  val_accuracy_list = history.history['val_accuracy']\n",
        "  x = history.epoch\n",
        "  \n",
        "  plt.subplot(1,2,1)\n",
        "  plt.plot(x, train_loss_list)\n",
        "  plt.plot(x, val_loss_list)\n",
        "  plt.legend(['train_loss', 'val_loss'])\n",
        "  plt.title(title+\"_ LOSS\")\n",
        "  \n",
        "  plt.subplot(1,2,2)\n",
        "  plt.plot(x, train_accuracy)\n",
        "  plt.plot(x, val_accuracy_list)\n",
        "  plt.legend(['train_acc','val_accuracy'])\n",
        "  plt.title(title+\"_ ACCURACY\")\n",
        "  plt.show()"
      ],
      "execution_count": 3,
      "outputs": []
    },
    {
      "cell_type": "code",
      "metadata": {
        "id": "gH80eu0fxB0C"
      },
      "source": [
        "def create_result_df(y_predict,test_generator):\n",
        "  \"\"\"\n",
        "  y_predict_vgg16 = y_predict\n",
        "  test_generator = generator\n",
        "  sub_path = 'test\n",
        "\n",
        "  uses function:\n",
        "  get_image_information(main_target_path=main_target_path,\n",
        "            sub_path='test',\n",
        "            class_list=artist_list,\n",
        "            data_format=data_format)\n",
        "\n",
        "  \"\"\"\n",
        "  y_predict = np.argmax(y_predict, axis=-1)\n",
        "  pre_file_df = pd.DataFrame(data=[y_predict,test_generator.filenames]).T\n",
        "  pre_file_df.columns = ['predict','class_name']\n",
        "\n",
        "  df_test =get_image_information(main_target_path=main_target_path,sub_path='test',class_list=artist_list,data_format=data_format)\n",
        "  df_test['class_name']=df_test.apply(lambda x: (str(x.class_x)+\"/\"+str(x.name_x)),axis=1)\n",
        "  df_test = pd.merge(df_test, pre_file_df, on=[\"class_name\", \"class_name\"])\n",
        "  df_test['class_value'] = df_test.class_x.map(artist_class_name_dict)\n",
        "  df_test['test_result'] = df_test.apply(lambda x: x.predict == x.class_value,axis = 1)\n",
        "\n",
        "  df_groups = df_test.groupby('class_x').agg( class_sum =('class_x','count'),test_sum =('test_result','sum')).reset_index()\n",
        "  df_groups['percent_all'] = (df_groups['class_sum']/df_groups['class_sum'].sum())*100\n",
        "  df_groups['percent_test'] = (df_groups['test_sum']/df_groups['class_sum'])*100\n",
        "  return df_groups"
      ],
      "execution_count": 4,
      "outputs": []
    },
    {
      "cell_type": "code",
      "metadata": {
        "id": "okgoyEJxSDg6"
      },
      "source": [
        "from tensorflow.keras import datasets, layers, models\n",
        "import matplotlib.pyplot as plt\n",
        "import tensorflow as tf\n",
        "import numpy as np\n",
        "import seaborn as sns\n",
        "import pandas as pd\n",
        "\n",
        "def plot_confusion_matrix_x(labels,predictions,classes_name):\n",
        "  \"\"\"\n",
        "  example:\n",
        "  predictions=max_predict # np.argmax(y_predict, axis=-1)\n",
        "  labels=test_generator.classes\n",
        "  classes_name = artist_list\n",
        "  \"\"\"\n",
        "  con_mat = tf.math.confusion_matrix(labels=labels, predictions=np.argmax(predictions, axis=-1) ).numpy()\n",
        "  con_mat_norm = np.around(con_mat.astype('float') / con_mat.sum(axis=1)[:, np.newaxis], decimals=2)\n",
        "\n",
        "  con_mat_df = pd.DataFrame(con_mat_norm,index = classes_name,columns = classes_name)\n",
        "\n",
        "  figure = plt.figure(figsize=(8, 8))\n",
        "  sns.heatmap(con_mat_df, annot=True,cmap=plt.cm.Blues)\n",
        "  plt.tight_layout()\n",
        "  plt.ylabel('True label')\n",
        "  plt.xlabel('Predicted label')\n",
        "  plt.show()"
      ],
      "execution_count": 5,
      "outputs": []
    },
    {
      "cell_type": "code",
      "metadata": {
        "id": "gpRlpbfOiyT4"
      },
      "source": [
        "import glob\n",
        "data_format = '/*.jpg'\n",
        "\n",
        "def number_of_images_in_path(target_path,data_format):\n",
        "    print(target_path)\n",
        "    img_path_list = glob.glob(target_path + data_format)\n",
        "           \n",
        "    n = len(img_path_list)\n",
        "    print(f'Number of images: {n}\\n')\n",
        "\n"
      ],
      "execution_count": 6,
      "outputs": []
    },
    {
      "cell_type": "code",
      "metadata": {
        "id": "YpzExX4cDudo"
      },
      "source": [
        "def organize_by_crop_center_train_test_vaildation_dir(main_target_path,all_subdir,class_list,data_format,ml_subdir_list,train_size,test_size,validation_size):\n",
        "    \"\"\"\n",
        "    :param main_target_path:\n",
        "    :param all_subdir:\n",
        "    :param class_list:\n",
        "    :param data_format:\n",
        "    :param ml_subdir_list:\n",
        "    :param train_size:\n",
        "    :param test_size:\n",
        "    :param validation_size:\n",
        "    :return:\n",
        "    \"\"\"\n",
        "    assert(train_size+test_size+validation_size == 1)\n",
        "\n",
        "    for ml_subdir in ml_subdir_list:\n",
        "        if not os.path.exists(os.path.join(main_target_path, ml_subdir)):\n",
        "            os.makedirs(os.path.join(main_target_path, ml_subdir))\n",
        "\n",
        "    for class_name in class_list:\n",
        "        img_path_list =  number_of_images_in_path(os.path.join(os.sep,main_target_path,all_subdir,class_name),data_format)\n",
        "\n",
        "        #shuffle\n",
        "        np.random.shuffle(img_path_list)\n",
        "        #create class_dir\n",
        "        for ml_subdir in ml_subdir_list:\n",
        "            if not os.path.exists(os.path.join(main_target_path,ml_subdir,class_name)):\n",
        "                os.makedirs(os.path.join(main_target_path,ml_subdir,class_name))\n",
        "\n",
        "        #move images to class subdir\n",
        "        train_stop = int(len(img_path_list) * train_size)\n",
        "        validation_stop = train_stop + int(len(img_path_list) * validation_size)\n",
        "        test_stop = validation_stop + int(len(img_path_list) * test_size)\n",
        "\n",
        "        print(len(img_path_list))\n",
        "        print(str(train_stop + validation_stop + test_stop))\n",
        "\n",
        "        n = 0\n",
        "        m = 0\n",
        "\n",
        "        for imp_path in img_path_list:\n",
        "            new_filepath = ''\n",
        "            new_name = os.path.split(img_path_list[n])[-1]\n",
        "            new_name_x = new_name[:-4]+\"_center_\"+str(m)+new_name[-4:]\n",
        "            m += 1\n",
        "            if n <= train_stop:\n",
        "                new_filepath = os.path.join(main_target_path, ml_subdir_list[0], class_name, new_name_x)\n",
        "            elif n <= validation_stop:\n",
        "                new_filepath = os.path.join(main_target_path, ml_subdir_list[1], class_name, new_name_x)\n",
        "            elif n <= test_stop:\n",
        "                new_filepath = os.path.join(main_target_path, ml_subdir_list[2], class_name, new_name_x)\n",
        "            else:\n",
        "                print(f\"this should nerver happen .... n={n}\")\n",
        "                new_filepath = os.path.join(main_target_path, ml_subdir_list[2], class_name, new_name_x)\n",
        "\n",
        "            source = img_path_list[n]\n",
        "            target = new_filepath\n",
        "            #print(f\"source {source}\")\n",
        "            #print(f\"target {target}\")\n",
        "            try:\n",
        "                image = cv2.imread(source)\n",
        "                image = get_center_crop(image)\n",
        "                cv2.imwrite(target, image)\n",
        "            except Error as e:\n",
        "                print(\"Unable to copy file. %s\" % e)\n",
        "\n",
        "            n += 1"
      ],
      "execution_count": 7,
      "outputs": []
    },
    {
      "cell_type": "code",
      "metadata": {
        "id": "R9BnrnRlKs3l"
      },
      "source": [
        "def organize_by_crop_random_train_test_vaildation_dir(main_target_path,all_subdir,class_list,data_format,ml_subdir_list,train_size,test_size,validation_size,m = 0):\n",
        "    \"\"\"\n",
        "    :param main_target_path:\n",
        "    :param all_subdir:\n",
        "    :param class_list:\n",
        "    :param data_format:\n",
        "    :param ml_subdir_list:\n",
        "    :param train_size:\n",
        "    :param test_size:\n",
        "    :param validation_size:\n",
        "    :return:\n",
        "    \"\"\"\n",
        "    assert(train_size+test_size+validation_size == 1)\n",
        "\n",
        "    for ml_subdir in ml_subdir_list:\n",
        "        if not os.path.exists(os.path.join(main_target_path, ml_subdir)):\n",
        "            os.makedirs(os.path.join(main_target_path, ml_subdir))\n",
        "\n",
        "    for class_name in class_list:\n",
        "        img_path_list =  number_of_images_in_path(os.path.join(os.sep,main_target_path,all_subdir,class_name),data_format)\n",
        "\n",
        "        #shuffle\n",
        "        np.random.shuffle(img_path_list)\n",
        "        #create class_dir\n",
        "        for ml_subdir in ml_subdir_list:\n",
        "            if not os.path.exists(os.path.join(main_target_path,ml_subdir,class_name)):\n",
        "                os.makedirs(os.path.join(main_target_path,ml_subdir,class_name))\n",
        "\n",
        "        #move images to class subdir\n",
        "        train_stop = int(len(img_path_list) * train_size)\n",
        "        validation_stop = train_stop + int(len(img_path_list) * validation_size)\n",
        "        test_stop = validation_stop + int(len(img_path_list) * test_size)\n",
        "\n",
        "        print(len(img_path_list))\n",
        "        print(str(train_stop + validation_stop + test_stop))\n",
        "\n",
        "        n = 0\n",
        "\n",
        "        for imp_path in img_path_list:\n",
        "            new_filepath = ''\n",
        "            new_name = os.path.split(img_path_list[n])[-1]\n",
        "            new_name_x = new_name[:-4]+\"_ramdom_\"+str(m)+new_name[-4:]\n",
        "            m += 1\n",
        "            if n <= train_stop:\n",
        "                new_filepath = os.path.join(main_target_path, ml_subdir_list[0], class_name, new_name_x)\n",
        "            elif n <= validation_stop:\n",
        "                new_filepath = os.path.join(main_target_path, ml_subdir_list[1], class_name, new_name_x)\n",
        "            elif n <= test_stop:\n",
        "                new_filepath = os.path.join(main_target_path, ml_subdir_list[2], class_name, new_name_x)\n",
        "            else:\n",
        "                print(f\"this should nerver happen .... n={n}\")\n",
        "                new_filepath = os.path.join(main_target_path, ml_subdir_list[2], class_name, new_name_x)\n",
        "\n",
        "            source = img_path_list[n]\n",
        "            target = new_filepath\n",
        "            #print(f\"source {source}\")\n",
        "            #print(f\"target {target}\")\n",
        "            try:\n",
        "                image = cv2.imread(source)\n",
        "                if (image.shape[0] > 220) and (image.shape[0] > 220):\n",
        "                    image = get_random_crop(image)\n",
        "                    cv2.imwrite(target, image)\n",
        "                else:\n",
        "                    print(f\"Image size to small {image.shape} {source}\")\n",
        "            except ValueError as ve:\n",
        "                print(\"ValueError\",ve)\n",
        "            except Error as e:\n",
        "                print(\"Unable to copy file\",e)\n",
        "\n",
        "            n += 1\n"
      ],
      "execution_count": 8,
      "outputs": []
    },
    {
      "cell_type": "markdown",
      "metadata": {
        "id": "kH3AR4xPSEmA"
      },
      "source": [
        "#import data"
      ]
    },
    {
      "cell_type": "code",
      "metadata": {
        "colab": {
          "base_uri": "https://localhost:8080/"
        },
        "id": "TmyyUMLnSi1g",
        "outputId": "caa9d082-0b6c-4d83-b3f8-788d6f983bc0"
      },
      "source": [
        "# mount google drive to access dataset\n",
        "from google.colab import drive\n",
        "drive.mount('/content/drive')\n",
        "# change directory\n",
        "%cd /content/\n",
        "# create new local directory, i.e. on the current machine which you are connected to\n",
        "!mkdir local_data   # could also be another name than local_data"
      ],
      "execution_count": 9,
      "outputs": [
        {
          "output_type": "stream",
          "text": [
            "Drive already mounted at /content/drive; to attempt to forcibly remount, call drive.mount(\"/content/drive\", force_remount=True).\n",
            "/content\n",
            "mkdir: cannot create directory ‘local_data’: File exists\n"
          ],
          "name": "stdout"
        }
      ]
    },
    {
      "cell_type": "code",
      "metadata": {
        "id": "tb8_z34gVCIC",
        "colab": {
          "base_uri": "https://localhost:8080/"
        },
        "outputId": "e2b93d6d-94e9-4955-ae11-f35661e243b1"
      },
      "source": [
        "!unzip '/content/drive/MyDrive/Copy_Material_AIDA_2021/_spec_ML3_wolfgang/Week_3/Fabritius.zip' -d local_data"
      ],
      "execution_count": 10,
      "outputs": [
        {
          "output_type": "stream",
          "text": [
            "Archive:  /content/drive/MyDrive/Copy_Material_AIDA_2021/_spec_ML3_wolfgang/Week_3/Fabritius.zip\n",
            "   creating: local_data/Fabritius/\n",
            "  inflating: local_data/Fabritius/Fabritius-07b496b2-45df-bb00-1cf7-d3fb4c2d86bd.jpg  \n",
            "  inflating: local_data/Fabritius/Fabritius-0ca97c0f-0f59-3370-33df-a531586495fc.jpg  \n",
            "  inflating: local_data/Fabritius/Fabritius-0ce70c8a-73ad-ec04-f3ed-f827b646fc8d.jpg  \n",
            "  inflating: local_data/Fabritius/Fabritius-2cab5351-287d-7099-60fa-daa15e40198a.jpg  \n",
            "  inflating: local_data/Fabritius/Fabritius-681989e7-0a85-5c57-3095-ed1c8467c504.jpg  \n",
            "  inflating: local_data/Fabritius/Fabritius-7177f114-68cb-ee84-3499-28f05c4d4b5a.jpg  \n",
            "  inflating: local_data/Fabritius/Fabritius-751cbee6-8c89-379c-ca89-6590a65ef122.jpg  \n",
            "  inflating: local_data/Fabritius/Fabritius-7de95bd0-e9de-c583-d928-fbf280010e28.jpg  \n",
            "  inflating: local_data/Fabritius/Fabritius-7eb4c472-f33c-8d27-06c3-ecde457866fe.jpg  \n",
            "  inflating: local_data/Fabritius/Fabritius-8d0fa950-b9f8-6eff-8956-0a4272259554.jpg  \n",
            "  inflating: local_data/Fabritius/Fabritius-9c307d56-5eb6-935e-2114-dedc47ac910d.jpg  \n",
            "  inflating: local_data/Fabritius/Fabritius-a24badc3-4e9b-5f5b-64e5-51397e8f701b.jpg  \n",
            "  inflating: local_data/Fabritius/Fabritius-aeefd473-7474-1ec3-7ddf-3e81ea365833.jpg  \n",
            "  inflating: local_data/Fabritius/Fabritius-aff0fab2-0388-a8ce-992e-1f02179db732.jpg  \n",
            "  inflating: local_data/Fabritius/Fabritius-cbf00a95-8d2c-2101-c8ce-21b39282d1f8.jpg  \n",
            "  inflating: local_data/Fabritius/Fabritius-cc6e8177-90b4-616f-44d3-020287934747.jpg  \n",
            "  inflating: local_data/Fabritius/Fabritius-cfa55883-b487-0f1f-29e0-9b5729b021a9.jpg  \n"
          ],
          "name": "stdout"
        }
      ]
    },
    {
      "cell_type": "code",
      "metadata": {
        "colab": {
          "base_uri": "https://localhost:8080/"
        },
        "id": "p84dFikFSjdQ",
        "collapsed": true,
        "outputId": "2213899d-cf8a-4758-e449-f5067126fe00"
      },
      "source": [
        "!unzip '/content/drive/MyDrive/Copy_Material_AIDA_2021/_spec_ML3_wolfgang/Week_3/resized.zip' -d local_data"
      ],
      "execution_count": 11,
      "outputs": [
        {
          "output_type": "stream",
          "text": [
            "Archive:  /content/drive/MyDrive/Copy_Material_AIDA_2021/_spec_ML3_wolfgang/Week_3/resized.zip\n",
            " extracting: local_data/resized/Albrecht_DuтХа├кrer_1.jpg  \n",
            " extracting: local_data/resized/Albrecht_DuтХа├кrer_10.jpg  \n",
            " extracting: local_data/resized/Albrecht_DuтХа├кrer_100.jpg  \n",
            "  inflating: local_data/resized/Albrecht_DuтХа├кrer_101.jpg  \n",
            "  inflating: local_data/resized/Albrecht_DuтХа├кrer_102.jpg  \n",
            "  inflating: local_data/resized/Albrecht_DuтХа├кrer_103.jpg  \n",
            " extracting: local_data/resized/Albrecht_DuтХа├кrer_104.jpg  \n",
            "  inflating: local_data/resized/Albrecht_DuтХа├кrer_105.jpg  \n",
            " extracting: local_data/resized/Albrecht_DuтХа├кrer_106.jpg  \n",
            " extracting: local_data/resized/Albrecht_DuтХа├кrer_107.jpg  \n",
            " extracting: local_data/resized/Albrecht_DuтХа├кrer_108.jpg  \n",
            " extracting: local_data/resized/Albrecht_DuтХа├кrer_109.jpg  \n",
            "  inflating: local_data/resized/Albrecht_DuтХа├кrer_11.jpg  \n",
            "  inflating: local_data/resized/Albrecht_DuтХа├кrer_110.jpg  \n",
            " extracting: local_data/resized/Albrecht_DuтХа├кrer_111.jpg  \n",
            "  inflating: local_data/resized/Albrecht_DuтХа├кrer_112.jpg  \n",
            " extracting: local_data/resized/Albrecht_DuтХа├кrer_113.jpg  \n",
            " extracting: local_data/resized/Albrecht_DuтХа├кrer_114.jpg  \n",
            "  inflating: local_data/resized/Albrecht_DuтХа├кrer_115.jpg  \n",
            " extracting: local_data/resized/Albrecht_DuтХа├кrer_116.jpg  \n",
            "  inflating: local_data/resized/Albrecht_DuтХа├кrer_117.jpg  \n",
            " extracting: local_data/resized/Albrecht_DuтХа├кrer_118.jpg  \n",
            " extracting: local_data/resized/Albrecht_DuтХа├кrer_119.jpg  \n",
            "  inflating: local_data/resized/Albrecht_DuтХа├кrer_12.jpg  \n",
            "  inflating: local_data/resized/Albrecht_DuтХа├кrer_120.jpg  \n",
            " extracting: local_data/resized/Albrecht_DuтХа├кrer_121.jpg  \n",
            " extracting: local_data/resized/Albrecht_DuтХа├кrer_122.jpg  \n",
            " extracting: local_data/resized/Albrecht_DuтХа├кrer_123.jpg  \n",
            " extracting: local_data/resized/Albrecht_DuтХа├кrer_124.jpg  \n",
            "  inflating: local_data/resized/Albrecht_DuтХа├кrer_125.jpg  \n",
            " extracting: local_data/resized/Albrecht_DuтХа├кrer_126.jpg  \n",
            " extracting: local_data/resized/Albrecht_DuтХа├кrer_127.jpg  \n",
            " extracting: local_data/resized/Albrecht_DuтХа├кrer_128.jpg  \n",
            " extracting: local_data/resized/Albrecht_DuтХа├кrer_129.jpg  \n",
            " extracting: local_data/resized/Albrecht_DuтХа├кrer_13.jpg  \n",
            "  inflating: local_data/resized/Albrecht_DuтХа├кrer_130.jpg  \n",
            " extracting: local_data/resized/Albrecht_DuтХа├кrer_131.jpg  \n",
            " extracting: local_data/resized/Albrecht_DuтХа├кrer_132.jpg  \n",
            " extracting: local_data/resized/Albrecht_DuтХа├кrer_133.jpg  \n",
            "  inflating: local_data/resized/Albrecht_DuтХа├кrer_134.jpg  \n",
            "  inflating: local_data/resized/Albrecht_DuтХа├кrer_135.jpg  \n",
            "  inflating: local_data/resized/Albrecht_DuтХа├кrer_136.jpg  \n",
            " extracting: local_data/resized/Albrecht_DuтХа├кrer_137.jpg  \n",
            " extracting: local_data/resized/Albrecht_DuтХа├кrer_138.jpg  \n",
            "  inflating: local_data/resized/Albrecht_DuтХа├кrer_139.jpg  \n",
            " extracting: local_data/resized/Albrecht_DuтХа├кrer_14.jpg  \n",
            " extracting: local_data/resized/Albrecht_DuтХа├кrer_140.jpg  \n",
            " extracting: local_data/resized/Albrecht_DuтХа├кrer_141.jpg  \n",
            "  inflating: local_data/resized/Albrecht_DuтХа├кrer_142.jpg  \n",
            " extracting: local_data/resized/Albrecht_DuтХа├кrer_143.jpg  \n",
            " extracting: local_data/resized/Albrecht_DuтХа├кrer_144.jpg  \n",
            " extracting: local_data/resized/Albrecht_DuтХа├кrer_145.jpg  \n",
            " extracting: local_data/resized/Albrecht_DuтХа├кrer_146.jpg  \n",
            " extracting: local_data/resized/Albrecht_DuтХа├кrer_147.jpg  \n",
            "  inflating: local_data/resized/Albrecht_DuтХа├кrer_148.jpg  \n",
            " extracting: local_data/resized/Albrecht_DuтХа├кrer_149.jpg  \n",
            " extracting: local_data/resized/Albrecht_DuтХа├кrer_15.jpg  \n",
            " extracting: local_data/resized/Albrecht_DuтХа├кrer_150.jpg  \n",
            "  inflating: local_data/resized/Albrecht_DuтХа├кrer_151.jpg  \n",
            " extracting: local_data/resized/Albrecht_DuтХа├кrer_152.jpg  \n",
            " extracting: local_data/resized/Albrecht_DuтХа├кrer_153.jpg  \n",
            " extracting: local_data/resized/Albrecht_DuтХа├кrer_154.jpg  \n",
            " extracting: local_data/resized/Albrecht_DuтХа├кrer_155.jpg  \n",
            " extracting: local_data/resized/Albrecht_DuтХа├кrer_156.jpg  \n",
            "  inflating: local_data/resized/Albrecht_DuтХа├кrer_157.jpg  \n",
            " extracting: local_data/resized/Albrecht_DuтХа├кrer_158.jpg  \n",
            " extracting: local_data/resized/Albrecht_DuтХа├кrer_159.jpg  \n",
            "  inflating: local_data/resized/Albrecht_DuтХа├кrer_16.jpg  \n",
            " extracting: local_data/resized/Albrecht_DuтХа├кrer_160.jpg  \n",
            " extracting: local_data/resized/Albrecht_DuтХа├кrer_161.jpg  \n",
            " extracting: local_data/resized/Albrecht_DuтХа├кrer_162.jpg  \n",
            " extracting: local_data/resized/Albrecht_DuтХа├кrer_163.jpg  \n",
            " extracting: local_data/resized/Albrecht_DuтХа├кrer_164.jpg  \n",
            "  inflating: local_data/resized/Albrecht_DuтХа├кrer_165.jpg  \n",
            " extracting: local_data/resized/Albrecht_DuтХа├кrer_166.jpg  \n",
            "  inflating: local_data/resized/Albrecht_DuтХа├кrer_167.jpg  \n",
            "  inflating: local_data/resized/Albrecht_DuтХа├кrer_168.jpg  \n",
            " extracting: local_data/resized/Albrecht_DuтХа├кrer_169.jpg  \n",
            " extracting: local_data/resized/Albrecht_DuтХа├кrer_17.jpg  \n",
            "  inflating: local_data/resized/Albrecht_DuтХа├кrer_170.jpg  \n",
            " extracting: local_data/resized/Albrecht_DuтХа├кrer_171.jpg  \n",
            " extracting: local_data/resized/Albrecht_DuтХа├кrer_172.jpg  \n",
            " extracting: local_data/resized/Albrecht_DuтХа├кrer_173.jpg  \n",
            " extracting: local_data/resized/Albrecht_DuтХа├кrer_174.jpg  \n",
            " extracting: local_data/resized/Albrecht_DuтХа├кrer_175.jpg  \n",
            " extracting: local_data/resized/Albrecht_DuтХа├кrer_176.jpg  \n",
            " extracting: local_data/resized/Albrecht_DuтХа├кrer_177.jpg  \n",
            " extracting: local_data/resized/Albrecht_DuтХа├кrer_178.jpg  \n",
            " extracting: local_data/resized/Albrecht_DuтХа├кrer_179.jpg  \n",
            " extracting: local_data/resized/Albrecht_DuтХа├кrer_18.jpg  \n",
            " extracting: local_data/resized/Albrecht_DuтХа├кrer_180.jpg  \n",
            " extracting: local_data/resized/Albrecht_DuтХа├кrer_181.jpg  \n",
            " extracting: local_data/resized/Albrecht_DuтХа├кrer_182.jpg  \n",
            "  inflating: local_data/resized/Albrecht_DuтХа├кrer_183.jpg  \n",
            " extracting: local_data/resized/Albrecht_DuтХа├кrer_184.jpg  \n",
            " extracting: local_data/resized/Albrecht_DuтХа├кrer_185.jpg  \n",
            " extracting: local_data/resized/Albrecht_DuтХа├кrer_186.jpg  \n",
            "  inflating: local_data/resized/Albrecht_DuтХа├кrer_187.jpg  \n",
            " extracting: local_data/resized/Albrecht_DuтХа├кrer_188.jpg  \n",
            " extracting: local_data/resized/Albrecht_DuтХа├кrer_189.jpg  \n",
            " extracting: local_data/resized/Albrecht_DuтХа├кrer_19.jpg  \n",
            " extracting: local_data/resized/Albrecht_DuтХа├кrer_190.jpg  \n",
            "  inflating: local_data/resized/Albrecht_DuтХа├кrer_191.jpg  \n",
            "  inflating: local_data/resized/Albrecht_DuтХа├кrer_192.jpg  \n",
            "  inflating: local_data/resized/Albrecht_DuтХа├кrer_193.jpg  \n",
            " extracting: local_data/resized/Albrecht_DuтХа├кrer_194.jpg  \n",
            " extracting: local_data/resized/Albrecht_DuтХа├кrer_195.jpg  \n",
            "  inflating: local_data/resized/Albrecht_DuтХа├кrer_196.jpg  \n",
            " extracting: local_data/resized/Albrecht_DuтХа├кrer_197.jpg  \n",
            " extracting: local_data/resized/Albrecht_DuтХа├кrer_198.jpg  \n",
            "  inflating: local_data/resized/Albrecht_DuтХа├кrer_199.jpg  \n",
            " extracting: local_data/resized/Albrecht_DuтХа├кrer_2.jpg  \n",
            " extracting: local_data/resized/Albrecht_DuтХа├кrer_20.jpg  \n",
            " extracting: local_data/resized/Albrecht_DuтХа├кrer_200.jpg  \n",
            " extracting: local_data/resized/Albrecht_DuтХа├кrer_201.jpg  \n",
            " extracting: local_data/resized/Albrecht_DuтХа├кrer_202.jpg  \n",
            " extracting: local_data/resized/Albrecht_DuтХа├кrer_203.jpg  \n",
            "  inflating: local_data/resized/Albrecht_DuтХа├кrer_204.jpg  \n",
            " extracting: local_data/resized/Albrecht_DuтХа├кrer_205.jpg  \n",
            " extracting: local_data/resized/Albrecht_DuтХа├кrer_206.jpg  \n",
            " extracting: local_data/resized/Albrecht_DuтХа├кrer_207.jpg  \n",
            "  inflating: local_data/resized/Albrecht_DuтХа├кrer_208.jpg  \n",
            " extracting: local_data/resized/Albrecht_DuтХа├кrer_209.jpg  \n",
            " extracting: local_data/resized/Albrecht_DuтХа├кrer_21.jpg  \n",
            " extracting: local_data/resized/Albrecht_DuтХа├кrer_210.jpg  \n",
            " extracting: local_data/resized/Albrecht_DuтХа├кrer_211.jpg  \n",
            "  inflating: local_data/resized/Albrecht_DuтХа├кrer_212.jpg  \n",
            " extracting: local_data/resized/Albrecht_DuтХа├кrer_213.jpg  \n",
            " extracting: local_data/resized/Albrecht_DuтХа├кrer_214.jpg  \n",
            "  inflating: local_data/resized/Albrecht_DuтХа├кrer_215.jpg  \n",
            " extracting: local_data/resized/Albrecht_DuтХа├кrer_216.jpg  \n",
            " extracting: local_data/resized/Albrecht_DuтХа├кrer_217.jpg  \n",
            " extracting: local_data/resized/Albrecht_DuтХа├кrer_218.jpg  \n",
            " extracting: local_data/resized/Albrecht_DuтХа├кrer_219.jpg  \n",
            " extracting: local_data/resized/Albrecht_DuтХа├кrer_22.jpg  \n",
            "  inflating: local_data/resized/Albrecht_DuтХа├кrer_220.jpg  \n",
            " extracting: local_data/resized/Albrecht_DuтХа├кrer_221.jpg  \n",
            " extracting: local_data/resized/Albrecht_DuтХа├кrer_222.jpg  \n",
            "  inflating: local_data/resized/Albrecht_DuтХа├кrer_223.jpg  \n",
            "  inflating: local_data/resized/Albrecht_DuтХа├кrer_224.jpg  \n",
            " extracting: local_data/resized/Albrecht_DuтХа├кrer_225.jpg  \n",
            " extracting: local_data/resized/Albrecht_DuтХа├кrer_226.jpg  \n",
            " extracting: local_data/resized/Albrecht_DuтХа├кrer_227.jpg  \n",
            " extracting: local_data/resized/Albrecht_DuтХа├кrer_228.jpg  \n",
            " extracting: local_data/resized/Albrecht_DuтХа├кrer_229.jpg  \n",
            " extracting: local_data/resized/Albrecht_DuтХа├кrer_23.jpg  \n",
            " extracting: local_data/resized/Albrecht_DuтХа├кrer_230.jpg  \n",
            " extracting: local_data/resized/Albrecht_DuтХа├кrer_231.jpg  \n",
            "  inflating: local_data/resized/Albrecht_DuтХа├кrer_232.jpg  \n",
            "  inflating: local_data/resized/Albrecht_DuтХа├кrer_233.jpg  \n",
            "  inflating: local_data/resized/Albrecht_DuтХа├кrer_234.jpg  \n",
            " extracting: local_data/resized/Albrecht_DuтХа├кrer_235.jpg  \n",
            "  inflating: local_data/resized/Albrecht_DuтХа├кrer_236.jpg  \n",
            " extracting: local_data/resized/Albrecht_DuтХа├кrer_237.jpg  \n",
            " extracting: local_data/resized/Albrecht_DuтХа├кrer_238.jpg  \n",
            "  inflating: local_data/resized/Albrecht_DuтХа├кrer_239.jpg  \n",
            "  inflating: local_data/resized/Albrecht_DuтХа├кrer_24.jpg  \n",
            "  inflating: local_data/resized/Albrecht_DuтХа├кrer_240.jpg  \n",
            " extracting: local_data/resized/Albrecht_DuтХа├кrer_241.jpg  \n",
            " extracting: local_data/resized/Albrecht_DuтХа├кrer_242.jpg  \n",
            " extracting: local_data/resized/Albrecht_DuтХа├кrer_243.jpg  \n",
            " extracting: local_data/resized/Albrecht_DuтХа├кrer_244.jpg  \n",
            "  inflating: local_data/resized/Albrecht_DuтХа├кrer_245.jpg  \n",
            "  inflating: local_data/resized/Albrecht_DuтХа├кrer_246.jpg  \n",
            "  inflating: local_data/resized/Albrecht_DuтХа├кrer_247.jpg  \n",
            " extracting: local_data/resized/Albrecht_DuтХа├кrer_248.jpg  \n",
            " extracting: local_data/resized/Albrecht_DuтХа├кrer_249.jpg  \n",
            "  inflating: local_data/resized/Albrecht_DuтХа├кrer_25.jpg  \n",
            " extracting: local_data/resized/Albrecht_DuтХа├кrer_250.jpg  \n",
            " extracting: local_data/resized/Albrecht_DuтХа├кrer_251.jpg  \n",
            " extracting: local_data/resized/Albrecht_DuтХа├кrer_252.jpg  \n",
            " extracting: local_data/resized/Albrecht_DuтХа├кrer_253.jpg  \n",
            " extracting: local_data/resized/Albrecht_DuтХа├кrer_254.jpg  \n",
            " extracting: local_data/resized/Albrecht_DuтХа├кrer_255.jpg  \n",
            " extracting: local_data/resized/Albrecht_DuтХа├кrer_256.jpg  \n",
            " extracting: local_data/resized/Albrecht_DuтХа├кrer_257.jpg  \n",
            "  inflating: local_data/resized/Albrecht_DuтХа├кrer_258.jpg  \n",
            " extracting: local_data/resized/Albrecht_DuтХа├кrer_259.jpg  \n",
            " extracting: local_data/resized/Albrecht_DuтХа├кrer_26.jpg  \n",
            " extracting: local_data/resized/Albrecht_DuтХа├кrer_260.jpg  \n",
            "  inflating: local_data/resized/Albrecht_DuтХа├кrer_261.jpg  \n",
            "  inflating: local_data/resized/Albrecht_DuтХа├кrer_262.jpg  \n",
            " extracting: local_data/resized/Albrecht_DuтХа├кrer_263.jpg  \n",
            "  inflating: local_data/resized/Albrecht_DuтХа├кrer_264.jpg  \n",
            " extracting: local_data/resized/Albrecht_DuтХа├кrer_265.jpg  \n",
            "  inflating: local_data/resized/Albrecht_DuтХа├кrer_266.jpg  \n",
            " extracting: local_data/resized/Albrecht_DuтХа├кrer_267.jpg  \n",
            "  inflating: local_data/resized/Albrecht_DuтХа├кrer_268.jpg  \n",
            " extracting: local_data/resized/Albrecht_DuтХа├кrer_269.jpg  \n",
            "  inflating: local_data/resized/Albrecht_DuтХа├кrer_27.jpg  \n",
            " extracting: local_data/resized/Albrecht_DuтХа├кrer_270.jpg  \n",
            " extracting: local_data/resized/Albrecht_DuтХа├кrer_271.jpg  \n",
            " extracting: local_data/resized/Albrecht_DuтХа├кrer_272.jpg  \n",
            "  inflating: local_data/resized/Albrecht_DuтХа├кrer_273.jpg  \n",
            " extracting: local_data/resized/Albrecht_DuтХа├кrer_274.jpg  \n",
            " extracting: local_data/resized/Albrecht_DuтХа├кrer_275.jpg  \n",
            " extracting: local_data/resized/Albrecht_DuтХа├кrer_276.jpg  \n",
            "  inflating: local_data/resized/Albrecht_DuтХа├кrer_277.jpg  \n",
            " extracting: local_data/resized/Albrecht_DuтХа├кrer_278.jpg  \n",
            " extracting: local_data/resized/Albrecht_DuтХа├кrer_279.jpg  \n",
            " extracting: local_data/resized/Albrecht_DuтХа├кrer_28.jpg  \n",
            "  inflating: local_data/resized/Albrecht_DuтХа├кrer_280.jpg  \n",
            "  inflating: local_data/resized/Albrecht_DuтХа├кrer_281.jpg  \n",
            "  inflating: local_data/resized/Albrecht_DuтХа├кrer_282.jpg  \n",
            " extracting: local_data/resized/Albrecht_DuтХа├кrer_283.jpg  \n",
            " extracting: local_data/resized/Albrecht_DuтХа├кrer_284.jpg  \n",
            " extracting: local_data/resized/Albrecht_DuтХа├кrer_285.jpg  \n",
            " extracting: local_data/resized/Albrecht_DuтХа├кrer_286.jpg  \n",
            "  inflating: local_data/resized/Albrecht_DuтХа├кrer_287.jpg  \n",
            "  inflating: local_data/resized/Albrecht_DuтХа├кrer_288.jpg  \n",
            "  inflating: local_data/resized/Albrecht_DuтХа├кrer_289.jpg  \n",
            " extracting: local_data/resized/Albrecht_DuтХа├кrer_29.jpg  \n",
            "  inflating: local_data/resized/Albrecht_DuтХа├кrer_290.jpg  \n",
            " extracting: local_data/resized/Albrecht_DuтХа├кrer_291.jpg  \n",
            " extracting: local_data/resized/Albrecht_DuтХа├кrer_292.jpg  \n",
            " extracting: local_data/resized/Albrecht_DuтХа├кrer_293.jpg  \n",
            " extracting: local_data/resized/Albrecht_DuтХа├кrer_294.jpg  \n",
            " extracting: local_data/resized/Albrecht_DuтХа├кrer_295.jpg  \n",
            " extracting: local_data/resized/Albrecht_DuтХа├кrer_296.jpg  \n",
            "  inflating: local_data/resized/Albrecht_DuтХа├кrer_297.jpg  \n",
            " extracting: local_data/resized/Albrecht_DuтХа├кrer_298.jpg  \n",
            " extracting: local_data/resized/Albrecht_DuтХа├кrer_299.jpg  \n",
            "  inflating: local_data/resized/Albrecht_DuтХа├кrer_3.jpg  \n",
            "  inflating: local_data/resized/Albrecht_DuтХа├кrer_30.jpg  \n",
            " extracting: local_data/resized/Albrecht_DuтХа├кrer_300.jpg  \n",
            " extracting: local_data/resized/Albrecht_DuтХа├кrer_301.jpg  \n",
            " extracting: local_data/resized/Albrecht_DuтХа├кrer_302.jpg  \n",
            "  inflating: local_data/resized/Albrecht_DuтХа├кrer_303.jpg  \n",
            " extracting: local_data/resized/Albrecht_DuтХа├кrer_304.jpg  \n",
            " extracting: local_data/resized/Albrecht_DuтХа├кrer_305.jpg  \n",
            " extracting: local_data/resized/Albrecht_DuтХа├кrer_306.jpg  \n",
            "  inflating: local_data/resized/Albrecht_DuтХа├кrer_307.jpg  \n",
            "  inflating: local_data/resized/Albrecht_DuтХа├кrer_308.jpg  \n",
            " extracting: local_data/resized/Albrecht_DuтХа├кrer_309.jpg  \n",
            " extracting: local_data/resized/Albrecht_DuтХа├кrer_31.jpg  \n",
            " extracting: local_data/resized/Albrecht_DuтХа├кrer_310.jpg  \n",
            "  inflating: local_data/resized/Albrecht_DuтХа├кrer_311.jpg  \n",
            "  inflating: local_data/resized/Albrecht_DuтХа├кrer_312.jpg  \n",
            " extracting: local_data/resized/Albrecht_DuтХа├кrer_313.jpg  \n",
            " extracting: local_data/resized/Albrecht_DuтХа├кrer_314.jpg  \n",
            "  inflating: local_data/resized/Albrecht_DuтХа├кrer_315.jpg  \n",
            " extracting: local_data/resized/Albrecht_DuтХа├кrer_316.jpg  \n",
            " extracting: local_data/resized/Albrecht_DuтХа├кrer_317.jpg  \n",
            " extracting: local_data/resized/Albrecht_DuтХа├кrer_318.jpg  \n",
            " extracting: local_data/resized/Albrecht_DuтХа├кrer_319.jpg  \n",
            " extracting: local_data/resized/Albrecht_DuтХа├кrer_32.jpg  \n",
            " extracting: local_data/resized/Albrecht_DuтХа├кrer_320.jpg  \n",
            " extracting: local_data/resized/Albrecht_DuтХа├кrer_321.jpg  \n",
            "  inflating: local_data/resized/Albrecht_DuтХа├кrer_322.jpg  \n",
            "  inflating: local_data/resized/Albrecht_DuтХа├кrer_323.jpg  \n",
            "  inflating: local_data/resized/Albrecht_DuтХа├кrer_324.jpg  \n",
            " extracting: local_data/resized/Albrecht_DuтХа├кrer_325.jpg  \n",
            " extracting: local_data/resized/Albrecht_DuтХа├кrer_326.jpg  \n",
            "  inflating: local_data/resized/Albrecht_DuтХа├кrer_327.jpg  \n",
            " extracting: local_data/resized/Albrecht_DuтХа├кrer_328.jpg  \n",
            "  inflating: local_data/resized/Albrecht_DuтХа├кrer_33.jpg  \n",
            " extracting: local_data/resized/Albrecht_DuтХа├кrer_34.jpg  \n",
            " extracting: local_data/resized/Albrecht_DuтХа├кrer_35.jpg  \n",
            " extracting: local_data/resized/Albrecht_DuтХа├кrer_36.jpg  \n",
            " extracting: local_data/resized/Albrecht_DuтХа├кrer_37.jpg  \n",
            "  inflating: local_data/resized/Albrecht_DuтХа├кrer_38.jpg  \n",
            " extracting: local_data/resized/Albrecht_DuтХа├кrer_39.jpg  \n",
            "  inflating: local_data/resized/Albrecht_DuтХа├кrer_4.jpg  \n",
            " extracting: local_data/resized/Albrecht_DuтХа├кrer_40.jpg  \n",
            " extracting: local_data/resized/Albrecht_DuтХа├кrer_41.jpg  \n",
            " extracting: local_data/resized/Albrecht_DuтХа├кrer_42.jpg  \n",
            "  inflating: local_data/resized/Albrecht_DuтХа├кrer_43.jpg  \n",
            "  inflating: local_data/resized/Albrecht_DuтХа├кrer_44.jpg  \n",
            " extracting: local_data/resized/Albrecht_DuтХа├кrer_45.jpg  \n",
            " extracting: local_data/resized/Albrecht_DuтХа├кrer_46.jpg  \n",
            " extracting: local_data/resized/Albrecht_DuтХа├кrer_47.jpg  \n",
            " extracting: local_data/resized/Albrecht_DuтХа├кrer_48.jpg  \n",
            " extracting: local_data/resized/Albrecht_DuтХа├кrer_49.jpg  \n",
            "  inflating: local_data/resized/Albrecht_DuтХа├кrer_5.jpg  \n",
            "  inflating: local_data/resized/Albrecht_DuтХа├кrer_50.jpg  \n",
            " extracting: local_data/resized/Albrecht_DuтХа├кrer_51.jpg  \n",
            "  inflating: local_data/resized/Albrecht_DuтХа├кrer_52.jpg  \n",
            " extracting: local_data/resized/Albrecht_DuтХа├кrer_53.jpg  \n",
            "  inflating: local_data/resized/Albrecht_DuтХа├кrer_54.jpg  \n",
            " extracting: local_data/resized/Albrecht_DuтХа├кrer_55.jpg  \n",
            " extracting: local_data/resized/Albrecht_DuтХа├кrer_56.jpg  \n",
            "  inflating: local_data/resized/Albrecht_DuтХа├кrer_57.jpg  \n",
            "  inflating: local_data/resized/Albrecht_DuтХа├кrer_58.jpg  \n",
            "  inflating: local_data/resized/Albrecht_DuтХа├кrer_59.jpg  \n",
            "  inflating: local_data/resized/Albrecht_DuтХа├кrer_6.jpg  \n",
            " extracting: local_data/resized/Albrecht_DuтХа├кrer_60.jpg  \n",
            " extracting: local_data/resized/Albrecht_DuтХа├кrer_61.jpg  \n",
            " extracting: local_data/resized/Albrecht_DuтХа├кrer_62.jpg  \n",
            "  inflating: local_data/resized/Albrecht_DuтХа├кrer_63.jpg  \n",
            "  inflating: local_data/resized/Albrecht_DuтХа├кrer_64.jpg  \n",
            " extracting: local_data/resized/Albrecht_DuтХа├кrer_65.jpg  \n",
            " extracting: local_data/resized/Albrecht_DuтХа├кrer_66.jpg  \n",
            " extracting: local_data/resized/Albrecht_DuтХа├кrer_67.jpg  \n",
            " extracting: local_data/resized/Albrecht_DuтХа├кrer_68.jpg  \n",
            " extracting: local_data/resized/Albrecht_DuтХа├кrer_69.jpg  \n",
            " extracting: local_data/resized/Albrecht_DuтХа├кrer_7.jpg  \n",
            " extracting: local_data/resized/Albrecht_DuтХа├кrer_70.jpg  \n",
            "  inflating: local_data/resized/Albrecht_DuтХа├кrer_71.jpg  \n",
            " extracting: local_data/resized/Albrecht_DuтХа├кrer_72.jpg  \n",
            "  inflating: local_data/resized/Albrecht_DuтХа├кrer_73.jpg  \n",
            " extracting: local_data/resized/Albrecht_DuтХа├кrer_74.jpg  \n",
            " extracting: local_data/resized/Albrecht_DuтХа├кrer_75.jpg  \n",
            " extracting: local_data/resized/Albrecht_DuтХа├кrer_76.jpg  \n",
            " extracting: local_data/resized/Albrecht_DuтХа├кrer_77.jpg  \n",
            "  inflating: local_data/resized/Albrecht_DuтХа├кrer_78.jpg  \n",
            "  inflating: local_data/resized/Albrecht_DuтХа├кrer_79.jpg  \n",
            "  inflating: local_data/resized/Albrecht_DuтХа├кrer_8.jpg  \n",
            " extracting: local_data/resized/Albrecht_DuтХа├кrer_80.jpg  \n",
            "  inflating: local_data/resized/Albrecht_DuтХа├кrer_81.jpg  \n",
            " extracting: local_data/resized/Albrecht_DuтХа├кrer_82.jpg  \n",
            "  inflating: local_data/resized/Albrecht_DuтХа├кrer_83.jpg  \n",
            "  inflating: local_data/resized/Albrecht_DuтХа├кrer_84.jpg  \n",
            "  inflating: local_data/resized/Albrecht_DuтХа├кrer_85.jpg  \n",
            "  inflating: local_data/resized/Albrecht_DuтХа├кrer_86.jpg  \n",
            " extracting: local_data/resized/Albrecht_DuтХа├кrer_87.jpg  \n",
            " extracting: local_data/resized/Albrecht_DuтХа├кrer_88.jpg  \n",
            "  inflating: local_data/resized/Albrecht_DuтХа├кrer_89.jpg  \n",
            "  inflating: local_data/resized/Albrecht_DuтХа├кrer_9.jpg  \n",
            " extracting: local_data/resized/Albrecht_DuтХа├кrer_90.jpg  \n",
            " extracting: local_data/resized/Albrecht_DuтХа├кrer_91.jpg  \n",
            "  inflating: local_data/resized/Albrecht_DuтХа├кrer_92.jpg  \n",
            "  inflating: local_data/resized/Albrecht_DuтХа├кrer_93.jpg  \n",
            " extracting: local_data/resized/Albrecht_DuтХа├кrer_94.jpg  \n",
            " extracting: local_data/resized/Albrecht_DuтХа├кrer_95.jpg  \n",
            " extracting: local_data/resized/Albrecht_DuтХа├кrer_96.jpg  \n",
            "  inflating: local_data/resized/Albrecht_DuтХа├кrer_97.jpg  \n",
            " extracting: local_data/resized/Albrecht_DuтХа├кrer_98.jpg  \n",
            "  inflating: local_data/resized/Albrecht_DuтХа├кrer_99.jpg  \n",
            " extracting: local_data/resized/Albrecht_Du╠Иrer_1.jpg  \n",
            " extracting: local_data/resized/Albrecht_Du╠Иrer_10.jpg  \n",
            " extracting: local_data/resized/Albrecht_Du╠Иrer_100.jpg  \n",
            "  inflating: local_data/resized/Albrecht_Du╠Иrer_101.jpg  \n",
            "  inflating: local_data/resized/Albrecht_Du╠Иrer_102.jpg  \n",
            "  inflating: local_data/resized/Albrecht_Du╠Иrer_103.jpg  \n",
            " extracting: local_data/resized/Albrecht_Du╠Иrer_104.jpg  \n",
            "  inflating: local_data/resized/Albrecht_Du╠Иrer_105.jpg  \n",
            " extracting: local_data/resized/Albrecht_Du╠Иrer_106.jpg  \n",
            " extracting: local_data/resized/Albrecht_Du╠Иrer_107.jpg  \n",
            " extracting: local_data/resized/Albrecht_Du╠Иrer_108.jpg  \n",
            " extracting: local_data/resized/Albrecht_Du╠Иrer_109.jpg  \n",
            "  inflating: local_data/resized/Albrecht_Du╠Иrer_11.jpg  \n",
            "  inflating: local_data/resized/Albrecht_Du╠Иrer_110.jpg  \n",
            " extracting: local_data/resized/Albrecht_Du╠Иrer_111.jpg  \n",
            "  inflating: local_data/resized/Albrecht_Du╠Иrer_112.jpg  \n",
            " extracting: local_data/resized/Albrecht_Du╠Иrer_113.jpg  \n",
            " extracting: local_data/resized/Albrecht_Du╠Иrer_114.jpg  \n",
            "  inflating: local_data/resized/Albrecht_Du╠Иrer_115.jpg  \n",
            " extracting: local_data/resized/Albrecht_Du╠Иrer_116.jpg  \n",
            "  inflating: local_data/resized/Albrecht_Du╠Иrer_117.jpg  \n",
            " extracting: local_data/resized/Albrecht_Du╠Иrer_118.jpg  \n",
            " extracting: local_data/resized/Albrecht_Du╠Иrer_119.jpg  \n",
            "  inflating: local_data/resized/Albrecht_Du╠Иrer_12.jpg  \n",
            "  inflating: local_data/resized/Albrecht_Du╠Иrer_120.jpg  \n",
            " extracting: local_data/resized/Albrecht_Du╠Иrer_121.jpg  \n",
            " extracting: local_data/resized/Albrecht_Du╠Иrer_122.jpg  \n",
            " extracting: local_data/resized/Albrecht_Du╠Иrer_123.jpg  \n",
            " extracting: local_data/resized/Albrecht_Du╠Иrer_124.jpg  \n",
            "  inflating: local_data/resized/Albrecht_Du╠Иrer_125.jpg  \n",
            " extracting: local_data/resized/Albrecht_Du╠Иrer_126.jpg  \n",
            " extracting: local_data/resized/Albrecht_Du╠Иrer_127.jpg  \n",
            " extracting: local_data/resized/Albrecht_Du╠Иrer_128.jpg  \n",
            " extracting: local_data/resized/Albrecht_Du╠Иrer_129.jpg  \n",
            " extracting: local_data/resized/Albrecht_Du╠Иrer_13.jpg  \n",
            "  inflating: local_data/resized/Albrecht_Du╠Иrer_130.jpg  \n",
            " extracting: local_data/resized/Albrecht_Du╠Иrer_131.jpg  \n",
            " extracting: local_data/resized/Albrecht_Du╠Иrer_132.jpg  \n",
            " extracting: local_data/resized/Albrecht_Du╠Иrer_133.jpg  \n",
            "  inflating: local_data/resized/Albrecht_Du╠Иrer_134.jpg  \n",
            "  inflating: local_data/resized/Albrecht_Du╠Иrer_135.jpg  \n",
            "  inflating: local_data/resized/Albrecht_Du╠Иrer_136.jpg  \n",
            " extracting: local_data/resized/Albrecht_Du╠Иrer_137.jpg  \n",
            " extracting: local_data/resized/Albrecht_Du╠Иrer_138.jpg  \n",
            "  inflating: local_data/resized/Albrecht_Du╠Иrer_139.jpg  \n",
            " extracting: local_data/resized/Albrecht_Du╠Иrer_14.jpg  \n",
            " extracting: local_data/resized/Albrecht_Du╠Иrer_140.jpg  \n",
            " extracting: local_data/resized/Albrecht_Du╠Иrer_141.jpg  \n",
            "  inflating: local_data/resized/Albrecht_Du╠Иrer_142.jpg  \n",
            " extracting: local_data/resized/Albrecht_Du╠Иrer_143.jpg  \n",
            " extracting: local_data/resized/Albrecht_Du╠Иrer_144.jpg  \n",
            " extracting: local_data/resized/Albrecht_Du╠Иrer_145.jpg  \n",
            " extracting: local_data/resized/Albrecht_Du╠Иrer_146.jpg  \n",
            " extracting: local_data/resized/Albrecht_Du╠Иrer_147.jpg  \n",
            "  inflating: local_data/resized/Albrecht_Du╠Иrer_148.jpg  \n",
            " extracting: local_data/resized/Albrecht_Du╠Иrer_149.jpg  \n",
            " extracting: local_data/resized/Albrecht_Du╠Иrer_15.jpg  \n",
            " extracting: local_data/resized/Albrecht_Du╠Иrer_150.jpg  \n",
            "  inflating: local_data/resized/Albrecht_Du╠Иrer_151.jpg  \n",
            " extracting: local_data/resized/Albrecht_Du╠Иrer_152.jpg  \n",
            " extracting: local_data/resized/Albrecht_Du╠Иrer_153.jpg  \n",
            " extracting: local_data/resized/Albrecht_Du╠Иrer_154.jpg  \n",
            " extracting: local_data/resized/Albrecht_Du╠Иrer_155.jpg  \n",
            " extracting: local_data/resized/Albrecht_Du╠Иrer_156.jpg  \n",
            "  inflating: local_data/resized/Albrecht_Du╠Иrer_157.jpg  \n",
            " extracting: local_data/resized/Albrecht_Du╠Иrer_158.jpg  \n",
            " extracting: local_data/resized/Albrecht_Du╠Иrer_159.jpg  \n",
            "  inflating: local_data/resized/Albrecht_Du╠Иrer_16.jpg  \n",
            " extracting: local_data/resized/Albrecht_Du╠Иrer_160.jpg  \n",
            " extracting: local_data/resized/Albrecht_Du╠Иrer_161.jpg  \n",
            " extracting: local_data/resized/Albrecht_Du╠Иrer_162.jpg  \n",
            " extracting: local_data/resized/Albrecht_Du╠Иrer_163.jpg  \n",
            " extracting: local_data/resized/Albrecht_Du╠Иrer_164.jpg  \n",
            "  inflating: local_data/resized/Albrecht_Du╠Иrer_165.jpg  \n",
            " extracting: local_data/resized/Albrecht_Du╠Иrer_166.jpg  \n",
            "  inflating: local_data/resized/Albrecht_Du╠Иrer_167.jpg  \n",
            "  inflating: local_data/resized/Albrecht_Du╠Иrer_168.jpg  \n",
            " extracting: local_data/resized/Albrecht_Du╠Иrer_169.jpg  \n",
            " extracting: local_data/resized/Albrecht_Du╠Иrer_17.jpg  \n",
            "  inflating: local_data/resized/Albrecht_Du╠Иrer_170.jpg  \n",
            " extracting: local_data/resized/Albrecht_Du╠Иrer_171.jpg  \n",
            " extracting: local_data/resized/Albrecht_Du╠Иrer_172.jpg  \n",
            " extracting: local_data/resized/Albrecht_Du╠Иrer_173.jpg  \n",
            " extracting: local_data/resized/Albrecht_Du╠Иrer_174.jpg  \n",
            " extracting: local_data/resized/Albrecht_Du╠Иrer_175.jpg  \n",
            " extracting: local_data/resized/Albrecht_Du╠Иrer_176.jpg  \n",
            " extracting: local_data/resized/Albrecht_Du╠Иrer_177.jpg  \n",
            " extracting: local_data/resized/Albrecht_Du╠Иrer_178.jpg  \n",
            " extracting: local_data/resized/Albrecht_Du╠Иrer_179.jpg  \n",
            " extracting: local_data/resized/Albrecht_Du╠Иrer_18.jpg  \n",
            " extracting: local_data/resized/Albrecht_Du╠Иrer_180.jpg  \n",
            " extracting: local_data/resized/Albrecht_Du╠Иrer_181.jpg  \n",
            " extracting: local_data/resized/Albrecht_Du╠Иrer_182.jpg  \n",
            "  inflating: local_data/resized/Albrecht_Du╠Иrer_183.jpg  \n",
            " extracting: local_data/resized/Albrecht_Du╠Иrer_184.jpg  \n",
            " extracting: local_data/resized/Albrecht_Du╠Иrer_185.jpg  \n",
            " extracting: local_data/resized/Albrecht_Du╠Иrer_186.jpg  \n",
            "  inflating: local_data/resized/Albrecht_Du╠Иrer_187.jpg  \n",
            " extracting: local_data/resized/Albrecht_Du╠Иrer_188.jpg  \n",
            " extracting: local_data/resized/Albrecht_Du╠Иrer_189.jpg  \n",
            " extracting: local_data/resized/Albrecht_Du╠Иrer_19.jpg  \n",
            " extracting: local_data/resized/Albrecht_Du╠Иrer_190.jpg  \n",
            "  inflating: local_data/resized/Albrecht_Du╠Иrer_191.jpg  \n",
            "  inflating: local_data/resized/Albrecht_Du╠Иrer_192.jpg  \n",
            "  inflating: local_data/resized/Albrecht_Du╠Иrer_193.jpg  \n",
            " extracting: local_data/resized/Albrecht_Du╠Иrer_194.jpg  \n",
            " extracting: local_data/resized/Albrecht_Du╠Иrer_195.jpg  \n",
            "  inflating: local_data/resized/Albrecht_Du╠Иrer_196.jpg  \n",
            " extracting: local_data/resized/Albrecht_Du╠Иrer_197.jpg  \n",
            " extracting: local_data/resized/Albrecht_Du╠Иrer_198.jpg  \n",
            "  inflating: local_data/resized/Albrecht_Du╠Иrer_199.jpg  \n",
            " extracting: local_data/resized/Albrecht_Du╠Иrer_2.jpg  \n",
            " extracting: local_data/resized/Albrecht_Du╠Иrer_20.jpg  \n",
            " extracting: local_data/resized/Albrecht_Du╠Иrer_200.jpg  \n",
            " extracting: local_data/resized/Albrecht_Du╠Иrer_201.jpg  \n",
            " extracting: local_data/resized/Albrecht_Du╠Иrer_202.jpg  \n",
            " extracting: local_data/resized/Albrecht_Du╠Иrer_203.jpg  \n",
            "  inflating: local_data/resized/Albrecht_Du╠Иrer_204.jpg  \n",
            " extracting: local_data/resized/Albrecht_Du╠Иrer_205.jpg  \n",
            " extracting: local_data/resized/Albrecht_Du╠Иrer_206.jpg  \n",
            " extracting: local_data/resized/Albrecht_Du╠Иrer_207.jpg  \n",
            "  inflating: local_data/resized/Albrecht_Du╠Иrer_208.jpg  \n",
            " extracting: local_data/resized/Albrecht_Du╠Иrer_209.jpg  \n",
            " extracting: local_data/resized/Albrecht_Du╠Иrer_21.jpg  \n",
            " extracting: local_data/resized/Albrecht_Du╠Иrer_210.jpg  \n",
            " extracting: local_data/resized/Albrecht_Du╠Иrer_211.jpg  \n",
            "  inflating: local_data/resized/Albrecht_Du╠Иrer_212.jpg  \n",
            " extracting: local_data/resized/Albrecht_Du╠Иrer_213.jpg  \n",
            " extracting: local_data/resized/Albrecht_Du╠Иrer_214.jpg  \n",
            "  inflating: local_data/resized/Albrecht_Du╠Иrer_215.jpg  \n",
            " extracting: local_data/resized/Albrecht_Du╠Иrer_216.jpg  \n",
            " extracting: local_data/resized/Albrecht_Du╠Иrer_217.jpg  \n",
            " extracting: local_data/resized/Albrecht_Du╠Иrer_218.jpg  \n",
            " extracting: local_data/resized/Albrecht_Du╠Иrer_219.jpg  \n",
            " extracting: local_data/resized/Albrecht_Du╠Иrer_22.jpg  \n",
            "  inflating: local_data/resized/Albrecht_Du╠Иrer_220.jpg  \n",
            " extracting: local_data/resized/Albrecht_Du╠Иrer_221.jpg  \n",
            " extracting: local_data/resized/Albrecht_Du╠Иrer_222.jpg  \n",
            "  inflating: local_data/resized/Albrecht_Du╠Иrer_223.jpg  \n",
            "  inflating: local_data/resized/Albrecht_Du╠Иrer_224.jpg  \n",
            " extracting: local_data/resized/Albrecht_Du╠Иrer_225.jpg  \n",
            " extracting: local_data/resized/Albrecht_Du╠Иrer_226.jpg  \n",
            " extracting: local_data/resized/Albrecht_Du╠Иrer_227.jpg  \n",
            " extracting: local_data/resized/Albrecht_Du╠Иrer_228.jpg  \n",
            " extracting: local_data/resized/Albrecht_Du╠Иrer_229.jpg  \n",
            " extracting: local_data/resized/Albrecht_Du╠Иrer_23.jpg  \n",
            " extracting: local_data/resized/Albrecht_Du╠Иrer_230.jpg  \n",
            " extracting: local_data/resized/Albrecht_Du╠Иrer_231.jpg  \n",
            "  inflating: local_data/resized/Albrecht_Du╠Иrer_232.jpg  \n",
            "  inflating: local_data/resized/Albrecht_Du╠Иrer_233.jpg  \n",
            "  inflating: local_data/resized/Albrecht_Du╠Иrer_234.jpg  \n",
            " extracting: local_data/resized/Albrecht_Du╠Иrer_235.jpg  \n",
            "  inflating: local_data/resized/Albrecht_Du╠Иrer_236.jpg  \n",
            " extracting: local_data/resized/Albrecht_Du╠Иrer_237.jpg  \n",
            " extracting: local_data/resized/Albrecht_Du╠Иrer_238.jpg  \n",
            "  inflating: local_data/resized/Albrecht_Du╠Иrer_239.jpg  \n",
            "  inflating: local_data/resized/Albrecht_Du╠Иrer_24.jpg  \n",
            "  inflating: local_data/resized/Albrecht_Du╠Иrer_240.jpg  \n",
            " extracting: local_data/resized/Albrecht_Du╠Иrer_241.jpg  \n",
            " extracting: local_data/resized/Albrecht_Du╠Иrer_242.jpg  \n",
            " extracting: local_data/resized/Albrecht_Du╠Иrer_243.jpg  \n",
            " extracting: local_data/resized/Albrecht_Du╠Иrer_244.jpg  \n",
            "  inflating: local_data/resized/Albrecht_Du╠Иrer_245.jpg  \n",
            "  inflating: local_data/resized/Albrecht_Du╠Иrer_246.jpg  \n",
            "  inflating: local_data/resized/Albrecht_Du╠Иrer_247.jpg  \n",
            " extracting: local_data/resized/Albrecht_Du╠Иrer_248.jpg  \n",
            " extracting: local_data/resized/Albrecht_Du╠Иrer_249.jpg  \n",
            "  inflating: local_data/resized/Albrecht_Du╠Иrer_25.jpg  \n",
            " extracting: local_data/resized/Albrecht_Du╠Иrer_250.jpg  \n",
            " extracting: local_data/resized/Albrecht_Du╠Иrer_251.jpg  \n",
            " extracting: local_data/resized/Albrecht_Du╠Иrer_252.jpg  \n",
            " extracting: local_data/resized/Albrecht_Du╠Иrer_253.jpg  \n",
            " extracting: local_data/resized/Albrecht_Du╠Иrer_254.jpg  \n",
            " extracting: local_data/resized/Albrecht_Du╠Иrer_255.jpg  \n",
            " extracting: local_data/resized/Albrecht_Du╠Иrer_256.jpg  \n",
            " extracting: local_data/resized/Albrecht_Du╠Иrer_257.jpg  \n",
            "  inflating: local_data/resized/Albrecht_Du╠Иrer_258.jpg  \n",
            " extracting: local_data/resized/Albrecht_Du╠Иrer_259.jpg  \n",
            " extracting: local_data/resized/Albrecht_Du╠Иrer_26.jpg  \n",
            " extracting: local_data/resized/Albrecht_Du╠Иrer_260.jpg  \n",
            "  inflating: local_data/resized/Albrecht_Du╠Иrer_261.jpg  \n",
            "  inflating: local_data/resized/Albrecht_Du╠Иrer_262.jpg  \n",
            " extracting: local_data/resized/Albrecht_Du╠Иrer_263.jpg  \n",
            "  inflating: local_data/resized/Albrecht_Du╠Иrer_264.jpg  \n",
            " extracting: local_data/resized/Albrecht_Du╠Иrer_265.jpg  \n",
            "  inflating: local_data/resized/Albrecht_Du╠Иrer_266.jpg  \n",
            " extracting: local_data/resized/Albrecht_Du╠Иrer_267.jpg  \n",
            "  inflating: local_data/resized/Albrecht_Du╠Иrer_268.jpg  \n",
            " extracting: local_data/resized/Albrecht_Du╠Иrer_269.jpg  \n",
            "  inflating: local_data/resized/Albrecht_Du╠Иrer_27.jpg  \n",
            " extracting: local_data/resized/Albrecht_Du╠Иrer_270.jpg  \n",
            " extracting: local_data/resized/Albrecht_Du╠Иrer_271.jpg  \n",
            " extracting: local_data/resized/Albrecht_Du╠Иrer_272.jpg  \n",
            "  inflating: local_data/resized/Albrecht_Du╠Иrer_273.jpg  \n",
            " extracting: local_data/resized/Albrecht_Du╠Иrer_274.jpg  \n",
            " extracting: local_data/resized/Albrecht_Du╠Иrer_275.jpg  \n",
            " extracting: local_data/resized/Albrecht_Du╠Иrer_276.jpg  \n",
            "  inflating: local_data/resized/Albrecht_Du╠Иrer_277.jpg  \n",
            " extracting: local_data/resized/Albrecht_Du╠Иrer_278.jpg  \n",
            " extracting: local_data/resized/Albrecht_Du╠Иrer_279.jpg  \n",
            " extracting: local_data/resized/Albrecht_Du╠Иrer_28.jpg  \n",
            "  inflating: local_data/resized/Albrecht_Du╠Иrer_280.jpg  \n",
            "  inflating: local_data/resized/Albrecht_Du╠Иrer_281.jpg  \n",
            "  inflating: local_data/resized/Albrecht_Du╠Иrer_282.jpg  \n",
            " extracting: local_data/resized/Albrecht_Du╠Иrer_283.jpg  \n",
            " extracting: local_data/resized/Albrecht_Du╠Иrer_284.jpg  \n",
            " extracting: local_data/resized/Albrecht_Du╠Иrer_285.jpg  \n",
            " extracting: local_data/resized/Albrecht_Du╠Иrer_286.jpg  \n",
            "  inflating: local_data/resized/Albrecht_Du╠Иrer_287.jpg  \n",
            "  inflating: local_data/resized/Albrecht_Du╠Иrer_288.jpg  \n",
            "  inflating: local_data/resized/Albrecht_Du╠Иrer_289.jpg  \n",
            " extracting: local_data/resized/Albrecht_Du╠Иrer_29.jpg  \n",
            "  inflating: local_data/resized/Albrecht_Du╠Иrer_290.jpg  \n",
            " extracting: local_data/resized/Albrecht_Du╠Иrer_291.jpg  \n",
            " extracting: local_data/resized/Albrecht_Du╠Иrer_292.jpg  \n",
            " extracting: local_data/resized/Albrecht_Du╠Иrer_293.jpg  \n",
            " extracting: local_data/resized/Albrecht_Du╠Иrer_294.jpg  \n",
            " extracting: local_data/resized/Albrecht_Du╠Иrer_295.jpg  \n",
            " extracting: local_data/resized/Albrecht_Du╠Иrer_296.jpg  \n",
            "  inflating: local_data/resized/Albrecht_Du╠Иrer_297.jpg  \n",
            " extracting: local_data/resized/Albrecht_Du╠Иrer_298.jpg  \n",
            " extracting: local_data/resized/Albrecht_Du╠Иrer_299.jpg  \n",
            "  inflating: local_data/resized/Albrecht_Du╠Иrer_3.jpg  \n",
            "  inflating: local_data/resized/Albrecht_Du╠Иrer_30.jpg  \n",
            " extracting: local_data/resized/Albrecht_Du╠Иrer_300.jpg  \n",
            " extracting: local_data/resized/Albrecht_Du╠Иrer_301.jpg  \n",
            " extracting: local_data/resized/Albrecht_Du╠Иrer_302.jpg  \n",
            "  inflating: local_data/resized/Albrecht_Du╠Иrer_303.jpg  \n",
            " extracting: local_data/resized/Albrecht_Du╠Иrer_304.jpg  \n",
            " extracting: local_data/resized/Albrecht_Du╠Иrer_305.jpg  \n",
            " extracting: local_data/resized/Albrecht_Du╠Иrer_306.jpg  \n",
            "  inflating: local_data/resized/Albrecht_Du╠Иrer_307.jpg  \n",
            "  inflating: local_data/resized/Albrecht_Du╠Иrer_308.jpg  \n",
            " extracting: local_data/resized/Albrecht_Du╠Иrer_309.jpg  \n",
            " extracting: local_data/resized/Albrecht_Du╠Иrer_31.jpg  \n",
            " extracting: local_data/resized/Albrecht_Du╠Иrer_310.jpg  \n",
            "  inflating: local_data/resized/Albrecht_Du╠Иrer_311.jpg  \n",
            "  inflating: local_data/resized/Albrecht_Du╠Иrer_312.jpg  \n",
            " extracting: local_data/resized/Albrecht_Du╠Иrer_313.jpg  \n",
            " extracting: local_data/resized/Albrecht_Du╠Иrer_314.jpg  \n",
            "  inflating: local_data/resized/Albrecht_Du╠Иrer_315.jpg  \n",
            " extracting: local_data/resized/Albrecht_Du╠Иrer_316.jpg  \n",
            " extracting: local_data/resized/Albrecht_Du╠Иrer_317.jpg  \n",
            " extracting: local_data/resized/Albrecht_Du╠Иrer_318.jpg  \n",
            " extracting: local_data/resized/Albrecht_Du╠Иrer_319.jpg  \n",
            " extracting: local_data/resized/Albrecht_Du╠Иrer_32.jpg  \n",
            " extracting: local_data/resized/Albrecht_Du╠Иrer_320.jpg  \n",
            " extracting: local_data/resized/Albrecht_Du╠Иrer_321.jpg  \n",
            "  inflating: local_data/resized/Albrecht_Du╠Иrer_322.jpg  \n",
            "  inflating: local_data/resized/Albrecht_Du╠Иrer_323.jpg  \n",
            "  inflating: local_data/resized/Albrecht_Du╠Иrer_324.jpg  \n",
            " extracting: local_data/resized/Albrecht_Du╠Иrer_325.jpg  \n",
            " extracting: local_data/resized/Albrecht_Du╠Иrer_326.jpg  \n",
            "  inflating: local_data/resized/Albrecht_Du╠Иrer_327.jpg  \n",
            " extracting: local_data/resized/Albrecht_Du╠Иrer_328.jpg  \n",
            "  inflating: local_data/resized/Albrecht_Du╠Иrer_33.jpg  \n",
            " extracting: local_data/resized/Albrecht_Du╠Иrer_34.jpg  \n",
            " extracting: local_data/resized/Albrecht_Du╠Иrer_35.jpg  \n",
            " extracting: local_data/resized/Albrecht_Du╠Иrer_36.jpg  \n",
            " extracting: local_data/resized/Albrecht_Du╠Иrer_37.jpg  \n",
            "  inflating: local_data/resized/Albrecht_Du╠Иrer_38.jpg  \n",
            " extracting: local_data/resized/Albrecht_Du╠Иrer_39.jpg  \n",
            "  inflating: local_data/resized/Albrecht_Du╠Иrer_4.jpg  \n",
            " extracting: local_data/resized/Albrecht_Du╠Иrer_40.jpg  \n",
            " extracting: local_data/resized/Albrecht_Du╠Иrer_41.jpg  \n",
            " extracting: local_data/resized/Albrecht_Du╠Иrer_42.jpg  \n",
            "  inflating: local_data/resized/Albrecht_Du╠Иrer_43.jpg  \n",
            "  inflating: local_data/resized/Albrecht_Du╠Иrer_44.jpg  \n",
            " extracting: local_data/resized/Albrecht_Du╠Иrer_45.jpg  \n",
            " extracting: local_data/resized/Albrecht_Du╠Иrer_46.jpg  \n",
            " extracting: local_data/resized/Albrecht_Du╠Иrer_47.jpg  \n",
            " extracting: local_data/resized/Albrecht_Du╠Иrer_48.jpg  \n",
            " extracting: local_data/resized/Albrecht_Du╠Иrer_49.jpg  \n",
            "  inflating: local_data/resized/Albrecht_Du╠Иrer_5.jpg  \n",
            "  inflating: local_data/resized/Albrecht_Du╠Иrer_50.jpg  \n",
            " extracting: local_data/resized/Albrecht_Du╠Иrer_51.jpg  \n",
            "  inflating: local_data/resized/Albrecht_Du╠Иrer_52.jpg  \n",
            " extracting: local_data/resized/Albrecht_Du╠Иrer_53.jpg  \n",
            "  inflating: local_data/resized/Albrecht_Du╠Иrer_54.jpg  \n",
            " extracting: local_data/resized/Albrecht_Du╠Иrer_55.jpg  \n",
            " extracting: local_data/resized/Albrecht_Du╠Иrer_56.jpg  \n",
            "  inflating: local_data/resized/Albrecht_Du╠Иrer_57.jpg  \n",
            "  inflating: local_data/resized/Albrecht_Du╠Иrer_58.jpg  \n",
            "  inflating: local_data/resized/Albrecht_Du╠Иrer_59.jpg  \n",
            "  inflating: local_data/resized/Albrecht_Du╠Иrer_6.jpg  \n",
            " extracting: local_data/resized/Albrecht_Du╠Иrer_60.jpg  \n",
            " extracting: local_data/resized/Albrecht_Du╠Иrer_61.jpg  \n",
            " extracting: local_data/resized/Albrecht_Du╠Иrer_62.jpg  \n",
            "  inflating: local_data/resized/Albrecht_Du╠Иrer_63.jpg  \n",
            "  inflating: local_data/resized/Albrecht_Du╠Иrer_64.jpg  \n",
            " extracting: local_data/resized/Albrecht_Du╠Иrer_65.jpg  \n",
            " extracting: local_data/resized/Albrecht_Du╠Иrer_66.jpg  \n",
            " extracting: local_data/resized/Albrecht_Du╠Иrer_67.jpg  \n",
            " extracting: local_data/resized/Albrecht_Du╠Иrer_68.jpg  \n",
            " extracting: local_data/resized/Albrecht_Du╠Иrer_69.jpg  \n",
            " extracting: local_data/resized/Albrecht_Du╠Иrer_7.jpg  \n",
            " extracting: local_data/resized/Albrecht_Du╠Иrer_70.jpg  \n",
            "  inflating: local_data/resized/Albrecht_Du╠Иrer_71.jpg  \n",
            " extracting: local_data/resized/Albrecht_Du╠Иrer_72.jpg  \n",
            "  inflating: local_data/resized/Albrecht_Du╠Иrer_73.jpg  \n",
            " extracting: local_data/resized/Albrecht_Du╠Иrer_74.jpg  \n",
            " extracting: local_data/resized/Albrecht_Du╠Иrer_75.jpg  \n",
            " extracting: local_data/resized/Albrecht_Du╠Иrer_76.jpg  \n",
            " extracting: local_data/resized/Albrecht_Du╠Иrer_77.jpg  \n",
            "  inflating: local_data/resized/Albrecht_Du╠Иrer_78.jpg  \n",
            "  inflating: local_data/resized/Albrecht_Du╠Иrer_79.jpg  \n",
            "  inflating: local_data/resized/Albrecht_Du╠Иrer_8.jpg  \n",
            " extracting: local_data/resized/Albrecht_Du╠Иrer_80.jpg  \n",
            "  inflating: local_data/resized/Albrecht_Du╠Иrer_81.jpg  \n",
            " extracting: local_data/resized/Albrecht_Du╠Иrer_82.jpg  \n",
            "  inflating: local_data/resized/Albrecht_Du╠Иrer_83.jpg  \n",
            "  inflating: local_data/resized/Albrecht_Du╠Иrer_84.jpg  \n",
            "  inflating: local_data/resized/Albrecht_Du╠Иrer_85.jpg  \n",
            "  inflating: local_data/resized/Albrecht_Du╠Иrer_86.jpg  \n",
            " extracting: local_data/resized/Albrecht_Du╠Иrer_87.jpg  \n",
            " extracting: local_data/resized/Albrecht_Du╠Иrer_88.jpg  \n",
            "  inflating: local_data/resized/Albrecht_Du╠Иrer_89.jpg  \n",
            "  inflating: local_data/resized/Albrecht_Du╠Иrer_9.jpg  \n",
            " extracting: local_data/resized/Albrecht_Du╠Иrer_90.jpg  \n",
            " extracting: local_data/resized/Albrecht_Du╠Иrer_91.jpg  \n",
            "  inflating: local_data/resized/Albrecht_Du╠Иrer_92.jpg  \n",
            "  inflating: local_data/resized/Albrecht_Du╠Иrer_93.jpg  \n",
            " extracting: local_data/resized/Albrecht_Du╠Иrer_94.jpg  \n",
            " extracting: local_data/resized/Albrecht_Du╠Иrer_95.jpg  \n",
            " extracting: local_data/resized/Albrecht_Du╠Иrer_96.jpg  \n",
            "  inflating: local_data/resized/Albrecht_Du╠Иrer_97.jpg  \n",
            " extracting: local_data/resized/Albrecht_Du╠Иrer_98.jpg  \n",
            "  inflating: local_data/resized/Albrecht_Du╠Иrer_99.jpg  \n",
            "replace local_data/resized/Alfred_Sisley_1.jpg? [y]es, [n]o, [A]ll, [N]one, [r]ename: N\n",
            "  inflating: local_data/resized/Caravaggio_1.jpg  \n",
            "  inflating: local_data/resized/Caravaggio_10.jpg  \n",
            "  inflating: local_data/resized/Caravaggio_11.jpg  \n",
            "  inflating: local_data/resized/Caravaggio_12.jpg  \n",
            " extracting: local_data/resized/Caravaggio_13.jpg  \n",
            "  inflating: local_data/resized/Caravaggio_14.jpg  \n",
            "  inflating: local_data/resized/Caravaggio_15.jpg  \n",
            "  inflating: local_data/resized/Caravaggio_16.jpg  \n",
            " extracting: local_data/resized/Caravaggio_17.jpg  \n",
            "  inflating: local_data/resized/Caravaggio_18.jpg  \n",
            "  inflating: local_data/resized/Caravaggio_19.jpg  \n",
            "  inflating: local_data/resized/Caravaggio_2.jpg  \n",
            "  inflating: local_data/resized/Caravaggio_20.jpg  \n",
            " extracting: local_data/resized/Caravaggio_21.jpg  \n",
            "  inflating: local_data/resized/Caravaggio_22.jpg  \n",
            "  inflating: local_data/resized/Caravaggio_23.jpg  \n",
            "  inflating: local_data/resized/Caravaggio_24.jpg  \n",
            "  inflating: local_data/resized/Caravaggio_25.jpg  \n",
            "  inflating: local_data/resized/Caravaggio_26.jpg  \n",
            "  inflating: local_data/resized/Caravaggio_27.jpg  \n",
            "  inflating: local_data/resized/Caravaggio_28.jpg  \n",
            "  inflating: local_data/resized/Caravaggio_29.jpg  \n",
            "  inflating: local_data/resized/Caravaggio_3.jpg  \n",
            "  inflating: local_data/resized/Caravaggio_30.jpg  \n",
            "  inflating: local_data/resized/Caravaggio_31.jpg  \n",
            "  inflating: local_data/resized/Caravaggio_32.jpg  \n",
            " extracting: local_data/resized/Caravaggio_33.jpg  \n",
            "  inflating: local_data/resized/Caravaggio_34.jpg  \n",
            "  inflating: local_data/resized/Caravaggio_35.jpg  \n",
            " extracting: local_data/resized/Caravaggio_36.jpg  \n",
            " extracting: local_data/resized/Caravaggio_37.jpg  \n",
            "  inflating: local_data/resized/Caravaggio_38.jpg  \n",
            "  inflating: local_data/resized/Caravaggio_39.jpg  \n",
            "  inflating: local_data/resized/Caravaggio_4.jpg  \n",
            " extracting: local_data/resized/Caravaggio_40.jpg  \n",
            "  inflating: local_data/resized/Caravaggio_41.jpg  \n",
            "  inflating: local_data/resized/Caravaggio_42.jpg  \n",
            "  inflating: local_data/resized/Caravaggio_43.jpg  \n",
            "  inflating: local_data/resized/Caravaggio_44.jpg  \n",
            "  inflating: local_data/resized/Caravaggio_45.jpg  \n",
            "  inflating: local_data/resized/Caravaggio_46.jpg  \n",
            " extracting: local_data/resized/Caravaggio_47.jpg  \n",
            "  inflating: local_data/resized/Caravaggio_48.jpg  \n",
            "  inflating: local_data/resized/Caravaggio_49.jpg  \n",
            "  inflating: local_data/resized/Caravaggio_5.jpg  \n",
            "  inflating: local_data/resized/Caravaggio_50.jpg  \n",
            "  inflating: local_data/resized/Caravaggio_51.jpg  \n",
            "  inflating: local_data/resized/Caravaggio_52.jpg  \n",
            "  inflating: local_data/resized/Caravaggio_53.jpg  \n",
            "  inflating: local_data/resized/Caravaggio_54.jpg  \n",
            "  inflating: local_data/resized/Caravaggio_55.jpg  \n",
            "  inflating: local_data/resized/Caravaggio_6.jpg  \n",
            " extracting: local_data/resized/Caravaggio_7.jpg  \n",
            "  inflating: local_data/resized/Caravaggio_8.jpg  \n",
            "  inflating: local_data/resized/Caravaggio_9.jpg  \n",
            " extracting: local_data/resized/Giotto_di_Bondone_1.jpg  \n",
            " extracting: local_data/resized/Giotto_di_Bondone_10.jpg  \n",
            "  inflating: local_data/resized/Giotto_di_Bondone_100.jpg  \n",
            " extracting: local_data/resized/Giotto_di_Bondone_101.jpg  \n",
            "  inflating: local_data/resized/Giotto_di_Bondone_102.jpg  \n",
            " extracting: local_data/resized/Giotto_di_Bondone_103.jpg  \n",
            "  inflating: local_data/resized/Giotto_di_Bondone_104.jpg  \n",
            "  inflating: local_data/resized/Giotto_di_Bondone_105.jpg  \n",
            "  inflating: local_data/resized/Giotto_di_Bondone_106.jpg  \n",
            "  inflating: local_data/resized/Giotto_di_Bondone_107.jpg  \n",
            "  inflating: local_data/resized/Giotto_di_Bondone_108.jpg  \n",
            " extracting: local_data/resized/Giotto_di_Bondone_109.jpg  \n",
            " extracting: local_data/resized/Giotto_di_Bondone_11.jpg  \n",
            "  inflating: local_data/resized/Giotto_di_Bondone_110.jpg  \n",
            " extracting: local_data/resized/Giotto_di_Bondone_111.jpg  \n",
            "  inflating: local_data/resized/Giotto_di_Bondone_112.jpg  \n",
            " extracting: local_data/resized/Giotto_di_Bondone_113.jpg  \n",
            "  inflating: local_data/resized/Giotto_di_Bondone_114.jpg  \n",
            "  inflating: local_data/resized/Giotto_di_Bondone_115.jpg  \n",
            "  inflating: local_data/resized/Giotto_di_Bondone_116.jpg  \n",
            "  inflating: local_data/resized/Giotto_di_Bondone_117.jpg  \n",
            "  inflating: local_data/resized/Giotto_di_Bondone_118.jpg  \n",
            " extracting: local_data/resized/Giotto_di_Bondone_119.jpg  \n",
            " extracting: local_data/resized/Giotto_di_Bondone_12.jpg  \n",
            " extracting: local_data/resized/Giotto_di_Bondone_13.jpg  \n",
            " extracting: local_data/resized/Giotto_di_Bondone_14.jpg  \n",
            "  inflating: local_data/resized/Giotto_di_Bondone_15.jpg  \n",
            " extracting: local_data/resized/Giotto_di_Bondone_16.jpg  \n",
            " extracting: local_data/resized/Giotto_di_Bondone_17.jpg  \n",
            " extracting: local_data/resized/Giotto_di_Bondone_18.jpg  \n",
            " extracting: local_data/resized/Giotto_di_Bondone_19.jpg  \n",
            " extracting: local_data/resized/Giotto_di_Bondone_2.jpg  \n",
            " extracting: local_data/resized/Giotto_di_Bondone_20.jpg  \n",
            " extracting: local_data/resized/Giotto_di_Bondone_21.jpg  \n",
            " extracting: local_data/resized/Giotto_di_Bondone_22.jpg  \n",
            " extracting: local_data/resized/Giotto_di_Bondone_23.jpg  \n",
            " extracting: local_data/resized/Giotto_di_Bondone_24.jpg  \n",
            " extracting: local_data/resized/Giotto_di_Bondone_25.jpg  \n",
            " extracting: local_data/resized/Giotto_di_Bondone_26.jpg  \n",
            " extracting: local_data/resized/Giotto_di_Bondone_27.jpg  \n",
            " extracting: local_data/resized/Giotto_di_Bondone_28.jpg  \n",
            " extracting: local_data/resized/Giotto_di_Bondone_29.jpg  \n",
            " extracting: local_data/resized/Giotto_di_Bondone_3.jpg  \n",
            " extracting: local_data/resized/Giotto_di_Bondone_30.jpg  \n",
            "  inflating: local_data/resized/Giotto_di_Bondone_31.jpg  \n",
            "  inflating: local_data/resized/Giotto_di_Bondone_32.jpg  \n",
            " extracting: local_data/resized/Giotto_di_Bondone_33.jpg  \n",
            " extracting: local_data/resized/Giotto_di_Bondone_34.jpg  \n",
            " extracting: local_data/resized/Giotto_di_Bondone_35.jpg  \n",
            " extracting: local_data/resized/Giotto_di_Bondone_36.jpg  \n",
            " extracting: local_data/resized/Giotto_di_Bondone_37.jpg  \n",
            " extracting: local_data/resized/Giotto_di_Bondone_38.jpg  \n",
            " extracting: local_data/resized/Giotto_di_Bondone_39.jpg  \n",
            " extracting: local_data/resized/Giotto_di_Bondone_4.jpg  \n",
            "  inflating: local_data/resized/Giotto_di_Bondone_40.jpg  \n",
            " extracting: local_data/resized/Giotto_di_Bondone_41.jpg  \n",
            "  inflating: local_data/resized/Giotto_di_Bondone_42.jpg  \n",
            " extracting: local_data/resized/Giotto_di_Bondone_43.jpg  \n",
            " extracting: local_data/resized/Giotto_di_Bondone_44.jpg  \n",
            " extracting: local_data/resized/Giotto_di_Bondone_45.jpg  \n",
            "  inflating: local_data/resized/Giotto_di_Bondone_46.jpg  \n",
            " extracting: local_data/resized/Giotto_di_Bondone_47.jpg  \n",
            " extracting: local_data/resized/Giotto_di_Bondone_48.jpg  \n",
            " extracting: local_data/resized/Giotto_di_Bondone_49.jpg  \n",
            "  inflating: local_data/resized/Giotto_di_Bondone_5.jpg  \n",
            " extracting: local_data/resized/Giotto_di_Bondone_50.jpg  \n",
            " extracting: local_data/resized/Giotto_di_Bondone_51.jpg  \n",
            " extracting: local_data/resized/Giotto_di_Bondone_52.jpg  \n",
            " extracting: local_data/resized/Giotto_di_Bondone_53.jpg  \n",
            " extracting: local_data/resized/Giotto_di_Bondone_54.jpg  \n",
            "  inflating: local_data/resized/Giotto_di_Bondone_55.jpg  \n",
            "  inflating: local_data/resized/Giotto_di_Bondone_56.jpg  \n",
            " extracting: local_data/resized/Giotto_di_Bondone_57.jpg  \n",
            " extracting: local_data/resized/Giotto_di_Bondone_58.jpg  \n",
            " extracting: local_data/resized/Giotto_di_Bondone_59.jpg  \n",
            "  inflating: local_data/resized/Giotto_di_Bondone_6.jpg  \n",
            " extracting: local_data/resized/Giotto_di_Bondone_60.jpg  \n",
            " extracting: local_data/resized/Giotto_di_Bondone_61.jpg  \n",
            " extracting: local_data/resized/Giotto_di_Bondone_62.jpg  \n",
            " extracting: local_data/resized/Giotto_di_Bondone_63.jpg  \n",
            " extracting: local_data/resized/Giotto_di_Bondone_64.jpg  \n",
            " extracting: local_data/resized/Giotto_di_Bondone_65.jpg  \n",
            " extracting: local_data/resized/Giotto_di_Bondone_66.jpg  \n",
            " extracting: local_data/resized/Giotto_di_Bondone_67.jpg  \n",
            " extracting: local_data/resized/Giotto_di_Bondone_68.jpg  \n",
            " extracting: local_data/resized/Giotto_di_Bondone_69.jpg  \n",
            " extracting: local_data/resized/Giotto_di_Bondone_7.jpg  \n",
            " extracting: local_data/resized/Giotto_di_Bondone_70.jpg  \n",
            " extracting: local_data/resized/Giotto_di_Bondone_71.jpg  \n",
            " extracting: local_data/resized/Giotto_di_Bondone_72.jpg  \n",
            " extracting: local_data/resized/Giotto_di_Bondone_73.jpg  \n",
            " extracting: local_data/resized/Giotto_di_Bondone_74.jpg  \n",
            " extracting: local_data/resized/Giotto_di_Bondone_75.jpg  \n",
            "  inflating: local_data/resized/Giotto_di_Bondone_76.jpg  \n",
            "  inflating: local_data/resized/Giotto_di_Bondone_77.jpg  \n",
            "  inflating: local_data/resized/Giotto_di_Bondone_78.jpg  \n",
            "  inflating: local_data/resized/Giotto_di_Bondone_79.jpg  \n",
            "  inflating: local_data/resized/Giotto_di_Bondone_8.jpg  \n",
            " extracting: local_data/resized/Giotto_di_Bondone_80.jpg  \n",
            " extracting: local_data/resized/Giotto_di_Bondone_81.jpg  \n",
            " extracting: local_data/resized/Giotto_di_Bondone_82.jpg  \n",
            "  inflating: local_data/resized/Giotto_di_Bondone_83.jpg  \n",
            " extracting: local_data/resized/Giotto_di_Bondone_84.jpg  \n",
            "  inflating: local_data/resized/Giotto_di_Bondone_85.jpg  \n",
            " extracting: local_data/resized/Giotto_di_Bondone_86.jpg  \n",
            "  inflating: local_data/resized/Giotto_di_Bondone_87.jpg  \n",
            " extracting: local_data/resized/Giotto_di_Bondone_88.jpg  \n",
            " extracting: local_data/resized/Giotto_di_Bondone_89.jpg  \n",
            " extracting: local_data/resized/Giotto_di_Bondone_9.jpg  \n",
            " extracting: local_data/resized/Giotto_di_Bondone_90.jpg  \n",
            " extracting: local_data/resized/Giotto_di_Bondone_91.jpg  \n",
            "  inflating: local_data/resized/Giotto_di_Bondone_92.jpg  \n",
            " extracting: local_data/resized/Giotto_di_Bondone_93.jpg  \n",
            "  inflating: local_data/resized/Giotto_di_Bondone_94.jpg  \n",
            " extracting: local_data/resized/Giotto_di_Bondone_95.jpg  \n",
            " extracting: local_data/resized/Giotto_di_Bondone_96.jpg  \n",
            " extracting: local_data/resized/Giotto_di_Bondone_97.jpg  \n",
            " extracting: local_data/resized/Giotto_di_Bondone_98.jpg  \n",
            "  inflating: local_data/resized/Giotto_di_Bondone_99.jpg  \n",
            " extracting: local_data/resized/Leonardo_da_Vinci_1.jpg  \n",
            "  inflating: local_data/resized/Leonardo_da_Vinci_10.jpg  \n",
            "  inflating: local_data/resized/Leonardo_da_Vinci_100.jpg  \n",
            "  inflating: local_data/resized/Leonardo_da_Vinci_101.jpg  \n",
            "  inflating: local_data/resized/Leonardo_da_Vinci_102.jpg  \n",
            " extracting: local_data/resized/Leonardo_da_Vinci_103.jpg  \n",
            "  inflating: local_data/resized/Leonardo_da_Vinci_104.jpg  \n",
            "  inflating: local_data/resized/Leonardo_da_Vinci_105.jpg  \n",
            "  inflating: local_data/resized/Leonardo_da_Vinci_106.jpg  \n",
            " extracting: local_data/resized/Leonardo_da_Vinci_107.jpg  \n",
            " extracting: local_data/resized/Leonardo_da_Vinci_108.jpg  \n",
            "  inflating: local_data/resized/Leonardo_da_Vinci_109.jpg  \n",
            "  inflating: local_data/resized/Leonardo_da_Vinci_11.jpg  \n",
            "  inflating: local_data/resized/Leonardo_da_Vinci_110.jpg  \n",
            " extracting: local_data/resized/Leonardo_da_Vinci_111.jpg  \n",
            "  inflating: local_data/resized/Leonardo_da_Vinci_112.jpg  \n",
            "  inflating: local_data/resized/Leonardo_da_Vinci_113.jpg  \n",
            " extracting: local_data/resized/Leonardo_da_Vinci_114.jpg  \n",
            " extracting: local_data/resized/Leonardo_da_Vinci_115.jpg  \n",
            " extracting: local_data/resized/Leonardo_da_Vinci_116.jpg  \n",
            " extracting: local_data/resized/Leonardo_da_Vinci_117.jpg  \n",
            "  inflating: local_data/resized/Leonardo_da_Vinci_118.jpg  \n",
            "  inflating: local_data/resized/Leonardo_da_Vinci_119.jpg  \n",
            "  inflating: local_data/resized/Leonardo_da_Vinci_12.jpg  \n",
            "  inflating: local_data/resized/Leonardo_da_Vinci_120.jpg  \n",
            "  inflating: local_data/resized/Leonardo_da_Vinci_121.jpg  \n",
            "  inflating: local_data/resized/Leonardo_da_Vinci_122.jpg  \n",
            " extracting: local_data/resized/Leonardo_da_Vinci_123.jpg  \n",
            "  inflating: local_data/resized/Leonardo_da_Vinci_124.jpg  \n",
            " extracting: local_data/resized/Leonardo_da_Vinci_125.jpg  \n",
            "  inflating: local_data/resized/Leonardo_da_Vinci_126.jpg  \n",
            " extracting: local_data/resized/Leonardo_da_Vinci_127.jpg  \n",
            " extracting: local_data/resized/Leonardo_da_Vinci_128.jpg  \n",
            " extracting: local_data/resized/Leonardo_da_Vinci_129.jpg  \n",
            "  inflating: local_data/resized/Leonardo_da_Vinci_13.jpg  \n",
            " extracting: local_data/resized/Leonardo_da_Vinci_130.jpg  \n",
            " extracting: local_data/resized/Leonardo_da_Vinci_131.jpg  \n",
            " extracting: local_data/resized/Leonardo_da_Vinci_132.jpg  \n",
            "  inflating: local_data/resized/Leonardo_da_Vinci_133.jpg  \n",
            " extracting: local_data/resized/Leonardo_da_Vinci_134.jpg  \n",
            " extracting: local_data/resized/Leonardo_da_Vinci_135.jpg  \n",
            " extracting: local_data/resized/Leonardo_da_Vinci_136.jpg  \n",
            "  inflating: local_data/resized/Leonardo_da_Vinci_137.jpg  \n",
            " extracting: local_data/resized/Leonardo_da_Vinci_138.jpg  \n",
            "  inflating: local_data/resized/Leonardo_da_Vinci_139.jpg  \n",
            " extracting: local_data/resized/Leonardo_da_Vinci_14.jpg  \n",
            " extracting: local_data/resized/Leonardo_da_Vinci_140.jpg  \n",
            " extracting: local_data/resized/Leonardo_da_Vinci_141.jpg  \n",
            " extracting: local_data/resized/Leonardo_da_Vinci_142.jpg  \n",
            "  inflating: local_data/resized/Leonardo_da_Vinci_143.jpg  \n",
            "  inflating: local_data/resized/Leonardo_da_Vinci_15.jpg  \n",
            " extracting: local_data/resized/Leonardo_da_Vinci_16.jpg  \n",
            " extracting: local_data/resized/Leonardo_da_Vinci_17.jpg  \n",
            " extracting: local_data/resized/Leonardo_da_Vinci_18.jpg  \n",
            " extracting: local_data/resized/Leonardo_da_Vinci_19.jpg  \n",
            " extracting: local_data/resized/Leonardo_da_Vinci_2.jpg  \n",
            "  inflating: local_data/resized/Leonardo_da_Vinci_20.jpg  \n",
            "  inflating: local_data/resized/Leonardo_da_Vinci_21.jpg  \n",
            " extracting: local_data/resized/Leonardo_da_Vinci_22.jpg  \n",
            " extracting: local_data/resized/Leonardo_da_Vinci_23.jpg  \n",
            "  inflating: local_data/resized/Leonardo_da_Vinci_24.jpg  \n",
            "  inflating: local_data/resized/Leonardo_da_Vinci_25.jpg  \n",
            " extracting: local_data/resized/Leonardo_da_Vinci_26.jpg  \n",
            "  inflating: local_data/resized/Leonardo_da_Vinci_27.jpg  \n",
            " extracting: local_data/resized/Leonardo_da_Vinci_28.jpg  \n",
            " extracting: local_data/resized/Leonardo_da_Vinci_29.jpg  \n",
            "  inflating: local_data/resized/Leonardo_da_Vinci_3.jpg  \n",
            " extracting: local_data/resized/Leonardo_da_Vinci_30.jpg  \n",
            " extracting: local_data/resized/Leonardo_da_Vinci_31.jpg  \n",
            "  inflating: local_data/resized/Leonardo_da_Vinci_32.jpg  \n",
            "  inflating: local_data/resized/Leonardo_da_Vinci_33.jpg  \n",
            "  inflating: local_data/resized/Leonardo_da_Vinci_34.jpg  \n",
            "  inflating: local_data/resized/Leonardo_da_Vinci_35.jpg  \n",
            " extracting: local_data/resized/Leonardo_da_Vinci_36.jpg  \n",
            " extracting: local_data/resized/Leonardo_da_Vinci_37.jpg  \n",
            "  inflating: local_data/resized/Leonardo_da_Vinci_38.jpg  \n",
            "  inflating: local_data/resized/Leonardo_da_Vinci_39.jpg  \n",
            " extracting: local_data/resized/Leonardo_da_Vinci_4.jpg  \n",
            "  inflating: local_data/resized/Leonardo_da_Vinci_40.jpg  \n",
            "  inflating: local_data/resized/Leonardo_da_Vinci_41.jpg  \n",
            " extracting: local_data/resized/Leonardo_da_Vinci_42.jpg  \n",
            "  inflating: local_data/resized/Leonardo_da_Vinci_43.jpg  \n",
            " extracting: local_data/resized/Leonardo_da_Vinci_44.jpg  \n",
            " extracting: local_data/resized/Leonardo_da_Vinci_45.jpg  \n",
            "  inflating: local_data/resized/Leonardo_da_Vinci_46.jpg  \n",
            " extracting: local_data/resized/Leonardo_da_Vinci_47.jpg  \n",
            "  inflating: local_data/resized/Leonardo_da_Vinci_48.jpg  \n",
            "  inflating: local_data/resized/Leonardo_da_Vinci_49.jpg  \n",
            " extracting: local_data/resized/Leonardo_da_Vinci_5.jpg  \n",
            "  inflating: local_data/resized/Leonardo_da_Vinci_50.jpg  \n",
            "  inflating: local_data/resized/Leonardo_da_Vinci_51.jpg  \n",
            "  inflating: local_data/resized/Leonardo_da_Vinci_52.jpg  \n",
            "  inflating: local_data/resized/Leonardo_da_Vinci_53.jpg  \n",
            "  inflating: local_data/resized/Leonardo_da_Vinci_54.jpg  \n",
            "  inflating: local_data/resized/Leonardo_da_Vinci_55.jpg  \n",
            "  inflating: local_data/resized/Leonardo_da_Vinci_56.jpg  \n",
            " extracting: local_data/resized/Leonardo_da_Vinci_57.jpg  \n",
            " extracting: local_data/resized/Leonardo_da_Vinci_58.jpg  \n",
            " extracting: local_data/resized/Leonardo_da_Vinci_59.jpg  \n",
            "  inflating: local_data/resized/Leonardo_da_Vinci_6.jpg  \n",
            " extracting: local_data/resized/Leonardo_da_Vinci_60.jpg  \n",
            "  inflating: local_data/resized/Leonardo_da_Vinci_61.jpg  \n",
            "  inflating: local_data/resized/Leonardo_da_Vinci_62.jpg  \n",
            "  inflating: local_data/resized/Leonardo_da_Vinci_63.jpg  \n",
            "  inflating: local_data/resized/Leonardo_da_Vinci_64.jpg  \n",
            " extracting: local_data/resized/Leonardo_da_Vinci_65.jpg  \n",
            "  inflating: local_data/resized/Leonardo_da_Vinci_66.jpg  \n",
            "  inflating: local_data/resized/Leonardo_da_Vinci_67.jpg  \n",
            "  inflating: local_data/resized/Leonardo_da_Vinci_68.jpg  \n",
            " extracting: local_data/resized/Leonardo_da_Vinci_69.jpg  \n",
            " extracting: local_data/resized/Leonardo_da_Vinci_7.jpg  \n",
            "  inflating: local_data/resized/Leonardo_da_Vinci_70.jpg  \n",
            "  inflating: local_data/resized/Leonardo_da_Vinci_71.jpg  \n",
            "  inflating: local_data/resized/Leonardo_da_Vinci_72.jpg  \n",
            " extracting: local_data/resized/Leonardo_da_Vinci_73.jpg  \n",
            "  inflating: local_data/resized/Leonardo_da_Vinci_74.jpg  \n",
            " extracting: local_data/resized/Leonardo_da_Vinci_75.jpg  \n",
            " extracting: local_data/resized/Leonardo_da_Vinci_76.jpg  \n",
            " extracting: local_data/resized/Leonardo_da_Vinci_77.jpg  \n",
            "  inflating: local_data/resized/Leonardo_da_Vinci_78.jpg  \n",
            " extracting: local_data/resized/Leonardo_da_Vinci_79.jpg  \n",
            " extracting: local_data/resized/Leonardo_da_Vinci_8.jpg  \n",
            " extracting: local_data/resized/Leonardo_da_Vinci_80.jpg  \n",
            "  inflating: local_data/resized/Leonardo_da_Vinci_81.jpg  \n",
            " extracting: local_data/resized/Leonardo_da_Vinci_82.jpg  \n",
            " extracting: local_data/resized/Leonardo_da_Vinci_83.jpg  \n",
            "  inflating: local_data/resized/Leonardo_da_Vinci_84.jpg  \n",
            "  inflating: local_data/resized/Leonardo_da_Vinci_85.jpg  \n",
            "  inflating: local_data/resized/Leonardo_da_Vinci_86.jpg  \n",
            " extracting: local_data/resized/Leonardo_da_Vinci_87.jpg  \n",
            "  inflating: local_data/resized/Leonardo_da_Vinci_88.jpg  \n",
            "  inflating: local_data/resized/Leonardo_da_Vinci_89.jpg  \n",
            " extracting: local_data/resized/Leonardo_da_Vinci_9.jpg  \n",
            "  inflating: local_data/resized/Leonardo_da_Vinci_90.jpg  \n",
            "  inflating: local_data/resized/Leonardo_da_Vinci_91.jpg  \n",
            "  inflating: local_data/resized/Leonardo_da_Vinci_92.jpg  \n",
            "  inflating: local_data/resized/Leonardo_da_Vinci_93.jpg  \n",
            "  inflating: local_data/resized/Leonardo_da_Vinci_94.jpg  \n",
            " extracting: local_data/resized/Leonardo_da_Vinci_95.jpg  \n",
            "  inflating: local_data/resized/Leonardo_da_Vinci_96.jpg  \n",
            "  inflating: local_data/resized/Leonardo_da_Vinci_97.jpg  \n",
            "  inflating: local_data/resized/Leonardo_da_Vinci_98.jpg  \n",
            "  inflating: local_data/resized/Leonardo_da_Vinci_99.jpg  \n",
            " extracting: local_data/resized/Michelangelo_1.jpg  \n",
            " extracting: local_data/resized/Michelangelo_10.jpg  \n",
            " extracting: local_data/resized/Michelangelo_11.jpg  \n",
            " extracting: local_data/resized/Michelangelo_12.jpg  \n",
            " extracting: local_data/resized/Michelangelo_13.jpg  \n",
            " extracting: local_data/resized/Michelangelo_14.jpg  \n",
            " extracting: local_data/resized/Michelangelo_15.jpg  \n",
            " extracting: local_data/resized/Michelangelo_16.jpg  \n",
            " extracting: local_data/resized/Michelangelo_17.jpg  \n",
            " extracting: local_data/resized/Michelangelo_18.jpg  \n",
            " extracting: local_data/resized/Michelangelo_19.jpg  \n",
            " extracting: local_data/resized/Michelangelo_2.jpg  \n",
            " extracting: local_data/resized/Michelangelo_20.jpg  \n",
            " extracting: local_data/resized/Michelangelo_21.jpg  \n",
            " extracting: local_data/resized/Michelangelo_22.jpg  \n",
            " extracting: local_data/resized/Michelangelo_23.jpg  \n",
            " extracting: local_data/resized/Michelangelo_24.jpg  \n",
            " extracting: local_data/resized/Michelangelo_25.jpg  \n",
            " extracting: local_data/resized/Michelangelo_26.jpg  \n",
            " extracting: local_data/resized/Michelangelo_27.jpg  \n",
            " extracting: local_data/resized/Michelangelo_28.jpg  \n",
            " extracting: local_data/resized/Michelangelo_29.jpg  \n",
            " extracting: local_data/resized/Michelangelo_3.jpg  \n",
            " extracting: local_data/resized/Michelangelo_30.jpg  \n",
            " extracting: local_data/resized/Michelangelo_31.jpg  \n",
            " extracting: local_data/resized/Michelangelo_32.jpg  \n",
            " extracting: local_data/resized/Michelangelo_33.jpg  \n",
            " extracting: local_data/resized/Michelangelo_34.jpg  \n",
            " extracting: local_data/resized/Michelangelo_35.jpg  \n",
            " extracting: local_data/resized/Michelangelo_36.jpg  \n",
            "  inflating: local_data/resized/Michelangelo_37.jpg  \n",
            "  inflating: local_data/resized/Michelangelo_38.jpg  \n",
            " extracting: local_data/resized/Michelangelo_39.jpg  \n",
            " extracting: local_data/resized/Michelangelo_4.jpg  \n",
            " extracting: local_data/resized/Michelangelo_40.jpg  \n",
            " extracting: local_data/resized/Michelangelo_41.jpg  \n",
            " extracting: local_data/resized/Michelangelo_42.jpg  \n",
            "  inflating: local_data/resized/Michelangelo_43.jpg  \n",
            "  inflating: local_data/resized/Michelangelo_44.jpg  \n",
            " extracting: local_data/resized/Michelangelo_45.jpg  \n",
            " extracting: local_data/resized/Michelangelo_46.jpg  \n",
            " extracting: local_data/resized/Michelangelo_47.jpg  \n",
            " extracting: local_data/resized/Michelangelo_48.jpg  \n",
            " extracting: local_data/resized/Michelangelo_49.jpg  \n",
            " extracting: local_data/resized/Michelangelo_5.jpg  \n",
            "  inflating: local_data/resized/Michelangelo_6.jpg  \n",
            " extracting: local_data/resized/Michelangelo_7.jpg  \n",
            " extracting: local_data/resized/Michelangelo_8.jpg  \n",
            " extracting: local_data/resized/Michelangelo_9.jpg  \n",
            "  inflating: local_data/resized/Raphael_1.jpg  \n",
            " extracting: local_data/resized/Raphael_10.jpg  \n",
            "  inflating: local_data/resized/Raphael_100.jpg  \n",
            " extracting: local_data/resized/Raphael_101.jpg  \n",
            "  inflating: local_data/resized/Raphael_102.jpg  \n",
            "  inflating: local_data/resized/Raphael_103.jpg  \n",
            "  inflating: local_data/resized/Raphael_104.jpg  \n",
            "  inflating: local_data/resized/Raphael_105.jpg  \n",
            "  inflating: local_data/resized/Raphael_106.jpg  \n",
            "  inflating: local_data/resized/Raphael_107.jpg  \n",
            "  inflating: local_data/resized/Raphael_108.jpg  \n",
            " extracting: local_data/resized/Raphael_109.jpg  \n",
            " extracting: local_data/resized/Raphael_11.jpg  \n",
            "  inflating: local_data/resized/Raphael_12.jpg  \n",
            "  inflating: local_data/resized/Raphael_13.jpg  \n",
            "  inflating: local_data/resized/Raphael_14.jpg  \n",
            " extracting: local_data/resized/Raphael_15.jpg  \n",
            " extracting: local_data/resized/Raphael_16.jpg  \n",
            "  inflating: local_data/resized/Raphael_17.jpg  \n",
            " extracting: local_data/resized/Raphael_18.jpg  \n",
            "  inflating: local_data/resized/Raphael_19.jpg  \n",
            " extracting: local_data/resized/Raphael_2.jpg  \n",
            "  inflating: local_data/resized/Raphael_20.jpg  \n",
            " extracting: local_data/resized/Raphael_21.jpg  \n",
            "  inflating: local_data/resized/Raphael_22.jpg  \n",
            "  inflating: local_data/resized/Raphael_23.jpg  \n",
            "  inflating: local_data/resized/Raphael_24.jpg  \n",
            " extracting: local_data/resized/Raphael_25.jpg  \n",
            "  inflating: local_data/resized/Raphael_26.jpg  \n",
            "  inflating: local_data/resized/Raphael_27.jpg  \n",
            " extracting: local_data/resized/Raphael_28.jpg  \n",
            " extracting: local_data/resized/Raphael_29.jpg  \n",
            " extracting: local_data/resized/Raphael_3.jpg  \n",
            "  inflating: local_data/resized/Raphael_30.jpg  \n",
            "  inflating: local_data/resized/Raphael_31.jpg  \n",
            "  inflating: local_data/resized/Raphael_32.jpg  \n",
            "  inflating: local_data/resized/Raphael_33.jpg  \n",
            " extracting: local_data/resized/Raphael_34.jpg  \n",
            "  inflating: local_data/resized/Raphael_35.jpg  \n",
            "  inflating: local_data/resized/Raphael_36.jpg  \n",
            "  inflating: local_data/resized/Raphael_37.jpg  \n",
            "  inflating: local_data/resized/Raphael_38.jpg  \n",
            "  inflating: local_data/resized/Raphael_39.jpg  \n",
            "  inflating: local_data/resized/Raphael_4.jpg  \n",
            "  inflating: local_data/resized/Raphael_40.jpg  \n",
            "  inflating: local_data/resized/Raphael_41.jpg  \n",
            "  inflating: local_data/resized/Raphael_42.jpg  \n",
            "  inflating: local_data/resized/Raphael_43.jpg  \n",
            "  inflating: local_data/resized/Raphael_44.jpg  \n",
            "  inflating: local_data/resized/Raphael_45.jpg  \n",
            "  inflating: local_data/resized/Raphael_46.jpg  \n",
            "  inflating: local_data/resized/Raphael_47.jpg  \n",
            "  inflating: local_data/resized/Raphael_48.jpg  \n",
            "  inflating: local_data/resized/Raphael_49.jpg  \n",
            "  inflating: local_data/resized/Raphael_5.jpg  \n",
            "  inflating: local_data/resized/Raphael_50.jpg  \n",
            " extracting: local_data/resized/Raphael_51.jpg  \n",
            "  inflating: local_data/resized/Raphael_52.jpg  \n",
            "  inflating: local_data/resized/Raphael_53.jpg  \n",
            " extracting: local_data/resized/Raphael_54.jpg  \n",
            "  inflating: local_data/resized/Raphael_55.jpg  \n",
            "  inflating: local_data/resized/Raphael_56.jpg  \n",
            "  inflating: local_data/resized/Raphael_57.jpg  \n",
            "  inflating: local_data/resized/Raphael_58.jpg  \n",
            "  inflating: local_data/resized/Raphael_59.jpg  \n",
            "  inflating: local_data/resized/Raphael_6.jpg  \n",
            "  inflating: local_data/resized/Raphael_60.jpg  \n",
            "  inflating: local_data/resized/Raphael_61.jpg  \n",
            "  inflating: local_data/resized/Raphael_62.jpg  \n",
            "  inflating: local_data/resized/Raphael_63.jpg  \n",
            "  inflating: local_data/resized/Raphael_64.jpg  \n",
            " extracting: local_data/resized/Raphael_65.jpg  \n",
            "  inflating: local_data/resized/Raphael_66.jpg  \n",
            "  inflating: local_data/resized/Raphael_67.jpg  \n",
            "  inflating: local_data/resized/Raphael_68.jpg  \n",
            "  inflating: local_data/resized/Raphael_69.jpg  \n",
            "  inflating: local_data/resized/Raphael_7.jpg  \n",
            "  inflating: local_data/resized/Raphael_70.jpg  \n",
            "  inflating: local_data/resized/Raphael_71.jpg  \n",
            "  inflating: local_data/resized/Raphael_72.jpg  \n",
            "  inflating: local_data/resized/Raphael_73.jpg  \n",
            "  inflating: local_data/resized/Raphael_74.jpg  \n",
            "  inflating: local_data/resized/Raphael_75.jpg  \n",
            "  inflating: local_data/resized/Raphael_76.jpg  \n",
            "  inflating: local_data/resized/Raphael_77.jpg  \n",
            " extracting: local_data/resized/Raphael_78.jpg  \n",
            " extracting: local_data/resized/Raphael_79.jpg  \n",
            "  inflating: local_data/resized/Raphael_8.jpg  \n",
            "  inflating: local_data/resized/Raphael_80.jpg  \n",
            "  inflating: local_data/resized/Raphael_81.jpg  \n",
            "  inflating: local_data/resized/Raphael_82.jpg  \n",
            " extracting: local_data/resized/Raphael_83.jpg  \n",
            " extracting: local_data/resized/Raphael_84.jpg  \n",
            "  inflating: local_data/resized/Raphael_85.jpg  \n",
            "  inflating: local_data/resized/Raphael_86.jpg  \n",
            "  inflating: local_data/resized/Raphael_87.jpg  \n",
            "  inflating: local_data/resized/Raphael_88.jpg  \n",
            " extracting: local_data/resized/Raphael_89.jpg  \n",
            " extracting: local_data/resized/Raphael_9.jpg  \n",
            " extracting: local_data/resized/Raphael_90.jpg  \n",
            "  inflating: local_data/resized/Raphael_91.jpg  \n",
            "  inflating: local_data/resized/Raphael_92.jpg  \n",
            "  inflating: local_data/resized/Raphael_93.jpg  \n",
            "  inflating: local_data/resized/Raphael_94.jpg  \n",
            " extracting: local_data/resized/Raphael_95.jpg  \n",
            " extracting: local_data/resized/Raphael_96.jpg  \n",
            "  inflating: local_data/resized/Raphael_97.jpg  \n",
            "  inflating: local_data/resized/Raphael_98.jpg  \n",
            "  inflating: local_data/resized/Raphael_99.jpg  \n",
            " extracting: local_data/resized/Rembrandt_1.jpg  \n",
            "  inflating: local_data/resized/Rembrandt_10.jpg  \n",
            "  inflating: local_data/resized/Rembrandt_100.jpg  \n",
            "  inflating: local_data/resized/Rembrandt_101.jpg  \n",
            "  inflating: local_data/resized/Rembrandt_102.jpg  \n",
            "  inflating: local_data/resized/Rembrandt_103.jpg  \n",
            " extracting: local_data/resized/Rembrandt_104.jpg  \n",
            "  inflating: local_data/resized/Rembrandt_105.jpg  \n",
            "  inflating: local_data/resized/Rembrandt_106.jpg  \n",
            "  inflating: local_data/resized/Rembrandt_107.jpg  \n",
            "  inflating: local_data/resized/Rembrandt_108.jpg  \n",
            "  inflating: local_data/resized/Rembrandt_109.jpg  \n",
            "  inflating: local_data/resized/Rembrandt_11.jpg  \n",
            "  inflating: local_data/resized/Rembrandt_110.jpg  \n",
            "  inflating: local_data/resized/Rembrandt_111.jpg  \n",
            "  inflating: local_data/resized/Rembrandt_112.jpg  \n",
            "  inflating: local_data/resized/Rembrandt_113.jpg  \n",
            "  inflating: local_data/resized/Rembrandt_114.jpg  \n",
            "  inflating: local_data/resized/Rembrandt_115.jpg  \n",
            "  inflating: local_data/resized/Rembrandt_116.jpg  \n",
            "  inflating: local_data/resized/Rembrandt_117.jpg  \n",
            "  inflating: local_data/resized/Rembrandt_118.jpg  \n",
            "  inflating: local_data/resized/Rembrandt_119.jpg  \n",
            "  inflating: local_data/resized/Rembrandt_12.jpg  \n",
            "  inflating: local_data/resized/Rembrandt_120.jpg  \n",
            "  inflating: local_data/resized/Rembrandt_121.jpg  \n",
            "  inflating: local_data/resized/Rembrandt_122.jpg  \n",
            "  inflating: local_data/resized/Rembrandt_123.jpg  \n",
            " extracting: local_data/resized/Rembrandt_124.jpg  \n",
            " extracting: local_data/resized/Rembrandt_125.jpg  \n",
            "  inflating: local_data/resized/Rembrandt_126.jpg  \n",
            "  inflating: local_data/resized/Rembrandt_127.jpg  \n",
            "  inflating: local_data/resized/Rembrandt_128.jpg  \n",
            "  inflating: local_data/resized/Rembrandt_129.jpg  \n",
            "  inflating: local_data/resized/Rembrandt_13.jpg  \n",
            "  inflating: local_data/resized/Rembrandt_130.jpg  \n",
            "  inflating: local_data/resized/Rembrandt_131.jpg  \n",
            "  inflating: local_data/resized/Rembrandt_132.jpg  \n",
            " extracting: local_data/resized/Rembrandt_133.jpg  \n",
            "  inflating: local_data/resized/Rembrandt_134.jpg  \n",
            "  inflating: local_data/resized/Rembrandt_135.jpg  \n",
            "  inflating: local_data/resized/Rembrandt_136.jpg  \n",
            "  inflating: local_data/resized/Rembrandt_137.jpg  \n",
            "  inflating: local_data/resized/Rembrandt_138.jpg  \n",
            "  inflating: local_data/resized/Rembrandt_139.jpg  \n",
            "  inflating: local_data/resized/Rembrandt_14.jpg  \n",
            "  inflating: local_data/resized/Rembrandt_140.jpg  \n",
            "  inflating: local_data/resized/Rembrandt_141.jpg  \n",
            "  inflating: local_data/resized/Rembrandt_142.jpg  \n",
            "  inflating: local_data/resized/Rembrandt_143.jpg  \n",
            "  inflating: local_data/resized/Rembrandt_144.jpg  \n",
            "  inflating: local_data/resized/Rembrandt_145.jpg  \n",
            "  inflating: local_data/resized/Rembrandt_146.jpg  \n",
            "  inflating: local_data/resized/Rembrandt_147.jpg  \n",
            "  inflating: local_data/resized/Rembrandt_148.jpg  \n",
            "  inflating: local_data/resized/Rembrandt_149.jpg  \n",
            "  inflating: local_data/resized/Rembrandt_15.jpg  \n",
            "  inflating: local_data/resized/Rembrandt_150.jpg  \n",
            "  inflating: local_data/resized/Rembrandt_151.jpg  \n",
            "  inflating: local_data/resized/Rembrandt_152.jpg  \n",
            "  inflating: local_data/resized/Rembrandt_153.jpg  \n",
            "  inflating: local_data/resized/Rembrandt_154.jpg  \n",
            "  inflating: local_data/resized/Rembrandt_155.jpg  \n",
            "  inflating: local_data/resized/Rembrandt_156.jpg  \n",
            "  inflating: local_data/resized/Rembrandt_157.jpg  \n",
            "  inflating: local_data/resized/Rembrandt_158.jpg  \n",
            "  inflating: local_data/resized/Rembrandt_159.jpg  \n",
            "  inflating: local_data/resized/Rembrandt_16.jpg  \n",
            "  inflating: local_data/resized/Rembrandt_160.jpg  \n",
            "  inflating: local_data/resized/Rembrandt_161.jpg  \n",
            "  inflating: local_data/resized/Rembrandt_162.jpg  \n",
            "  inflating: local_data/resized/Rembrandt_163.jpg  \n",
            "  inflating: local_data/resized/Rembrandt_164.jpg  \n",
            " extracting: local_data/resized/Rembrandt_165.jpg  \n",
            "  inflating: local_data/resized/Rembrandt_166.jpg  \n",
            " extracting: local_data/resized/Rembrandt_167.jpg  \n",
            "  inflating: local_data/resized/Rembrandt_168.jpg  \n",
            "  inflating: local_data/resized/Rembrandt_169.jpg  \n",
            "  inflating: local_data/resized/Rembrandt_17.jpg  \n",
            " extracting: local_data/resized/Rembrandt_170.jpg  \n",
            " extracting: local_data/resized/Rembrandt_171.jpg  \n",
            "  inflating: local_data/resized/Rembrandt_172.jpg  \n",
            "  inflating: local_data/resized/Rembrandt_173.jpg  \n",
            "  inflating: local_data/resized/Rembrandt_174.jpg  \n",
            "  inflating: local_data/resized/Rembrandt_175.jpg  \n",
            "  inflating: local_data/resized/Rembrandt_176.jpg  \n",
            "  inflating: local_data/resized/Rembrandt_177.jpg  \n",
            "  inflating: local_data/resized/Rembrandt_178.jpg  \n",
            "  inflating: local_data/resized/Rembrandt_179.jpg  \n",
            "  inflating: local_data/resized/Rembrandt_18.jpg  \n",
            "  inflating: local_data/resized/Rembrandt_180.jpg  \n",
            "  inflating: local_data/resized/Rembrandt_181.jpg  \n",
            "  inflating: local_data/resized/Rembrandt_182.jpg  \n",
            " extracting: local_data/resized/Rembrandt_183.jpg  \n",
            "  inflating: local_data/resized/Rembrandt_184.jpg  \n",
            "  inflating: local_data/resized/Rembrandt_185.jpg  \n",
            "  inflating: local_data/resized/Rembrandt_186.jpg  \n",
            "  inflating: local_data/resized/Rembrandt_187.jpg  \n",
            "  inflating: local_data/resized/Rembrandt_188.jpg  \n",
            "  inflating: local_data/resized/Rembrandt_189.jpg  \n",
            " extracting: local_data/resized/Rembrandt_19.jpg  \n",
            "  inflating: local_data/resized/Rembrandt_190.jpg  \n",
            "  inflating: local_data/resized/Rembrandt_191.jpg  \n",
            "  inflating: local_data/resized/Rembrandt_192.jpg  \n",
            "  inflating: local_data/resized/Rembrandt_193.jpg  \n",
            "  inflating: local_data/resized/Rembrandt_194.jpg  \n",
            "  inflating: local_data/resized/Rembrandt_195.jpg  \n",
            "  inflating: local_data/resized/Rembrandt_196.jpg  \n",
            "  inflating: local_data/resized/Rembrandt_197.jpg  \n",
            " extracting: local_data/resized/Rembrandt_198.jpg  \n",
            "  inflating: local_data/resized/Rembrandt_199.jpg  \n",
            "  inflating: local_data/resized/Rembrandt_2.jpg  \n",
            " extracting: local_data/resized/Rembrandt_20.jpg  \n",
            "  inflating: local_data/resized/Rembrandt_200.jpg  \n",
            "  inflating: local_data/resized/Rembrandt_201.jpg  \n",
            "  inflating: local_data/resized/Rembrandt_202.jpg  \n",
            "  inflating: local_data/resized/Rembrandt_203.jpg  \n",
            "  inflating: local_data/resized/Rembrandt_204.jpg  \n",
            "  inflating: local_data/resized/Rembrandt_205.jpg  \n",
            "  inflating: local_data/resized/Rembrandt_206.jpg  \n",
            "  inflating: local_data/resized/Rembrandt_207.jpg  \n",
            "  inflating: local_data/resized/Rembrandt_208.jpg  \n",
            " extracting: local_data/resized/Rembrandt_209.jpg  \n",
            " extracting: local_data/resized/Rembrandt_21.jpg  \n",
            " extracting: local_data/resized/Rembrandt_210.jpg  \n",
            "  inflating: local_data/resized/Rembrandt_211.jpg  \n",
            "  inflating: local_data/resized/Rembrandt_212.jpg  \n",
            "  inflating: local_data/resized/Rembrandt_213.jpg  \n",
            "  inflating: local_data/resized/Rembrandt_214.jpg  \n",
            "  inflating: local_data/resized/Rembrandt_215.jpg  \n",
            "  inflating: local_data/resized/Rembrandt_216.jpg  \n",
            " extracting: local_data/resized/Rembrandt_217.jpg  \n",
            " extracting: local_data/resized/Rembrandt_218.jpg  \n",
            " extracting: local_data/resized/Rembrandt_219.jpg  \n",
            "  inflating: local_data/resized/Rembrandt_22.jpg  \n",
            "  inflating: local_data/resized/Rembrandt_220.jpg  \n",
            "  inflating: local_data/resized/Rembrandt_221.jpg  \n",
            "  inflating: local_data/resized/Rembrandt_222.jpg  \n",
            "  inflating: local_data/resized/Rembrandt_223.jpg  \n",
            "  inflating: local_data/resized/Rembrandt_224.jpg  \n",
            "  inflating: local_data/resized/Rembrandt_225.jpg  \n",
            "  inflating: local_data/resized/Rembrandt_226.jpg  \n",
            "  inflating: local_data/resized/Rembrandt_227.jpg  \n",
            "  inflating: local_data/resized/Rembrandt_228.jpg  \n",
            " extracting: local_data/resized/Rembrandt_229.jpg  \n",
            "  inflating: local_data/resized/Rembrandt_23.jpg  \n",
            "  inflating: local_data/resized/Rembrandt_230.jpg  \n",
            "  inflating: local_data/resized/Rembrandt_231.jpg  \n",
            "  inflating: local_data/resized/Rembrandt_232.jpg  \n",
            "  inflating: local_data/resized/Rembrandt_233.jpg  \n",
            " extracting: local_data/resized/Rembrandt_234.jpg  \n",
            "  inflating: local_data/resized/Rembrandt_235.jpg  \n",
            "  inflating: local_data/resized/Rembrandt_236.jpg  \n",
            "  inflating: local_data/resized/Rembrandt_237.jpg  \n",
            "  inflating: local_data/resized/Rembrandt_238.jpg  \n",
            "  inflating: local_data/resized/Rembrandt_239.jpg  \n",
            "  inflating: local_data/resized/Rembrandt_24.jpg  \n",
            "  inflating: local_data/resized/Rembrandt_240.jpg  \n",
            "  inflating: local_data/resized/Rembrandt_241.jpg  \n",
            "  inflating: local_data/resized/Rembrandt_242.jpg  \n",
            "  inflating: local_data/resized/Rembrandt_243.jpg  \n",
            "  inflating: local_data/resized/Rembrandt_244.jpg  \n",
            "  inflating: local_data/resized/Rembrandt_245.jpg  \n",
            "  inflating: local_data/resized/Rembrandt_246.jpg  \n",
            "  inflating: local_data/resized/Rembrandt_247.jpg  \n",
            "  inflating: local_data/resized/Rembrandt_248.jpg  \n",
            "  inflating: local_data/resized/Rembrandt_249.jpg  \n",
            "  inflating: local_data/resized/Rembrandt_25.jpg  \n",
            "  inflating: local_data/resized/Rembrandt_250.jpg  \n",
            "  inflating: local_data/resized/Rembrandt_251.jpg  \n",
            "  inflating: local_data/resized/Rembrandt_252.jpg  \n",
            " extracting: local_data/resized/Rembrandt_253.jpg  \n",
            " extracting: local_data/resized/Rembrandt_254.jpg  \n",
            " extracting: local_data/resized/Rembrandt_255.jpg  \n",
            "  inflating: local_data/resized/Rembrandt_256.jpg  \n",
            "  inflating: local_data/resized/Rembrandt_257.jpg  \n",
            "  inflating: local_data/resized/Rembrandt_258.jpg  \n",
            "  inflating: local_data/resized/Rembrandt_259.jpg  \n",
            "  inflating: local_data/resized/Rembrandt_26.jpg  \n",
            " extracting: local_data/resized/Rembrandt_260.jpg  \n",
            "  inflating: local_data/resized/Rembrandt_261.jpg  \n",
            "  inflating: local_data/resized/Rembrandt_262.jpg  \n",
            "  inflating: local_data/resized/Rembrandt_27.jpg  \n",
            "  inflating: local_data/resized/Rembrandt_28.jpg  \n",
            "  inflating: local_data/resized/Rembrandt_29.jpg  \n",
            "  inflating: local_data/resized/Rembrandt_3.jpg  \n",
            "  inflating: local_data/resized/Rembrandt_30.jpg  \n",
            "  inflating: local_data/resized/Rembrandt_31.jpg  \n",
            "  inflating: local_data/resized/Rembrandt_32.jpg  \n",
            "  inflating: local_data/resized/Rembrandt_33.jpg  \n",
            "  inflating: local_data/resized/Rembrandt_34.jpg  \n",
            "  inflating: local_data/resized/Rembrandt_35.jpg  \n",
            "  inflating: local_data/resized/Rembrandt_36.jpg  \n",
            "  inflating: local_data/resized/Rembrandt_37.jpg  \n",
            "  inflating: local_data/resized/Rembrandt_38.jpg  \n",
            "  inflating: local_data/resized/Rembrandt_39.jpg  \n",
            "  inflating: local_data/resized/Rembrandt_4.jpg  \n",
            " extracting: local_data/resized/Rembrandt_40.jpg  \n",
            "  inflating: local_data/resized/Rembrandt_41.jpg  \n",
            "  inflating: local_data/resized/Rembrandt_42.jpg  \n",
            "  inflating: local_data/resized/Rembrandt_43.jpg  \n",
            "  inflating: local_data/resized/Rembrandt_44.jpg  \n",
            "  inflating: local_data/resized/Rembrandt_45.jpg  \n",
            "  inflating: local_data/resized/Rembrandt_46.jpg  \n",
            "  inflating: local_data/resized/Rembrandt_47.jpg  \n",
            "  inflating: local_data/resized/Rembrandt_48.jpg  \n",
            "  inflating: local_data/resized/Rembrandt_49.jpg  \n",
            "  inflating: local_data/resized/Rembrandt_5.jpg  \n",
            "  inflating: local_data/resized/Rembrandt_50.jpg  \n",
            "  inflating: local_data/resized/Rembrandt_51.jpg  \n",
            "  inflating: local_data/resized/Rembrandt_52.jpg  \n",
            "  inflating: local_data/resized/Rembrandt_53.jpg  \n",
            "  inflating: local_data/resized/Rembrandt_54.jpg  \n",
            "  inflating: local_data/resized/Rembrandt_55.jpg  \n",
            "  inflating: local_data/resized/Rembrandt_56.jpg  \n",
            "  inflating: local_data/resized/Rembrandt_57.jpg  \n",
            "  inflating: local_data/resized/Rembrandt_58.jpg  \n",
            "  inflating: local_data/resized/Rembrandt_59.jpg  \n",
            "  inflating: local_data/resized/Rembrandt_6.jpg  \n",
            "  inflating: local_data/resized/Rembrandt_60.jpg  \n",
            "  inflating: local_data/resized/Rembrandt_61.jpg  \n",
            "  inflating: local_data/resized/Rembrandt_62.jpg  \n",
            "  inflating: local_data/resized/Rembrandt_63.jpg  \n",
            "  inflating: local_data/resized/Rembrandt_64.jpg  \n",
            "  inflating: local_data/resized/Rembrandt_65.jpg  \n",
            "  inflating: local_data/resized/Rembrandt_66.jpg  \n",
            "  inflating: local_data/resized/Rembrandt_67.jpg  \n",
            "  inflating: local_data/resized/Rembrandt_68.jpg  \n",
            "  inflating: local_data/resized/Rembrandt_69.jpg  \n",
            "  inflating: local_data/resized/Rembrandt_7.jpg  \n",
            "  inflating: local_data/resized/Rembrandt_70.jpg  \n",
            " extracting: local_data/resized/Rembrandt_71.jpg  \n",
            "  inflating: local_data/resized/Rembrandt_72.jpg  \n",
            "  inflating: local_data/resized/Rembrandt_73.jpg  \n",
            "  inflating: local_data/resized/Rembrandt_74.jpg  \n",
            "  inflating: local_data/resized/Rembrandt_75.jpg  \n",
            "  inflating: local_data/resized/Rembrandt_76.jpg  \n",
            "  inflating: local_data/resized/Rembrandt_77.jpg  \n",
            "  inflating: local_data/resized/Rembrandt_78.jpg  \n",
            "  inflating: local_data/resized/Rembrandt_79.jpg  \n",
            "  inflating: local_data/resized/Rembrandt_8.jpg  \n",
            "  inflating: local_data/resized/Rembrandt_80.jpg  \n",
            "  inflating: local_data/resized/Rembrandt_81.jpg  \n",
            "  inflating: local_data/resized/Rembrandt_82.jpg  \n",
            "  inflating: local_data/resized/Rembrandt_83.jpg  \n",
            "  inflating: local_data/resized/Rembrandt_84.jpg  \n",
            " extracting: local_data/resized/Rembrandt_85.jpg  \n",
            "  inflating: local_data/resized/Rembrandt_86.jpg  \n",
            "  inflating: local_data/resized/Rembrandt_87.jpg  \n",
            "  inflating: local_data/resized/Rembrandt_88.jpg  \n",
            "  inflating: local_data/resized/Rembrandt_89.jpg  \n",
            "  inflating: local_data/resized/Rembrandt_9.jpg  \n",
            "  inflating: local_data/resized/Rembrandt_90.jpg  \n",
            "  inflating: local_data/resized/Rembrandt_91.jpg  \n",
            "  inflating: local_data/resized/Rembrandt_92.jpg  \n",
            "  inflating: local_data/resized/Rembrandt_93.jpg  \n",
            "  inflating: local_data/resized/Rembrandt_94.jpg  \n",
            " extracting: local_data/resized/Rembrandt_95.jpg  \n",
            "  inflating: local_data/resized/Rembrandt_96.jpg  \n",
            "  inflating: local_data/resized/Rembrandt_97.jpg  \n",
            "  inflating: local_data/resized/Rembrandt_98.jpg  \n",
            "  inflating: local_data/resized/Rembrandt_99.jpg  \n"
          ],
          "name": "stdout"
        }
      ]
    },
    {
      "cell_type": "code",
      "metadata": {
        "id": "JX6DnOghIOA-",
        "colab": {
          "base_uri": "https://localhost:8080/"
        },
        "outputId": "3b64df57-cb16-4376-b87b-c1a844b1092c"
      },
      "source": [
        "cd /content/"
      ],
      "execution_count": 12,
      "outputs": [
        {
          "output_type": "stream",
          "text": [
            "/content\n"
          ],
          "name": "stdout"
        }
      ]
    },
    {
      "cell_type": "code",
      "metadata": {
        "id": "2WjasAbeIgFp"
      },
      "source": [
        "#!mkdir training_set\n",
        "#!mkdir test_set"
      ],
      "execution_count": 13,
      "outputs": []
    },
    {
      "cell_type": "code",
      "metadata": {
        "id": "H9TtTuCyDEsV"
      },
      "source": [
        "#ls -l"
      ],
      "execution_count": 14,
      "outputs": []
    },
    {
      "cell_type": "code",
      "metadata": {
        "id": "xdq7mREmAp8U"
      },
      "source": [
        "#rm -r ./best_model_simple/"
      ],
      "execution_count": 15,
      "outputs": []
    },
    {
      "cell_type": "code",
      "metadata": {
        "id": "DsMG0mkI-97w"
      },
      "source": [
        "#/content/local_data/resized\n",
        "#data_path = 'C:/_dev/_aida/scientificProject/data/w_3/resized'\n",
        "data_path = '/content/local_data/resized'\n",
        "\n",
        "#/content/local_data/\n",
        "#main_target_path = 'C:\\\\_dev\\\\_aida\\\\scientificProject\\\\data\\\\w_3\\\\'\n",
        "main_target_path = '/content/local_data'\n",
        "\n",
        "\n",
        "all_subdir = 'data_set'\n",
        "train_subdir = 'train'\n",
        "val_subdir = 'valid'\n",
        "test_subdir = 'test'\n",
        "\n",
        "train_size = 0.7\n",
        "val_size = 0.15\n",
        "test_size = 0.15\n",
        "\n",
        "artist_list = ['Albrecht_Duerer','Caravaggio','Fabritius','Giotto_di_Bondone','Leonardo_da_Vinci','Michelangelo','Raphael','Rembrandt']\n",
        "#artist_list = ['Albrecht_Duerer','Caravaggio','Giotto_di_Bondone','Leonardo_da_Vinci','Michelangelo','Raphael','Rembrandt']\n",
        "data_format = '/*.jpg'\n"
      ],
      "execution_count": 16,
      "outputs": []
    },
    {
      "cell_type": "code",
      "metadata": {
        "id": "mWk5l6LUbo9I"
      },
      "source": [
        "artist_name_class_dict = { i : artist_list[i] for i in range(0, len(artist_list) ) }\n",
        "artist_class_name_dict = { artist_list[i] : i for i in range(0, len(artist_list) ) }"
      ],
      "execution_count": 17,
      "outputs": []
    },
    {
      "cell_type": "code",
      "metadata": {
        "colab": {
          "base_uri": "https://localhost:8080/"
        },
        "id": "HdsvdHRwcsBQ",
        "outputId": "07a4b82d-8b51-4911-fae6-25a3b0e21eee"
      },
      "source": [
        "artist_class_name_dict"
      ],
      "execution_count": 18,
      "outputs": [
        {
          "output_type": "execute_result",
          "data": {
            "text/plain": [
              "{'Albrecht_Duerer': 0,\n",
              " 'Caravaggio': 1,\n",
              " 'Fabritius': 2,\n",
              " 'Giotto_di_Bondone': 3,\n",
              " 'Leonardo_da_Vinci': 4,\n",
              " 'Michelangelo': 5,\n",
              " 'Raphael': 6,\n",
              " 'Rembrandt': 7}"
            ]
          },
          "metadata": {
            "tags": []
          },
          "execution_count": 18
        }
      ]
    },
    {
      "cell_type": "markdown",
      "metadata": {
        "id": "li2dypJlVXOj"
      },
      "source": [
        "## import and organize images"
      ]
    },
    {
      "cell_type": "code",
      "metadata": {
        "collapsed": true,
        "id": "rTGgfOq3T1UG"
      },
      "source": [
        "for file_name in listdir(data_path):\n",
        "    #print(file_name)\n",
        "\n",
        "    #convert Albrecht_DuÔòá├¬rer\n",
        "    if file_name.startswith('Albrecht_DuтХа├кrer'):\n",
        "        new_file_name = file_name.replace('Albrecht_DuтХа├кrer','Albrecht_Duerer_x')\n",
        "    elif file_name.startswith('Albrecht_Du╠Иrer'):\n",
        "        new_file_name = file_name.replace('Albrecht_Du╠Иrer','Albrecht_Duerer_y')\n",
        "    else:\n",
        "        new_file_name = file_name\n",
        "\n",
        "    for artist_name in artist_list:\n",
        "        if new_file_name.startswith(artist_name):\n",
        "            filepath = os.path.join(data_path,file_name)\n",
        "            new_filepath = os.path.join(main_target_path,all_subdir,artist_name,new_file_name)\n",
        "\n",
        "            #check dir and create\n",
        "            if not os.path.exists(os.path.join(main_target_path,all_subdir,artist_name)):\n",
        "                os.makedirs(os.path.join(main_target_path,all_subdir,artist_name))\n",
        "            #move file\n",
        "            try:\n",
        "                os.rename(filepath, new_filepath)\n",
        "            except:\n",
        "                continue"
      ],
      "execution_count": 19,
      "outputs": []
    },
    {
      "cell_type": "code",
      "metadata": {
        "id": "Uz_ykjilXDyt",
        "colab": {
          "base_uri": "https://localhost:8080/"
        },
        "outputId": "a1be95ec-1559-4dc9-edf0-7479bb65109c"
      },
      "source": [
        "!mv /content/local_data/Fabritius /content/local_data/data_set"
      ],
      "execution_count": 20,
      "outputs": [
        {
          "output_type": "stream",
          "text": [
            "mv: cannot move '/content/local_data/Fabritius' to '/content/local_data/data_set/Fabritius': Directory not empty\n"
          ],
          "name": "stdout"
        }
      ]
    },
    {
      "cell_type": "code",
      "metadata": {
        "colab": {
          "base_uri": "https://localhost:8080/"
        },
        "id": "_IgcL6FkS5uX",
        "outputId": "ff78539b-9a3f-45cd-818f-69944dbe7ade"
      },
      "source": [
        "for artist_name in artist_list:\n",
        "    number_of_images_in_path(os.path.join(os.sep,main_target_path,all_subdir,artist_name),data_format)"
      ],
      "execution_count": 21,
      "outputs": [
        {
          "output_type": "stream",
          "text": [
            "/content/local_data/data_set/Albrecht_Duerer\n",
            "Number of images: 656\n",
            "\n",
            "/content/local_data/data_set/Caravaggio\n",
            "Number of images: 55\n",
            "\n",
            "/content/local_data/data_set/Fabritius\n",
            "Number of images: 17\n",
            "\n",
            "/content/local_data/data_set/Giotto_di_Bondone\n",
            "Number of images: 119\n",
            "\n",
            "/content/local_data/data_set/Leonardo_da_Vinci\n",
            "Number of images: 143\n",
            "\n",
            "/content/local_data/data_set/Michelangelo\n",
            "Number of images: 49\n",
            "\n",
            "/content/local_data/data_set/Raphael\n",
            "Number of images: 109\n",
            "\n",
            "/content/local_data/data_set/Rembrandt\n",
            "Number of images: 262\n",
            "\n"
          ],
          "name": "stdout"
        }
      ]
    },
    {
      "cell_type": "markdown",
      "metadata": {
        "id": "7wyALTSQtE02"
      },
      "source": [
        "## orginze in train,test and validate"
      ]
    },
    {
      "cell_type": "code",
      "metadata": {
        "colab": {
          "base_uri": "https://localhost:8080/"
        },
        "id": "eExyPsTFGRX9",
        "outputId": "0331b972-2336-4490-f5bb-054094ff4694"
      },
      "source": [
        "from shutil import copyfile\n",
        "from sys import exit\n",
        "\n",
        "all_subdir = 'data_set'\n",
        "train_subdir = 'normal/train'\n",
        "val_subdir = 'normal/validation'\n",
        "test_subdir = 'normal/test'\n",
        "\n",
        "train_size = 0.7\n",
        "val_size = 0.15\n",
        "test_size = 0.15\n",
        "\n",
        "def number_of_images_in_path(target_path,data_format):\n",
        "    print(target_path)\n",
        "    img_path_list = glob.glob(target_path + data_format)\n",
        "\n",
        "    n = len(img_path_list)\n",
        "    print(f'Number of images: {n}\\n')\n",
        "    return img_path_list\n",
        "\n",
        "def organize_by_copy_train_test_vaildation_dir(main_target_path,all_subdir,class_list,data_format,ml_subdir_list,train_size,test_size,validation_size):\n",
        "    \"\"\"\n",
        "    :param main_target_path:\n",
        "    :param all_subdir:\n",
        "    :param class_list:\n",
        "    :param data_format:\n",
        "    :param ml_subdir_list:\n",
        "    :param train_size:\n",
        "    :param test_size:\n",
        "    :param validation_size:\n",
        "    :return:\n",
        "    \"\"\"\n",
        "    assert(train_size+test_size+validation_size == 1)\n",
        "\n",
        "    for ml_subdir in ml_subdir_list:\n",
        "        if not os.path.exists(os.path.join(main_target_path, ml_subdir)):\n",
        "            os.makedirs(os.path.join(main_target_path, ml_subdir))\n",
        "\n",
        "    for class_name in class_list:\n",
        "        img_path_list =  number_of_images_in_path(os.path.join(os.sep,main_target_path,all_subdir,class_name),data_format)\n",
        "\n",
        "        #shuffle\n",
        "        np.random.shuffle(img_path_list)\n",
        "        #create class_dir\n",
        "        for ml_subdir in ml_subdir_list:\n",
        "            if not os.path.exists(os.path.join(main_target_path,ml_subdir,class_name)):\n",
        "                os.makedirs(os.path.join(main_target_path,ml_subdir,class_name))\n",
        "\n",
        "        #move images to class subdir\n",
        "        train_stop = int(len(img_path_list) * train_size)\n",
        "        validation_stop = train_stop + int(len(img_path_list) * validation_size)\n",
        "        test_stop = validation_stop + int(len(img_path_list) * test_size)\n",
        "\n",
        "        n = 0\n",
        "        for imp_path in img_path_list:\n",
        "            new_filepath = ''\n",
        "            if n <= train_stop:\n",
        "                new_filepath = os.path.join(main_target_path, ml_subdir_list[0], class_name, os.path.split(img_path_list[n])[-1])\n",
        "            elif n <= validation_stop:\n",
        "                new_filepath = os.path.join(main_target_path, ml_subdir_list[1], class_name, os.path.split(img_path_list[n])[-1])\n",
        "            elif n <= test_stop:\n",
        "                new_filepath = os.path.join(main_target_path, ml_subdir_list[2], class_name, os.path.split(img_path_list[n])[-1])\n",
        "            else:\n",
        "                print(f\"this should nerver happen .... n={n}\")\n",
        "                new_filepath = os.path.join(main_target_path, ml_subdir_list[2], class_name, os.path.split(img_path_list[n])[-1])    \n",
        "\n",
        "            # copy file\n",
        "            source = img_path_list[n]\n",
        "            target = new_filepath\n",
        "\n",
        "            try:\n",
        "                copyfile(source, target)\n",
        "                n += 1\n",
        "            except IOError as e:\n",
        "                print(\"Unable to copy file. %s\" % e)\n",
        "                continue\n",
        "\n",
        "\n",
        "organize_by_copy_train_test_vaildation_dir(main_target_path=main_target_path,all_subdir=all_subdir,\n",
        "                                   class_list=artist_list,data_format=data_format,\n",
        "                                   ml_subdir_list=[train_subdir,val_subdir,test_subdir],\n",
        "                                   train_size=train_size,\n",
        "                                   validation_size=val_size,\n",
        "                                   test_size=test_size)"
      ],
      "execution_count": 22,
      "outputs": [
        {
          "output_type": "stream",
          "text": [
            "/content/local_data/data_set/Albrecht_Duerer\n",
            "Number of images: 656\n",
            "\n",
            "/content/local_data/data_set/Caravaggio\n",
            "Number of images: 55\n",
            "\n",
            "/content/local_data/data_set/Fabritius\n",
            "Number of images: 17\n",
            "\n",
            "this should nerver happen .... n=16\n",
            "/content/local_data/data_set/Giotto_di_Bondone\n",
            "Number of images: 119\n",
            "\n",
            "this should nerver happen .... n=118\n",
            "/content/local_data/data_set/Leonardo_da_Vinci\n",
            "Number of images: 143\n",
            "\n",
            "/content/local_data/data_set/Michelangelo\n",
            "Number of images: 49\n",
            "\n",
            "/content/local_data/data_set/Raphael\n",
            "Number of images: 109\n",
            "\n",
            "/content/local_data/data_set/Rembrandt\n",
            "Number of images: 262\n",
            "\n"
          ],
          "name": "stdout"
        }
      ]
    },
    {
      "cell_type": "markdown",
      "metadata": {
        "id": "EIi4VscBTspP"
      },
      "source": [
        "# begin with VGG16"
      ]
    },
    {
      "cell_type": "markdown",
      "metadata": {
        "id": "B_gnz_GrWqS7"
      },
      "source": [
        "Let's improve our painter classifier! It's always a good idea to look at how other people have tackled a problem. \n",
        "\n",
        "Here are some links: \n",
        "\n",
        "http://cs231n.stanford.edu/reports/2017/pdfs/406.pdf\n",
        "\n",
        "http://cs231n.stanford.edu/reports/2017/pdfs/410.pdf\n",
        "\n",
        "\n",
        "\n",
        "\n"
      ]
    },
    {
      "cell_type": "markdown",
      "metadata": {
        "id": "IzGXys_2MsQW"
      },
      "source": [
        "https://github.com/keras-team/keras/issues/3338"
      ]
    },
    {
      "cell_type": "markdown",
      "metadata": {
        "id": "xuN8qAGxkLjf"
      },
      "source": [
        "##1- add Carel Fabritius"
      ]
    },
    {
      "cell_type": "markdown",
      "metadata": {
        "id": "zdZ0TmKcXbE2"
      },
      "source": [
        "I also want you to implement another painter into your dataset - Carel Fabritius, a scolar of Rembrandt. The reason is, that there are only 17 paintings of Fabritius left. Let's (along with other things) see how our model performs on such a small class. "
      ]
    },
    {
      "cell_type": "code",
      "metadata": {
        "id": "gspL2Uv9oalF"
      },
      "source": [
        "in_shape = (224,224,3)"
      ],
      "execution_count": 23,
      "outputs": []
    },
    {
      "cell_type": "code",
      "metadata": {
        "id": "qxrRVeUduioZ"
      },
      "source": [
        "train_gen = ImageDataGenerator(rescale=1./255.)\n",
        "validation_gen = ImageDataGenerator(rescale=1./255.)\n",
        "test_gen = ImageDataGenerator(rescale=1./255.)"
      ],
      "execution_count": 24,
      "outputs": []
    },
    {
      "cell_type": "code",
      "metadata": {
        "colab": {
          "base_uri": "https://localhost:8080/"
        },
        "id": "ZnHlpXh3uioZ",
        "outputId": "6ba41375-1a75-4d52-8d2b-ec3bf6bf4767"
      },
      "source": [
        "train_generator = train_gen.flow_from_directory(directory=\"/content/local_data/normal/train\",target_size=(224,224),batch_size=16,shuffle=True,seed=42)\n",
        "valid_generator = validation_gen.flow_from_directory(directory=\"/content/local_data/normal/validation\",target_size=(224,224),batch_size=16,shuffle=False,seed=42)\n",
        "test_generator = test_gen.flow_from_directory(directory=\"/content/local_data/normal/test\", target_size=(224,224),batch_size=16,shuffle=False,seed=42)"
      ],
      "execution_count": 25,
      "outputs": [
        {
          "output_type": "stream",
          "text": [
            "Found 1289 images belonging to 8 classes.\n",
            "Found 388 images belonging to 8 classes.\n",
            "Found 384 images belonging to 8 classes.\n"
          ],
          "name": "stdout"
        }
      ]
    },
    {
      "cell_type": "code",
      "metadata": {
        "id": "2bg4pgzim7oa"
      },
      "source": [
        "import tensorflow. keras as keras\n",
        "vgg16_model = keras.applications.VGG16()"
      ],
      "execution_count": 26,
      "outputs": []
    },
    {
      "cell_type": "code",
      "metadata": {
        "id": "It7uNgWkm8n6"
      },
      "source": [
        "vgg16_model = keras.applications.vgg16.VGG16(\n",
        "  weights='imagenet',\n",
        "  include_top=False,\n",
        "  input_shape=in_shape)\n",
        "\n",
        "# freeze the weights\n",
        "vgg16_model.trainable = False"
      ],
      "execution_count": 27,
      "outputs": []
    },
    {
      "cell_type": "code",
      "metadata": {
        "id": "eAQjvPS2rDLL"
      },
      "source": [
        "model_vgg16_c = Sequential()\n",
        "for layer in vgg16_model.layers:\n",
        "  model_vgg16_c.add(layer)"
      ],
      "execution_count": 28,
      "outputs": []
    },
    {
      "cell_type": "code",
      "metadata": {
        "id": "H61hEu0NV1zL"
      },
      "source": [
        "for layer in model_vgg16_c.layers:\n",
        "  layer.trainable = False"
      ],
      "execution_count": 29,
      "outputs": []
    },
    {
      "cell_type": "code",
      "metadata": {
        "id": "8o48KUYZJuf-",
        "colab": {
          "base_uri": "https://localhost:8080/"
        },
        "outputId": "4183801c-acba-4c24-94e2-00fef944ae2a"
      },
      "source": [
        "model_vgg16_c.add(Flatten())\n",
        "model_vgg16_c.add(Dense(256,activation='relu'))\n",
        "model_vgg16_c.add(Dropout(0.5))\n",
        "model_vgg16_c.add(Dense(8,activation='softmax'))\n",
        "model_vgg16_c.summary()"
      ],
      "execution_count": 30,
      "outputs": [
        {
          "output_type": "stream",
          "text": [
            "Model: \"sequential\"\n",
            "_________________________________________________________________\n",
            "Layer (type)                 Output Shape              Param #   \n",
            "=================================================================\n",
            "block1_conv1 (Conv2D)        (None, 224, 224, 64)      1792      \n",
            "_________________________________________________________________\n",
            "block1_conv2 (Conv2D)        (None, 224, 224, 64)      36928     \n",
            "_________________________________________________________________\n",
            "block1_pool (MaxPooling2D)   (None, 112, 112, 64)      0         \n",
            "_________________________________________________________________\n",
            "block2_conv1 (Conv2D)        (None, 112, 112, 128)     73856     \n",
            "_________________________________________________________________\n",
            "block2_conv2 (Conv2D)        (None, 112, 112, 128)     147584    \n",
            "_________________________________________________________________\n",
            "block2_pool (MaxPooling2D)   (None, 56, 56, 128)       0         \n",
            "_________________________________________________________________\n",
            "block3_conv1 (Conv2D)        (None, 56, 56, 256)       295168    \n",
            "_________________________________________________________________\n",
            "block3_conv2 (Conv2D)        (None, 56, 56, 256)       590080    \n",
            "_________________________________________________________________\n",
            "block3_conv3 (Conv2D)        (None, 56, 56, 256)       590080    \n",
            "_________________________________________________________________\n",
            "block3_pool (MaxPooling2D)   (None, 28, 28, 256)       0         \n",
            "_________________________________________________________________\n",
            "block4_conv1 (Conv2D)        (None, 28, 28, 512)       1180160   \n",
            "_________________________________________________________________\n",
            "block4_conv2 (Conv2D)        (None, 28, 28, 512)       2359808   \n",
            "_________________________________________________________________\n",
            "block4_conv3 (Conv2D)        (None, 28, 28, 512)       2359808   \n",
            "_________________________________________________________________\n",
            "block4_pool (MaxPooling2D)   (None, 14, 14, 512)       0         \n",
            "_________________________________________________________________\n",
            "block5_conv1 (Conv2D)        (None, 14, 14, 512)       2359808   \n",
            "_________________________________________________________________\n",
            "block5_conv2 (Conv2D)        (None, 14, 14, 512)       2359808   \n",
            "_________________________________________________________________\n",
            "block5_conv3 (Conv2D)        (None, 14, 14, 512)       2359808   \n",
            "_________________________________________________________________\n",
            "block5_pool (MaxPooling2D)   (None, 7, 7, 512)         0         \n",
            "_________________________________________________________________\n",
            "flatten (Flatten)            (None, 25088)             0         \n",
            "_________________________________________________________________\n",
            "dense (Dense)                (None, 256)               6422784   \n",
            "_________________________________________________________________\n",
            "dropout (Dropout)            (None, 256)               0         \n",
            "_________________________________________________________________\n",
            "dense_1 (Dense)              (None, 8)                 2056      \n",
            "=================================================================\n",
            "Total params: 21,139,528\n",
            "Trainable params: 6,424,840\n",
            "Non-trainable params: 14,714,688\n",
            "_________________________________________________________________\n"
          ],
          "name": "stdout"
        }
      ]
    },
    {
      "cell_type": "code",
      "metadata": {
        "id": "ZVXhHeZonJHa"
      },
      "source": [
        "model_vgg16_c.compile(optimizer=Adam(lr=0.0001),loss='categorical_crossentropy',metrics='accuracy') "
      ],
      "execution_count": 32,
      "outputs": []
    },
    {
      "cell_type": "code",
      "metadata": {
        "id": "Nrd_sOZGnLsT"
      },
      "source": [
        "mcp_2 = ModelCheckpoint('keras_applications_VGG16', monitor='val_accuracy', save_best_only=True, save_weights_only=False, verbose=1)"
      ],
      "execution_count": 33,
      "outputs": []
    },
    {
      "cell_type": "code",
      "metadata": {
        "colab": {
          "base_uri": "https://localhost:8080/"
        },
        "id": "GdGBTK6unOiS",
        "outputId": "9637342f-9440-47cd-d0c5-ba2c6a3a309d"
      },
      "source": [
        "history_model_vgg16_c = model_vgg16_c.fit(train_generator,validation_data = valid_generator,epochs=30,callbacks=[mcp_2])    "
      ],
      "execution_count": 34,
      "outputs": [
        {
          "output_type": "stream",
          "text": [
            "Epoch 1/30\n",
            "81/81 [==============================] - 31s 300ms/step - loss: 1.4301 - accuracy: 0.5453 - val_loss: 0.5215 - val_accuracy: 0.8325\n",
            "\n",
            "Epoch 00001: val_accuracy improved from -inf to 0.83247, saving model to keras_applications_VGG16\n",
            "INFO:tensorflow:Assets written to: keras_applications_VGG16/assets\n",
            "Epoch 2/30\n",
            "81/81 [==============================] - 19s 239ms/step - loss: 0.5953 - accuracy: 0.8001 - val_loss: 0.3966 - val_accuracy: 0.8557\n",
            "\n",
            "Epoch 00002: val_accuracy improved from 0.83247 to 0.85567, saving model to keras_applications_VGG16\n",
            "INFO:tensorflow:Assets written to: keras_applications_VGG16/assets\n",
            "Epoch 3/30\n",
            "81/81 [==============================] - 19s 234ms/step - loss: 0.4175 - accuracy: 0.8763 - val_loss: 0.2699 - val_accuracy: 0.9253\n",
            "\n",
            "Epoch 00003: val_accuracy improved from 0.85567 to 0.92526, saving model to keras_applications_VGG16\n",
            "INFO:tensorflow:Assets written to: keras_applications_VGG16/assets\n",
            "Epoch 4/30\n",
            "81/81 [==============================] - 19s 235ms/step - loss: 0.2928 - accuracy: 0.9070 - val_loss: 0.2159 - val_accuracy: 0.9149\n",
            "\n",
            "Epoch 00004: val_accuracy did not improve from 0.92526\n",
            "Epoch 5/30\n",
            "81/81 [==============================] - 20s 242ms/step - loss: 0.2071 - accuracy: 0.9416 - val_loss: 0.1377 - val_accuracy: 0.9716\n",
            "\n",
            "Epoch 00005: val_accuracy improved from 0.92526 to 0.97165, saving model to keras_applications_VGG16\n",
            "INFO:tensorflow:Assets written to: keras_applications_VGG16/assets\n",
            "Epoch 6/30\n",
            "81/81 [==============================] - 19s 231ms/step - loss: 0.1608 - accuracy: 0.9625 - val_loss: 0.1661 - val_accuracy: 0.9356\n",
            "\n",
            "Epoch 00006: val_accuracy did not improve from 0.97165\n",
            "Epoch 7/30\n",
            "81/81 [==============================] - 19s 233ms/step - loss: 0.1212 - accuracy: 0.9671 - val_loss: 0.1059 - val_accuracy: 0.9716\n",
            "\n",
            "Epoch 00007: val_accuracy did not improve from 0.97165\n",
            "Epoch 8/30\n",
            "81/81 [==============================] - 19s 233ms/step - loss: 0.1112 - accuracy: 0.9761 - val_loss: 0.0965 - val_accuracy: 0.9742\n",
            "\n",
            "Epoch 00008: val_accuracy improved from 0.97165 to 0.97423, saving model to keras_applications_VGG16\n",
            "INFO:tensorflow:Assets written to: keras_applications_VGG16/assets\n",
            "Epoch 9/30\n",
            "81/81 [==============================] - 19s 234ms/step - loss: 0.0791 - accuracy: 0.9877 - val_loss: 0.0985 - val_accuracy: 0.9742\n",
            "\n",
            "Epoch 00009: val_accuracy did not improve from 0.97423\n",
            "Epoch 10/30\n",
            "81/81 [==============================] - 19s 234ms/step - loss: 0.0623 - accuracy: 0.9910 - val_loss: 0.0865 - val_accuracy: 0.9768\n",
            "\n",
            "Epoch 00010: val_accuracy improved from 0.97423 to 0.97680, saving model to keras_applications_VGG16\n",
            "INFO:tensorflow:Assets written to: keras_applications_VGG16/assets\n",
            "Epoch 11/30\n",
            "81/81 [==============================] - 19s 229ms/step - loss: 0.0513 - accuracy: 0.9875 - val_loss: 0.0778 - val_accuracy: 0.9742\n",
            "\n",
            "Epoch 00011: val_accuracy did not improve from 0.97680\n",
            "Epoch 12/30\n",
            "81/81 [==============================] - 19s 233ms/step - loss: 0.0535 - accuracy: 0.9890 - val_loss: 0.0852 - val_accuracy: 0.9716\n",
            "\n",
            "Epoch 00012: val_accuracy did not improve from 0.97680\n",
            "Epoch 13/30\n",
            "81/81 [==============================] - 19s 237ms/step - loss: 0.0464 - accuracy: 0.9907 - val_loss: 0.0718 - val_accuracy: 0.9794\n",
            "\n",
            "Epoch 00013: val_accuracy improved from 0.97680 to 0.97938, saving model to keras_applications_VGG16\n",
            "INFO:tensorflow:Assets written to: keras_applications_VGG16/assets\n",
            "Epoch 14/30\n",
            "81/81 [==============================] - 19s 229ms/step - loss: 0.0289 - accuracy: 0.9993 - val_loss: 0.0689 - val_accuracy: 0.9794\n",
            "\n",
            "Epoch 00014: val_accuracy did not improve from 0.97938\n",
            "Epoch 15/30\n",
            "81/81 [==============================] - 19s 231ms/step - loss: 0.0286 - accuracy: 0.9976 - val_loss: 0.0654 - val_accuracy: 0.9794\n",
            "\n",
            "Epoch 00015: val_accuracy did not improve from 0.97938\n",
            "Epoch 16/30\n",
            "81/81 [==============================] - 19s 232ms/step - loss: 0.0234 - accuracy: 0.9992 - val_loss: 0.0753 - val_accuracy: 0.9716\n",
            "\n",
            "Epoch 00016: val_accuracy did not improve from 0.97938\n",
            "Epoch 17/30\n",
            "81/81 [==============================] - 19s 232ms/step - loss: 0.0232 - accuracy: 0.9962 - val_loss: 0.0671 - val_accuracy: 0.9794\n",
            "\n",
            "Epoch 00017: val_accuracy did not improve from 0.97938\n",
            "Epoch 18/30\n",
            "81/81 [==============================] - 18s 228ms/step - loss: 0.0232 - accuracy: 0.9984 - val_loss: 0.0815 - val_accuracy: 0.9742\n",
            "\n",
            "Epoch 00018: val_accuracy did not improve from 0.97938\n",
            "Epoch 19/30\n",
            "81/81 [==============================] - 19s 232ms/step - loss: 0.0220 - accuracy: 0.9986 - val_loss: 0.0575 - val_accuracy: 0.9845\n",
            "\n",
            "Epoch 00019: val_accuracy improved from 0.97938 to 0.98454, saving model to keras_applications_VGG16\n",
            "INFO:tensorflow:Assets written to: keras_applications_VGG16/assets\n",
            "Epoch 20/30\n",
            "81/81 [==============================] - 19s 229ms/step - loss: 0.0186 - accuracy: 0.9981 - val_loss: 0.0594 - val_accuracy: 0.9768\n",
            "\n",
            "Epoch 00020: val_accuracy did not improve from 0.98454\n",
            "Epoch 21/30\n",
            "81/81 [==============================] - 19s 232ms/step - loss: 0.0115 - accuracy: 0.9997 - val_loss: 0.0609 - val_accuracy: 0.9794\n",
            "\n",
            "Epoch 00021: val_accuracy did not improve from 0.98454\n",
            "Epoch 22/30\n",
            "81/81 [==============================] - 19s 229ms/step - loss: 0.0104 - accuracy: 1.0000 - val_loss: 0.0665 - val_accuracy: 0.9768\n",
            "\n",
            "Epoch 00022: val_accuracy did not improve from 0.98454\n",
            "Epoch 23/30\n",
            "81/81 [==============================] - 19s 231ms/step - loss: 0.0096 - accuracy: 1.0000 - val_loss: 0.0647 - val_accuracy: 0.9768\n",
            "\n",
            "Epoch 00023: val_accuracy did not improve from 0.98454\n",
            "Epoch 24/30\n",
            "81/81 [==============================] - 19s 233ms/step - loss: 0.0116 - accuracy: 0.9988 - val_loss: 0.0621 - val_accuracy: 0.9794\n",
            "\n",
            "Epoch 00024: val_accuracy did not improve from 0.98454\n",
            "Epoch 25/30\n",
            "81/81 [==============================] - 19s 231ms/step - loss: 0.0083 - accuracy: 1.0000 - val_loss: 0.0542 - val_accuracy: 0.9845\n",
            "\n",
            "Epoch 00025: val_accuracy did not improve from 0.98454\n",
            "Epoch 26/30\n",
            "81/81 [==============================] - 19s 229ms/step - loss: 0.0098 - accuracy: 0.9981 - val_loss: 0.0628 - val_accuracy: 0.9820\n",
            "\n",
            "Epoch 00026: val_accuracy did not improve from 0.98454\n",
            "Epoch 27/30\n",
            "81/81 [==============================] - 19s 233ms/step - loss: 0.0073 - accuracy: 1.0000 - val_loss: 0.0660 - val_accuracy: 0.9794\n",
            "\n",
            "Epoch 00027: val_accuracy did not improve from 0.98454\n",
            "Epoch 28/30\n",
            "81/81 [==============================] - 19s 229ms/step - loss: 0.0080 - accuracy: 0.9995 - val_loss: 0.0652 - val_accuracy: 0.9794\n",
            "\n",
            "Epoch 00028: val_accuracy did not improve from 0.98454\n",
            "Epoch 29/30\n",
            "81/81 [==============================] - 19s 229ms/step - loss: 0.0070 - accuracy: 1.0000 - val_loss: 0.0572 - val_accuracy: 0.9820\n",
            "\n",
            "Epoch 00029: val_accuracy did not improve from 0.98454\n",
            "Epoch 30/30\n",
            "81/81 [==============================] - 19s 232ms/step - loss: 0.0110 - accuracy: 1.0000 - val_loss: 0.0573 - val_accuracy: 0.9845\n",
            "\n",
            "Epoch 00030: val_accuracy did not improve from 0.98454\n"
          ],
          "name": "stdout"
        }
      ]
    },
    {
      "cell_type": "code",
      "metadata": {
        "colab": {
          "base_uri": "https://localhost:8080/",
          "height": 336
        },
        "id": "AWg4cUI-nSDz",
        "outputId": "d5952f8d-a756-470d-e77b-0b448b70a8ac"
      },
      "source": [
        "history_plot_from_loss_acc(history_model_vgg16_c,'keras.applications.VGG16')"
      ],
      "execution_count": 35,
      "outputs": [
        {
          "output_type": "display_data",
          "data": {
            "image/png": "[encoded data removed]",
            "text/plain": [
              "<Figure size 720x360 with 2 Axes>"
            ]
          },
          "metadata": {
            "tags": [],
            "needs_background": "light"
          }
        }
      ]
    },
    {
      "cell_type": "code",
      "metadata": {
        "id": "dO6HDo_2nWt7"
      },
      "source": [
        "best_keras_applications_VGG16_model = load_model('keras_applications_VGG16')"
      ],
      "execution_count": 36,
      "outputs": []
    },
    {
      "cell_type": "markdown",
      "metadata": {
        "id": "TPNRvxMu7HyR"
      },
      "source": [
        "#### result"
      ]
    },
    {
      "cell_type": "code",
      "metadata": {
        "id": "evOsK8Z6Kkki",
        "colab": {
          "base_uri": "https://localhost:8080/"
        },
        "outputId": "ba909b3d-cbab-4a71-af39-8dc9c67ab438"
      },
      "source": [
        "y_eval = best_keras_applications_VGG16_model.evaluate(test_generator)"
      ],
      "execution_count": 37,
      "outputs": [
        {
          "output_type": "stream",
          "text": [
            "24/24 [==============================] - 5s 174ms/step - loss: 0.0720 - accuracy: 0.9766\n"
          ],
          "name": "stdout"
        }
      ]
    },
    {
      "cell_type": "code",
      "metadata": {
        "id": "PzGyvIbk0Iob"
      },
      "source": [
        "y_predict_vgg16_model = best_keras_applications_VGG16_model.predict(test_generator)"
      ],
      "execution_count": 38,
      "outputs": []
    },
    {
      "cell_type": "code",
      "metadata": {
        "id": "3QizXC250Iod",
        "colab": {
          "base_uri": "https://localhost:8080/",
          "height": 599
        },
        "outputId": "e131f41e-3da7-4e9e-e325-558ac224bb6f"
      },
      "source": [
        "plot_confusion_matrix_x(test_generator.classes,y_predict_vgg16_model,artist_list)"
      ],
      "execution_count": 39,
      "outputs": [
        {
          "output_type": "display_data",
          "data": {
            "image/png": "[encoded data removed]",
            "text/plain": [
              "<Figure size 576x576 with 2 Axes>"
            ]
          },
          "metadata": {
            "tags": [],
            "needs_background": "light"
          }
        }
      ]
    },
    {
      "cell_type": "code",
      "metadata": {
        "id": "xjTu8H6h0Iod"
      },
      "source": [
        "#create_result_df(y_predict_vgg16_model,test_generator)"
      ],
      "execution_count": 40,
      "outputs": []
    },
    {
      "cell_type": "markdown",
      "metadata": {
        "id": "UTm4G8twkSCe"
      },
      "source": [
        "##2- use only crop samples"
      ]
    },
    {
      "cell_type": "markdown",
      "metadata": {
        "id": "uSZyHiOTYw_T"
      },
      "source": [
        "Now restructure your dataset so that you can implement Nitin Vishwanathans approach: Take one center crop and one random crop of each image. To do so, you need to write two functions, one to get a center crop of your image dimensions and one to get a random crop. "
      ]
    },
    {
      "cell_type": "markdown",
      "metadata": {
        "id": "O-kXKcBHkKrf"
      },
      "source": [
        "### crop"
      ]
    },
    {
      "cell_type": "markdown",
      "metadata": {
        "id": "_wdbLGHEHD0V"
      },
      "source": [
        " inspired from"
      ]
    },
    {
      "cell_type": "markdown",
      "metadata": {
        "id": "HRzFCImF1lth"
      },
      "source": [
        "https://jkjung-avt.github.io/keras-image-cropping/"
      ]
    },
    {
      "cell_type": "markdown",
      "metadata": {
        "id": "8qGLsfnPnta1"
      },
      "source": [
        "https://gist.github.com/rstml/bbd491287efc24133b90d4f7f3663905"
      ]
    },
    {
      "cell_type": "markdown",
      "metadata": {
        "id": "Tzq9Ze4H2PTe"
      },
      "source": [
        "### orginze in train,test and validate"
      ]
    },
    {
      "cell_type": "code",
      "metadata": {
        "id": "GluScz3Nh2L7"
      },
      "source": [
        "def get_center_crop(img):\n",
        "  dy = 224\n",
        "  dx = 224\n",
        "\n",
        "  height, width = img.shape[0], img.shape[1]\n",
        "   \n",
        "  x = (width - dx + 1) // 2\n",
        "  y = (height - dy + 1) // 2\n",
        "  return img[y:(y+dy), x:(x+dx), :]"
      ],
      "execution_count": 41,
      "outputs": []
    },
    {
      "cell_type": "code",
      "metadata": {
        "id": "YeZw0-BdnqMJ"
      },
      "source": [
        "def get_random_crop(img):\n",
        "  height, width = img.shape[0], img.shape[1]\n",
        " \n",
        "  dy = 224\n",
        "  dx = 224\n",
        "  x = np.random.randint(0, width - dx + 1)\n",
        "  y = np.random.randint(0, height - dy + 1)\n",
        "  return img[y:(y+dy), x:(x+dx), :]"
      ],
      "execution_count": 42,
      "outputs": []
    },
    {
      "cell_type": "code",
      "metadata": {
        "colab": {
          "base_uri": "https://localhost:8080/"
        },
        "id": "MMGneb7C2PTg",
        "outputId": "c7837006-d5c5-49dd-e12f-552732b1adb1"
      },
      "source": [
        "from shutil import copyfile\n",
        "from sys import exit\n",
        "\n",
        "all_subdir = 'data_set'\n",
        "train_subdir = 'crop_1/train'\n",
        "val_subdir = 'crop_1/validation'\n",
        "test_subdir = 'crop_1/test'\n",
        "\n",
        "train_size = 0.7\n",
        "val_size = 0.15\n",
        "test_size = 0.15\n",
        "\n",
        "organize_by_crop_center_train_test_vaildation_dir(main_target_path=main_target_path,all_subdir=all_subdir,\n",
        "                                   class_list=artist_list,data_format=data_format,\n",
        "                                   ml_subdir_list=[train_subdir,val_subdir,test_subdir],\n",
        "                                   train_size=train_size,\n",
        "                                   validation_size=val_size,\n",
        "                                   test_size=test_size)"
      ],
      "execution_count": 43,
      "outputs": [
        {
          "output_type": "stream",
          "text": [
            "/content/local_data/data_set/Albrecht_Duerer\n",
            "Number of images: 656\n",
            "\n",
            "656\n",
            "1671\n",
            "/content/local_data/data_set/Caravaggio\n",
            "Number of images: 55\n",
            "\n",
            "55\n",
            "138\n",
            "/content/local_data/data_set/Fabritius\n",
            "Number of images: 17\n",
            "\n",
            "17\n",
            "39\n",
            "this should nerver happen .... n=16\n",
            "/content/local_data/data_set/Giotto_di_Bondone\n",
            "Number of images: 119\n",
            "\n",
            "119\n",
            "300\n",
            "this should nerver happen .... n=118\n",
            "/content/local_data/data_set/Leonardo_da_Vinci\n",
            "Number of images: 143\n",
            "\n",
            "143\n",
            "363\n",
            "/content/local_data/data_set/Michelangelo\n",
            "Number of images: 49\n",
            "\n",
            "49\n",
            "123\n",
            "/content/local_data/data_set/Raphael\n",
            "Number of images: 109\n",
            "\n",
            "109\n",
            "276\n",
            "/content/local_data/data_set/Rembrandt\n",
            "Number of images: 262\n",
            "\n",
            "262\n",
            "666\n"
          ],
          "name": "stdout"
        }
      ]
    },
    {
      "cell_type": "code",
      "metadata": {
        "colab": {
          "base_uri": "https://localhost:8080/"
        },
        "id": "98Qpif8tKyDN",
        "outputId": "a43a5e81-459e-40dc-ddfc-477fa97854f4"
      },
      "source": [
        "organize_by_crop_random_train_test_vaildation_dir(main_target_path=main_target_path,all_subdir=all_subdir,\n",
        "                                   class_list=artist_list,data_format=data_format,\n",
        "                                   ml_subdir_list=[train_subdir,val_subdir,test_subdir],\n",
        "                                   train_size=train_size,\n",
        "                                   validation_size=val_size,\n",
        "                                   test_size=test_size)"
      ],
      "execution_count": 44,
      "outputs": [
        {
          "output_type": "stream",
          "text": [
            "/content/local_data/data_set/Albrecht_Duerer\n",
            "Number of images: 656\n",
            "\n",
            "656\n",
            "1671\n",
            "/content/local_data/data_set/Caravaggio\n",
            "Number of images: 55\n",
            "\n",
            "55\n",
            "138\n",
            "/content/local_data/data_set/Fabritius\n",
            "Number of images: 17\n",
            "\n",
            "17\n",
            "39\n",
            "this should nerver happen .... n=16\n",
            "/content/local_data/data_set/Giotto_di_Bondone\n",
            "Number of images: 119\n",
            "\n",
            "119\n",
            "300\n",
            "this should nerver happen .... n=118\n",
            "/content/local_data/data_set/Leonardo_da_Vinci\n",
            "Number of images: 143\n",
            "\n",
            "143\n",
            "363\n",
            "ValueError low >= high\n",
            "/content/local_data/data_set/Michelangelo\n",
            "Number of images: 49\n",
            "\n",
            "49\n",
            "123\n",
            "/content/local_data/data_set/Raphael\n",
            "Number of images: 109\n",
            "\n",
            "109\n",
            "276\n",
            "Image size to small (174, 614, 3) /content/local_data/data_set/Raphael/Raphael_35.jpg\n",
            "/content/local_data/data_set/Rembrandt\n",
            "Number of images: 262\n",
            "\n",
            "262\n",
            "666\n"
          ],
          "name": "stdout"
        }
      ]
    },
    {
      "cell_type": "markdown",
      "metadata": {
        "id": "jYqwWZMTZYzV"
      },
      "source": [
        "NOTE: you would not necessarily need to restructure the data set - if you wrote a custom data_generator who does the cropping for you. And check whether keras has this under the hood. But you might be unlucky..."
      ]
    },
    {
      "cell_type": "markdown",
      "metadata": {
        "id": "HqR6ndQGjlsm"
      },
      "source": [
        "###feed them with the crops"
      ]
    },
    {
      "cell_type": "markdown",
      "metadata": {
        "id": "RyJ3Q4lkZw84"
      },
      "source": [
        "Now take the models from RNN_Quest_1 - and feed them with the crops, rather than the resized images!\n",
        "\n",
        "What is the performance? Did it improve? "
      ]
    },
    {
      "cell_type": "code",
      "metadata": {
        "id": "xLDh-gYzLWpg"
      },
      "source": [
        "train_gen = ImageDataGenerator(rescale=1./255.)\n",
        "validation_gen = ImageDataGenerator(rescale=1./255.)\n",
        "test_gen = ImageDataGenerator(rescale=1./255.)"
      ],
      "execution_count": 45,
      "outputs": []
    },
    {
      "cell_type": "code",
      "metadata": {
        "colab": {
          "base_uri": "https://localhost:8080/"
        },
        "id": "o7nZkRDxLWpi",
        "outputId": "208262da-8b8f-4bc4-aba4-49b0af634608"
      },
      "source": [
        "train_generator = train_gen.flow_from_directory(directory=\"/content/local_data/crop_1/train\",target_size=(224,224),batch_size=16,shuffle=True,seed=42)\n",
        "valid_generator = validation_gen.flow_from_directory(directory=\"/content/local_data/crop_1/validation\",target_size=(224,224),batch_size=16,shuffle=False,seed=42)\n",
        "test_generator = test_gen.flow_from_directory(directory=\"/content/local_data/crop_1/test\", target_size=(224,224),batch_size=16,shuffle=False,seed=42)"
      ],
      "execution_count": 46,
      "outputs": [
        {
          "output_type": "stream",
          "text": [
            "Found 3957 images belonging to 8 classes.\n",
            "Found 830 images belonging to 8 classes.\n",
            "Found 837 images belonging to 8 classes.\n"
          ],
          "name": "stdout"
        }
      ]
    },
    {
      "cell_type": "code",
      "metadata": {
        "id": "Hvwj6_KjVb5J"
      },
      "source": [
        "vgg16_model = keras.applications.vgg16.VGG16(\n",
        "  weights='imagenet',\n",
        "  include_top=False,\n",
        "  input_shape=in_shape)\n",
        "\n",
        "# freeze the weights\n",
        "vgg16_model.trainable = False"
      ],
      "execution_count": 47,
      "outputs": []
    },
    {
      "cell_type": "code",
      "metadata": {
        "id": "_dXzRPAtVcMY"
      },
      "source": [
        "model_vgg16_d = Sequential()\n",
        "for layer in vgg16_model.layers:\n",
        "  model_vgg16_d.add(layer)"
      ],
      "execution_count": 48,
      "outputs": []
    },
    {
      "cell_type": "code",
      "metadata": {
        "id": "T7UW1qM0VcMZ"
      },
      "source": [
        "for layer in model_vgg16_d.layers:\n",
        "  layer.trainable = False"
      ],
      "execution_count": 49,
      "outputs": []
    },
    {
      "cell_type": "code",
      "metadata": {
        "id": "KmvkiJsEVcMZ",
        "colab": {
          "base_uri": "https://localhost:8080/"
        },
        "outputId": "d9db3f90-758d-48b2-e6cc-5e214f064673"
      },
      "source": [
        "model_vgg16_d.add(Flatten())\n",
        "model_vgg16_d.add(Dense(256,activation='relu'))\n",
        "model_vgg16_d.add(Dropout(0.5))\n",
        "model_vgg16_d.add(Dense(8,activation='softmax'))\n",
        "model_vgg16_d.summary()"
      ],
      "execution_count": 50,
      "outputs": [
        {
          "output_type": "stream",
          "text": [
            "Model: \"sequential_1\"\n",
            "_________________________________________________________________\n",
            "Layer (type)                 Output Shape              Param #   \n",
            "=================================================================\n",
            "block1_conv1 (Conv2D)        (None, 224, 224, 64)      1792      \n",
            "_________________________________________________________________\n",
            "block1_conv2 (Conv2D)        (None, 224, 224, 64)      36928     \n",
            "_________________________________________________________________\n",
            "block1_pool (MaxPooling2D)   (None, 112, 112, 64)      0         \n",
            "_________________________________________________________________\n",
            "block2_conv1 (Conv2D)        (None, 112, 112, 128)     73856     \n",
            "_________________________________________________________________\n",
            "block2_conv2 (Conv2D)        (None, 112, 112, 128)     147584    \n",
            "_________________________________________________________________\n",
            "block2_pool (MaxPooling2D)   (None, 56, 56, 128)       0         \n",
            "_________________________________________________________________\n",
            "block3_conv1 (Conv2D)        (None, 56, 56, 256)       295168    \n",
            "_________________________________________________________________\n",
            "block3_conv2 (Conv2D)        (None, 56, 56, 256)       590080    \n",
            "_________________________________________________________________\n",
            "block3_conv3 (Conv2D)        (None, 56, 56, 256)       590080    \n",
            "_________________________________________________________________\n",
            "block3_pool (MaxPooling2D)   (None, 28, 28, 256)       0         \n",
            "_________________________________________________________________\n",
            "block4_conv1 (Conv2D)        (None, 28, 28, 512)       1180160   \n",
            "_________________________________________________________________\n",
            "block4_conv2 (Conv2D)        (None, 28, 28, 512)       2359808   \n",
            "_________________________________________________________________\n",
            "block4_conv3 (Conv2D)        (None, 28, 28, 512)       2359808   \n",
            "_________________________________________________________________\n",
            "block4_pool (MaxPooling2D)   (None, 14, 14, 512)       0         \n",
            "_________________________________________________________________\n",
            "block5_conv1 (Conv2D)        (None, 14, 14, 512)       2359808   \n",
            "_________________________________________________________________\n",
            "block5_conv2 (Conv2D)        (None, 14, 14, 512)       2359808   \n",
            "_________________________________________________________________\n",
            "block5_conv3 (Conv2D)        (None, 14, 14, 512)       2359808   \n",
            "_________________________________________________________________\n",
            "block5_pool (MaxPooling2D)   (None, 7, 7, 512)         0         \n",
            "_________________________________________________________________\n",
            "flatten_1 (Flatten)          (None, 25088)             0         \n",
            "_________________________________________________________________\n",
            "dense_2 (Dense)              (None, 256)               6422784   \n",
            "_________________________________________________________________\n",
            "dropout_1 (Dropout)          (None, 256)               0         \n",
            "_________________________________________________________________\n",
            "dense_3 (Dense)              (None, 8)                 2056      \n",
            "=================================================================\n",
            "Total params: 21,139,528\n",
            "Trainable params: 6,424,840\n",
            "Non-trainable params: 14,714,688\n",
            "_________________________________________________________________\n"
          ],
          "name": "stdout"
        }
      ]
    },
    {
      "cell_type": "code",
      "metadata": {
        "id": "uXzdbj5rU0Be"
      },
      "source": [
        "model_vgg16_d.compile(optimizer=Adam(lr=0.0001),loss='categorical_crossentropy',metrics='accuracy') "
      ],
      "execution_count": 51,
      "outputs": []
    },
    {
      "cell_type": "code",
      "metadata": {
        "id": "yqe-RS7sU0Bf"
      },
      "source": [
        "mcp_2 = ModelCheckpoint('keras_applications_VGG16', monitor='val_accuracy', save_best_only=True, save_weights_only=False, verbose=1)"
      ],
      "execution_count": 52,
      "outputs": []
    },
    {
      "cell_type": "code",
      "metadata": {
        "colab": {
          "base_uri": "https://localhost:8080/"
        },
        "id": "I0VS-3ABLWpk",
        "outputId": "87112948-9749-4c80-ebf4-21ca3a01d1b4"
      },
      "source": [
        "history_model_vgg16_d = model_vgg16_d.fit(train_generator,validation_data = valid_generator,epochs=30,callbacks=[mcp_2])    "
      ],
      "execution_count": 53,
      "outputs": [
        {
          "output_type": "stream",
          "text": [
            "Epoch 1/30\n",
            "248/248 [==============================] - 48s 188ms/step - loss: 1.2659 - accuracy: 0.5905 - val_loss: 0.6192 - val_accuracy: 0.8084\n",
            "\n",
            "Epoch 00001: val_accuracy improved from -inf to 0.80843, saving model to keras_applications_VGG16\n",
            "INFO:tensorflow:Assets written to: keras_applications_VGG16/assets\n",
            "Epoch 2/30\n",
            "248/248 [==============================] - 40s 160ms/step - loss: 0.6330 - accuracy: 0.7900 - val_loss: 0.5777 - val_accuracy: 0.8205\n",
            "\n",
            "Epoch 00002: val_accuracy improved from 0.80843 to 0.82048, saving model to keras_applications_VGG16\n",
            "INFO:tensorflow:Assets written to: keras_applications_VGG16/assets\n",
            "Epoch 3/30\n",
            "248/248 [==============================] - 40s 160ms/step - loss: 0.4727 - accuracy: 0.8490 - val_loss: 0.4420 - val_accuracy: 0.8783\n",
            "\n",
            "Epoch 00003: val_accuracy improved from 0.82048 to 0.87831, saving model to keras_applications_VGG16\n",
            "INFO:tensorflow:Assets written to: keras_applications_VGG16/assets\n",
            "Epoch 4/30\n",
            "248/248 [==============================] - 40s 160ms/step - loss: 0.3683 - accuracy: 0.8832 - val_loss: 0.4177 - val_accuracy: 0.8699\n",
            "\n",
            "Epoch 00004: val_accuracy did not improve from 0.87831\n",
            "Epoch 5/30\n",
            "248/248 [==============================] - 40s 160ms/step - loss: 0.2867 - accuracy: 0.9236 - val_loss: 0.3620 - val_accuracy: 0.8940\n",
            "\n",
            "Epoch 00005: val_accuracy improved from 0.87831 to 0.89398, saving model to keras_applications_VGG16\n",
            "INFO:tensorflow:Assets written to: keras_applications_VGG16/assets\n",
            "Epoch 6/30\n",
            "248/248 [==============================] - 40s 160ms/step - loss: 0.2353 - accuracy: 0.9349 - val_loss: 0.3488 - val_accuracy: 0.9000\n",
            "\n",
            "Epoch 00006: val_accuracy improved from 0.89398 to 0.90000, saving model to keras_applications_VGG16\n",
            "INFO:tensorflow:Assets written to: keras_applications_VGG16/assets\n",
            "Epoch 7/30\n",
            "248/248 [==============================] - 39s 159ms/step - loss: 0.1824 - accuracy: 0.9523 - val_loss: 0.3679 - val_accuracy: 0.8904\n",
            "\n",
            "Epoch 00007: val_accuracy did not improve from 0.90000\n",
            "Epoch 8/30\n",
            "248/248 [==============================] - 39s 159ms/step - loss: 0.1872 - accuracy: 0.9442 - val_loss: 0.3290 - val_accuracy: 0.9000\n",
            "\n",
            "Epoch 00008: val_accuracy did not improve from 0.90000\n",
            "Epoch 9/30\n",
            "248/248 [==============================] - 40s 160ms/step - loss: 0.1415 - accuracy: 0.9634 - val_loss: 0.3295 - val_accuracy: 0.9048\n",
            "\n",
            "Epoch 00009: val_accuracy improved from 0.90000 to 0.90482, saving model to keras_applications_VGG16\n",
            "INFO:tensorflow:Assets written to: keras_applications_VGG16/assets\n",
            "Epoch 10/30\n",
            "248/248 [==============================] - 40s 160ms/step - loss: 0.1233 - accuracy: 0.9646 - val_loss: 0.3350 - val_accuracy: 0.9096\n",
            "\n",
            "Epoch 00010: val_accuracy improved from 0.90482 to 0.90964, saving model to keras_applications_VGG16\n",
            "INFO:tensorflow:Assets written to: keras_applications_VGG16/assets\n",
            "Epoch 11/30\n",
            "248/248 [==============================] - 40s 160ms/step - loss: 0.1080 - accuracy: 0.9736 - val_loss: 0.3631 - val_accuracy: 0.9012\n",
            "\n",
            "Epoch 00011: val_accuracy did not improve from 0.90964\n",
            "Epoch 12/30\n",
            "248/248 [==============================] - 40s 160ms/step - loss: 0.0906 - accuracy: 0.9799 - val_loss: 0.3193 - val_accuracy: 0.9036\n",
            "\n",
            "Epoch 00012: val_accuracy did not improve from 0.90964\n",
            "Epoch 13/30\n",
            "248/248 [==============================] - 39s 159ms/step - loss: 0.0880 - accuracy: 0.9762 - val_loss: 0.3412 - val_accuracy: 0.9072\n",
            "\n",
            "Epoch 00013: val_accuracy did not improve from 0.90964\n",
            "Epoch 14/30\n",
            "248/248 [==============================] - 39s 159ms/step - loss: 0.0818 - accuracy: 0.9838 - val_loss: 0.3582 - val_accuracy: 0.9060\n",
            "\n",
            "Epoch 00014: val_accuracy did not improve from 0.90964\n",
            "Epoch 15/30\n",
            "248/248 [==============================] - 40s 160ms/step - loss: 0.0562 - accuracy: 0.9887 - val_loss: 0.3486 - val_accuracy: 0.9096\n",
            "\n",
            "Epoch 00015: val_accuracy did not improve from 0.90964\n",
            "Epoch 16/30\n",
            "248/248 [==============================] - 39s 159ms/step - loss: 0.0583 - accuracy: 0.9874 - val_loss: 0.3216 - val_accuracy: 0.9096\n",
            "\n",
            "Epoch 00016: val_accuracy did not improve from 0.90964\n",
            "Epoch 17/30\n",
            "248/248 [==============================] - 40s 160ms/step - loss: 0.0560 - accuracy: 0.9874 - val_loss: 0.3574 - val_accuracy: 0.9036\n",
            "\n",
            "Epoch 00017: val_accuracy did not improve from 0.90964\n",
            "Epoch 18/30\n",
            "248/248 [==============================] - 40s 160ms/step - loss: 0.0540 - accuracy: 0.9888 - val_loss: 0.3815 - val_accuracy: 0.8988\n",
            "\n",
            "Epoch 00018: val_accuracy did not improve from 0.90964\n",
            "Epoch 19/30\n",
            "248/248 [==============================] - 40s 160ms/step - loss: 0.0467 - accuracy: 0.9910 - val_loss: 0.4037 - val_accuracy: 0.9048\n",
            "\n",
            "Epoch 00019: val_accuracy did not improve from 0.90964\n",
            "Epoch 20/30\n",
            "248/248 [==============================] - 40s 159ms/step - loss: 0.0395 - accuracy: 0.9895 - val_loss: 0.3314 - val_accuracy: 0.9048\n",
            "\n",
            "Epoch 00020: val_accuracy did not improve from 0.90964\n",
            "Epoch 21/30\n",
            "248/248 [==============================] - 40s 160ms/step - loss: 0.0358 - accuracy: 0.9916 - val_loss: 0.3803 - val_accuracy: 0.9024\n",
            "\n",
            "Epoch 00021: val_accuracy did not improve from 0.90964\n",
            "Epoch 22/30\n",
            "248/248 [==============================] - 40s 160ms/step - loss: 0.0314 - accuracy: 0.9948 - val_loss: 0.3497 - val_accuracy: 0.9036\n",
            "\n",
            "Epoch 00022: val_accuracy did not improve from 0.90964\n",
            "Epoch 23/30\n",
            "248/248 [==============================] - 39s 159ms/step - loss: 0.0330 - accuracy: 0.9935 - val_loss: 0.3835 - val_accuracy: 0.9000\n",
            "\n",
            "Epoch 00023: val_accuracy did not improve from 0.90964\n",
            "Epoch 24/30\n",
            "248/248 [==============================] - 40s 159ms/step - loss: 0.0425 - accuracy: 0.9908 - val_loss: 0.3768 - val_accuracy: 0.8964\n",
            "\n",
            "Epoch 00024: val_accuracy did not improve from 0.90964\n",
            "Epoch 25/30\n",
            "248/248 [==============================] - 39s 159ms/step - loss: 0.0286 - accuracy: 0.9941 - val_loss: 0.3890 - val_accuracy: 0.9024\n",
            "\n",
            "Epoch 00025: val_accuracy did not improve from 0.90964\n",
            "Epoch 26/30\n",
            "248/248 [==============================] - 40s 159ms/step - loss: 0.0230 - accuracy: 0.9962 - val_loss: 0.3784 - val_accuracy: 0.9036\n",
            "\n",
            "Epoch 00026: val_accuracy did not improve from 0.90964\n",
            "Epoch 27/30\n",
            "248/248 [==============================] - 40s 160ms/step - loss: 0.0290 - accuracy: 0.9954 - val_loss: 0.3818 - val_accuracy: 0.9084\n",
            "\n",
            "Epoch 00027: val_accuracy did not improve from 0.90964\n",
            "Epoch 28/30\n",
            "248/248 [==============================] - 40s 160ms/step - loss: 0.0243 - accuracy: 0.9949 - val_loss: 0.3919 - val_accuracy: 0.9012\n",
            "\n",
            "Epoch 00028: val_accuracy did not improve from 0.90964\n",
            "Epoch 29/30\n",
            "248/248 [==============================] - 39s 159ms/step - loss: 0.0264 - accuracy: 0.9946 - val_loss: 0.3988 - val_accuracy: 0.9036\n",
            "\n",
            "Epoch 00029: val_accuracy did not improve from 0.90964\n",
            "Epoch 30/30\n",
            "248/248 [==============================] - 40s 160ms/step - loss: 0.0234 - accuracy: 0.9954 - val_loss: 0.4509 - val_accuracy: 0.9036\n",
            "\n",
            "Epoch 00030: val_accuracy did not improve from 0.90964\n"
          ],
          "name": "stdout"
        }
      ]
    },
    {
      "cell_type": "code",
      "metadata": {
        "colab": {
          "base_uri": "https://localhost:8080/",
          "height": 336
        },
        "id": "fcCb72xOLWpk",
        "outputId": "3003d438-ee48-4be6-8515-985ccdb15692"
      },
      "source": [
        "history_plot_from_loss_acc(history_model_vgg16_d,'keras_applications_VGG16')"
      ],
      "execution_count": 54,
      "outputs": [
        {
          "output_type": "display_data",
          "data": {
            "image/png": "[encoded data removed]",
            "text/plain": [
              "<Figure size 720x360 with 2 Axes>"
            ]
          },
          "metadata": {
            "tags": [],
            "needs_background": "light"
          }
        }
      ]
    },
    {
      "cell_type": "code",
      "metadata": {
        "id": "X7n_UmBaLWpk"
      },
      "source": [
        "best_keras_applications_VGG16_model = load_model('keras_applications_VGG16')"
      ],
      "execution_count": 55,
      "outputs": []
    },
    {
      "cell_type": "markdown",
      "metadata": {
        "id": "g7JGNvxgkmKZ"
      },
      "source": [
        "### result"
      ]
    },
    {
      "cell_type": "code",
      "metadata": {
        "colab": {
          "base_uri": "https://localhost:8080/"
        },
        "id": "ciVv2BYxLWpk",
        "outputId": "6e826143-8acc-4eba-d613-4f89e666e97c"
      },
      "source": [
        "y_eval = best_keras_applications_VGG16_model.evaluate(test_generator)"
      ],
      "execution_count": 56,
      "outputs": [
        {
          "output_type": "stream",
          "text": [
            "53/53 [==============================] - 7s 130ms/step - loss: 0.3693 - accuracy: 0.8817\n"
          ],
          "name": "stdout"
        }
      ]
    },
    {
      "cell_type": "code",
      "metadata": {
        "id": "aqa--uA_LWpl"
      },
      "source": [
        "y_predict_vgg16_model = best_keras_applications_VGG16_model.predict(test_generator)"
      ],
      "execution_count": 57,
      "outputs": []
    },
    {
      "cell_type": "code",
      "metadata": {
        "colab": {
          "base_uri": "https://localhost:8080/",
          "height": 599
        },
        "id": "14RLtiItLWpl",
        "outputId": "29eef1a8-339f-446e-8aeb-a48d2ba3b267"
      },
      "source": [
        "plot_confusion_matrix_x(test_generator.classes,y_predict_vgg16_model,artist_list)"
      ],
      "execution_count": 58,
      "outputs": [
        {
          "output_type": "display_data",
          "data": {
            "image/png": "[encoded data removed]",
            "text/plain": [
              "<Figure size 576x576 with 2 Axes>"
            ]
          },
          "metadata": {
            "tags": [],
            "needs_background": "light"
          }
        }
      ]
    },
    {
      "cell_type": "code",
      "metadata": {
        "id": "JTcJg5-ha7Ib"
      },
      "source": [
        "pred = np.argmax(abs(y_predict_vgg16_model), axis=1)"
      ],
      "execution_count": 59,
      "outputs": []
    },
    {
      "cell_type": "code",
      "metadata": {
        "id": "zwf5q73jZ_4C",
        "colab": {
          "base_uri": "https://localhost:8080/"
        },
        "outputId": "8f42ccda-f77f-4a7c-b4d5-33161633685d"
      },
      "source": [
        "from sklearn.metrics import classification_report\n",
        "report = classification_report(test_generator.classes, pred, target_names=test_generator.class_indices)\n",
        "print(report)"
      ],
      "execution_count": 60,
      "outputs": [
        {
          "output_type": "stream",
          "text": [
            "                   precision    recall  f1-score   support\n",
            "\n",
            "  Albrecht_Duerer       0.96      0.99      0.97       391\n",
            "       Caravaggio       0.62      0.62      0.62        32\n",
            "        Fabritius       1.00      0.42      0.59        12\n",
            "Giotto_di_Bondone       0.83      0.88      0.85        72\n",
            "Leonardo_da_Vinci       0.75      0.77      0.76        83\n",
            "     Michelangelo       1.00      0.57      0.73        28\n",
            "          Raphael       0.78      0.83      0.80        63\n",
            "        Rembrandt       0.85      0.85      0.85       156\n",
            "\n",
            "         accuracy                           0.88       837\n",
            "        macro avg       0.85      0.74      0.77       837\n",
            "     weighted avg       0.88      0.88      0.88       837\n",
            "\n"
          ],
          "name": "stdout"
        }
      ]
    },
    {
      "cell_type": "code",
      "metadata": {
        "id": "Z7fmuLNKeAAr"
      },
      "source": [
        "report_dict = classification_report(test_generator.classes, pred, target_names=test_generator.class_indices,output_dict=True)"
      ],
      "execution_count": 61,
      "outputs": []
    },
    {
      "cell_type": "code",
      "metadata": {
        "colab": {
          "base_uri": "https://localhost:8080/"
        },
        "id": "SUtQ1OPLXUlP",
        "outputId": "86a56b92-aedf-42f9-e85c-7e8ef0047818"
      },
      "source": [
        "for artist_name in artist_list:\n",
        "    number_of_images_in_path(os.path.join(os.sep,main_target_path,\"crop_1/test\",artist_name),data_format)\n",
        "    \n",
        "df =get_image_information(main_target_path=main_target_path,sub_path=\"crop_1/test\",class_list=artist_list,data_format=data_format)"
      ],
      "execution_count": 62,
      "outputs": [
        {
          "output_type": "stream",
          "text": [
            "/content/local_data/crop_1/test/Albrecht_Duerer\n",
            "Number of images: 391\n",
            "\n",
            "/content/local_data/crop_1/test/Caravaggio\n",
            "Number of images: 32\n",
            "\n",
            "/content/local_data/crop_1/test/Fabritius\n",
            "Number of images: 12\n",
            "\n",
            "/content/local_data/crop_1/test/Giotto_di_Bondone\n",
            "Number of images: 72\n",
            "\n",
            "/content/local_data/crop_1/test/Leonardo_da_Vinci\n",
            "Number of images: 83\n",
            "\n",
            "/content/local_data/crop_1/test/Michelangelo\n",
            "Number of images: 28\n",
            "\n",
            "/content/local_data/crop_1/test/Raphael\n",
            "Number of images: 63\n",
            "\n",
            "/content/local_data/crop_1/test/Rembrandt\n",
            "Number of images: 156\n",
            "\n"
          ],
          "name": "stdout"
        }
      ]
    },
    {
      "cell_type": "code",
      "metadata": {
        "id": "i803Q0yfX17g"
      },
      "source": [
        "df_group = df.groupby('class_x').agg(all=('class_x','count')).reset_index()"
      ],
      "execution_count": 63,
      "outputs": []
    },
    {
      "cell_type": "code",
      "metadata": {
        "id": "cW9zotbsbXPS"
      },
      "source": [
        "df_group['perc']=df_group['all'].apply(lambda x: x/df.shape[0]*100)"
      ],
      "execution_count": 64,
      "outputs": []
    },
    {
      "cell_type": "code",
      "metadata": {
        "id": "5rrBwLYBehdm"
      },
      "source": [
        "df_group['f1-score'] =  df_group['class_x'].map(lambda x:report_dict.get(x).get('f1-score'))"
      ],
      "execution_count": 65,
      "outputs": []
    },
    {
      "cell_type": "code",
      "metadata": {
        "id": "kGWEz3yQd39k"
      },
      "source": [
        "df_group['precision'] =  df_group['class_x'].map(lambda x:report_dict.get(x).get('precision'))"
      ],
      "execution_count": 66,
      "outputs": []
    },
    {
      "cell_type": "code",
      "metadata": {
        "colab": {
          "base_uri": "https://localhost:8080/",
          "height": 288
        },
        "id": "s1SFHhr9fmmg",
        "outputId": "48474c50-fb34-44a5-abbb-6eefa44d9ff7"
      },
      "source": [
        "df_group.sort_values(by=['precision'],ascending=False)"
      ],
      "execution_count": 67,
      "outputs": [
        {
          "output_type": "execute_result",
          "data": {
            "text/html": [
              "<div>\n",
              "<style scoped>\n",
              "    .dataframe tbody tr th:only-of-type {\n",
              "        vertical-align: middle;\n",
              "    }\n",
              "\n",
              "    .dataframe tbody tr th {\n",
              "        vertical-align: top;\n",
              "    }\n",
              "\n",
              "    .dataframe thead th {\n",
              "        text-align: right;\n",
              "    }\n",
              "</style>\n",
              "<table border=\"1\" class=\"dataframe\">\n",
              "  <thead>\n",
              "    <tr style=\"text-align: right;\">\n",
              "      <th></th>\n",
              "      <th>class_x</th>\n",
              "      <th>all</th>\n",
              "      <th>perc</th>\n",
              "      <th>f1-score</th>\n",
              "      <th>precision</th>\n",
              "    </tr>\n",
              "  </thead>\n",
              "  <tbody>\n",
              "    <tr>\n",
              "      <th>2</th>\n",
              "      <td>Fabritius</td>\n",
              "      <td>12</td>\n",
              "      <td>1.433692</td>\n",
              "      <td>0.588235</td>\n",
              "      <td>1.000000</td>\n",
              "    </tr>\n",
              "    <tr>\n",
              "      <th>5</th>\n",
              "      <td>Michelangelo</td>\n",
              "      <td>28</td>\n",
              "      <td>3.345281</td>\n",
              "      <td>0.727273</td>\n",
              "      <td>1.000000</td>\n",
              "    </tr>\n",
              "    <tr>\n",
              "      <th>0</th>\n",
              "      <td>Albrecht_Duerer</td>\n",
              "      <td>391</td>\n",
              "      <td>46.714456</td>\n",
              "      <td>0.974747</td>\n",
              "      <td>0.962594</td>\n",
              "    </tr>\n",
              "    <tr>\n",
              "      <th>7</th>\n",
              "      <td>Rembrandt</td>\n",
              "      <td>156</td>\n",
              "      <td>18.637993</td>\n",
              "      <td>0.848875</td>\n",
              "      <td>0.851613</td>\n",
              "    </tr>\n",
              "    <tr>\n",
              "      <th>3</th>\n",
              "      <td>Giotto_di_Bondone</td>\n",
              "      <td>72</td>\n",
              "      <td>8.602151</td>\n",
              "      <td>0.851351</td>\n",
              "      <td>0.828947</td>\n",
              "    </tr>\n",
              "    <tr>\n",
              "      <th>6</th>\n",
              "      <td>Raphael</td>\n",
              "      <td>63</td>\n",
              "      <td>7.526882</td>\n",
              "      <td>0.800000</td>\n",
              "      <td>0.776119</td>\n",
              "    </tr>\n",
              "    <tr>\n",
              "      <th>4</th>\n",
              "      <td>Leonardo_da_Vinci</td>\n",
              "      <td>83</td>\n",
              "      <td>9.916368</td>\n",
              "      <td>0.761905</td>\n",
              "      <td>0.752941</td>\n",
              "    </tr>\n",
              "    <tr>\n",
              "      <th>1</th>\n",
              "      <td>Caravaggio</td>\n",
              "      <td>32</td>\n",
              "      <td>3.823178</td>\n",
              "      <td>0.625000</td>\n",
              "      <td>0.625000</td>\n",
              "    </tr>\n",
              "  </tbody>\n",
              "</table>\n",
              "</div>"
            ],
            "text/plain": [
              "             class_x  all       perc  f1-score  precision\n",
              "2          Fabritius   12   1.433692  0.588235   1.000000\n",
              "5       Michelangelo   28   3.345281  0.727273   1.000000\n",
              "0    Albrecht_Duerer  391  46.714456  0.974747   0.962594\n",
              "7          Rembrandt  156  18.637993  0.848875   0.851613\n",
              "3  Giotto_di_Bondone   72   8.602151  0.851351   0.828947\n",
              "6            Raphael   63   7.526882  0.800000   0.776119\n",
              "4  Leonardo_da_Vinci   83   9.916368  0.761905   0.752941\n",
              "1         Caravaggio   32   3.823178  0.625000   0.625000"
            ]
          },
          "metadata": {
            "tags": []
          },
          "execution_count": 67
        }
      ]
    },
    {
      "cell_type": "code",
      "metadata": {
        "colab": {
          "base_uri": "https://localhost:8080/",
          "height": 288
        },
        "id": "JXhI5RyTghUy",
        "outputId": "cabedb8c-13b7-47ed-9d9c-3101bd75a955"
      },
      "source": [
        "df_group.sort_values(by=['f1-score'],ascending=False)"
      ],
      "execution_count": 68,
      "outputs": [
        {
          "output_type": "execute_result",
          "data": {
            "text/html": [
              "<div>\n",
              "<style scoped>\n",
              "    .dataframe tbody tr th:only-of-type {\n",
              "        vertical-align: middle;\n",
              "    }\n",
              "\n",
              "    .dataframe tbody tr th {\n",
              "        vertical-align: top;\n",
              "    }\n",
              "\n",
              "    .dataframe thead th {\n",
              "        text-align: right;\n",
              "    }\n",
              "</style>\n",
              "<table border=\"1\" class=\"dataframe\">\n",
              "  <thead>\n",
              "    <tr style=\"text-align: right;\">\n",
              "      <th></th>\n",
              "      <th>class_x</th>\n",
              "      <th>all</th>\n",
              "      <th>perc</th>\n",
              "      <th>f1-score</th>\n",
              "      <th>precision</th>\n",
              "    </tr>\n",
              "  </thead>\n",
              "  <tbody>\n",
              "    <tr>\n",
              "      <th>0</th>\n",
              "      <td>Albrecht_Duerer</td>\n",
              "      <td>391</td>\n",
              "      <td>46.714456</td>\n",
              "      <td>0.974747</td>\n",
              "      <td>0.962594</td>\n",
              "    </tr>\n",
              "    <tr>\n",
              "      <th>3</th>\n",
              "      <td>Giotto_di_Bondone</td>\n",
              "      <td>72</td>\n",
              "      <td>8.602151</td>\n",
              "      <td>0.851351</td>\n",
              "      <td>0.828947</td>\n",
              "    </tr>\n",
              "    <tr>\n",
              "      <th>7</th>\n",
              "      <td>Rembrandt</td>\n",
              "      <td>156</td>\n",
              "      <td>18.637993</td>\n",
              "      <td>0.848875</td>\n",
              "      <td>0.851613</td>\n",
              "    </tr>\n",
              "    <tr>\n",
              "      <th>6</th>\n",
              "      <td>Raphael</td>\n",
              "      <td>63</td>\n",
              "      <td>7.526882</td>\n",
              "      <td>0.800000</td>\n",
              "      <td>0.776119</td>\n",
              "    </tr>\n",
              "    <tr>\n",
              "      <th>4</th>\n",
              "      <td>Leonardo_da_Vinci</td>\n",
              "      <td>83</td>\n",
              "      <td>9.916368</td>\n",
              "      <td>0.761905</td>\n",
              "      <td>0.752941</td>\n",
              "    </tr>\n",
              "    <tr>\n",
              "      <th>5</th>\n",
              "      <td>Michelangelo</td>\n",
              "      <td>28</td>\n",
              "      <td>3.345281</td>\n",
              "      <td>0.727273</td>\n",
              "      <td>1.000000</td>\n",
              "    </tr>\n",
              "    <tr>\n",
              "      <th>1</th>\n",
              "      <td>Caravaggio</td>\n",
              "      <td>32</td>\n",
              "      <td>3.823178</td>\n",
              "      <td>0.625000</td>\n",
              "      <td>0.625000</td>\n",
              "    </tr>\n",
              "    <tr>\n",
              "      <th>2</th>\n",
              "      <td>Fabritius</td>\n",
              "      <td>12</td>\n",
              "      <td>1.433692</td>\n",
              "      <td>0.588235</td>\n",
              "      <td>1.000000</td>\n",
              "    </tr>\n",
              "  </tbody>\n",
              "</table>\n",
              "</div>"
            ],
            "text/plain": [
              "             class_x  all       perc  f1-score  precision\n",
              "0    Albrecht_Duerer  391  46.714456  0.974747   0.962594\n",
              "3  Giotto_di_Bondone   72   8.602151  0.851351   0.828947\n",
              "7          Rembrandt  156  18.637993  0.848875   0.851613\n",
              "6            Raphael   63   7.526882  0.800000   0.776119\n",
              "4  Leonardo_da_Vinci   83   9.916368  0.761905   0.752941\n",
              "5       Michelangelo   28   3.345281  0.727273   1.000000\n",
              "1         Caravaggio   32   3.823178  0.625000   0.625000\n",
              "2          Fabritius   12   1.433692  0.588235   1.000000"
            ]
          },
          "metadata": {
            "tags": []
          },
          "execution_count": 68
        }
      ]
    },
    {
      "cell_type": "markdown",
      "metadata": {
        "id": "L5Nr73fqlJpo"
      },
      "source": [
        "#compare VGG16 with resnet 50"
      ]
    },
    {
      "cell_type": "markdown",
      "metadata": {
        "id": "Xi6IX3dZGFl3"
      },
      "source": [
        "### RESNET 50"
      ]
    },
    {
      "cell_type": "markdown",
      "metadata": {
        "id": "udfGIJirHGn-"
      },
      "source": [
        "#### top model"
      ]
    },
    {
      "cell_type": "code",
      "metadata": {
        "id": "4MV-peaCrF7K"
      },
      "source": [
        "from keras.models import Model\n",
        "from keras import initializers\n",
        "from keras.applications.resnet50 import ResNet50"
      ],
      "execution_count": 69,
      "outputs": []
    },
    {
      "cell_type": "code",
      "metadata": {
        "id": "rovfIHgQrgqv"
      },
      "source": [
        "resnet50 = ResNet50(include_top=False, input_shape=in_shape)"
      ],
      "execution_count": 70,
      "outputs": []
    },
    {
      "cell_type": "code",
      "metadata": {
        "id": "mh4-AK3iHGn_"
      },
      "source": [
        "dropout_rate = 0.3\n",
        "num_classes = 8\n",
        "\n",
        "# Top Model\n",
        "a = Input(shape=(7,7,2048))\n",
        "x = AveragePooling2D(7,7)(a)\n",
        "x = Flatten()(x)\n",
        "x = Dropout(dropout_rate)(x)\n",
        "x = Dense(2048, kernel_initializer=initializers.he_normal(), bias_initializer=initializers.ones(),activation='relu')(x)\n",
        "x = Dense(num_classes, kernel_initializer=initializers.he_normal(), bias_initializer=initializers.ones(), activation='softmax')(x)\n",
        "top_model = Model(inputs=a, outputs=x)\n",
        "\n",
        "#top_model.summary()"
      ],
      "execution_count": 71,
      "outputs": []
    },
    {
      "cell_type": "code",
      "metadata": {
        "id": "tBNwQTtvHGn_",
        "colab": {
          "base_uri": "https://localhost:8080/"
        },
        "outputId": "a5feb878-a7b0-4b05-a19e-834d092e655a"
      },
      "source": [
        "inp = Input(shape=in_shape)\n",
        "y = resnet50(inp)\n",
        "y = top_model(y)\n",
        "final_model_resnet = Model(inp,y)\n",
        "\n",
        "final_model_resnet.summary()"
      ],
      "execution_count": 72,
      "outputs": [
        {
          "output_type": "stream",
          "text": [
            "Model: \"model_1\"\n",
            "_________________________________________________________________\n",
            "Layer (type)                 Output Shape              Param #   \n",
            "=================================================================\n",
            "input_6 (InputLayer)         [(None, 224, 224, 3)]     0         \n",
            "_________________________________________________________________\n",
            "resnet50 (Functional)        (None, 7, 7, 2048)        23587712  \n",
            "_________________________________________________________________\n",
            "model (Functional)           (None, 8)                 4212744   \n",
            "=================================================================\n",
            "Total params: 27,800,456\n",
            "Trainable params: 27,747,336\n",
            "Non-trainable params: 53,120\n",
            "_________________________________________________________________\n"
          ],
          "name": "stdout"
        }
      ]
    },
    {
      "cell_type": "code",
      "metadata": {
        "id": "KOEDzwNvHGoA"
      },
      "source": [
        "final_model_resnet.compile(optimizer=Adam(lr=0.0001),loss='categorical_crossentropy',metrics='accuracy') "
      ],
      "execution_count": 73,
      "outputs": []
    },
    {
      "cell_type": "code",
      "metadata": {
        "id": "r7_aekrdHGoA"
      },
      "source": [
        "mcp = ModelCheckpoint('final_model_resnet', monitor='val_accuracy', save_best_only=True, save_weights_only=False, verbose=1)"
      ],
      "execution_count": 74,
      "outputs": []
    },
    {
      "cell_type": "code",
      "metadata": {
        "id": "RfL7bAGKHGoA",
        "colab": {
          "base_uri": "https://localhost:8080/"
        },
        "outputId": "168c38e8-937d-4420-e586-9300198d0f1e"
      },
      "source": [
        "history_final_model_resnet = final_model_resnet.fit(train_generator,validation_data = valid_generator,epochs=25,callbacks=[mcp])    "
      ],
      "execution_count": 75,
      "outputs": [
        {
          "output_type": "stream",
          "text": [
            "Epoch 1/25\n",
            "248/248 [==============================] - 113s 420ms/step - loss: 0.8637 - accuracy: 0.7576 - val_loss: 6.3912 - val_accuracy: 0.0518\n",
            "\n",
            "Epoch 00001: val_accuracy improved from -inf to 0.05181, saving model to final_model_resnet\n",
            "INFO:tensorflow:Assets written to: final_model_resnet/assets\n",
            "Epoch 2/25\n",
            "248/248 [==============================] - 101s 406ms/step - loss: 0.1383 - accuracy: 0.9516 - val_loss: 8.8579 - val_accuracy: 0.0940\n",
            "\n",
            "Epoch 00002: val_accuracy improved from 0.05181 to 0.09398, saving model to final_model_resnet\n",
            "INFO:tensorflow:Assets written to: final_model_resnet/assets\n",
            "Epoch 3/25\n",
            "248/248 [==============================] - 101s 406ms/step - loss: 0.1261 - accuracy: 0.9583 - val_loss: 2.5907 - val_accuracy: 0.5578\n",
            "\n",
            "Epoch 00003: val_accuracy improved from 0.09398 to 0.55783, saving model to final_model_resnet\n",
            "INFO:tensorflow:Assets written to: final_model_resnet/assets\n",
            "Epoch 4/25\n",
            "248/248 [==============================] - 101s 406ms/step - loss: 0.0875 - accuracy: 0.9745 - val_loss: 2.2368 - val_accuracy: 0.7892\n",
            "\n",
            "Epoch 00004: val_accuracy improved from 0.55783 to 0.78916, saving model to final_model_resnet\n",
            "INFO:tensorflow:Assets written to: final_model_resnet/assets\n",
            "Epoch 5/25\n",
            "248/248 [==============================] - 100s 404ms/step - loss: 0.0640 - accuracy: 0.9794 - val_loss: 0.3648 - val_accuracy: 0.9169\n",
            "\n",
            "Epoch 00005: val_accuracy improved from 0.78916 to 0.91687, saving model to final_model_resnet\n",
            "INFO:tensorflow:Assets written to: final_model_resnet/assets\n",
            "Epoch 6/25\n",
            "248/248 [==============================] - 100s 404ms/step - loss: 0.0560 - accuracy: 0.9836 - val_loss: 0.5136 - val_accuracy: 0.9157\n",
            "\n",
            "Epoch 00006: val_accuracy did not improve from 0.91687\n",
            "Epoch 7/25\n",
            "248/248 [==============================] - 100s 404ms/step - loss: 0.0872 - accuracy: 0.9768 - val_loss: 0.2370 - val_accuracy: 0.9470\n",
            "\n",
            "Epoch 00007: val_accuracy improved from 0.91687 to 0.94699, saving model to final_model_resnet\n",
            "INFO:tensorflow:Assets written to: final_model_resnet/assets\n",
            "Epoch 8/25\n",
            "248/248 [==============================] - 100s 404ms/step - loss: 0.0302 - accuracy: 0.9901 - val_loss: 13.7241 - val_accuracy: 0.6627\n",
            "\n",
            "Epoch 00008: val_accuracy did not improve from 0.94699\n",
            "Epoch 9/25\n",
            "248/248 [==============================] - 101s 405ms/step - loss: 0.1773 - accuracy: 0.9557 - val_loss: 0.6160 - val_accuracy: 0.8108\n",
            "\n",
            "Epoch 00009: val_accuracy did not improve from 0.94699\n",
            "Epoch 10/25\n",
            "248/248 [==============================] - 100s 405ms/step - loss: 0.0710 - accuracy: 0.9768 - val_loss: 0.1204 - val_accuracy: 0.9651\n",
            "\n",
            "Epoch 00010: val_accuracy improved from 0.94699 to 0.96506, saving model to final_model_resnet\n",
            "INFO:tensorflow:Assets written to: final_model_resnet/assets\n",
            "Epoch 11/25\n",
            "248/248 [==============================] - 101s 405ms/step - loss: 0.0479 - accuracy: 0.9860 - val_loss: 0.3032 - val_accuracy: 0.9157\n",
            "\n",
            "Epoch 00011: val_accuracy did not improve from 0.96506\n",
            "Epoch 12/25\n",
            "248/248 [==============================] - 101s 405ms/step - loss: 0.0490 - accuracy: 0.9873 - val_loss: 0.1236 - val_accuracy: 0.9590\n",
            "\n",
            "Epoch 00012: val_accuracy did not improve from 0.96506\n",
            "Epoch 13/25\n",
            "248/248 [==============================] - 101s 406ms/step - loss: 0.0258 - accuracy: 0.9932 - val_loss: 0.1850 - val_accuracy: 0.9566\n",
            "\n",
            "Epoch 00013: val_accuracy did not improve from 0.96506\n",
            "Epoch 14/25\n",
            "248/248 [==============================] - 101s 406ms/step - loss: 0.0349 - accuracy: 0.9913 - val_loss: 0.1168 - val_accuracy: 0.9699\n",
            "\n",
            "Epoch 00014: val_accuracy improved from 0.96506 to 0.96988, saving model to final_model_resnet\n",
            "INFO:tensorflow:Assets written to: final_model_resnet/assets\n",
            "Epoch 15/25\n",
            "248/248 [==============================] - 100s 404ms/step - loss: 0.0143 - accuracy: 0.9958 - val_loss: 0.0908 - val_accuracy: 0.9711\n",
            "\n",
            "Epoch 00015: val_accuracy improved from 0.96988 to 0.97108, saving model to final_model_resnet\n",
            "INFO:tensorflow:Assets written to: final_model_resnet/assets\n",
            "Epoch 16/25\n",
            "248/248 [==============================] - 100s 405ms/step - loss: 0.0064 - accuracy: 0.9973 - val_loss: 0.2647 - val_accuracy: 0.9530\n",
            "\n",
            "Epoch 00016: val_accuracy did not improve from 0.97108\n",
            "Epoch 17/25\n",
            "248/248 [==============================] - 100s 405ms/step - loss: 0.0319 - accuracy: 0.9910 - val_loss: 0.2278 - val_accuracy: 0.9530\n",
            "\n",
            "Epoch 00017: val_accuracy did not improve from 0.97108\n",
            "Epoch 18/25\n",
            "248/248 [==============================] - 100s 405ms/step - loss: 0.0387 - accuracy: 0.9887 - val_loss: 0.9080 - val_accuracy: 0.8964\n",
            "\n",
            "Epoch 00018: val_accuracy did not improve from 0.97108\n",
            "Epoch 19/25\n",
            "248/248 [==============================] - 100s 405ms/step - loss: 0.0456 - accuracy: 0.9857 - val_loss: 0.4002 - val_accuracy: 0.9205\n",
            "\n",
            "Epoch 00019: val_accuracy did not improve from 0.97108\n",
            "Epoch 20/25\n",
            "248/248 [==============================] - 100s 405ms/step - loss: 0.0829 - accuracy: 0.9819 - val_loss: 0.2714 - val_accuracy: 0.9277\n",
            "\n",
            "Epoch 00020: val_accuracy did not improve from 0.97108\n",
            "Epoch 21/25\n",
            "248/248 [==============================] - 101s 405ms/step - loss: 0.0447 - accuracy: 0.9825 - val_loss: 0.1377 - val_accuracy: 0.9627\n",
            "\n",
            "Epoch 00021: val_accuracy did not improve from 0.97108\n",
            "Epoch 22/25\n",
            "248/248 [==============================] - 100s 405ms/step - loss: 0.0176 - accuracy: 0.9922 - val_loss: 0.1347 - val_accuracy: 0.9627\n",
            "\n",
            "Epoch 00022: val_accuracy did not improve from 0.97108\n",
            "Epoch 23/25\n",
            "248/248 [==============================] - 100s 405ms/step - loss: 0.0216 - accuracy: 0.9952 - val_loss: 0.2829 - val_accuracy: 0.9446\n",
            "\n",
            "Epoch 00023: val_accuracy did not improve from 0.97108\n",
            "Epoch 24/25\n",
            "248/248 [==============================] - 100s 405ms/step - loss: 0.0171 - accuracy: 0.9951 - val_loss: 0.4848 - val_accuracy: 0.9133\n",
            "\n",
            "Epoch 00024: val_accuracy did not improve from 0.97108\n",
            "Epoch 25/25\n",
            "248/248 [==============================] - 100s 405ms/step - loss: 0.0852 - accuracy: 0.9808 - val_loss: 0.2814 - val_accuracy: 0.9265\n",
            "\n",
            "Epoch 00025: val_accuracy did not improve from 0.97108\n"
          ],
          "name": "stdout"
        }
      ]
    },
    {
      "cell_type": "code",
      "metadata": {
        "id": "ToReBI1GHGoA",
        "colab": {
          "base_uri": "https://localhost:8080/",
          "height": 336
        },
        "outputId": "e1829c4f-633f-425e-bd6e-91068f5acdd2"
      },
      "source": [
        "history_plot_from_loss_acc(history_final_model_resnet,'final_model_resnet')"
      ],
      "execution_count": 76,
      "outputs": [
        {
          "output_type": "display_data",
          "data": {
            "image/png": "[encoded data removed]",
            "text/plain": [
              "<Figure size 720x360 with 2 Axes>"
            ]
          },
          "metadata": {
            "tags": [],
            "needs_background": "light"
          }
        }
      ]
    },
    {
      "cell_type": "code",
      "metadata": {
        "id": "qfF2upWNHGoB"
      },
      "source": [
        "best_final_model = load_model('final_model_resnet')"
      ],
      "execution_count": 77,
      "outputs": []
    },
    {
      "cell_type": "markdown",
      "metadata": {
        "id": "sTxoknpA8DLn"
      },
      "source": [
        "#### result"
      ]
    },
    {
      "cell_type": "code",
      "metadata": {
        "id": "-WLdD_O6HGoB",
        "colab": {
          "base_uri": "https://localhost:8080/"
        },
        "outputId": "ba459d8d-da03-453f-955a-04d8add1e1de"
      },
      "source": [
        "best_final_model.evaluate(test_generator)"
      ],
      "execution_count": 78,
      "outputs": [
        {
          "output_type": "stream",
          "text": [
            "53/53 [==============================] - 8s 126ms/step - loss: 0.1047 - accuracy: 0.9701\n"
          ],
          "name": "stdout"
        },
        {
          "output_type": "execute_result",
          "data": {
            "text/plain": [
              "[0.10470417886972427, 0.9701313972473145]"
            ]
          },
          "metadata": {
            "tags": []
          },
          "execution_count": 78
        }
      ]
    },
    {
      "cell_type": "code",
      "metadata": {
        "id": "3rCi05QrJdzy"
      },
      "source": [
        "y_predict_resnet_au = best_final_model.predict(test_generator)"
      ],
      "execution_count": 79,
      "outputs": []
    },
    {
      "cell_type": "code",
      "metadata": {
        "id": "z1K40ec1I3E9",
        "colab": {
          "base_uri": "https://localhost:8080/",
          "height": 599
        },
        "outputId": "303d0fa6-5e11-42bf-98f2-4a4f6e51efa0"
      },
      "source": [
        "plot_confusion_matrix_x(test_generator.classes,y_predict_resnet_au,artist_list)"
      ],
      "execution_count": 80,
      "outputs": [
        {
          "output_type": "display_data",
          "data": {
            "image/png": "[encoded data removed]",
            "text/plain": [
              "<Figure size 576x576 with 2 Axes>"
            ]
          },
          "metadata": {
            "tags": [],
            "needs_background": "light"
          }
        }
      ]
    },
    {
      "cell_type": "markdown",
      "metadata": {
        "id": "56KYbN_GlQLP"
      },
      "source": [
        "#Rethink the data preprocessing procedure"
      ]
    },
    {
      "cell_type": "markdown",
      "metadata": {
        "id": "hbFCBtvjaXN6"
      },
      "source": [
        "Rethink the data preprocessing procedure. You missed a great chance (and so did Vishwanathan)! What could it be.\n",
        "\n",
        "Really DO think about it - and when you have (or maybe haven't despite trying hard) came up with a solution, go to RNN_Quest_3!"
      ]
    },
    {
      "cell_type": "markdown",
      "metadata": {
        "id": "k-L1PB-KK-Z_"
      },
      "source": [
        "The image with the highest number of samples gets the best classification result and the image with the lowest number of samples the worst. But in between the order doesn’t follow this rule. In general you need a particular number of image classes to get a good training result, but there are also other reasons like the painter styles and distribution of this kind of style between other painters and so on. For example  Raphael style is under these circumstances easier to classify as others."
      ]
    }
  ]
}