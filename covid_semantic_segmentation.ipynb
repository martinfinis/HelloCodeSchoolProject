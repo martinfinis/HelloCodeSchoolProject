{
  "nbformat": 4,
  "nbformat_minor": 0,
  "metadata": {
    "colab": {
      "name": "covid_semantic_segmentation.ipynb",
      "provenance": [],
      "collapsed_sections": [],
      "toc_visible": true,
      "machine_shape": "hm",
      "include_colab_link": true
    },
    "kernelspec": {
      "name": "python3",
      "display_name": "Python 3"
    },
    "language_info": {
      "name": "python"
    },
    "accelerator": "GPU"
  },
  "cells": [
    {
      "cell_type": "markdown",
      "metadata": {
        "id": "view-in-github",
        "colab_type": "text"
      },
      "source": [
        "<a href=\"https://colab.research.google.com/github/martinfinis/HelloCodeSchoolProject/blob/master/covid_semantic_segmentation.ipynb\" target=\"_parent\"><img src=\"https://colab.research.google.com/assets/colab-badge.svg\" alt=\"Open In Colab\"/></a>"
      ]
    },
    {
      "cell_type": "markdown",
      "metadata": {
        "id": "7F8dPhyg4LL5"
      },
      "source": [
        "# Control and environment settings"
      ]
    },
    {
      "cell_type": "code",
      "metadata": {
        "id": "HShgiBec4Lo3"
      },
      "source": [
        "# try to crop the lung area only\n",
        "bool_crop = True\n",
        "\n",
        "# scale each image indepently - set the darkest pixel to zero and the lightest pixel to 255\n",
        "bool_scale = False\n",
        "\n",
        "# Random seed used in the notebook\n",
        "RAND_SEED = 42\n",
        "\n",
        "# Train InceptionV3 from scratch or load existing model \n",
        "REBUILD_INCEPTIONV3 = False\n",
        "\n",
        "# Train Standard-CNN-Model from scratch or load existing model \n",
        "REBUILD_CNN = False\n",
        "\n",
        "# Path variables\n",
        "source_dir = '/content/curated_data/curated_data/'\n",
        "train_dir = str(source_dir + 'train/')\n",
        "test_dir = str(source_dir + 'test/')\n",
        "validation_dir = str(source_dir + 'validation/')\n",
        "\n",
        "# Path used to store and restore trained models\n",
        "target_path = '/content/drive/.shortcut-targets-by-id/1lp7vo6EG60jba1Gk_tuNpvDm7q5ZXlKX/Telecom_Specialization_ML3/Students/Peter_Christoph_Marko_Martin/program/'"
      ],
      "execution_count": null,
      "outputs": []
    },
    {
      "cell_type": "markdown",
      "metadata": {
        "id": "UhA5KVSCtS65"
      },
      "source": [
        "#Imports"
      ]
    },
    {
      "cell_type": "code",
      "metadata": {
        "colab": {
          "base_uri": "https://localhost:8080/"
        },
        "id": "M29Eo_EJpnaX",
        "outputId": "10b9fafd-d777-4e24-c9cb-e1012d1c2212"
      },
      "source": [
        "!pip install scikit-plot"
      ],
      "execution_count": null,
      "outputs": [
        {
          "output_type": "stream",
          "text": [
            "Collecting scikit-plot\n",
            "  Downloading https://files.pythonhosted.org/packages/7c/47/32520e259340c140a4ad27c1b97050dd3254fdc517b1d59974d47037510e/scikit_plot-0.3.7-py3-none-any.whl\n",
            "Requirement already satisfied: scipy>=0.9 in /usr/local/lib/python3.7/dist-packages (from scikit-plot) (1.4.1)\n",
            "Requirement already satisfied: matplotlib>=1.4.0 in /usr/local/lib/python3.7/dist-packages (from scikit-plot) (3.2.2)\n",
            "Requirement already satisfied: joblib>=0.10 in /usr/local/lib/python3.7/dist-packages (from scikit-plot) (1.0.1)\n",
            "Requirement already satisfied: scikit-learn>=0.18 in /usr/local/lib/python3.7/dist-packages (from scikit-plot) (0.22.2.post1)\n",
            "Requirement already satisfied: numpy>=1.13.3 in /usr/local/lib/python3.7/dist-packages (from scipy>=0.9->scikit-plot) (1.19.5)\n",
            "Requirement already satisfied: kiwisolver>=1.0.1 in /usr/local/lib/python3.7/dist-packages (from matplotlib>=1.4.0->scikit-plot) (1.3.1)\n",
            "Requirement already satisfied: python-dateutil>=2.1 in /usr/local/lib/python3.7/dist-packages (from matplotlib>=1.4.0->scikit-plot) (2.8.1)\n",
            "Requirement already satisfied: pyparsing!=2.0.4,!=2.1.2,!=2.1.6,>=2.0.1 in /usr/local/lib/python3.7/dist-packages (from matplotlib>=1.4.0->scikit-plot) (2.4.7)\n",
            "Requirement already satisfied: cycler>=0.10 in /usr/local/lib/python3.7/dist-packages (from matplotlib>=1.4.0->scikit-plot) (0.10.0)\n",
            "Requirement already satisfied: six>=1.5 in /usr/local/lib/python3.7/dist-packages (from python-dateutil>=2.1->matplotlib>=1.4.0->scikit-plot) (1.15.0)\n",
            "Installing collected packages: scikit-plot\n",
            "Successfully installed scikit-plot-0.3.7\n"
          ],
          "name": "stdout"
        }
      ]
    },
    {
      "cell_type": "code",
      "metadata": {
        "id": "cTXt2_eltVWd"
      },
      "source": [
        "# Import required packages\n",
        "from google.colab import drive\n",
        "from google.colab.patches import cv2_imshow\n",
        "\n",
        "import pylab as pl\n",
        "import pandas as pd\n",
        "import numpy as np\n",
        "import matplotlib.pyplot as plt\n",
        "import seaborn as sns\n",
        "import glob\n",
        "import time\n",
        "import os\n",
        "import shutil\n",
        "import tensorflow as tf\n",
        "import cv2 as cv2\n",
        "\n",
        "from IPython import display\n",
        "from datetime import datetime\n",
        "\n",
        "import scikitplot as skplt\n",
        "\n",
        "from sklearn.metrics import log_loss\n",
        "from sklearn.linear_model import LogisticRegression\n",
        "from sklearn.metrics import plot_confusion_matrix\n",
        "from sklearn.metrics import classification_report\n",
        "from sklearn.metrics import accuracy_score\n",
        "\n",
        "import joblib\n",
        "import lightgbm as lgb\n",
        "\n",
        "from tensorflow.keras.preprocessing.image import ImageDataGenerator\n",
        "from tensorflow.keras.layers import Dense, Flatten, Dropout, InputLayer, ReLU\n",
        "from tensorflow.keras.layers import BatchNormalization, Conv2D, MaxPooling2D, AveragePooling2D, MaxPool2D\n",
        "from tensorflow.keras.models import Sequential, Model\n",
        "from tensorflow.keras.optimizers import Adam \n",
        "from tensorflow.keras.callbacks import ModelCheckpoint\n",
        "from tensorflow.keras.models import load_model\n",
        "from tensorflow.keras.applications import InceptionV3\n",
        "from tensorflow.python.keras.callbacks import History\n",
        "\n",
        "\n",
        "%matplotlib inline"
      ],
      "execution_count": null,
      "outputs": []
    },
    {
      "cell_type": "code",
      "metadata": {
        "id": "81ds8kJvkmqX"
      },
      "source": [
        "!rm -r curated_data\n",
        "!rm meta_data_cap.csv\n",
        "!rm meta_data_covid.csv\n",
        "!rm meta_data_normal.csv"
      ],
      "execution_count": null,
      "outputs": []
    },
    {
      "cell_type": "markdown",
      "metadata": {
        "id": "nNbW2sPBaqTZ"
      },
      "source": [
        "# Helper Functions"
      ]
    },
    {
      "cell_type": "code",
      "metadata": {
        "id": "5JvzMTAI7GR5"
      },
      "source": [
        "def load_imagelist_label(main_dir, sub_dirs, data_format='/*.png'):\n",
        "  \"\"\"\n",
        "  helper function to create a img list and a label list from the data files\n",
        "  takes use of the global variables classes_list and data_fromat\n",
        "  \"\"\"\n",
        "  img_list = []\n",
        "  label_list = []\n",
        "\n",
        "  for case in sub_dirs:#in original version, just a hint -> dict_case_df.keys():#dict_case_lst can be delete after final run\n",
        "    file_list = glob.glob(os.path.join(main_dir, case + data_format))\n",
        "    \n",
        "    for f in range(len(file_list)):  \n",
        "      img = cv2.imread(file_list[f], cv2.IMREAD_GRAYSCALE)\n",
        "      #img = cv2.resize(img, (224, 224))#uncommit for final version, done in other function \n",
        "      img_list.append(img)\n",
        "      label_list.append(case)\n",
        "\n",
        "  return np.array(img_list), np.array(label_list)"
      ],
      "execution_count": null,
      "outputs": []
    },
    {
      "cell_type": "code",
      "metadata": {
        "id": "juQ5JKXSV6tZ"
      },
      "source": [
        "# Find a filename of an image correctly predicted with highest confidence\n",
        "def get_best_image_name(model, generator, class_string):\n",
        "  \"\"\"\n",
        "  model: trained model\n",
        "  generator: fitted generator\n",
        "  class_string: one of generator.class_indices: {'CAP': 0, 'COVID': 1, 'NonCOVID': 2}\n",
        "  Returns:\n",
        "  - image_file_path of (one of) the image(s) in generator which was \n",
        "  correctly predicted as belonging to the given class - i.e. prediction for \n",
        "  given class is highest value.\n",
        "  - softmax predictions for all classes for this image.\n",
        "  \"\"\"\n",
        "\n",
        "\n",
        "  print(f\"generator.directory: {generator.directory}\")\n",
        "  print(f\"generator.class_indices: {generator.class_indices}\")\n",
        "\n",
        "  class_n = generator.class_indices[class_string]\n",
        "\n",
        "  y_true = generator.classes\n",
        "\n",
        "  # Predictions for data in generator\n",
        "  y_predict_softmax = model.predict(generator)\n",
        "\n",
        "  # Choose index of maximum\n",
        "  y_predict_max = np.argmax(y_predict_softmax, axis=-1)\n",
        "\n",
        "  # Filter where model correctly predicts class_n\n",
        "  correct_pred_bool = np.logical_and(y_predict_max == class_n, y_true == class_n)\n",
        "  # Set wrong predictions to Zero\n",
        "  correct_preds_float = y_predict_softmax[:,class_n] * correct_pred_bool\n",
        "  # Find index of maximum prediction\n",
        "  index_of_max = np.argmax(correct_preds_float)\n",
        "\n",
        "  predictions_at_max = y_predict_softmax[index_of_max]\n",
        "\n",
        "  filename_at_max = generator.filenames[index_of_max]\n",
        "  filepath = str(generator.directory + filename_at_max)\n",
        "\n",
        "  print(f\"True class of image: {y_true[index_of_max]}\")\n",
        "  print(f\"Predicted class of image: {y_predict_max[index_of_max]}\")\n",
        "\n",
        "  return filepath, predictions_at_max\n",
        "\n",
        "\n",
        "# Test code:\n",
        "\n",
        "# Uncomment one line:\n",
        "# filepath, predictions = get_best_image_name(best_model_cnn, test_generator, 'CAP')\n",
        "# filepath, predictions = get_best_image_name(best_model_cnn, test_generator, 'COVID')\n",
        "# filepath, predictions = get_best_image_name(best_model_cnn, test_generator, 'NonCOVID')\n",
        "\n",
        "# print(filepath)\n",
        "# print(predictions)\n",
        "\n",
        "# img = plt.imread(filepath)\n",
        "# plt.imshow(img, cmap='gray')\n",
        "\n",
        "\n",
        "# Test code for loop over classes:\n",
        "\n",
        "# for cl in test_generator.class_indices:\n",
        "#   print(cl)\n",
        "#   filepath, predictions = get_best_image_name(best_model_cnn, test_generator, cl)\n",
        "#   print(filepath)\n",
        "#   print(predictions)\n",
        "\n",
        "#   img = plt.imread(filepath)\n",
        "#   plt.xticks([])\n",
        "#   plt.yticks([])\n",
        "#   plt.imshow(img, cmap='gray')\n",
        "#   plt.show()"
      ],
      "execution_count": null,
      "outputs": []
    },
    {
      "cell_type": "code",
      "metadata": {
        "id": "yvhtNOLUB1wN"
      },
      "source": [
        "# Find a filename of an image wrongly predicted with highest confidence\n",
        "def get_worst_image_name(model, generator, class_string):\n",
        "  \"\"\"\n",
        "  model: trained model\n",
        "  generator: fitted generator\n",
        "  class_string: one of generator.class_indices: {'CAP': 0, 'COVID': 1, 'NonCOVID': 2}\n",
        "  Returns:\n",
        "  - image_file_path of (one of) the image(s) in generator which was \n",
        "  incorrectly predicted as NOT belonging to the given class with highest \n",
        "  confidence - i.e. prediction for given class is lowest value.\n",
        "  - softmax predictions for all classes for this image.\n",
        "  \"\"\"\n",
        "\n",
        "\n",
        "  print(f\"generator.directory: {generator.directory}\")\n",
        "  print(f\"generator.class_indices: {generator.class_indices}\")\n",
        "\n",
        "  class_n = generator.class_indices[class_string]\n",
        "\n",
        "  y_true = generator.classes\n",
        "\n",
        "  # Predictions for data in generator\n",
        "  y_predict_softmax = model.predict(generator)\n",
        "\n",
        "  # Choose index of maximum\n",
        "  y_predict_max = np.argmax(y_predict_softmax, axis=-1)\n",
        "\n",
        "  # Searching for images where model predicts class_n, but class_n not true\n",
        "  filter_bool = np.logical_and(y_predict_max == class_n, y_true != class_n)\n",
        "\n",
        "  # Filter out the other predictions (set to Zero)\n",
        "  wrong_preds_float = y_predict_softmax[:,class_n] * filter_bool\n",
        "  # Find index of maximum prediction\n",
        "  index_of_max = np.argmax(wrong_preds_float)\n",
        "\n",
        "  predictions_at_max = y_predict_softmax[index_of_max]\n",
        "  filename_at_max = generator.filenames[index_of_max]\n",
        "  filepath = str(generator.directory + filename_at_max)\n",
        "\n",
        "  print(f\"True class of image: {y_true[index_of_max]}\")\n",
        "  print(f\"Predicted class of image: {y_predict_max[index_of_max]}\")\n",
        "\n",
        "  return filepath, predictions_at_max\n",
        "\n",
        "# Test code:\n",
        "\n",
        "# Uncomment one line:\n",
        "# filepath, predictions = get_worst_image_name(best_model_cnn, test_generator, 'CAP')\n",
        "# filepath, predictions = get_worst_image_name(best_model_cnn, test_generator, 'COVID')\n",
        "# filepath, predictions = get_worst_image_name(best_model_cnn, test_generator, 'NonCOVID')\n",
        "\n",
        "#print(filepath)\n",
        "#print(predictions)\n",
        "\n",
        "#img = plt.imread(filepath)\n",
        "#plt.imshow(img, cmap='gray')\n",
        "\n",
        "\n",
        "# Test code for loop over classes\n",
        "\n",
        "# for cl in test_generator.class_indices:\n",
        "#   print(cl)\n",
        "#   filepath, predictions = get_worst_image_name(best_model_cnn, test_generator, cl)\n",
        "#   print(filepath)\n",
        "#   print(predictions)\n",
        "\n",
        "#   img = plt.imread(filepath)\n",
        "#   plt.xticks([])\n",
        "#   plt.yticks([])\n",
        "#   plt.imshow(img, cmap='gray')\n",
        "#   plt.show()\n"
      ],
      "execution_count": null,
      "outputs": []
    },
    {
      "cell_type": "code",
      "metadata": {
        "id": "zPXBb6cY1ut7"
      },
      "source": [
        "# Plot the training history of a neural network\n",
        "def plot_training_history(history: History):\n",
        "    fig, axs = plt.subplots(1, 2, figsize=(12,4))\n",
        "    axs[0].plot(history.history['accuracy'], color='blue', label='train')\n",
        "    axs[0].plot(history.history['val_accuracy'], color='orange', label='validation')\n",
        "    axs[0].legend()\n",
        "    axs[0].set_title('Classification Accuracy')\n",
        "  \n",
        "    axs[1].plot(history.history['loss'], color='blue', label='train')\n",
        "    axs[1].plot(history.history['val_loss'], color='orange', label='validation')\n",
        "    axs[1].legend()\n",
        "    axs[1].set_title('Classification Loss')\n",
        "    plt.show()"
      ],
      "execution_count": null,
      "outputs": []
    },
    {
      "cell_type": "code",
      "metadata": {
        "id": "U0qQYDKw5O9G"
      },
      "source": [
        "# Save best model on Google Drive\n",
        "\n",
        "def save_model_in_drive(model, model_name):\n",
        "\n",
        "  # Initialize target path\n",
        "  #target_path = '/content/drive/.shortcut-targets-by-id/1lp7vo6EG60jba1Gk_tuNpvDm7q5ZXlKX/Telecom_Specialization_ML3/Students/Peter_Christoph_Marko_Martin/program/'\n",
        "\n",
        "  # Get Timestamp\n",
        "  dateTimeObj = datetime.now()\n",
        "  str_timestamp = dateTimeObj.strftime(\"%d_%b_%Y_%H_%M_%S\")\n",
        "\n",
        "  # Create model filename\n",
        "  model_filename = str(model_name + \"_\" + str_timestamp)\n",
        "  # Create complete filepath\n",
        "  model_filepath = str(target_path + model_filename)\n",
        "\n",
        "  # Save model\n",
        "  model.save(model_filepath)\n",
        "  print(f\"Model saved: {model_filepath}\")\n",
        "\n",
        "  return\n",
        "\n",
        "# Test code\n",
        "# save_model_in_drive(best_model_cnn, \"best_model_cnn\")"
      ],
      "execution_count": null,
      "outputs": []
    },
    {
      "cell_type": "code",
      "metadata": {
        "id": "ND6frPRCnsZj"
      },
      "source": [
        "def plot_confusion_matrix_x(labels,predictions,classes_name):\n",
        "  \"\"\"\n",
        "  example:\n",
        "  predictions=max_predict # np.argmax(y_predict, axis=-1)\n",
        "  labels=test_generator.classes\n",
        "  classes_name = artist_list\n",
        "  \"\"\"\n",
        "\n",
        "  normalize = False\n",
        "\n",
        "  # con_mat = tf.math.confusion_matrix(labels=labels, predictions=np.argmax(predictions, axis=-1) ).numpy()\n",
        "  con_mat = tf.math.confusion_matrix(labels=labels, predictions=predictions).numpy()\n",
        "  con_mat_norm = np.around(con_mat.astype('float') / con_mat.sum(axis=1)[:, np.newaxis], decimals=2)\n",
        "\n",
        "  if normalize == True:\n",
        "    con_mat_df = pd.DataFrame(con_mat_norm,index = classes_name,columns = classes_name)\n",
        "  else:\n",
        "    con_mat_df = pd.DataFrame(con_mat,index = classes_name,columns = classes_name)\n",
        "\n",
        "\n",
        "  figure = plt.figure(figsize=(4, 4))\n",
        "  sns.heatmap(con_mat_df, annot=True,fmt='g',cmap=plt.cm.Blues)\n",
        "  plt.tight_layout()\n",
        "  plt.ylabel('True label')\n",
        "  plt.xlabel('Predicted label')\n",
        "  plt.show()\n",
        "\n",
        "\n"
      ],
      "execution_count": null,
      "outputs": []
    },
    {
      "cell_type": "markdown",
      "metadata": {
        "id": "M-qejTAAaFiN"
      },
      "source": [
        "# Loading data"
      ]
    },
    {
      "cell_type": "code",
      "metadata": {
        "id": "c7ULD-yTD_0t",
        "colab": {
          "base_uri": "https://localhost:8080/"
        },
        "outputId": "ecdfe683-a83a-41a4-81b0-e04efa4ed11d"
      },
      "source": [
        "# mount google drive to access dataset food\n",
        "drive.mount('/content/drive', force_remount=True)"
      ],
      "execution_count": null,
      "outputs": [
        {
          "output_type": "stream",
          "text": [
            "Mounted at /content/drive\n"
          ],
          "name": "stdout"
        }
      ]
    },
    {
      "cell_type": "code",
      "metadata": {
        "id": "naIEkdnjEVUF"
      },
      "source": [
        "# unzip the data on the virtual machine\n",
        "%cd /content/\n",
        "\n",
        "!unzip '/content/drive/.shortcut-targets-by-id/1lp7vo6EG60jba1Gk_tuNpvDm7q5ZXlKX/Telecom_Specialization_ML3/Students/Peter_Christoph_Marko_Martin/data/archive.zip'"
      ],
      "execution_count": null,
      "outputs": []
    },
    {
      "cell_type": "code",
      "metadata": {
        "id": "jYFH_-SOqDAy"
      },
      "source": [
        "##### Inconsistency between file names and file names in meta data #####\n",
        "## ==> rename files to the names used in meta_data_covid.csv\n",
        "!mv \"/content/curated_data/curated_data/2COVID/17_Zhao_Recurrence-of-positive-SARS-CoV-2-RNA-in-C_2020_International-Journal-of-Inf-p1-21%0.png\" \"/content/curated_data/curated_data/2COVID/17_Zhao_Recurrence-of-COVID-19-SARS-CoV-2-RNA-in-C_2020_International-Journal-of-Inf-p1-21%0.png\"\n",
        "\n",
        "!mv \"/content/curated_data/curated_data/2COVID/17_Zhao_Recurrence-of-positive-SARS-CoV-2-RNA-in-C_2020_International-Journal-of-Inf-p1-21%1.png\" \"/content/curated_data/curated_data/2COVID/17_Zhao_Recurrence-of-COVID-19-SARS-CoV-2-RNA-in-C_2020_International-Journal-of-Inf-p1-21%1.png\""
      ],
      "execution_count": null,
      "outputs": []
    },
    {
      "cell_type": "code",
      "metadata": {
        "id": "SGo98zEWamHk"
      },
      "source": [
        "# Load data as dataframes\n",
        "df_meta_cap = pd.read_csv('meta_data_cap.csv')\n",
        "df_meta_covid = pd.read_csv('meta_data_covid.csv', encoding = \"ISO-8859-1\")\n",
        "df_meta_normal = pd.read_csv('meta_data_normal.csv')"
      ],
      "execution_count": null,
      "outputs": []
    },
    {
      "cell_type": "markdown",
      "metadata": {
        "id": "JTBM2KzC_6C5"
      },
      "source": [
        "# Split data into training, valdiation and test data"
      ]
    },
    {
      "cell_type": "code",
      "metadata": {
        "id": "9XbYZs8axK2O"
      },
      "source": [
        "np.random.seed(RAND_SEED)\n",
        "\n",
        "# Configuration of sizes\n",
        "test_size = 0.1\n",
        "validation_size = 0.1\n",
        "\n",
        "# List of classes\n",
        "classes_list = [('1NonCOVID','NonCOVID'), \n",
        "                ('2COVID','COVID'), \n",
        "                ('3CAP','CAP')]"
      ],
      "execution_count": null,
      "outputs": []
    },
    {
      "cell_type": "code",
      "metadata": {
        "id": "BwVfyZyZljg-"
      },
      "source": [
        "# Get patient to image mappings\n",
        "\n",
        "# Covid patients\n",
        "covid_patient_to_image = df_meta_covid.groupby(['Patient ID'])['File name'].apply(list).reset_index()\n",
        "# Normal patients\n",
        "normal_patient_to_image = df_meta_normal.groupby(['Patient ID'])['File name'].apply(list).reset_index()\n",
        "# CAP patients\n",
        "cap_patient_to_image = df_meta_cap.groupby(['Patient ID'])['File name'].apply(list).reset_index()"
      ],
      "execution_count": null,
      "outputs": []
    },
    {
      "cell_type": "code",
      "metadata": {
        "id": "l4QSrqqYtmnM"
      },
      "source": [
        "def split_ids(patient_to_image, val_size, test_size):\n",
        "  '''\n",
        "  '''\n",
        "  np.random.seed(RAND_SEED)\n",
        "  # Calculate the number of training, valdiation and test samples\n",
        "  len_all = len(patient_to_image)\n",
        "  nb_test = np.floor(len_all * test_size).astype('int')\n",
        "  nb_val = np.floor(len_all * val_size).astype('int')\n",
        "  nb_train = len_all - (nb_test + nb_val).astype('int')\n",
        "  # Create sub-samples of patient_to_image\n",
        "  patient_ids = patient_to_image.index.values\n",
        "  train_ids = np.random.choice(patient_ids, nb_train, replace=False)\n",
        "  val_ids = np.random.choice(list(set(patient_ids)-set(train_ids)), nb_val, \n",
        "                             replace=False)\n",
        "  test_ids = np.random.choice(list(set(patient_ids)-set(train_ids)-set(val_ids)),\n",
        "                              nb_test, replace = False)\n",
        "  \n",
        "  return train_ids, val_ids, test_ids"
      ],
      "execution_count": null,
      "outputs": []
    },
    {
      "cell_type": "code",
      "metadata": {
        "id": "3l3NfaSap-Re"
      },
      "source": [
        "# Split data into training, validation and test subsets\n",
        "\n",
        "sample_id_dict = {}\n",
        "\n",
        "for _, cl_dest in classes_list:\n",
        "  if cl_dest == 'COVID':\n",
        "    # Split covid patients\n",
        "    covid_train_ids, covid_val_ids, covid_test_ids = \\\n",
        "      split_ids(covid_patient_to_image, validation_size, test_size)\n",
        "    \n",
        "    # Add data to dictionary\n",
        "    sample_id_dict[cl_dest] = {'IMG':covid_patient_to_image,\n",
        "                               'TRAIN':covid_train_ids,\n",
        "                               'VAL':covid_val_ids,\n",
        "                               'TEST':covid_test_ids}\n",
        "  elif cl_dest == 'NonCOVID':\n",
        "    # Split normal patients\n",
        "    norm_train_ids, norm_val_ids, norm_test_ids = \\\n",
        "      split_ids(normal_patient_to_image, validation_size, test_size)\n",
        "    # Add data to dictionary\n",
        "    sample_id_dict[cl_dest] = {'IMG':normal_patient_to_image,\n",
        "                               'TRAIN':norm_train_ids,\n",
        "                               'VAL':norm_val_ids,\n",
        "                               'TEST':norm_test_ids}\n",
        "  else: # CAP\n",
        "    # Split cap patients\n",
        "    cap_train_ids, cap_val_ids, cap_test_ids = \\\n",
        "      split_ids(cap_patient_to_image, validation_size, test_size)\n",
        "    # Add data to dictionary\n",
        "    sample_id_dict[cl_dest] = {'IMG':cap_patient_to_image,\n",
        "                               'TRAIN':cap_train_ids,\n",
        "                               'VAL':cap_val_ids,\n",
        "                               'TEST':cap_test_ids}"
      ],
      "execution_count": null,
      "outputs": []
    },
    {
      "cell_type": "code",
      "metadata": {
        "id": "vk0EBriUinoU"
      },
      "source": [
        "# Create new directories for training, validation and test data\n",
        "!mkdir $train_dir\n",
        "!mkdir $test_dir\n",
        "!mkdir $validation_dir\n",
        "\n",
        "# Create subdirectories for each class\n",
        "for _, cl in classes_list:\n",
        "  c_train = str(train_dir + cl)\n",
        "  !mkdir $c_train\n",
        "  c_test = str(test_dir + cl)\n",
        "  !mkdir $c_test\n",
        "  c_validation = str(validation_dir + cl)\n",
        "  !mkdir $c_validation"
      ],
      "execution_count": null,
      "outputs": []
    },
    {
      "cell_type": "code",
      "metadata": {
        "id": "PVWZyZ6qkujV"
      },
      "source": [
        "def move_files(patient_to_image, patient_ids, from_dir, to_dir):\n",
        "  '''\n",
        "  '''\n",
        "  # Set a limit to mv-strings\n",
        "  MAX_LEN = 20000\n",
        "\n",
        "  # Check if at least one patient id was provided\n",
        "  if len(patient_to_image) < 1:\n",
        "    print('No files to move!')\n",
        "    return None\n",
        "\n",
        "  fs_to_move_batch = []  # move files batch-wise to improve processing time\n",
        "  fs_to_move = ''\n",
        "  for id in patient_ids:\n",
        "    file_names = f' {from_dir}'.join([fn for fn in patient_to_image.at[id,'File name']])\n",
        "    # Extend fs_to_move by new file names and from_dir at the beginning\n",
        "    fs_to_move = fs_to_move + f' {from_dir}' + file_names\n",
        "    if len(fs_to_move) > MAX_LEN:\n",
        "      fs_to_move_batch.append(fs_to_move)\n",
        "      fs_to_move = ''\n",
        "  if len(fs_to_move) > 0:\n",
        "    # Append the last fs_to_move string to the file_stack\n",
        "    fs_to_move_batch.append(fs_to_move)\n",
        "  for fs_to_move in fs_to_move_batch:\n",
        "    !mv $fs_to_move $to_dir \n"
      ],
      "execution_count": null,
      "outputs": []
    },
    {
      "cell_type": "code",
      "metadata": {
        "id": "jX9aOggiHi0H",
        "colab": {
          "base_uri": "https://localhost:8080/"
        },
        "outputId": "4f873c95-28b5-4ee5-e824-ec86231db898"
      },
      "source": [
        "# Move all data to new destinations\n",
        "%%time\n",
        "\n",
        "for cl_src, cl_dest in classes_list:\n",
        "  from_dir = source_dir + cl_src + '/'\n",
        "  \n",
        "  imgs = sample_id_dict[cl_dest]['IMG']\n",
        "\n",
        "  # Move training data\n",
        "  to_dir = train_dir + cl_dest\n",
        "  ids = sample_id_dict[cl_dest]['TRAIN']\n",
        "  move_files(imgs, ids, from_dir, to_dir)\n",
        "\n",
        "  # Move validation data\n",
        "  to_dir = validation_dir + cl_dest\n",
        "  ids = sample_id_dict[cl_dest]['VAL']\n",
        "  move_files(imgs, ids, from_dir, to_dir)\n",
        "\n",
        "  # Move test data\n",
        "  to_dir = test_dir + cl_dest\n",
        "  ids = sample_id_dict[cl_dest]['TEST']\n",
        "  move_files(imgs, ids, from_dir, to_dir)\n",
        "  "
      ],
      "execution_count": null,
      "outputs": [
        {
          "output_type": "stream",
          "text": [
            "CPU times: user 227 ms, sys: 591 ms, total: 818 ms\n",
            "Wall time: 6.88 s\n"
          ],
          "name": "stdout"
        }
      ]
    },
    {
      "cell_type": "markdown",
      "metadata": {
        "id": "6k55G0V2uupI"
      },
      "source": [
        "# research / the plan\n",
        "\n",
        "1. using some U-Net to create a mask for the lung\n",
        "1.1 create the U-Net on kaggle\n",
        "1.2 there are some training data avaliable\n",
        "\n",
        "\n",
        "\n",
        "\n",
        "\n",
        "\n",
        "\n",
        "\n",
        "\n",
        "k-means / DBSCAN\n",
        "\n",
        "opencv\n",
        "\n",
        "\n",
        "mask-r-cnn\n",
        "https://towardsdatascience.com/computer-vision-instance-segmentation-with-mask-r-cnn-7983502fcad1\n",
        "\n",
        "\n",
        "https://www.analyticsvidhya.com/blog/2019/07/computer-vision-implementing-mask-r-cnn-image-segmentation/\n",
        "\n",
        "Image Segmentation with U-net and Keras!\n",
        "https://www.youtube.com/watch?v=7qJzp3i62S8\n",
        "\n",
        "\n",
        "177 - Semantic segmentation made easy (using segmentation models library)\n",
        "https://www.youtube.com/watch?v=J_XSd_u_Yew&t=135s\n",
        "https://github.com/bnsreenu/python_for_microscopists/blob/master/177_semantic_segmentation_made_easy_using_segm_models.py\n"
      ]
    },
    {
      "cell_type": "markdown",
      "metadata": {
        "id": "KO9Z4QsbNZcT"
      },
      "source": [
        "google search \n",
        "how to segments lungs from ct scan python\n",
        "\n",
        "how to install segmentation_models on kaggle\n",
        "AttributeError: module 'keras.utils' has no attribute 'generic_utils'\n",
        "\n"
      ]
    },
    {
      "cell_type": "markdown",
      "metadata": {
        "id": "BMAYhL0Ogo30"
      },
      "source": [
        "# vgg16_unet\n",
        "\n",
        "https://www.youtube.com/watch?v=mgdB7WezqbU\n",
        "https://github.com/nikhilroxtomar/Semantic-Segmentation-Architecture/blob/main/TensorFlow/vgg16_unet.py\n",
        "\n"
      ]
    },
    {
      "cell_type": "code",
      "metadata": {
        "colab": {
          "base_uri": "https://localhost:8080/"
        },
        "collapsed": true,
        "id": "ILI95BJ-gn8O",
        "outputId": "f036eb0e-a07a-46bc-e8ea-4e4a3f4260a6"
      },
      "source": [
        "from tensorflow.keras.layers import Conv2D, BatchNormalization, Activation, MaxPool2D, Conv2DTranspose, Concatenate, Input\n",
        "from tensorflow.keras.models import Model\n",
        "from tensorflow.keras.applications import VGG16\n",
        "\n",
        "def conv_block(input, num_filters):\n",
        "    x = Conv2D(num_filters, 3, padding=\"same\")(input)\n",
        "    x = BatchNormalization()(x)\n",
        "    x = Activation(\"relu\")(x)\n",
        "\n",
        "    x = Conv2D(num_filters, 3, padding=\"same\")(x)\n",
        "    x = BatchNormalization()(x)\n",
        "    x = Activation(\"relu\")(x)\n",
        "\n",
        "    return x\n",
        "\n",
        "def decoder_block(input, skip_features, num_filters):\n",
        "    x = Conv2DTranspose(num_filters, (2, 2), strides=2, padding=\"same\")(input)\n",
        "    x = Concatenate()([x, skip_features])\n",
        "    x = conv_block(x, num_filters)\n",
        "    return x\n",
        "\n",
        "def build_vgg16_unet(input_shape):\n",
        "    \"\"\" Input \"\"\"\n",
        "    inputs = Input(input_shape)\n",
        "\n",
        "    \"\"\" Pre-trained VGG16 Model \"\"\"\n",
        "    vgg16 = VGG16(include_top=False, weights=\"imagenet\", input_tensor=inputs)\n",
        "\n",
        "    \"\"\" Encoder \"\"\"\n",
        "    s1 = vgg16.get_layer(\"block1_conv2\").output         ## (512 x 512)\n",
        "    s2 = vgg16.get_layer(\"block2_conv2\").output         ## (256 x 256)\n",
        "    s3 = vgg16.get_layer(\"block3_conv3\").output         ## (128 x 128)\n",
        "    s4 = vgg16.get_layer(\"block4_conv3\").output         ## (64 x 64)\n",
        "\n",
        "    \"\"\" Bridge \"\"\"\n",
        "    b1 = vgg16.get_layer(\"block5_conv3\").output         ## (32 x 32)\n",
        "\n",
        "    \"\"\" Decoder \"\"\"\n",
        "    d1 = decoder_block(b1, s4, 512)                     ## (64 x 64)\n",
        "    d2 = decoder_block(d1, s3, 256)                     ## (128 x 128)\n",
        "    d3 = decoder_block(d2, s2, 128)                     ## (256 x 256)\n",
        "    d4 = decoder_block(d3, s1, 64)                      ## (512 x 512)\n",
        "\n",
        "    \"\"\" Output \"\"\"\n",
        "    outputs = Conv2D(1, 1, padding=\"same\", activation=\"sigmoid\")(d4)\n",
        "\n",
        "    model = Model(inputs, outputs, name=\"VGG16_U-Net\")\n",
        "    return model\n",
        "\n",
        "if __name__ == \"__main__\":\n",
        "    input_shape = (512, 512, 3)\n",
        "    model = build_vgg16_unet(input_shape)\n",
        "    model.summary()"
      ],
      "execution_count": null,
      "outputs": [
        {
          "output_type": "stream",
          "text": [
            "Model: \"VGG16_U-Net\"\n",
            "__________________________________________________________________________________________________\n",
            "Layer (type)                    Output Shape         Param #     Connected to                     \n",
            "==================================================================================================\n",
            "input_2 (InputLayer)            [(None, 512, 512, 3) 0                                            \n",
            "__________________________________________________________________________________________________\n",
            "block1_conv1 (Conv2D)           (None, 512, 512, 64) 1792        input_2[0][0]                    \n",
            "__________________________________________________________________________________________________\n",
            "block1_conv2 (Conv2D)           (None, 512, 512, 64) 36928       block1_conv1[0][0]               \n",
            "__________________________________________________________________________________________________\n",
            "block1_pool (MaxPooling2D)      (None, 256, 256, 64) 0           block1_conv2[0][0]               \n",
            "__________________________________________________________________________________________________\n",
            "block2_conv1 (Conv2D)           (None, 256, 256, 128 73856       block1_pool[0][0]                \n",
            "__________________________________________________________________________________________________\n",
            "block2_conv2 (Conv2D)           (None, 256, 256, 128 147584      block2_conv1[0][0]               \n",
            "__________________________________________________________________________________________________\n",
            "block2_pool (MaxPooling2D)      (None, 128, 128, 128 0           block2_conv2[0][0]               \n",
            "__________________________________________________________________________________________________\n",
            "block3_conv1 (Conv2D)           (None, 128, 128, 256 295168      block2_pool[0][0]                \n",
            "__________________________________________________________________________________________________\n",
            "block3_conv2 (Conv2D)           (None, 128, 128, 256 590080      block3_conv1[0][0]               \n",
            "__________________________________________________________________________________________________\n",
            "block3_conv3 (Conv2D)           (None, 128, 128, 256 590080      block3_conv2[0][0]               \n",
            "__________________________________________________________________________________________________\n",
            "block3_pool (MaxPooling2D)      (None, 64, 64, 256)  0           block3_conv3[0][0]               \n",
            "__________________________________________________________________________________________________\n",
            "block4_conv1 (Conv2D)           (None, 64, 64, 512)  1180160     block3_pool[0][0]                \n",
            "__________________________________________________________________________________________________\n",
            "block4_conv2 (Conv2D)           (None, 64, 64, 512)  2359808     block4_conv1[0][0]               \n",
            "__________________________________________________________________________________________________\n",
            "block4_conv3 (Conv2D)           (None, 64, 64, 512)  2359808     block4_conv2[0][0]               \n",
            "__________________________________________________________________________________________________\n",
            "block4_pool (MaxPooling2D)      (None, 32, 32, 512)  0           block4_conv3[0][0]               \n",
            "__________________________________________________________________________________________________\n",
            "block5_conv1 (Conv2D)           (None, 32, 32, 512)  2359808     block4_pool[0][0]                \n",
            "__________________________________________________________________________________________________\n",
            "block5_conv2 (Conv2D)           (None, 32, 32, 512)  2359808     block5_conv1[0][0]               \n",
            "__________________________________________________________________________________________________\n",
            "block5_conv3 (Conv2D)           (None, 32, 32, 512)  2359808     block5_conv2[0][0]               \n",
            "__________________________________________________________________________________________________\n",
            "conv2d_transpose_4 (Conv2DTrans (None, 64, 64, 512)  1049088     block5_conv3[0][0]               \n",
            "__________________________________________________________________________________________________\n",
            "concatenate_4 (Concatenate)     (None, 64, 64, 1024) 0           conv2d_transpose_4[0][0]         \n",
            "                                                                 block4_conv3[0][0]               \n",
            "__________________________________________________________________________________________________\n",
            "conv2d_9 (Conv2D)               (None, 64, 64, 512)  4719104     concatenate_4[0][0]              \n",
            "__________________________________________________________________________________________________\n",
            "batch_normalization_8 (BatchNor (None, 64, 64, 512)  2048        conv2d_9[0][0]                   \n",
            "__________________________________________________________________________________________________\n",
            "activation_8 (Activation)       (None, 64, 64, 512)  0           batch_normalization_8[0][0]      \n",
            "__________________________________________________________________________________________________\n",
            "conv2d_10 (Conv2D)              (None, 64, 64, 512)  2359808     activation_8[0][0]               \n",
            "__________________________________________________________________________________________________\n",
            "batch_normalization_9 (BatchNor (None, 64, 64, 512)  2048        conv2d_10[0][0]                  \n",
            "__________________________________________________________________________________________________\n",
            "activation_9 (Activation)       (None, 64, 64, 512)  0           batch_normalization_9[0][0]      \n",
            "__________________________________________________________________________________________________\n",
            "conv2d_transpose_5 (Conv2DTrans (None, 128, 128, 256 524544      activation_9[0][0]               \n",
            "__________________________________________________________________________________________________\n",
            "concatenate_5 (Concatenate)     (None, 128, 128, 512 0           conv2d_transpose_5[0][0]         \n",
            "                                                                 block3_conv3[0][0]               \n",
            "__________________________________________________________________________________________________\n",
            "conv2d_11 (Conv2D)              (None, 128, 128, 256 1179904     concatenate_5[0][0]              \n",
            "__________________________________________________________________________________________________\n",
            "batch_normalization_10 (BatchNo (None, 128, 128, 256 1024        conv2d_11[0][0]                  \n",
            "__________________________________________________________________________________________________\n",
            "activation_10 (Activation)      (None, 128, 128, 256 0           batch_normalization_10[0][0]     \n",
            "__________________________________________________________________________________________________\n",
            "conv2d_12 (Conv2D)              (None, 128, 128, 256 590080      activation_10[0][0]              \n",
            "__________________________________________________________________________________________________\n",
            "batch_normalization_11 (BatchNo (None, 128, 128, 256 1024        conv2d_12[0][0]                  \n",
            "__________________________________________________________________________________________________\n",
            "activation_11 (Activation)      (None, 128, 128, 256 0           batch_normalization_11[0][0]     \n",
            "__________________________________________________________________________________________________\n",
            "conv2d_transpose_6 (Conv2DTrans (None, 256, 256, 128 131200      activation_11[0][0]              \n",
            "__________________________________________________________________________________________________\n",
            "concatenate_6 (Concatenate)     (None, 256, 256, 256 0           conv2d_transpose_6[0][0]         \n",
            "                                                                 block2_conv2[0][0]               \n",
            "__________________________________________________________________________________________________\n",
            "conv2d_13 (Conv2D)              (None, 256, 256, 128 295040      concatenate_6[0][0]              \n",
            "__________________________________________________________________________________________________\n",
            "batch_normalization_12 (BatchNo (None, 256, 256, 128 512         conv2d_13[0][0]                  \n",
            "__________________________________________________________________________________________________\n",
            "activation_12 (Activation)      (None, 256, 256, 128 0           batch_normalization_12[0][0]     \n",
            "__________________________________________________________________________________________________\n",
            "conv2d_14 (Conv2D)              (None, 256, 256, 128 147584      activation_12[0][0]              \n",
            "__________________________________________________________________________________________________\n",
            "batch_normalization_13 (BatchNo (None, 256, 256, 128 512         conv2d_14[0][0]                  \n",
            "__________________________________________________________________________________________________\n",
            "activation_13 (Activation)      (None, 256, 256, 128 0           batch_normalization_13[0][0]     \n",
            "__________________________________________________________________________________________________\n",
            "conv2d_transpose_7 (Conv2DTrans (None, 512, 512, 64) 32832       activation_13[0][0]              \n",
            "__________________________________________________________________________________________________\n",
            "concatenate_7 (Concatenate)     (None, 512, 512, 128 0           conv2d_transpose_7[0][0]         \n",
            "                                                                 block1_conv2[0][0]               \n",
            "__________________________________________________________________________________________________\n",
            "conv2d_15 (Conv2D)              (None, 512, 512, 64) 73792       concatenate_7[0][0]              \n",
            "__________________________________________________________________________________________________\n",
            "batch_normalization_14 (BatchNo (None, 512, 512, 64) 256         conv2d_15[0][0]                  \n",
            "__________________________________________________________________________________________________\n",
            "activation_14 (Activation)      (None, 512, 512, 64) 0           batch_normalization_14[0][0]     \n",
            "__________________________________________________________________________________________________\n",
            "conv2d_16 (Conv2D)              (None, 512, 512, 64) 36928       activation_14[0][0]              \n",
            "__________________________________________________________________________________________________\n",
            "batch_normalization_15 (BatchNo (None, 512, 512, 64) 256         conv2d_16[0][0]                  \n",
            "__________________________________________________________________________________________________\n",
            "activation_15 (Activation)      (None, 512, 512, 64) 0           batch_normalization_15[0][0]     \n",
            "__________________________________________________________________________________________________\n",
            "conv2d_17 (Conv2D)              (None, 512, 512, 1)  65          activation_15[0][0]              \n",
            "==================================================================================================\n",
            "Total params: 25,862,337\n",
            "Trainable params: 25,858,497\n",
            "Non-trainable params: 3,840\n",
            "__________________________________________________________________________________________________\n"
          ],
          "name": "stdout"
        }
      ]
    },
    {
      "cell_type": "markdown",
      "metadata": {
        "id": "GVon2u_QjHtp"
      },
      "source": [
        "## predict"
      ]
    },
    {
      "cell_type": "code",
      "metadata": {
        "colab": {
          "base_uri": "https://localhost:8080/",
          "height": 376
        },
        "id": "psevTGSwiGtm",
        "outputId": "dc3098d5-7ecf-42dd-d03c-cc8f8e8f074e"
      },
      "source": [
        "target_size = (512, 512)\n",
        "input_shape = (512, 512, 3)\n",
        "batch_size = 32\n",
        "\n",
        "test_datagen = ImageDataGenerator(rescale=1./255)\n",
        "test_generator = test_datagen.flow_from_directory(\n",
        "        test_dir,\n",
        "        target_size=target_size,\n",
        "        batch_size=batch_size,\n",
        "        class_mode='sparse',\n",
        "        shuffle=False)\n",
        "\n",
        "model = build_vgg16_unet(target_size)"
      ],
      "execution_count": null,
      "outputs": [
        {
          "output_type": "stream",
          "text": [
            "Found 1505 images belonging to 3 classes.\n"
          ],
          "name": "stdout"
        },
        {
          "output_type": "error",
          "ename": "ValueError",
          "evalue": "ignored",
          "traceback": [
            "\u001b[0;31m---------------------------------------------------------------------------\u001b[0m",
            "\u001b[0;31mValueError\u001b[0m                                Traceback (most recent call last)",
            "\u001b[0;32m<ipython-input-36-88a88a07740e>\u001b[0m in \u001b[0;36m<module>\u001b[0;34m()\u001b[0m\n\u001b[1;32m     11\u001b[0m         shuffle=False)\n\u001b[1;32m     12\u001b[0m \u001b[0;34m\u001b[0m\u001b[0m\n\u001b[0;32m---> 13\u001b[0;31m \u001b[0mmodel\u001b[0m \u001b[0;34m=\u001b[0m \u001b[0mbuild_vgg16_unet\u001b[0m\u001b[0;34m(\u001b[0m\u001b[0mtarget_size\u001b[0m\u001b[0;34m)\u001b[0m\u001b[0;34m\u001b[0m\u001b[0;34m\u001b[0m\u001b[0m\n\u001b[0m",
            "\u001b[0;32m<ipython-input-22-2a7e85161ba1>\u001b[0m in \u001b[0;36mbuild_vgg16_unet\u001b[0;34m(input_shape)\u001b[0m\n\u001b[1;32m     25\u001b[0m \u001b[0;34m\u001b[0m\u001b[0m\n\u001b[1;32m     26\u001b[0m     \u001b[0;34m\"\"\" Pre-trained VGG16 Model \"\"\"\u001b[0m\u001b[0;34m\u001b[0m\u001b[0;34m\u001b[0m\u001b[0m\n\u001b[0;32m---> 27\u001b[0;31m     \u001b[0mvgg16\u001b[0m \u001b[0;34m=\u001b[0m \u001b[0mVGG16\u001b[0m\u001b[0;34m(\u001b[0m\u001b[0minclude_top\u001b[0m\u001b[0;34m=\u001b[0m\u001b[0;32mFalse\u001b[0m\u001b[0;34m,\u001b[0m \u001b[0mweights\u001b[0m\u001b[0;34m=\u001b[0m\u001b[0;34m\"imagenet\"\u001b[0m\u001b[0;34m,\u001b[0m \u001b[0minput_tensor\u001b[0m\u001b[0;34m=\u001b[0m\u001b[0minputs\u001b[0m\u001b[0;34m)\u001b[0m\u001b[0;34m\u001b[0m\u001b[0;34m\u001b[0m\u001b[0m\n\u001b[0m\u001b[1;32m     28\u001b[0m \u001b[0;34m\u001b[0m\u001b[0m\n\u001b[1;32m     29\u001b[0m     \u001b[0;34m\"\"\" Encoder \"\"\"\u001b[0m\u001b[0;34m\u001b[0m\u001b[0;34m\u001b[0m\u001b[0m\n",
            "\u001b[0;32m/usr/local/lib/python3.7/dist-packages/tensorflow/python/keras/applications/vgg16.py\u001b[0m in \u001b[0;36mVGG16\u001b[0;34m(include_top, weights, input_tensor, input_shape, pooling, classes, classifier_activation)\u001b[0m\n\u001b[1;32m    143\u001b[0m   x = layers.Conv2D(\n\u001b[1;32m    144\u001b[0m       \u001b[0;36m64\u001b[0m\u001b[0;34m,\u001b[0m \u001b[0;34m(\u001b[0m\u001b[0;36m3\u001b[0m\u001b[0;34m,\u001b[0m \u001b[0;36m3\u001b[0m\u001b[0;34m)\u001b[0m\u001b[0;34m,\u001b[0m \u001b[0mactivation\u001b[0m\u001b[0;34m=\u001b[0m\u001b[0;34m'relu'\u001b[0m\u001b[0;34m,\u001b[0m \u001b[0mpadding\u001b[0m\u001b[0;34m=\u001b[0m\u001b[0;34m'same'\u001b[0m\u001b[0;34m,\u001b[0m \u001b[0mname\u001b[0m\u001b[0;34m=\u001b[0m\u001b[0;34m'block1_conv1'\u001b[0m\u001b[0;34m)\u001b[0m\u001b[0;34m(\u001b[0m\u001b[0;34m\u001b[0m\u001b[0;34m\u001b[0m\u001b[0m\n\u001b[0;32m--> 145\u001b[0;31m           img_input)\n\u001b[0m\u001b[1;32m    146\u001b[0m   x = layers.Conv2D(\n\u001b[1;32m    147\u001b[0m       64, (3, 3), activation='relu', padding='same', name='block1_conv2')(x)\n",
            "\u001b[0;32m/usr/local/lib/python3.7/dist-packages/tensorflow/python/keras/engine/base_layer.py\u001b[0m in \u001b[0;36m__call__\u001b[0;34m(self, *args, **kwargs)\u001b[0m\n\u001b[1;32m    950\u001b[0m     \u001b[0;32mif\u001b[0m \u001b[0m_in_functional_construction_mode\u001b[0m\u001b[0;34m(\u001b[0m\u001b[0mself\u001b[0m\u001b[0;34m,\u001b[0m \u001b[0minputs\u001b[0m\u001b[0;34m,\u001b[0m \u001b[0margs\u001b[0m\u001b[0;34m,\u001b[0m \u001b[0mkwargs\u001b[0m\u001b[0;34m,\u001b[0m \u001b[0minput_list\u001b[0m\u001b[0;34m)\u001b[0m\u001b[0;34m:\u001b[0m\u001b[0;34m\u001b[0m\u001b[0;34m\u001b[0m\u001b[0m\n\u001b[1;32m    951\u001b[0m       return self._functional_construction_call(inputs, args, kwargs,\n\u001b[0;32m--> 952\u001b[0;31m                                                 input_list)\n\u001b[0m\u001b[1;32m    953\u001b[0m \u001b[0;34m\u001b[0m\u001b[0m\n\u001b[1;32m    954\u001b[0m     \u001b[0;31m# Maintains info about the `Layer.call` stack.\u001b[0m\u001b[0;34m\u001b[0m\u001b[0;34m\u001b[0m\u001b[0;34m\u001b[0m\u001b[0m\n",
            "\u001b[0;32m/usr/local/lib/python3.7/dist-packages/tensorflow/python/keras/engine/base_layer.py\u001b[0m in \u001b[0;36m_functional_construction_call\u001b[0;34m(self, inputs, args, kwargs, input_list)\u001b[0m\n\u001b[1;32m   1089\u001b[0m         \u001b[0;31m# Check input assumptions set after layer building, e.g. input shape.\u001b[0m\u001b[0;34m\u001b[0m\u001b[0;34m\u001b[0m\u001b[0;34m\u001b[0m\u001b[0m\n\u001b[1;32m   1090\u001b[0m         outputs = self._keras_tensor_symbolic_call(\n\u001b[0;32m-> 1091\u001b[0;31m             inputs, input_masks, args, kwargs)\n\u001b[0m\u001b[1;32m   1092\u001b[0m \u001b[0;34m\u001b[0m\u001b[0m\n\u001b[1;32m   1093\u001b[0m         \u001b[0;32mif\u001b[0m \u001b[0moutputs\u001b[0m \u001b[0;32mis\u001b[0m \u001b[0;32mNone\u001b[0m\u001b[0;34m:\u001b[0m\u001b[0;34m\u001b[0m\u001b[0;34m\u001b[0m\u001b[0m\n",
            "\u001b[0;32m/usr/local/lib/python3.7/dist-packages/tensorflow/python/keras/engine/base_layer.py\u001b[0m in \u001b[0;36m_keras_tensor_symbolic_call\u001b[0;34m(self, inputs, input_masks, args, kwargs)\u001b[0m\n\u001b[1;32m    820\u001b[0m       \u001b[0;32mreturn\u001b[0m \u001b[0mnest\u001b[0m\u001b[0;34m.\u001b[0m\u001b[0mmap_structure\u001b[0m\u001b[0;34m(\u001b[0m\u001b[0mkeras_tensor\u001b[0m\u001b[0;34m.\u001b[0m\u001b[0mKerasTensor\u001b[0m\u001b[0;34m,\u001b[0m \u001b[0moutput_signature\u001b[0m\u001b[0;34m)\u001b[0m\u001b[0;34m\u001b[0m\u001b[0;34m\u001b[0m\u001b[0m\n\u001b[1;32m    821\u001b[0m     \u001b[0;32melse\u001b[0m\u001b[0;34m:\u001b[0m\u001b[0;34m\u001b[0m\u001b[0;34m\u001b[0m\u001b[0m\n\u001b[0;32m--> 822\u001b[0;31m       \u001b[0;32mreturn\u001b[0m \u001b[0mself\u001b[0m\u001b[0;34m.\u001b[0m\u001b[0m_infer_output_signature\u001b[0m\u001b[0;34m(\u001b[0m\u001b[0minputs\u001b[0m\u001b[0;34m,\u001b[0m \u001b[0margs\u001b[0m\u001b[0;34m,\u001b[0m \u001b[0mkwargs\u001b[0m\u001b[0;34m,\u001b[0m \u001b[0minput_masks\u001b[0m\u001b[0;34m)\u001b[0m\u001b[0;34m\u001b[0m\u001b[0;34m\u001b[0m\u001b[0m\n\u001b[0m\u001b[1;32m    823\u001b[0m \u001b[0;34m\u001b[0m\u001b[0m\n\u001b[1;32m    824\u001b[0m   \u001b[0;32mdef\u001b[0m \u001b[0m_infer_output_signature\u001b[0m\u001b[0;34m(\u001b[0m\u001b[0mself\u001b[0m\u001b[0;34m,\u001b[0m \u001b[0minputs\u001b[0m\u001b[0;34m,\u001b[0m \u001b[0margs\u001b[0m\u001b[0;34m,\u001b[0m \u001b[0mkwargs\u001b[0m\u001b[0;34m,\u001b[0m \u001b[0minput_masks\u001b[0m\u001b[0;34m)\u001b[0m\u001b[0;34m:\u001b[0m\u001b[0;34m\u001b[0m\u001b[0;34m\u001b[0m\u001b[0m\n",
            "\u001b[0;32m/usr/local/lib/python3.7/dist-packages/tensorflow/python/keras/engine/base_layer.py\u001b[0m in \u001b[0;36m_infer_output_signature\u001b[0;34m(self, inputs, args, kwargs, input_masks)\u001b[0m\n\u001b[1;32m    860\u001b[0m           \u001b[0;31m# overridden).\u001b[0m\u001b[0;34m\u001b[0m\u001b[0;34m\u001b[0m\u001b[0;34m\u001b[0m\u001b[0m\n\u001b[1;32m    861\u001b[0m           \u001b[0;31m# TODO(kaftan): do we maybe_build here, or have we already done it?\u001b[0m\u001b[0;34m\u001b[0m\u001b[0;34m\u001b[0m\u001b[0;34m\u001b[0m\u001b[0m\n\u001b[0;32m--> 862\u001b[0;31m           \u001b[0mself\u001b[0m\u001b[0;34m.\u001b[0m\u001b[0m_maybe_build\u001b[0m\u001b[0;34m(\u001b[0m\u001b[0minputs\u001b[0m\u001b[0;34m)\u001b[0m\u001b[0;34m\u001b[0m\u001b[0;34m\u001b[0m\u001b[0m\n\u001b[0m\u001b[1;32m    863\u001b[0m           \u001b[0moutputs\u001b[0m \u001b[0;34m=\u001b[0m \u001b[0mcall_fn\u001b[0m\u001b[0;34m(\u001b[0m\u001b[0minputs\u001b[0m\u001b[0;34m,\u001b[0m \u001b[0;34m*\u001b[0m\u001b[0margs\u001b[0m\u001b[0;34m,\u001b[0m \u001b[0;34m**\u001b[0m\u001b[0mkwargs\u001b[0m\u001b[0;34m)\u001b[0m\u001b[0;34m\u001b[0m\u001b[0;34m\u001b[0m\u001b[0m\n\u001b[1;32m    864\u001b[0m \u001b[0;34m\u001b[0m\u001b[0m\n",
            "\u001b[0;32m/usr/local/lib/python3.7/dist-packages/tensorflow/python/keras/engine/base_layer.py\u001b[0m in \u001b[0;36m_maybe_build\u001b[0;34m(self, inputs)\u001b[0m\n\u001b[1;32m   2683\u001b[0m     \u001b[0;32mif\u001b[0m \u001b[0;32mnot\u001b[0m \u001b[0mself\u001b[0m\u001b[0;34m.\u001b[0m\u001b[0mbuilt\u001b[0m\u001b[0;34m:\u001b[0m\u001b[0;34m\u001b[0m\u001b[0;34m\u001b[0m\u001b[0m\n\u001b[1;32m   2684\u001b[0m       input_spec.assert_input_compatibility(\n\u001b[0;32m-> 2685\u001b[0;31m           self.input_spec, inputs, self.name)\n\u001b[0m\u001b[1;32m   2686\u001b[0m       \u001b[0minput_list\u001b[0m \u001b[0;34m=\u001b[0m \u001b[0mnest\u001b[0m\u001b[0;34m.\u001b[0m\u001b[0mflatten\u001b[0m\u001b[0;34m(\u001b[0m\u001b[0minputs\u001b[0m\u001b[0;34m)\u001b[0m\u001b[0;34m\u001b[0m\u001b[0;34m\u001b[0m\u001b[0m\n\u001b[1;32m   2687\u001b[0m       \u001b[0;32mif\u001b[0m \u001b[0minput_list\u001b[0m \u001b[0;32mand\u001b[0m \u001b[0mself\u001b[0m\u001b[0;34m.\u001b[0m\u001b[0m_dtype_policy\u001b[0m\u001b[0;34m.\u001b[0m\u001b[0mcompute_dtype\u001b[0m \u001b[0;32mis\u001b[0m \u001b[0;32mNone\u001b[0m\u001b[0;34m:\u001b[0m\u001b[0;34m\u001b[0m\u001b[0;34m\u001b[0m\u001b[0m\n",
            "\u001b[0;32m/usr/local/lib/python3.7/dist-packages/tensorflow/python/keras/engine/input_spec.py\u001b[0m in \u001b[0;36massert_input_compatibility\u001b[0;34m(input_spec, inputs, layer_name)\u001b[0m\n\u001b[1;32m    237\u001b[0m                          \u001b[0;34m', found ndim='\u001b[0m \u001b[0;34m+\u001b[0m \u001b[0mstr\u001b[0m\u001b[0;34m(\u001b[0m\u001b[0mndim\u001b[0m\u001b[0;34m)\u001b[0m \u001b[0;34m+\u001b[0m\u001b[0;34m\u001b[0m\u001b[0;34m\u001b[0m\u001b[0m\n\u001b[1;32m    238\u001b[0m                          \u001b[0;34m'. Full shape received: '\u001b[0m \u001b[0;34m+\u001b[0m\u001b[0;34m\u001b[0m\u001b[0;34m\u001b[0m\u001b[0m\n\u001b[0;32m--> 239\u001b[0;31m                          str(tuple(shape)))\n\u001b[0m\u001b[1;32m    240\u001b[0m     \u001b[0;31m# Check dtype.\u001b[0m\u001b[0;34m\u001b[0m\u001b[0;34m\u001b[0m\u001b[0;34m\u001b[0m\u001b[0m\n\u001b[1;32m    241\u001b[0m     \u001b[0;32mif\u001b[0m \u001b[0mspec\u001b[0m\u001b[0;34m.\u001b[0m\u001b[0mdtype\u001b[0m \u001b[0;32mis\u001b[0m \u001b[0;32mnot\u001b[0m \u001b[0;32mNone\u001b[0m\u001b[0;34m:\u001b[0m\u001b[0;34m\u001b[0m\u001b[0;34m\u001b[0m\u001b[0m\n",
            "\u001b[0;31mValueError\u001b[0m: Input 0 of layer block1_conv1 is incompatible with the layer: : expected min_ndim=4, found ndim=3. Full shape received: (None, 512, 512)"
          ]
        }
      ]
    },
    {
      "cell_type": "code",
      "metadata": {
        "id": "bJAmwymUjgfX"
      },
      "source": [
        "# =============================================================================\n",
        "# Test train_generator (to visualize augmentations performed)\n",
        "# =============================================================================\n",
        "\n",
        "data_batch = train_generator.next()\n",
        "imgs = data_batch[0]\n",
        "labels = data_batch[1]\n",
        "\n",
        "# Predict for test data\n",
        "y_predict = model.predict(test_generator)"
      ],
      "execution_count": null,
      "outputs": []
    },
    {
      "cell_type": "markdown",
      "metadata": {
        "id": "QMXRHHphpeWG"
      },
      "source": [
        "# Preprocessing"
      ]
    },
    {
      "cell_type": "markdown",
      "metadata": {
        "id": "ds5xC8Xhm6GC"
      },
      "source": [
        "# Models using pre-cropped images"
      ]
    },
    {
      "cell_type": "markdown",
      "metadata": {
        "id": "x6QIdZ3B6Ogq"
      },
      "source": [
        "## Standard CNN Model"
      ]
    },
    {
      "cell_type": "code",
      "metadata": {
        "id": "k50Uhr2auT4_",
        "colab": {
          "base_uri": "https://localhost:8080/",
          "height": 307
        },
        "outputId": "c3d29ad7-3a2c-4801-eedd-1d2c698fbac9"
      },
      "source": [
        "\n",
        "# =============================================================================\n",
        "# ImageDataGenerator\n",
        "# =============================================================================\n",
        "\n",
        "\n",
        "# =============================================================================\n",
        "# Paths and variables\n",
        "# =============================================================================\n",
        "    \n",
        "target_size = (224, 224)\n",
        "batch_size = 128\n",
        "# batch_size = 32\n",
        "    \n",
        "# =============================================================================\n",
        "# Set up data generators\n",
        "# =============================================================================\n",
        "    \n",
        "train_datagen = ImageDataGenerator(\n",
        "        rescale=1./255,\n",
        "        shear_range=0.2,\n",
        "        zoom_range=0.,\n",
        "        brightness_range = (0.7, 1.3),\n",
        "        horizontal_flip=True,\n",
        "        vertical_flip=False,\n",
        "        rotation_range=0)\n",
        "\n",
        "val_datagen = ImageDataGenerator(rescale=1./255)\n",
        "test_datagen = ImageDataGenerator(rescale=1./255)\n",
        "\n",
        "# read data from directory\n",
        "\n",
        "train_generator = train_datagen.flow_from_directory(\n",
        "        train_dir,\n",
        "        target_size=target_size,\n",
        "        batch_size=batch_size,\n",
        "        class_mode='sparse',\n",
        "        shuffle=False)\n",
        "validation_generator = val_datagen.flow_from_directory(\n",
        "        validation_dir,\n",
        "        target_size=target_size,\n",
        "        batch_size=batch_size,\n",
        "        class_mode='sparse',\n",
        "        shuffle=False)\n",
        "test_generator = test_datagen.flow_from_directory(\n",
        "        test_dir,\n",
        "        target_size=target_size,\n",
        "        batch_size=batch_size,\n",
        "        class_mode='sparse',\n",
        "        shuffle=False)\n",
        "\n",
        "# =============================================================================\n",
        "# Test train_generator (to visualize augmentations performed)\n",
        "# =============================================================================\n",
        "\n",
        "data_batch = train_generator.next()\n",
        "imgs = data_batch[0]\n",
        "labels = data_batch[1]\n",
        "\n",
        "# Der Generator merkt sich die Filenames aus dem flow_from_directory !!\n",
        "\n",
        "orig_img_fn_list = train_generator.filenames\n",
        "\n",
        "for i in range(batch_size):\n",
        "    \n",
        "    img = imgs[i]\n",
        "    orig_img = plt.imread(str(train_dir + orig_img_fn_list[i]))\n",
        "    f, ax = plt.subplots(1,2)\n",
        "    ax[0].imshow(img, cmap='gray')\n",
        "    ax[0].set_title('Augmented')\n",
        "    ax[1].imshow(orig_img, cmap='gray')\n",
        "    ax[1].set_title('Original')\n",
        "    plt.show()\n",
        "\n",
        "    print(f\"Original shape: {orig_img.shape}\")\n",
        "    print(f\"Augmented shape: {img.shape}\")\n",
        "\n",
        "    break\n",
        "    "
      ],
      "execution_count": null,
      "outputs": [
        {
          "output_type": "stream",
          "text": [
            "Found 13602 images belonging to 3 classes.\n",
            "Found 1997 images belonging to 3 classes.\n",
            "Found 1505 images belonging to 3 classes.\n"
          ],
          "name": "stdout"
        },
        {
          "output_type": "display_data",
          "data": {
            "image/png": "[encoded data removed]",
            "text/plain": [
              "<Figure size 432x288 with 2 Axes>"
            ]
          },
          "metadata": {
            "tags": [],
            "needs_background": "light"
          }
        },
        {
          "output_type": "stream",
          "text": [
            "Original shape: (224, 224)\n",
            "Augmented shape: (224, 224, 3)\n"
          ],
          "name": "stdout"
        }
      ]
    },
    {
      "cell_type": "code",
      "metadata": {
        "id": "xbHQWvzv6oqd"
      },
      "source": [
        "train_generator.shuffle = True"
      ],
      "execution_count": null,
      "outputs": []
    },
    {
      "cell_type": "code",
      "metadata": {
        "id": "BrX_l27NqjAm"
      },
      "source": [
        "# =============================================================================\n",
        "# Define Model\n",
        "# =============================================================================\n",
        "\n",
        "\n",
        "input_shape = (224, 224, 3)\n",
        "\n",
        "\n",
        "# Model parameters\n",
        "learning_rate = 0.001\n",
        "dec_rate = 0\n",
        "optim = Adam(lr=learning_rate, decay=dec_rate)\n",
        "\n",
        "\n",
        "def CNN_ConvLayers():\n",
        "    model = Sequential()\n",
        "\n",
        "    model.add(Conv2D(16, (2,2), padding='same', activation='relu', input_shape=input_shape))\n",
        "    model.add(BatchNormalization())\n",
        "    model.add(MaxPool2D())\n",
        "    # now: 112 x 112\n",
        "\n",
        "    model.add(Conv2D(32, (2,2), padding='same', activation='relu'))\n",
        "    model.add(BatchNormalization())\n",
        "    model.add(MaxPool2D())\n",
        "    # Try:\n",
        "    model.add(Dropout(0.3))\n",
        "    # now: 56 x 56\n",
        "\n",
        "    model.add(Conv2D(64, (2,2), padding='same', activation='relu'))\n",
        "    model.add(BatchNormalization())\n",
        "    model.add(MaxPool2D())\n",
        "    # Try:\n",
        "    model.add(Dropout(0.3))\n",
        "    # now: 28 x 28\n",
        "\n",
        "    model.add(Flatten())\n",
        "    model.add(Dense(1024, activation='relu'))\n",
        "    model.add(BatchNormalization())\n",
        "    model.add(Dropout(0.5))\n",
        "    model.add(Dense(64, activation='relu'))\n",
        "    model.add(BatchNormalization())\n",
        "    model.add(Dropout(0.5))\n",
        "    model.add(Dense(3, activation='softmax'))\n",
        "\n",
        "    return model"
      ],
      "execution_count": null,
      "outputs": []
    },
    {
      "cell_type": "code",
      "metadata": {
        "id": "Rl5fkUkcAE70",
        "colab": {
          "base_uri": "https://localhost:8080/"
        },
        "outputId": "ab1a487f-3c23-4779-e078-b8fb7e73aba9"
      },
      "source": [
        "\n",
        "# Compile Model\n",
        "model = CNN_ConvLayers()\n",
        "\n",
        "model.compile(loss='sparse_categorical_crossentropy',\n",
        "              optimizer=optim,\n",
        "              metrics=['accuracy'])\n",
        "\n",
        "model.summary()"
      ],
      "execution_count": null,
      "outputs": [
        {
          "output_type": "stream",
          "text": [
            "Model: \"sequential\"\n",
            "_________________________________________________________________\n",
            "Layer (type)                 Output Shape              Param #   \n",
            "=================================================================\n",
            "conv2d_18 (Conv2D)           (None, 224, 224, 16)      208       \n",
            "_________________________________________________________________\n",
            "batch_normalization_16 (Batc (None, 224, 224, 16)      64        \n",
            "_________________________________________________________________\n",
            "max_pooling2d (MaxPooling2D) (None, 112, 112, 16)      0         \n",
            "_________________________________________________________________\n",
            "conv2d_19 (Conv2D)           (None, 112, 112, 32)      2080      \n",
            "_________________________________________________________________\n",
            "batch_normalization_17 (Batc (None, 112, 112, 32)      128       \n",
            "_________________________________________________________________\n",
            "max_pooling2d_1 (MaxPooling2 (None, 56, 56, 32)        0         \n",
            "_________________________________________________________________\n",
            "dropout (Dropout)            (None, 56, 56, 32)        0         \n",
            "_________________________________________________________________\n",
            "conv2d_20 (Conv2D)           (None, 56, 56, 64)        8256      \n",
            "_________________________________________________________________\n",
            "batch_normalization_18 (Batc (None, 56, 56, 64)        256       \n",
            "_________________________________________________________________\n",
            "max_pooling2d_2 (MaxPooling2 (None, 28, 28, 64)        0         \n",
            "_________________________________________________________________\n",
            "dropout_1 (Dropout)          (None, 28, 28, 64)        0         \n",
            "_________________________________________________________________\n",
            "flatten (Flatten)            (None, 50176)             0         \n",
            "_________________________________________________________________\n",
            "dense (Dense)                (None, 1024)              51381248  \n",
            "_________________________________________________________________\n",
            "batch_normalization_19 (Batc (None, 1024)              4096      \n",
            "_________________________________________________________________\n",
            "dropout_2 (Dropout)          (None, 1024)              0         \n",
            "_________________________________________________________________\n",
            "dense_1 (Dense)              (None, 64)                65600     \n",
            "_________________________________________________________________\n",
            "batch_normalization_20 (Batc (None, 64)                256       \n",
            "_________________________________________________________________\n",
            "dropout_3 (Dropout)          (None, 64)                0         \n",
            "_________________________________________________________________\n",
            "dense_2 (Dense)              (None, 3)                 195       \n",
            "=================================================================\n",
            "Total params: 51,462,387\n",
            "Trainable params: 51,459,987\n",
            "Non-trainable params: 2,400\n",
            "_________________________________________________________________\n"
          ],
          "name": "stdout"
        }
      ]
    },
    {
      "cell_type": "code",
      "metadata": {
        "id": "zA9XBsq9yL0c"
      },
      "source": [
        "# Fit Model and Save Best Model\n",
        "\n",
        "if REBUILD_CNN:\n",
        "  mcp = ModelCheckpoint('best_model_cnn', monitor='val_accuracy', save_best_only=True, verbose=1)\n",
        "  # STEP_SIZE_TRAIN = 20\n",
        "  STEP_SIZE_TEST = 5\n",
        "  epochs=30\n",
        "  history = model.fit(train_generator,\n",
        "                      validation_data = validation_generator,\n",
        "                      validation_steps = STEP_SIZE_TEST,\n",
        "                      epochs=epochs,\n",
        "                      callbacks=[mcp],\n",
        "                      workers=8)\n",
        "\n",
        "\n"
      ],
      "execution_count": null,
      "outputs": []
    },
    {
      "cell_type": "code",
      "metadata": {
        "id": "ip8e7vEqyfBg",
        "colab": {
          "base_uri": "https://localhost:8080/"
        },
        "outputId": "c6ed167e-fc5e-4081-cb59-372abc771a0b"
      },
      "source": [
        "# have a look at the predictions of the \"best_model_cnn\"\n",
        "\n",
        "if REBUILD_CNN:\n",
        "  from keras.models import load_model\n",
        "  best_model_cnn = load_model('best_model_cnn')\n",
        "  # save best model to drive (timestamp appended to filename)\n",
        "  save_model_in_drive(best_model_cnn, \"best_model_cnn_final\")\n",
        "else:\n",
        "  # reload previously saved model from drive\n",
        "  # model_source_path = '/content/drive/.shortcut-targets-by-id/1lp7vo6EG60jba1Gk_tuNpvDm7q5ZXlKX/Telecom_Specialization_ML3/Students/Peter_Christoph_Marko_Martin/program/'\n",
        "  model_source_path = target_path\n",
        "  model_source_file = 'best_model_cnn_final_29_Apr_2021_09_06_20'\n",
        "  # print(str(model_source_path + model_source_file))\n",
        "  best_model_cnn = load_model(str(model_source_path + model_source_file))\n",
        "\n",
        "best_model_cnn.evaluate(test_generator)"
      ],
      "execution_count": null,
      "outputs": [
        {
          "output_type": "stream",
          "text": [
            "12/12 [==============================] - 18s 191ms/step - loss: 0.6913 - acc: 0.7914\n"
          ],
          "name": "stdout"
        },
        {
          "output_type": "execute_result",
          "data": {
            "text/plain": [
              "[0.6913032531738281, 0.7913621068000793]"
            ]
          },
          "metadata": {
            "tags": []
          },
          "execution_count": 30
        }
      ]
    },
    {
      "cell_type": "code",
      "metadata": {
        "id": "EBlza2bMoZ8e",
        "colab": {
          "base_uri": "https://localhost:8080/",
          "height": 311
        },
        "outputId": "3fbdd0ca-e4f4-429e-bce0-76e8ffcf4469"
      },
      "source": [
        "test_generator.shuffle=False\n",
        "\n",
        "# True classes\n",
        "y_true = test_generator.classes\n",
        "\n",
        "# Predict for test data\n",
        "y_predict = best_model_cnn.predict(test_generator)\n",
        "# Choose index of maximum\n",
        "y_predict = np.argmax(y_predict, axis=-1)\n",
        "\n",
        "plot_confusion_matrix_x(labels=y_true,predictions=y_predict,classes_name=['CAP', 'COVID', 'NonCOVID'])"
      ],
      "execution_count": null,
      "outputs": [
        {
          "output_type": "display_data",
          "data": {
            "image/png": "[encoded data removed]",
            "text/plain": [
              "<Figure size 288x288 with 2 Axes>"
            ]
          },
          "metadata": {
            "tags": [],
            "needs_background": "light"
          }
        }
      ]
    },
    {
      "cell_type": "code",
      "metadata": {
        "id": "0McFZG9P-P-O"
      },
      "source": [
        ""
      ],
      "execution_count": null,
      "outputs": []
    },
    {
      "cell_type": "code",
      "metadata": {
        "id": "1ehElkZi6Lom"
      },
      "source": [
        "# Plot History\n",
        "\n",
        "if REBUILD_CNN:\n",
        "  plot_training_history(history)"
      ],
      "execution_count": null,
      "outputs": []
    },
    {
      "cell_type": "code",
      "metadata": {
        "id": "-H7k7WOr-Zpm"
      },
      "source": [
        ""
      ],
      "execution_count": null,
      "outputs": []
    },
    {
      "cell_type": "code",
      "metadata": {
        "id": "yHWhN52r_QTk",
        "colab": {
          "base_uri": "https://localhost:8080/"
        },
        "outputId": "50f24ab3-ef17-40d3-98bd-933bbfae1556"
      },
      "source": [
        "# Create Classification Report\n",
        "\n",
        "from sklearn.metrics import classification_report\n",
        "\n",
        "y_true = test_generator.classes\n",
        "\n",
        "y_predict = best_model_cnn.predict(test_generator)\n",
        "# Choose index of maximum\n",
        "y_predict = np.argmax(y_predict, axis=-1)\n",
        "\n",
        "print(classification_report(y_true, y_predict))"
      ],
      "execution_count": null,
      "outputs": [
        {
          "output_type": "stream",
          "text": [
            "              precision    recall  f1-score   support\n",
            "\n",
            "           0       0.69      0.97      0.80       277\n",
            "           1       0.78      0.67      0.72       586\n",
            "           2       0.87      0.83      0.85       642\n",
            "\n",
            "    accuracy                           0.79      1505\n",
            "   macro avg       0.78      0.82      0.79      1505\n",
            "weighted avg       0.80      0.79      0.79      1505\n",
            "\n"
          ],
          "name": "stdout"
        }
      ]
    }
  ]
}