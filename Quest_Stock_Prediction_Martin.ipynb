{
  "nbformat": 4,
  "nbformat_minor": 0,
  "metadata": {
    "colab": {
      "name": "Quest_Stock_Prediction_Martin.ipynb",
      "provenance": [],
      "collapsed_sections": [],
      "include_colab_link": true
    },
    "kernelspec": {
      "name": "python3",
      "display_name": "Python 3"
    },
    "accelerator": "GPU"
  },
  "cells": [
    {
      "cell_type": "markdown",
      "metadata": {
        "id": "view-in-github",
        "colab_type": "text"
      },
      "source": [
        "<a href=\"https://colab.research.google.com/github/martinfinis/HelloCodeSchoolProject/blob/master/Quest_Stock_Prediction_Martin.ipynb\" target=\"_parent\"><img src=\"https://colab.research.google.com/assets/colab-badge.svg\" alt=\"Open In Colab\"/></a>"
      ]
    },
    {
      "cell_type": "markdown",
      "metadata": {
        "id": "otl-MXUqPWAs"
      },
      "source": [
        "### Introduction \n",
        "In this exercise you will work with stock market data. We use the data available at [Yahoo Finance](https://finance.yahoo.com/quote/DAX/history?period1=1478390400&period2=1604534400&interval=1d&filter=history&frequency=1d&includeAdjustedClose=true)\n",
        "You will build sequential models to predict the variations for Global X DAX Germany ETF (DAX). The goal is to predict whether the stock value is higher or lower than its actual value of previous day."
      ]
    },
    {
      "cell_type": "markdown",
      "metadata": {
        "id": "GInNEGb4vzWm"
      },
      "source": [
        "for more infromaiton\n",
        "\n",
        "https://towardsdatascience.com/lstm-time-series-forecasting-predicting-stock-prices-using-an-lstm-model-6223e9644a2f"
      ]
    },
    {
      "cell_type": "markdown",
      "metadata": {
        "id": "J773emDjYSpy"
      },
      "source": [
        "# https://drive.google.com/file/d/130vrhYjSLtkzbHLrPLiSr5I0jW8LLKo3/view?usp=sharing"
      ]
    },
    {
      "cell_type": "code",
      "metadata": {
        "id": "XHfBtj1tloYy"
      },
      "source": [
        "import numpy as np\n",
        "import matplotlib.pyplot as plt\n",
        "import pandas as pd\n",
        "\n",
        "from sklearn.preprocessing import MinMaxScaler\n",
        "\n",
        "from tensorflow.keras.models import Sequential\n",
        "from tensorflow.keras.layers import Dense\n",
        "from tensorflow.keras.layers import LSTM\n",
        "from tensorflow.keras.layers import Dropout\n",
        "\n",
        "from tensorflow.keras.models import Sequential, load_model\n",
        "from tensorflow.keras.layers import LSTM, Dense, Dropout, BatchNormalization, LeakyReLU\n",
        "from tensorflow.keras.callbacks import ModelCheckpoint, ReduceLROnPlateau"
      ],
      "execution_count": 1,
      "outputs": []
    },
    {
      "cell_type": "markdown",
      "metadata": {
        "id": "o9DlO6aW6fOB"
      },
      "source": [
        "### Loading and Preprocessing Data"
      ]
    },
    {
      "cell_type": "code",
      "metadata": {
        "id": "W4Plv8q6ZzNC"
      },
      "source": [
        "import os\n",
        "from google.colab import auth\n",
        "from oauth2client.client import GoogleCredentials\n",
        "from pydrive.auth import GoogleAuth\n",
        "from pydrive.drive import GoogleDrive\n",
        "# begin function definitions\n",
        "def download_file(url: str, local_file_name: str, overwrite: bool =False):\n",
        "  '''\n",
        "    Downloads a file from an url in the www to the local file system.\n",
        "    Credits go to Andras.\n",
        "    Params\n",
        "      url: str -> url of file\n",
        "      local_file_name: str -> name of file in local file system\n",
        "      overwrite: bool -> False (Default), doesn't overwrite existing local file.\n",
        "                         True: overwrite existing local file.\n",
        "  '''\n",
        "  f_id = url.split('/')[-2]\n",
        "  if not os.path.exists(local_file_name) or overwrite:\n",
        "    auth.authenticate_user()\n",
        "    gauth = GoogleAuth()\n",
        "    gauth.credentials = GoogleCredentials.get_application_default()\n",
        "    drive = GoogleDrive(gauth)\n",
        "    downloaded = drive.CreateFile({'id': f_id})\n",
        "    downloaded.GetContentFile(local_file_name)\n",
        "# end function definitions"
      ],
      "execution_count": 2,
      "outputs": []
    },
    {
      "cell_type": "code",
      "metadata": {
        "id": "fkZZpb4XZ_OR"
      },
      "source": [
        "link = 'https://drive.google.com/file/d/130vrhYjSLtkzbHLrPLiSr5I0jW8LLKo3/view?usp=sharing'\n",
        "name = 'data.zip'#'small_vocab_en.csv.zip'\n",
        "\n",
        "# download url to local file\n",
        "download_file(link, name,overwrite=True)"
      ],
      "execution_count": 3,
      "outputs": []
    },
    {
      "cell_type": "code",
      "metadata": {
        "colab": {
          "base_uri": "https://localhost:8080/"
        },
        "id": "q02C52plb-LE",
        "outputId": "f71cd18b-69af-4fe5-f798-ba0dbb7731fd"
      },
      "source": [
        "!unzip data.zip -d my_data"
      ],
      "execution_count": 4,
      "outputs": [
        {
          "output_type": "stream",
          "text": [
            "Archive:  data.zip\n",
            "replace my_data/data/dax_test_2019.csv.txt? [y]es, [n]o, [A]ll, [N]one, [r]ename: N\n"
          ],
          "name": "stdout"
        }
      ]
    },
    {
      "cell_type": "code",
      "metadata": {
        "colab": {
          "base_uri": "https://localhost:8080/"
        },
        "id": "FceouA93cNPD",
        "outputId": "1e3b3dcc-6e79-42f1-a35d-5b9f6c705ca0"
      },
      "source": [
        "training_data = pd.read_csv(\"/content/my_data/data/dax_train_2019.csv.txt\", sep=\",\")\n",
        "print(f\"Training data column info:\\n {training_data.dtypes}\")\n",
        "print(f\"Training data shape is {training_data.shape}\")"
      ],
      "execution_count": 5,
      "outputs": [
        {
          "output_type": "stream",
          "text": [
            "Training data column info:\n",
            " date          object\n",
            "open         float64\n",
            "high         float64\n",
            "low          float64\n",
            "close        float64\n",
            "adj_close    float64\n",
            "volume         int64\n",
            "dtype: object\n",
            "Training data shape is (644, 7)\n"
          ],
          "name": "stdout"
        }
      ]
    },
    {
      "cell_type": "code",
      "metadata": {
        "colab": {
          "base_uri": "https://localhost:8080/"
        },
        "id": "-jeLLhIEcZGm",
        "outputId": "d494128d-abc2-40d8-bc4c-d12512e107f9"
      },
      "source": [
        "testing_data = pd.read_csv(\"/content/my_data/data/dax_test_2019.csv.txt\", sep=\",\")\n",
        "print(f\"Testing data column info:\\n {training_data.dtypes}\")\n",
        "print(f\"Testing data shape is {training_data.shape}\")"
      ],
      "execution_count": 6,
      "outputs": [
        {
          "output_type": "stream",
          "text": [
            "Testing data column info:\n",
            " date          object\n",
            "open         float64\n",
            "high         float64\n",
            "low          float64\n",
            "close        float64\n",
            "adj_close    float64\n",
            "volume         int64\n",
            "dtype: object\n",
            "Testing data shape is (644, 7)\n"
          ],
          "name": "stdout"
        }
      ]
    },
    {
      "cell_type": "code",
      "metadata": {
        "colab": {
          "base_uri": "https://localhost:8080/",
          "height": 407
        },
        "id": "-KOx_clmG1OX",
        "outputId": "67d5aa6f-89b9-49f7-f2a1-f7f48ebfb0e0"
      },
      "source": [
        "testing_data"
      ],
      "execution_count": 7,
      "outputs": [
        {
          "output_type": "execute_result",
          "data": {
            "text/html": [
              "<div>\n",
              "<style scoped>\n",
              "    .dataframe tbody tr th:only-of-type {\n",
              "        vertical-align: middle;\n",
              "    }\n",
              "\n",
              "    .dataframe tbody tr th {\n",
              "        vertical-align: top;\n",
              "    }\n",
              "\n",
              "    .dataframe thead th {\n",
              "        text-align: right;\n",
              "    }\n",
              "</style>\n",
              "<table border=\"1\" class=\"dataframe\">\n",
              "  <thead>\n",
              "    <tr style=\"text-align: right;\">\n",
              "      <th></th>\n",
              "      <th>date</th>\n",
              "      <th>open</th>\n",
              "      <th>high</th>\n",
              "      <th>Low</th>\n",
              "      <th>close</th>\n",
              "      <th>adj_close</th>\n",
              "      <th>volume</th>\n",
              "    </tr>\n",
              "  </thead>\n",
              "  <tbody>\n",
              "    <tr>\n",
              "      <th>0</th>\n",
              "      <td>2019-06-03</td>\n",
              "      <td>25.660000</td>\n",
              "      <td>25.830000</td>\n",
              "      <td>25.650000</td>\n",
              "      <td>25.825001</td>\n",
              "      <td>24.876635</td>\n",
              "      <td>10700</td>\n",
              "    </tr>\n",
              "    <tr>\n",
              "      <th>1</th>\n",
              "      <td>2019-06-04</td>\n",
              "      <td>26.150000</td>\n",
              "      <td>26.166000</td>\n",
              "      <td>25.889999</td>\n",
              "      <td>26.090000</td>\n",
              "      <td>25.131905</td>\n",
              "      <td>10400</td>\n",
              "    </tr>\n",
              "    <tr>\n",
              "      <th>2</th>\n",
              "      <td>2019-06-05</td>\n",
              "      <td>26.115999</td>\n",
              "      <td>26.115999</td>\n",
              "      <td>26.115999</td>\n",
              "      <td>26.115999</td>\n",
              "      <td>25.156948</td>\n",
              "      <td>100</td>\n",
              "    </tr>\n",
              "    <tr>\n",
              "      <th>3</th>\n",
              "      <td>2019-06-06</td>\n",
              "      <td>26.326000</td>\n",
              "      <td>26.326000</td>\n",
              "      <td>26.326000</td>\n",
              "      <td>26.326000</td>\n",
              "      <td>25.359238</td>\n",
              "      <td>400</td>\n",
              "    </tr>\n",
              "    <tr>\n",
              "      <th>4</th>\n",
              "      <td>2019-06-07</td>\n",
              "      <td>26.549999</td>\n",
              "      <td>26.600000</td>\n",
              "      <td>26.223000</td>\n",
              "      <td>26.540001</td>\n",
              "      <td>25.565380</td>\n",
              "      <td>5300</td>\n",
              "    </tr>\n",
              "    <tr>\n",
              "      <th>...</th>\n",
              "      <td>...</td>\n",
              "      <td>...</td>\n",
              "      <td>...</td>\n",
              "      <td>...</td>\n",
              "      <td>...</td>\n",
              "      <td>...</td>\n",
              "      <td>...</td>\n",
              "    </tr>\n",
              "    <tr>\n",
              "      <th>143</th>\n",
              "      <td>2019-12-24</td>\n",
              "      <td>27.990000</td>\n",
              "      <td>27.990000</td>\n",
              "      <td>27.990000</td>\n",
              "      <td>27.990000</td>\n",
              "      <td>27.668003</td>\n",
              "      <td>0</td>\n",
              "    </tr>\n",
              "    <tr>\n",
              "      <th>144</th>\n",
              "      <td>2019-12-26</td>\n",
              "      <td>27.980000</td>\n",
              "      <td>28.190001</td>\n",
              "      <td>27.980000</td>\n",
              "      <td>28.055000</td>\n",
              "      <td>27.732258</td>\n",
              "      <td>175900</td>\n",
              "    </tr>\n",
              "    <tr>\n",
              "      <th>145</th>\n",
              "      <td>2019-12-27</td>\n",
              "      <td>28.260000</td>\n",
              "      <td>28.299999</td>\n",
              "      <td>28.139999</td>\n",
              "      <td>28.139999</td>\n",
              "      <td>27.816278</td>\n",
              "      <td>2900</td>\n",
              "    </tr>\n",
              "    <tr>\n",
              "      <th>146</th>\n",
              "      <td>2019-12-30</td>\n",
              "      <td>28.040001</td>\n",
              "      <td>28.040001</td>\n",
              "      <td>27.700001</td>\n",
              "      <td>27.700001</td>\n",
              "      <td>27.384260</td>\n",
              "      <td>4400</td>\n",
              "    </tr>\n",
              "    <tr>\n",
              "      <th>147</th>\n",
              "      <td>2019-12-31</td>\n",
              "      <td>27.860001</td>\n",
              "      <td>28.103001</td>\n",
              "      <td>27.770000</td>\n",
              "      <td>28.103001</td>\n",
              "      <td>27.782667</td>\n",
              "      <td>6300</td>\n",
              "    </tr>\n",
              "  </tbody>\n",
              "</table>\n",
              "<p>148 rows × 7 columns</p>\n",
              "</div>"
            ],
            "text/plain": [
              "           date       open       high        Low      close  adj_close  volume\n",
              "0    2019-06-03  25.660000  25.830000  25.650000  25.825001  24.876635   10700\n",
              "1    2019-06-04  26.150000  26.166000  25.889999  26.090000  25.131905   10400\n",
              "2    2019-06-05  26.115999  26.115999  26.115999  26.115999  25.156948     100\n",
              "3    2019-06-06  26.326000  26.326000  26.326000  26.326000  25.359238     400\n",
              "4    2019-06-07  26.549999  26.600000  26.223000  26.540001  25.565380    5300\n",
              "..          ...        ...        ...        ...        ...        ...     ...\n",
              "143  2019-12-24  27.990000  27.990000  27.990000  27.990000  27.668003       0\n",
              "144  2019-12-26  27.980000  28.190001  27.980000  28.055000  27.732258  175900\n",
              "145  2019-12-27  28.260000  28.299999  28.139999  28.139999  27.816278    2900\n",
              "146  2019-12-30  28.040001  28.040001  27.700001  27.700001  27.384260    4400\n",
              "147  2019-12-31  27.860001  28.103001  27.770000  28.103001  27.782667    6300\n",
              "\n",
              "[148 rows x 7 columns]"
            ]
          },
          "metadata": {
            "tags": []
          },
          "execution_count": 7
        }
      ]
    },
    {
      "cell_type": "code",
      "metadata": {
        "id": "WKR-Y1L2-Bz4",
        "colab": {
          "base_uri": "https://localhost:8080/"
        },
        "outputId": "82078d9e-d4a8-4c5c-ad1a-46881544ea2b"
      },
      "source": [
        "len(testing_data)\n",
        "testing_data.shape[0]"
      ],
      "execution_count": 8,
      "outputs": [
        {
          "output_type": "execute_result",
          "data": {
            "text/plain": [
              "148"
            ]
          },
          "metadata": {
            "tags": []
          },
          "execution_count": 8
        }
      ]
    },
    {
      "cell_type": "code",
      "metadata": {
        "id": "kJzImb4KdRr7"
      },
      "source": [
        "import pandas as pd"
      ],
      "execution_count": 9,
      "outputs": []
    },
    {
      "cell_type": "code",
      "metadata": {
        "id": "-aAQDM6ZdOJV"
      },
      "source": [
        "df_train = pd.DataFrame(data=training_data)"
      ],
      "execution_count": 10,
      "outputs": []
    },
    {
      "cell_type": "code",
      "metadata": {
        "colab": {
          "base_uri": "https://localhost:8080/",
          "height": 407
        },
        "id": "Bs021fdPdspY",
        "outputId": "c636e33a-8dc6-48ba-acbb-503ca856e01d"
      },
      "source": [
        "df_train"
      ],
      "execution_count": 11,
      "outputs": [
        {
          "output_type": "execute_result",
          "data": {
            "text/html": [
              "<div>\n",
              "<style scoped>\n",
              "    .dataframe tbody tr th:only-of-type {\n",
              "        vertical-align: middle;\n",
              "    }\n",
              "\n",
              "    .dataframe tbody tr th {\n",
              "        vertical-align: top;\n",
              "    }\n",
              "\n",
              "    .dataframe thead th {\n",
              "        text-align: right;\n",
              "    }\n",
              "</style>\n",
              "<table border=\"1\" class=\"dataframe\">\n",
              "  <thead>\n",
              "    <tr style=\"text-align: right;\">\n",
              "      <th></th>\n",
              "      <th>date</th>\n",
              "      <th>open</th>\n",
              "      <th>high</th>\n",
              "      <th>low</th>\n",
              "      <th>close</th>\n",
              "      <th>adj_close</th>\n",
              "      <th>volume</th>\n",
              "    </tr>\n",
              "  </thead>\n",
              "  <tbody>\n",
              "    <tr>\n",
              "      <th>0</th>\n",
              "      <td>2016-11-07</td>\n",
              "      <td>24.340000</td>\n",
              "      <td>24.440001</td>\n",
              "      <td>24.304001</td>\n",
              "      <td>24.400000</td>\n",
              "      <td>22.092239</td>\n",
              "      <td>2700</td>\n",
              "    </tr>\n",
              "    <tr>\n",
              "      <th>1</th>\n",
              "      <td>2016-11-08</td>\n",
              "      <td>24.559999</td>\n",
              "      <td>24.559999</td>\n",
              "      <td>24.520000</td>\n",
              "      <td>24.530001</td>\n",
              "      <td>22.209948</td>\n",
              "      <td>1100</td>\n",
              "    </tr>\n",
              "    <tr>\n",
              "      <th>2</th>\n",
              "      <td>2016-11-09</td>\n",
              "      <td>24.296000</td>\n",
              "      <td>24.610001</td>\n",
              "      <td>24.296000</td>\n",
              "      <td>24.590000</td>\n",
              "      <td>22.264271</td>\n",
              "      <td>900</td>\n",
              "    </tr>\n",
              "    <tr>\n",
              "      <th>3</th>\n",
              "      <td>2016-11-10</td>\n",
              "      <td>24.750000</td>\n",
              "      <td>24.750000</td>\n",
              "      <td>24.360001</td>\n",
              "      <td>24.474001</td>\n",
              "      <td>22.159245</td>\n",
              "      <td>4600</td>\n",
              "    </tr>\n",
              "    <tr>\n",
              "      <th>4</th>\n",
              "      <td>2016-11-11</td>\n",
              "      <td>24.410000</td>\n",
              "      <td>24.537001</td>\n",
              "      <td>24.410000</td>\n",
              "      <td>24.440001</td>\n",
              "      <td>22.128456</td>\n",
              "      <td>2700</td>\n",
              "    </tr>\n",
              "    <tr>\n",
              "      <th>...</th>\n",
              "      <td>...</td>\n",
              "      <td>...</td>\n",
              "      <td>...</td>\n",
              "      <td>...</td>\n",
              "      <td>...</td>\n",
              "      <td>...</td>\n",
              "      <td>...</td>\n",
              "    </tr>\n",
              "    <tr>\n",
              "      <th>639</th>\n",
              "      <td>2019-05-24</td>\n",
              "      <td>26.054001</td>\n",
              "      <td>26.054001</td>\n",
              "      <td>26.054001</td>\n",
              "      <td>26.054001</td>\n",
              "      <td>25.097227</td>\n",
              "      <td>100</td>\n",
              "    </tr>\n",
              "    <tr>\n",
              "      <th>640</th>\n",
              "      <td>2019-05-28</td>\n",
              "      <td>26.166000</td>\n",
              "      <td>26.166000</td>\n",
              "      <td>26.061001</td>\n",
              "      <td>26.100000</td>\n",
              "      <td>25.141537</td>\n",
              "      <td>1600</td>\n",
              "    </tr>\n",
              "    <tr>\n",
              "      <th>641</th>\n",
              "      <td>2019-05-29</td>\n",
              "      <td>25.660000</td>\n",
              "      <td>25.799000</td>\n",
              "      <td>25.374001</td>\n",
              "      <td>25.448999</td>\n",
              "      <td>24.514442</td>\n",
              "      <td>3800</td>\n",
              "    </tr>\n",
              "    <tr>\n",
              "      <th>642</th>\n",
              "      <td>2019-05-30</td>\n",
              "      <td>25.719999</td>\n",
              "      <td>25.924000</td>\n",
              "      <td>25.719999</td>\n",
              "      <td>25.801001</td>\n",
              "      <td>24.853516</td>\n",
              "      <td>6800</td>\n",
              "    </tr>\n",
              "    <tr>\n",
              "      <th>643</th>\n",
              "      <td>2019-05-31</td>\n",
              "      <td>25.500000</td>\n",
              "      <td>27.190001</td>\n",
              "      <td>25.469999</td>\n",
              "      <td>27.190001</td>\n",
              "      <td>26.191511</td>\n",
              "      <td>7000</td>\n",
              "    </tr>\n",
              "  </tbody>\n",
              "</table>\n",
              "<p>644 rows × 7 columns</p>\n",
              "</div>"
            ],
            "text/plain": [
              "           date       open       high        low      close  adj_close  volume\n",
              "0    2016-11-07  24.340000  24.440001  24.304001  24.400000  22.092239    2700\n",
              "1    2016-11-08  24.559999  24.559999  24.520000  24.530001  22.209948    1100\n",
              "2    2016-11-09  24.296000  24.610001  24.296000  24.590000  22.264271     900\n",
              "3    2016-11-10  24.750000  24.750000  24.360001  24.474001  22.159245    4600\n",
              "4    2016-11-11  24.410000  24.537001  24.410000  24.440001  22.128456    2700\n",
              "..          ...        ...        ...        ...        ...        ...     ...\n",
              "639  2019-05-24  26.054001  26.054001  26.054001  26.054001  25.097227     100\n",
              "640  2019-05-28  26.166000  26.166000  26.061001  26.100000  25.141537    1600\n",
              "641  2019-05-29  25.660000  25.799000  25.374001  25.448999  24.514442    3800\n",
              "642  2019-05-30  25.719999  25.924000  25.719999  25.801001  24.853516    6800\n",
              "643  2019-05-31  25.500000  27.190001  25.469999  27.190001  26.191511    7000\n",
              "\n",
              "[644 rows x 7 columns]"
            ]
          },
          "metadata": {
            "tags": []
          },
          "execution_count": 11
        }
      ]
    },
    {
      "cell_type": "code",
      "metadata": {
        "colab": {
          "base_uri": "https://localhost:8080/",
          "height": 610
        },
        "id": "IPfsxsyjfS-0",
        "outputId": "c4cf56c9-b48e-43b3-dea7-3436fb916df3"
      },
      "source": [
        "plt.figure(figsize=(20,10))\n",
        "plt.plot(df_train['date'], df_train['open'])\n",
        "plt.plot(df_train['date'], df_train['high'])\n",
        "plt.plot(df_train['date'], df_train['low'])\n",
        "plt.plot(df_train['date'], df_train['close'])"
      ],
      "execution_count": 12,
      "outputs": [
        {
          "output_type": "execute_result",
          "data": {
            "text/plain": [
              "[<matplotlib.lines.Line2D at 0x7f2e9d9647d0>]"
            ]
          },
          "metadata": {
            "tags": []
          },
          "execution_count": 12
        },
        {
          "output_type": "display_data",
          "data": {
            "image/png": "[encoded data removed]",
            "text/plain": [
              "<Figure size 1440x720 with 1 Axes>"
            ]
          },
          "metadata": {
            "tags": [],
            "needs_background": "light"
          }
        }
      ]
    },
    {
      "cell_type": "code",
      "metadata": {
        "colab": {
          "base_uri": "https://localhost:8080/",
          "height": 407
        },
        "id": "Zh_zK-mfgWpP",
        "outputId": "b1ae06cd-1f64-4e51-9cb4-3321000f01c2"
      },
      "source": [
        "df_test = pd.DataFrame(data=testing_data)\n",
        "df_test"
      ],
      "execution_count": 13,
      "outputs": [
        {
          "output_type": "execute_result",
          "data": {
            "text/html": [
              "<div>\n",
              "<style scoped>\n",
              "    .dataframe tbody tr th:only-of-type {\n",
              "        vertical-align: middle;\n",
              "    }\n",
              "\n",
              "    .dataframe tbody tr th {\n",
              "        vertical-align: top;\n",
              "    }\n",
              "\n",
              "    .dataframe thead th {\n",
              "        text-align: right;\n",
              "    }\n",
              "</style>\n",
              "<table border=\"1\" class=\"dataframe\">\n",
              "  <thead>\n",
              "    <tr style=\"text-align: right;\">\n",
              "      <th></th>\n",
              "      <th>date</th>\n",
              "      <th>open</th>\n",
              "      <th>high</th>\n",
              "      <th>Low</th>\n",
              "      <th>close</th>\n",
              "      <th>adj_close</th>\n",
              "      <th>volume</th>\n",
              "    </tr>\n",
              "  </thead>\n",
              "  <tbody>\n",
              "    <tr>\n",
              "      <th>0</th>\n",
              "      <td>2019-06-03</td>\n",
              "      <td>25.660000</td>\n",
              "      <td>25.830000</td>\n",
              "      <td>25.650000</td>\n",
              "      <td>25.825001</td>\n",
              "      <td>24.876635</td>\n",
              "      <td>10700</td>\n",
              "    </tr>\n",
              "    <tr>\n",
              "      <th>1</th>\n",
              "      <td>2019-06-04</td>\n",
              "      <td>26.150000</td>\n",
              "      <td>26.166000</td>\n",
              "      <td>25.889999</td>\n",
              "      <td>26.090000</td>\n",
              "      <td>25.131905</td>\n",
              "      <td>10400</td>\n",
              "    </tr>\n",
              "    <tr>\n",
              "      <th>2</th>\n",
              "      <td>2019-06-05</td>\n",
              "      <td>26.115999</td>\n",
              "      <td>26.115999</td>\n",
              "      <td>26.115999</td>\n",
              "      <td>26.115999</td>\n",
              "      <td>25.156948</td>\n",
              "      <td>100</td>\n",
              "    </tr>\n",
              "    <tr>\n",
              "      <th>3</th>\n",
              "      <td>2019-06-06</td>\n",
              "      <td>26.326000</td>\n",
              "      <td>26.326000</td>\n",
              "      <td>26.326000</td>\n",
              "      <td>26.326000</td>\n",
              "      <td>25.359238</td>\n",
              "      <td>400</td>\n",
              "    </tr>\n",
              "    <tr>\n",
              "      <th>4</th>\n",
              "      <td>2019-06-07</td>\n",
              "      <td>26.549999</td>\n",
              "      <td>26.600000</td>\n",
              "      <td>26.223000</td>\n",
              "      <td>26.540001</td>\n",
              "      <td>25.565380</td>\n",
              "      <td>5300</td>\n",
              "    </tr>\n",
              "    <tr>\n",
              "      <th>...</th>\n",
              "      <td>...</td>\n",
              "      <td>...</td>\n",
              "      <td>...</td>\n",
              "      <td>...</td>\n",
              "      <td>...</td>\n",
              "      <td>...</td>\n",
              "      <td>...</td>\n",
              "    </tr>\n",
              "    <tr>\n",
              "      <th>143</th>\n",
              "      <td>2019-12-24</td>\n",
              "      <td>27.990000</td>\n",
              "      <td>27.990000</td>\n",
              "      <td>27.990000</td>\n",
              "      <td>27.990000</td>\n",
              "      <td>27.668003</td>\n",
              "      <td>0</td>\n",
              "    </tr>\n",
              "    <tr>\n",
              "      <th>144</th>\n",
              "      <td>2019-12-26</td>\n",
              "      <td>27.980000</td>\n",
              "      <td>28.190001</td>\n",
              "      <td>27.980000</td>\n",
              "      <td>28.055000</td>\n",
              "      <td>27.732258</td>\n",
              "      <td>175900</td>\n",
              "    </tr>\n",
              "    <tr>\n",
              "      <th>145</th>\n",
              "      <td>2019-12-27</td>\n",
              "      <td>28.260000</td>\n",
              "      <td>28.299999</td>\n",
              "      <td>28.139999</td>\n",
              "      <td>28.139999</td>\n",
              "      <td>27.816278</td>\n",
              "      <td>2900</td>\n",
              "    </tr>\n",
              "    <tr>\n",
              "      <th>146</th>\n",
              "      <td>2019-12-30</td>\n",
              "      <td>28.040001</td>\n",
              "      <td>28.040001</td>\n",
              "      <td>27.700001</td>\n",
              "      <td>27.700001</td>\n",
              "      <td>27.384260</td>\n",
              "      <td>4400</td>\n",
              "    </tr>\n",
              "    <tr>\n",
              "      <th>147</th>\n",
              "      <td>2019-12-31</td>\n",
              "      <td>27.860001</td>\n",
              "      <td>28.103001</td>\n",
              "      <td>27.770000</td>\n",
              "      <td>28.103001</td>\n",
              "      <td>27.782667</td>\n",
              "      <td>6300</td>\n",
              "    </tr>\n",
              "  </tbody>\n",
              "</table>\n",
              "<p>148 rows × 7 columns</p>\n",
              "</div>"
            ],
            "text/plain": [
              "           date       open       high        Low      close  adj_close  volume\n",
              "0    2019-06-03  25.660000  25.830000  25.650000  25.825001  24.876635   10700\n",
              "1    2019-06-04  26.150000  26.166000  25.889999  26.090000  25.131905   10400\n",
              "2    2019-06-05  26.115999  26.115999  26.115999  26.115999  25.156948     100\n",
              "3    2019-06-06  26.326000  26.326000  26.326000  26.326000  25.359238     400\n",
              "4    2019-06-07  26.549999  26.600000  26.223000  26.540001  25.565380    5300\n",
              "..          ...        ...        ...        ...        ...        ...     ...\n",
              "143  2019-12-24  27.990000  27.990000  27.990000  27.990000  27.668003       0\n",
              "144  2019-12-26  27.980000  28.190001  27.980000  28.055000  27.732258  175900\n",
              "145  2019-12-27  28.260000  28.299999  28.139999  28.139999  27.816278    2900\n",
              "146  2019-12-30  28.040001  28.040001  27.700001  27.700001  27.384260    4400\n",
              "147  2019-12-31  27.860001  28.103001  27.770000  28.103001  27.782667    6300\n",
              "\n",
              "[148 rows x 7 columns]"
            ]
          },
          "metadata": {
            "tags": []
          },
          "execution_count": 13
        }
      ]
    },
    {
      "cell_type": "code",
      "metadata": {
        "id": "lYk7LJTRhwYW"
      },
      "source": [
        "df_test.rename(columns={'Low':'low'},inplace = True) "
      ],
      "execution_count": 14,
      "outputs": []
    },
    {
      "cell_type": "code",
      "metadata": {
        "colab": {
          "base_uri": "https://localhost:8080/",
          "height": 610
        },
        "id": "uS0j7GOjiYJt",
        "outputId": "9991496a-7a68-4b07-9239-4b605c86181c"
      },
      "source": [
        "plt.figure(figsize=(20,10))\n",
        "plt.plot(df_train['date'][0:20], df_train['open'][0:20])\n",
        "plt.plot(df_train['date'][0:20], df_train['high'][0:20])\n",
        "plt.plot(df_train['date'][0:20], df_train['low'][0:20])\n",
        "plt.plot(df_train['date'][0:20], df_train['close'][0:20])\n"
      ],
      "execution_count": 15,
      "outputs": [
        {
          "output_type": "execute_result",
          "data": {
            "text/plain": [
              "[<matplotlib.lines.Line2D at 0x7f2e9d3df8d0>]"
            ]
          },
          "metadata": {
            "tags": []
          },
          "execution_count": 15
        },
        {
          "output_type": "display_data",
          "data": {
            "image/png": "[encoded data removed]",
            "text/plain": [
              "<Figure size 1440x720 with 1 Axes>"
            ]
          },
          "metadata": {
            "tags": [],
            "needs_background": "light"
          }
        }
      ]
    },
    {
      "cell_type": "markdown",
      "metadata": {
        "id": "CEGwqlyPyku7"
      },
      "source": [
        "####  Are there any NaN values in training and testing data sets?"
      ]
    },
    {
      "cell_type": "code",
      "metadata": {
        "id": "muZCsfzYYXiP",
        "colab": {
          "base_uri": "https://localhost:8080/"
        },
        "outputId": "b1671589-d029-4a19-8aeb-666b22f18af0"
      },
      "source": [
        "training_count_nan = training_data.shape[0] - training_data.count()\n",
        "testing_count_nan = testing_data.shape[0] - testing_data.count()\n",
        "print(f\"Number of NaNs in training data columns:\\n{training_count_nan}\")\n",
        "print(f\"Number of NaNs in testing data columns:\\n{testing_count_nan}\")"
      ],
      "execution_count": 16,
      "outputs": [
        {
          "output_type": "stream",
          "text": [
            "Number of NaNs in training data columns:\n",
            "date         0\n",
            "open         0\n",
            "high         0\n",
            "low          0\n",
            "close        0\n",
            "adj_close    0\n",
            "volume       0\n",
            "dtype: int64\n",
            "Number of NaNs in testing data columns:\n",
            "date         0\n",
            "open         0\n",
            "high         0\n",
            "low          0\n",
            "close        0\n",
            "adj_close    0\n",
            "volume       0\n",
            "dtype: int64\n"
          ],
          "name": "stdout"
        }
      ]
    },
    {
      "cell_type": "markdown",
      "metadata": {
        "id": "QMDCQsRH0xsV"
      },
      "source": [
        "#### Preprocessing the data, extracting the features, and normalising the features using `preprocessing.MinMaxScaler` function from sklearn\n",
        "\n",
        "We have provided you with the relevant function here. But we expect you to explore the data generated. \n",
        "\n",
        "What are the shapes?\n",
        "\n",
        "Do a test whether features and labels correspond, i.e. whether the label for each sequence is the value following that sequence? \n",
        "\n",
        "Optional: Extend the function to include more features - and change it \n",
        "to choose a different column as target, i.e. adj_close\n"
      ]
    },
    {
      "cell_type": "code",
      "metadata": {
        "id": "g8bFN1AvjXA1"
      },
      "source": [
        "def create_features_labels(training_data, testing_data, scaler=MinMaxScaler(feature_range = (0, 1)), sequence_length=60):\n",
        "    \"\"\"\n",
        "    Create feature and labels from training data\n",
        "    :param training_data\n",
        "    :param testing_data\n",
        "    :param sequence_length\n",
        "    :param scaler\n",
        "    :return: Features and labels sets, and labels bins\n",
        "    \"\"\"\n",
        "    features_set = []\n",
        "    labels = []\n",
        "    labels_bin = []\n",
        "    test_labels_bin = []\n",
        "    test_features = []\n",
        "    # Limiting the training and testing data to relevant column (here \"open\" column)\n",
        "    training_data_processed = training_data.iloc[:, 1:2].values\n",
        "\n",
        "    # Normalization: Transform features by scaling each feature in training to be in a range of (0, 1)\n",
        "    training_data_processed = scaler.fit_transform(training_data_processed)\n",
        "    \n",
        "    # Preparing training data features and labels\n",
        "    for i in range(sequence_length, len(training_data)):\n",
        "        features_set.append(training_data_processed[i-sequence_length:i, 0])\n",
        "        labels.append(training_data_processed[i, 0])\n",
        "        # Fill binary labels if \"open\" rais or drope\n",
        "        if training_data_processed[i,0] > training_data_processed[i-1,0]:\n",
        "            labels_bin.append(1)\n",
        "        else:\n",
        "            labels_bin.append(0)\n",
        "            \n",
        "    # Preparing the testing data features\n",
        "    total = pd.concat((training_data['open'], testing_data['open']), axis=0)\n",
        "    test_inputs = total[len(total) - len(testing_data) - sequence_length:].values\n",
        "    test_inputs = test_inputs.reshape(-1,1)\n",
        "    test_inputs = scaler.transform(test_inputs)\n",
        "\n",
        "    for i in range(sequence_length, len(test_inputs)):\n",
        "        test_features.append(test_inputs[i-sequence_length:i, 0])\n",
        "        # Fill binary labels if \"open\" rais or drope\n",
        "        if test_inputs[i,0] > test_inputs[i-1,0]:\n",
        "            test_labels_bin.append(1)\n",
        "        else:\n",
        "            test_labels_bin.append(0)\n",
        "    \n",
        "    test_features = np.array(test_features)\n",
        "    test_features = np.reshape(test_features, (test_features.shape[0], test_features.shape[1], 1))\n",
        "    features_set, labels, labels_bin, test_labels_bin = np.array(features_set), np.array(labels), np.array(labels_bin), np.array(test_labels_bin)\n",
        "    return np.reshape(features_set, (features_set.shape[0], features_set.shape[1], 1)), labels, labels_bin,test_labels_bin, test_features, scaler"
      ],
      "execution_count": 17,
      "outputs": []
    },
    {
      "cell_type": "code",
      "metadata": {
        "colab": {
          "base_uri": "https://localhost:8080/"
        },
        "id": "F1oJwjwgydx3",
        "outputId": "9d47b22b-1e3d-4ff7-c84e-47613c3f7921"
      },
      "source": [
        "training_data.shape,testing_data.shape"
      ],
      "execution_count": 18,
      "outputs": [
        {
          "output_type": "execute_result",
          "data": {
            "text/plain": [
              "((644, 7), (148, 7))"
            ]
          },
          "metadata": {
            "tags": []
          },
          "execution_count": 18
        }
      ]
    },
    {
      "cell_type": "code",
      "metadata": {
        "id": "EVe5xtf5A_Mf"
      },
      "source": [
        "features_set, labels, labels_bin, test_labels_bin, test_features, scaler = create_features_labels(training_data, testing_data, MinMaxScaler(feature_range = (0, 1)), 60)"
      ],
      "execution_count": 19,
      "outputs": []
    },
    {
      "cell_type": "code",
      "metadata": {
        "id": "ffn2FwPywslN",
        "colab": {
          "base_uri": "https://localhost:8080/"
        },
        "outputId": "07682730-9aac-4e7b-ab6d-f8f271f59857"
      },
      "source": [
        "features_set.shape, test_features.shape"
      ],
      "execution_count": 20,
      "outputs": [
        {
          "output_type": "execute_result",
          "data": {
            "text/plain": [
              "((584, 60, 1), (148, 60, 1))"
            ]
          },
          "metadata": {
            "tags": []
          },
          "execution_count": 20
        }
      ]
    },
    {
      "cell_type": "code",
      "metadata": {
        "id": "MSehb1CvxCNm",
        "colab": {
          "base_uri": "https://localhost:8080/"
        },
        "outputId": "4171ef7b-25c9-46e7-bca9-eceeef0f5310"
      },
      "source": [
        "labels.shape, labels_bin.shape"
      ],
      "execution_count": 21,
      "outputs": [
        {
          "output_type": "execute_result",
          "data": {
            "text/plain": [
              "((584,), (584,))"
            ]
          },
          "metadata": {
            "tags": []
          },
          "execution_count": 21
        }
      ]
    },
    {
      "cell_type": "code",
      "metadata": {
        "colab": {
          "base_uri": "https://localhost:8080/"
        },
        "id": "wl_JiHnyst3F",
        "outputId": "80edc0ad-1453-46fc-c082-f0f69bdbbe16"
      },
      "source": [
        "type(scaler)"
      ],
      "execution_count": 22,
      "outputs": [
        {
          "output_type": "execute_result",
          "data": {
            "text/plain": [
              "sklearn.preprocessing._data.MinMaxScaler"
            ]
          },
          "metadata": {
            "tags": []
          },
          "execution_count": 22
        }
      ]
    },
    {
      "cell_type": "markdown",
      "metadata": {
        "id": "PXPt3xbzTOfz"
      },
      "source": [
        "### Model\n",
        "In this section we ask you to build and train a LSTM neural network and use it predict the stock price variations on your testing data."
      ]
    },
    {
      "cell_type": "code",
      "metadata": {
        "id": "5hJ3Y27DTPtk"
      },
      "source": [
        "## copy from lectur\n",
        "def lstm_model_1(input_shape):\n",
        "    \n",
        "    # TODO: Implement your model here. \n",
        "    # (Hint: Make use of `Sequential` function from tensorflow.keras to group a linear stack of layers into the model. In addition, \n",
        "    # you can apply droupouts to your input using `Dropout` from tensorflow.keras.layers)\n",
        "    model = Sequential()\n",
        "    model.add(LSTM(50, return_sequences = True, input_shape=(input_shape[1],1))) \n",
        "    model.add(BatchNormalization())\n",
        "    model.add(LeakyReLU(0.15))\n",
        "    model.add(Dropout(0.2))\n",
        "    model.add(BatchNormalization())\n",
        "    model.add(LSTM(50))\n",
        "    model.add(BatchNormalization())\n",
        "    model.add(LeakyReLU(0.15))\n",
        "    model.add(Dropout(0.2))\n",
        "    model.add(Dense(units = 1))\n",
        "    return model\n",
        "\n",
        "def lstm_model_2(input_shape):\n",
        "  model = Sequential()\n",
        "  model.add(LSTM(50, return_sequences = True, input_shape=(input_shape[1],1))) \n",
        "  model.add(Dropout(0.2))\n",
        "  # Adding a second LSTM layer and some Dropout regularisation\n",
        "  model.add(LSTM(units = 50, return_sequences = True))\n",
        "  model.add(Dropout(0.2))\n",
        "  # Adding a third LSTM layer and some Dropout regularisation\n",
        "  model.add(LSTM(units = 50, return_sequences = True))\n",
        "  model.add(Dropout(0.2))\n",
        "  # Adding a fourth LSTM layer and some Dropout regularisation\n",
        "  model.add(LSTM(units = 50))\n",
        "  model.add(Dropout(0.2))\n",
        "  # Adding the output layer\n",
        "  model.add(Dense(units = 1))\n",
        "  return model"
      ],
      "execution_count": 23,
      "outputs": []
    },
    {
      "cell_type": "markdown",
      "metadata": {
        "id": "l2rUpagvjTQ_"
      },
      "source": [
        "#model 1"
      ]
    },
    {
      "cell_type": "code",
      "metadata": {
        "id": "2Ji5dd1rjSMq"
      },
      "source": [
        "model_1 = lstm_model_1(features_set.shape)\n",
        "#model_1.summary()"
      ],
      "execution_count": 24,
      "outputs": []
    },
    {
      "cell_type": "code",
      "metadata": {
        "id": "N3fH4eytjr9K"
      },
      "source": [
        "model_1.compile(optimizer = 'adam', loss='mean_squared_error',  metrics = ['mean_squared_error'])"
      ],
      "execution_count": 25,
      "outputs": []
    },
    {
      "cell_type": "code",
      "metadata": {
        "colab": {
          "base_uri": "https://localhost:8080/"
        },
        "collapsed": true,
        "id": "tZo1zM8rjr9L",
        "outputId": "2f9d0e99-f443-4bc1-df87-b5f353cc3505"
      },
      "source": [
        "history = model_1.fit(features_set, labels, epochs = 200, batch_size=128,verbose=1) #todo: callbacks=[mcp, rlop]\n",
        "                                                                              #validation_split = 0.2,  ???"
      ],
      "execution_count": 65,
      "outputs": [
        {
          "output_type": "stream",
          "text": [
            "Epoch 1/100\n",
            "5/5 [==============================] - 0s 10ms/step - loss: 0.0078 - mean_squared_error: 0.0078\n",
            "Epoch 2/100\n",
            "5/5 [==============================] - 0s 10ms/step - loss: 0.0098 - mean_squared_error: 0.0098\n",
            "Epoch 3/100\n",
            "5/5 [==============================] - 0s 10ms/step - loss: 0.0096 - mean_squared_error: 0.0096\n",
            "Epoch 4/100\n",
            "5/5 [==============================] - 0s 10ms/step - loss: 0.0087 - mean_squared_error: 0.0087\n",
            "Epoch 5/100\n",
            "5/5 [==============================] - 0s 9ms/step - loss: 0.0095 - mean_squared_error: 0.0095\n",
            "Epoch 6/100\n",
            "5/5 [==============================] - 0s 9ms/step - loss: 0.0080 - mean_squared_error: 0.0080\n",
            "Epoch 7/100\n",
            "5/5 [==============================] - 0s 9ms/step - loss: 0.0079 - mean_squared_error: 0.0079\n",
            "Epoch 8/100\n",
            "5/5 [==============================] - 0s 11ms/step - loss: 0.0088 - mean_squared_error: 0.0088\n",
            "Epoch 9/100\n",
            "5/5 [==============================] - 0s 10ms/step - loss: 0.0078 - mean_squared_error: 0.0078\n",
            "Epoch 10/100\n",
            "5/5 [==============================] - 0s 9ms/step - loss: 0.0081 - mean_squared_error: 0.0081\n",
            "Epoch 11/100\n",
            "5/5 [==============================] - 0s 9ms/step - loss: 0.0085 - mean_squared_error: 0.0085\n",
            "Epoch 12/100\n",
            "5/5 [==============================] - 0s 9ms/step - loss: 0.0078 - mean_squared_error: 0.0078\n",
            "Epoch 13/100\n",
            "5/5 [==============================] - 0s 9ms/step - loss: 0.0071 - mean_squared_error: 0.0071\n",
            "Epoch 14/100\n",
            "5/5 [==============================] - 0s 10ms/step - loss: 0.0076 - mean_squared_error: 0.0076\n",
            "Epoch 15/100\n",
            "5/5 [==============================] - 0s 10ms/step - loss: 0.0079 - mean_squared_error: 0.0079\n",
            "Epoch 16/100\n",
            "5/5 [==============================] - 0s 9ms/step - loss: 0.0074 - mean_squared_error: 0.0074\n",
            "Epoch 17/100\n",
            "5/5 [==============================] - 0s 9ms/step - loss: 0.0083 - mean_squared_error: 0.0083\n",
            "Epoch 18/100\n",
            "5/5 [==============================] - 0s 10ms/step - loss: 0.0076 - mean_squared_error: 0.0076\n",
            "Epoch 19/100\n",
            "5/5 [==============================] - 0s 9ms/step - loss: 0.0069 - mean_squared_error: 0.0069\n",
            "Epoch 20/100\n",
            "5/5 [==============================] - 0s 9ms/step - loss: 0.0083 - mean_squared_error: 0.0083\n",
            "Epoch 21/100\n",
            "5/5 [==============================] - 0s 9ms/step - loss: 0.0068 - mean_squared_error: 0.0068\n",
            "Epoch 22/100\n",
            "5/5 [==============================] - 0s 10ms/step - loss: 0.0077 - mean_squared_error: 0.0077\n",
            "Epoch 23/100\n",
            "5/5 [==============================] - 0s 9ms/step - loss: 0.0067 - mean_squared_error: 0.0067\n",
            "Epoch 24/100\n",
            "5/5 [==============================] - 0s 10ms/step - loss: 0.0077 - mean_squared_error: 0.0077\n",
            "Epoch 25/100\n",
            "5/5 [==============================] - 0s 10ms/step - loss: 0.0061 - mean_squared_error: 0.0061\n",
            "Epoch 26/100\n",
            "5/5 [==============================] - 0s 11ms/step - loss: 0.0078 - mean_squared_error: 0.0078\n",
            "Epoch 27/100\n",
            "5/5 [==============================] - 0s 10ms/step - loss: 0.0078 - mean_squared_error: 0.0078\n",
            "Epoch 28/100\n",
            "5/5 [==============================] - 0s 10ms/step - loss: 0.0064 - mean_squared_error: 0.0064\n",
            "Epoch 29/100\n",
            "5/5 [==============================] - 0s 10ms/step - loss: 0.0067 - mean_squared_error: 0.0067\n",
            "Epoch 30/100\n",
            "5/5 [==============================] - 0s 10ms/step - loss: 0.0085 - mean_squared_error: 0.0085\n",
            "Epoch 31/100\n",
            "5/5 [==============================] - 0s 9ms/step - loss: 0.0068 - mean_squared_error: 0.0068\n",
            "Epoch 32/100\n",
            "5/5 [==============================] - 0s 9ms/step - loss: 0.0070 - mean_squared_error: 0.0070\n",
            "Epoch 33/100\n",
            "5/5 [==============================] - 0s 9ms/step - loss: 0.0064 - mean_squared_error: 0.0064\n",
            "Epoch 34/100\n",
            "5/5 [==============================] - 0s 9ms/step - loss: 0.0076 - mean_squared_error: 0.0076\n",
            "Epoch 35/100\n",
            "5/5 [==============================] - 0s 9ms/step - loss: 0.0068 - mean_squared_error: 0.0068\n",
            "Epoch 36/100\n",
            "5/5 [==============================] - 0s 9ms/step - loss: 0.0081 - mean_squared_error: 0.0081\n",
            "Epoch 37/100\n",
            "5/5 [==============================] - 0s 10ms/step - loss: 0.0083 - mean_squared_error: 0.0083\n",
            "Epoch 38/100\n",
            "5/5 [==============================] - 0s 9ms/step - loss: 0.0065 - mean_squared_error: 0.0065\n",
            "Epoch 39/100\n",
            "5/5 [==============================] - 0s 9ms/step - loss: 0.0065 - mean_squared_error: 0.0065\n",
            "Epoch 40/100\n",
            "5/5 [==============================] - 0s 9ms/step - loss: 0.0073 - mean_squared_error: 0.0073\n",
            "Epoch 41/100\n",
            "5/5 [==============================] - 0s 10ms/step - loss: 0.0066 - mean_squared_error: 0.0066\n",
            "Epoch 42/100\n",
            "5/5 [==============================] - 0s 9ms/step - loss: 0.0063 - mean_squared_error: 0.0063\n",
            "Epoch 43/100\n",
            "5/5 [==============================] - 0s 9ms/step - loss: 0.0064 - mean_squared_error: 0.0064\n",
            "Epoch 44/100\n",
            "5/5 [==============================] - 0s 10ms/step - loss: 0.0063 - mean_squared_error: 0.0063\n",
            "Epoch 45/100\n",
            "5/5 [==============================] - 0s 10ms/step - loss: 0.0079 - mean_squared_error: 0.0079\n",
            "Epoch 46/100\n",
            "5/5 [==============================] - 0s 10ms/step - loss: 0.0063 - mean_squared_error: 0.0063\n",
            "Epoch 47/100\n",
            "5/5 [==============================] - 0s 9ms/step - loss: 0.0075 - mean_squared_error: 0.0075\n",
            "Epoch 48/100\n",
            "5/5 [==============================] - 0s 9ms/step - loss: 0.0060 - mean_squared_error: 0.0060\n",
            "Epoch 49/100\n",
            "5/5 [==============================] - 0s 9ms/step - loss: 0.0066 - mean_squared_error: 0.0066\n",
            "Epoch 50/100\n",
            "5/5 [==============================] - 0s 9ms/step - loss: 0.0059 - mean_squared_error: 0.0059\n",
            "Epoch 51/100\n",
            "5/5 [==============================] - 0s 9ms/step - loss: 0.0058 - mean_squared_error: 0.0058\n",
            "Epoch 52/100\n",
            "5/5 [==============================] - 0s 10ms/step - loss: 0.0058 - mean_squared_error: 0.0058\n",
            "Epoch 53/100\n",
            "5/5 [==============================] - 0s 9ms/step - loss: 0.0064 - mean_squared_error: 0.0064\n",
            "Epoch 54/100\n",
            "5/5 [==============================] - 0s 9ms/step - loss: 0.0067 - mean_squared_error: 0.0067\n",
            "Epoch 55/100\n",
            "5/5 [==============================] - 0s 9ms/step - loss: 0.0071 - mean_squared_error: 0.0071\n",
            "Epoch 56/100\n",
            "5/5 [==============================] - 0s 11ms/step - loss: 0.0068 - mean_squared_error: 0.0068\n",
            "Epoch 57/100\n",
            "5/5 [==============================] - 0s 10ms/step - loss: 0.0064 - mean_squared_error: 0.0064\n",
            "Epoch 58/100\n",
            "5/5 [==============================] - 0s 9ms/step - loss: 0.0067 - mean_squared_error: 0.0067\n",
            "Epoch 59/100\n",
            "5/5 [==============================] - 0s 9ms/step - loss: 0.0057 - mean_squared_error: 0.0057\n",
            "Epoch 60/100\n",
            "5/5 [==============================] - 0s 10ms/step - loss: 0.0068 - mean_squared_error: 0.0068\n",
            "Epoch 61/100\n",
            "5/5 [==============================] - 0s 9ms/step - loss: 0.0060 - mean_squared_error: 0.0060\n",
            "Epoch 62/100\n",
            "5/5 [==============================] - 0s 9ms/step - loss: 0.0061 - mean_squared_error: 0.0061\n",
            "Epoch 63/100\n",
            "5/5 [==============================] - 0s 10ms/step - loss: 0.0065 - mean_squared_error: 0.0065\n",
            "Epoch 64/100\n",
            "5/5 [==============================] - 0s 10ms/step - loss: 0.0056 - mean_squared_error: 0.0056\n",
            "Epoch 65/100\n",
            "5/5 [==============================] - 0s 10ms/step - loss: 0.0074 - mean_squared_error: 0.0074\n",
            "Epoch 66/100\n",
            "5/5 [==============================] - 0s 9ms/step - loss: 0.0063 - mean_squared_error: 0.0063\n",
            "Epoch 67/100\n",
            "5/5 [==============================] - 0s 9ms/step - loss: 0.0061 - mean_squared_error: 0.0061\n",
            "Epoch 68/100\n",
            "5/5 [==============================] - 0s 9ms/step - loss: 0.0056 - mean_squared_error: 0.0056\n",
            "Epoch 69/100\n",
            "5/5 [==============================] - 0s 10ms/step - loss: 0.0053 - mean_squared_error: 0.0053\n",
            "Epoch 70/100\n",
            "5/5 [==============================] - 0s 9ms/step - loss: 0.0058 - mean_squared_error: 0.0058\n",
            "Epoch 71/100\n",
            "5/5 [==============================] - 0s 9ms/step - loss: 0.0056 - mean_squared_error: 0.0056\n",
            "Epoch 72/100\n",
            "5/5 [==============================] - 0s 9ms/step - loss: 0.0050 - mean_squared_error: 0.0050\n",
            "Epoch 73/100\n",
            "5/5 [==============================] - 0s 9ms/step - loss: 0.0057 - mean_squared_error: 0.0057\n",
            "Epoch 74/100\n",
            "5/5 [==============================] - 0s 10ms/step - loss: 0.0059 - mean_squared_error: 0.0059\n",
            "Epoch 75/100\n",
            "5/5 [==============================] - 0s 10ms/step - loss: 0.0061 - mean_squared_error: 0.0061\n",
            "Epoch 76/100\n",
            "5/5 [==============================] - 0s 9ms/step - loss: 0.0054 - mean_squared_error: 0.0054\n",
            "Epoch 77/100\n",
            "5/5 [==============================] - 0s 9ms/step - loss: 0.0059 - mean_squared_error: 0.0059\n",
            "Epoch 78/100\n",
            "5/5 [==============================] - 0s 10ms/step - loss: 0.0059 - mean_squared_error: 0.0059\n",
            "Epoch 79/100\n",
            "5/5 [==============================] - 0s 9ms/step - loss: 0.0048 - mean_squared_error: 0.0048\n",
            "Epoch 80/100\n",
            "5/5 [==============================] - 0s 9ms/step - loss: 0.0056 - mean_squared_error: 0.0056\n",
            "Epoch 81/100\n",
            "5/5 [==============================] - 0s 9ms/step - loss: 0.0055 - mean_squared_error: 0.0055\n",
            "Epoch 82/100\n",
            "5/5 [==============================] - 0s 9ms/step - loss: 0.0058 - mean_squared_error: 0.0058\n",
            "Epoch 83/100\n",
            "5/5 [==============================] - 0s 9ms/step - loss: 0.0058 - mean_squared_error: 0.0058\n",
            "Epoch 84/100\n",
            "5/5 [==============================] - 0s 10ms/step - loss: 0.0057 - mean_squared_error: 0.0057\n",
            "Epoch 85/100\n",
            "5/5 [==============================] - 0s 9ms/step - loss: 0.0051 - mean_squared_error: 0.0051\n",
            "Epoch 86/100\n",
            "5/5 [==============================] - 0s 9ms/step - loss: 0.0049 - mean_squared_error: 0.0049\n",
            "Epoch 87/100\n",
            "5/5 [==============================] - 0s 9ms/step - loss: 0.0059 - mean_squared_error: 0.0059\n",
            "Epoch 88/100\n",
            "5/5 [==============================] - 0s 9ms/step - loss: 0.0060 - mean_squared_error: 0.0060\n",
            "Epoch 89/100\n",
            "5/5 [==============================] - 0s 9ms/step - loss: 0.0054 - mean_squared_error: 0.0054\n",
            "Epoch 90/100\n",
            "5/5 [==============================] - 0s 10ms/step - loss: 0.0056 - mean_squared_error: 0.0056\n",
            "Epoch 91/100\n",
            "5/5 [==============================] - 0s 10ms/step - loss: 0.0052 - mean_squared_error: 0.0052\n",
            "Epoch 92/100\n",
            "5/5 [==============================] - 0s 10ms/step - loss: 0.0049 - mean_squared_error: 0.0049\n",
            "Epoch 93/100\n",
            "5/5 [==============================] - 0s 10ms/step - loss: 0.0064 - mean_squared_error: 0.0064\n",
            "Epoch 94/100\n",
            "5/5 [==============================] - 0s 11ms/step - loss: 0.0055 - mean_squared_error: 0.0055\n",
            "Epoch 95/100\n",
            "5/5 [==============================] - 0s 10ms/step - loss: 0.0056 - mean_squared_error: 0.0056\n",
            "Epoch 96/100\n",
            "5/5 [==============================] - 0s 10ms/step - loss: 0.0052 - mean_squared_error: 0.0052\n",
            "Epoch 97/100\n",
            "5/5 [==============================] - 0s 9ms/step - loss: 0.0054 - mean_squared_error: 0.0054\n",
            "Epoch 98/100\n",
            "5/5 [==============================] - 0s 9ms/step - loss: 0.0051 - mean_squared_error: 0.0051\n",
            "Epoch 99/100\n",
            "5/5 [==============================] - 0s 9ms/step - loss: 0.0047 - mean_squared_error: 0.0047\n",
            "Epoch 100/100\n",
            "5/5 [==============================] - 0s 10ms/step - loss: 0.0060 - mean_squared_error: 0.0060\n"
          ],
          "name": "stdout"
        }
      ]
    },
    {
      "cell_type": "markdown",
      "metadata": {
        "id": "Q9owYYP2oDWl"
      },
      "source": [
        "## evaluate"
      ]
    },
    {
      "cell_type": "code",
      "metadata": {
        "id": "PUesCOjZjr9M"
      },
      "source": [
        "pred_price_1 = model_1.predict(test_features)"
      ],
      "execution_count": 66,
      "outputs": []
    },
    {
      "cell_type": "code",
      "metadata": {
        "id": "3GP9_voYjr9M"
      },
      "source": [
        "pred_price_1 = model_1.predict(test_features)\n",
        "pred_price_1 = scaler.inverse_transform(pred_price_1)"
      ],
      "execution_count": 67,
      "outputs": []
    },
    {
      "cell_type": "code",
      "metadata": {
        "colab": {
          "base_uri": "https://localhost:8080/"
        },
        "id": "7Jm8uaAjjr9M",
        "outputId": "9d265e17-ac18-49ea-bd37-539a6fb5c5ff"
      },
      "source": [
        "pred_price_1.shape"
      ],
      "execution_count": 68,
      "outputs": [
        {
          "output_type": "execute_result",
          "data": {
            "text/plain": [
              "(148, 1)"
            ]
          },
          "metadata": {
            "tags": []
          },
          "execution_count": 68
        }
      ]
    },
    {
      "cell_type": "code",
      "metadata": {
        "colab": {
          "base_uri": "https://localhost:8080/",
          "height": 295
        },
        "id": "WC095h8-jr9M",
        "outputId": "d68ab366-f6a8-4fd1-f6ce-a6e587b06ba3"
      },
      "source": [
        "# TODO move curve\n",
        "plt.plot(testing_data['date'],testing_data['open'], color = 'red', label = 'Real  Price')\n",
        "plt.plot(testing_data['date'],pred_price_1, color = 'blue', label = 'Predicted  Price')\n",
        "plt.title('Stock Price Prediction')\n",
        "plt.xlabel('Time')\n",
        "plt.ylabel('Stock Price')\n",
        "plt.legend()\n",
        "plt.show()"
      ],
      "execution_count": 69,
      "outputs": [
        {
          "output_type": "display_data",
          "data": {
            "image/png": "[encoded data removed]",
            "text/plain": [
              "<Figure size 432x288 with 1 Axes>"
            ]
          },
          "metadata": {
            "tags": [],
            "needs_background": "light"
          }
        }
      ]
    },
    {
      "cell_type": "code",
      "metadata": {
        "colab": {
          "base_uri": "https://localhost:8080/",
          "height": 138
        },
        "id": "yBFoJB4movNr",
        "outputId": "cf355f79-9fb1-4945-cdb2-1e64151ca702"
      },
      "source": [
        "testing_data.head(3)"
      ],
      "execution_count": 70,
      "outputs": [
        {
          "output_type": "execute_result",
          "data": {
            "text/html": [
              "<div>\n",
              "<style scoped>\n",
              "    .dataframe tbody tr th:only-of-type {\n",
              "        vertical-align: middle;\n",
              "    }\n",
              "\n",
              "    .dataframe tbody tr th {\n",
              "        vertical-align: top;\n",
              "    }\n",
              "\n",
              "    .dataframe thead th {\n",
              "        text-align: right;\n",
              "    }\n",
              "</style>\n",
              "<table border=\"1\" class=\"dataframe\">\n",
              "  <thead>\n",
              "    <tr style=\"text-align: right;\">\n",
              "      <th></th>\n",
              "      <th>date</th>\n",
              "      <th>open</th>\n",
              "      <th>high</th>\n",
              "      <th>low</th>\n",
              "      <th>close</th>\n",
              "      <th>adj_close</th>\n",
              "      <th>volume</th>\n",
              "      <th>predict</th>\n",
              "      <th>test_labels_bin</th>\n",
              "    </tr>\n",
              "  </thead>\n",
              "  <tbody>\n",
              "    <tr>\n",
              "      <th>0</th>\n",
              "      <td>2019-06-03</td>\n",
              "      <td>25.660000</td>\n",
              "      <td>25.830000</td>\n",
              "      <td>25.650000</td>\n",
              "      <td>25.825001</td>\n",
              "      <td>24.876635</td>\n",
              "      <td>10700</td>\n",
              "      <td>26.506659</td>\n",
              "      <td>1</td>\n",
              "    </tr>\n",
              "    <tr>\n",
              "      <th>1</th>\n",
              "      <td>2019-06-04</td>\n",
              "      <td>26.150000</td>\n",
              "      <td>26.166000</td>\n",
              "      <td>25.889999</td>\n",
              "      <td>26.090000</td>\n",
              "      <td>25.131905</td>\n",
              "      <td>10400</td>\n",
              "      <td>26.435808</td>\n",
              "      <td>1</td>\n",
              "    </tr>\n",
              "    <tr>\n",
              "      <th>2</th>\n",
              "      <td>2019-06-05</td>\n",
              "      <td>26.115999</td>\n",
              "      <td>26.115999</td>\n",
              "      <td>26.115999</td>\n",
              "      <td>26.115999</td>\n",
              "      <td>25.156948</td>\n",
              "      <td>100</td>\n",
              "      <td>26.474606</td>\n",
              "      <td>0</td>\n",
              "    </tr>\n",
              "  </tbody>\n",
              "</table>\n",
              "</div>"
            ],
            "text/plain": [
              "         date       open       high  ...  volume    predict  test_labels_bin\n",
              "0  2019-06-03  25.660000  25.830000  ...   10700  26.506659                1\n",
              "1  2019-06-04  26.150000  26.166000  ...   10400  26.435808                1\n",
              "2  2019-06-05  26.115999  26.115999  ...     100  26.474606                0\n",
              "\n",
              "[3 rows x 9 columns]"
            ]
          },
          "metadata": {
            "tags": []
          },
          "execution_count": 70
        }
      ]
    },
    {
      "cell_type": "code",
      "metadata": {
        "id": "O_Ok9O4RDzy6"
      },
      "source": [
        "testing_data['predict'] = pred_price_1"
      ],
      "execution_count": 71,
      "outputs": []
    },
    {
      "cell_type": "code",
      "metadata": {
        "id": "RO0GFxytFn0L"
      },
      "source": [
        "testing_data['test_labels_bin'] = test_labels_bin"
      ],
      "execution_count": 72,
      "outputs": []
    },
    {
      "cell_type": "code",
      "metadata": {
        "id": "fvexiJbwolIL"
      },
      "source": [
        "df_result = testing_data[['date','open','predict','test_labels_bin']]"
      ],
      "execution_count": 73,
      "outputs": []
    },
    {
      "cell_type": "code",
      "metadata": {
        "colab": {
          "base_uri": "https://localhost:8080/",
          "height": 407
        },
        "id": "tNl7OJbhFuvh",
        "outputId": "4c082187-fc17-487b-f4ef-9c0896549e57"
      },
      "source": [
        "df_result"
      ],
      "execution_count": 74,
      "outputs": [
        {
          "output_type": "execute_result",
          "data": {
            "text/html": [
              "<div>\n",
              "<style scoped>\n",
              "    .dataframe tbody tr th:only-of-type {\n",
              "        vertical-align: middle;\n",
              "    }\n",
              "\n",
              "    .dataframe tbody tr th {\n",
              "        vertical-align: top;\n",
              "    }\n",
              "\n",
              "    .dataframe thead th {\n",
              "        text-align: right;\n",
              "    }\n",
              "</style>\n",
              "<table border=\"1\" class=\"dataframe\">\n",
              "  <thead>\n",
              "    <tr style=\"text-align: right;\">\n",
              "      <th></th>\n",
              "      <th>date</th>\n",
              "      <th>open</th>\n",
              "      <th>predict</th>\n",
              "      <th>test_labels_bin</th>\n",
              "    </tr>\n",
              "  </thead>\n",
              "  <tbody>\n",
              "    <tr>\n",
              "      <th>0</th>\n",
              "      <td>2019-06-03</td>\n",
              "      <td>25.660000</td>\n",
              "      <td>25.792805</td>\n",
              "      <td>1</td>\n",
              "    </tr>\n",
              "    <tr>\n",
              "      <th>1</th>\n",
              "      <td>2019-06-04</td>\n",
              "      <td>26.150000</td>\n",
              "      <td>25.725542</td>\n",
              "      <td>1</td>\n",
              "    </tr>\n",
              "    <tr>\n",
              "      <th>2</th>\n",
              "      <td>2019-06-05</td>\n",
              "      <td>26.115999</td>\n",
              "      <td>25.840061</td>\n",
              "      <td>0</td>\n",
              "    </tr>\n",
              "    <tr>\n",
              "      <th>3</th>\n",
              "      <td>2019-06-06</td>\n",
              "      <td>26.326000</td>\n",
              "      <td>25.916178</td>\n",
              "      <td>1</td>\n",
              "    </tr>\n",
              "    <tr>\n",
              "      <th>4</th>\n",
              "      <td>2019-06-07</td>\n",
              "      <td>26.549999</td>\n",
              "      <td>26.029974</td>\n",
              "      <td>1</td>\n",
              "    </tr>\n",
              "    <tr>\n",
              "      <th>...</th>\n",
              "      <td>...</td>\n",
              "      <td>...</td>\n",
              "      <td>...</td>\n",
              "      <td>...</td>\n",
              "    </tr>\n",
              "    <tr>\n",
              "      <th>143</th>\n",
              "      <td>2019-12-24</td>\n",
              "      <td>27.990000</td>\n",
              "      <td>28.140200</td>\n",
              "      <td>1</td>\n",
              "    </tr>\n",
              "    <tr>\n",
              "      <th>144</th>\n",
              "      <td>2019-12-26</td>\n",
              "      <td>27.980000</td>\n",
              "      <td>28.138634</td>\n",
              "      <td>0</td>\n",
              "    </tr>\n",
              "    <tr>\n",
              "      <th>145</th>\n",
              "      <td>2019-12-27</td>\n",
              "      <td>28.260000</td>\n",
              "      <td>28.133999</td>\n",
              "      <td>1</td>\n",
              "    </tr>\n",
              "    <tr>\n",
              "      <th>146</th>\n",
              "      <td>2019-12-30</td>\n",
              "      <td>28.040001</td>\n",
              "      <td>28.223417</td>\n",
              "      <td>0</td>\n",
              "    </tr>\n",
              "    <tr>\n",
              "      <th>147</th>\n",
              "      <td>2019-12-31</td>\n",
              "      <td>27.860001</td>\n",
              "      <td>28.215155</td>\n",
              "      <td>0</td>\n",
              "    </tr>\n",
              "  </tbody>\n",
              "</table>\n",
              "<p>148 rows × 4 columns</p>\n",
              "</div>"
            ],
            "text/plain": [
              "           date       open    predict  test_labels_bin\n",
              "0    2019-06-03  25.660000  25.792805                1\n",
              "1    2019-06-04  26.150000  25.725542                1\n",
              "2    2019-06-05  26.115999  25.840061                0\n",
              "3    2019-06-06  26.326000  25.916178                1\n",
              "4    2019-06-07  26.549999  26.029974                1\n",
              "..          ...        ...        ...              ...\n",
              "143  2019-12-24  27.990000  28.140200                1\n",
              "144  2019-12-26  27.980000  28.138634                0\n",
              "145  2019-12-27  28.260000  28.133999                1\n",
              "146  2019-12-30  28.040001  28.223417                0\n",
              "147  2019-12-31  27.860001  28.215155                0\n",
              "\n",
              "[148 rows x 4 columns]"
            ]
          },
          "metadata": {
            "tags": []
          },
          "execution_count": 74
        }
      ]
    },
    {
      "cell_type": "code",
      "metadata": {
        "id": "2iAtCzm7rHIF"
      },
      "source": [
        "def cacl_label_bin_predict(df):\n",
        "  #itterate\n",
        "  previous_row = 0\n",
        "  result = [0]\n",
        "  \n",
        "  for index, row in df.iterrows():\n",
        "    if index != 0:\n",
        "      if row.open > previous_row.predict:\n",
        "            result.append(1)\n",
        "      else:\n",
        "            result.append(0)\n",
        "    previous_row = row\n",
        "    \n",
        "\n",
        "  return result\n"
      ],
      "execution_count": 75,
      "outputs": []
    },
    {
      "cell_type": "code",
      "metadata": {
        "colab": {
          "base_uri": "https://localhost:8080/"
        },
        "id": "12TwQAT8EKNz",
        "outputId": "277453b0-64cf-4f27-eb38-0af3f9dab91e"
      },
      "source": [
        "df_result['label_bin_predict'] = cacl_label_bin_predict(df_result)"
      ],
      "execution_count": 76,
      "outputs": [
        {
          "output_type": "stream",
          "text": [
            "/usr/local/lib/python3.7/dist-packages/ipykernel_launcher.py:1: SettingWithCopyWarning: \n",
            "A value is trying to be set on a copy of a slice from a DataFrame.\n",
            "Try using .loc[row_indexer,col_indexer] = value instead\n",
            "\n",
            "See the caveats in the documentation: https://pandas.pydata.org/pandas-docs/stable/user_guide/indexing.html#returning-a-view-versus-a-copy\n",
            "  \"\"\"Entry point for launching an IPython kernel.\n"
          ],
          "name": "stderr"
        }
      ]
    },
    {
      "cell_type": "code",
      "metadata": {
        "colab": {
          "base_uri": "https://localhost:8080/",
          "height": 407
        },
        "id": "10_tXfV5FaWx",
        "outputId": "682e45cb-b5f4-494e-a621-0acf284e6269"
      },
      "source": [
        "df_result"
      ],
      "execution_count": 77,
      "outputs": [
        {
          "output_type": "execute_result",
          "data": {
            "text/html": [
              "<div>\n",
              "<style scoped>\n",
              "    .dataframe tbody tr th:only-of-type {\n",
              "        vertical-align: middle;\n",
              "    }\n",
              "\n",
              "    .dataframe tbody tr th {\n",
              "        vertical-align: top;\n",
              "    }\n",
              "\n",
              "    .dataframe thead th {\n",
              "        text-align: right;\n",
              "    }\n",
              "</style>\n",
              "<table border=\"1\" class=\"dataframe\">\n",
              "  <thead>\n",
              "    <tr style=\"text-align: right;\">\n",
              "      <th></th>\n",
              "      <th>date</th>\n",
              "      <th>open</th>\n",
              "      <th>predict</th>\n",
              "      <th>test_labels_bin</th>\n",
              "      <th>label_bin_predict</th>\n",
              "    </tr>\n",
              "  </thead>\n",
              "  <tbody>\n",
              "    <tr>\n",
              "      <th>0</th>\n",
              "      <td>2019-06-03</td>\n",
              "      <td>25.660000</td>\n",
              "      <td>25.792805</td>\n",
              "      <td>1</td>\n",
              "      <td>0</td>\n",
              "    </tr>\n",
              "    <tr>\n",
              "      <th>1</th>\n",
              "      <td>2019-06-04</td>\n",
              "      <td>26.150000</td>\n",
              "      <td>25.725542</td>\n",
              "      <td>1</td>\n",
              "      <td>1</td>\n",
              "    </tr>\n",
              "    <tr>\n",
              "      <th>2</th>\n",
              "      <td>2019-06-05</td>\n",
              "      <td>26.115999</td>\n",
              "      <td>25.840061</td>\n",
              "      <td>0</td>\n",
              "      <td>1</td>\n",
              "    </tr>\n",
              "    <tr>\n",
              "      <th>3</th>\n",
              "      <td>2019-06-06</td>\n",
              "      <td>26.326000</td>\n",
              "      <td>25.916178</td>\n",
              "      <td>1</td>\n",
              "      <td>1</td>\n",
              "    </tr>\n",
              "    <tr>\n",
              "      <th>4</th>\n",
              "      <td>2019-06-07</td>\n",
              "      <td>26.549999</td>\n",
              "      <td>26.029974</td>\n",
              "      <td>1</td>\n",
              "      <td>1</td>\n",
              "    </tr>\n",
              "    <tr>\n",
              "      <th>...</th>\n",
              "      <td>...</td>\n",
              "      <td>...</td>\n",
              "      <td>...</td>\n",
              "      <td>...</td>\n",
              "      <td>...</td>\n",
              "    </tr>\n",
              "    <tr>\n",
              "      <th>143</th>\n",
              "      <td>2019-12-24</td>\n",
              "      <td>27.990000</td>\n",
              "      <td>28.140200</td>\n",
              "      <td>1</td>\n",
              "      <td>0</td>\n",
              "    </tr>\n",
              "    <tr>\n",
              "      <th>144</th>\n",
              "      <td>2019-12-26</td>\n",
              "      <td>27.980000</td>\n",
              "      <td>28.138634</td>\n",
              "      <td>0</td>\n",
              "      <td>0</td>\n",
              "    </tr>\n",
              "    <tr>\n",
              "      <th>145</th>\n",
              "      <td>2019-12-27</td>\n",
              "      <td>28.260000</td>\n",
              "      <td>28.133999</td>\n",
              "      <td>1</td>\n",
              "      <td>1</td>\n",
              "    </tr>\n",
              "    <tr>\n",
              "      <th>146</th>\n",
              "      <td>2019-12-30</td>\n",
              "      <td>28.040001</td>\n",
              "      <td>28.223417</td>\n",
              "      <td>0</td>\n",
              "      <td>0</td>\n",
              "    </tr>\n",
              "    <tr>\n",
              "      <th>147</th>\n",
              "      <td>2019-12-31</td>\n",
              "      <td>27.860001</td>\n",
              "      <td>28.215155</td>\n",
              "      <td>0</td>\n",
              "      <td>0</td>\n",
              "    </tr>\n",
              "  </tbody>\n",
              "</table>\n",
              "<p>148 rows × 5 columns</p>\n",
              "</div>"
            ],
            "text/plain": [
              "           date       open    predict  test_labels_bin  label_bin_predict\n",
              "0    2019-06-03  25.660000  25.792805                1                  0\n",
              "1    2019-06-04  26.150000  25.725542                1                  1\n",
              "2    2019-06-05  26.115999  25.840061                0                  1\n",
              "3    2019-06-06  26.326000  25.916178                1                  1\n",
              "4    2019-06-07  26.549999  26.029974                1                  1\n",
              "..          ...        ...        ...              ...                ...\n",
              "143  2019-12-24  27.990000  28.140200                1                  0\n",
              "144  2019-12-26  27.980000  28.138634                0                  0\n",
              "145  2019-12-27  28.260000  28.133999                1                  1\n",
              "146  2019-12-30  28.040001  28.223417                0                  0\n",
              "147  2019-12-31  27.860001  28.215155                0                  0\n",
              "\n",
              "[148 rows x 5 columns]"
            ]
          },
          "metadata": {
            "tags": []
          },
          "execution_count": 77
        }
      ]
    },
    {
      "cell_type": "markdown",
      "metadata": {
        "id": "EdT8xFeNH71g"
      },
      "source": [
        "# accurancy"
      ]
    },
    {
      "cell_type": "code",
      "metadata": {
        "colab": {
          "base_uri": "https://localhost:8080/"
        },
        "id": "HqY3RtmmGAKw",
        "outputId": "8f9cb911-4138-4044-f302-e2c88f30e7c3"
      },
      "source": [
        "sum(df_result['test_labels_bin']==df_result['label_bin_predict'])/df_result.shape[0]"
      ],
      "execution_count": 78,
      "outputs": [
        {
          "output_type": "execute_result",
          "data": {
            "text/plain": [
              "0.6486486486486487"
            ]
          },
          "metadata": {
            "tags": []
          },
          "execution_count": 78
        }
      ]
    },
    {
      "cell_type": "code",
      "metadata": {
        "colab": {
          "base_uri": "https://localhost:8080/"
        },
        "id": "blFZ-Y0nGiHx",
        "outputId": "89b17475-a807-4a39-e2d6-6b51c5b2b06c"
      },
      "source": [
        "df_result.shape"
      ],
      "execution_count": 40,
      "outputs": [
        {
          "output_type": "execute_result",
          "data": {
            "text/plain": [
              "(148, 5)"
            ]
          },
          "metadata": {
            "tags": []
          },
          "execution_count": 40
        }
      ]
    },
    {
      "cell_type": "markdown",
      "metadata": {
        "id": "lyn6-x9OjV2i"
      },
      "source": [
        "# model 2"
      ]
    },
    {
      "cell_type": "code",
      "metadata": {
        "colab": {
          "base_uri": "https://localhost:8080/"
        },
        "id": "PpI9y36BxuO-",
        "outputId": "97a74b6d-f6ae-40ac-f6d0-1ecd7f00c47c"
      },
      "source": [
        "\n",
        "model = lstm_model_2(features_set.shape)\n",
        "model.summary()"
      ],
      "execution_count": 41,
      "outputs": [
        {
          "output_type": "stream",
          "text": [
            "Model: \"sequential_1\"\n",
            "_________________________________________________________________\n",
            "Layer (type)                 Output Shape              Param #   \n",
            "=================================================================\n",
            "lstm_2 (LSTM)                (None, 60, 50)            10400     \n",
            "_________________________________________________________________\n",
            "dropout_2 (Dropout)          (None, 60, 50)            0         \n",
            "_________________________________________________________________\n",
            "lstm_3 (LSTM)                (None, 60, 50)            20200     \n",
            "_________________________________________________________________\n",
            "dropout_3 (Dropout)          (None, 60, 50)            0         \n",
            "_________________________________________________________________\n",
            "lstm_4 (LSTM)                (None, 60, 50)            20200     \n",
            "_________________________________________________________________\n",
            "dropout_4 (Dropout)          (None, 60, 50)            0         \n",
            "_________________________________________________________________\n",
            "lstm_5 (LSTM)                (None, 50)                20200     \n",
            "_________________________________________________________________\n",
            "dropout_5 (Dropout)          (None, 50)                0         \n",
            "_________________________________________________________________\n",
            "dense_1 (Dense)              (None, 1)                 51        \n",
            "=================================================================\n",
            "Total params: 71,051\n",
            "Trainable params: 71,051\n",
            "Non-trainable params: 0\n",
            "_________________________________________________________________\n"
          ],
          "name": "stdout"
        }
      ]
    },
    {
      "cell_type": "markdown",
      "metadata": {
        "id": "LfmDq_mF0gKa"
      },
      "source": [
        "## evaluate"
      ]
    },
    {
      "cell_type": "markdown",
      "metadata": {
        "id": "fOOzJMNVUPf6"
      },
      "source": [
        "Compile your model, train it and evaluate it. \n",
        "\n",
        "What is your mse - and what is your accuracy (note that you have two different types of labels readily available to you). \n",
        "\n"
      ]
    },
    {
      "cell_type": "code",
      "metadata": {
        "id": "REFX-60P3FeM"
      },
      "source": [
        "#mcp = ModelCheckpoint('best_model', monitor='val_loss',save_best_only=True, verbose=1)\n",
        "#rlop = ReduceLROnPlateau(monitor='val_loss', factor=0.2,patience=7, verbose=1, min_lr=0.0001)"
      ],
      "execution_count": 42,
      "outputs": []
    },
    {
      "cell_type": "code",
      "metadata": {
        "id": "EyHUluvz3UvV"
      },
      "source": [
        "model.compile(optimizer = 'adam', loss='mean_squared_error',  metrics = ['mean_squared_error'])"
      ],
      "execution_count": 43,
      "outputs": []
    },
    {
      "cell_type": "code",
      "metadata": {
        "colab": {
          "base_uri": "https://localhost:8080/"
        },
        "collapsed": true,
        "id": "JO5K_Gp_4XiT",
        "outputId": "87c9cfd5-7924-49f2-bee3-5c48bec4e36a"
      },
      "source": [
        "history = model.fit(features_set, labels, epochs = 50, batch_size=64,verbose=1) #todo: callbacks=[mcp, rlop]\n",
        "                                                                              #validation_split = 0.2,  ???"
      ],
      "execution_count": 44,
      "outputs": [
        {
          "output_type": "stream",
          "text": [
            "Epoch 1/50\n",
            "10/10 [==============================] - 5s 15ms/step - loss: 0.1886 - mean_squared_error: 0.1886\n",
            "Epoch 2/50\n",
            "10/10 [==============================] - 0s 15ms/step - loss: 0.0277 - mean_squared_error: 0.0277\n",
            "Epoch 3/50\n",
            "10/10 [==============================] - 0s 14ms/step - loss: 0.0202 - mean_squared_error: 0.0202\n",
            "Epoch 4/50\n",
            "10/10 [==============================] - 0s 14ms/step - loss: 0.0143 - mean_squared_error: 0.0143\n",
            "Epoch 5/50\n",
            "10/10 [==============================] - 0s 14ms/step - loss: 0.0111 - mean_squared_error: 0.0111\n",
            "Epoch 6/50\n",
            "10/10 [==============================] - 0s 14ms/step - loss: 0.0095 - mean_squared_error: 0.0095\n",
            "Epoch 7/50\n",
            "10/10 [==============================] - 0s 14ms/step - loss: 0.0103 - mean_squared_error: 0.0103\n",
            "Epoch 8/50\n",
            "10/10 [==============================] - 0s 14ms/step - loss: 0.0086 - mean_squared_error: 0.0086\n",
            "Epoch 9/50\n",
            "10/10 [==============================] - 0s 14ms/step - loss: 0.0118 - mean_squared_error: 0.0118\n",
            "Epoch 10/50\n",
            "10/10 [==============================] - 0s 14ms/step - loss: 0.0089 - mean_squared_error: 0.0089\n",
            "Epoch 11/50\n",
            "10/10 [==============================] - 0s 13ms/step - loss: 0.0089 - mean_squared_error: 0.0089\n",
            "Epoch 12/50\n",
            "10/10 [==============================] - 0s 14ms/step - loss: 0.0096 - mean_squared_error: 0.0096\n",
            "Epoch 13/50\n",
            "10/10 [==============================] - 0s 14ms/step - loss: 0.0081 - mean_squared_error: 0.0081\n",
            "Epoch 14/50\n",
            "10/10 [==============================] - 0s 14ms/step - loss: 0.0088 - mean_squared_error: 0.0088\n",
            "Epoch 15/50\n",
            "10/10 [==============================] - 0s 14ms/step - loss: 0.0080 - mean_squared_error: 0.0080\n",
            "Epoch 16/50\n",
            "10/10 [==============================] - 0s 14ms/step - loss: 0.0084 - mean_squared_error: 0.0084\n",
            "Epoch 17/50\n",
            "10/10 [==============================] - 0s 14ms/step - loss: 0.0075 - mean_squared_error: 0.0075\n",
            "Epoch 18/50\n",
            "10/10 [==============================] - 0s 14ms/step - loss: 0.0101 - mean_squared_error: 0.0101\n",
            "Epoch 19/50\n",
            "10/10 [==============================] - 0s 14ms/step - loss: 0.0083 - mean_squared_error: 0.0083\n",
            "Epoch 20/50\n",
            "10/10 [==============================] - 0s 14ms/step - loss: 0.0088 - mean_squared_error: 0.0088\n",
            "Epoch 21/50\n",
            "10/10 [==============================] - 0s 14ms/step - loss: 0.0077 - mean_squared_error: 0.0077\n",
            "Epoch 22/50\n",
            "10/10 [==============================] - 0s 14ms/step - loss: 0.0068 - mean_squared_error: 0.0068\n",
            "Epoch 23/50\n",
            "10/10 [==============================] - 0s 14ms/step - loss: 0.0073 - mean_squared_error: 0.0073\n",
            "Epoch 24/50\n",
            "10/10 [==============================] - 0s 14ms/step - loss: 0.0066 - mean_squared_error: 0.0066\n",
            "Epoch 25/50\n",
            "10/10 [==============================] - 0s 14ms/step - loss: 0.0070 - mean_squared_error: 0.0070\n",
            "Epoch 26/50\n",
            "10/10 [==============================] - 0s 14ms/step - loss: 0.0069 - mean_squared_error: 0.0069\n",
            "Epoch 27/50\n",
            "10/10 [==============================] - 0s 14ms/step - loss: 0.0072 - mean_squared_error: 0.0072\n",
            "Epoch 28/50\n",
            "10/10 [==============================] - 0s 14ms/step - loss: 0.0060 - mean_squared_error: 0.0060\n",
            "Epoch 29/50\n",
            "10/10 [==============================] - 0s 14ms/step - loss: 0.0069 - mean_squared_error: 0.0069\n",
            "Epoch 30/50\n",
            "10/10 [==============================] - 0s 13ms/step - loss: 0.0079 - mean_squared_error: 0.0079\n",
            "Epoch 31/50\n",
            "10/10 [==============================] - 0s 14ms/step - loss: 0.0060 - mean_squared_error: 0.0060\n",
            "Epoch 32/50\n",
            "10/10 [==============================] - 0s 14ms/step - loss: 0.0072 - mean_squared_error: 0.0072\n",
            "Epoch 33/50\n",
            "10/10 [==============================] - 0s 14ms/step - loss: 0.0070 - mean_squared_error: 0.0070\n",
            "Epoch 34/50\n",
            "10/10 [==============================] - 0s 14ms/step - loss: 0.0073 - mean_squared_error: 0.0073\n",
            "Epoch 35/50\n",
            "10/10 [==============================] - 0s 14ms/step - loss: 0.0066 - mean_squared_error: 0.0066\n",
            "Epoch 36/50\n",
            "10/10 [==============================] - 0s 14ms/step - loss: 0.0060 - mean_squared_error: 0.0060\n",
            "Epoch 37/50\n",
            "10/10 [==============================] - 0s 14ms/step - loss: 0.0075 - mean_squared_error: 0.0075\n",
            "Epoch 38/50\n",
            "10/10 [==============================] - 0s 14ms/step - loss: 0.0062 - mean_squared_error: 0.0062\n",
            "Epoch 39/50\n",
            "10/10 [==============================] - 0s 15ms/step - loss: 0.0060 - mean_squared_error: 0.0060\n",
            "Epoch 40/50\n",
            "10/10 [==============================] - 0s 14ms/step - loss: 0.0064 - mean_squared_error: 0.0064\n",
            "Epoch 41/50\n",
            "10/10 [==============================] - 0s 14ms/step - loss: 0.0060 - mean_squared_error: 0.0060\n",
            "Epoch 42/50\n",
            "10/10 [==============================] - 0s 14ms/step - loss: 0.0075 - mean_squared_error: 0.0075\n",
            "Epoch 43/50\n",
            "10/10 [==============================] - 0s 14ms/step - loss: 0.0070 - mean_squared_error: 0.0070\n",
            "Epoch 44/50\n",
            "10/10 [==============================] - 0s 14ms/step - loss: 0.0062 - mean_squared_error: 0.0062\n",
            "Epoch 45/50\n",
            "10/10 [==============================] - 0s 14ms/step - loss: 0.0059 - mean_squared_error: 0.0059\n",
            "Epoch 46/50\n",
            "10/10 [==============================] - 0s 14ms/step - loss: 0.0061 - mean_squared_error: 0.0061\n",
            "Epoch 47/50\n",
            "10/10 [==============================] - 0s 14ms/step - loss: 0.0064 - mean_squared_error: 0.0064\n",
            "Epoch 48/50\n",
            "10/10 [==============================] - 0s 14ms/step - loss: 0.0059 - mean_squared_error: 0.0059\n",
            "Epoch 49/50\n",
            "10/10 [==============================] - 0s 14ms/step - loss: 0.0054 - mean_squared_error: 0.0054\n",
            "Epoch 50/50\n",
            "10/10 [==============================] - 0s 14ms/step - loss: 0.0061 - mean_squared_error: 0.0061\n"
          ],
          "name": "stdout"
        }
      ]
    },
    {
      "cell_type": "code",
      "metadata": {
        "id": "PZFriMDJ7OIf"
      },
      "source": [
        "pred_price = model.predict(test_features)"
      ],
      "execution_count": 45,
      "outputs": []
    },
    {
      "cell_type": "code",
      "metadata": {
        "id": "vD_9Om5N4u-3"
      },
      "source": [
        "pred_price = model.predict(test_features)\n",
        "pred_price = scaler.inverse_transform(pred_price)"
      ],
      "execution_count": 46,
      "outputs": []
    },
    {
      "cell_type": "code",
      "metadata": {
        "colab": {
          "base_uri": "https://localhost:8080/"
        },
        "id": "8v3LPPS7_CCi",
        "outputId": "a8dc9025-5bb9-441c-ae89-1766d8a68753"
      },
      "source": [
        "pred_price.shape"
      ],
      "execution_count": 47,
      "outputs": [
        {
          "output_type": "execute_result",
          "data": {
            "text/plain": [
              "(148, 1)"
            ]
          },
          "metadata": {
            "tags": []
          },
          "execution_count": 47
        }
      ]
    },
    {
      "cell_type": "code",
      "metadata": {
        "colab": {
          "base_uri": "https://localhost:8080/",
          "height": 407
        },
        "id": "s2DXUbBu_O9x",
        "outputId": "d2d9f353-7830-4dc1-8909-9e01bbdade8b"
      },
      "source": [
        "testing_data"
      ],
      "execution_count": 48,
      "outputs": [
        {
          "output_type": "execute_result",
          "data": {
            "text/html": [
              "<div>\n",
              "<style scoped>\n",
              "    .dataframe tbody tr th:only-of-type {\n",
              "        vertical-align: middle;\n",
              "    }\n",
              "\n",
              "    .dataframe tbody tr th {\n",
              "        vertical-align: top;\n",
              "    }\n",
              "\n",
              "    .dataframe thead th {\n",
              "        text-align: right;\n",
              "    }\n",
              "</style>\n",
              "<table border=\"1\" class=\"dataframe\">\n",
              "  <thead>\n",
              "    <tr style=\"text-align: right;\">\n",
              "      <th></th>\n",
              "      <th>date</th>\n",
              "      <th>open</th>\n",
              "      <th>high</th>\n",
              "      <th>low</th>\n",
              "      <th>close</th>\n",
              "      <th>adj_close</th>\n",
              "      <th>volume</th>\n",
              "      <th>predict</th>\n",
              "      <th>test_labels_bin</th>\n",
              "    </tr>\n",
              "  </thead>\n",
              "  <tbody>\n",
              "    <tr>\n",
              "      <th>0</th>\n",
              "      <td>2019-06-03</td>\n",
              "      <td>25.660000</td>\n",
              "      <td>25.830000</td>\n",
              "      <td>25.650000</td>\n",
              "      <td>25.825001</td>\n",
              "      <td>24.876635</td>\n",
              "      <td>10700</td>\n",
              "      <td>26.506659</td>\n",
              "      <td>1</td>\n",
              "    </tr>\n",
              "    <tr>\n",
              "      <th>1</th>\n",
              "      <td>2019-06-04</td>\n",
              "      <td>26.150000</td>\n",
              "      <td>26.166000</td>\n",
              "      <td>25.889999</td>\n",
              "      <td>26.090000</td>\n",
              "      <td>25.131905</td>\n",
              "      <td>10400</td>\n",
              "      <td>26.435808</td>\n",
              "      <td>1</td>\n",
              "    </tr>\n",
              "    <tr>\n",
              "      <th>2</th>\n",
              "      <td>2019-06-05</td>\n",
              "      <td>26.115999</td>\n",
              "      <td>26.115999</td>\n",
              "      <td>26.115999</td>\n",
              "      <td>26.115999</td>\n",
              "      <td>25.156948</td>\n",
              "      <td>100</td>\n",
              "      <td>26.474606</td>\n",
              "      <td>0</td>\n",
              "    </tr>\n",
              "    <tr>\n",
              "      <th>3</th>\n",
              "      <td>2019-06-06</td>\n",
              "      <td>26.326000</td>\n",
              "      <td>26.326000</td>\n",
              "      <td>26.326000</td>\n",
              "      <td>26.326000</td>\n",
              "      <td>25.359238</td>\n",
              "      <td>400</td>\n",
              "      <td>26.501009</td>\n",
              "      <td>1</td>\n",
              "    </tr>\n",
              "    <tr>\n",
              "      <th>4</th>\n",
              "      <td>2019-06-07</td>\n",
              "      <td>26.549999</td>\n",
              "      <td>26.600000</td>\n",
              "      <td>26.223000</td>\n",
              "      <td>26.540001</td>\n",
              "      <td>25.565380</td>\n",
              "      <td>5300</td>\n",
              "      <td>26.564644</td>\n",
              "      <td>1</td>\n",
              "    </tr>\n",
              "    <tr>\n",
              "      <th>...</th>\n",
              "      <td>...</td>\n",
              "      <td>...</td>\n",
              "      <td>...</td>\n",
              "      <td>...</td>\n",
              "      <td>...</td>\n",
              "      <td>...</td>\n",
              "      <td>...</td>\n",
              "      <td>...</td>\n",
              "      <td>...</td>\n",
              "    </tr>\n",
              "    <tr>\n",
              "      <th>143</th>\n",
              "      <td>2019-12-24</td>\n",
              "      <td>27.990000</td>\n",
              "      <td>27.990000</td>\n",
              "      <td>27.990000</td>\n",
              "      <td>27.990000</td>\n",
              "      <td>27.668003</td>\n",
              "      <td>0</td>\n",
              "      <td>28.175041</td>\n",
              "      <td>1</td>\n",
              "    </tr>\n",
              "    <tr>\n",
              "      <th>144</th>\n",
              "      <td>2019-12-26</td>\n",
              "      <td>27.980000</td>\n",
              "      <td>28.190001</td>\n",
              "      <td>27.980000</td>\n",
              "      <td>28.055000</td>\n",
              "      <td>27.732258</td>\n",
              "      <td>175900</td>\n",
              "      <td>28.179235</td>\n",
              "      <td>0</td>\n",
              "    </tr>\n",
              "    <tr>\n",
              "      <th>145</th>\n",
              "      <td>2019-12-27</td>\n",
              "      <td>28.260000</td>\n",
              "      <td>28.299999</td>\n",
              "      <td>28.139999</td>\n",
              "      <td>28.139999</td>\n",
              "      <td>27.816278</td>\n",
              "      <td>2900</td>\n",
              "      <td>28.179901</td>\n",
              "      <td>1</td>\n",
              "    </tr>\n",
              "    <tr>\n",
              "      <th>146</th>\n",
              "      <td>2019-12-30</td>\n",
              "      <td>28.040001</td>\n",
              "      <td>28.040001</td>\n",
              "      <td>27.700001</td>\n",
              "      <td>27.700001</td>\n",
              "      <td>27.384260</td>\n",
              "      <td>4400</td>\n",
              "      <td>28.252419</td>\n",
              "      <td>0</td>\n",
              "    </tr>\n",
              "    <tr>\n",
              "      <th>147</th>\n",
              "      <td>2019-12-31</td>\n",
              "      <td>27.860001</td>\n",
              "      <td>28.103001</td>\n",
              "      <td>27.770000</td>\n",
              "      <td>28.103001</td>\n",
              "      <td>27.782667</td>\n",
              "      <td>6300</td>\n",
              "      <td>28.254076</td>\n",
              "      <td>0</td>\n",
              "    </tr>\n",
              "  </tbody>\n",
              "</table>\n",
              "<p>148 rows × 9 columns</p>\n",
              "</div>"
            ],
            "text/plain": [
              "           date       open       high  ...  volume    predict  test_labels_bin\n",
              "0    2019-06-03  25.660000  25.830000  ...   10700  26.506659                1\n",
              "1    2019-06-04  26.150000  26.166000  ...   10400  26.435808                1\n",
              "2    2019-06-05  26.115999  26.115999  ...     100  26.474606                0\n",
              "3    2019-06-06  26.326000  26.326000  ...     400  26.501009                1\n",
              "4    2019-06-07  26.549999  26.600000  ...    5300  26.564644                1\n",
              "..          ...        ...        ...  ...     ...        ...              ...\n",
              "143  2019-12-24  27.990000  27.990000  ...       0  28.175041                1\n",
              "144  2019-12-26  27.980000  28.190001  ...  175900  28.179235                0\n",
              "145  2019-12-27  28.260000  28.299999  ...    2900  28.179901                1\n",
              "146  2019-12-30  28.040001  28.040001  ...    4400  28.252419                0\n",
              "147  2019-12-31  27.860001  28.103001  ...    6300  28.254076                0\n",
              "\n",
              "[148 rows x 9 columns]"
            ]
          },
          "metadata": {
            "tags": []
          },
          "execution_count": 48
        }
      ]
    },
    {
      "cell_type": "code",
      "metadata": {
        "colab": {
          "base_uri": "https://localhost:8080/"
        },
        "id": "S52d7fz0_FUp",
        "outputId": "f9ccfadd-080f-4bbf-d109-c551a37c84b8"
      },
      "source": [
        "testing_data.shape"
      ],
      "execution_count": 49,
      "outputs": [
        {
          "output_type": "execute_result",
          "data": {
            "text/plain": [
              "(148, 9)"
            ]
          },
          "metadata": {
            "tags": []
          },
          "execution_count": 49
        }
      ]
    },
    {
      "cell_type": "code",
      "metadata": {
        "colab": {
          "base_uri": "https://localhost:8080/",
          "height": 295
        },
        "id": "yRM_EKWBJXuJ",
        "outputId": "007debdb-514f-4ae6-ef24-85806197df22"
      },
      "source": [
        "# TODO move curve\n",
        "plt.plot(testing_data['date'],testing_data['open'], color = 'red', label = 'Real  Price')\n",
        "plt.plot(testing_data['date'],pred_price, color = 'blue', label = 'Predicted  Price')\n",
        "plt.title('Stock Price Prediction')\n",
        "plt.xlabel('Time')\n",
        "plt.ylabel('Stock Price')\n",
        "plt.legend()\n",
        "plt.show()"
      ],
      "execution_count": 50,
      "outputs": [
        {
          "output_type": "display_data",
          "data": {
            "image/png": "[encoded data removed]",
            "text/plain": [
              "<Figure size 432x288 with 1 Axes>"
            ]
          },
          "metadata": {
            "tags": [],
            "needs_background": "light"
          }
        }
      ]
    },
    {
      "cell_type": "code",
      "metadata": {
        "colab": {
          "base_uri": "https://localhost:8080/",
          "height": 295
        },
        "id": "5KU-6XhEAuQE",
        "outputId": "5bef25c6-bdf0-4cba-dd46-0e65ed84ea18"
      },
      "source": [
        "plt.plot(testing_data['date'],testing_data['open'], color = 'red', label = 'Real Price')\n",
        "plt.plot(testing_data['date'],pred_price, color = 'blue', label = 'Predicted Price')\n",
        "#plt.xticks(np.arange(0,459,50))\n",
        "plt.title('Price Prediction')\n",
        "plt.xlabel('Time')\n",
        "plt.ylabel('Stock Price')\n",
        "plt.legend()\n",
        "plt.show()"
      ],
      "execution_count": 51,
      "outputs": [
        {
          "output_type": "display_data",
          "data": {
            "image/png": "[encoded data removed]",
            "text/plain": [
              "<Figure size 432x288 with 1 Axes>"
            ]
          },
          "metadata": {
            "tags": [],
            "needs_background": "light"
          }
        }
      ]
    },
    {
      "cell_type": "code",
      "metadata": {
        "colab": {
          "base_uri": "https://localhost:8080/",
          "height": 295
        },
        "id": "k-X93f636vwg",
        "outputId": "5ee2d6b4-ea91-4758-db69-8a24ed7e774d"
      },
      "source": [
        "# epochs 50\n",
        "plt.plot(testing_data['date'],testing_data['open'], color = 'red', label = 'Real  Stock Price')\n",
        "plt.plot(testing_data['date'],pred_price, color = 'blue', label = 'Predicted  Stock Price')\n",
        "#plt.xticks(np.arange(0,459,50))\n",
        "plt.title('Stock Price Prediction')\n",
        "plt.xlabel('Time')\n",
        "plt.ylabel('Stock Price')\n",
        "plt.legend()\n",
        "plt.show()"
      ],
      "execution_count": 52,
      "outputs": [
        {
          "output_type": "display_data",
          "data": {
            "image/png": "[encoded data removed]",
            "text/plain": [
              "<Figure size 432x288 with 1 Axes>"
            ]
          },
          "metadata": {
            "tags": [],
            "needs_background": "light"
          }
        }
      ]
    },
    {
      "cell_type": "markdown",
      "metadata": {
        "id": "_6MfICzZA12Y"
      },
      "source": [
        "![image.png](data:image/png;base64,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)"
      ]
    },
    {
      "cell_type": "markdown",
      "metadata": {
        "id": "jiTrCOSqzRrE"
      },
      "source": [
        "Optional: Try your model with more features, try with different sequence lengths (this is a hyperparameter) - and try with the \"real\" Dax Performance Index data also provided (which reaches back longer). If you do so, you will have to split the data into training and test sets first). "
      ]
    },
    {
      "cell_type": "markdown",
      "metadata": {
        "id": "ZgxA1S5H2XAo"
      },
      "source": [
        "# the end"
      ]
    },
    {
      "cell_type": "markdown",
      "metadata": {
        "id": "aW44wUg18_M7"
      },
      "source": [
        "# Tesla"
      ]
    },
    {
      "cell_type": "code",
      "metadata": {
        "colab": {
          "base_uri": "https://localhost:8080/",
          "height": 216
        },
        "id": "s0RWKexf9AWT",
        "outputId": "28080c84-a6ff-4e46-84f5-a7bbf5533794"
      },
      "source": [
        "df=pd.read_csv(\"TSLA.csv\")\n",
        "print('Number of rows and columns:', df.shape)\n",
        "df.head(5)"
      ],
      "execution_count": 53,
      "outputs": [
        {
          "output_type": "stream",
          "text": [
            "Number of rows and columns: (1259, 7)\n"
          ],
          "name": "stdout"
        },
        {
          "output_type": "execute_result",
          "data": {
            "text/html": [
              "<div>\n",
              "<style scoped>\n",
              "    .dataframe tbody tr th:only-of-type {\n",
              "        vertical-align: middle;\n",
              "    }\n",
              "\n",
              "    .dataframe tbody tr th {\n",
              "        vertical-align: top;\n",
              "    }\n",
              "\n",
              "    .dataframe thead th {\n",
              "        text-align: right;\n",
              "    }\n",
              "</style>\n",
              "<table border=\"1\" class=\"dataframe\">\n",
              "  <thead>\n",
              "    <tr style=\"text-align: right;\">\n",
              "      <th></th>\n",
              "      <th>Date</th>\n",
              "      <th>Open</th>\n",
              "      <th>High</th>\n",
              "      <th>Low</th>\n",
              "      <th>Close</th>\n",
              "      <th>Adj Close</th>\n",
              "      <th>Volume</th>\n",
              "    </tr>\n",
              "  </thead>\n",
              "  <tbody>\n",
              "    <tr>\n",
              "      <th>0</th>\n",
              "      <td>2015-07-10</td>\n",
              "      <td>52.444000</td>\n",
              "      <td>52.599998</td>\n",
              "      <td>51.563999</td>\n",
              "      <td>51.830002</td>\n",
              "      <td>51.830002</td>\n",
              "      <td>13054500</td>\n",
              "    </tr>\n",
              "    <tr>\n",
              "      <th>1</th>\n",
              "      <td>2015-07-13</td>\n",
              "      <td>52.450001</td>\n",
              "      <td>52.509998</td>\n",
              "      <td>51.209999</td>\n",
              "      <td>52.431999</td>\n",
              "      <td>52.431999</td>\n",
              "      <td>14801500</td>\n",
              "    </tr>\n",
              "    <tr>\n",
              "      <th>2</th>\n",
              "      <td>2015-07-14</td>\n",
              "      <td>52.419998</td>\n",
              "      <td>53.198002</td>\n",
              "      <td>52.102001</td>\n",
              "      <td>53.130001</td>\n",
              "      <td>53.130001</td>\n",
              "      <td>9538000</td>\n",
              "    </tr>\n",
              "    <tr>\n",
              "      <th>3</th>\n",
              "      <td>2015-07-15</td>\n",
              "      <td>53.348000</td>\n",
              "      <td>53.498001</td>\n",
              "      <td>52.416000</td>\n",
              "      <td>52.627998</td>\n",
              "      <td>52.627998</td>\n",
              "      <td>10108000</td>\n",
              "    </tr>\n",
              "    <tr>\n",
              "      <th>4</th>\n",
              "      <td>2015-07-16</td>\n",
              "      <td>52.844002</td>\n",
              "      <td>53.439999</td>\n",
              "      <td>52.632000</td>\n",
              "      <td>53.335999</td>\n",
              "      <td>53.335999</td>\n",
              "      <td>8080000</td>\n",
              "    </tr>\n",
              "  </tbody>\n",
              "</table>\n",
              "</div>"
            ],
            "text/plain": [
              "         Date       Open       High        Low      Close  Adj Close    Volume\n",
              "0  2015-07-10  52.444000  52.599998  51.563999  51.830002  51.830002  13054500\n",
              "1  2015-07-13  52.450001  52.509998  51.209999  52.431999  52.431999  14801500\n",
              "2  2015-07-14  52.419998  53.198002  52.102001  53.130001  53.130001   9538000\n",
              "3  2015-07-15  53.348000  53.498001  52.416000  52.627998  52.627998  10108000\n",
              "4  2015-07-16  52.844002  53.439999  52.632000  53.335999  53.335999   8080000"
            ]
          },
          "metadata": {
            "tags": []
          },
          "execution_count": 53
        }
      ]
    },
    {
      "cell_type": "code",
      "metadata": {
        "id": "MA2SNjxkySzq"
      },
      "source": [
        "training_set = df.iloc[:800, 1:2].values\n",
        "test_set = df.iloc[800:, 1:2].values"
      ],
      "execution_count": 54,
      "outputs": []
    },
    {
      "cell_type": "code",
      "metadata": {
        "colab": {
          "base_uri": "https://localhost:8080/"
        },
        "id": "N8h2xN6Sxey6",
        "outputId": "1a493353-9ef1-4776-ad8c-d91c0ebae081"
      },
      "source": [
        "# Feature Scaling\n",
        "sc = MinMaxScaler(feature_range = (0, 1))\n",
        "training_set_scaled = sc.fit_transform(training_set)\n",
        "# Creating a data structure with 60 time-steps and 1 output\n",
        "X_train = []\n",
        "y_train = []\n",
        "for i in range(60, 644):\n",
        "    X_train.append(training_set_scaled[i-60:i, 0])\n",
        "    y_train.append(training_set_scaled[i, 0])\n",
        "X_train, y_train = np.array(X_train), np.array(y_train)\n",
        "print('X_train.shape before reshape '+str(X_train.shape))\n",
        "X_train = np.reshape(X_train, (X_train.shape[0], X_train.shape[1], 1))\n",
        "#(740, 60, 1)\n",
        "X_train.shape"
      ],
      "execution_count": 55,
      "outputs": [
        {
          "output_type": "stream",
          "text": [
            "X_train.shape before reshape (584, 60)\n"
          ],
          "name": "stdout"
        },
        {
          "output_type": "execute_result",
          "data": {
            "text/plain": [
              "(584, 60, 1)"
            ]
          },
          "metadata": {
            "tags": []
          },
          "execution_count": 55
        }
      ]
    },
    {
      "cell_type": "code",
      "metadata": {
        "colab": {
          "base_uri": "https://localhost:8080/"
        },
        "id": "BKVknuWsdlD6",
        "outputId": "9d444d3d-20fa-4557-b3bf-da1748711c54"
      },
      "source": [
        "type(y_train)"
      ],
      "execution_count": 56,
      "outputs": [
        {
          "output_type": "execute_result",
          "data": {
            "text/plain": [
              "numpy.ndarray"
            ]
          },
          "metadata": {
            "tags": []
          },
          "execution_count": 56
        }
      ]
    },
    {
      "cell_type": "code",
      "metadata": {
        "colab": {
          "base_uri": "https://localhost:8080/"
        },
        "id": "Ply0rVBfd4iW",
        "outputId": "233f4f98-5dcb-4bf5-ea37-e4d605b0ce25"
      },
      "source": [
        "len(X_train[0])"
      ],
      "execution_count": 57,
      "outputs": [
        {
          "output_type": "execute_result",
          "data": {
            "text/plain": [
              "60"
            ]
          },
          "metadata": {
            "tags": []
          },
          "execution_count": 57
        }
      ]
    },
    {
      "cell_type": "code",
      "metadata": {
        "id": "ZHy9StKLZOk3"
      },
      "source": [
        "#input_shape = (X_train.shape[1], 1)\n",
        "#input_shape"
      ],
      "execution_count": 58,
      "outputs": []
    },
    {
      "cell_type": "code",
      "metadata": {
        "id": "UzAwhQyUzPa7",
        "colab": {
          "base_uri": "https://localhost:8080/"
        },
        "outputId": "bffccc98-f1c0-487b-8c10-edf8520f58bf"
      },
      "source": [
        "model = Sequential()\n",
        "#Adding the first LSTM layer and some Dropout regularisation\n",
        "model.add(LSTM(units = 50, return_sequences = True, input_shape = (X_train.shape[1], 1)))\n",
        "model.add(Dropout(0.2))\n",
        "# Adding a second LSTM layer and some Dropout regularisation\n",
        "model.add(LSTM(units = 50, return_sequences = True))\n",
        "model.add(Dropout(0.2))\n",
        "# Adding a third LSTM layer and some Dropout regularisation\n",
        "model.add(LSTM(units = 50, return_sequences = True))\n",
        "model.add(Dropout(0.2))\n",
        "# Adding a fourth LSTM layer and some Dropout regularisation\n",
        "model.add(LSTM(units = 50))\n",
        "model.add(Dropout(0.2))\n",
        "# Adding the output layer\n",
        "model.add(Dense(units = 1))\n",
        "\n",
        "model.summary()"
      ],
      "execution_count": 59,
      "outputs": [
        {
          "output_type": "stream",
          "text": [
            "Model: \"sequential_2\"\n",
            "_________________________________________________________________\n",
            "Layer (type)                 Output Shape              Param #   \n",
            "=================================================================\n",
            "lstm_6 (LSTM)                (None, 60, 50)            10400     \n",
            "_________________________________________________________________\n",
            "dropout_6 (Dropout)          (None, 60, 50)            0         \n",
            "_________________________________________________________________\n",
            "lstm_7 (LSTM)                (None, 60, 50)            20200     \n",
            "_________________________________________________________________\n",
            "dropout_7 (Dropout)          (None, 60, 50)            0         \n",
            "_________________________________________________________________\n",
            "lstm_8 (LSTM)                (None, 60, 50)            20200     \n",
            "_________________________________________________________________\n",
            "dropout_8 (Dropout)          (None, 60, 50)            0         \n",
            "_________________________________________________________________\n",
            "lstm_9 (LSTM)                (None, 50)                20200     \n",
            "_________________________________________________________________\n",
            "dropout_9 (Dropout)          (None, 50)                0         \n",
            "_________________________________________________________________\n",
            "dense_2 (Dense)              (None, 1)                 51        \n",
            "=================================================================\n",
            "Total params: 71,051\n",
            "Trainable params: 71,051\n",
            "Non-trainable params: 0\n",
            "_________________________________________________________________\n"
          ],
          "name": "stdout"
        }
      ]
    },
    {
      "cell_type": "code",
      "metadata": {
        "id": "kM6_chxN2N1O",
        "colab": {
          "base_uri": "https://localhost:8080/"
        },
        "outputId": "2d19bb16-6dad-41c5-e963-0f5287133396"
      },
      "source": [
        "# Compiling the RNN\n",
        "model.compile(optimizer = 'adam', loss = 'mean_squared_error', metrics=['accuracy','mean_absolute_percentage_error'])\n",
        "\n",
        "# Fitting the RNN to the Training set\n",
        "model.fit(X_train, y_train, epochs = 30, batch_size = 32)"
      ],
      "execution_count": 60,
      "outputs": [
        {
          "output_type": "stream",
          "text": [
            "Epoch 1/30\n",
            "19/19 [==============================] - 5s 16ms/step - loss: 0.1425 - accuracy: 0.0041 - mean_absolute_percentage_error: 151600.0898\n",
            "Epoch 2/30\n",
            "19/19 [==============================] - 0s 13ms/step - loss: 0.0197 - accuracy: 0.0030 - mean_absolute_percentage_error: 175866.2323\n",
            "Epoch 3/30\n",
            "19/19 [==============================] - 0s 14ms/step - loss: 0.0146 - accuracy: 0.0042 - mean_absolute_percentage_error: 809641.5564\n",
            "Epoch 4/30\n",
            "19/19 [==============================] - 0s 14ms/step - loss: 0.0134 - accuracy: 0.0070 - mean_absolute_percentage_error: 1804834.7812\n",
            "Epoch 5/30\n",
            "19/19 [==============================] - 0s 15ms/step - loss: 0.0113 - accuracy: 0.0050 - mean_absolute_percentage_error: 1314438.2945\n",
            "Epoch 6/30\n",
            "19/19 [==============================] - 0s 14ms/step - loss: 0.0107 - accuracy: 0.0055 - mean_absolute_percentage_error: 694579.3176\n",
            "Epoch 7/30\n",
            "19/19 [==============================] - 0s 14ms/step - loss: 0.0128 - accuracy: 0.0041 - mean_absolute_percentage_error: 593501.5805\n",
            "Epoch 8/30\n",
            "19/19 [==============================] - 0s 14ms/step - loss: 0.0107 - accuracy: 0.0031 - mean_absolute_percentage_error: 677788.4320\n",
            "Epoch 9/30\n",
            "19/19 [==============================] - 0s 13ms/step - loss: 0.0083 - accuracy: 0.0064 - mean_absolute_percentage_error: 194217.0617\n",
            "Epoch 10/30\n",
            "19/19 [==============================] - 0s 13ms/step - loss: 0.0102 - accuracy: 0.0018 - mean_absolute_percentage_error: 139101.8016\n",
            "Epoch 11/30\n",
            "19/19 [==============================] - 0s 13ms/step - loss: 0.0106 - accuracy: 0.0018 - mean_absolute_percentage_error: 261036.4316\n",
            "Epoch 12/30\n",
            "19/19 [==============================] - 0s 14ms/step - loss: 0.0094 - accuracy: 0.0020 - mean_absolute_percentage_error: 222218.8441\n",
            "Epoch 13/30\n",
            "19/19 [==============================] - 0s 15ms/step - loss: 0.0106 - accuracy: 0.0038 - mean_absolute_percentage_error: 107125.1755\n",
            "Epoch 14/30\n",
            "19/19 [==============================] - 0s 15ms/step - loss: 0.0073 - accuracy: 0.0015 - mean_absolute_percentage_error: 256924.3129\n",
            "Epoch 15/30\n",
            "19/19 [==============================] - 0s 13ms/step - loss: 0.0075 - accuracy: 0.0048 - mean_absolute_percentage_error: 455288.4047\n",
            "Epoch 16/30\n",
            "19/19 [==============================] - 0s 13ms/step - loss: 0.0079 - accuracy: 0.0068 - mean_absolute_percentage_error: 1273787.5328\n",
            "Epoch 17/30\n",
            "19/19 [==============================] - 0s 14ms/step - loss: 0.0077 - accuracy: 7.9756e-04 - mean_absolute_percentage_error: 71031.2055\n",
            "Epoch 18/30\n",
            "19/19 [==============================] - 0s 13ms/step - loss: 0.0078 - accuracy: 9.9938e-04 - mean_absolute_percentage_error: 86431.2100\n",
            "Epoch 19/30\n",
            "19/19 [==============================] - 0s 13ms/step - loss: 0.0074 - accuracy: 0.0053 - mean_absolute_percentage_error: 815053.0140\n",
            "Epoch 20/30\n",
            "19/19 [==============================] - 0s 13ms/step - loss: 0.0077 - accuracy: 0.0057 - mean_absolute_percentage_error: 362044.6481\n",
            "Epoch 21/30\n",
            "19/19 [==============================] - 0s 13ms/step - loss: 0.0081 - accuracy: 0.0084 - mean_absolute_percentage_error: 1260908.5516\n",
            "Epoch 22/30\n",
            "19/19 [==============================] - 0s 13ms/step - loss: 0.0073 - accuracy: 0.0048 - mean_absolute_percentage_error: 590286.7608\n",
            "Epoch 23/30\n",
            "19/19 [==============================] - 0s 14ms/step - loss: 0.0071 - accuracy: 9.2142e-04 - mean_absolute_percentage_error: 47867.6333\n",
            "Epoch 24/30\n",
            "19/19 [==============================] - 0s 13ms/step - loss: 0.0061 - accuracy: 0.0018 - mean_absolute_percentage_error: 309507.3140\n",
            "Epoch 25/30\n",
            "19/19 [==============================] - 0s 13ms/step - loss: 0.0062 - accuracy: 0.0031 - mean_absolute_percentage_error: 391437.8755\n",
            "Epoch 26/30\n",
            "19/19 [==============================] - 0s 13ms/step - loss: 0.0059 - accuracy: 0.0024 - mean_absolute_percentage_error: 382979.3662\n",
            "Epoch 27/30\n",
            "19/19 [==============================] - 0s 15ms/step - loss: 0.0071 - accuracy: 0.0050 - mean_absolute_percentage_error: 782035.6243\n",
            "Epoch 28/30\n",
            "19/19 [==============================] - 0s 14ms/step - loss: 0.0057 - accuracy: 0.0010 - mean_absolute_percentage_error: 56892.1169\n",
            "Epoch 29/30\n",
            "19/19 [==============================] - 0s 13ms/step - loss: 0.0068 - accuracy: 0.0041 - mean_absolute_percentage_error: 150234.6674\n",
            "Epoch 30/30\n",
            "19/19 [==============================] - 0s 13ms/step - loss: 0.0055 - accuracy: 0.0047 - mean_absolute_percentage_error: 140252.2200\n"
          ],
          "name": "stdout"
        },
        {
          "output_type": "execute_result",
          "data": {
            "text/plain": [
              "<tensorflow.python.keras.callbacks.History at 0x7f2dc01733d0>"
            ]
          },
          "metadata": {
            "tags": []
          },
          "execution_count": 60
        }
      ]
    },
    {
      "cell_type": "code",
      "metadata": {
        "colab": {
          "base_uri": "https://localhost:8080/"
        },
        "id": "jhs26JW01HOJ",
        "outputId": "17ec41d9-371f-4717-fbd2-7d0f02a4b96b"
      },
      "source": [
        "# Getting the predicted stock price of 2017\n",
        "dataset_train = df.iloc[:800, 1:2]\n",
        "dataset_test = df.iloc[800:, 1:2]\n",
        "dataset_total = pd.concat((dataset_train, dataset_test), axis = 0)\n",
        "inputs = dataset_total[len(dataset_total) - len(dataset_test) - 60:].values\n",
        "inputs = inputs.reshape(-1,1)\n",
        "inputs = sc.transform(inputs)\n",
        "X_test = []\n",
        "for i in range(60, 519):\n",
        "    X_test.append(inputs[i-60:i, 0])\n",
        "X_test = np.array(X_test)\n",
        "X_test = np.reshape(X_test, (X_test.shape[0], X_test.shape[1], 1))\n",
        "print(X_test.shape)\n",
        "# (459, 60, 1)"
      ],
      "execution_count": 61,
      "outputs": [
        {
          "output_type": "stream",
          "text": [
            "(459, 60, 1)\n"
          ],
          "name": "stdout"
        }
      ]
    },
    {
      "cell_type": "code",
      "metadata": {
        "id": "hDdLlFpr1Gfi"
      },
      "source": [
        "predicted_stock_price = model.predict(X_test)\n",
        "predicted_stock_price = sc.inverse_transform(predicted_stock_price)"
      ],
      "execution_count": 62,
      "outputs": []
    },
    {
      "cell_type": "code",
      "metadata": {
        "colab": {
          "base_uri": "https://localhost:8080/",
          "height": 295
        },
        "id": "FFjl_GNz9-On",
        "outputId": "e3c23c7d-c7b2-4fe8-fbe0-23b69ddec62a"
      },
      "source": [
        "# Visualising the results\n",
        "plt.plot(df.loc[800:, 'Date'],dataset_test.values, color = 'red', label = 'Real TESLA Stock Price')\n",
        "plt.plot(df.loc[800:, 'Date'],predicted_stock_price, color = 'blue', label = 'Predicted TESLA Stock Price')\n",
        "#plt.xticks(np.arange(0,459,50))\n",
        "plt.title('TESLA Stock Price Prediction')\n",
        "plt.xlabel('Time')\n",
        "plt.ylabel('TESLA Stock Price')\n",
        "plt.legend()\n",
        "plt.show()"
      ],
      "execution_count": 63,
      "outputs": [
        {
          "output_type": "display_data",
          "data": {
            "image/png": "[encoded data removed]",
            "text/plain": [
              "<Figure size 432x288 with 1 Axes>"
            ]
          },
          "metadata": {
            "tags": [],
            "needs_background": "light"
          }
        }
      ]
    },
    {
      "cell_type": "code",
      "metadata": {
        "colab": {
          "base_uri": "https://localhost:8080/",
          "height": 646
        },
        "id": "ZotpqM7Kb1YI",
        "outputId": "60405228-6eae-4236-e240-e75607454d5c"
      },
      "source": [
        "# Visualising the results\n",
        "plt.plot(df.loc[800:850, 'Date'],dataset_test.values, color = 'red', label = 'Real TESLA Stock Price')\n",
        "plt.plot(df.loc[800:850, 'Date'],predicted_stock_price, color = 'blue', label = 'Predicted TESLA Stock Price')\n",
        "#plt.xticks(np.arange(0,459,50))\n",
        "plt.title('TESLA Stock Price Prediction')\n",
        "plt.xlabel('Time')\n",
        "plt.ylabel('TESLA Stock Price')\n",
        "plt.legend()\n",
        "plt.show()"
      ],
      "execution_count": 64,
      "outputs": [
        {
          "output_type": "error",
          "ename": "ValueError",
          "evalue": "ignored",
          "traceback": [
            "\u001b[0;31m---------------------------------------------------------------------------\u001b[0m",
            "\u001b[0;31mValueError\u001b[0m                                Traceback (most recent call last)",
            "\u001b[0;32m<ipython-input-64-131143584a52>\u001b[0m in \u001b[0;36m<module>\u001b[0;34m()\u001b[0m\n\u001b[1;32m      1\u001b[0m \u001b[0;31m# Visualising the results\u001b[0m\u001b[0;34m\u001b[0m\u001b[0;34m\u001b[0m\u001b[0;34m\u001b[0m\u001b[0m\n\u001b[0;32m----> 2\u001b[0;31m \u001b[0mplt\u001b[0m\u001b[0;34m.\u001b[0m\u001b[0mplot\u001b[0m\u001b[0;34m(\u001b[0m\u001b[0mdf\u001b[0m\u001b[0;34m.\u001b[0m\u001b[0mloc\u001b[0m\u001b[0;34m[\u001b[0m\u001b[0;36m800\u001b[0m\u001b[0;34m:\u001b[0m\u001b[0;36m850\u001b[0m\u001b[0;34m,\u001b[0m \u001b[0;34m'Date'\u001b[0m\u001b[0;34m]\u001b[0m\u001b[0;34m,\u001b[0m\u001b[0mdataset_test\u001b[0m\u001b[0;34m.\u001b[0m\u001b[0mvalues\u001b[0m\u001b[0;34m,\u001b[0m \u001b[0mcolor\u001b[0m \u001b[0;34m=\u001b[0m \u001b[0;34m'red'\u001b[0m\u001b[0;34m,\u001b[0m \u001b[0mlabel\u001b[0m \u001b[0;34m=\u001b[0m \u001b[0;34m'Real TESLA Stock Price'\u001b[0m\u001b[0;34m)\u001b[0m\u001b[0;34m\u001b[0m\u001b[0;34m\u001b[0m\u001b[0m\n\u001b[0m\u001b[1;32m      3\u001b[0m \u001b[0mplt\u001b[0m\u001b[0;34m.\u001b[0m\u001b[0mplot\u001b[0m\u001b[0;34m(\u001b[0m\u001b[0mdf\u001b[0m\u001b[0;34m.\u001b[0m\u001b[0mloc\u001b[0m\u001b[0;34m[\u001b[0m\u001b[0;36m800\u001b[0m\u001b[0;34m:\u001b[0m\u001b[0;36m850\u001b[0m\u001b[0;34m,\u001b[0m \u001b[0;34m'Date'\u001b[0m\u001b[0;34m]\u001b[0m\u001b[0;34m,\u001b[0m\u001b[0mpredicted_stock_price\u001b[0m\u001b[0;34m,\u001b[0m \u001b[0mcolor\u001b[0m \u001b[0;34m=\u001b[0m \u001b[0;34m'blue'\u001b[0m\u001b[0;34m,\u001b[0m \u001b[0mlabel\u001b[0m \u001b[0;34m=\u001b[0m \u001b[0;34m'Predicted TESLA Stock Price'\u001b[0m\u001b[0;34m)\u001b[0m\u001b[0;34m\u001b[0m\u001b[0;34m\u001b[0m\u001b[0m\n\u001b[1;32m      4\u001b[0m \u001b[0;31m#plt.xticks(np.arange(0,459,50))\u001b[0m\u001b[0;34m\u001b[0m\u001b[0;34m\u001b[0m\u001b[0;34m\u001b[0m\u001b[0m\n\u001b[1;32m      5\u001b[0m \u001b[0mplt\u001b[0m\u001b[0;34m.\u001b[0m\u001b[0mtitle\u001b[0m\u001b[0;34m(\u001b[0m\u001b[0;34m'TESLA Stock Price Prediction'\u001b[0m\u001b[0;34m)\u001b[0m\u001b[0;34m\u001b[0m\u001b[0;34m\u001b[0m\u001b[0m\n",
            "\u001b[0;32m/usr/local/lib/python3.7/dist-packages/matplotlib/pyplot.py\u001b[0m in \u001b[0;36mplot\u001b[0;34m(scalex, scaley, data, *args, **kwargs)\u001b[0m\n\u001b[1;32m   2761\u001b[0m     return gca().plot(\n\u001b[1;32m   2762\u001b[0m         *args, scalex=scalex, scaley=scaley, **({\"data\": data} if data\n\u001b[0;32m-> 2763\u001b[0;31m         is not None else {}), **kwargs)\n\u001b[0m\u001b[1;32m   2764\u001b[0m \u001b[0;34m\u001b[0m\u001b[0m\n\u001b[1;32m   2765\u001b[0m \u001b[0;34m\u001b[0m\u001b[0m\n",
            "\u001b[0;32m/usr/local/lib/python3.7/dist-packages/matplotlib/axes/_axes.py\u001b[0m in \u001b[0;36mplot\u001b[0;34m(self, scalex, scaley, data, *args, **kwargs)\u001b[0m\n\u001b[1;32m   1645\u001b[0m         \"\"\"\n\u001b[1;32m   1646\u001b[0m         \u001b[0mkwargs\u001b[0m \u001b[0;34m=\u001b[0m \u001b[0mcbook\u001b[0m\u001b[0;34m.\u001b[0m\u001b[0mnormalize_kwargs\u001b[0m\u001b[0;34m(\u001b[0m\u001b[0mkwargs\u001b[0m\u001b[0;34m,\u001b[0m \u001b[0mmlines\u001b[0m\u001b[0;34m.\u001b[0m\u001b[0mLine2D\u001b[0m\u001b[0;34m)\u001b[0m\u001b[0;34m\u001b[0m\u001b[0;34m\u001b[0m\u001b[0m\n\u001b[0;32m-> 1647\u001b[0;31m         \u001b[0mlines\u001b[0m \u001b[0;34m=\u001b[0m \u001b[0;34m[\u001b[0m\u001b[0;34m*\u001b[0m\u001b[0mself\u001b[0m\u001b[0;34m.\u001b[0m\u001b[0m_get_lines\u001b[0m\u001b[0;34m(\u001b[0m\u001b[0;34m*\u001b[0m\u001b[0margs\u001b[0m\u001b[0;34m,\u001b[0m \u001b[0mdata\u001b[0m\u001b[0;34m=\u001b[0m\u001b[0mdata\u001b[0m\u001b[0;34m,\u001b[0m \u001b[0;34m**\u001b[0m\u001b[0mkwargs\u001b[0m\u001b[0;34m)\u001b[0m\u001b[0;34m]\u001b[0m\u001b[0;34m\u001b[0m\u001b[0;34m\u001b[0m\u001b[0m\n\u001b[0m\u001b[1;32m   1648\u001b[0m         \u001b[0;32mfor\u001b[0m \u001b[0mline\u001b[0m \u001b[0;32min\u001b[0m \u001b[0mlines\u001b[0m\u001b[0;34m:\u001b[0m\u001b[0;34m\u001b[0m\u001b[0;34m\u001b[0m\u001b[0m\n\u001b[1;32m   1649\u001b[0m             \u001b[0mself\u001b[0m\u001b[0;34m.\u001b[0m\u001b[0madd_line\u001b[0m\u001b[0;34m(\u001b[0m\u001b[0mline\u001b[0m\u001b[0;34m)\u001b[0m\u001b[0;34m\u001b[0m\u001b[0;34m\u001b[0m\u001b[0m\n",
            "\u001b[0;32m/usr/local/lib/python3.7/dist-packages/matplotlib/axes/_base.py\u001b[0m in \u001b[0;36m__call__\u001b[0;34m(self, *args, **kwargs)\u001b[0m\n\u001b[1;32m    214\u001b[0m                 \u001b[0mthis\u001b[0m \u001b[0;34m+=\u001b[0m \u001b[0margs\u001b[0m\u001b[0;34m[\u001b[0m\u001b[0;36m0\u001b[0m\u001b[0;34m]\u001b[0m\u001b[0;34m,\u001b[0m\u001b[0;34m\u001b[0m\u001b[0;34m\u001b[0m\u001b[0m\n\u001b[1;32m    215\u001b[0m                 \u001b[0margs\u001b[0m \u001b[0;34m=\u001b[0m \u001b[0margs\u001b[0m\u001b[0;34m[\u001b[0m\u001b[0;36m1\u001b[0m\u001b[0;34m:\u001b[0m\u001b[0;34m]\u001b[0m\u001b[0;34m\u001b[0m\u001b[0;34m\u001b[0m\u001b[0m\n\u001b[0;32m--> 216\u001b[0;31m             \u001b[0;32myield\u001b[0m \u001b[0;32mfrom\u001b[0m \u001b[0mself\u001b[0m\u001b[0;34m.\u001b[0m\u001b[0m_plot_args\u001b[0m\u001b[0;34m(\u001b[0m\u001b[0mthis\u001b[0m\u001b[0;34m,\u001b[0m \u001b[0mkwargs\u001b[0m\u001b[0;34m)\u001b[0m\u001b[0;34m\u001b[0m\u001b[0;34m\u001b[0m\u001b[0m\n\u001b[0m\u001b[1;32m    217\u001b[0m \u001b[0;34m\u001b[0m\u001b[0m\n\u001b[1;32m    218\u001b[0m     \u001b[0;32mdef\u001b[0m \u001b[0mget_next_color\u001b[0m\u001b[0;34m(\u001b[0m\u001b[0mself\u001b[0m\u001b[0;34m)\u001b[0m\u001b[0;34m:\u001b[0m\u001b[0;34m\u001b[0m\u001b[0;34m\u001b[0m\u001b[0m\n",
            "\u001b[0;32m/usr/local/lib/python3.7/dist-packages/matplotlib/axes/_base.py\u001b[0m in \u001b[0;36m_plot_args\u001b[0;34m(self, tup, kwargs)\u001b[0m\n\u001b[1;32m    340\u001b[0m \u001b[0;34m\u001b[0m\u001b[0m\n\u001b[1;32m    341\u001b[0m         \u001b[0;32mif\u001b[0m \u001b[0mx\u001b[0m\u001b[0;34m.\u001b[0m\u001b[0mshape\u001b[0m\u001b[0;34m[\u001b[0m\u001b[0;36m0\u001b[0m\u001b[0;34m]\u001b[0m \u001b[0;34m!=\u001b[0m \u001b[0my\u001b[0m\u001b[0;34m.\u001b[0m\u001b[0mshape\u001b[0m\u001b[0;34m[\u001b[0m\u001b[0;36m0\u001b[0m\u001b[0;34m]\u001b[0m\u001b[0;34m:\u001b[0m\u001b[0;34m\u001b[0m\u001b[0;34m\u001b[0m\u001b[0m\n\u001b[0;32m--> 342\u001b[0;31m             raise ValueError(f\"x and y must have same first dimension, but \"\n\u001b[0m\u001b[1;32m    343\u001b[0m                              f\"have shapes {x.shape} and {y.shape}\")\n\u001b[1;32m    344\u001b[0m         \u001b[0;32mif\u001b[0m \u001b[0mx\u001b[0m\u001b[0;34m.\u001b[0m\u001b[0mndim\u001b[0m \u001b[0;34m>\u001b[0m \u001b[0;36m2\u001b[0m \u001b[0;32mor\u001b[0m \u001b[0my\u001b[0m\u001b[0;34m.\u001b[0m\u001b[0mndim\u001b[0m \u001b[0;34m>\u001b[0m \u001b[0;36m2\u001b[0m\u001b[0;34m:\u001b[0m\u001b[0;34m\u001b[0m\u001b[0;34m\u001b[0m\u001b[0m\n",
            "\u001b[0;31mValueError\u001b[0m: x and y must have same first dimension, but have shapes (51,) and (459, 1)"
          ]
        },
        {
          "output_type": "display_data",
          "data": {
            "image/png": "[encoded data removed]",
            "text/plain": [
              "<Figure size 432x288 with 1 Axes>"
            ]
          },
          "metadata": {
            "tags": [],
            "needs_background": "light"
          }
        }
      ]
    }
  ]
}