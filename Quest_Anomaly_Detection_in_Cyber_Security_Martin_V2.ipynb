{
  "nbformat": 4,
  "nbformat_minor": 0,
  "metadata": {
    "colab": {
      "name": "Quest_Anomaly Detection in Cyber Security_Martin_V2.ipynb",
      "provenance": [],
      "toc_visible": true,
      "authorship_tag": "ABX9TyM/XWLgkn5xpH/2jgfNLkLU",
      "include_colab_link": true
    },
    "kernelspec": {
      "name": "python3",
      "display_name": "Python 3"
    },
    "language_info": {
      "name": "python"
    }
  },
  "cells": [
    {
      "cell_type": "markdown",
      "metadata": {
        "id": "view-in-github",
        "colab_type": "text"
      },
      "source": [
        "<a href=\"https://colab.research.google.com/github/martinfinis/HelloCodeSchoolProject/blob/master/Quest_Anomaly_Detection_in_Cyber_Security_Martin_V2.ipynb\" target=\"_parent\"><img src=\"https://colab.research.google.com/assets/colab-badge.svg\" alt=\"Open In Colab\"/></a>"
      ]
    },
    {
      "cell_type": "markdown",
      "metadata": {
        "id": "B-wqwBgUaZZq"
      },
      "source": [
        "# 💪 challenge: Anomaly Detection in Cyber Security\n",
        "The KDD99 dataset is a well known benchmark for anomaly detection, using IT security data with the goal of intrusion detection.\n"
      ]
    },
    {
      "cell_type": "markdown",
      "metadata": {
        "id": "eZx_47gJay13"
      },
      "source": [
        "#obtain the data, \n",
        "either from its original source or from the datasets module of the scikit-learn library"
      ]
    },
    {
      "cell_type": "markdown",
      "metadata": {
        "id": "M1x_5petnIS1"
      },
      "source": [
        "https://scikit-learn.org/stable/modules/generated/sklearn.datasets.fetch_kddcup99.html#sklearn.datasets.fetch_kddcup99\n",
        "https://scikit-learn.org/stable/modules/generated/sklearn.utils.Bunch.html#sklearn.utils.Bunch\n",
        "https://scikit-learn.org/stable/datasets/real_world.html\n",
        "https://scikit-learn.org/stable/auto_examples/impute/plot_missing_values.html#sphx-glr-auto-examples-impute-plot-missing-values-py\n",
        "https://scikit-learn.org/stable/modules/generated/sklearn.datasets.fetch_kddcup99.html#sklearn.datasets.fetch_kddcup99\n",
        "\n",
        "https://scikit-learn.org/stable/auto_examples/ensemble/plot_isolation_forest.html\n",
        "\n",
        "https://www.programcreek.com/python/example/117646/sklearn.datasets.fetch_kddcup99\n",
        "\n",
        "https://kdd.ics.uci.edu/databases/kddcup99/task.html\n"
      ]
    },
    {
      "cell_type": "code",
      "metadata": {
        "id": "sPnI0C4bcH-w"
      },
      "source": [
        "import numpy as np\n",
        "import matplotlib.pyplot as plt\n",
        "import sklearn as sklearn\n",
        "from sklearn import datasets\n",
        "from sklearn.ensemble import IsolationForest"
      ],
      "execution_count": 1,
      "outputs": []
    },
    {
      "cell_type": "code",
      "metadata": {
        "id": "2cub9Of5jwgV"
      },
      "source": [
        "import warnings\n",
        "import pandas as pd\n",
        "from pandas.core.common import SettingWithCopyWarning"
      ],
      "execution_count": 2,
      "outputs": []
    },
    {
      "cell_type": "code",
      "metadata": {
        "id": "eRgaIJ7DKLxW",
        "collapsed": true,
        "colab": {
          "base_uri": "https://localhost:8080/"
        },
        "outputId": "f4c77325-8795-4bcc-c91e-6eeb04e0ba73"
      },
      "source": [
        "!pip install https://github.com/pandas-profiling/pandas-profiling/archive/master.zip "
      ],
      "execution_count": 3,
      "outputs": [
        {
          "output_type": "stream",
          "text": [
            "Collecting https://github.com/pandas-profiling/pandas-profiling/archive/master.zip\n",
            "  Using cached https://github.com/pandas-profiling/pandas-profiling/archive/master.zip\n",
            "Requirement already satisfied (use --upgrade to upgrade): pandas-profiling==2.12.0 from https://github.com/pandas-profiling/pandas-profiling/archive/master.zip in /usr/local/lib/python3.7/dist-packages\n",
            "Requirement already satisfied: joblib in /usr/local/lib/python3.7/dist-packages (from pandas-profiling==2.12.0) (1.0.1)\n",
            "Requirement already satisfied: scipy>=1.4.1 in /usr/local/lib/python3.7/dist-packages (from pandas-profiling==2.12.0) (1.4.1)\n",
            "Requirement already satisfied: pandas!=1.0.0,!=1.0.1,!=1.0.2,!=1.1.0,>=0.25.3 in /usr/local/lib/python3.7/dist-packages (from pandas-profiling==2.12.0) (1.1.5)\n",
            "Requirement already satisfied: matplotlib>=3.2.0 in /usr/local/lib/python3.7/dist-packages (from pandas-profiling==2.12.0) (3.2.2)\n",
            "Requirement already satisfied: confuse>=1.0.0 in /usr/local/lib/python3.7/dist-packages (from pandas-profiling==2.12.0) (1.4.0)\n",
            "Requirement already satisfied: jinja2>=2.11.1 in /usr/local/lib/python3.7/dist-packages (from pandas-profiling==2.12.0) (2.11.3)\n",
            "Requirement already satisfied: visions[type_image_path]==0.6.0 in /usr/local/lib/python3.7/dist-packages (from pandas-profiling==2.12.0) (0.6.0)\n",
            "Requirement already satisfied: numpy>=1.16.0 in /usr/local/lib/python3.7/dist-packages (from pandas-profiling==2.12.0) (1.19.5)\n",
            "Requirement already satisfied: attrs>=19.3.0 in /usr/local/lib/python3.7/dist-packages (from pandas-profiling==2.12.0) (20.3.0)\n",
            "Requirement already satisfied: htmlmin>=0.1.12 in /usr/local/lib/python3.7/dist-packages (from pandas-profiling==2.12.0) (0.1.12)\n",
            "Requirement already satisfied: missingno>=0.4.2 in /usr/local/lib/python3.7/dist-packages (from pandas-profiling==2.12.0) (0.4.2)\n",
            "Requirement already satisfied: phik>=0.10.0 in /usr/local/lib/python3.7/dist-packages (from pandas-profiling==2.12.0) (0.11.2)\n",
            "Requirement already satisfied: tangled-up-in-unicode>=0.0.6 in /usr/local/lib/python3.7/dist-packages (from pandas-profiling==2.12.0) (0.0.7)\n",
            "Requirement already satisfied: requests>=2.24.0 in /usr/local/lib/python3.7/dist-packages (from pandas-profiling==2.12.0) (2.25.1)\n",
            "Requirement already satisfied: tqdm>=4.48.2 in /usr/local/lib/python3.7/dist-packages (from pandas-profiling==2.12.0) (4.60.0)\n",
            "Requirement already satisfied: seaborn>=0.10.1 in /usr/local/lib/python3.7/dist-packages (from pandas-profiling==2.12.0) (0.11.1)\n",
            "Requirement already satisfied: python-dateutil>=2.7.3 in /usr/local/lib/python3.7/dist-packages (from pandas!=1.0.0,!=1.0.1,!=1.0.2,!=1.1.0,>=0.25.3->pandas-profiling==2.12.0) (2.8.1)\n",
            "Requirement already satisfied: pytz>=2017.2 in /usr/local/lib/python3.7/dist-packages (from pandas!=1.0.0,!=1.0.1,!=1.0.2,!=1.1.0,>=0.25.3->pandas-profiling==2.12.0) (2018.9)\n",
            "Requirement already satisfied: pyparsing!=2.0.4,!=2.1.2,!=2.1.6,>=2.0.1 in /usr/local/lib/python3.7/dist-packages (from matplotlib>=3.2.0->pandas-profiling==2.12.0) (2.4.7)\n",
            "Requirement already satisfied: kiwisolver>=1.0.1 in /usr/local/lib/python3.7/dist-packages (from matplotlib>=3.2.0->pandas-profiling==2.12.0) (1.3.1)\n",
            "Requirement already satisfied: cycler>=0.10 in /usr/local/lib/python3.7/dist-packages (from matplotlib>=3.2.0->pandas-profiling==2.12.0) (0.10.0)\n",
            "Requirement already satisfied: pyyaml in /usr/local/lib/python3.7/dist-packages (from confuse>=1.0.0->pandas-profiling==2.12.0) (3.13)\n",
            "Requirement already satisfied: MarkupSafe>=0.23 in /usr/local/lib/python3.7/dist-packages (from jinja2>=2.11.1->pandas-profiling==2.12.0) (1.1.1)\n",
            "Requirement already satisfied: networkx>=2.4 in /usr/local/lib/python3.7/dist-packages (from visions[type_image_path]==0.6.0->pandas-profiling==2.12.0) (2.5.1)\n",
            "Requirement already satisfied: Pillow; extra == \"type_image_path\" in /usr/local/lib/python3.7/dist-packages (from visions[type_image_path]==0.6.0->pandas-profiling==2.12.0) (7.1.2)\n",
            "Requirement already satisfied: imagehash; extra == \"type_image_path\" in /usr/local/lib/python3.7/dist-packages (from visions[type_image_path]==0.6.0->pandas-profiling==2.12.0) (4.2.0)\n",
            "Requirement already satisfied: urllib3<1.27,>=1.21.1 in /usr/local/lib/python3.7/dist-packages (from requests>=2.24.0->pandas-profiling==2.12.0) (1.24.3)\n",
            "Requirement already satisfied: idna<3,>=2.5 in /usr/local/lib/python3.7/dist-packages (from requests>=2.24.0->pandas-profiling==2.12.0) (2.10)\n",
            "Requirement already satisfied: chardet<5,>=3.0.2 in /usr/local/lib/python3.7/dist-packages (from requests>=2.24.0->pandas-profiling==2.12.0) (3.0.4)\n",
            "Requirement already satisfied: certifi>=2017.4.17 in /usr/local/lib/python3.7/dist-packages (from requests>=2.24.0->pandas-profiling==2.12.0) (2020.12.5)\n",
            "Requirement already satisfied: six>=1.5 in /usr/local/lib/python3.7/dist-packages (from python-dateutil>=2.7.3->pandas!=1.0.0,!=1.0.1,!=1.0.2,!=1.1.0,>=0.25.3->pandas-profiling==2.12.0) (1.15.0)\n",
            "Requirement already satisfied: decorator<5,>=4.3 in /usr/local/lib/python3.7/dist-packages (from networkx>=2.4->visions[type_image_path]==0.6.0->pandas-profiling==2.12.0) (4.4.2)\n",
            "Requirement already satisfied: PyWavelets in /usr/local/lib/python3.7/dist-packages (from imagehash; extra == \"type_image_path\"->visions[type_image_path]==0.6.0->pandas-profiling==2.12.0) (1.1.1)\n",
            "Building wheels for collected packages: pandas-profiling\n",
            "  Building wheel for pandas-profiling (setup.py) ... \u001b[?25l\u001b[?25hdone\n",
            "  Created wheel for pandas-profiling: filename=pandas_profiling-2.12.0-py2.py3-none-any.whl size=243829 sha256=c7bbad65fe0e03273086a9f0c67052805cc602887768700a33b26f045dbf36f1\n",
            "  Stored in directory: /tmp/pip-ephem-wheel-cache-9mo_lx86/wheels/56/c2/dd/8d945b0443c35df7d5f62fa9e9ae105a2d8b286302b92e0109\n",
            "Successfully built pandas-profiling\n"
          ],
          "name": "stdout"
        }
      ]
    },
    {
      "cell_type": "code",
      "metadata": {
        "id": "n4T7nYdX-3eU"
      },
      "source": [
        "import pandas_profiling as pd_prof"
      ],
      "execution_count": 4,
      "outputs": []
    },
    {
      "cell_type": "code",
      "metadata": {
        "id": "00ILucuVa70o"
      },
      "source": [
        "#X, y = sklearn.datasets.fetch_kddcup99(subset=None, data_home=None, shuffle=False, random_state=None, percent10=True, download_if_missing=True, return_X_y=False, as_frame=False)\n",
        "#X, y = fetch_kddcup99(subset='SA', percent10=small, return_X_y=True)\n",
        "#bunch_of_data = sklearn.datasets.fetch_kddcup99(subset=None, data_home=None, shuffle=False, random_state=None, percent10=True, download_if_missing=True, return_X_y=False)"
      ],
      "execution_count": 5,
      "outputs": []
    },
    {
      "cell_type": "code",
      "metadata": {
        "colab": {
          "base_uri": "https://localhost:8080/"
        },
        "id": "MvAP0q4qOJRd",
        "outputId": "390a9430-5e17-4ca4-d21a-d1630f17ac24"
      },
      "source": [
        "pip install scikit-learn==0.24"
      ],
      "execution_count": 6,
      "outputs": [
        {
          "output_type": "stream",
          "text": [
            "Requirement already satisfied: scikit-learn==0.24 in /usr/local/lib/python3.7/dist-packages (0.24.0)\n",
            "Requirement already satisfied: joblib>=0.11 in /usr/local/lib/python3.7/dist-packages (from scikit-learn==0.24) (1.0.1)\n",
            "Requirement already satisfied: numpy>=1.13.3 in /usr/local/lib/python3.7/dist-packages (from scikit-learn==0.24) (1.19.5)\n",
            "Requirement already satisfied: threadpoolctl>=2.0.0 in /usr/local/lib/python3.7/dist-packages (from scikit-learn==0.24) (2.1.0)\n",
            "Requirement already satisfied: scipy>=0.19.1 in /usr/local/lib/python3.7/dist-packages (from scikit-learn==0.24) (1.4.1)\n"
          ],
          "name": "stdout"
        }
      ]
    },
    {
      "cell_type": "code",
      "metadata": {
        "colab": {
          "base_uri": "https://localhost:8080/",
          "height": 35
        },
        "id": "xnQ21VmIpSkU",
        "outputId": "db409218-3fc9-473b-d076-978b236fb112"
      },
      "source": [
        "sklearn.__version__"
      ],
      "execution_count": 7,
      "outputs": [
        {
          "output_type": "execute_result",
          "data": {
            "application/vnd.google.colaboratory.intrinsic+json": {
              "type": "string"
            },
            "text/plain": [
              "'0.24.0'"
            ]
          },
          "metadata": {
            "tags": []
          },
          "execution_count": 7
        }
      ]
    },
    {
      "cell_type": "code",
      "metadata": {
        "id": "tQ_n5cD1OQEO"
      },
      "source": [
        "kdd99_bunch = datasets.fetch_kddcup99(\n",
        "    as_frame=True,\n",
        "    subset=\"SF\"\n",
        ")"
      ],
      "execution_count": 8,
      "outputs": []
    },
    {
      "cell_type": "markdown",
      "metadata": {
        "id": "ChUZD4GWfhKY"
      },
      "source": [
        "#explore the data"
      ]
    },
    {
      "cell_type": "code",
      "metadata": {
        "colab": {
          "base_uri": "https://localhost:8080/",
          "height": 126
        },
        "id": "0VDw6K6DUDZg",
        "outputId": "8e92090b-e4ec-4af5-d657-6daef8868818"
      },
      "source": [
        "kdd99_bunch['DESCR']"
      ],
      "execution_count": 9,
      "outputs": [
        {
          "output_type": "execute_result",
          "data": {
            "application/vnd.google.colaboratory.intrinsic+json": {
              "type": "string"
            },
            "text/plain": [
              "'.. _kddcup99_dataset:\\n\\nKddcup 99 dataset\\n-----------------\\n\\nThe KDD Cup \\'99 dataset was created by processing the tcpdump portions\\nof the 1998 DARPA Intrusion Detection System (IDS) Evaluation dataset,\\ncreated by MIT Lincoln Lab [2]_. The artificial data (described on the `dataset\\'s\\nhomepage <https://kdd.ics.uci.edu/databases/kddcup99/kddcup99.html>`_) was\\ngenerated using a closed network and hand-injected attacks to produce a\\nlarge number of different types of attack with normal activity in the\\nbackground. As the initial goal was to produce a large training set for\\nsupervised learning algorithms, there is a large proportion (80.1%) of\\nabnormal data which is unrealistic in real world, and inappropriate for\\nunsupervised anomaly detection which aims at detecting \\'abnormal\\' data, i.e.:\\n\\n* qualitatively different from normal data\\n* in large minority among the observations.\\n\\nWe thus transform the KDD Data set into two different data sets: SA and SF.\\n\\n* SA is obtained by simply selecting all the normal data, and a small\\n  proportion of abnormal data to gives an anomaly proportion of 1%.\\n\\n* SF is obtained as in [3]_\\n  by simply picking up the data whose attribute logged_in is positive, thus\\n  focusing on the intrusion attack, which gives a proportion of 0.3% of\\n  attack.\\n\\n* http and smtp are two subsets of SF corresponding with third feature\\n  equal to \\'http\\' (resp. to \\'smtp\\').\\n\\nGeneral KDD structure :\\n\\n    ================      ==========================================\\n    Samples total         4898431\\n    Dimensionality        41\\n    Features              discrete (int) or continuous (float)\\n    Targets               str, \\'normal.\\' or name of the anomaly type\\n    ================      ==========================================\\n\\n    SA structure :\\n\\n    ================      ==========================================\\n    Samples total         976158\\n    Dimensionality        41\\n    Features              discrete (int) or continuous (float)\\n    Targets               str, \\'normal.\\' or name of the anomaly type\\n    ================      ==========================================\\n\\n    SF structure :\\n\\n    ================      ==========================================\\n    Samples total         699691\\n    Dimensionality        4\\n    Features              discrete (int) or continuous (float)\\n    Targets               str, \\'normal.\\' or name of the anomaly type\\n    ================      ==========================================\\n\\n    http structure :\\n\\n    ================      ==========================================\\n    Samples total         619052\\n    Dimensionality        3\\n    Features              discrete (int) or continuous (float)\\n    Targets               str, \\'normal.\\' or name of the anomaly type\\n    ================      ==========================================\\n\\n    smtp structure :\\n\\n    ================      ==========================================\\n    Samples total         95373\\n    Dimensionality        3\\n    Features              discrete (int) or continuous (float)\\n    Targets               str, \\'normal.\\' or name of the anomaly type\\n    ================      ==========================================\\n\\n:func:`sklearn.datasets.fetch_kddcup99` will load the kddcup99 dataset; it\\nreturns a dictionary-like object with the feature matrix in the ``data`` member\\nand the target values in ``target``. The \"as_frame\" optional argument converts\\n``data`` into a pandas DataFrame and ``target`` into a pandas Series. The\\ndataset will be downloaded from the web if necessary.\\n\\n.. topic:: References\\n\\n    .. [2] Analysis and Results of the 1999 DARPA Off-Line Intrusion\\n           Detection Evaluation, Richard Lippmann, Joshua W. Haines,\\n           David J. Fried, Jonathan Korba, Kumar Das.\\n\\n    .. [3] K. Yamanishi, J.-I. Takeuchi, G. Williams, and P. Milne. Online\\n           unsupervised outlier detection using finite mixtures with\\n           discounting learning algorithms. In Proceedings of the sixth\\n           ACM SIGKDD international conference on Knowledge discovery\\n           and data mining, pages 320-324. ACM Press, 2000.\\n'"
            ]
          },
          "metadata": {
            "tags": []
          },
          "execution_count": 9
        }
      ]
    },
    {
      "cell_type": "code",
      "metadata": {
        "colab": {
          "base_uri": "https://localhost:8080/"
        },
        "id": "MIF5bPEmUZEu",
        "outputId": "2c9dd208-4532-430f-b776-e4767ddd8f4a"
      },
      "source": [
        "kdd99_bunch['target'].unique()"
      ],
      "execution_count": 10,
      "outputs": [
        {
          "output_type": "execute_result",
          "data": {
            "text/plain": [
              "array([b'normal.', b'buffer_overflow.', b'loadmodule.', b'perl.',\n",
              "       b'guess_passwd.', b'ipsweep.', b'ftp_write.', b'back.', b'imap.',\n",
              "       b'phf.', b'multihop.', b'warezmaster.', b'satan.', b'warezclient.',\n",
              "       b'spy.', b'rootkit.'], dtype=object)"
            ]
          },
          "metadata": {
            "tags": []
          },
          "execution_count": 10
        }
      ]
    },
    {
      "cell_type": "code",
      "metadata": {
        "id": "WvxmRLjaQKyN"
      },
      "source": [
        "df = kdd99_bunch[\"data\"]"
      ],
      "execution_count": 11,
      "outputs": []
    },
    {
      "cell_type": "code",
      "metadata": {
        "id": "3vZGiH61fllL"
      },
      "source": [
        "df['target']=kdd99_bunch['target']"
      ],
      "execution_count": 12,
      "outputs": []
    },
    {
      "cell_type": "code",
      "metadata": {
        "id": "fkUseeVCiOX_",
        "colab": {
          "base_uri": "https://localhost:8080/",
          "height": 407
        },
        "outputId": "0d9837c4-3872-4a99-fcb4-90a1e9991e53"
      },
      "source": [
        "df"
      ],
      "execution_count": 13,
      "outputs": [
        {
          "output_type": "execute_result",
          "data": {
            "text/html": [
              "<div>\n",
              "<style scoped>\n",
              "    .dataframe tbody tr th:only-of-type {\n",
              "        vertical-align: middle;\n",
              "    }\n",
              "\n",
              "    .dataframe tbody tr th {\n",
              "        vertical-align: top;\n",
              "    }\n",
              "\n",
              "    .dataframe thead th {\n",
              "        text-align: right;\n",
              "    }\n",
              "</style>\n",
              "<table border=\"1\" class=\"dataframe\">\n",
              "  <thead>\n",
              "    <tr style=\"text-align: right;\">\n",
              "      <th></th>\n",
              "      <th>duration</th>\n",
              "      <th>service</th>\n",
              "      <th>src_bytes</th>\n",
              "      <th>dst_bytes</th>\n",
              "      <th>target</th>\n",
              "    </tr>\n",
              "  </thead>\n",
              "  <tbody>\n",
              "    <tr>\n",
              "      <th>0</th>\n",
              "      <td>-2.30259</td>\n",
              "      <td>b'http'</td>\n",
              "      <td>5.19905</td>\n",
              "      <td>8.60339</td>\n",
              "      <td>b'normal.'</td>\n",
              "    </tr>\n",
              "    <tr>\n",
              "      <th>1</th>\n",
              "      <td>-2.30259</td>\n",
              "      <td>b'http'</td>\n",
              "      <td>5.47688</td>\n",
              "      <td>6.18641</td>\n",
              "      <td>b'normal.'</td>\n",
              "    </tr>\n",
              "    <tr>\n",
              "      <th>2</th>\n",
              "      <td>-2.30259</td>\n",
              "      <td>b'http'</td>\n",
              "      <td>5.46001</td>\n",
              "      <td>7.19826</td>\n",
              "      <td>b'normal.'</td>\n",
              "    </tr>\n",
              "    <tr>\n",
              "      <th>3</th>\n",
              "      <td>-2.30259</td>\n",
              "      <td>b'http'</td>\n",
              "      <td>5.38953</td>\n",
              "      <td>7.19826</td>\n",
              "      <td>b'normal.'</td>\n",
              "    </tr>\n",
              "    <tr>\n",
              "      <th>4</th>\n",
              "      <td>-2.30259</td>\n",
              "      <td>b'http'</td>\n",
              "      <td>5.38036</td>\n",
              "      <td>7.61683</td>\n",
              "      <td>b'normal.'</td>\n",
              "    </tr>\n",
              "    <tr>\n",
              "      <th>...</th>\n",
              "      <td>...</td>\n",
              "      <td>...</td>\n",
              "      <td>...</td>\n",
              "      <td>...</td>\n",
              "      <td>...</td>\n",
              "    </tr>\n",
              "    <tr>\n",
              "      <th>73232</th>\n",
              "      <td>-2.30259</td>\n",
              "      <td>b'http'</td>\n",
              "      <td>5.73689</td>\n",
              "      <td>7.53961</td>\n",
              "      <td>b'normal.'</td>\n",
              "    </tr>\n",
              "    <tr>\n",
              "      <th>73233</th>\n",
              "      <td>-2.30259</td>\n",
              "      <td>b'http'</td>\n",
              "      <td>5.64226</td>\n",
              "      <td>7.7346</td>\n",
              "      <td>b'normal.'</td>\n",
              "    </tr>\n",
              "    <tr>\n",
              "      <th>73234</th>\n",
              "      <td>-2.30259</td>\n",
              "      <td>b'http'</td>\n",
              "      <td>5.3137</td>\n",
              "      <td>7.09016</td>\n",
              "      <td>b'normal.'</td>\n",
              "    </tr>\n",
              "    <tr>\n",
              "      <th>73235</th>\n",
              "      <td>-2.30259</td>\n",
              "      <td>b'http'</td>\n",
              "      <td>5.67367</td>\n",
              "      <td>7.09016</td>\n",
              "      <td>b'normal.'</td>\n",
              "    </tr>\n",
              "    <tr>\n",
              "      <th>73236</th>\n",
              "      <td>-2.30259</td>\n",
              "      <td>b'http'</td>\n",
              "      <td>5.38953</td>\n",
              "      <td>7.1181</td>\n",
              "      <td>b'normal.'</td>\n",
              "    </tr>\n",
              "  </tbody>\n",
              "</table>\n",
              "<p>73237 rows × 5 columns</p>\n",
              "</div>"
            ],
            "text/plain": [
              "      duration  service src_bytes dst_bytes      target\n",
              "0     -2.30259  b'http'   5.19905   8.60339  b'normal.'\n",
              "1     -2.30259  b'http'   5.47688   6.18641  b'normal.'\n",
              "2     -2.30259  b'http'   5.46001   7.19826  b'normal.'\n",
              "3     -2.30259  b'http'   5.38953   7.19826  b'normal.'\n",
              "4     -2.30259  b'http'   5.38036   7.61683  b'normal.'\n",
              "...        ...      ...       ...       ...         ...\n",
              "73232 -2.30259  b'http'   5.73689   7.53961  b'normal.'\n",
              "73233 -2.30259  b'http'   5.64226    7.7346  b'normal.'\n",
              "73234 -2.30259  b'http'    5.3137   7.09016  b'normal.'\n",
              "73235 -2.30259  b'http'   5.67367   7.09016  b'normal.'\n",
              "73236 -2.30259  b'http'   5.38953    7.1181  b'normal.'\n",
              "\n",
              "[73237 rows x 5 columns]"
            ]
          },
          "metadata": {
            "tags": []
          },
          "execution_count": 13
        }
      ]
    },
    {
      "cell_type": "code",
      "metadata": {
        "id": "MclO5LXie4tL"
      },
      "source": [
        "#pd_prof.ProfileReport(df, minimal=True)"
      ],
      "execution_count": 14,
      "outputs": []
    },
    {
      "cell_type": "markdown",
      "metadata": {
        "id": "RXlUQtJMTO88"
      },
      "source": [
        "from the report there are some Warnings:\n",
        "\n",
        "Dataset has 19779 (27.0%) duplicate rows\tDuplicates\n",
        "service is an unsupported type, check if it needs cleaning or further analysis\n",
        "\n",
        "therefore the data needs cleaning"
      ]
    },
    {
      "cell_type": "markdown",
      "metadata": {
        "id": "F7K05JOYTK4b"
      },
      "source": [
        "# clean the data"
      ]
    },
    {
      "cell_type": "code",
      "metadata": {
        "colab": {
          "base_uri": "https://localhost:8080/"
        },
        "id": "kvAKjuU4aF2y",
        "outputId": "83daf550-16a7-4188-9637-af891fc3ff29"
      },
      "source": [
        "df.shape"
      ],
      "execution_count": 15,
      "outputs": [
        {
          "output_type": "execute_result",
          "data": {
            "text/plain": [
              "(73237, 5)"
            ]
          },
          "metadata": {
            "tags": []
          },
          "execution_count": 15
        }
      ]
    },
    {
      "cell_type": "code",
      "metadata": {
        "id": "gFc7ZFvBqy8P"
      },
      "source": [
        "df = df.drop_duplicates()"
      ],
      "execution_count": 16,
      "outputs": []
    },
    {
      "cell_type": "code",
      "metadata": {
        "colab": {
          "base_uri": "https://localhost:8080/"
        },
        "id": "B6Gp8QtNaQn0",
        "outputId": "0167790f-3e49-4c37-8169-acd9dbac99ba"
      },
      "source": [
        "df.shape"
      ],
      "execution_count": 17,
      "outputs": [
        {
          "output_type": "execute_result",
          "data": {
            "text/plain": [
              "(53491, 5)"
            ]
          },
          "metadata": {
            "tags": []
          },
          "execution_count": 17
        }
      ]
    },
    {
      "cell_type": "code",
      "metadata": {
        "colab": {
          "base_uri": "https://localhost:8080/"
        },
        "id": "f8-UR4ZHayjS",
        "outputId": "94f898c1-3bee-46fd-ae51-f49ad162b1f6"
      },
      "source": [
        "df['service'] = df['service'].apply(lambda x: x.decode(\"utf-8\"))"
      ],
      "execution_count": 18,
      "outputs": [
        {
          "output_type": "stream",
          "text": [
            "/usr/local/lib/python3.7/dist-packages/ipykernel_launcher.py:1: SettingWithCopyWarning: \n",
            "A value is trying to be set on a copy of a slice from a DataFrame.\n",
            "Try using .loc[row_indexer,col_indexer] = value instead\n",
            "\n",
            "See the caveats in the documentation: https://pandas.pydata.org/pandas-docs/stable/user_guide/indexing.html#returning-a-view-versus-a-copy\n",
            "  \"\"\"Entry point for launching an IPython kernel.\n"
          ],
          "name": "stderr"
        }
      ]
    },
    {
      "cell_type": "code",
      "metadata": {
        "colab": {
          "base_uri": "https://localhost:8080/"
        },
        "id": "sd5OjeB_f2d8",
        "outputId": "1132a347-70af-4f9b-b55a-d1e9b92a534f"
      },
      "source": [
        "df['target'] = df['target'].apply(lambda x: x.decode(\"utf-8\"))"
      ],
      "execution_count": 19,
      "outputs": [
        {
          "output_type": "stream",
          "text": [
            "/usr/local/lib/python3.7/dist-packages/ipykernel_launcher.py:1: SettingWithCopyWarning: \n",
            "A value is trying to be set on a copy of a slice from a DataFrame.\n",
            "Try using .loc[row_indexer,col_indexer] = value instead\n",
            "\n",
            "See the caveats in the documentation: https://pandas.pydata.org/pandas-docs/stable/user_guide/indexing.html#returning-a-view-versus-a-copy\n",
            "  \"\"\"Entry point for launching an IPython kernel.\n"
          ],
          "name": "stderr"
        }
      ]
    },
    {
      "cell_type": "code",
      "metadata": {
        "colab": {
          "base_uri": "https://localhost:8080/",
          "height": 407
        },
        "id": "ji2yeXudbeMM",
        "outputId": "25552e9b-415a-48ec-9de0-26c7a943effb"
      },
      "source": [
        "df"
      ],
      "execution_count": 20,
      "outputs": [
        {
          "output_type": "execute_result",
          "data": {
            "text/html": [
              "<div>\n",
              "<style scoped>\n",
              "    .dataframe tbody tr th:only-of-type {\n",
              "        vertical-align: middle;\n",
              "    }\n",
              "\n",
              "    .dataframe tbody tr th {\n",
              "        vertical-align: top;\n",
              "    }\n",
              "\n",
              "    .dataframe thead th {\n",
              "        text-align: right;\n",
              "    }\n",
              "</style>\n",
              "<table border=\"1\" class=\"dataframe\">\n",
              "  <thead>\n",
              "    <tr style=\"text-align: right;\">\n",
              "      <th></th>\n",
              "      <th>duration</th>\n",
              "      <th>service</th>\n",
              "      <th>src_bytes</th>\n",
              "      <th>dst_bytes</th>\n",
              "      <th>target</th>\n",
              "    </tr>\n",
              "  </thead>\n",
              "  <tbody>\n",
              "    <tr>\n",
              "      <th>0</th>\n",
              "      <td>-2.30259</td>\n",
              "      <td>http</td>\n",
              "      <td>5.19905</td>\n",
              "      <td>8.60339</td>\n",
              "      <td>normal.</td>\n",
              "    </tr>\n",
              "    <tr>\n",
              "      <th>1</th>\n",
              "      <td>-2.30259</td>\n",
              "      <td>http</td>\n",
              "      <td>5.47688</td>\n",
              "      <td>6.18641</td>\n",
              "      <td>normal.</td>\n",
              "    </tr>\n",
              "    <tr>\n",
              "      <th>2</th>\n",
              "      <td>-2.30259</td>\n",
              "      <td>http</td>\n",
              "      <td>5.46001</td>\n",
              "      <td>7.19826</td>\n",
              "      <td>normal.</td>\n",
              "    </tr>\n",
              "    <tr>\n",
              "      <th>3</th>\n",
              "      <td>-2.30259</td>\n",
              "      <td>http</td>\n",
              "      <td>5.38953</td>\n",
              "      <td>7.19826</td>\n",
              "      <td>normal.</td>\n",
              "    </tr>\n",
              "    <tr>\n",
              "      <th>4</th>\n",
              "      <td>-2.30259</td>\n",
              "      <td>http</td>\n",
              "      <td>5.38036</td>\n",
              "      <td>7.61683</td>\n",
              "      <td>normal.</td>\n",
              "    </tr>\n",
              "    <tr>\n",
              "      <th>...</th>\n",
              "      <td>...</td>\n",
              "      <td>...</td>\n",
              "      <td>...</td>\n",
              "      <td>...</td>\n",
              "      <td>...</td>\n",
              "    </tr>\n",
              "    <tr>\n",
              "      <th>73232</th>\n",
              "      <td>-2.30259</td>\n",
              "      <td>http</td>\n",
              "      <td>5.73689</td>\n",
              "      <td>7.53961</td>\n",
              "      <td>normal.</td>\n",
              "    </tr>\n",
              "    <tr>\n",
              "      <th>73233</th>\n",
              "      <td>-2.30259</td>\n",
              "      <td>http</td>\n",
              "      <td>5.64226</td>\n",
              "      <td>7.7346</td>\n",
              "      <td>normal.</td>\n",
              "    </tr>\n",
              "    <tr>\n",
              "      <th>73234</th>\n",
              "      <td>-2.30259</td>\n",
              "      <td>http</td>\n",
              "      <td>5.3137</td>\n",
              "      <td>7.09016</td>\n",
              "      <td>normal.</td>\n",
              "    </tr>\n",
              "    <tr>\n",
              "      <th>73235</th>\n",
              "      <td>-2.30259</td>\n",
              "      <td>http</td>\n",
              "      <td>5.67367</td>\n",
              "      <td>7.09016</td>\n",
              "      <td>normal.</td>\n",
              "    </tr>\n",
              "    <tr>\n",
              "      <th>73236</th>\n",
              "      <td>-2.30259</td>\n",
              "      <td>http</td>\n",
              "      <td>5.38953</td>\n",
              "      <td>7.1181</td>\n",
              "      <td>normal.</td>\n",
              "    </tr>\n",
              "  </tbody>\n",
              "</table>\n",
              "<p>53491 rows × 5 columns</p>\n",
              "</div>"
            ],
            "text/plain": [
              "      duration service src_bytes dst_bytes   target\n",
              "0     -2.30259    http   5.19905   8.60339  normal.\n",
              "1     -2.30259    http   5.47688   6.18641  normal.\n",
              "2     -2.30259    http   5.46001   7.19826  normal.\n",
              "3     -2.30259    http   5.38953   7.19826  normal.\n",
              "4     -2.30259    http   5.38036   7.61683  normal.\n",
              "...        ...     ...       ...       ...      ...\n",
              "73232 -2.30259    http   5.73689   7.53961  normal.\n",
              "73233 -2.30259    http   5.64226    7.7346  normal.\n",
              "73234 -2.30259    http    5.3137   7.09016  normal.\n",
              "73235 -2.30259    http   5.67367   7.09016  normal.\n",
              "73236 -2.30259    http   5.38953    7.1181  normal.\n",
              "\n",
              "[53491 rows x 5 columns]"
            ]
          },
          "metadata": {
            "tags": []
          },
          "execution_count": 20
        }
      ]
    },
    {
      "cell_type": "code",
      "metadata": {
        "id": "QugzNMs3b_gC"
      },
      "source": [
        "#pd_prof.ProfileReport(df,minimal=True)"
      ],
      "execution_count": 21,
      "outputs": []
    },
    {
      "cell_type": "markdown",
      "metadata": {
        "id": "_jzNcLGpxaNI"
      },
      "source": [
        "## transforme the data"
      ]
    },
    {
      "cell_type": "code",
      "metadata": {
        "colab": {
          "base_uri": "https://localhost:8080/"
        },
        "id": "OsE8CW89isN2",
        "outputId": "9bce23ce-4890-4c6d-b325-a559d122e654"
      },
      "source": [
        "df['target'] = df['target'].map(lambda x: 1 if x=='normal.' else  0)"
      ],
      "execution_count": 22,
      "outputs": [
        {
          "output_type": "stream",
          "text": [
            "/usr/local/lib/python3.7/dist-packages/ipykernel_launcher.py:1: SettingWithCopyWarning: \n",
            "A value is trying to be set on a copy of a slice from a DataFrame.\n",
            "Try using .loc[row_indexer,col_indexer] = value instead\n",
            "\n",
            "See the caveats in the documentation: https://pandas.pydata.org/pandas-docs/stable/user_guide/indexing.html#returning-a-view-versus-a-copy\n",
            "  \"\"\"Entry point for launching an IPython kernel.\n"
          ],
          "name": "stderr"
        }
      ]
    },
    {
      "cell_type": "code",
      "metadata": {
        "colab": {
          "base_uri": "https://localhost:8080/"
        },
        "id": "qA3O1sQNkQts",
        "outputId": "7e6d910d-c4d5-4c6f-a8d4-706f271e17ff"
      },
      "source": [
        "df['target'].unique()"
      ],
      "execution_count": 23,
      "outputs": [
        {
          "output_type": "execute_result",
          "data": {
            "text/plain": [
              "array([1, 0])"
            ]
          },
          "metadata": {
            "tags": []
          },
          "execution_count": 23
        }
      ]
    },
    {
      "cell_type": "code",
      "metadata": {
        "id": "q7AcSA7MtCEE"
      },
      "source": [
        "service_lst = df[\"service\"].unique()"
      ],
      "execution_count": 24,
      "outputs": []
    },
    {
      "cell_type": "code",
      "metadata": {
        "id": "wjLNo8twuUFK"
      },
      "source": [
        "service_dict = dict((service_lst[i],i) for i in range(0, len(service_lst)))"
      ],
      "execution_count": 25,
      "outputs": []
    },
    {
      "cell_type": "code",
      "metadata": {
        "colab": {
          "base_uri": "https://localhost:8080/"
        },
        "id": "yaaptG2LtVaU",
        "outputId": "176aa74e-57f8-4897-c97b-a0f5c64c8154"
      },
      "source": [
        "df['service'] = df['service'].map(service_dict)"
      ],
      "execution_count": 26,
      "outputs": [
        {
          "output_type": "stream",
          "text": [
            "/usr/local/lib/python3.7/dist-packages/ipykernel_launcher.py:1: SettingWithCopyWarning: \n",
            "A value is trying to be set on a copy of a slice from a DataFrame.\n",
            "Try using .loc[row_indexer,col_indexer] = value instead\n",
            "\n",
            "See the caveats in the documentation: https://pandas.pydata.org/pandas-docs/stable/user_guide/indexing.html#returning-a-view-versus-a-copy\n",
            "  \"\"\"Entry point for launching an IPython kernel.\n"
          ],
          "name": "stderr"
        }
      ]
    },
    {
      "cell_type": "code",
      "metadata": {
        "colab": {
          "base_uri": "https://localhost:8080/"
        },
        "id": "YXC_EAsQvkAh",
        "outputId": "292d442d-26d3-4f78-829b-527ddd239275"
      },
      "source": [
        "for i in df.columns:\n",
        "  df[i] = df[i].astype(float)"
      ],
      "execution_count": 27,
      "outputs": [
        {
          "output_type": "stream",
          "text": [
            "/usr/local/lib/python3.7/dist-packages/ipykernel_launcher.py:2: SettingWithCopyWarning: \n",
            "A value is trying to be set on a copy of a slice from a DataFrame.\n",
            "Try using .loc[row_indexer,col_indexer] = value instead\n",
            "\n",
            "See the caveats in the documentation: https://pandas.pydata.org/pandas-docs/stable/user_guide/indexing.html#returning-a-view-versus-a-copy\n",
            "  \n"
          ],
          "name": "stderr"
        }
      ]
    },
    {
      "cell_type": "markdown",
      "metadata": {
        "id": "aWs6k4ZneIPz"
      },
      "source": [
        "## can you already spot anomalies by visualizing the data?\n",
        "\n",
        "not really, some bytes values are negative, but can't say what that mean. -> Need to ask the provider of the data\n",
        "\n",
        "the plot dosen't provid any further information"
      ]
    },
    {
      "cell_type": "code",
      "metadata": {
        "id": "0G1ZsLQXmOW6"
      },
      "source": [
        "#import seaborn as sns\n",
        "#plt.figure(figsize=(32,32))\n",
        "#sns.set(style=\"ticks\", color_codes=True)\n",
        "#sns.pairplot(df,hue=\"target\",vars=[\"duration\", \"service\", \"src_bytes\", \"dst_bytes\"])\n",
        "#plt.show()"
      ],
      "execution_count": 28,
      "outputs": []
    },
    {
      "cell_type": "markdown",
      "metadata": {
        "id": "4_0rd-Q5xV_J"
      },
      "source": [
        "#build and evaluate an anomaly detector"
      ]
    },
    {
      "cell_type": "markdown",
      "metadata": {
        "id": "1piFVxU_8IPg"
      },
      "source": [
        "##model training"
      ]
    },
    {
      "cell_type": "code",
      "metadata": {
        "id": "7JUJgAe3xXcz"
      },
      "source": [
        "from sklearn.ensemble import IsolationForest\n",
        "import sklearn.model_selection as ms"
      ],
      "execution_count": 29,
      "outputs": []
    },
    {
      "cell_type": "code",
      "metadata": {
        "id": "CTmKPbSRavoO"
      },
      "source": [
        "df_train, df_test = ms.train_test_split(df, test_size=0.2, random_state=42)"
      ],
      "execution_count": null,
      "outputs": []
    },
    {
      "cell_type": "code",
      "metadata": {
        "id": "W3GpBt_J0gwa"
      },
      "source": [
        "iForest = IsolationForest()\n",
        "y_pred_train = iForest.fit_predict(df_train[[\"duration\", \"service\", \"src_bytes\", \"dst_bytes\"]].to_numpy())"
      ],
      "execution_count": 58,
      "outputs": []
    },
    {
      "cell_type": "code",
      "metadata": {
        "id": "trHXWNnz7Uar"
      },
      "source": [
        "#convert_labels = lambda y: (y < 0).astype(int)\n",
        "# df target ;  1 if x=='normal.' else  0\n",
        "# iF Returns; -1 for outliers and 1 for inliers.\n",
        "#convert_predict_to_target = lambda x: 0 if (x==-1) else 1\n",
        "convert_predict_to_target = lambda y: (y == 1).astype(int)"
      ],
      "execution_count": 67,
      "outputs": []
    },
    {
      "cell_type": "code",
      "metadata": {
        "id": "TdX9LudA7W4D"
      },
      "source": [
        "y_pred_train = convert_predict_to_target(y_pred_train)"
      ],
      "execution_count": 68,
      "outputs": []
    },
    {
      "cell_type": "code",
      "metadata": {
        "id": "LErRsiyg6Tgb"
      },
      "source": [
        "y_true_train = df_train['target'].astype(int)"
      ],
      "execution_count": 70,
      "outputs": []
    },
    {
      "cell_type": "markdown",
      "metadata": {
        "id": "hyClfKKS8hqo"
      },
      "source": [
        "##model performance evaluation train"
      ]
    },
    {
      "cell_type": "code",
      "metadata": {
        "id": "FH20Anix844z"
      },
      "source": [
        "#https://scikit-learn.org/stable/modules/generated/sklearn.metrics.classification_report.html"
      ],
      "execution_count": 39,
      "outputs": []
    },
    {
      "cell_type": "code",
      "metadata": {
        "id": "lz2k5aNv6CKz"
      },
      "source": [
        "#from sklearn.metrics import classification_report\n",
        "\n",
        "#target_names = ['true label', 'predict label']\n",
        "#print(classification_report(y_true, y_pred, target_names=target_names))"
      ],
      "execution_count": 40,
      "outputs": []
    },
    {
      "cell_type": "code",
      "metadata": {
        "colab": {
          "base_uri": "https://localhost:8080/"
        },
        "id": "bj5bVYkkLoid",
        "outputId": "0debd351-4f59-4b05-d116-8eb59dca39b5"
      },
      "source": [
        "from sklearn.metrics import classification_report\n",
        "print(classification_report(y_true_train, y_pred_train))"
      ],
      "execution_count": 92,
      "outputs": [
        {
          "output_type": "stream",
          "text": [
            "              precision    recall  f1-score   support\n",
            "\n",
            "           0       0.08      1.00      0.14       358\n",
            "           1       1.00      0.90      0.95     42434\n",
            "\n",
            "    accuracy                           0.90     42792\n",
            "   macro avg       0.54      0.95      0.54     42792\n",
            "weighted avg       0.99      0.90      0.94     42792\n",
            "\n"
          ],
          "name": "stdout"
        }
      ]
    },
    {
      "cell_type": "code",
      "metadata": {
        "id": "qAYNGSFUO8_p"
      },
      "source": [
        "from sklearn.metrics import confusion_matrix, ConfusionMatrixDisplay"
      ],
      "execution_count": 52,
      "outputs": []
    },
    {
      "cell_type": "code",
      "metadata": {
        "colab": {
          "base_uri": "https://localhost:8080/"
        },
        "id": "L18yRewO3RYJ",
        "outputId": "817affdb-c5ce-4f94-8a3d-e051042c31a8"
      },
      "source": [
        "confusion_matrix(y_true_train, y_pred_train)"
      ],
      "execution_count": 93,
      "outputs": [
        {
          "output_type": "execute_result",
          "data": {
            "text/plain": [
              "array([[  358,     0],\n",
              "       [ 4385, 38049]])"
            ]
          },
          "metadata": {
            "tags": []
          },
          "execution_count": 93
        }
      ]
    },
    {
      "cell_type": "code",
      "metadata": {
        "colab": {
          "base_uri": "https://localhost:8080/",
          "height": 297
        },
        "id": "85QNhwBBPfhB",
        "outputId": "2b909e04-3c45-459d-840e-dd8da10dba4c"
      },
      "source": [
        "ConfusionMatrixDisplay(confusion_matrix(y_true_train, y_pred_train)).plot()"
      ],
      "execution_count": 94,
      "outputs": [
        {
          "output_type": "execute_result",
          "data": {
            "text/plain": [
              "<sklearn.metrics._plot.confusion_matrix.ConfusionMatrixDisplay at 0x7ff274da1e50>"
            ]
          },
          "metadata": {
            "tags": []
          },
          "execution_count": 94
        },
        {
          "output_type": "display_data",
          "data": {
            "image/png": "[encoded data removed]",
            "text/plain": [
              "<Figure size 432x288 with 2 Axes>"
            ]
          },
          "metadata": {
            "tags": [],
            "needs_background": "light"
          }
        }
      ]
    },
    {
      "cell_type": "code",
      "metadata": {
        "id": "S9NsYkZmUI-S"
      },
      "source": [
        ""
      ],
      "execution_count": null,
      "outputs": []
    },
    {
      "cell_type": "markdown",
      "metadata": {
        "id": "gfgCjynEUJlB"
      },
      "source": [
        "### model test"
      ]
    },
    {
      "cell_type": "code",
      "metadata": {
        "id": "cIhqSartUJlC"
      },
      "source": [
        "y_pred_test = iForest.predict(df_test[[\"duration\", \"service\", \"src_bytes\", \"dst_bytes\"]].to_numpy())"
      ],
      "execution_count": 84,
      "outputs": []
    },
    {
      "cell_type": "code",
      "metadata": {
        "id": "6wsrCO0pUJlD"
      },
      "source": [
        "y_pred_test = convert_predict_to_target(y_pred_test)"
      ],
      "execution_count": 85,
      "outputs": []
    },
    {
      "cell_type": "code",
      "metadata": {
        "id": "qja8qsxwUJlD"
      },
      "source": [
        "y_true_test = df_test['target'].astype(int)"
      ],
      "execution_count": 86,
      "outputs": []
    },
    {
      "cell_type": "markdown",
      "metadata": {
        "id": "M0erO8PTUJlE"
      },
      "source": [
        "####model performance evaluation test"
      ]
    },
    {
      "cell_type": "code",
      "metadata": {
        "colab": {
          "base_uri": "https://localhost:8080/"
        },
        "id": "_5pGD7w3UJlF",
        "outputId": "dd8d97c9-9bde-4a51-8688-ec87e48bb837"
      },
      "source": [
        "print(classification_report(y_true_test, y_pred_test))"
      ],
      "execution_count": 87,
      "outputs": [
        {
          "output_type": "stream",
          "text": [
            "              precision    recall  f1-score   support\n",
            "\n",
            "           0       0.07      1.00      0.13        81\n",
            "           1       1.00      0.90      0.95     10618\n",
            "\n",
            "    accuracy                           0.90     10699\n",
            "   macro avg       0.54      0.95      0.54     10699\n",
            "weighted avg       0.99      0.90      0.94     10699\n",
            "\n"
          ],
          "name": "stdout"
        }
      ]
    },
    {
      "cell_type": "code",
      "metadata": {
        "colab": {
          "base_uri": "https://localhost:8080/"
        },
        "id": "X8hhKl5VUJlF",
        "outputId": "88b3ee49-c5f1-4367-e300-f2d41abe5250"
      },
      "source": [
        "confusion_matrix(y_true_test, y_pred_test)"
      ],
      "execution_count": 90,
      "outputs": [
        {
          "output_type": "execute_result",
          "data": {
            "text/plain": [
              "array([[  81,    0],\n",
              "       [1072, 9546]])"
            ]
          },
          "metadata": {
            "tags": []
          },
          "execution_count": 90
        }
      ]
    },
    {
      "cell_type": "code",
      "metadata": {
        "colab": {
          "base_uri": "https://localhost:8080/",
          "height": 297
        },
        "id": "8QdQdfI8UJlF",
        "outputId": "8653f9f9-b5b0-42a7-d002-7bfe03f192f3"
      },
      "source": [
        "ConfusionMatrixDisplay(confusion_matrix(y_true_test, y_pred_test)).plot()"
      ],
      "execution_count": 91,
      "outputs": [
        {
          "output_type": "execute_result",
          "data": {
            "text/plain": [
              "<sklearn.metrics._plot.confusion_matrix.ConfusionMatrixDisplay at 0x7ff275beaa10>"
            ]
          },
          "metadata": {
            "tags": []
          },
          "execution_count": 91
        },
        {
          "output_type": "display_data",
          "data": {
            "image/png": "[encoded data removed]",
            "text/plain": [
              "<Figure size 432x288 with 2 Axes>"
            ]
          },
          "metadata": {
            "tags": [],
            "needs_background": "light"
          }
        }
      ]
    },
    {
      "cell_type": "code",
      "metadata": {
        "id": "lJAr7yKWZC50"
      },
      "source": [
        ""
      ],
      "execution_count": null,
      "outputs": []
    },
    {
      "cell_type": "markdown",
      "metadata": {
        "id": "INdhiYDMZDi9"
      },
      "source": [
        "#build and evaluate an anomaly detector change "
      ]
    },
    {
      "cell_type": "markdown",
      "metadata": {
        "id": "kt9dWwKxZDi-"
      },
      "source": [
        "##model training"
      ]
    },
    {
      "cell_type": "code",
      "metadata": {
        "id": "pldys10eZDi_"
      },
      "source": [
        "from sklearn.ensemble import IsolationForest\n",
        "import sklearn.model_selection as ms"
      ],
      "execution_count": null,
      "outputs": []
    },
    {
      "cell_type": "code",
      "metadata": {
        "id": "ynbO2lgpZDi_"
      },
      "source": [
        "df_train, df_test = ms.train_test_split(df, test_size=0.2, random_state=42)"
      ],
      "execution_count": 95,
      "outputs": []
    },
    {
      "cell_type": "code",
      "metadata": {
        "id": "KLmvtDaDZDi_"
      },
      "source": [
        "iForest = IsolationForest(contamination=0.01)\n",
        "y_pred_train = iForest.fit_predict(df_train[[\"duration\", \"service\", \"src_bytes\", \"dst_bytes\"]].to_numpy())"
      ],
      "execution_count": 96,
      "outputs": []
    },
    {
      "cell_type": "code",
      "metadata": {
        "id": "BKK_ZTKpZDjA"
      },
      "source": [
        "#convert_labels = lambda y: (y < 0).astype(int)\n",
        "# df target ;  1 if x=='normal.' else  0\n",
        "# iF Returns; -1 for outliers and 1 for inliers.\n",
        "#convert_predict_to_target = lambda x: 0 if (x==-1) else 1\n",
        "convert_predict_to_target = lambda y: (y == 1).astype(int)"
      ],
      "execution_count": 97,
      "outputs": []
    },
    {
      "cell_type": "code",
      "metadata": {
        "id": "SjCqq_6VZDjA"
      },
      "source": [
        "y_pred_train = convert_predict_to_target(y_pred_train)"
      ],
      "execution_count": 98,
      "outputs": []
    },
    {
      "cell_type": "code",
      "metadata": {
        "id": "G4viLd_nZDjA"
      },
      "source": [
        "y_true_train = df_train['target'].astype(int)"
      ],
      "execution_count": 99,
      "outputs": []
    },
    {
      "cell_type": "markdown",
      "metadata": {
        "id": "Mi3kfzL8ZDjA"
      },
      "source": [
        "##model performance evaluation train"
      ]
    },
    {
      "cell_type": "code",
      "metadata": {
        "colab": {
          "base_uri": "https://localhost:8080/"
        },
        "id": "RaaZhvpbZDjB",
        "outputId": "cb576fd2-c518-4a5e-f068-fbb98793f331"
      },
      "source": [
        "from sklearn.metrics import classification_report\n",
        "print(classification_report(y_true_train, y_pred_train))"
      ],
      "execution_count": 101,
      "outputs": [
        {
          "output_type": "stream",
          "text": [
            "              precision    recall  f1-score   support\n",
            "\n",
            "           0       0.23      0.27      0.25       358\n",
            "           1       0.99      0.99      0.99     42434\n",
            "\n",
            "    accuracy                           0.99     42792\n",
            "   macro avg       0.61      0.63      0.62     42792\n",
            "weighted avg       0.99      0.99      0.99     42792\n",
            "\n"
          ],
          "name": "stdout"
        }
      ]
    },
    {
      "cell_type": "code",
      "metadata": {
        "colab": {
          "base_uri": "https://localhost:8080/"
        },
        "id": "hXU91degZDjC",
        "outputId": "1d724b09-7022-4b50-bc5e-e1fb19b050de"
      },
      "source": [
        "confusion_matrix(y_true_train, y_pred_train)"
      ],
      "execution_count": 102,
      "outputs": [
        {
          "output_type": "execute_result",
          "data": {
            "text/plain": [
              "array([[   98,   260],\n",
              "       [  330, 42104]])"
            ]
          },
          "metadata": {
            "tags": []
          },
          "execution_count": 102
        }
      ]
    },
    {
      "cell_type": "code",
      "metadata": {
        "colab": {
          "base_uri": "https://localhost:8080/",
          "height": 297
        },
        "id": "mj1ByK2JZDjC",
        "outputId": "2ed65fbd-7e80-4130-ee46-bc80a13a481f"
      },
      "source": [
        "ConfusionMatrixDisplay(confusion_matrix(y_true_train, y_pred_train)).plot()"
      ],
      "execution_count": 103,
      "outputs": [
        {
          "output_type": "execute_result",
          "data": {
            "text/plain": [
              "<sklearn.metrics._plot.confusion_matrix.ConfusionMatrixDisplay at 0x7ff2780707d0>"
            ]
          },
          "metadata": {
            "tags": []
          },
          "execution_count": 103
        },
        {
          "output_type": "display_data",
          "data": {
            "image/png": "[encoded data removed]",
            "text/plain": [
              "<Figure size 432x288 with 2 Axes>"
            ]
          },
          "metadata": {
            "tags": [],
            "needs_background": "light"
          }
        }
      ]
    },
    {
      "cell_type": "markdown",
      "metadata": {
        "id": "zQW74RYyZDjD"
      },
      "source": [
        "### model test"
      ]
    },
    {
      "cell_type": "code",
      "metadata": {
        "id": "DyvRUxoWZDjD"
      },
      "source": [
        "y_pred_test = iForest.predict(df_test[[\"duration\", \"service\", \"src_bytes\", \"dst_bytes\"]].to_numpy())"
      ],
      "execution_count": 104,
      "outputs": []
    },
    {
      "cell_type": "code",
      "metadata": {
        "id": "nW5pI_GHZDjD"
      },
      "source": [
        "y_pred_test = convert_predict_to_target(y_pred_test)"
      ],
      "execution_count": 105,
      "outputs": []
    },
    {
      "cell_type": "code",
      "metadata": {
        "id": "wQ5Wi9LhZDjD"
      },
      "source": [
        "y_true_test = df_test['target'].astype(int)"
      ],
      "execution_count": 106,
      "outputs": []
    },
    {
      "cell_type": "markdown",
      "metadata": {
        "id": "pB2LCJnEZDjD"
      },
      "source": [
        "####model performance evaluation test"
      ]
    },
    {
      "cell_type": "code",
      "metadata": {
        "colab": {
          "base_uri": "https://localhost:8080/"
        },
        "id": "U_rt6SWMZDjD",
        "outputId": "3458f540-92e2-4b51-ff7a-062977647b2d"
      },
      "source": [
        "print(classification_report(y_true_test, y_pred_test))"
      ],
      "execution_count": 107,
      "outputs": [
        {
          "output_type": "stream",
          "text": [
            "              precision    recall  f1-score   support\n",
            "\n",
            "           0       0.20      0.28      0.23        81\n",
            "           1       0.99      0.99      0.99     10618\n",
            "\n",
            "    accuracy                           0.99     10699\n",
            "   macro avg       0.60      0.64      0.61     10699\n",
            "weighted avg       0.99      0.99      0.99     10699\n",
            "\n"
          ],
          "name": "stdout"
        }
      ]
    },
    {
      "cell_type": "code",
      "metadata": {
        "colab": {
          "base_uri": "https://localhost:8080/"
        },
        "id": "41nnHIbSZDjE",
        "outputId": "692ab9de-4d00-43d7-8def-1285850d0852"
      },
      "source": [
        "confusion_matrix(y_true_test, y_pred_test)"
      ],
      "execution_count": 108,
      "outputs": [
        {
          "output_type": "execute_result",
          "data": {
            "text/plain": [
              "array([[   23,    58],\n",
              "       [   92, 10526]])"
            ]
          },
          "metadata": {
            "tags": []
          },
          "execution_count": 108
        }
      ]
    },
    {
      "cell_type": "code",
      "metadata": {
        "colab": {
          "base_uri": "https://localhost:8080/",
          "height": 297
        },
        "id": "9vVka7gEZDjE",
        "outputId": "510685e6-201d-434b-c0e9-a9e4902e361a"
      },
      "source": [
        "ConfusionMatrixDisplay(confusion_matrix(y_true_test, y_pred_test)).plot()"
      ],
      "execution_count": 109,
      "outputs": [
        {
          "output_type": "execute_result",
          "data": {
            "text/plain": [
              "<sklearn.metrics._plot.confusion_matrix.ConfusionMatrixDisplay at 0x7ff2787f65d0>"
            ]
          },
          "metadata": {
            "tags": []
          },
          "execution_count": 109
        },
        {
          "output_type": "display_data",
          "data": {
            "image/png": "[encoded data removed]",
            "text/plain": [
              "<Figure size 432x288 with 2 Axes>"
            ]
          },
          "metadata": {
            "tags": [],
            "needs_background": "light"
          }
        }
      ]
    },
    {
      "cell_type": "markdown",
      "metadata": {
        "id": "XJZrB0y6UKwI"
      },
      "source": [
        "# the end"
      ]
    },
    {
      "cell_type": "code",
      "metadata": {
        "id": "qMHNQxxsykp_"
      },
      "source": [
        "from sklearn.metrics import confusion_matrix, ConfusionMatrixDisplay\n",
        "y_true = [\"cat\", \"ant\", \"cat\", \"cat\", \"ant\", \"bird\"]\n",
        "y_pred = [\"ant\", \"ant\", \"cat\", \"cat\", \"ant\", \"cat\"]\n",
        "confusion_matrix(y_true, y_pred, labels=[\"ant\", \"bird\", \"cat\"])\n"
      ],
      "execution_count": null,
      "outputs": []
    },
    {
      "cell_type": "code",
      "metadata": {
        "id": "b-2DOqjK6-Hp"
      },
      "source": [
        " from sklearn.metrics import recall_score\n",
        " recall_score(y_true,y_pred,average='micro')"
      ],
      "execution_count": null,
      "outputs": []
    },
    {
      "cell_type": "code",
      "metadata": {
        "id": "sjXvRshJ7EEo"
      },
      "source": [
        "#recall_score(y_true,y_pred)"
      ],
      "execution_count": null,
      "outputs": []
    },
    {
      "cell_type": "code",
      "metadata": {
        "id": "Ducr_a1666v5"
      },
      "source": [
        "recall_score"
      ],
      "execution_count": null,
      "outputs": []
    },
    {
      "cell_type": "code",
      "metadata": {
        "id": "5TT3xH5M3SRw"
      },
      "source": [
        "#classification_report(y_true, y_pred, target_names=target_names)\n",
        "classification_report(y_true, y_pred)"
      ],
      "execution_count": null,
      "outputs": []
    },
    {
      "cell_type": "code",
      "metadata": {
        "id": "0yunI1ZB3ETl"
      },
      "source": [
        "cm = confusion_matrix(y_true, y_pred)\n",
        "recall = np.diag(cm) / np.sum(cm, axis = 1)\n",
        "precision = np.diag(cm) / np.sum(cm, axis = 0)"
      ],
      "execution_count": null,
      "outputs": []
    },
    {
      "cell_type": "code",
      "metadata": {
        "id": "jBtlKWez2c0T"
      },
      "source": [
        " from sklearn.metrics import precision_score\n",
        " precision_score(y_true,y_pred,average='micro')"
      ],
      "execution_count": null,
      "outputs": []
    },
    {
      "cell_type": "code",
      "metadata": {
        "id": "KIhZO3dW6mKj"
      },
      "source": [
        " from sklearn.metrics import recall_score\n",
        " recall_score(y_true,y_pred,average='micro')"
      ],
      "execution_count": null,
      "outputs": []
    },
    {
      "cell_type": "code",
      "metadata": {
        "id": "AEx1j13r6VlW"
      },
      "source": [
        "confusion_matrix([0, 1, 0, 1], [1, 1, 1, 0])"
      ],
      "execution_count": null,
      "outputs": []
    },
    {
      "cell_type": "code",
      "metadata": {
        "id": "AcR6aDbH5rIC"
      },
      "source": [
        "tn, fp, fn, tp = confusion_matrix([0, 1, 0, 1], [1, 1, 1, 0]).ravel()\n",
        "(tn, fp, fn, tp)"
      ],
      "execution_count": null,
      "outputs": []
    },
    {
      "cell_type": "code",
      "metadata": {
        "id": "x39xljRZ55vS"
      },
      "source": [
        "tn, fp, fn, tp = confusion_matrix([0, 1, 0, 1], [1, 1, 1, 0])\n",
        "(tn, fp, fn, tp)"
      ],
      "execution_count": null,
      "outputs": []
    }
  ]
}