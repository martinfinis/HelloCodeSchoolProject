{
  "nbformat": 4,
  "nbformat_minor": 0,
  "metadata": {
    "colab": {
      "name": "covid-19_V1_2_P_New_Base_Martin_Exploratory_Data_Analysis.ipynb",
      "provenance": [],
      "collapsed_sections": [
        "u8wK8O7oeNlh",
        "9EPXol9pels9",
        "Lb_HchK-epW_"
      ],
      "toc_visible": true,
      "machine_shape": "hm",
      "include_colab_link": true
    },
    "kernelspec": {
      "name": "python3",
      "display_name": "Python 3"
    },
    "language_info": {
      "name": "python"
    }
  },
  "cells": [
    {
      "cell_type": "markdown",
      "metadata": {
        "id": "view-in-github",
        "colab_type": "text"
      },
      "source": [
        "<a href=\"https://colab.research.google.com/github/martinfinis/HelloCodeSchoolProject/blob/master/covid_19_V1_2_P_New_Base_Martin_Exploratory_Data_Analysis.ipynb\" target=\"_parent\"><img src=\"https://colab.research.google.com/assets/colab-badge.svg\" alt=\"Open In Colab\"/></a>"
      ]
    },
    {
      "cell_type": "markdown",
      "metadata": {
        "id": "M-qejTAAaFiN"
      },
      "source": [
        "# Loading data"
      ]
    },
    {
      "cell_type": "code",
      "metadata": {
        "id": "Rq5kGdgfTh45"
      },
      "source": [
        "import pandas as pd\n",
        "import numpy as np\n",
        "import matplotlib.pyplot as plt\n",
        "import seaborn as sns\n",
        "import glob\n",
        "import time"
      ],
      "execution_count": 8,
      "outputs": []
    },
    {
      "cell_type": "code",
      "metadata": {
        "id": "c7ULD-yTD_0t",
        "colab": {
          "base_uri": "https://localhost:8080/"
        },
        "outputId": "2e4f3441-605d-4f05-988f-88400bd2efd8"
      },
      "source": [
        "# mount google drive to access dataset food\n",
        "from google.colab import drive\n",
        "drive.mount('/content/drive', force_remount=True)"
      ],
      "execution_count": 9,
      "outputs": [
        {
          "output_type": "stream",
          "text": [
            "Mounted at /content/drive\n"
          ],
          "name": "stdout"
        }
      ]
    },
    {
      "cell_type": "code",
      "metadata": {
        "id": "naIEkdnjEVUF",
        "colab": {
          "base_uri": "https://localhost:8080/"
        },
        "collapsed": true,
        "outputId": "79f85ff4-b26a-48af-a81a-1551a2bdf730"
      },
      "source": [
        "%cd /content/\n",
        "\n",
        "!unzip '/content/drive/.shortcut-targets-by-id/1lp7vo6EG60jba1Gk_tuNpvDm7q5ZXlKX/Telecom_Specialization_ML3/Students/Peter_Christoph_Marko_Martin/data/archive.zip'"
      ],
      "execution_count": 10,
      "outputs": [
        {
          "output_type": "stream",
          "text": [
            "/content\n",
            "Archive:  /content/drive/.shortcut-targets-by-id/1lp7vo6EG60jba1Gk_tuNpvDm7q5ZXlKX/Telecom_Specialization_ML3/Students/Peter_Christoph_Marko_Martin/data/archive.zip\n",
            "replace curated_data/curated_data/1NonCOVID/16_Morozov_study_0001_12.png? [y]es, [n]o, [A]ll, [N]one, [r]ename: N\n"
          ],
          "name": "stdout"
        }
      ]
    },
    {
      "cell_type": "code",
      "metadata": {
        "id": "jYFH_-SOqDAy"
      },
      "source": [
        "##### Inconsistency between file names and file names in meta data #####\n",
        "## ==> rename files to the names used in meta_data_covid.csv\n",
        "!mv \"/content/curated_data/curated_data/2COVID/17_Zhao_Recurrence-of-positive-SARS-CoV-2-RNA-in-C_2020_International-Journal-of-Inf-p1-21%0.png\" \"/content/curated_data/curated_data/2COVID/17_Zhao_Recurrence-of-COVID-19-SARS-CoV-2-RNA-in-C_2020_International-Journal-of-Inf-p1-21%0.png\"\n",
        "\n",
        "!mv \"/content/curated_data/curated_data/2COVID/17_Zhao_Recurrence-of-positive-SARS-CoV-2-RNA-in-C_2020_International-Journal-of-Inf-p1-21%1.png\" \"/content/curated_data/curated_data/2COVID/17_Zhao_Recurrence-of-COVID-19-SARS-CoV-2-RNA-in-C_2020_International-Journal-of-Inf-p1-21%1.png\""
      ],
      "execution_count": 11,
      "outputs": []
    },
    {
      "cell_type": "code",
      "metadata": {
        "id": "Psd9sPj7UKTT"
      },
      "source": [
        "#17_Zhao_Recurrence-of-COVID-19-SARS-CoV-2-RNA-in-C_2020_International-Journal-of-Inf-p1-21%0"
      ],
      "execution_count": 12,
      "outputs": []
    },
    {
      "cell_type": "code",
      "metadata": {
        "id": "SGo98zEWamHk"
      },
      "source": [
        "# Load data as dataframes\n",
        "df_meta_cap = pd.read_csv('meta_data_cap.csv')\n",
        "df_meta_covid = pd.read_csv('meta_data_covid.csv', encoding = \"ISO-8859-1\")\n",
        "df_meta_normal = pd.read_csv('meta_data_normal.csv')"
      ],
      "execution_count": 13,
      "outputs": []
    },
    {
      "cell_type": "markdown",
      "metadata": {
        "id": "7IB_oLe8aRQi"
      },
      "source": [
        "# Data analysis"
      ]
    },
    {
      "cell_type": "markdown",
      "metadata": {
        "id": "u8wK8O7oeNlh"
      },
      "source": [
        "### Analysis of df_meta_cap"
      ]
    },
    {
      "cell_type": "code",
      "metadata": {
        "colab": {
          "base_uri": "https://localhost:8080/",
          "height": 884
        },
        "id": "mEJa3Em5c7tk",
        "outputId": "fdec9392-bf30-425f-8922-497765eba958"
      },
      "source": [
        "# Get some information about df_meta_cap\n",
        "print(df_meta_cap.info())\n",
        "display(df_meta_cap.head())\n"
      ],
      "execution_count": 14,
      "outputs": [
        {
          "output_type": "stream",
          "text": [
            "<class 'pandas.core.frame.DataFrame'>\n",
            "RangeIndex: 2618 entries, 0 to 2617\n",
            "Data columns (total 21 columns):\n",
            " #   Column                       Non-Null Count  Dtype  \n",
            "---  ------                       --------------  -----  \n",
            " 0   index                        2618 non-null   int64  \n",
            " 1   File name                    2618 non-null   object \n",
            " 2   Patient ID                   2618 non-null   object \n",
            " 3   Slices_x                     2618 non-null   int64  \n",
            " 4   Columns                      2618 non-null   int64  \n",
            " 5   Date of Last Calibration     2618 non-null   int64  \n",
            " 6   Diagnosis                    2618 non-null   object \n",
            " 7   Distance Source to Detector  2618 non-null   int64  \n",
            " 8   Distance Source to Patient   2618 non-null   int64  \n",
            " 9   Exposure Time                2618 non-null   int64  \n",
            " 10  KVP                          2618 non-null   int64  \n",
            " 11  Age                          2618 non-null   int64  \n",
            " 12  Gender                       2618 non-null   object \n",
            " 13  Rows                         2618 non-null   int64  \n",
            " 14  Slice Thickness              2618 non-null   int64  \n",
            " 15  Slices_y                     2618 non-null   int64  \n",
            " 16  Study Date                   2618 non-null   int64  \n",
            " 17  XRayTubeCurrent              2618 non-null   int64  \n",
            " 18  Last Calibration             2618 non-null   object \n",
            " 19  mAs                          2618 non-null   float64\n",
            " 20  Country                      2618 non-null   object \n",
            "dtypes: float64(1), int64(14), object(6)\n",
            "memory usage: 429.6+ KB\n",
            "None\n"
          ],
          "name": "stdout"
        },
        {
          "output_type": "display_data",
          "data": {
            "text/html": [
              "<div>\n",
              "<style scoped>\n",
              "    .dataframe tbody tr th:only-of-type {\n",
              "        vertical-align: middle;\n",
              "    }\n",
              "\n",
              "    .dataframe tbody tr th {\n",
              "        vertical-align: top;\n",
              "    }\n",
              "\n",
              "    .dataframe thead th {\n",
              "        text-align: right;\n",
              "    }\n",
              "</style>\n",
              "<table border=\"1\" class=\"dataframe\">\n",
              "  <thead>\n",
              "    <tr style=\"text-align: right;\">\n",
              "      <th></th>\n",
              "      <th>index</th>\n",
              "      <th>File name</th>\n",
              "      <th>Patient ID</th>\n",
              "      <th>Slices_x</th>\n",
              "      <th>Columns</th>\n",
              "      <th>Date of Last Calibration</th>\n",
              "      <th>Diagnosis</th>\n",
              "      <th>Distance Source to Detector</th>\n",
              "      <th>Distance Source to Patient</th>\n",
              "      <th>Exposure Time</th>\n",
              "      <th>KVP</th>\n",
              "      <th>Age</th>\n",
              "      <th>Gender</th>\n",
              "      <th>Rows</th>\n",
              "      <th>Slice Thickness</th>\n",
              "      <th>Slices_y</th>\n",
              "      <th>Study Date</th>\n",
              "      <th>XRayTubeCurrent</th>\n",
              "      <th>Last Calibration</th>\n",
              "      <th>mAs</th>\n",
              "      <th>Country</th>\n",
              "    </tr>\n",
              "  </thead>\n",
              "  <tbody>\n",
              "    <tr>\n",
              "      <th>0</th>\n",
              "      <td>0</td>\n",
              "      <td>cap006_10.png</td>\n",
              "      <td>cap006</td>\n",
              "      <td>10</td>\n",
              "      <td>512</td>\n",
              "      <td>20180921</td>\n",
              "      <td>CAP</td>\n",
              "      <td>940</td>\n",
              "      <td>535</td>\n",
              "      <td>600</td>\n",
              "      <td>110</td>\n",
              "      <td>71</td>\n",
              "      <td>M</td>\n",
              "      <td>512</td>\n",
              "      <td>2</td>\n",
              "      <td>172</td>\n",
              "      <td>20180922</td>\n",
              "      <td>254</td>\n",
              "      <td>1 days 00:00:00.000000000</td>\n",
              "      <td>152.4</td>\n",
              "      <td>Iran</td>\n",
              "    </tr>\n",
              "    <tr>\n",
              "      <th>1</th>\n",
              "      <td>1</td>\n",
              "      <td>cap006_11.png</td>\n",
              "      <td>cap006</td>\n",
              "      <td>11</td>\n",
              "      <td>512</td>\n",
              "      <td>20180921</td>\n",
              "      <td>CAP</td>\n",
              "      <td>940</td>\n",
              "      <td>535</td>\n",
              "      <td>600</td>\n",
              "      <td>110</td>\n",
              "      <td>71</td>\n",
              "      <td>M</td>\n",
              "      <td>512</td>\n",
              "      <td>2</td>\n",
              "      <td>172</td>\n",
              "      <td>20180922</td>\n",
              "      <td>254</td>\n",
              "      <td>1 days 00:00:00.000000000</td>\n",
              "      <td>152.4</td>\n",
              "      <td>Iran</td>\n",
              "    </tr>\n",
              "    <tr>\n",
              "      <th>2</th>\n",
              "      <td>2</td>\n",
              "      <td>cap006_12.png</td>\n",
              "      <td>cap006</td>\n",
              "      <td>12</td>\n",
              "      <td>512</td>\n",
              "      <td>20180921</td>\n",
              "      <td>CAP</td>\n",
              "      <td>940</td>\n",
              "      <td>535</td>\n",
              "      <td>600</td>\n",
              "      <td>110</td>\n",
              "      <td>71</td>\n",
              "      <td>M</td>\n",
              "      <td>512</td>\n",
              "      <td>2</td>\n",
              "      <td>172</td>\n",
              "      <td>20180922</td>\n",
              "      <td>254</td>\n",
              "      <td>1 days 00:00:00.000000000</td>\n",
              "      <td>152.4</td>\n",
              "      <td>Iran</td>\n",
              "    </tr>\n",
              "    <tr>\n",
              "      <th>3</th>\n",
              "      <td>3</td>\n",
              "      <td>cap006_14.png</td>\n",
              "      <td>cap006</td>\n",
              "      <td>14</td>\n",
              "      <td>512</td>\n",
              "      <td>20180921</td>\n",
              "      <td>CAP</td>\n",
              "      <td>940</td>\n",
              "      <td>535</td>\n",
              "      <td>600</td>\n",
              "      <td>110</td>\n",
              "      <td>71</td>\n",
              "      <td>M</td>\n",
              "      <td>512</td>\n",
              "      <td>2</td>\n",
              "      <td>172</td>\n",
              "      <td>20180922</td>\n",
              "      <td>254</td>\n",
              "      <td>1 days 00:00:00.000000000</td>\n",
              "      <td>152.4</td>\n",
              "      <td>Iran</td>\n",
              "    </tr>\n",
              "    <tr>\n",
              "      <th>4</th>\n",
              "      <td>4</td>\n",
              "      <td>cap006_15.png</td>\n",
              "      <td>cap006</td>\n",
              "      <td>15</td>\n",
              "      <td>512</td>\n",
              "      <td>20180921</td>\n",
              "      <td>CAP</td>\n",
              "      <td>940</td>\n",
              "      <td>535</td>\n",
              "      <td>600</td>\n",
              "      <td>110</td>\n",
              "      <td>71</td>\n",
              "      <td>M</td>\n",
              "      <td>512</td>\n",
              "      <td>2</td>\n",
              "      <td>172</td>\n",
              "      <td>20180922</td>\n",
              "      <td>254</td>\n",
              "      <td>1 days 00:00:00.000000000</td>\n",
              "      <td>152.4</td>\n",
              "      <td>Iran</td>\n",
              "    </tr>\n",
              "  </tbody>\n",
              "</table>\n",
              "</div>"
            ],
            "text/plain": [
              "   index      File name Patient ID  ...           Last Calibration    mAs  Country\n",
              "0      0  cap006_10.png     cap006  ...  1 days 00:00:00.000000000  152.4     Iran\n",
              "1      1  cap006_11.png     cap006  ...  1 days 00:00:00.000000000  152.4     Iran\n",
              "2      2  cap006_12.png     cap006  ...  1 days 00:00:00.000000000  152.4     Iran\n",
              "3      3  cap006_14.png     cap006  ...  1 days 00:00:00.000000000  152.4     Iran\n",
              "4      4  cap006_15.png     cap006  ...  1 days 00:00:00.000000000  152.4     Iran\n",
              "\n",
              "[5 rows x 21 columns]"
            ]
          },
          "metadata": {
            "tags": []
          }
        }
      ]
    },
    {
      "cell_type": "code",
      "metadata": {
        "colab": {
          "base_uri": "https://localhost:8080/",
          "height": 120
        },
        "id": "PwLnrswCgReb",
        "outputId": "62a98b53-fb33-4721-dbae-915dffb76881"
      },
      "source": [
        "df_meta_cap.loc[df_meta_cap.duplicated(),:]  # get duplicates"
      ],
      "execution_count": 15,
      "outputs": [
        {
          "output_type": "execute_result",
          "data": {
            "text/html": [
              "<div>\n",
              "<style scoped>\n",
              "    .dataframe tbody tr th:only-of-type {\n",
              "        vertical-align: middle;\n",
              "    }\n",
              "\n",
              "    .dataframe tbody tr th {\n",
              "        vertical-align: top;\n",
              "    }\n",
              "\n",
              "    .dataframe thead th {\n",
              "        text-align: right;\n",
              "    }\n",
              "</style>\n",
              "<table border=\"1\" class=\"dataframe\">\n",
              "  <thead>\n",
              "    <tr style=\"text-align: right;\">\n",
              "      <th></th>\n",
              "      <th>index</th>\n",
              "      <th>File name</th>\n",
              "      <th>Patient ID</th>\n",
              "      <th>Slices_x</th>\n",
              "      <th>Columns</th>\n",
              "      <th>Date of Last Calibration</th>\n",
              "      <th>Diagnosis</th>\n",
              "      <th>Distance Source to Detector</th>\n",
              "      <th>Distance Source to Patient</th>\n",
              "      <th>Exposure Time</th>\n",
              "      <th>KVP</th>\n",
              "      <th>Age</th>\n",
              "      <th>Gender</th>\n",
              "      <th>Rows</th>\n",
              "      <th>Slice Thickness</th>\n",
              "      <th>Slices_y</th>\n",
              "      <th>Study Date</th>\n",
              "      <th>XRayTubeCurrent</th>\n",
              "      <th>Last Calibration</th>\n",
              "      <th>mAs</th>\n",
              "      <th>Country</th>\n",
              "    </tr>\n",
              "  </thead>\n",
              "  <tbody>\n",
              "  </tbody>\n",
              "</table>\n",
              "</div>"
            ],
            "text/plain": [
              "Empty DataFrame\n",
              "Columns: [index, File name, Patient ID, Slices_x, Columns, Date of Last Calibration, Diagnosis, Distance Source to Detector, Distance Source to Patient, Exposure Time, KVP, Age, Gender, Rows, Slice Thickness, Slices_y, Study Date, XRayTubeCurrent, Last Calibration, mAs, Country]\n",
              "Index: []"
            ]
          },
          "metadata": {
            "tags": []
          },
          "execution_count": 15
        }
      ]
    },
    {
      "cell_type": "code",
      "metadata": {
        "colab": {
          "base_uri": "https://localhost:8080/"
        },
        "id": "A9iq68Sec1kx",
        "outputId": "49699114-8685-4b63-dcda-e552028ceb4d"
      },
      "source": [
        "df_meta_cap['Country'].unique()     # unique countries"
      ],
      "execution_count": 16,
      "outputs": [
        {
          "output_type": "execute_result",
          "data": {
            "text/plain": [
              "array(['Iran'], dtype=object)"
            ]
          },
          "metadata": {
            "tags": []
          },
          "execution_count": 16
        }
      ]
    },
    {
      "cell_type": "code",
      "metadata": {
        "colab": {
          "base_uri": "https://localhost:8080/"
        },
        "id": "RwMwbLvfdb88",
        "outputId": "9feb43f8-c311-43d0-9d6b-8e2a65069048"
      },
      "source": [
        "df_meta_cap['Patient ID'].nunique() # number of unique patients"
      ],
      "execution_count": 17,
      "outputs": [
        {
          "output_type": "execute_result",
          "data": {
            "text/plain": [
              "54"
            ]
          },
          "metadata": {
            "tags": []
          },
          "execution_count": 17
        }
      ]
    },
    {
      "cell_type": "code",
      "metadata": {
        "colab": {
          "base_uri": "https://localhost:8080/"
        },
        "id": "5WtDE0JUd675",
        "outputId": "6d716c05-83de-4499-eb2c-599855ad27de"
      },
      "source": [
        "df_meta_cap['Age'].unique()         # unique ages"
      ],
      "execution_count": 18,
      "outputs": [
        {
          "output_type": "execute_result",
          "data": {
            "text/plain": [
              "array([71, 54, 38, 68, 84, 65, 94, 44, 29, 87, 13, 59, 40, 52, 34, 22, 32,\n",
              "       25, 80, 46, 70, 21, 51, 30, 26, 76, 56, 62, 77, 75, 39, 83, 48, 73,\n",
              "       74, 55, 93, 37, 89, 58, 67, 12])"
            ]
          },
          "metadata": {
            "tags": []
          },
          "execution_count": 18
        }
      ]
    },
    {
      "cell_type": "code",
      "metadata": {
        "colab": {
          "base_uri": "https://localhost:8080/",
          "height": 265
        },
        "id": "_CBlU68qfNJv",
        "outputId": "fa0c8eb1-1363-40bb-c994-4ae4c95a06bb"
      },
      "source": [
        "# Display age distribution\n",
        "df_meta_cap.Age.plot(kind='hist')\n",
        "plt.show()"
      ],
      "execution_count": 19,
      "outputs": [
        {
          "output_type": "display_data",
          "data": {
            "image/png": "[encoded data removed]",
            "text/plain": [
              "<Figure size 432x288 with 1 Axes>"
            ]
          },
          "metadata": {
            "tags": [],
            "needs_background": "light"
          }
        }
      ]
    },
    {
      "cell_type": "markdown",
      "metadata": {
        "id": "9EPXol9pels9"
      },
      "source": [
        "### Analysis of df_meta_covid"
      ]
    },
    {
      "cell_type": "code",
      "metadata": {
        "colab": {
          "base_uri": "https://localhost:8080/",
          "height": 120
        },
        "id": "nHWNDoSEgwJx",
        "outputId": "aefce1de-17c9-4597-e34e-b00589b64ec3"
      },
      "source": [
        "df_meta_covid.loc[df_meta_covid.duplicated(),:]  # get duplicates"
      ],
      "execution_count": 20,
      "outputs": [
        {
          "output_type": "execute_result",
          "data": {
            "text/html": [
              "<div>\n",
              "<style scoped>\n",
              "    .dataframe tbody tr th:only-of-type {\n",
              "        vertical-align: middle;\n",
              "    }\n",
              "\n",
              "    .dataframe tbody tr th {\n",
              "        vertical-align: top;\n",
              "    }\n",
              "\n",
              "    .dataframe thead th {\n",
              "        text-align: right;\n",
              "    }\n",
              "</style>\n",
              "<table border=\"1\" class=\"dataframe\">\n",
              "  <thead>\n",
              "    <tr style=\"text-align: right;\">\n",
              "      <th></th>\n",
              "      <th>index</th>\n",
              "      <th>File name</th>\n",
              "      <th>Patient ID</th>\n",
              "      <th>Gender</th>\n",
              "      <th>Age</th>\n",
              "      <th>Country</th>\n",
              "      <th>Diagnosis</th>\n",
              "      <th>Slice</th>\n",
              "      <th>Case Discussion</th>\n",
              "      <th>Case Number</th>\n",
              "      <th>Columns</th>\n",
              "      <th>Date</th>\n",
              "      <th>Date of Last Calibration</th>\n",
              "      <th>Distance Source to Detector</th>\n",
              "      <th>Distance Source to Patient</th>\n",
              "      <th>Exposure Time</th>\n",
              "      <th>Image Source</th>\n",
              "      <th>Institution</th>\n",
              "      <th>KVP</th>\n",
              "      <th>Last Calibration</th>\n",
              "      <th>Link</th>\n",
              "      <th>Link2</th>\n",
              "      <th>Other diseases</th>\n",
              "      <th>Presentation</th>\n",
              "      <th>RT_PCR_COVID-19</th>\n",
              "      <th>Rows</th>\n",
              "      <th>Severity</th>\n",
              "      <th>Slice Thickness</th>\n",
              "      <th>Slices</th>\n",
              "      <th>Source_detail</th>\n",
              "      <th>Time</th>\n",
              "      <th>XRayTubeCurrent</th>\n",
              "      <th>category</th>\n",
              "      <th>doi</th>\n",
              "      <th>finding</th>\n",
              "      <th>in_icu</th>\n",
              "      <th>intubated</th>\n",
              "      <th>intubation_present</th>\n",
              "      <th>license</th>\n",
              "      <th>mAs</th>\n",
              "      <th>mask_file</th>\n",
              "      <th>needed_supplemental_O2</th>\n",
              "      <th>study_file</th>\n",
              "      <th>survival</th>\n",
              "      <th>went_icu</th>\n",
              "    </tr>\n",
              "  </thead>\n",
              "  <tbody>\n",
              "  </tbody>\n",
              "</table>\n",
              "</div>"
            ],
            "text/plain": [
              "Empty DataFrame\n",
              "Columns: [index, File name, Patient ID, Gender, Age, Country, Diagnosis, Slice, Case Discussion, Case Number, Columns, Date, Date of Last Calibration, Distance Source to Detector, Distance Source to Patient, Exposure Time, Image Source, Institution, KVP, Last Calibration, Link, Link2, Other diseases, Presentation, RT_PCR_COVID-19, Rows, Severity, Slice Thickness, Slices, Source_detail, Time, XRayTubeCurrent, category, doi, finding, in_icu, intubated, intubation_present, license, mAs, mask_file, needed_supplemental_O2, study_file, survival, went_icu]\n",
              "Index: []"
            ]
          },
          "metadata": {
            "tags": []
          },
          "execution_count": 20
        }
      ]
    },
    {
      "cell_type": "code",
      "metadata": {
        "colab": {
          "base_uri": "https://localhost:8080/",
          "height": 1000
        },
        "id": "WotgSpKGeozC",
        "outputId": "f43eaaad-bbe4-4ce4-847c-2789ecf27bbf"
      },
      "source": [
        "# Get some information about df_meta_covid\n",
        "print(df_meta_covid.info())\n",
        "display(df_meta_covid.head())"
      ],
      "execution_count": 21,
      "outputs": [
        {
          "output_type": "stream",
          "text": [
            "<class 'pandas.core.frame.DataFrame'>\n",
            "RangeIndex: 7593 entries, 0 to 7592\n",
            "Data columns (total 45 columns):\n",
            " #   Column                       Non-Null Count  Dtype  \n",
            "---  ------                       --------------  -----  \n",
            " 0   index                        7593 non-null   int64  \n",
            " 1   File name                    7593 non-null   object \n",
            " 2   Patient ID                   7593 non-null   object \n",
            " 3   Gender                       7593 non-null   object \n",
            " 4   Age                          7593 non-null   object \n",
            " 5   Country                      7593 non-null   object \n",
            " 6   Diagnosis                    7593 non-null   object \n",
            " 7   Slice                        7210 non-null   float64\n",
            " 8   Case Discussion              493 non-null    object \n",
            " 9   Case Number                  1944 non-null   object \n",
            " 10  Columns                      3815 non-null   float64\n",
            " 11  Date                         4491 non-null   object \n",
            " 12  Date of Last Calibration     3815 non-null   float64\n",
            " 13  Distance Source to Detector  3815 non-null   float64\n",
            " 14  Distance Source to Patient   3815 non-null   float64\n",
            " 15  Exposure Time                3815 non-null   float64\n",
            " 16  Image Source                 1944 non-null   object \n",
            " 17  Institution                  7110 non-null   object \n",
            " 18  KVP                          3815 non-null   float64\n",
            " 19  Last Calibration             3815 non-null   object \n",
            " 20  Link                         527 non-null    object \n",
            " 21  Link2                        493 non-null    object \n",
            " 22  Other diseases               19 non-null     object \n",
            " 23  Presentation                 537 non-null    object \n",
            " 24  RT_PCR_COVID-19              34 non-null     object \n",
            " 25  Rows                         3815 non-null   float64\n",
            " 26  Severity                     178 non-null    object \n",
            " 27  Slice Thickness              3815 non-null   float64\n",
            " 28  Slices                       3815 non-null   float64\n",
            " 29  Source_detail                1844 non-null   object \n",
            " 30  Time                         134 non-null    object \n",
            " 31  XRayTubeCurrent              3815 non-null   float64\n",
            " 32  category                     785 non-null    object \n",
            " 33  doi                          213 non-null    object \n",
            " 34  finding                      863 non-null    object \n",
            " 35  in_icu                       8 non-null      object \n",
            " 36  intubated                    15 non-null     object \n",
            " 37  intubation_present           15 non-null     object \n",
            " 38  license                      34 non-null     object \n",
            " 39  mAs                          3815 non-null   float64\n",
            " 40  mask_file                    785 non-null    object \n",
            " 41  needed_supplemental_O2       4 non-null      object \n",
            " 42  study_file                   785 non-null    object \n",
            " 43  survival                     13 non-null     object \n",
            " 44  went_icu                     8 non-null      object \n",
            "dtypes: float64(12), int64(1), object(32)\n",
            "memory usage: 2.6+ MB\n",
            "None\n"
          ],
          "name": "stdout"
        },
        {
          "output_type": "display_data",
          "data": {
            "text/html": [
              "<div>\n",
              "<style scoped>\n",
              "    .dataframe tbody tr th:only-of-type {\n",
              "        vertical-align: middle;\n",
              "    }\n",
              "\n",
              "    .dataframe tbody tr th {\n",
              "        vertical-align: top;\n",
              "    }\n",
              "\n",
              "    .dataframe thead th {\n",
              "        text-align: right;\n",
              "    }\n",
              "</style>\n",
              "<table border=\"1\" class=\"dataframe\">\n",
              "  <thead>\n",
              "    <tr style=\"text-align: right;\">\n",
              "      <th></th>\n",
              "      <th>index</th>\n",
              "      <th>File name</th>\n",
              "      <th>Patient ID</th>\n",
              "      <th>Gender</th>\n",
              "      <th>Age</th>\n",
              "      <th>Country</th>\n",
              "      <th>Diagnosis</th>\n",
              "      <th>Slice</th>\n",
              "      <th>Case Discussion</th>\n",
              "      <th>Case Number</th>\n",
              "      <th>Columns</th>\n",
              "      <th>Date</th>\n",
              "      <th>Date of Last Calibration</th>\n",
              "      <th>Distance Source to Detector</th>\n",
              "      <th>Distance Source to Patient</th>\n",
              "      <th>Exposure Time</th>\n",
              "      <th>Image Source</th>\n",
              "      <th>Institution</th>\n",
              "      <th>KVP</th>\n",
              "      <th>Last Calibration</th>\n",
              "      <th>Link</th>\n",
              "      <th>Link2</th>\n",
              "      <th>Other diseases</th>\n",
              "      <th>Presentation</th>\n",
              "      <th>RT_PCR_COVID-19</th>\n",
              "      <th>Rows</th>\n",
              "      <th>Severity</th>\n",
              "      <th>Slice Thickness</th>\n",
              "      <th>Slices</th>\n",
              "      <th>Source_detail</th>\n",
              "      <th>Time</th>\n",
              "      <th>XRayTubeCurrent</th>\n",
              "      <th>category</th>\n",
              "      <th>doi</th>\n",
              "      <th>finding</th>\n",
              "      <th>in_icu</th>\n",
              "      <th>intubated</th>\n",
              "      <th>intubation_present</th>\n",
              "      <th>license</th>\n",
              "      <th>mAs</th>\n",
              "      <th>mask_file</th>\n",
              "      <th>needed_supplemental_O2</th>\n",
              "      <th>study_file</th>\n",
              "      <th>survival</th>\n",
              "      <th>went_icu</th>\n",
              "    </tr>\n",
              "  </thead>\n",
              "  <tbody>\n",
              "    <tr>\n",
              "      <th>0</th>\n",
              "      <td>0</td>\n",
              "      <td>6_Rahimzadeh_137covid_patient101_SR_4_IM00006.png</td>\n",
              "      <td>patient101</td>\n",
              "      <td>F</td>\n",
              "      <td>51</td>\n",
              "      <td>Iran</td>\n",
              "      <td>COVID-19</td>\n",
              "      <td>6.0</td>\n",
              "      <td>NaN</td>\n",
              "      <td>NaN</td>\n",
              "      <td>NaN</td>\n",
              "      <td>20200328</td>\n",
              "      <td>NaN</td>\n",
              "      <td>NaN</td>\n",
              "      <td>NaN</td>\n",
              "      <td>NaN</td>\n",
              "      <td>NaN</td>\n",
              "      <td>Negin radiology located at Sari</td>\n",
              "      <td>NaN</td>\n",
              "      <td>NaN</td>\n",
              "      <td>NaN</td>\n",
              "      <td>NaN</td>\n",
              "      <td>NaN</td>\n",
              "      <td>NaN</td>\n",
              "      <td>NaN</td>\n",
              "      <td>NaN</td>\n",
              "      <td>NaN</td>\n",
              "      <td>NaN</td>\n",
              "      <td>NaN</td>\n",
              "      <td>NaN</td>\n",
              "      <td>NaN</td>\n",
              "      <td>NaN</td>\n",
              "      <td>NaN</td>\n",
              "      <td>NaN</td>\n",
              "      <td>NaN</td>\n",
              "      <td>NaN</td>\n",
              "      <td>NaN</td>\n",
              "      <td>NaN</td>\n",
              "      <td>NaN</td>\n",
              "      <td>NaN</td>\n",
              "      <td>NaN</td>\n",
              "      <td>NaN</td>\n",
              "      <td>NaN</td>\n",
              "      <td>NaN</td>\n",
              "      <td>NaN</td>\n",
              "    </tr>\n",
              "    <tr>\n",
              "      <th>1</th>\n",
              "      <td>1</td>\n",
              "      <td>6_Rahimzadeh_137covid_patient101_SR_4_IM00008.png</td>\n",
              "      <td>patient101</td>\n",
              "      <td>F</td>\n",
              "      <td>51</td>\n",
              "      <td>Iran</td>\n",
              "      <td>COVID-19</td>\n",
              "      <td>8.0</td>\n",
              "      <td>NaN</td>\n",
              "      <td>NaN</td>\n",
              "      <td>NaN</td>\n",
              "      <td>20200328</td>\n",
              "      <td>NaN</td>\n",
              "      <td>NaN</td>\n",
              "      <td>NaN</td>\n",
              "      <td>NaN</td>\n",
              "      <td>NaN</td>\n",
              "      <td>Negin radiology located at Sari</td>\n",
              "      <td>NaN</td>\n",
              "      <td>NaN</td>\n",
              "      <td>NaN</td>\n",
              "      <td>NaN</td>\n",
              "      <td>NaN</td>\n",
              "      <td>NaN</td>\n",
              "      <td>NaN</td>\n",
              "      <td>NaN</td>\n",
              "      <td>NaN</td>\n",
              "      <td>NaN</td>\n",
              "      <td>NaN</td>\n",
              "      <td>NaN</td>\n",
              "      <td>NaN</td>\n",
              "      <td>NaN</td>\n",
              "      <td>NaN</td>\n",
              "      <td>NaN</td>\n",
              "      <td>NaN</td>\n",
              "      <td>NaN</td>\n",
              "      <td>NaN</td>\n",
              "      <td>NaN</td>\n",
              "      <td>NaN</td>\n",
              "      <td>NaN</td>\n",
              "      <td>NaN</td>\n",
              "      <td>NaN</td>\n",
              "      <td>NaN</td>\n",
              "      <td>NaN</td>\n",
              "      <td>NaN</td>\n",
              "    </tr>\n",
              "    <tr>\n",
              "      <th>2</th>\n",
              "      <td>2</td>\n",
              "      <td>6_Rahimzadeh_137covid_patient101_SR_4_IM00009.png</td>\n",
              "      <td>patient101</td>\n",
              "      <td>F</td>\n",
              "      <td>51</td>\n",
              "      <td>Iran</td>\n",
              "      <td>COVID-19</td>\n",
              "      <td>9.0</td>\n",
              "      <td>NaN</td>\n",
              "      <td>NaN</td>\n",
              "      <td>NaN</td>\n",
              "      <td>20200328</td>\n",
              "      <td>NaN</td>\n",
              "      <td>NaN</td>\n",
              "      <td>NaN</td>\n",
              "      <td>NaN</td>\n",
              "      <td>NaN</td>\n",
              "      <td>Negin radiology located at Sari</td>\n",
              "      <td>NaN</td>\n",
              "      <td>NaN</td>\n",
              "      <td>NaN</td>\n",
              "      <td>NaN</td>\n",
              "      <td>NaN</td>\n",
              "      <td>NaN</td>\n",
              "      <td>NaN</td>\n",
              "      <td>NaN</td>\n",
              "      <td>NaN</td>\n",
              "      <td>NaN</td>\n",
              "      <td>NaN</td>\n",
              "      <td>NaN</td>\n",
              "      <td>NaN</td>\n",
              "      <td>NaN</td>\n",
              "      <td>NaN</td>\n",
              "      <td>NaN</td>\n",
              "      <td>NaN</td>\n",
              "      <td>NaN</td>\n",
              "      <td>NaN</td>\n",
              "      <td>NaN</td>\n",
              "      <td>NaN</td>\n",
              "      <td>NaN</td>\n",
              "      <td>NaN</td>\n",
              "      <td>NaN</td>\n",
              "      <td>NaN</td>\n",
              "      <td>NaN</td>\n",
              "      <td>NaN</td>\n",
              "    </tr>\n",
              "    <tr>\n",
              "      <th>3</th>\n",
              "      <td>3</td>\n",
              "      <td>6_Rahimzadeh_137covid_patient101_SR_4_IM00010.png</td>\n",
              "      <td>patient101</td>\n",
              "      <td>F</td>\n",
              "      <td>51</td>\n",
              "      <td>Iran</td>\n",
              "      <td>COVID-19</td>\n",
              "      <td>10.0</td>\n",
              "      <td>NaN</td>\n",
              "      <td>NaN</td>\n",
              "      <td>NaN</td>\n",
              "      <td>20200328</td>\n",
              "      <td>NaN</td>\n",
              "      <td>NaN</td>\n",
              "      <td>NaN</td>\n",
              "      <td>NaN</td>\n",
              "      <td>NaN</td>\n",
              "      <td>Negin radiology located at Sari</td>\n",
              "      <td>NaN</td>\n",
              "      <td>NaN</td>\n",
              "      <td>NaN</td>\n",
              "      <td>NaN</td>\n",
              "      <td>NaN</td>\n",
              "      <td>NaN</td>\n",
              "      <td>NaN</td>\n",
              "      <td>NaN</td>\n",
              "      <td>NaN</td>\n",
              "      <td>NaN</td>\n",
              "      <td>NaN</td>\n",
              "      <td>NaN</td>\n",
              "      <td>NaN</td>\n",
              "      <td>NaN</td>\n",
              "      <td>NaN</td>\n",
              "      <td>NaN</td>\n",
              "      <td>NaN</td>\n",
              "      <td>NaN</td>\n",
              "      <td>NaN</td>\n",
              "      <td>NaN</td>\n",
              "      <td>NaN</td>\n",
              "      <td>NaN</td>\n",
              "      <td>NaN</td>\n",
              "      <td>NaN</td>\n",
              "      <td>NaN</td>\n",
              "      <td>NaN</td>\n",
              "      <td>NaN</td>\n",
              "    </tr>\n",
              "    <tr>\n",
              "      <th>4</th>\n",
              "      <td>4</td>\n",
              "      <td>6_Rahimzadeh_137covid_patient101_SR_4_IM00011.png</td>\n",
              "      <td>patient101</td>\n",
              "      <td>F</td>\n",
              "      <td>51</td>\n",
              "      <td>Iran</td>\n",
              "      <td>COVID-19</td>\n",
              "      <td>11.0</td>\n",
              "      <td>NaN</td>\n",
              "      <td>NaN</td>\n",
              "      <td>NaN</td>\n",
              "      <td>20200328</td>\n",
              "      <td>NaN</td>\n",
              "      <td>NaN</td>\n",
              "      <td>NaN</td>\n",
              "      <td>NaN</td>\n",
              "      <td>NaN</td>\n",
              "      <td>Negin radiology located at Sari</td>\n",
              "      <td>NaN</td>\n",
              "      <td>NaN</td>\n",
              "      <td>NaN</td>\n",
              "      <td>NaN</td>\n",
              "      <td>NaN</td>\n",
              "      <td>NaN</td>\n",
              "      <td>NaN</td>\n",
              "      <td>NaN</td>\n",
              "      <td>NaN</td>\n",
              "      <td>NaN</td>\n",
              "      <td>NaN</td>\n",
              "      <td>NaN</td>\n",
              "      <td>NaN</td>\n",
              "      <td>NaN</td>\n",
              "      <td>NaN</td>\n",
              "      <td>NaN</td>\n",
              "      <td>NaN</td>\n",
              "      <td>NaN</td>\n",
              "      <td>NaN</td>\n",
              "      <td>NaN</td>\n",
              "      <td>NaN</td>\n",
              "      <td>NaN</td>\n",
              "      <td>NaN</td>\n",
              "      <td>NaN</td>\n",
              "      <td>NaN</td>\n",
              "      <td>NaN</td>\n",
              "      <td>NaN</td>\n",
              "    </tr>\n",
              "  </tbody>\n",
              "</table>\n",
              "</div>"
            ],
            "text/plain": [
              "   index                                          File name  ... survival went_icu\n",
              "0      0  6_Rahimzadeh_137covid_patient101_SR_4_IM00006.png  ...      NaN      NaN\n",
              "1      1  6_Rahimzadeh_137covid_patient101_SR_4_IM00008.png  ...      NaN      NaN\n",
              "2      2  6_Rahimzadeh_137covid_patient101_SR_4_IM00009.png  ...      NaN      NaN\n",
              "3      3  6_Rahimzadeh_137covid_patient101_SR_4_IM00010.png  ...      NaN      NaN\n",
              "4      4  6_Rahimzadeh_137covid_patient101_SR_4_IM00011.png  ...      NaN      NaN\n",
              "\n",
              "[5 rows x 45 columns]"
            ]
          },
          "metadata": {
            "tags": []
          }
        }
      ]
    },
    {
      "cell_type": "code",
      "metadata": {
        "colab": {
          "base_uri": "https://localhost:8080/"
        },
        "id": "rY6beaAIgA1a",
        "outputId": "7c13bac3-53ac-4f4b-b387-0b94a7a6ee5d"
      },
      "source": [
        "df_meta_covid['Country'].unique()     # unique countries"
      ],
      "execution_count": 22,
      "outputs": [
        {
          "output_type": "execute_result",
          "data": {
            "text/plain": [
              "array(['Iran', 'Italy', 'China', '-', 'Turkey', 'Ukraine', 'Belgium',\n",
              "       'South Korea', 'Taiwan', 'Spain', 'Portugal', 'Greece', 'Russia',\n",
              "       'Japan'], dtype=object)"
            ]
          },
          "metadata": {
            "tags": []
          },
          "execution_count": 22
        }
      ]
    },
    {
      "cell_type": "code",
      "metadata": {
        "colab": {
          "base_uri": "https://localhost:8080/"
        },
        "id": "uTAwWL8mgIZp",
        "outputId": "4cedc672-57d2-4fe2-aa60-e23cf32a7512"
      },
      "source": [
        "df_meta_covid['Patient ID'].nunique() # number of unique patients"
      ],
      "execution_count": 23,
      "outputs": [
        {
          "output_type": "execute_result",
          "data": {
            "text/plain": [
              "464"
            ]
          },
          "metadata": {
            "tags": []
          },
          "execution_count": 23
        }
      ]
    },
    {
      "cell_type": "code",
      "metadata": {
        "id": "zjcSClR1gOQ5"
      },
      "source": [
        ""
      ],
      "execution_count": 23,
      "outputs": []
    },
    {
      "cell_type": "markdown",
      "metadata": {
        "id": "Lb_HchK-epW_"
      },
      "source": [
        "### Analysis of df_meta_normal"
      ]
    },
    {
      "cell_type": "code",
      "metadata": {
        "id": "oKvNz-BMesMh"
      },
      "source": [
        ""
      ],
      "execution_count": 23,
      "outputs": []
    },
    {
      "cell_type": "code",
      "metadata": {
        "id": "W-6lmTmaTm8_"
      },
      "source": [
        ""
      ],
      "execution_count": 23,
      "outputs": []
    },
    {
      "cell_type": "code",
      "metadata": {
        "id": "bx4rklYwmsu0"
      },
      "source": [
        ""
      ],
      "execution_count": 23,
      "outputs": []
    },
    {
      "cell_type": "markdown",
      "metadata": {
        "id": "xmtMMvbCVk1i"
      },
      "source": [
        "# import cvs data and merge"
      ]
    },
    {
      "cell_type": "code",
      "metadata": {
        "colab": {
          "base_uri": "https://localhost:8080/",
          "height": 262
        },
        "id": "vMoYBwCeVQDE",
        "outputId": "1130e0a7-0121-4bce-d723-62aadbf2b34c"
      },
      "source": [
        "import pandas as pd\n",
        "df_cap = pd.read_csv('/content/meta_data_cap.csv',delimiter=',', index_col=0)\n",
        "df_cap = df_cap.reset_index(drop=True)\n",
        "df_cap.head(3)"
      ],
      "execution_count": 24,
      "outputs": [
        {
          "output_type": "execute_result",
          "data": {
            "text/html": [
              "<div>\n",
              "<style scoped>\n",
              "    .dataframe tbody tr th:only-of-type {\n",
              "        vertical-align: middle;\n",
              "    }\n",
              "\n",
              "    .dataframe tbody tr th {\n",
              "        vertical-align: top;\n",
              "    }\n",
              "\n",
              "    .dataframe thead th {\n",
              "        text-align: right;\n",
              "    }\n",
              "</style>\n",
              "<table border=\"1\" class=\"dataframe\">\n",
              "  <thead>\n",
              "    <tr style=\"text-align: right;\">\n",
              "      <th></th>\n",
              "      <th>File name</th>\n",
              "      <th>Patient ID</th>\n",
              "      <th>Slices_x</th>\n",
              "      <th>Columns</th>\n",
              "      <th>Date of Last Calibration</th>\n",
              "      <th>Diagnosis</th>\n",
              "      <th>Distance Source to Detector</th>\n",
              "      <th>Distance Source to Patient</th>\n",
              "      <th>Exposure Time</th>\n",
              "      <th>KVP</th>\n",
              "      <th>Age</th>\n",
              "      <th>Gender</th>\n",
              "      <th>Rows</th>\n",
              "      <th>Slice Thickness</th>\n",
              "      <th>Slices_y</th>\n",
              "      <th>Study Date</th>\n",
              "      <th>XRayTubeCurrent</th>\n",
              "      <th>Last Calibration</th>\n",
              "      <th>mAs</th>\n",
              "      <th>Country</th>\n",
              "    </tr>\n",
              "  </thead>\n",
              "  <tbody>\n",
              "    <tr>\n",
              "      <th>0</th>\n",
              "      <td>cap006_10.png</td>\n",
              "      <td>cap006</td>\n",
              "      <td>10</td>\n",
              "      <td>512</td>\n",
              "      <td>20180921</td>\n",
              "      <td>CAP</td>\n",
              "      <td>940</td>\n",
              "      <td>535</td>\n",
              "      <td>600</td>\n",
              "      <td>110</td>\n",
              "      <td>71</td>\n",
              "      <td>M</td>\n",
              "      <td>512</td>\n",
              "      <td>2</td>\n",
              "      <td>172</td>\n",
              "      <td>20180922</td>\n",
              "      <td>254</td>\n",
              "      <td>1 days 00:00:00.000000000</td>\n",
              "      <td>152.4</td>\n",
              "      <td>Iran</td>\n",
              "    </tr>\n",
              "    <tr>\n",
              "      <th>1</th>\n",
              "      <td>cap006_11.png</td>\n",
              "      <td>cap006</td>\n",
              "      <td>11</td>\n",
              "      <td>512</td>\n",
              "      <td>20180921</td>\n",
              "      <td>CAP</td>\n",
              "      <td>940</td>\n",
              "      <td>535</td>\n",
              "      <td>600</td>\n",
              "      <td>110</td>\n",
              "      <td>71</td>\n",
              "      <td>M</td>\n",
              "      <td>512</td>\n",
              "      <td>2</td>\n",
              "      <td>172</td>\n",
              "      <td>20180922</td>\n",
              "      <td>254</td>\n",
              "      <td>1 days 00:00:00.000000000</td>\n",
              "      <td>152.4</td>\n",
              "      <td>Iran</td>\n",
              "    </tr>\n",
              "    <tr>\n",
              "      <th>2</th>\n",
              "      <td>cap006_12.png</td>\n",
              "      <td>cap006</td>\n",
              "      <td>12</td>\n",
              "      <td>512</td>\n",
              "      <td>20180921</td>\n",
              "      <td>CAP</td>\n",
              "      <td>940</td>\n",
              "      <td>535</td>\n",
              "      <td>600</td>\n",
              "      <td>110</td>\n",
              "      <td>71</td>\n",
              "      <td>M</td>\n",
              "      <td>512</td>\n",
              "      <td>2</td>\n",
              "      <td>172</td>\n",
              "      <td>20180922</td>\n",
              "      <td>254</td>\n",
              "      <td>1 days 00:00:00.000000000</td>\n",
              "      <td>152.4</td>\n",
              "      <td>Iran</td>\n",
              "    </tr>\n",
              "  </tbody>\n",
              "</table>\n",
              "</div>"
            ],
            "text/plain": [
              "       File name Patient ID  Slices_x  ...           Last Calibration    mAs Country\n",
              "0  cap006_10.png     cap006        10  ...  1 days 00:00:00.000000000  152.4    Iran\n",
              "1  cap006_11.png     cap006        11  ...  1 days 00:00:00.000000000  152.4    Iran\n",
              "2  cap006_12.png     cap006        12  ...  1 days 00:00:00.000000000  152.4    Iran\n",
              "\n",
              "[3 rows x 20 columns]"
            ]
          },
          "metadata": {
            "tags": []
          },
          "execution_count": 24
        }
      ]
    },
    {
      "cell_type": "code",
      "metadata": {
        "colab": {
          "base_uri": "https://localhost:8080/"
        },
        "id": "9E_mQJKmXyfw",
        "outputId": "346ccf46-3274-4163-f35b-9869150f944c"
      },
      "source": [
        "df_cap.info()"
      ],
      "execution_count": 25,
      "outputs": [
        {
          "output_type": "stream",
          "text": [
            "<class 'pandas.core.frame.DataFrame'>\n",
            "RangeIndex: 2618 entries, 0 to 2617\n",
            "Data columns (total 20 columns):\n",
            " #   Column                       Non-Null Count  Dtype  \n",
            "---  ------                       --------------  -----  \n",
            " 0   File name                    2618 non-null   object \n",
            " 1   Patient ID                   2618 non-null   object \n",
            " 2   Slices_x                     2618 non-null   int64  \n",
            " 3   Columns                      2618 non-null   int64  \n",
            " 4   Date of Last Calibration     2618 non-null   int64  \n",
            " 5   Diagnosis                    2618 non-null   object \n",
            " 6   Distance Source to Detector  2618 non-null   int64  \n",
            " 7   Distance Source to Patient   2618 non-null   int64  \n",
            " 8   Exposure Time                2618 non-null   int64  \n",
            " 9   KVP                          2618 non-null   int64  \n",
            " 10  Age                          2618 non-null   int64  \n",
            " 11  Gender                       2618 non-null   object \n",
            " 12  Rows                         2618 non-null   int64  \n",
            " 13  Slice Thickness              2618 non-null   int64  \n",
            " 14  Slices_y                     2618 non-null   int64  \n",
            " 15  Study Date                   2618 non-null   int64  \n",
            " 16  XRayTubeCurrent              2618 non-null   int64  \n",
            " 17  Last Calibration             2618 non-null   object \n",
            " 18  mAs                          2618 non-null   float64\n",
            " 19  Country                      2618 non-null   object \n",
            "dtypes: float64(1), int64(13), object(6)\n",
            "memory usage: 409.2+ KB\n"
          ],
          "name": "stdout"
        }
      ]
    },
    {
      "cell_type": "code",
      "metadata": {
        "id": "zZmaErerYkqE"
      },
      "source": [
        "import pandas as pd\n",
        "df_normal = pd.read_csv('/content/meta_data_normal.csv',delimiter=',',encoding='utf-8', index_col=0)\n",
        "df_normal = df_normal.reset_index(drop=True)\n",
        "#44 colums 21 one with NaN"
      ],
      "execution_count": 26,
      "outputs": []
    },
    {
      "cell_type": "code",
      "metadata": {
        "colab": {
          "base_uri": "https://localhost:8080/",
          "height": 365
        },
        "id": "Lp17iuVaajPP",
        "outputId": "b49da290-f0fb-4e37-bfc3-79c36e4b5934"
      },
      "source": [
        "df_normal = df_normal.dropna(axis=1, how='all')\n",
        "df_normal.head(3)"
      ],
      "execution_count": 27,
      "outputs": [
        {
          "output_type": "execute_result",
          "data": {
            "text/html": [
              "<div>\n",
              "<style scoped>\n",
              "    .dataframe tbody tr th:only-of-type {\n",
              "        vertical-align: middle;\n",
              "    }\n",
              "\n",
              "    .dataframe tbody tr th {\n",
              "        vertical-align: top;\n",
              "    }\n",
              "\n",
              "    .dataframe thead th {\n",
              "        text-align: right;\n",
              "    }\n",
              "</style>\n",
              "<table border=\"1\" class=\"dataframe\">\n",
              "  <thead>\n",
              "    <tr style=\"text-align: right;\">\n",
              "      <th></th>\n",
              "      <th>File name</th>\n",
              "      <th>Patient ID</th>\n",
              "      <th>Gender</th>\n",
              "      <th>Age</th>\n",
              "      <th>Country</th>\n",
              "      <th>Diagnosis</th>\n",
              "      <th>Slice</th>\n",
              "      <th>Columns</th>\n",
              "      <th>Date</th>\n",
              "      <th>Date of Last Calibration</th>\n",
              "      <th>Distance Source to Detector</th>\n",
              "      <th>Distance Source to Patient</th>\n",
              "      <th>Exposure Time</th>\n",
              "      <th>Institution</th>\n",
              "      <th>KVP</th>\n",
              "      <th>Last Calibration</th>\n",
              "      <th>Rows</th>\n",
              "      <th>Slice Thickness</th>\n",
              "      <th>Slices</th>\n",
              "      <th>XRayTubeCurrent</th>\n",
              "      <th>category</th>\n",
              "      <th>mAs</th>\n",
              "      <th>study_file</th>\n",
              "    </tr>\n",
              "  </thead>\n",
              "  <tbody>\n",
              "    <tr>\n",
              "      <th>0</th>\n",
              "      <td>6_Rahimzadeh_normal10_patient151_SR_4_IM00012.png</td>\n",
              "      <td>patient151</td>\n",
              "      <td>F</td>\n",
              "      <td>43</td>\n",
              "      <td>Iran</td>\n",
              "      <td>Normal</td>\n",
              "      <td>12</td>\n",
              "      <td>NaN</td>\n",
              "      <td>20200321.0</td>\n",
              "      <td>NaN</td>\n",
              "      <td>NaN</td>\n",
              "      <td>NaN</td>\n",
              "      <td>NaN</td>\n",
              "      <td>Negin radiology located at Sari</td>\n",
              "      <td>NaN</td>\n",
              "      <td>NaN</td>\n",
              "      <td>NaN</td>\n",
              "      <td>NaN</td>\n",
              "      <td>NaN</td>\n",
              "      <td>NaN</td>\n",
              "      <td>NaN</td>\n",
              "      <td>NaN</td>\n",
              "      <td>NaN</td>\n",
              "    </tr>\n",
              "    <tr>\n",
              "      <th>1</th>\n",
              "      <td>6_Rahimzadeh_normal10_patient151_SR_4_IM00017.png</td>\n",
              "      <td>patient151</td>\n",
              "      <td>F</td>\n",
              "      <td>43</td>\n",
              "      <td>Iran</td>\n",
              "      <td>Normal</td>\n",
              "      <td>17</td>\n",
              "      <td>NaN</td>\n",
              "      <td>20200321.0</td>\n",
              "      <td>NaN</td>\n",
              "      <td>NaN</td>\n",
              "      <td>NaN</td>\n",
              "      <td>NaN</td>\n",
              "      <td>Negin radiology located at Sari</td>\n",
              "      <td>NaN</td>\n",
              "      <td>NaN</td>\n",
              "      <td>NaN</td>\n",
              "      <td>NaN</td>\n",
              "      <td>NaN</td>\n",
              "      <td>NaN</td>\n",
              "      <td>NaN</td>\n",
              "      <td>NaN</td>\n",
              "      <td>NaN</td>\n",
              "    </tr>\n",
              "    <tr>\n",
              "      <th>2</th>\n",
              "      <td>6_Rahimzadeh_normal10_patient151_SR_4_IM00022.png</td>\n",
              "      <td>patient151</td>\n",
              "      <td>F</td>\n",
              "      <td>43</td>\n",
              "      <td>Iran</td>\n",
              "      <td>Normal</td>\n",
              "      <td>22</td>\n",
              "      <td>NaN</td>\n",
              "      <td>20200321.0</td>\n",
              "      <td>NaN</td>\n",
              "      <td>NaN</td>\n",
              "      <td>NaN</td>\n",
              "      <td>NaN</td>\n",
              "      <td>Negin radiology located at Sari</td>\n",
              "      <td>NaN</td>\n",
              "      <td>NaN</td>\n",
              "      <td>NaN</td>\n",
              "      <td>NaN</td>\n",
              "      <td>NaN</td>\n",
              "      <td>NaN</td>\n",
              "      <td>NaN</td>\n",
              "      <td>NaN</td>\n",
              "      <td>NaN</td>\n",
              "    </tr>\n",
              "  </tbody>\n",
              "</table>\n",
              "</div>"
            ],
            "text/plain": [
              "                                           File name  ... study_file\n",
              "0  6_Rahimzadeh_normal10_patient151_SR_4_IM00012.png  ...        NaN\n",
              "1  6_Rahimzadeh_normal10_patient151_SR_4_IM00017.png  ...        NaN\n",
              "2  6_Rahimzadeh_normal10_patient151_SR_4_IM00022.png  ...        NaN\n",
              "\n",
              "[3 rows x 23 columns]"
            ]
          },
          "metadata": {
            "tags": []
          },
          "execution_count": 27
        }
      ]
    },
    {
      "cell_type": "code",
      "metadata": {
        "colab": {
          "base_uri": "https://localhost:8080/"
        },
        "id": "8d5oSo5mZnOu",
        "outputId": "667043b0-2007-4b7f-ffc0-bdfc2a16f268"
      },
      "source": [
        "df_normal.info()"
      ],
      "execution_count": 28,
      "outputs": [
        {
          "output_type": "stream",
          "text": [
            "<class 'pandas.core.frame.DataFrame'>\n",
            "RangeIndex: 6893 entries, 0 to 6892\n",
            "Data columns (total 23 columns):\n",
            " #   Column                       Non-Null Count  Dtype  \n",
            "---  ------                       --------------  -----  \n",
            " 0   File name                    6893 non-null   object \n",
            " 1   Patient ID                   6893 non-null   object \n",
            " 2   Gender                       6893 non-null   object \n",
            " 3   Age                          6893 non-null   int64  \n",
            " 4   Country                      6893 non-null   object \n",
            " 5   Diagnosis                    6893 non-null   object \n",
            " 6   Slice                        6893 non-null   int64  \n",
            " 7   Columns                      760 non-null    float64\n",
            " 8   Date                         1813 non-null   float64\n",
            " 9   Date of Last Calibration     760 non-null    float64\n",
            " 10  Distance Source to Detector  760 non-null    float64\n",
            " 11  Distance Source to Patient   760 non-null    float64\n",
            " 12  Exposure Time                760 non-null    float64\n",
            " 13  Institution                  6893 non-null   object \n",
            " 14  KVP                          760 non-null    float64\n",
            " 15  Last Calibration             760 non-null    object \n",
            " 16  Rows                         760 non-null    float64\n",
            " 17  Slice Thickness              760 non-null    float64\n",
            " 18  Slices                       760 non-null    float64\n",
            " 19  XRayTubeCurrent              760 non-null    float64\n",
            " 20  category                     5080 non-null   object \n",
            " 21  mAs                          760 non-null    float64\n",
            " 22  study_file                   5080 non-null   object \n",
            "dtypes: float64(12), int64(2), object(9)\n",
            "memory usage: 1.2+ MB\n"
          ],
          "name": "stdout"
        }
      ]
    },
    {
      "cell_type": "code",
      "metadata": {
        "colab": {
          "base_uri": "https://localhost:8080/",
          "height": 365
        },
        "id": "jSfh8EP1X9JQ",
        "outputId": "bc7c3327-d789-4079-cc90-a8aa2aad68e9"
      },
      "source": [
        "import pandas as pd\n",
        "df_covid = pd.read_csv('/content/meta_data_covid.csv',delimiter=',',encoding='latin-1', index_col=0)\n",
        "df_covid = df_covid.reset_index(drop=True)\n",
        "df_covid.head(3)"
      ],
      "execution_count": 163,
      "outputs": [
        {
          "output_type": "execute_result",
          "data": {
            "text/html": [
              "<div>\n",
              "<style scoped>\n",
              "    .dataframe tbody tr th:only-of-type {\n",
              "        vertical-align: middle;\n",
              "    }\n",
              "\n",
              "    .dataframe tbody tr th {\n",
              "        vertical-align: top;\n",
              "    }\n",
              "\n",
              "    .dataframe thead th {\n",
              "        text-align: right;\n",
              "    }\n",
              "</style>\n",
              "<table border=\"1\" class=\"dataframe\">\n",
              "  <thead>\n",
              "    <tr style=\"text-align: right;\">\n",
              "      <th></th>\n",
              "      <th>File name</th>\n",
              "      <th>Patient ID</th>\n",
              "      <th>Gender</th>\n",
              "      <th>Age</th>\n",
              "      <th>Country</th>\n",
              "      <th>Diagnosis</th>\n",
              "      <th>Slice</th>\n",
              "      <th>Case Discussion</th>\n",
              "      <th>Case Number</th>\n",
              "      <th>Columns</th>\n",
              "      <th>Date</th>\n",
              "      <th>Date of Last Calibration</th>\n",
              "      <th>Distance Source to Detector</th>\n",
              "      <th>Distance Source to Patient</th>\n",
              "      <th>Exposure Time</th>\n",
              "      <th>Image Source</th>\n",
              "      <th>Institution</th>\n",
              "      <th>KVP</th>\n",
              "      <th>Last Calibration</th>\n",
              "      <th>Link</th>\n",
              "      <th>Link2</th>\n",
              "      <th>Other diseases</th>\n",
              "      <th>Presentation</th>\n",
              "      <th>RT_PCR_COVID-19</th>\n",
              "      <th>Rows</th>\n",
              "      <th>Severity</th>\n",
              "      <th>Slice Thickness</th>\n",
              "      <th>Slices</th>\n",
              "      <th>Source_detail</th>\n",
              "      <th>Time</th>\n",
              "      <th>XRayTubeCurrent</th>\n",
              "      <th>category</th>\n",
              "      <th>doi</th>\n",
              "      <th>finding</th>\n",
              "      <th>in_icu</th>\n",
              "      <th>intubated</th>\n",
              "      <th>intubation_present</th>\n",
              "      <th>license</th>\n",
              "      <th>mAs</th>\n",
              "      <th>mask_file</th>\n",
              "      <th>needed_supplemental_O2</th>\n",
              "      <th>study_file</th>\n",
              "      <th>survival</th>\n",
              "      <th>went_icu</th>\n",
              "    </tr>\n",
              "  </thead>\n",
              "  <tbody>\n",
              "    <tr>\n",
              "      <th>0</th>\n",
              "      <td>6_Rahimzadeh_137covid_patient101_SR_4_IM00006.png</td>\n",
              "      <td>patient101</td>\n",
              "      <td>F</td>\n",
              "      <td>51</td>\n",
              "      <td>Iran</td>\n",
              "      <td>COVID-19</td>\n",
              "      <td>6.0</td>\n",
              "      <td>NaN</td>\n",
              "      <td>NaN</td>\n",
              "      <td>NaN</td>\n",
              "      <td>20200328</td>\n",
              "      <td>NaN</td>\n",
              "      <td>NaN</td>\n",
              "      <td>NaN</td>\n",
              "      <td>NaN</td>\n",
              "      <td>NaN</td>\n",
              "      <td>Negin radiology located at Sari</td>\n",
              "      <td>NaN</td>\n",
              "      <td>NaN</td>\n",
              "      <td>NaN</td>\n",
              "      <td>NaN</td>\n",
              "      <td>NaN</td>\n",
              "      <td>NaN</td>\n",
              "      <td>NaN</td>\n",
              "      <td>NaN</td>\n",
              "      <td>NaN</td>\n",
              "      <td>NaN</td>\n",
              "      <td>NaN</td>\n",
              "      <td>NaN</td>\n",
              "      <td>NaN</td>\n",
              "      <td>NaN</td>\n",
              "      <td>NaN</td>\n",
              "      <td>NaN</td>\n",
              "      <td>NaN</td>\n",
              "      <td>NaN</td>\n",
              "      <td>NaN</td>\n",
              "      <td>NaN</td>\n",
              "      <td>NaN</td>\n",
              "      <td>NaN</td>\n",
              "      <td>NaN</td>\n",
              "      <td>NaN</td>\n",
              "      <td>NaN</td>\n",
              "      <td>NaN</td>\n",
              "      <td>NaN</td>\n",
              "    </tr>\n",
              "    <tr>\n",
              "      <th>1</th>\n",
              "      <td>6_Rahimzadeh_137covid_patient101_SR_4_IM00008.png</td>\n",
              "      <td>patient101</td>\n",
              "      <td>F</td>\n",
              "      <td>51</td>\n",
              "      <td>Iran</td>\n",
              "      <td>COVID-19</td>\n",
              "      <td>8.0</td>\n",
              "      <td>NaN</td>\n",
              "      <td>NaN</td>\n",
              "      <td>NaN</td>\n",
              "      <td>20200328</td>\n",
              "      <td>NaN</td>\n",
              "      <td>NaN</td>\n",
              "      <td>NaN</td>\n",
              "      <td>NaN</td>\n",
              "      <td>NaN</td>\n",
              "      <td>Negin radiology located at Sari</td>\n",
              "      <td>NaN</td>\n",
              "      <td>NaN</td>\n",
              "      <td>NaN</td>\n",
              "      <td>NaN</td>\n",
              "      <td>NaN</td>\n",
              "      <td>NaN</td>\n",
              "      <td>NaN</td>\n",
              "      <td>NaN</td>\n",
              "      <td>NaN</td>\n",
              "      <td>NaN</td>\n",
              "      <td>NaN</td>\n",
              "      <td>NaN</td>\n",
              "      <td>NaN</td>\n",
              "      <td>NaN</td>\n",
              "      <td>NaN</td>\n",
              "      <td>NaN</td>\n",
              "      <td>NaN</td>\n",
              "      <td>NaN</td>\n",
              "      <td>NaN</td>\n",
              "      <td>NaN</td>\n",
              "      <td>NaN</td>\n",
              "      <td>NaN</td>\n",
              "      <td>NaN</td>\n",
              "      <td>NaN</td>\n",
              "      <td>NaN</td>\n",
              "      <td>NaN</td>\n",
              "      <td>NaN</td>\n",
              "    </tr>\n",
              "    <tr>\n",
              "      <th>2</th>\n",
              "      <td>6_Rahimzadeh_137covid_patient101_SR_4_IM00009.png</td>\n",
              "      <td>patient101</td>\n",
              "      <td>F</td>\n",
              "      <td>51</td>\n",
              "      <td>Iran</td>\n",
              "      <td>COVID-19</td>\n",
              "      <td>9.0</td>\n",
              "      <td>NaN</td>\n",
              "      <td>NaN</td>\n",
              "      <td>NaN</td>\n",
              "      <td>20200328</td>\n",
              "      <td>NaN</td>\n",
              "      <td>NaN</td>\n",
              "      <td>NaN</td>\n",
              "      <td>NaN</td>\n",
              "      <td>NaN</td>\n",
              "      <td>Negin radiology located at Sari</td>\n",
              "      <td>NaN</td>\n",
              "      <td>NaN</td>\n",
              "      <td>NaN</td>\n",
              "      <td>NaN</td>\n",
              "      <td>NaN</td>\n",
              "      <td>NaN</td>\n",
              "      <td>NaN</td>\n",
              "      <td>NaN</td>\n",
              "      <td>NaN</td>\n",
              "      <td>NaN</td>\n",
              "      <td>NaN</td>\n",
              "      <td>NaN</td>\n",
              "      <td>NaN</td>\n",
              "      <td>NaN</td>\n",
              "      <td>NaN</td>\n",
              "      <td>NaN</td>\n",
              "      <td>NaN</td>\n",
              "      <td>NaN</td>\n",
              "      <td>NaN</td>\n",
              "      <td>NaN</td>\n",
              "      <td>NaN</td>\n",
              "      <td>NaN</td>\n",
              "      <td>NaN</td>\n",
              "      <td>NaN</td>\n",
              "      <td>NaN</td>\n",
              "      <td>NaN</td>\n",
              "      <td>NaN</td>\n",
              "    </tr>\n",
              "  </tbody>\n",
              "</table>\n",
              "</div>"
            ],
            "text/plain": [
              "                                           File name  ... went_icu\n",
              "0  6_Rahimzadeh_137covid_patient101_SR_4_IM00006.png  ...      NaN\n",
              "1  6_Rahimzadeh_137covid_patient101_SR_4_IM00008.png  ...      NaN\n",
              "2  6_Rahimzadeh_137covid_patient101_SR_4_IM00009.png  ...      NaN\n",
              "\n",
              "[3 rows x 44 columns]"
            ]
          },
          "metadata": {
            "tags": []
          },
          "execution_count": 163
        }
      ]
    },
    {
      "cell_type": "code",
      "metadata": {
        "colab": {
          "base_uri": "https://localhost:8080/"
        },
        "id": "4Eg9j0zQZ4pf",
        "outputId": "03bcdb53-0670-4f52-83b9-be24bd203192"
      },
      "source": [
        "df_covid.info()"
      ],
      "execution_count": 164,
      "outputs": [
        {
          "output_type": "stream",
          "text": [
            "<class 'pandas.core.frame.DataFrame'>\n",
            "RangeIndex: 7593 entries, 0 to 7592\n",
            "Data columns (total 44 columns):\n",
            " #   Column                       Non-Null Count  Dtype  \n",
            "---  ------                       --------------  -----  \n",
            " 0   File name                    7593 non-null   object \n",
            " 1   Patient ID                   7593 non-null   object \n",
            " 2   Gender                       7593 non-null   object \n",
            " 3   Age                          7593 non-null   object \n",
            " 4   Country                      7593 non-null   object \n",
            " 5   Diagnosis                    7593 non-null   object \n",
            " 6   Slice                        7210 non-null   float64\n",
            " 7   Case Discussion              493 non-null    object \n",
            " 8   Case Number                  1944 non-null   object \n",
            " 9   Columns                      3815 non-null   float64\n",
            " 10  Date                         4491 non-null   object \n",
            " 11  Date of Last Calibration     3815 non-null   float64\n",
            " 12  Distance Source to Detector  3815 non-null   float64\n",
            " 13  Distance Source to Patient   3815 non-null   float64\n",
            " 14  Exposure Time                3815 non-null   float64\n",
            " 15  Image Source                 1944 non-null   object \n",
            " 16  Institution                  7110 non-null   object \n",
            " 17  KVP                          3815 non-null   float64\n",
            " 18  Last Calibration             3815 non-null   object \n",
            " 19  Link                         527 non-null    object \n",
            " 20  Link2                        493 non-null    object \n",
            " 21  Other diseases               19 non-null     object \n",
            " 22  Presentation                 537 non-null    object \n",
            " 23  RT_PCR_COVID-19              34 non-null     object \n",
            " 24  Rows                         3815 non-null   float64\n",
            " 25  Severity                     178 non-null    object \n",
            " 26  Slice Thickness              3815 non-null   float64\n",
            " 27  Slices                       3815 non-null   float64\n",
            " 28  Source_detail                1844 non-null   object \n",
            " 29  Time                         134 non-null    object \n",
            " 30  XRayTubeCurrent              3815 non-null   float64\n",
            " 31  category                     785 non-null    object \n",
            " 32  doi                          213 non-null    object \n",
            " 33  finding                      863 non-null    object \n",
            " 34  in_icu                       8 non-null      object \n",
            " 35  intubated                    15 non-null     object \n",
            " 36  intubation_present           15 non-null     object \n",
            " 37  license                      34 non-null     object \n",
            " 38  mAs                          3815 non-null   float64\n",
            " 39  mask_file                    785 non-null    object \n",
            " 40  needed_supplemental_O2       4 non-null      object \n",
            " 41  study_file                   785 non-null    object \n",
            " 42  survival                     13 non-null     object \n",
            " 43  went_icu                     8 non-null      object \n",
            "dtypes: float64(12), object(32)\n",
            "memory usage: 2.5+ MB\n"
          ],
          "name": "stdout"
        }
      ]
    },
    {
      "cell_type": "code",
      "metadata": {
        "colab": {
          "base_uri": "https://localhost:8080/"
        },
        "id": "HkMEJRS7IQ84",
        "outputId": "82cf7ef0-1e20-4c5a-86a7-c905b998c0a8"
      },
      "source": [
        "df_covid['Age'].unique()"
      ],
      "execution_count": 165,
      "outputs": [
        {
          "output_type": "execute_result",
          "data": {
            "text/plain": [
              "array(['51', '41', '33', '54', '48', '57', '56', '28', '49', '31', '36',\n",
              "       '69', '40', '75', '53', '50', '39', '82', '78', '45', '46', '42',\n",
              "       '66', '34', '76', '17', '61', '55', '52', '60', '62', '65', '70',\n",
              "       '63', '77', '68', '38', '20', '58', '87', '84', '72', '0', '73',\n",
              "       '47', '64', '80', '32', '27', '71', '79', '67', '43', '86', '-',\n",
              "       '25', '35', '83', '59', '22', '90', '23', '95', '88', '19', '44',\n",
              "       '89', '85', '91', '24', '93', '96', '74', '37', '26', '94', '92',\n",
              "       '21', '18', '30', '81', '29', '12', '1', '15'], dtype=object)"
            ]
          },
          "metadata": {
            "tags": []
          },
          "execution_count": 165
        }
      ]
    },
    {
      "cell_type": "code",
      "metadata": {
        "id": "itZUSVBPIHYZ"
      },
      "source": [
        "df_covid['Age'] = df_covid['Age'].apply(lambda x: 4711 if x == '-' else x)"
      ],
      "execution_count": 167,
      "outputs": []
    },
    {
      "cell_type": "code",
      "metadata": {
        "colab": {
          "base_uri": "https://localhost:8080/"
        },
        "id": "_NAf8wUcIcXA",
        "outputId": "73ca56f9-9ce5-4286-f68c-80e51896aad8"
      },
      "source": [
        "df_covid['Age'].unique()"
      ],
      "execution_count": 168,
      "outputs": [
        {
          "output_type": "execute_result",
          "data": {
            "text/plain": [
              "array(['51', '41', '33', '54', '48', '57', '56', '28', '49', '31', '36',\n",
              "       '69', '40', '75', '53', '50', '39', '82', '78', '45', '46', '42',\n",
              "       '66', '34', '76', '17', '61', '55', '52', '60', '62', '65', '70',\n",
              "       '63', '77', '68', '38', '20', '58', '87', '84', '72', '0', '73',\n",
              "       '47', '64', '80', '32', '27', '71', '79', '67', '43', '86', 4711,\n",
              "       '25', '35', '83', '59', '22', '90', '23', '95', '88', '19', '44',\n",
              "       '89', '85', '91', '24', '93', '96', '74', '37', '26', '94', '92',\n",
              "       '21', '18', '30', '81', '29', '12', '1', '15'], dtype=object)"
            ]
          },
          "metadata": {
            "tags": []
          },
          "execution_count": 168
        }
      ]
    },
    {
      "cell_type": "code",
      "metadata": {
        "id": "_x1dYUxyT62A"
      },
      "source": [
        "df_covid['Age'] = df_covid['Age'].astype(int)"
      ],
      "execution_count": 169,
      "outputs": []
    },
    {
      "cell_type": "code",
      "metadata": {
        "id": "1ABO6bfjv-FC"
      },
      "source": [
        "merge reports"
      ],
      "execution_count": null,
      "outputs": []
    },
    {
      "cell_type": "markdown",
      "metadata": {
        "id": "BGvXdaCqv_Hq"
      },
      "source": [
        "#merge reports for statistic"
      ]
    },
    {
      "cell_type": "code",
      "metadata": {
        "colab": {
          "base_uri": "https://localhost:8080/"
        },
        "id": "Dend3Kxhp18y",
        "outputId": "652db8e1-0fcb-430e-cd21-cab3f3ca032b"
      },
      "source": [
        "covid_name = df_covid.columns.tolist()\n",
        "covid_name.sort()\n",
        "print(covid_name)"
      ],
      "execution_count": 170,
      "outputs": [
        {
          "output_type": "stream",
          "text": [
            "['Age', 'Case Discussion', 'Case Number', 'Columns', 'Country', 'Date', 'Date of Last Calibration', 'Diagnosis', 'Distance Source to Detector', 'Distance Source to Patient', 'Exposure Time', 'File name', 'Gender', 'Image Source', 'Institution', 'KVP', 'Last Calibration', 'Link', 'Link2', 'Other diseases', 'Patient ID', 'Presentation', 'RT_PCR_COVID-19', 'Rows', 'Severity', 'Slice', 'Slice Thickness', 'Slices', 'Source_detail', 'Time', 'XRayTubeCurrent', 'category', 'doi', 'finding', 'in_icu', 'intubated', 'intubation_present', 'license', 'mAs', 'mask_file', 'needed_supplemental_O2', 'study_file', 'survival', 'went_icu']\n"
          ],
          "name": "stdout"
        }
      ]
    },
    {
      "cell_type": "code",
      "metadata": {
        "colab": {
          "base_uri": "https://localhost:8080/"
        },
        "id": "h5wwwO-Sm7wH",
        "outputId": "25330053-c041-4df6-a097-e09b1a57bae7"
      },
      "source": [
        "normal_name = df_normal.columns.tolist()\n",
        "normal_name.sort()\n",
        "print(normal_name)"
      ],
      "execution_count": 171,
      "outputs": [
        {
          "output_type": "stream",
          "text": [
            "['Age', 'Columns', 'Country', 'Date', 'Date of Last Calibration', 'Diagnosis', 'Distance Source to Detector', 'Distance Source to Patient', 'Exposure Time', 'File name', 'Gender', 'Institution', 'KVP', 'Last Calibration', 'Patient ID', 'Rows', 'Slice', 'Slice Thickness', 'Slices', 'XRayTubeCurrent', 'category', 'mAs', 'study_file']\n"
          ],
          "name": "stdout"
        }
      ]
    },
    {
      "cell_type": "code",
      "metadata": {
        "colab": {
          "base_uri": "https://localhost:8080/"
        },
        "id": "sYT33HX1rPIT",
        "outputId": "7573d974-63a3-4340-a8c3-d3e7dd305dd0"
      },
      "source": [
        "cap_name = df_cap.columns.tolist()\n",
        "cap_name.sort()\n",
        "print(cap_name)"
      ],
      "execution_count": 172,
      "outputs": [
        {
          "output_type": "stream",
          "text": [
            "['Age', 'Columns', 'Country', 'Date of Last Calibration', 'Diagnosis', 'Distance Source to Detector', 'Distance Source to Patient', 'Exposure Time', 'File name', 'Gender', 'KVP', 'Last Calibration', 'Patient ID', 'Rows', 'Slice Thickness', 'Slices_x', 'Slices_y', 'Study Date', 'XRayTubeCurrent', 'mAs']\n"
          ],
          "name": "stdout"
        }
      ]
    },
    {
      "cell_type": "code",
      "metadata": {
        "id": "-PZUqMMfrsu7"
      },
      "source": [
        "importend_colums = ['Patient ID','Diagnosis','Gender','Age','Country','File name']"
      ],
      "execution_count": 173,
      "outputs": []
    },
    {
      "cell_type": "code",
      "metadata": {
        "colab": {
          "base_uri": "https://localhost:8080/"
        },
        "id": "7MqGmhe_myR4",
        "outputId": "98a4ee29-0e42-42af-fd29-415f673ccf98"
      },
      "source": [
        "set(importend_colums).issubset(cap_name)"
      ],
      "execution_count": 174,
      "outputs": [
        {
          "output_type": "execute_result",
          "data": {
            "text/plain": [
              "True"
            ]
          },
          "metadata": {
            "tags": []
          },
          "execution_count": 174
        }
      ]
    },
    {
      "cell_type": "code",
      "metadata": {
        "colab": {
          "base_uri": "https://localhost:8080/"
        },
        "id": "dri_x5EQtX77",
        "outputId": "74c11b0f-6414-4bf4-b5bf-2921e7fbdc42"
      },
      "source": [
        "set(importend_colums).issubset(normal_name)"
      ],
      "execution_count": 144,
      "outputs": [
        {
          "output_type": "execute_result",
          "data": {
            "text/plain": [
              "True"
            ]
          },
          "metadata": {
            "tags": []
          },
          "execution_count": 144
        }
      ]
    },
    {
      "cell_type": "code",
      "metadata": {
        "colab": {
          "base_uri": "https://localhost:8080/"
        },
        "id": "_LhmM1oVtbrc",
        "outputId": "bb3e2dd2-5e4c-46b9-d197-0a55df2b1d9e"
      },
      "source": [
        "set(importend_colums).issubset(covid_name)"
      ],
      "execution_count": 145,
      "outputs": [
        {
          "output_type": "execute_result",
          "data": {
            "text/plain": [
              "True"
            ]
          },
          "metadata": {
            "tags": []
          },
          "execution_count": 145
        }
      ]
    },
    {
      "cell_type": "code",
      "metadata": {
        "id": "V78h5N63tgHD"
      },
      "source": [
        "df_all = df_cap[importend_colums]"
      ],
      "execution_count": 175,
      "outputs": []
    },
    {
      "cell_type": "code",
      "metadata": {
        "colab": {
          "base_uri": "https://localhost:8080/",
          "height": 138
        },
        "id": "IkQA27DruEtK",
        "outputId": "678cdc4a-f57a-4e7a-9d95-3e513e8df357"
      },
      "source": [
        "df_all.head(3)"
      ],
      "execution_count": 176,
      "outputs": [
        {
          "output_type": "execute_result",
          "data": {
            "text/html": [
              "<div>\n",
              "<style scoped>\n",
              "    .dataframe tbody tr th:only-of-type {\n",
              "        vertical-align: middle;\n",
              "    }\n",
              "\n",
              "    .dataframe tbody tr th {\n",
              "        vertical-align: top;\n",
              "    }\n",
              "\n",
              "    .dataframe thead th {\n",
              "        text-align: right;\n",
              "    }\n",
              "</style>\n",
              "<table border=\"1\" class=\"dataframe\">\n",
              "  <thead>\n",
              "    <tr style=\"text-align: right;\">\n",
              "      <th></th>\n",
              "      <th>Patient ID</th>\n",
              "      <th>Diagnosis</th>\n",
              "      <th>Gender</th>\n",
              "      <th>Age</th>\n",
              "      <th>Country</th>\n",
              "      <th>File name</th>\n",
              "    </tr>\n",
              "  </thead>\n",
              "  <tbody>\n",
              "    <tr>\n",
              "      <th>0</th>\n",
              "      <td>cap006</td>\n",
              "      <td>CAP</td>\n",
              "      <td>M</td>\n",
              "      <td>71</td>\n",
              "      <td>Iran</td>\n",
              "      <td>cap006_10.png</td>\n",
              "    </tr>\n",
              "    <tr>\n",
              "      <th>1</th>\n",
              "      <td>cap006</td>\n",
              "      <td>CAP</td>\n",
              "      <td>M</td>\n",
              "      <td>71</td>\n",
              "      <td>Iran</td>\n",
              "      <td>cap006_11.png</td>\n",
              "    </tr>\n",
              "    <tr>\n",
              "      <th>2</th>\n",
              "      <td>cap006</td>\n",
              "      <td>CAP</td>\n",
              "      <td>M</td>\n",
              "      <td>71</td>\n",
              "      <td>Iran</td>\n",
              "      <td>cap006_12.png</td>\n",
              "    </tr>\n",
              "  </tbody>\n",
              "</table>\n",
              "</div>"
            ],
            "text/plain": [
              "  Patient ID Diagnosis Gender  Age Country      File name\n",
              "0     cap006       CAP      M   71    Iran  cap006_10.png\n",
              "1     cap006       CAP      M   71    Iran  cap006_11.png\n",
              "2     cap006       CAP      M   71    Iran  cap006_12.png"
            ]
          },
          "metadata": {
            "tags": []
          },
          "execution_count": 176
        }
      ]
    },
    {
      "cell_type": "code",
      "metadata": {
        "colab": {
          "base_uri": "https://localhost:8080/"
        },
        "id": "wpq9KgW0vH0S",
        "outputId": "5fcc3ba1-8b46-476b-b005-e1d09e2e5bc6"
      },
      "source": [
        "df_all.info()"
      ],
      "execution_count": 177,
      "outputs": [
        {
          "output_type": "stream",
          "text": [
            "<class 'pandas.core.frame.DataFrame'>\n",
            "RangeIndex: 2618 entries, 0 to 2617\n",
            "Data columns (total 6 columns):\n",
            " #   Column      Non-Null Count  Dtype \n",
            "---  ------      --------------  ----- \n",
            " 0   Patient ID  2618 non-null   object\n",
            " 1   Diagnosis   2618 non-null   object\n",
            " 2   Gender      2618 non-null   object\n",
            " 3   Age         2618 non-null   int64 \n",
            " 4   Country     2618 non-null   object\n",
            " 5   File name   2618 non-null   object\n",
            "dtypes: int64(1), object(5)\n",
            "memory usage: 122.8+ KB\n"
          ],
          "name": "stdout"
        }
      ]
    },
    {
      "cell_type": "code",
      "metadata": {
        "id": "K-XWVGRcuJ1y"
      },
      "source": [
        "df_all = pd.concat([df_all, df_covid[importend_colums]], ignore_index=True)"
      ],
      "execution_count": 178,
      "outputs": []
    },
    {
      "cell_type": "code",
      "metadata": {
        "colab": {
          "base_uri": "https://localhost:8080/"
        },
        "id": "NLhlTKdbvcgr",
        "outputId": "31490a37-c537-49a2-d31c-06bc019222bb"
      },
      "source": [
        "df_all.info()"
      ],
      "execution_count": 179,
      "outputs": [
        {
          "output_type": "stream",
          "text": [
            "<class 'pandas.core.frame.DataFrame'>\n",
            "RangeIndex: 10211 entries, 0 to 10210\n",
            "Data columns (total 6 columns):\n",
            " #   Column      Non-Null Count  Dtype \n",
            "---  ------      --------------  ----- \n",
            " 0   Patient ID  10211 non-null  object\n",
            " 1   Diagnosis   10211 non-null  object\n",
            " 2   Gender      10211 non-null  object\n",
            " 3   Age         10211 non-null  int64 \n",
            " 4   Country     10211 non-null  object\n",
            " 5   File name   10211 non-null  object\n",
            "dtypes: int64(1), object(5)\n",
            "memory usage: 478.8+ KB\n"
          ],
          "name": "stdout"
        }
      ]
    },
    {
      "cell_type": "code",
      "metadata": {
        "colab": {
          "base_uri": "https://localhost:8080/"
        },
        "id": "DgenZ4w9GITz",
        "outputId": "c4fca24b-d779-4bc7-847e-276de66968de"
      },
      "source": [
        "df_all['Diagnosis'].unique()"
      ],
      "execution_count": 180,
      "outputs": [
        {
          "output_type": "execute_result",
          "data": {
            "text/plain": [
              "array(['CAP', 'COVID-19'], dtype=object)"
            ]
          },
          "metadata": {
            "tags": []
          },
          "execution_count": 180
        }
      ]
    },
    {
      "cell_type": "code",
      "metadata": {
        "id": "r7XPP7rpvgub"
      },
      "source": [
        "df_all = pd.concat([df_all, df_normal[importend_colums]], ignore_index=True)"
      ],
      "execution_count": 181,
      "outputs": []
    },
    {
      "cell_type": "code",
      "metadata": {
        "colab": {
          "base_uri": "https://localhost:8080/"
        },
        "id": "Ha-qrJIBvwoS",
        "outputId": "6fb2d715-327c-4878-d932-8d5d33889dff"
      },
      "source": [
        "df_all.info()"
      ],
      "execution_count": 182,
      "outputs": [
        {
          "output_type": "stream",
          "text": [
            "<class 'pandas.core.frame.DataFrame'>\n",
            "RangeIndex: 17104 entries, 0 to 17103\n",
            "Data columns (total 6 columns):\n",
            " #   Column      Non-Null Count  Dtype \n",
            "---  ------      --------------  ----- \n",
            " 0   Patient ID  17104 non-null  object\n",
            " 1   Diagnosis   17104 non-null  object\n",
            " 2   Gender      17104 non-null  object\n",
            " 3   Age         17104 non-null  int64 \n",
            " 4   Country     17104 non-null  object\n",
            " 5   File name   17104 non-null  object\n",
            "dtypes: int64(1), object(5)\n",
            "memory usage: 801.9+ KB\n"
          ],
          "name": "stdout"
        }
      ]
    },
    {
      "cell_type": "code",
      "metadata": {
        "colab": {
          "base_uri": "https://localhost:8080/",
          "height": 35
        },
        "id": "4S0tgxYJ8XlB",
        "outputId": "e0f1d59a-ddef-4c6b-f91c-3ca72a0d5d0c"
      },
      "source": [
        "#90 -> between 61 - 90\n",
        "age_group_lst =[10,20,30,40,50,60,70,80,90,120,4711]\n",
        "age_group_name =['1-10','11-20','21-30','31-40','41-50','51-60','61-70','71-80','81-90','>91','unk']\n",
        "def age_group(x):\n",
        "  for i,age in zip(range(len(age_group_lst)),age_group_lst):\n",
        "    if x <= age:\n",
        "      return age_group_name[i]\n",
        "\n",
        "#result 60 -> between 31 - 60\n",
        "#result 90 -> between 61 - 90\n",
        "age_group(31)"
      ],
      "execution_count": 183,
      "outputs": [
        {
          "output_type": "execute_result",
          "data": {
            "application/vnd.google.colaboratory.intrinsic+json": {
              "type": "string"
            },
            "text/plain": [
              "'31-40'"
            ]
          },
          "metadata": {
            "tags": []
          },
          "execution_count": 183
        }
      ]
    },
    {
      "cell_type": "code",
      "metadata": {
        "id": "JffwAb0c-g2T"
      },
      "source": [
        "df_all['age_group'] = df_all['Age'].apply(age_group)"
      ],
      "execution_count": 184,
      "outputs": []
    },
    {
      "cell_type": "code",
      "metadata": {
        "colab": {
          "base_uri": "https://localhost:8080/"
        },
        "id": "AI3wHBByPLG1",
        "outputId": "49f3db87-5e15-479a-dc62-c18f0a59d5ea"
      },
      "source": [
        "len(df_all['Patient ID'].unique())"
      ],
      "execution_count": 192,
      "outputs": [
        {
          "output_type": "execute_result",
          "data": {
            "text/plain": [
              "1122"
            ]
          },
          "metadata": {
            "tags": []
          },
          "execution_count": 192
        }
      ]
    },
    {
      "cell_type": "code",
      "metadata": {
        "id": "l3qk3G6vPD9A"
      },
      "source": [
        "df_all = df_all.groupby('Patient ID', as_index=False).last()"
      ],
      "execution_count": 195,
      "outputs": []
    },
    {
      "cell_type": "code",
      "metadata": {
        "colab": {
          "base_uri": "https://localhost:8080/",
          "height": 407
        },
        "id": "PN_kUoSUPsm-",
        "outputId": "016a314b-319b-413a-b149-30427179587b"
      },
      "source": [
        "df_all"
      ],
      "execution_count": 196,
      "outputs": [
        {
          "output_type": "execute_result",
          "data": {
            "text/html": [
              "<div>\n",
              "<style scoped>\n",
              "    .dataframe tbody tr th:only-of-type {\n",
              "        vertical-align: middle;\n",
              "    }\n",
              "\n",
              "    .dataframe tbody tr th {\n",
              "        vertical-align: top;\n",
              "    }\n",
              "\n",
              "    .dataframe thead th {\n",
              "        text-align: right;\n",
              "    }\n",
              "</style>\n",
              "<table border=\"1\" class=\"dataframe\">\n",
              "  <thead>\n",
              "    <tr style=\"text-align: right;\">\n",
              "      <th></th>\n",
              "      <th>Patient ID</th>\n",
              "      <th>Diagnosis</th>\n",
              "      <th>Gender</th>\n",
              "      <th>Age</th>\n",
              "      <th>Country</th>\n",
              "      <th>File name</th>\n",
              "      <th>age_group</th>\n",
              "    </tr>\n",
              "  </thead>\n",
              "  <tbody>\n",
              "    <tr>\n",
              "      <th>0</th>\n",
              "      <td>17</td>\n",
              "      <td>COVID-19</td>\n",
              "      <td>M</td>\n",
              "      <td>54</td>\n",
              "      <td>South Korea</td>\n",
              "      <td>15_Cohen_jkms-35-e79-g001-l-e.png</td>\n",
              "      <td>51-60</td>\n",
              "    </tr>\n",
              "    <tr>\n",
              "      <th>1</th>\n",
              "      <td>19</td>\n",
              "      <td>COVID-19</td>\n",
              "      <td>F</td>\n",
              "      <td>55</td>\n",
              "      <td>Taiwan</td>\n",
              "      <td>15_Cohen_1-s2.0-S0929664620300449-gr3_lrg-d.png</td>\n",
              "      <td>51-60</td>\n",
              "    </tr>\n",
              "    <tr>\n",
              "      <th>2</th>\n",
              "      <td>207</td>\n",
              "      <td>COVID-19</td>\n",
              "      <td>M</td>\n",
              "      <td>62</td>\n",
              "      <td>Spain</td>\n",
              "      <td>15_Cohen_16751_2_2.png</td>\n",
              "      <td>61-70</td>\n",
              "    </tr>\n",
              "    <tr>\n",
              "      <th>3</th>\n",
              "      <td>208</td>\n",
              "      <td>COVID-19</td>\n",
              "      <td>F</td>\n",
              "      <td>83</td>\n",
              "      <td>Portugal</td>\n",
              "      <td>15_Cohen_16689_1_2.png</td>\n",
              "      <td>81-90</td>\n",
              "    </tr>\n",
              "    <tr>\n",
              "      <th>4</th>\n",
              "      <td>209</td>\n",
              "      <td>COVID-19</td>\n",
              "      <td>F</td>\n",
              "      <td>59</td>\n",
              "      <td>Portugal</td>\n",
              "      <td>15_Cohen_16689_2_2.png</td>\n",
              "      <td>51-60</td>\n",
              "    </tr>\n",
              "    <tr>\n",
              "      <th>...</th>\n",
              "      <td>...</td>\n",
              "      <td>...</td>\n",
              "      <td>...</td>\n",
              "      <td>...</td>\n",
              "      <td>...</td>\n",
              "      <td>...</td>\n",
              "      <td>...</td>\n",
              "    </tr>\n",
              "    <tr>\n",
              "      <th>1117</th>\n",
              "      <td>study_id_96</td>\n",
              "      <td>Normal</td>\n",
              "      <td>M</td>\n",
              "      <td>69</td>\n",
              "      <td>Russia</td>\n",
              "      <td>16_Morozov_study_0096_31.png</td>\n",
              "      <td>61-70</td>\n",
              "    </tr>\n",
              "    <tr>\n",
              "      <th>1118</th>\n",
              "      <td>study_id_97</td>\n",
              "      <td>Normal</td>\n",
              "      <td>M</td>\n",
              "      <td>57</td>\n",
              "      <td>Russia</td>\n",
              "      <td>16_Morozov_study_0097_29.png</td>\n",
              "      <td>51-60</td>\n",
              "    </tr>\n",
              "    <tr>\n",
              "      <th>1119</th>\n",
              "      <td>study_id_98</td>\n",
              "      <td>Normal</td>\n",
              "      <td>M</td>\n",
              "      <td>31</td>\n",
              "      <td>Russia</td>\n",
              "      <td>16_Morozov_study_0098_32.png</td>\n",
              "      <td>31-40</td>\n",
              "    </tr>\n",
              "    <tr>\n",
              "      <th>1120</th>\n",
              "      <td>study_id_99</td>\n",
              "      <td>Normal</td>\n",
              "      <td>M</td>\n",
              "      <td>56</td>\n",
              "      <td>Russia</td>\n",
              "      <td>16_Morozov_study_0099_30.png</td>\n",
              "      <td>51-60</td>\n",
              "    </tr>\n",
              "    <tr>\n",
              "      <th>1121</th>\n",
              "      <td>74724</td>\n",
              "      <td>COVID-19</td>\n",
              "      <td>M</td>\n",
              "      <td>70</td>\n",
              "      <td>-</td>\n",
              "      <td>14_Jun_radiopaedia_7_85703_0_case20_7.png</td>\n",
              "      <td>61-70</td>\n",
              "    </tr>\n",
              "  </tbody>\n",
              "</table>\n",
              "<p>1122 rows × 7 columns</p>\n",
              "</div>"
            ],
            "text/plain": [
              "       Patient ID  ... age_group\n",
              "0              17  ...     51-60\n",
              "1              19  ...     51-60\n",
              "2             207  ...     61-70\n",
              "3             208  ...     81-90\n",
              "4             209  ...     51-60\n",
              "...           ...  ...       ...\n",
              "1117  study_id_96  ...     61-70\n",
              "1118  study_id_97  ...     51-60\n",
              "1119  study_id_98  ...     31-40\n",
              "1120  study_id_99  ...     51-60\n",
              "1121        74724  ...     61-70\n",
              "\n",
              "[1122 rows x 7 columns]"
            ]
          },
          "metadata": {
            "tags": []
          },
          "execution_count": 196
        }
      ]
    },
    {
      "cell_type": "code",
      "metadata": {
        "id": "3DQpjqKILeCE"
      },
      "source": [
        "#pandas plot grouped bar chart\n",
        "#https://matplotlib.org/stable/gallery/lines_bars_and_markers/barchart.html\n",
        "\n",
        "\n",
        "# groupby https://colab.research.google.com/drive/1o6_07WixYfAmMQG1VuKuLib-S9eYVod9#scrollTo=ZY9zgsxCM94y\n",
        "\n"
      ],
      "execution_count": null,
      "outputs": []
    },
    {
      "cell_type": "code",
      "metadata": {
        "id": "d_SzT7BINRQi"
      },
      "source": [
        "df_test_2 = df_all.groupby(['Diagnosis','age_group']).agg(count_per_age_group=('age_group','count'))"
      ],
      "execution_count": 205,
      "outputs": []
    },
    {
      "cell_type": "code",
      "metadata": {
        "colab": {
          "base_uri": "https://localhost:8080/",
          "height": 978
        },
        "id": "QzdkeWg7RmxR",
        "outputId": "02cec42f-5953-4804-abbf-d324309628e0"
      },
      "source": [
        "df_test_2"
      ],
      "execution_count": 206,
      "outputs": [
        {
          "output_type": "execute_result",
          "data": {
            "text/html": [
              "<div>\n",
              "<style scoped>\n",
              "    .dataframe tbody tr th:only-of-type {\n",
              "        vertical-align: middle;\n",
              "    }\n",
              "\n",
              "    .dataframe tbody tr th {\n",
              "        vertical-align: top;\n",
              "    }\n",
              "\n",
              "    .dataframe thead th {\n",
              "        text-align: right;\n",
              "    }\n",
              "</style>\n",
              "<table border=\"1\" class=\"dataframe\">\n",
              "  <thead>\n",
              "    <tr style=\"text-align: right;\">\n",
              "      <th></th>\n",
              "      <th></th>\n",
              "      <th>count_per_age_group</th>\n",
              "    </tr>\n",
              "    <tr>\n",
              "      <th>Diagnosis</th>\n",
              "      <th>age_group</th>\n",
              "      <th></th>\n",
              "    </tr>\n",
              "  </thead>\n",
              "  <tbody>\n",
              "    <tr>\n",
              "      <th rowspan=\"9\" valign=\"top\">CAP</th>\n",
              "      <th>11-20</th>\n",
              "      <td>2</td>\n",
              "    </tr>\n",
              "    <tr>\n",
              "      <th>21-30</th>\n",
              "      <td>8</td>\n",
              "    </tr>\n",
              "    <tr>\n",
              "      <th>31-40</th>\n",
              "      <td>6</td>\n",
              "    </tr>\n",
              "    <tr>\n",
              "      <th>41-50</th>\n",
              "      <td>3</td>\n",
              "    </tr>\n",
              "    <tr>\n",
              "      <th>51-60</th>\n",
              "      <td>11</td>\n",
              "    </tr>\n",
              "    <tr>\n",
              "      <th>61-70</th>\n",
              "      <td>6</td>\n",
              "    </tr>\n",
              "    <tr>\n",
              "      <th>71-80</th>\n",
              "      <td>12</td>\n",
              "    </tr>\n",
              "    <tr>\n",
              "      <th>81-90</th>\n",
              "      <td>4</td>\n",
              "    </tr>\n",
              "    <tr>\n",
              "      <th>&gt;91</th>\n",
              "      <td>2</td>\n",
              "    </tr>\n",
              "    <tr>\n",
              "      <th rowspan=\"11\" valign=\"top\">COVID-19</th>\n",
              "      <th>1-10</th>\n",
              "      <td>7</td>\n",
              "    </tr>\n",
              "    <tr>\n",
              "      <th>11-20</th>\n",
              "      <td>6</td>\n",
              "    </tr>\n",
              "    <tr>\n",
              "      <th>21-30</th>\n",
              "      <td>20</td>\n",
              "    </tr>\n",
              "    <tr>\n",
              "      <th>31-40</th>\n",
              "      <td>56</td>\n",
              "    </tr>\n",
              "    <tr>\n",
              "      <th>41-50</th>\n",
              "      <td>66</td>\n",
              "    </tr>\n",
              "    <tr>\n",
              "      <th>51-60</th>\n",
              "      <td>45</td>\n",
              "    </tr>\n",
              "    <tr>\n",
              "      <th>61-70</th>\n",
              "      <td>54</td>\n",
              "    </tr>\n",
              "    <tr>\n",
              "      <th>71-80</th>\n",
              "      <td>36</td>\n",
              "    </tr>\n",
              "    <tr>\n",
              "      <th>81-90</th>\n",
              "      <td>8</td>\n",
              "    </tr>\n",
              "    <tr>\n",
              "      <th>&gt;91</th>\n",
              "      <td>12</td>\n",
              "    </tr>\n",
              "    <tr>\n",
              "      <th>unk</th>\n",
              "      <td>154</td>\n",
              "    </tr>\n",
              "    <tr>\n",
              "      <th rowspan=\"10\" valign=\"top\">Normal</th>\n",
              "      <th>1-10</th>\n",
              "      <td>1</td>\n",
              "    </tr>\n",
              "    <tr>\n",
              "      <th>11-20</th>\n",
              "      <td>20</td>\n",
              "    </tr>\n",
              "    <tr>\n",
              "      <th>21-30</th>\n",
              "      <td>94</td>\n",
              "    </tr>\n",
              "    <tr>\n",
              "      <th>31-40</th>\n",
              "      <td>159</td>\n",
              "    </tr>\n",
              "    <tr>\n",
              "      <th>41-50</th>\n",
              "      <td>114</td>\n",
              "    </tr>\n",
              "    <tr>\n",
              "      <th>51-60</th>\n",
              "      <td>77</td>\n",
              "    </tr>\n",
              "    <tr>\n",
              "      <th>61-70</th>\n",
              "      <td>45</td>\n",
              "    </tr>\n",
              "    <tr>\n",
              "      <th>71-80</th>\n",
              "      <td>41</td>\n",
              "    </tr>\n",
              "    <tr>\n",
              "      <th>81-90</th>\n",
              "      <td>41</td>\n",
              "    </tr>\n",
              "    <tr>\n",
              "      <th>&gt;91</th>\n",
              "      <td>12</td>\n",
              "    </tr>\n",
              "  </tbody>\n",
              "</table>\n",
              "</div>"
            ],
            "text/plain": [
              "                     count_per_age_group\n",
              "Diagnosis age_group                     \n",
              "CAP       11-20                        2\n",
              "          21-30                        8\n",
              "          31-40                        6\n",
              "          41-50                        3\n",
              "          51-60                       11\n",
              "          61-70                        6\n",
              "          71-80                       12\n",
              "          81-90                        4\n",
              "          >91                          2\n",
              "COVID-19  1-10                         7\n",
              "          11-20                        6\n",
              "          21-30                       20\n",
              "          31-40                       56\n",
              "          41-50                       66\n",
              "          51-60                       45\n",
              "          61-70                       54\n",
              "          71-80                       36\n",
              "          81-90                        8\n",
              "          >91                         12\n",
              "          unk                        154\n",
              "Normal    1-10                         1\n",
              "          11-20                       20\n",
              "          21-30                       94\n",
              "          31-40                      159\n",
              "          41-50                      114\n",
              "          51-60                       77\n",
              "          61-70                       45\n",
              "          71-80                       41\n",
              "          81-90                       41\n",
              "          >91                         12"
            ]
          },
          "metadata": {
            "tags": []
          },
          "execution_count": 206
        }
      ]
    },
    {
      "cell_type": "code",
      "metadata": {
        "id": "fdEVrrmOQgCH"
      },
      "source": [
        "df_for_plot = df_test_2.reset_index()"
      ],
      "execution_count": 207,
      "outputs": []
    },
    {
      "cell_type": "code",
      "metadata": {
        "colab": {
          "base_uri": "https://localhost:8080/",
          "height": 198
        },
        "id": "C8j4iyNLf2ts",
        "outputId": "02e23dc9-9607-4756-8bfa-f990b8ece436"
      },
      "source": [
        "df_for_plot.head()"
      ],
      "execution_count": 208,
      "outputs": [
        {
          "output_type": "execute_result",
          "data": {
            "text/html": [
              "<div>\n",
              "<style scoped>\n",
              "    .dataframe tbody tr th:only-of-type {\n",
              "        vertical-align: middle;\n",
              "    }\n",
              "\n",
              "    .dataframe tbody tr th {\n",
              "        vertical-align: top;\n",
              "    }\n",
              "\n",
              "    .dataframe thead th {\n",
              "        text-align: right;\n",
              "    }\n",
              "</style>\n",
              "<table border=\"1\" class=\"dataframe\">\n",
              "  <thead>\n",
              "    <tr style=\"text-align: right;\">\n",
              "      <th></th>\n",
              "      <th>Diagnosis</th>\n",
              "      <th>age_group</th>\n",
              "      <th>count_per_age_group</th>\n",
              "    </tr>\n",
              "  </thead>\n",
              "  <tbody>\n",
              "    <tr>\n",
              "      <th>0</th>\n",
              "      <td>CAP</td>\n",
              "      <td>11-20</td>\n",
              "      <td>2</td>\n",
              "    </tr>\n",
              "    <tr>\n",
              "      <th>1</th>\n",
              "      <td>CAP</td>\n",
              "      <td>21-30</td>\n",
              "      <td>8</td>\n",
              "    </tr>\n",
              "    <tr>\n",
              "      <th>2</th>\n",
              "      <td>CAP</td>\n",
              "      <td>31-40</td>\n",
              "      <td>6</td>\n",
              "    </tr>\n",
              "    <tr>\n",
              "      <th>3</th>\n",
              "      <td>CAP</td>\n",
              "      <td>41-50</td>\n",
              "      <td>3</td>\n",
              "    </tr>\n",
              "    <tr>\n",
              "      <th>4</th>\n",
              "      <td>CAP</td>\n",
              "      <td>51-60</td>\n",
              "      <td>11</td>\n",
              "    </tr>\n",
              "  </tbody>\n",
              "</table>\n",
              "</div>"
            ],
            "text/plain": [
              "  Diagnosis age_group  count_per_age_group\n",
              "0       CAP     11-20                    2\n",
              "1       CAP     21-30                    8\n",
              "2       CAP     31-40                    6\n",
              "3       CAP     41-50                    3\n",
              "4       CAP     51-60                   11"
            ]
          },
          "metadata": {
            "tags": []
          },
          "execution_count": 208
        }
      ]
    },
    {
      "cell_type": "code",
      "metadata": {
        "id": "YZg9vj4IR2iC"
      },
      "source": [
        "# interat and use a plain old function "
      ],
      "execution_count": null,
      "outputs": []
    },
    {
      "cell_type": "code",
      "metadata": {
        "id": "833j5UUjhiF8"
      },
      "source": [
        "labels = ['1-10','11-20','21-30','31-40','41-50','51-60','61-70','71-80','81-90','>91','unk']"
      ],
      "execution_count": 210,
      "outputs": []
    },
    {
      "cell_type": "code",
      "metadata": {
        "colab": {
          "base_uri": "https://localhost:8080/"
        },
        "id": "9uJy8iKFh7aB",
        "outputId": "36238da3-b601-4e68-80c3-bb2fc3a93200"
      },
      "source": [
        "labels.index('11-20')"
      ],
      "execution_count": 213,
      "outputs": [
        {
          "output_type": "execute_result",
          "data": {
            "text/plain": [
              "1"
            ]
          },
          "metadata": {
            "tags": []
          },
          "execution_count": 213
        }
      ]
    },
    {
      "cell_type": "code",
      "metadata": {
        "colab": {
          "base_uri": "https://localhost:8080/"
        },
        "id": "jbtqZATVhav8",
        "outputId": "c69f4eb9-0242-49e4-c433-4719ea06f275"
      },
      "source": [
        "[0] * len(labels)"
      ],
      "execution_count": 211,
      "outputs": [
        {
          "output_type": "execute_result",
          "data": {
            "text/plain": [
              "[0, 0, 0, 0, 0, 0, 0, 0, 0, 0, 0]"
            ]
          },
          "metadata": {
            "tags": []
          },
          "execution_count": 211
        }
      ]
    },
    {
      "cell_type": "code",
      "metadata": {
        "colab": {
          "base_uri": "https://localhost:8080/"
        },
        "id": "2oYNOw-Nf_Lr",
        "outputId": "8df1944a-8a59-4e25-bf88-2b53e0218ea3"
      },
      "source": [
        "labels = ['1-10','11-20','21-30','31-40','41-50','51-60','61-70','71-80','81-90','>91','unk']\n",
        "covid_n = [0] * len(labels)\n",
        "cap_n = [0] * len(labels)\n",
        "normal_n = [0] * len(labels)\n",
        "\n",
        "for _, row in df_for_plot.iterrows():\n",
        "  i = labels.index(row['age_group'])\n",
        "  if row['Diagnosis'] == 'CAP':\n",
        "    cap_n[i] =  row['count_per_age_group']\n",
        "  elif row['Diagnosis'] == 'COVID-19':  \n",
        "    covid_n[i] =  row['count_per_age_group']\n",
        "  elif row['Diagnosis'] == 'Normal':\n",
        "    normal_n[i] =  row['count_per_age_group']  \n",
        "  else:\n",
        "    print(\"should nerver happen\")\n",
        "\n",
        "covid_n,cap_n,normal_n"
      ],
      "execution_count": 215,
      "outputs": [
        {
          "output_type": "execute_result",
          "data": {
            "text/plain": [
              "([7, 6, 20, 56, 66, 45, 54, 36, 8, 12, 154],\n",
              " [0, 2, 8, 6, 3, 11, 6, 12, 4, 2, 0],\n",
              " [1, 20, 94, 159, 114, 77, 45, 41, 41, 12, 0])"
            ]
          },
          "metadata": {
            "tags": []
          },
          "execution_count": 215
        }
      ]
    },
    {
      "cell_type": "code",
      "metadata": {
        "colab": {
          "base_uri": "https://localhost:8080/",
          "height": 297
        },
        "id": "VulaY1FokPI8",
        "outputId": "25a3bf1d-78db-41a6-f63a-43d57e76c65a"
      },
      "source": [
        "import matplotlib\n",
        "import matplotlib.pyplot as plt\n",
        "import numpy as np\n",
        "\n",
        "#plt.figure(figsize=(20,10))\n",
        "#from matplotlib.pyplot import figure\n",
        "#figure(figsize=(18,12), dpi=180)\n",
        "\n",
        "x = np.arange(len(labels))  # the label locations\n",
        "width = 0.8  # the width of the bars\n",
        "\n",
        "fig, ax = plt.subplots()\n",
        "rects1 = ax.bar(x - width/3, normal_n, width/3, label='normal_n')\n",
        "rects2 = ax.bar(x  , covid_n, width/3, label='covid_n')\n",
        "rects2 = ax.bar(x + (width/3), cap_n, width/3, label='cap_n')\n",
        "\n",
        "# Add some text for labels, title and custom x-axis tick labels, etc.\n",
        "ax.set_ylabel('count')\n",
        "ax.set_title('age range of patients for different categories')\n",
        "ax.set_xticks(x)\n",
        "ax.set_xticklabels(labels)\n",
        "ax.legend()\n",
        "\n",
        "#ax.bar_label(rects1, padding=3)\n",
        "#ax.bar_label(rects2, padding=3)\n",
        "\n",
        "fig.tight_layout()\n",
        "\n",
        "plt.show()"
      ],
      "execution_count": 232,
      "outputs": [
        {
          "output_type": "display_data",
          "data": {
            "image/png": "[encoded data removed]",
            "text/plain": [
              "<Figure size 432x288 with 1 Axes>"
            ]
          },
          "metadata": {
            "tags": [],
            "needs_background": "light"
          }
        }
      ]
    },
    {
      "cell_type": "code",
      "metadata": {
        "id": "WmBs8Mw0NiZF"
      },
      "source": [
        "#df_test_2.rest_index()"
      ],
      "execution_count": null,
      "outputs": []
    },
    {
      "cell_type": "code",
      "metadata": {
        "id": "v_lK_IF1-8Ei"
      },
      "source": [
        "#df_for_plot = df_all.groupby(['Patient ID','Diagnosis','age_group']).agg(count_per_age_group=('age_group','count'))\n",
        "#df_for_plot = df_for_plot.reset_index()\n",
        "#df_for_plot"
      ],
      "execution_count": null,
      "outputs": []
    },
    {
      "cell_type": "code",
      "metadata": {
        "colab": {
          "base_uri": "https://localhost:8080/"
        },
        "id": "5DoGUxM1F0ET",
        "outputId": "f3f4e4fc-3ec3-475a-c1fb-46d68fbdc595"
      },
      "source": [
        "df_for_plot['Diagnosis'].unique()"
      ],
      "execution_count": 187,
      "outputs": [
        {
          "output_type": "execute_result",
          "data": {
            "text/plain": [
              "array(['COVID-19', 'Normal', 'CAP'], dtype=object)"
            ]
          },
          "metadata": {
            "tags": []
          },
          "execution_count": 187
        }
      ]
    },
    {
      "cell_type": "code",
      "metadata": {
        "colab": {
          "base_uri": "https://localhost:8080/"
        },
        "id": "zmBI13hnKdBf",
        "outputId": "bff8ebeb-371a-421a-9b1a-02203024b27e"
      },
      "source": [
        "df_for_plot['age_group'].unique()"
      ],
      "execution_count": 188,
      "outputs": [
        {
          "output_type": "execute_result",
          "data": {
            "text/plain": [
              "array(['51-60', '61-70', '81-90', '21-30', '31-40', '41-50', 'unk',\n",
              "       '71-80', '11-20', '1-10', '>91'], dtype=object)"
            ]
          },
          "metadata": {
            "tags": []
          },
          "execution_count": 188
        }
      ]
    },
    {
      "cell_type": "markdown",
      "metadata": {
        "id": "tyaWAYz3wUaq"
      },
      "source": [
        "##Visualize the age range of patients for different categories"
      ]
    },
    {
      "cell_type": "code",
      "metadata": {
        "colab": {
          "base_uri": "https://localhost:8080/",
          "height": 297
        },
        "id": "pFMiCqXW03-p",
        "outputId": "2c2c911c-5eac-434c-c52d-fd5408ce3c19"
      },
      "source": [
        "import matplotlib\n",
        "import matplotlib.pyplot as plt\n",
        "import numpy as np\n",
        "\n",
        "\n",
        "#labels = ['G1', 'G2', 'G3', 'G4', 'G5']\n",
        "#age_group_name =['1-10','11-20','21-30','31-40','41-50','51-60','61-70','71-80','81-90','>91','unk']\n",
        "labels = ['1-10','11-20','21-30','31-40','41-50','51-60','61-70','71-80','81-90','>91','unk']\n",
        "men_means = [20, 34, 30, 35, 27]\n",
        "women_means = [25, 32, 34, 20, 25]\n",
        "childs_means = [12, 22, 28, 25, 26]\n",
        "\n",
        "x = np.arange(len(labels))  # the label locations\n",
        "width = 0.35  # the width of the bars\n",
        "\n",
        "fig, ax = plt.subplots()\n",
        "rects1 = ax.bar(x - width/3, men_means, width/3, label='Men')\n",
        "rects2 = ax.bar(x  , women_means, width/3, label='Women')\n",
        "rects2 = ax.bar(x + (width/3), childs_means, width/3, label='Child')\n",
        "\n",
        "# Add some text for labels, title and custom x-axis tick labels, etc.\n",
        "ax.set_ylabel('Scores')\n",
        "ax.set_title('Scores by group and gender')\n",
        "ax.set_xticks(x)\n",
        "ax.set_xticklabels(labels)\n",
        "ax.legend()\n",
        "\n",
        "#ax.bar_label(rects1, padding=3)\n",
        "#ax.bar_label(rects2, padding=3)\n",
        "\n",
        "fig.tight_layout()\n",
        "\n",
        "plt.show()"
      ],
      "execution_count": 91,
      "outputs": [
        {
          "output_type": "display_data",
          "data": {
            "image/png": "[encoded data removed]",
            "text/plain": [
              "<Figure size 432x288 with 1 Axes>"
            ]
          },
          "metadata": {
            "tags": [],
            "needs_background": "light"
          }
        }
      ]
    },
    {
      "cell_type": "code",
      "metadata": {
        "id": "rCfHo65xwTo6"
      },
      "source": [
        "import seaborn as sns"
      ],
      "execution_count": 80,
      "outputs": []
    },
    {
      "cell_type": "code",
      "metadata": {
        "id": "a4v5Y-y702e3"
      },
      "source": [
        ""
      ],
      "execution_count": null,
      "outputs": []
    },
    {
      "cell_type": "code",
      "metadata": {
        "colab": {
          "base_uri": "https://localhost:8080/",
          "height": 243
        },
        "id": "Bsvt6iWZylZo",
        "outputId": "1ff640c0-6801-450b-882b-944e267f0542"
      },
      "source": [
        "g = sns.FacetGrid(df_all, hue=\"Diagnosis\")\n",
        "g.map(sns.histplot)#, \"mpg\")"
      ],
      "execution_count": 83,
      "outputs": [
        {
          "output_type": "execute_result",
          "data": {
            "text/plain": [
              "<seaborn.axisgrid.FacetGrid at 0x7fc99f66acd0>"
            ]
          },
          "metadata": {
            "tags": []
          },
          "execution_count": 83
        },
        {
          "output_type": "display_data",
          "data": {
            "image/png": "[encoded data removed]",
            "text/plain": [
              "<Figure size 216x216 with 1 Axes>"
            ]
          },
          "metadata": {
            "tags": [],
            "needs_background": "light"
          }
        }
      ]
    },
    {
      "cell_type": "markdown",
      "metadata": {
        "id": "A4w5FbS4bSdh"
      },
      "source": [
        "# create pandas_profiling report"
      ]
    },
    {
      "cell_type": "code",
      "metadata": {
        "id": "_Bf_enEHbVy5"
      },
      "source": [
        "import pandas_profiling as pp"
      ],
      "execution_count": null,
      "outputs": []
    },
    {
      "cell_type": "code",
      "metadata": {
        "id": "eoHL8-BrddWY"
      },
      "source": [
        "#pp.ProfileReport(df_cap, title=\"cap\")"
      ],
      "execution_count": null,
      "outputs": []
    },
    {
      "cell_type": "code",
      "metadata": {
        "id": "R_mCFIX7d-DJ"
      },
      "source": [
        "#pp.ProfileReport(df_normal, title=\"normal\")"
      ],
      "execution_count": null,
      "outputs": []
    },
    {
      "cell_type": "code",
      "metadata": {
        "id": "i7y6jRK_eTDB"
      },
      "source": [
        "#pp.ProfileReport(df_covid, title=\"covid\")"
      ],
      "execution_count": null,
      "outputs": []
    }
  ]
}