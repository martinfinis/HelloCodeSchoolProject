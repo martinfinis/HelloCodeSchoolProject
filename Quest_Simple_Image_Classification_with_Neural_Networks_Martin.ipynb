{
  "nbformat": 4,
  "nbformat_minor": 0,
  "metadata": {
    "colab": {
      "name": "Quest_Simple Image Classification with Neural Networks Martin.ipynb",
      "provenance": [],
      "toc_visible": true,
      "authorship_tag": "ABX9TyOpM0zpToHgPqW7f1adKYhU",
      "include_colab_link": true
    },
    "kernelspec": {
      "name": "python3",
      "display_name": "Python 3"
    }
  },
  "cells": [
    {
      "cell_type": "markdown",
      "metadata": {
        "id": "view-in-github",
        "colab_type": "text"
      },
      "source": [
        "<a href=\"https://colab.research.google.com/github/martinfinis/HelloCodeSchoolProject/blob/master/Quest_Simple_Image_Classification_with_Neural_Networks_Martin.ipynb\" target=\"_parent\"><img src=\"https://colab.research.google.com/assets/colab-badge.svg\" alt=\"Open In Colab\"/></a>"
      ]
    },
    {
      "cell_type": "code",
      "metadata": {
        "id": "h1PGdjzAafpp"
      },
      "source": [
        "import numpy as np\r\n",
        "import pandas as pd\r\n",
        "\r\n",
        "import matplotlib.pyplot as plt\r\n",
        "%matplotlib inline\r\n",
        "import tensorflow as tf\r\n",
        "from tensorflow import keras\r\n",
        "from tensorflow.keras.optimizers import Adam\r\n",
        "from tensorflow.keras.models import Sequential\r\n",
        "from tensorflow.keras.layers import Conv2D, MaxPooling2D, Flatten, Dense, Dropout, Activation, BatchNormalization\r\n",
        "from tensorflow.keras.preprocessing.image import ImageDataGenerator"
      ],
      "execution_count": 1,
      "outputs": []
    },
    {
      "cell_type": "code",
      "metadata": {
        "id": "zzK4gGoqp_eI"
      },
      "source": [
        "import matplotlib.pyplot as plt\r\n",
        "\r\n",
        "def history_plot_from_loss_acc(history, title):\r\n",
        "  plt.figure(figsize=(10,5))\r\n",
        "\r\n",
        "  train_loss_list = history.history['loss']\r\n",
        "  train_accuracy = history.history['accuracy']\r\n",
        "  val_loss_list = history.history['val_loss']\r\n",
        "  val_accuracy_list = history.history['val_acc']\r\n",
        "  x = history.epoch\r\n",
        "  \r\n",
        "  plt.subplot(1,2,1)\r\n",
        "  plt.plot(x, train_loss_list)\r\n",
        "  plt.plot(x, val_loss_list)\r\n",
        "  plt.legend(['train_loss', 'val_loss'])\r\n",
        "  plt.title(title+\"_ LOSS\")\r\n",
        "  \r\n",
        "  plt.subplot(1,2,2)\r\n",
        "  plt.plot(x, train_accuracy)\r\n",
        "  plt.plot(x, val_accuracy_list)\r\n",
        "  plt.legend(['train_acc','val_accuracy'])\r\n",
        "  plt.title(title+\"_ ACCURACY\")\r\n",
        "  plt.show()"
      ],
      "execution_count": 2,
      "outputs": []
    },
    {
      "cell_type": "markdown",
      "metadata": {
        "id": "aH3uqcBPxL4l"
      },
      "source": [
        "https://www.tensorflow.org/tutorials/keras/classification"
      ]
    },
    {
      "cell_type": "markdown",
      "metadata": {
        "id": "BMT9RcchaTWA"
      },
      "source": [
        "#load the data"
      ]
    },
    {
      "cell_type": "code",
      "metadata": {
        "id": "6z7dBuLYaEYA"
      },
      "source": [
        "(X_train, y_train),(X_test, y_test) =  keras.datasets.fashion_mnist.load_data()"
      ],
      "execution_count": 3,
      "outputs": []
    },
    {
      "cell_type": "markdown",
      "metadata": {
        "id": "9jgn0PI3hvPH"
      },
      "source": [
        "# view the data"
      ]
    },
    {
      "cell_type": "code",
      "metadata": {
        "colab": {
          "base_uri": "https://localhost:8080/"
        },
        "id": "693cmxaZhD6r",
        "outputId": "d5f12843-1a5d-4338-fbba-6c094931fa96"
      },
      "source": [
        "type(X_train),type(y_train)"
      ],
      "execution_count": 4,
      "outputs": [
        {
          "output_type": "execute_result",
          "data": {
            "text/plain": [
              "(numpy.ndarray, numpy.ndarray)"
            ]
          },
          "metadata": {
            "tags": []
          },
          "execution_count": 4
        }
      ]
    },
    {
      "cell_type": "code",
      "metadata": {
        "colab": {
          "base_uri": "https://localhost:8080/"
        },
        "id": "CkE828oviuY-",
        "outputId": "49d663e9-d709-4781-e306-730cc01b6806"
      },
      "source": [
        "X_train.shape,y_train.shape,X_test.shape, y_test.shape"
      ],
      "execution_count": 5,
      "outputs": [
        {
          "output_type": "execute_result",
          "data": {
            "text/plain": [
              "((60000, 28, 28), (60000,), (10000, 28, 28), (10000,))"
            ]
          },
          "metadata": {
            "tags": []
          },
          "execution_count": 5
        }
      ]
    },
    {
      "cell_type": "code",
      "metadata": {
        "colab": {
          "base_uri": "https://localhost:8080/"
        },
        "id": "gUJxMrw3jCpf",
        "outputId": "7d98479d-6ef5-49eb-8541-a8d3b875b59d"
      },
      "source": [
        "np.unique(y_train[:])"
      ],
      "execution_count": 6,
      "outputs": [
        {
          "output_type": "execute_result",
          "data": {
            "text/plain": [
              "array([0, 1, 2, 3, 4, 5, 6, 7, 8, 9], dtype=uint8)"
            ]
          },
          "metadata": {
            "tags": []
          },
          "execution_count": 6
        }
      ]
    },
    {
      "cell_type": "markdown",
      "metadata": {
        "id": "ezEQtCOiRV6s"
      },
      "source": [
        "### display Images"
      ]
    },
    {
      "cell_type": "code",
      "metadata": {
        "id": "uwUNUIXPjgdH"
      },
      "source": [
        "class_names = ['T-shirt/top', 'Trouser', 'Pullover', 'Dress', 'Coat', \r\n",
        "               'Sandal', 'Shirt', 'Sneaker', 'Bag', 'Ankle boot']\r\n",
        "\r\n",
        "class_label = dict(zip(range(10), class_names))"
      ],
      "execution_count": 7,
      "outputs": []
    },
    {
      "cell_type": "code",
      "metadata": {
        "id": "f78WrDLsRV6t",
        "colab": {
          "base_uri": "https://localhost:8080/",
          "height": 879
        },
        "outputId": "e3d201bf-c067-461e-ed94-9c7a1b5962e0"
      },
      "source": [
        "import matplotlib.pyplot as plt\r\n",
        "plt.figure(figsize=(15,15))\r\n",
        "\r\n",
        "for i in range(25):\r\n",
        "  plt.subplot(5,5, i+1)\r\n",
        "  plt.imshow(X_train[i])\r\n",
        "  plt.title(class_label.get(y_train[i]))\r\n",
        "  \r\n",
        "plt.show()"
      ],
      "execution_count": 8,
      "outputs": [
        {
          "output_type": "display_data",
          "data": {
            "image/png": "[encoded data removed]",
            "text/plain": [
              "<Figure size 1080x1080 with 25 Axes>"
            ]
          },
          "metadata": {
            "tags": [],
            "needs_background": "light"
          }
        }
      ]
    },
    {
      "cell_type": "markdown",
      "metadata": {
        "id": "LoNxSD9UOAKW"
      },
      "source": [
        "# build model"
      ]
    },
    {
      "cell_type": "markdown",
      "metadata": {
        "id": "du2GtLZmOEN9"
      },
      "source": [
        "## model without ImageDataGenerator"
      ]
    },
    {
      "cell_type": "code",
      "metadata": {
        "colab": {
          "base_uri": "https://localhost:8080/"
        },
        "id": "zKfaxUUnkvlj",
        "outputId": "e7cf9711-1ad8-407a-f2df-98969675eb6e"
      },
      "source": [
        "learning_rate = 0.001\r\n",
        "dec_rate = 0 #1/4353 * 0.2 \r\n",
        "optim = Adam(lr=learning_rate, decay=dec_rate)\r\n",
        "\r\n",
        "model = Sequential()\r\n",
        "model.add(Conv2D(32, (3,3), padding='valid',activation='relu', input_shape=(28,28,1)))\r\n",
        "model.add(MaxPooling2D())\r\n",
        "model.add(Conv2D(64,(3,3), padding='valid',activation='relu'))\r\n",
        "model.add(MaxPooling2D())\r\n",
        "model.add(Conv2D(128,(3,3), padding='valid',activation='relu'))\r\n",
        "model.add(Flatten())\r\n",
        "model.add(Dense(64,activation='relu'))\r\n",
        "model.add(Dense(10,activation='softmax'))\r\n",
        "model.summary()"
      ],
      "execution_count": 9,
      "outputs": [
        {
          "output_type": "stream",
          "text": [
            "Model: \"sequential\"\n",
            "_________________________________________________________________\n",
            "Layer (type)                 Output Shape              Param #   \n",
            "=================================================================\n",
            "conv2d (Conv2D)              (None, 26, 26, 32)        320       \n",
            "_________________________________________________________________\n",
            "max_pooling2d (MaxPooling2D) (None, 13, 13, 32)        0         \n",
            "_________________________________________________________________\n",
            "conv2d_1 (Conv2D)            (None, 11, 11, 64)        18496     \n",
            "_________________________________________________________________\n",
            "max_pooling2d_1 (MaxPooling2 (None, 5, 5, 64)          0         \n",
            "_________________________________________________________________\n",
            "conv2d_2 (Conv2D)            (None, 3, 3, 128)         73856     \n",
            "_________________________________________________________________\n",
            "flatten (Flatten)            (None, 1152)              0         \n",
            "_________________________________________________________________\n",
            "dense (Dense)                (None, 64)                73792     \n",
            "_________________________________________________________________\n",
            "dense_1 (Dense)              (None, 10)                650       \n",
            "=================================================================\n",
            "Total params: 167,114\n",
            "Trainable params: 167,114\n",
            "Non-trainable params: 0\n",
            "_________________________________________________________________\n"
          ],
          "name": "stdout"
        }
      ]
    },
    {
      "cell_type": "code",
      "metadata": {
        "id": "ERGdVZBi7CEn"
      },
      "source": [
        "# reshape input\r\n",
        "X_train = X_train.reshape(-1, 28, 28, 1)\r\n",
        "X_test = X_test.reshape(-1, 28, 28, 1)"
      ],
      "execution_count": 10,
      "outputs": []
    },
    {
      "cell_type": "code",
      "metadata": {
        "id": "vZlnMSDhpnCp"
      },
      "source": [
        "model.compile(loss='sparse_categorical_crossentropy',optimizer='adam',metrics=['accuracy'])"
      ],
      "execution_count": 11,
      "outputs": []
    },
    {
      "cell_type": "code",
      "metadata": {
        "colab": {
          "base_uri": "https://localhost:8080/"
        },
        "id": "MYYWhVEnBcVU",
        "outputId": "7e3e32f6-3b8c-4e8b-f882-298ae86aaeda"
      },
      "source": [
        "history = model.fit(X_train, y_train, epochs=10, validation_split=0.2)"
      ],
      "execution_count": null,
      "outputs": [
        {
          "output_type": "stream",
          "text": [
            "Epoch 1/10\n",
            "1500/1500 [==============================] - 49s 33ms/step - loss: 1.2019 - accuracy: 0.7455 - val_loss: 0.3780 - val_accuracy: 0.8609\n",
            "Epoch 2/10\n",
            "1500/1500 [==============================] - 49s 33ms/step - loss: 0.3491 - accuracy: 0.8752 - val_loss: 0.3481 - val_accuracy: 0.8755\n",
            "Epoch 3/10\n",
            "1500/1500 [==============================] - 49s 33ms/step - loss: 0.3115 - accuracy: 0.8875 - val_loss: 0.3300 - val_accuracy: 0.8812\n",
            "Epoch 4/10\n",
            "1500/1500 [==============================] - 50s 33ms/step - loss: 0.2864 - accuracy: 0.8940 - val_loss: 0.3100 - val_accuracy: 0.8886\n",
            "Epoch 5/10\n",
            "1500/1500 [==============================] - 52s 34ms/step - loss: 0.2581 - accuracy: 0.9064 - val_loss: 0.3298 - val_accuracy: 0.8821\n",
            "Epoch 6/10\n",
            "1500/1500 [==============================] - 51s 34ms/step - loss: 0.2405 - accuracy: 0.9109 - val_loss: 0.3025 - val_accuracy: 0.8876\n",
            "Epoch 7/10\n",
            "1500/1500 [==============================] - 52s 35ms/step - loss: 0.2273 - accuracy: 0.9168 - val_loss: 0.3010 - val_accuracy: 0.8958\n",
            "Epoch 8/10\n",
            "1500/1500 [==============================] - 52s 35ms/step - loss: 0.2078 - accuracy: 0.9223 - val_loss: 0.3185 - val_accuracy: 0.8873\n",
            "Epoch 9/10\n",
            "  89/1500 [>.............................] - ETA: 45s - loss: 0.1837 - accuracy: 0.9366"
          ],
          "name": "stdout"
        }
      ]
    },
    {
      "cell_type": "code",
      "metadata": {
        "id": "Nu_lTyfo_7B9"
      },
      "source": [
        "model.evaluate(X_test, y_test)"
      ],
      "execution_count": null,
      "outputs": []
    },
    {
      "cell_type": "code",
      "metadata": {
        "id": "pftgogb8__I1"
      },
      "source": [
        "history_plot_from_loss_acc(history, \"sparse_categorical_crossentropy\")"
      ],
      "execution_count": null,
      "outputs": []
    },
    {
      "cell_type": "markdown",
      "metadata": {
        "id": "3PJNuIseNjR-"
      },
      "source": [
        "## model_2 with ImageDataGenerator"
      ]
    },
    {
      "cell_type": "code",
      "metadata": {
        "id": "Lrg_Si-wpqMP"
      },
      "source": [
        "datagen = ImageDataGenerator(rescale=1./255.,validation_split=0.2)\r\n",
        "datagen_test = ImageDataGenerator(rescale=1./255. )\r\n",
        "\r\n",
        "train_generator = datagen.flow(X_train,y_train,batch_size=32,shuffle=True,seed=42,subset='training')# TODO,color_mode='grayscale'\r\n",
        "valid_generator = datagen.flow(X_train,y_train,batch_size=32,shuffle=True,seed=42,subset='validation')\r\n",
        "test_generator = datagen_test.flow(X_test,y_test,batch_size=32,seed=42)"
      ],
      "execution_count": null,
      "outputs": []
    },
    {
      "cell_type": "code",
      "metadata": {
        "id": "JtPsUrW2psFQ"
      },
      "source": [
        "STEP_SIZE_TRAIN=train_generator.n//train_generator.batch_size\r\n",
        "STEP_SIZE_VALID=valid_generator.n//valid_generator.batch_size\r\n",
        "STEP_SIZE_TEST = test_generator.n//test_generator.batch_size\r\n",
        "STEP_SIZE_TRAIN,STEP_SIZE_VALID,STEP_SIZE_TEST"
      ],
      "execution_count": null,
      "outputs": []
    },
    {
      "cell_type": "code",
      "metadata": {
        "id": "llOlO9zkNuEo"
      },
      "source": [
        "learning_rate = 0.001\r\n",
        "dec_rate = 0 #1/4353 * 0.2 \r\n",
        "optim = Adam(lr=learning_rate, decay=dec_rate)\r\n",
        "\r\n",
        "model_2 = Sequential()\r\n",
        "model_2.add(Conv2D(32, (3,3), padding='valid',activation='relu', input_shape=(28,28,1)))\r\n",
        "model_2.add(MaxPooling2D())\r\n",
        "model_2.add(Conv2D(64,(3,3), padding='valid',activation='relu'))\r\n",
        "model_2.add(MaxPooling2D())\r\n",
        "model_2.add(Conv2D(128,(3,3), padding='valid',activation='relu'))\r\n",
        "model_2.add(Flatten())\r\n",
        "model_2.add(Dense(64,activation='relu'))\r\n",
        "model_2.add(Dense(10,activation='softmax'))\r\n",
        "model_2.summary()"
      ],
      "execution_count": null,
      "outputs": []
    },
    {
      "cell_type": "code",
      "metadata": {
        "id": "FoGNwOvECoRf"
      },
      "source": [
        "model_2.compile(loss='sparse_categorical_crossentropy',optimizer='adam',metrics=['accuracy'])"
      ],
      "execution_count": null,
      "outputs": []
    },
    {
      "cell_type": "code",
      "metadata": {
        "id": "nHEYPiJOpuwv"
      },
      "source": [
        "history_2 = model_2.fit(train_generator,\r\n",
        "                    steps_per_epoch=STEP_SIZE_TRAIN,\r\n",
        "                    validation_data = valid_generator,\r\n",
        "                    validation_steps = STEP_SIZE_TEST,\r\n",
        "                    epochs=10)\r\n",
        "                    "
      ],
      "execution_count": null,
      "outputs": []
    },
    {
      "cell_type": "code",
      "metadata": {
        "id": "SEADiE0hAqOx"
      },
      "source": [
        "model_2.evaluate(test_generator)"
      ],
      "execution_count": null,
      "outputs": []
    },
    {
      "cell_type": "code",
      "metadata": {
        "id": "0gMOoo85Apm4"
      },
      "source": [
        "history_plot_from_loss_acc(history_2, \"ImageDataGenerator\")"
      ],
      "execution_count": null,
      "outputs": []
    },
    {
      "cell_type": "markdown",
      "metadata": {
        "id": "nBm0mZMQVK8x"
      },
      "source": [
        "# model_3 add BatchNormalization "
      ]
    },
    {
      "cell_type": "code",
      "metadata": {
        "id": "4bnekVFZVRuR"
      },
      "source": [
        "learning_rate = 0.001\r\n",
        "dec_rate = 0 #1/4353 * 0.2 \r\n",
        "optim = Adam(lr=learning_rate, decay=dec_rate)\r\n",
        "\r\n",
        "model_3 = Sequential()\r\n",
        "model_3.add(Conv2D(32, (3,3), padding='valid', input_shape=(28,28,1)))\r\n",
        "model_3.add(BatchNormalization())\r\n",
        "model_3.add(ReLU())\r\n",
        "model_3.add(MaxPooling2D())\r\n",
        "\r\n",
        "model_3.add(Conv2D(64,(3,3), padding='valid'))\r\n",
        "model_3.add(BatchNormalization())\r\n",
        "model_3.add(ReLU())\r\n",
        "model_3.add(MaxPooling2D())\r\n",
        "\r\n",
        "\r\n",
        "model_3.add(Conv2D(128,(3,3), padding='valid'))\r\n",
        "model_3.add(BatchNormalization())\r\n",
        "model_3.add(ReLU())\r\n",
        "model_3.add(Flatten())\r\n",
        "\r\n",
        "model_3.add(Dense(64))\r\n",
        "model_3.add(BatchNormalization())\r\n",
        "model_3.add(ReLU())\r\n",
        "\r\n",
        "model_3.add(Dense(10,activation='softmax'))\r\n",
        "model_3.summary()"
      ],
      "execution_count": null,
      "outputs": []
    },
    {
      "cell_type": "code",
      "metadata": {
        "id": "fPls8l0oWQcz"
      },
      "source": [
        "model_3.compile(loss='sparse_categorical_crossentropy',optimizer='adam',metrics=['accuracy'])"
      ],
      "execution_count": null,
      "outputs": []
    },
    {
      "cell_type": "code",
      "metadata": {
        "id": "1gFW2MWjWQc1"
      },
      "source": [
        "history_3 = model_3.fit(X_train, y_train, epochs=15, validation_split=0.2)"
      ],
      "execution_count": null,
      "outputs": []
    },
    {
      "cell_type": "code",
      "metadata": {
        "id": "09cH1BQ6WQc4"
      },
      "source": [
        "model_3.evaluate(X_test, y_test)"
      ],
      "execution_count": null,
      "outputs": []
    },
    {
      "cell_type": "code",
      "metadata": {
        "id": "4Mgx_f43WQc5"
      },
      "source": [
        "history_plot_from_loss_acc(history_3, \"model_3 BatchNormalization\")"
      ],
      "execution_count": null,
      "outputs": []
    },
    {
      "cell_type": "markdown",
      "metadata": {
        "id": "M6fkkhzzTfe2"
      },
      "source": [
        "# model_4 with dropout and Batchnormalization"
      ]
    },
    {
      "cell_type": "code",
      "metadata": {
        "id": "kESeHVGFbYS6"
      },
      "source": [
        "drop_1 = 0.3 # Dropout rate  \r\n",
        "drop_2 = 0.5 # Dropout rate for 1st Dense layer\r\n",
        "\r\n",
        "learning_rate = 0.001\r\n",
        "dec_rate = 0 #1/4353 * 0.2 \r\n",
        "optim = Adam(lr=learning_rate, decay=dec_rate)\r\n",
        "\r\n",
        "model_4 = Sequential()\r\n",
        "model_4.add(Conv2D(32, (3,3), padding='valid', input_shape=(28,28,1)))\r\n",
        "model_4.add(BatchNormalization())\r\n",
        "model_4.add(ReLU())\r\n",
        "model_4.add(MaxPooling2D())\r\n",
        "model_4.add(Dropout(drop_1))\r\n",
        "\r\n",
        "model_4.add(Conv2D(64,(3,3), padding='valid'))\r\n",
        "model_4.add(BatchNormalization())\r\n",
        "model_4.add(ReLU())\r\n",
        "model_4.add(MaxPooling2D())\r\n",
        "model_4.add(Dropout(drop_1))\r\n",
        "\r\n",
        "model_4.add(Conv2D(128,(3,3), padding='valid'))\r\n",
        "model_4.add(BatchNormalization())\r\n",
        "model_4.add(ReLU())\r\n",
        "model_4.add(Flatten())\r\n",
        "model_4.add(Dropout(drop_2))\r\n",
        "\r\n",
        "model_4.add(Dense(64))\r\n",
        "model_4.add(BatchNormalization())\r\n",
        "model_4.add(ReLU())\r\n",
        "\r\n",
        "model_4.add(Dense(10,activation='softmax'))\r\n",
        "model_4.summary()"
      ],
      "execution_count": null,
      "outputs": []
    },
    {
      "cell_type": "code",
      "metadata": {
        "id": "QVg6hkXFdgf2"
      },
      "source": [
        "model_4.compile(loss='sparse_categorical_crossentropy',optimizer='adam',metrics=['accuracy'])"
      ],
      "execution_count": null,
      "outputs": []
    },
    {
      "cell_type": "code",
      "metadata": {
        "id": "FhZtEa-Ldgf2"
      },
      "source": [
        "history_4 = model_4.fit(X_train, y_train, epochs=15, validation_split=0.2)"
      ],
      "execution_count": null,
      "outputs": []
    },
    {
      "cell_type": "code",
      "metadata": {
        "id": "e3B5n0MQdgf3"
      },
      "source": [
        "model_4.evaluate(X_test, y_test)"
      ],
      "execution_count": null,
      "outputs": []
    },
    {
      "cell_type": "code",
      "metadata": {
        "id": "NJikJYRTdgf3"
      },
      "source": [
        "history_plot_from_loss_acc(history_4, \"model_4 BatchNormalization and dropout\")"
      ],
      "execution_count": null,
      "outputs": []
    }
  ]
}