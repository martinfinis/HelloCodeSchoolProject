{
  "nbformat": 4,
  "nbformat_minor": 0,
  "metadata": {
    "colab": {
      "name": "RNN_Quest_1_Martin.ipynb",
      "provenance": [],
      "collapsed_sections": [],
      "include_colab_link": true
    },
    "kernelspec": {
      "name": "python3",
      "display_name": "Python 3"
    },
    "accelerator": "GPU"
  },
  "cells": [
    {
      "cell_type": "markdown",
      "metadata": {
        "id": "view-in-github",
        "colab_type": "text"
      },
      "source": [
        "<a href=\"https://colab.research.google.com/github/martinfinis/HelloCodeSchoolProject/blob/master/RNN_Quest_1_Martin.ipynb\" target=\"_parent\"><img src=\"https://colab.research.google.com/assets/colab-badge.svg\" alt=\"Open In Colab\"/></a>"
      ]
    },
    {
      "cell_type": "markdown",
      "metadata": {
        "id": "cHL4LsucF3a1"
      },
      "source": [
        "RNN_Quest_1: We will implement a pretrained RNN_Model and classify some artwork! After all, this is more fun than looking at welding seems or lung cancer data. \n",
        "\n",
        "You can download the data from: \n",
        "\n",
        "https://www.kaggle.com/ikarus777/best-artworks-of-all-time?select=artists.csv"
      ]
    },
    {
      "cell_type": "markdown",
      "metadata": {
        "id": "V7Bs-MAyGBEr"
      },
      "source": [
        "Now only select the data in images of the following painters:\n",
        "\n",
        "- Rembrandt\n",
        "- Dürer\n",
        "- Leonardo da Vinci\n",
        "- Caravaggio \n",
        "- de Bongione \n",
        "\n",
        "These are required - if you want, you can also add others, like\n",
        "\n",
        "- Michelangelo \n",
        "\n",
        "- Raffael\n",
        "\n",
        "and even more. Just make sure that they are from sort of the same time and hence have a similar style. It's pretty easy to distinguish a Rembrandt from an Andy Warhol.\n",
        "\n",
        "After you have done that, put the images into a data structure like in the Live-Coding last week. You can do that with the script from then (altered of course) - or just do it by hand. But please do not split into Train, Validation and Test set by hand. Use sklearn or any other method to randomly sample the images of each folder into the three sets. \n",
        "\n",
        "\n"
      ]
    },
    {
      "cell_type": "code",
      "metadata": {
        "id": "WHL4TWI_JKCB"
      },
      "source": [
        "import keras,os\n",
        "import tensorflow as tf\n",
        "from keras.models import Sequential\n",
        "from keras.layers import Dense, Conv2D, MaxPool2D , Flatten,BatchNormalization,MaxPooling2D,Dropout\n",
        "from keras.preprocessing.image import ImageDataGenerator\n",
        "import numpy as np"
      ],
      "execution_count": 1,
      "outputs": []
    },
    {
      "cell_type": "code",
      "metadata": {
        "id": "TczIjenF_Ywg"
      },
      "source": [
        "import glob\n",
        "import cv2\n",
        "import keras,os\n",
        "import tensorflow as tf\n",
        "from os import listdir\n",
        "from os.path import isfile, join\n",
        "from keras.models import Sequential, load_model\n",
        "from keras.layers import Dense, Conv2D, MaxPool2D , Flatten,BatchNormalization,AveragePooling2D\n",
        "from tensorflow.keras.optimizers import Adam\n",
        "from keras.preprocessing.image import ImageDataGenerator\n",
        "from tensorflow.keras.callbacks import ModelCheckpoint,EarlyStopping\n",
        "\n",
        "import numpy as np\n",
        "import pandas as pd"
      ],
      "execution_count": 2,
      "outputs": []
    },
    {
      "cell_type": "markdown",
      "metadata": {
        "id": "s15_ovj8mc4A"
      },
      "source": [
        "# helper"
      ]
    },
    {
      "cell_type": "code",
      "metadata": {
        "id": "Rz48hMILBOQ1"
      },
      "source": [
        "from tensorflow.keras import datasets, layers, models\n",
        "import matplotlib.pyplot as plt\n",
        "import tensorflow as tf\n",
        "import numpy as np\n",
        "import seaborn as sns\n",
        "import pandas as pd\n",
        "\n",
        "def plot_confusion_matrix_x(labels,predictions,classes_name):\n",
        "  \"\"\"\n",
        "  example:\n",
        "  predictions=max_predict # np.argmax(y_predict, axis=-1)\n",
        "  labels=test_generator.classes\n",
        "  classes_name = artist_list\n",
        "  \"\"\"\n",
        "  con_mat = tf.math.confusion_matrix(labels=labels, predictions=np.argmax(predictions, axis=-1) ).numpy()\n",
        "  con_mat_norm = np.around(con_mat.astype('float') / con_mat.sum(axis=1)[:, np.newaxis], decimals=2)\n",
        "\n",
        "  con_mat_df = pd.DataFrame(con_mat_norm,index = classes_name,columns = classes_name)\n",
        "\n",
        "  figure = plt.figure(figsize=(8, 8))\n",
        "  sns.heatmap(con_mat_df, annot=True,cmap=plt.cm.Blues)\n",
        "  plt.tight_layout()\n",
        "  plt.ylabel('True label')\n",
        "  plt.xlabel('Predicted label')\n",
        "  plt.show()"
      ],
      "execution_count": 3,
      "outputs": []
    },
    {
      "cell_type": "code",
      "metadata": {
        "id": "829WSgdImcey"
      },
      "source": [
        "import matplotlib.pyplot as plt\n",
        "\n",
        "def history_plot_from_loss_acc(history, title):\n",
        "  plt.figure(figsize=(10,5))\n",
        "\n",
        "  train_loss_list = history.history['loss']\n",
        "  train_accuracy = history.history['accuracy']\n",
        "  val_loss_list = history.history['val_loss']\n",
        "  val_accuracy_list = history.history['val_accuracy']\n",
        "  x = history.epoch\n",
        "  \n",
        "  plt.subplot(1,2,1)\n",
        "  plt.plot(x, train_loss_list)\n",
        "  plt.plot(x, val_loss_list)\n",
        "  plt.legend(['train_loss', 'val_loss'])\n",
        "  plt.title(title+\"_ LOSS\")\n",
        "  \n",
        "  plt.subplot(1,2,2)\n",
        "  plt.plot(x, train_accuracy)\n",
        "  plt.plot(x, val_accuracy_list)\n",
        "  plt.legend(['train_acc','val_accuracy'])\n",
        "  plt.title(title+\"_ ACCURACY\")\n",
        "  plt.show()"
      ],
      "execution_count": 4,
      "outputs": []
    },
    {
      "cell_type": "code",
      "metadata": {
        "id": "B6xG2fSgorbA"
      },
      "source": [
        "def create_result_df(y_predict,test_generator):\n",
        "  \"\"\"\n",
        "  y_predict_vgg16 = y_predict\n",
        "  test_generator = generator\n",
        "  sub_path = 'test\n",
        "\n",
        "  uses function:\n",
        "  get_image_information(main_target_path=main_target_path,\n",
        "            sub_path='test',\n",
        "            class_list=artist_list,\n",
        "            data_format=data_format)\n",
        "\n",
        "  \"\"\"\n",
        "  y_predict = np.argmax(y_predict, axis=-1)\n",
        "  pre_file_df = pd.DataFrame(data=[y_predict,test_generator.filenames]).T\n",
        "  pre_file_df.columns = ['predict','class_name']\n",
        "\n",
        "  df_test =get_image_information(main_target_path=main_target_path,sub_path='test',class_list=artist_list,data_format=data_format)\n",
        "  df_test['class_name']=df_test.apply(lambda x: (str(x.class_x)+\"/\"+str(x.name_x)),axis=1)\n",
        "  df_test = pd.merge(df_test, pre_file_df, on=[\"class_name\", \"class_name\"])\n",
        "  df_test['class_value'] = df_test.class_x.map(artist_class_name_dict)\n",
        "  df_test['test_result'] = df_test.apply(lambda x: x.predict == x.class_value,axis = 1)\n",
        "\n",
        "  df_groups = df_test.groupby('class_x').agg( class_sum =('class_x','count'),test_sum =('test_result','sum')).reset_index()\n",
        "  df_groups['percent_all'] = (df_groups['class_sum']/df_groups['class_sum'].sum())*100\n",
        "  df_groups['percent_test'] = (df_groups['test_sum']/df_groups['class_sum'])*100\n",
        "  return df_groups\n",
        "\n"
      ],
      "execution_count": 5,
      "outputs": []
    },
    {
      "cell_type": "code",
      "metadata": {
        "id": "C8UJH6f7G2oA",
        "colab": {
          "base_uri": "https://localhost:8080/"
        },
        "outputId": "8910ce34-2ec2-4853-c49b-1b68e9309190"
      },
      "source": [
        "# mount google drive to access dataset food\n",
        "from google.colab import drive\n",
        "drive.mount('/content/drive')\n",
        "# change directory\n",
        "%cd /content/\n",
        "# create new local directory, i.e. on the current machine which you are connected to\n",
        "!mkdir local_data   # could also be another name than local_data"
      ],
      "execution_count": 6,
      "outputs": [
        {
          "output_type": "stream",
          "text": [
            "Drive already mounted at /content/drive; to attempt to forcibly remount, call drive.mount(\"/content/drive\", force_remount=True).\n",
            "/content\n",
            "mkdir: cannot create directory ‘local_data’: File exists\n"
          ],
          "name": "stdout"
        }
      ]
    },
    {
      "cell_type": "code",
      "metadata": {
        "colab": {
          "base_uri": "https://localhost:8080/"
        },
        "id": "xbEyKYugFAe2",
        "collapsed": true,
        "outputId": "2e66e49d-ea66-4a4d-fcae-e2d75fcaf43a"
      },
      "source": [
        "#/content/drive/MyDrive/Copy_Material_AIDA_2021/Specialization_ML3/Week_3/resized.zip\n",
        "!unzip '/content/drive/MyDrive/Copy_Material_AIDA_2021/_spec_ML3_wolfgang/Week_3/resized.zip' -d local_data"
      ],
      "execution_count": 7,
      "outputs": [
        {
          "output_type": "stream",
          "text": [
            "Archive:  /content/drive/MyDrive/Copy_Material_AIDA_2021/_spec_ML3_wolfgang/Week_3/resized.zip\n",
            " extracting: local_data/resized/Albrecht_DuтХа├кrer_1.jpg  \n",
            " extracting: local_data/resized/Albrecht_DuтХа├кrer_10.jpg  \n",
            " extracting: local_data/resized/Albrecht_DuтХа├кrer_100.jpg  \n",
            "  inflating: local_data/resized/Albrecht_DuтХа├кrer_101.jpg  \n",
            "  inflating: local_data/resized/Albrecht_DuтХа├кrer_102.jpg  \n",
            "  inflating: local_data/resized/Albrecht_DuтХа├кrer_103.jpg  \n",
            " extracting: local_data/resized/Albrecht_DuтХа├кrer_104.jpg  \n",
            "  inflating: local_data/resized/Albrecht_DuтХа├кrer_105.jpg  \n",
            " extracting: local_data/resized/Albrecht_DuтХа├кrer_106.jpg  \n",
            " extracting: local_data/resized/Albrecht_DuтХа├кrer_107.jpg  \n",
            " extracting: local_data/resized/Albrecht_DuтХа├кrer_108.jpg  \n",
            " extracting: local_data/resized/Albrecht_DuтХа├кrer_109.jpg  \n",
            "  inflating: local_data/resized/Albrecht_DuтХа├кrer_11.jpg  \n",
            "  inflating: local_data/resized/Albrecht_DuтХа├кrer_110.jpg  \n",
            " extracting: local_data/resized/Albrecht_DuтХа├кrer_111.jpg  \n",
            "  inflating: local_data/resized/Albrecht_DuтХа├кrer_112.jpg  \n",
            " extracting: local_data/resized/Albrecht_DuтХа├кrer_113.jpg  \n",
            " extracting: local_data/resized/Albrecht_DuтХа├кrer_114.jpg  \n",
            "  inflating: local_data/resized/Albrecht_DuтХа├кrer_115.jpg  \n",
            " extracting: local_data/resized/Albrecht_DuтХа├кrer_116.jpg  \n",
            "  inflating: local_data/resized/Albrecht_DuтХа├кrer_117.jpg  \n",
            " extracting: local_data/resized/Albrecht_DuтХа├кrer_118.jpg  \n",
            " extracting: local_data/resized/Albrecht_DuтХа├кrer_119.jpg  \n",
            "  inflating: local_data/resized/Albrecht_DuтХа├кrer_12.jpg  \n",
            "  inflating: local_data/resized/Albrecht_DuтХа├кrer_120.jpg  \n",
            " extracting: local_data/resized/Albrecht_DuтХа├кrer_121.jpg  \n",
            " extracting: local_data/resized/Albrecht_DuтХа├кrer_122.jpg  \n",
            " extracting: local_data/resized/Albrecht_DuтХа├кrer_123.jpg  \n",
            " extracting: local_data/resized/Albrecht_DuтХа├кrer_124.jpg  \n",
            "  inflating: local_data/resized/Albrecht_DuтХа├кrer_125.jpg  \n",
            " extracting: local_data/resized/Albrecht_DuтХа├кrer_126.jpg  \n",
            " extracting: local_data/resized/Albrecht_DuтХа├кrer_127.jpg  \n",
            " extracting: local_data/resized/Albrecht_DuтХа├кrer_128.jpg  \n",
            " extracting: local_data/resized/Albrecht_DuтХа├кrer_129.jpg  \n",
            " extracting: local_data/resized/Albrecht_DuтХа├кrer_13.jpg  \n",
            "  inflating: local_data/resized/Albrecht_DuтХа├кrer_130.jpg  \n",
            " extracting: local_data/resized/Albrecht_DuтХа├кrer_131.jpg  \n",
            " extracting: local_data/resized/Albrecht_DuтХа├кrer_132.jpg  \n",
            " extracting: local_data/resized/Albrecht_DuтХа├кrer_133.jpg  \n",
            "  inflating: local_data/resized/Albrecht_DuтХа├кrer_134.jpg  \n",
            "  inflating: local_data/resized/Albrecht_DuтХа├кrer_135.jpg  \n",
            "  inflating: local_data/resized/Albrecht_DuтХа├кrer_136.jpg  \n",
            " extracting: local_data/resized/Albrecht_DuтХа├кrer_137.jpg  \n",
            " extracting: local_data/resized/Albrecht_DuтХа├кrer_138.jpg  \n",
            "  inflating: local_data/resized/Albrecht_DuтХа├кrer_139.jpg  \n",
            " extracting: local_data/resized/Albrecht_DuтХа├кrer_14.jpg  \n",
            " extracting: local_data/resized/Albrecht_DuтХа├кrer_140.jpg  \n",
            " extracting: local_data/resized/Albrecht_DuтХа├кrer_141.jpg  \n",
            "  inflating: local_data/resized/Albrecht_DuтХа├кrer_142.jpg  \n",
            " extracting: local_data/resized/Albrecht_DuтХа├кrer_143.jpg  \n",
            " extracting: local_data/resized/Albrecht_DuтХа├кrer_144.jpg  \n",
            " extracting: local_data/resized/Albrecht_DuтХа├кrer_145.jpg  \n",
            " extracting: local_data/resized/Albrecht_DuтХа├кrer_146.jpg  \n",
            " extracting: local_data/resized/Albrecht_DuтХа├кrer_147.jpg  \n",
            "  inflating: local_data/resized/Albrecht_DuтХа├кrer_148.jpg  \n",
            " extracting: local_data/resized/Albrecht_DuтХа├кrer_149.jpg  \n",
            " extracting: local_data/resized/Albrecht_DuтХа├кrer_15.jpg  \n",
            " extracting: local_data/resized/Albrecht_DuтХа├кrer_150.jpg  \n",
            "  inflating: local_data/resized/Albrecht_DuтХа├кrer_151.jpg  \n",
            " extracting: local_data/resized/Albrecht_DuтХа├кrer_152.jpg  \n",
            " extracting: local_data/resized/Albrecht_DuтХа├кrer_153.jpg  \n",
            " extracting: local_data/resized/Albrecht_DuтХа├кrer_154.jpg  \n",
            " extracting: local_data/resized/Albrecht_DuтХа├кrer_155.jpg  \n",
            " extracting: local_data/resized/Albrecht_DuтХа├кrer_156.jpg  \n",
            "  inflating: local_data/resized/Albrecht_DuтХа├кrer_157.jpg  \n",
            " extracting: local_data/resized/Albrecht_DuтХа├кrer_158.jpg  \n",
            " extracting: local_data/resized/Albrecht_DuтХа├кrer_159.jpg  \n",
            "  inflating: local_data/resized/Albrecht_DuтХа├кrer_16.jpg  \n",
            " extracting: local_data/resized/Albrecht_DuтХа├кrer_160.jpg  \n",
            " extracting: local_data/resized/Albrecht_DuтХа├кrer_161.jpg  \n",
            " extracting: local_data/resized/Albrecht_DuтХа├кrer_162.jpg  \n",
            " extracting: local_data/resized/Albrecht_DuтХа├кrer_163.jpg  \n",
            " extracting: local_data/resized/Albrecht_DuтХа├кrer_164.jpg  \n",
            "  inflating: local_data/resized/Albrecht_DuтХа├кrer_165.jpg  \n",
            " extracting: local_data/resized/Albrecht_DuтХа├кrer_166.jpg  \n",
            "  inflating: local_data/resized/Albrecht_DuтХа├кrer_167.jpg  \n",
            "  inflating: local_data/resized/Albrecht_DuтХа├кrer_168.jpg  \n",
            " extracting: local_data/resized/Albrecht_DuтХа├кrer_169.jpg  \n",
            " extracting: local_data/resized/Albrecht_DuтХа├кrer_17.jpg  \n",
            "  inflating: local_data/resized/Albrecht_DuтХа├кrer_170.jpg  \n",
            " extracting: local_data/resized/Albrecht_DuтХа├кrer_171.jpg  \n",
            " extracting: local_data/resized/Albrecht_DuтХа├кrer_172.jpg  \n",
            " extracting: local_data/resized/Albrecht_DuтХа├кrer_173.jpg  \n",
            " extracting: local_data/resized/Albrecht_DuтХа├кrer_174.jpg  \n",
            " extracting: local_data/resized/Albrecht_DuтХа├кrer_175.jpg  \n",
            " extracting: local_data/resized/Albrecht_DuтХа├кrer_176.jpg  \n",
            " extracting: local_data/resized/Albrecht_DuтХа├кrer_177.jpg  \n",
            " extracting: local_data/resized/Albrecht_DuтХа├кrer_178.jpg  \n",
            " extracting: local_data/resized/Albrecht_DuтХа├кrer_179.jpg  \n",
            " extracting: local_data/resized/Albrecht_DuтХа├кrer_18.jpg  \n",
            " extracting: local_data/resized/Albrecht_DuтХа├кrer_180.jpg  \n",
            " extracting: local_data/resized/Albrecht_DuтХа├кrer_181.jpg  \n",
            " extracting: local_data/resized/Albrecht_DuтХа├кrer_182.jpg  \n",
            "  inflating: local_data/resized/Albrecht_DuтХа├кrer_183.jpg  \n",
            " extracting: local_data/resized/Albrecht_DuтХа├кrer_184.jpg  \n",
            " extracting: local_data/resized/Albrecht_DuтХа├кrer_185.jpg  \n",
            " extracting: local_data/resized/Albrecht_DuтХа├кrer_186.jpg  \n",
            "  inflating: local_data/resized/Albrecht_DuтХа├кrer_187.jpg  \n",
            " extracting: local_data/resized/Albrecht_DuтХа├кrer_188.jpg  \n",
            " extracting: local_data/resized/Albrecht_DuтХа├кrer_189.jpg  \n",
            " extracting: local_data/resized/Albrecht_DuтХа├кrer_19.jpg  \n",
            " extracting: local_data/resized/Albrecht_DuтХа├кrer_190.jpg  \n",
            "  inflating: local_data/resized/Albrecht_DuтХа├кrer_191.jpg  \n",
            "  inflating: local_data/resized/Albrecht_DuтХа├кrer_192.jpg  \n",
            "  inflating: local_data/resized/Albrecht_DuтХа├кrer_193.jpg  \n",
            " extracting: local_data/resized/Albrecht_DuтХа├кrer_194.jpg  \n",
            " extracting: local_data/resized/Albrecht_DuтХа├кrer_195.jpg  \n",
            "  inflating: local_data/resized/Albrecht_DuтХа├кrer_196.jpg  \n",
            " extracting: local_data/resized/Albrecht_DuтХа├кrer_197.jpg  \n",
            " extracting: local_data/resized/Albrecht_DuтХа├кrer_198.jpg  \n",
            "  inflating: local_data/resized/Albrecht_DuтХа├кrer_199.jpg  \n",
            " extracting: local_data/resized/Albrecht_DuтХа├кrer_2.jpg  \n",
            " extracting: local_data/resized/Albrecht_DuтХа├кrer_20.jpg  \n",
            " extracting: local_data/resized/Albrecht_DuтХа├кrer_200.jpg  \n",
            " extracting: local_data/resized/Albrecht_DuтХа├кrer_201.jpg  \n",
            " extracting: local_data/resized/Albrecht_DuтХа├кrer_202.jpg  \n",
            " extracting: local_data/resized/Albrecht_DuтХа├кrer_203.jpg  \n",
            "  inflating: local_data/resized/Albrecht_DuтХа├кrer_204.jpg  \n",
            " extracting: local_data/resized/Albrecht_DuтХа├кrer_205.jpg  \n",
            " extracting: local_data/resized/Albrecht_DuтХа├кrer_206.jpg  \n",
            " extracting: local_data/resized/Albrecht_DuтХа├кrer_207.jpg  \n",
            "  inflating: local_data/resized/Albrecht_DuтХа├кrer_208.jpg  \n",
            " extracting: local_data/resized/Albrecht_DuтХа├кrer_209.jpg  \n",
            " extracting: local_data/resized/Albrecht_DuтХа├кrer_21.jpg  \n",
            " extracting: local_data/resized/Albrecht_DuтХа├кrer_210.jpg  \n",
            " extracting: local_data/resized/Albrecht_DuтХа├кrer_211.jpg  \n",
            "  inflating: local_data/resized/Albrecht_DuтХа├кrer_212.jpg  \n",
            " extracting: local_data/resized/Albrecht_DuтХа├кrer_213.jpg  \n",
            " extracting: local_data/resized/Albrecht_DuтХа├кrer_214.jpg  \n",
            "  inflating: local_data/resized/Albrecht_DuтХа├кrer_215.jpg  \n",
            " extracting: local_data/resized/Albrecht_DuтХа├кrer_216.jpg  \n",
            " extracting: local_data/resized/Albrecht_DuтХа├кrer_217.jpg  \n",
            " extracting: local_data/resized/Albrecht_DuтХа├кrer_218.jpg  \n",
            " extracting: local_data/resized/Albrecht_DuтХа├кrer_219.jpg  \n",
            " extracting: local_data/resized/Albrecht_DuтХа├кrer_22.jpg  \n",
            "  inflating: local_data/resized/Albrecht_DuтХа├кrer_220.jpg  \n",
            " extracting: local_data/resized/Albrecht_DuтХа├кrer_221.jpg  \n",
            " extracting: local_data/resized/Albrecht_DuтХа├кrer_222.jpg  \n",
            "  inflating: local_data/resized/Albrecht_DuтХа├кrer_223.jpg  \n",
            "  inflating: local_data/resized/Albrecht_DuтХа├кrer_224.jpg  \n",
            " extracting: local_data/resized/Albrecht_DuтХа├кrer_225.jpg  \n",
            " extracting: local_data/resized/Albrecht_DuтХа├кrer_226.jpg  \n",
            " extracting: local_data/resized/Albrecht_DuтХа├кrer_227.jpg  \n",
            " extracting: local_data/resized/Albrecht_DuтХа├кrer_228.jpg  \n",
            " extracting: local_data/resized/Albrecht_DuтХа├кrer_229.jpg  \n",
            " extracting: local_data/resized/Albrecht_DuтХа├кrer_23.jpg  \n",
            " extracting: local_data/resized/Albrecht_DuтХа├кrer_230.jpg  \n",
            " extracting: local_data/resized/Albrecht_DuтХа├кrer_231.jpg  \n",
            "  inflating: local_data/resized/Albrecht_DuтХа├кrer_232.jpg  \n",
            "  inflating: local_data/resized/Albrecht_DuтХа├кrer_233.jpg  \n",
            "  inflating: local_data/resized/Albrecht_DuтХа├кrer_234.jpg  \n",
            " extracting: local_data/resized/Albrecht_DuтХа├кrer_235.jpg  \n",
            "  inflating: local_data/resized/Albrecht_DuтХа├кrer_236.jpg  \n",
            " extracting: local_data/resized/Albrecht_DuтХа├кrer_237.jpg  \n",
            " extracting: local_data/resized/Albrecht_DuтХа├кrer_238.jpg  \n",
            "  inflating: local_data/resized/Albrecht_DuтХа├кrer_239.jpg  \n",
            "  inflating: local_data/resized/Albrecht_DuтХа├кrer_24.jpg  \n",
            "  inflating: local_data/resized/Albrecht_DuтХа├кrer_240.jpg  \n",
            " extracting: local_data/resized/Albrecht_DuтХа├кrer_241.jpg  \n",
            " extracting: local_data/resized/Albrecht_DuтХа├кrer_242.jpg  \n",
            " extracting: local_data/resized/Albrecht_DuтХа├кrer_243.jpg  \n",
            " extracting: local_data/resized/Albrecht_DuтХа├кrer_244.jpg  \n",
            "  inflating: local_data/resized/Albrecht_DuтХа├кrer_245.jpg  \n",
            "  inflating: local_data/resized/Albrecht_DuтХа├кrer_246.jpg  \n",
            "  inflating: local_data/resized/Albrecht_DuтХа├кrer_247.jpg  \n",
            " extracting: local_data/resized/Albrecht_DuтХа├кrer_248.jpg  \n",
            " extracting: local_data/resized/Albrecht_DuтХа├кrer_249.jpg  \n",
            "  inflating: local_data/resized/Albrecht_DuтХа├кrer_25.jpg  \n",
            " extracting: local_data/resized/Albrecht_DuтХа├кrer_250.jpg  \n",
            " extracting: local_data/resized/Albrecht_DuтХа├кrer_251.jpg  \n",
            " extracting: local_data/resized/Albrecht_DuтХа├кrer_252.jpg  \n",
            " extracting: local_data/resized/Albrecht_DuтХа├кrer_253.jpg  \n",
            " extracting: local_data/resized/Albrecht_DuтХа├кrer_254.jpg  \n",
            " extracting: local_data/resized/Albrecht_DuтХа├кrer_255.jpg  \n",
            " extracting: local_data/resized/Albrecht_DuтХа├кrer_256.jpg  \n",
            " extracting: local_data/resized/Albrecht_DuтХа├кrer_257.jpg  \n",
            "  inflating: local_data/resized/Albrecht_DuтХа├кrer_258.jpg  \n",
            " extracting: local_data/resized/Albrecht_DuтХа├кrer_259.jpg  \n",
            " extracting: local_data/resized/Albrecht_DuтХа├кrer_26.jpg  \n",
            " extracting: local_data/resized/Albrecht_DuтХа├кrer_260.jpg  \n",
            "  inflating: local_data/resized/Albrecht_DuтХа├кrer_261.jpg  \n",
            "  inflating: local_data/resized/Albrecht_DuтХа├кrer_262.jpg  \n",
            " extracting: local_data/resized/Albrecht_DuтХа├кrer_263.jpg  \n",
            "  inflating: local_data/resized/Albrecht_DuтХа├кrer_264.jpg  \n",
            " extracting: local_data/resized/Albrecht_DuтХа├кrer_265.jpg  \n",
            "  inflating: local_data/resized/Albrecht_DuтХа├кrer_266.jpg  \n",
            " extracting: local_data/resized/Albrecht_DuтХа├кrer_267.jpg  \n",
            "  inflating: local_data/resized/Albrecht_DuтХа├кrer_268.jpg  \n",
            " extracting: local_data/resized/Albrecht_DuтХа├кrer_269.jpg  \n",
            "  inflating: local_data/resized/Albrecht_DuтХа├кrer_27.jpg  \n",
            " extracting: local_data/resized/Albrecht_DuтХа├кrer_270.jpg  \n",
            " extracting: local_data/resized/Albrecht_DuтХа├кrer_271.jpg  \n",
            " extracting: local_data/resized/Albrecht_DuтХа├кrer_272.jpg  \n",
            "  inflating: local_data/resized/Albrecht_DuтХа├кrer_273.jpg  \n",
            " extracting: local_data/resized/Albrecht_DuтХа├кrer_274.jpg  \n",
            " extracting: local_data/resized/Albrecht_DuтХа├кrer_275.jpg  \n",
            " extracting: local_data/resized/Albrecht_DuтХа├кrer_276.jpg  \n",
            "  inflating: local_data/resized/Albrecht_DuтХа├кrer_277.jpg  \n",
            " extracting: local_data/resized/Albrecht_DuтХа├кrer_278.jpg  \n",
            " extracting: local_data/resized/Albrecht_DuтХа├кrer_279.jpg  \n",
            " extracting: local_data/resized/Albrecht_DuтХа├кrer_28.jpg  \n",
            "  inflating: local_data/resized/Albrecht_DuтХа├кrer_280.jpg  \n",
            "  inflating: local_data/resized/Albrecht_DuтХа├кrer_281.jpg  \n",
            "  inflating: local_data/resized/Albrecht_DuтХа├кrer_282.jpg  \n",
            " extracting: local_data/resized/Albrecht_DuтХа├кrer_283.jpg  \n",
            " extracting: local_data/resized/Albrecht_DuтХа├кrer_284.jpg  \n",
            " extracting: local_data/resized/Albrecht_DuтХа├кrer_285.jpg  \n",
            " extracting: local_data/resized/Albrecht_DuтХа├кrer_286.jpg  \n",
            "  inflating: local_data/resized/Albrecht_DuтХа├кrer_287.jpg  \n",
            "  inflating: local_data/resized/Albrecht_DuтХа├кrer_288.jpg  \n",
            "  inflating: local_data/resized/Albrecht_DuтХа├кrer_289.jpg  \n",
            " extracting: local_data/resized/Albrecht_DuтХа├кrer_29.jpg  \n",
            "  inflating: local_data/resized/Albrecht_DuтХа├кrer_290.jpg  \n",
            " extracting: local_data/resized/Albrecht_DuтХа├кrer_291.jpg  \n",
            " extracting: local_data/resized/Albrecht_DuтХа├кrer_292.jpg  \n",
            " extracting: local_data/resized/Albrecht_DuтХа├кrer_293.jpg  \n",
            " extracting: local_data/resized/Albrecht_DuтХа├кrer_294.jpg  \n",
            " extracting: local_data/resized/Albrecht_DuтХа├кrer_295.jpg  \n",
            " extracting: local_data/resized/Albrecht_DuтХа├кrer_296.jpg  \n",
            "  inflating: local_data/resized/Albrecht_DuтХа├кrer_297.jpg  \n",
            " extracting: local_data/resized/Albrecht_DuтХа├кrer_298.jpg  \n",
            " extracting: local_data/resized/Albrecht_DuтХа├кrer_299.jpg  \n",
            "  inflating: local_data/resized/Albrecht_DuтХа├кrer_3.jpg  \n",
            "  inflating: local_data/resized/Albrecht_DuтХа├кrer_30.jpg  \n",
            " extracting: local_data/resized/Albrecht_DuтХа├кrer_300.jpg  \n",
            " extracting: local_data/resized/Albrecht_DuтХа├кrer_301.jpg  \n",
            " extracting: local_data/resized/Albrecht_DuтХа├кrer_302.jpg  \n",
            "  inflating: local_data/resized/Albrecht_DuтХа├кrer_303.jpg  \n",
            " extracting: local_data/resized/Albrecht_DuтХа├кrer_304.jpg  \n",
            " extracting: local_data/resized/Albrecht_DuтХа├кrer_305.jpg  \n",
            " extracting: local_data/resized/Albrecht_DuтХа├кrer_306.jpg  \n",
            "  inflating: local_data/resized/Albrecht_DuтХа├кrer_307.jpg  \n",
            "  inflating: local_data/resized/Albrecht_DuтХа├кrer_308.jpg  \n",
            " extracting: local_data/resized/Albrecht_DuтХа├кrer_309.jpg  \n",
            " extracting: local_data/resized/Albrecht_DuтХа├кrer_31.jpg  \n",
            " extracting: local_data/resized/Albrecht_DuтХа├кrer_310.jpg  \n",
            "  inflating: local_data/resized/Albrecht_DuтХа├кrer_311.jpg  \n",
            "  inflating: local_data/resized/Albrecht_DuтХа├кrer_312.jpg  \n",
            " extracting: local_data/resized/Albrecht_DuтХа├кrer_313.jpg  \n",
            " extracting: local_data/resized/Albrecht_DuтХа├кrer_314.jpg  \n",
            "  inflating: local_data/resized/Albrecht_DuтХа├кrer_315.jpg  \n",
            " extracting: local_data/resized/Albrecht_DuтХа├кrer_316.jpg  \n",
            " extracting: local_data/resized/Albrecht_DuтХа├кrer_317.jpg  \n",
            " extracting: local_data/resized/Albrecht_DuтХа├кrer_318.jpg  \n",
            " extracting: local_data/resized/Albrecht_DuтХа├кrer_319.jpg  \n",
            " extracting: local_data/resized/Albrecht_DuтХа├кrer_32.jpg  \n",
            " extracting: local_data/resized/Albrecht_DuтХа├кrer_320.jpg  \n",
            " extracting: local_data/resized/Albrecht_DuтХа├кrer_321.jpg  \n",
            "  inflating: local_data/resized/Albrecht_DuтХа├кrer_322.jpg  \n",
            "  inflating: local_data/resized/Albrecht_DuтХа├кrer_323.jpg  \n",
            "  inflating: local_data/resized/Albrecht_DuтХа├кrer_324.jpg  \n",
            " extracting: local_data/resized/Albrecht_DuтХа├кrer_325.jpg  \n",
            " extracting: local_data/resized/Albrecht_DuтХа├кrer_326.jpg  \n",
            "  inflating: local_data/resized/Albrecht_DuтХа├кrer_327.jpg  \n",
            " extracting: local_data/resized/Albrecht_DuтХа├кrer_328.jpg  \n",
            "  inflating: local_data/resized/Albrecht_DuтХа├кrer_33.jpg  \n",
            " extracting: local_data/resized/Albrecht_DuтХа├кrer_34.jpg  \n",
            " extracting: local_data/resized/Albrecht_DuтХа├кrer_35.jpg  \n",
            " extracting: local_data/resized/Albrecht_DuтХа├кrer_36.jpg  \n",
            " extracting: local_data/resized/Albrecht_DuтХа├кrer_37.jpg  \n",
            "  inflating: local_data/resized/Albrecht_DuтХа├кrer_38.jpg  \n",
            " extracting: local_data/resized/Albrecht_DuтХа├кrer_39.jpg  \n",
            "  inflating: local_data/resized/Albrecht_DuтХа├кrer_4.jpg  \n",
            " extracting: local_data/resized/Albrecht_DuтХа├кrer_40.jpg  \n",
            " extracting: local_data/resized/Albrecht_DuтХа├кrer_41.jpg  \n",
            " extracting: local_data/resized/Albrecht_DuтХа├кrer_42.jpg  \n",
            "  inflating: local_data/resized/Albrecht_DuтХа├кrer_43.jpg  \n",
            "  inflating: local_data/resized/Albrecht_DuтХа├кrer_44.jpg  \n",
            " extracting: local_data/resized/Albrecht_DuтХа├кrer_45.jpg  \n",
            " extracting: local_data/resized/Albrecht_DuтХа├кrer_46.jpg  \n",
            " extracting: local_data/resized/Albrecht_DuтХа├кrer_47.jpg  \n",
            " extracting: local_data/resized/Albrecht_DuтХа├кrer_48.jpg  \n",
            " extracting: local_data/resized/Albrecht_DuтХа├кrer_49.jpg  \n",
            "  inflating: local_data/resized/Albrecht_DuтХа├кrer_5.jpg  \n",
            "  inflating: local_data/resized/Albrecht_DuтХа├кrer_50.jpg  \n",
            " extracting: local_data/resized/Albrecht_DuтХа├кrer_51.jpg  \n",
            "  inflating: local_data/resized/Albrecht_DuтХа├кrer_52.jpg  \n",
            " extracting: local_data/resized/Albrecht_DuтХа├кrer_53.jpg  \n",
            "  inflating: local_data/resized/Albrecht_DuтХа├кrer_54.jpg  \n",
            " extracting: local_data/resized/Albrecht_DuтХа├кrer_55.jpg  \n",
            " extracting: local_data/resized/Albrecht_DuтХа├кrer_56.jpg  \n",
            "  inflating: local_data/resized/Albrecht_DuтХа├кrer_57.jpg  \n",
            "  inflating: local_data/resized/Albrecht_DuтХа├кrer_58.jpg  \n",
            "  inflating: local_data/resized/Albrecht_DuтХа├кrer_59.jpg  \n",
            "  inflating: local_data/resized/Albrecht_DuтХа├кrer_6.jpg  \n",
            " extracting: local_data/resized/Albrecht_DuтХа├кrer_60.jpg  \n",
            " extracting: local_data/resized/Albrecht_DuтХа├кrer_61.jpg  \n",
            " extracting: local_data/resized/Albrecht_DuтХа├кrer_62.jpg  \n",
            "  inflating: local_data/resized/Albrecht_DuтХа├кrer_63.jpg  \n",
            "  inflating: local_data/resized/Albrecht_DuтХа├кrer_64.jpg  \n",
            " extracting: local_data/resized/Albrecht_DuтХа├кrer_65.jpg  \n",
            " extracting: local_data/resized/Albrecht_DuтХа├кrer_66.jpg  \n",
            " extracting: local_data/resized/Albrecht_DuтХа├кrer_67.jpg  \n",
            " extracting: local_data/resized/Albrecht_DuтХа├кrer_68.jpg  \n",
            " extracting: local_data/resized/Albrecht_DuтХа├кrer_69.jpg  \n",
            " extracting: local_data/resized/Albrecht_DuтХа├кrer_7.jpg  \n",
            " extracting: local_data/resized/Albrecht_DuтХа├кrer_70.jpg  \n",
            "  inflating: local_data/resized/Albrecht_DuтХа├кrer_71.jpg  \n",
            " extracting: local_data/resized/Albrecht_DuтХа├кrer_72.jpg  \n",
            "  inflating: local_data/resized/Albrecht_DuтХа├кrer_73.jpg  \n",
            " extracting: local_data/resized/Albrecht_DuтХа├кrer_74.jpg  \n",
            " extracting: local_data/resized/Albrecht_DuтХа├кrer_75.jpg  \n",
            " extracting: local_data/resized/Albrecht_DuтХа├кrer_76.jpg  \n",
            " extracting: local_data/resized/Albrecht_DuтХа├кrer_77.jpg  \n",
            "  inflating: local_data/resized/Albrecht_DuтХа├кrer_78.jpg  \n",
            "  inflating: local_data/resized/Albrecht_DuтХа├кrer_79.jpg  \n",
            "  inflating: local_data/resized/Albrecht_DuтХа├кrer_8.jpg  \n",
            " extracting: local_data/resized/Albrecht_DuтХа├кrer_80.jpg  \n",
            "  inflating: local_data/resized/Albrecht_DuтХа├кrer_81.jpg  \n",
            " extracting: local_data/resized/Albrecht_DuтХа├кrer_82.jpg  \n",
            "  inflating: local_data/resized/Albrecht_DuтХа├кrer_83.jpg  \n",
            "  inflating: local_data/resized/Albrecht_DuтХа├кrer_84.jpg  \n",
            "  inflating: local_data/resized/Albrecht_DuтХа├кrer_85.jpg  \n",
            "  inflating: local_data/resized/Albrecht_DuтХа├кrer_86.jpg  \n",
            " extracting: local_data/resized/Albrecht_DuтХа├кrer_87.jpg  \n",
            " extracting: local_data/resized/Albrecht_DuтХа├кrer_88.jpg  \n",
            "  inflating: local_data/resized/Albrecht_DuтХа├кrer_89.jpg  \n",
            "  inflating: local_data/resized/Albrecht_DuтХа├кrer_9.jpg  \n",
            " extracting: local_data/resized/Albrecht_DuтХа├кrer_90.jpg  \n",
            " extracting: local_data/resized/Albrecht_DuтХа├кrer_91.jpg  \n",
            "  inflating: local_data/resized/Albrecht_DuтХа├кrer_92.jpg  \n",
            "  inflating: local_data/resized/Albrecht_DuтХа├кrer_93.jpg  \n",
            " extracting: local_data/resized/Albrecht_DuтХа├кrer_94.jpg  \n",
            " extracting: local_data/resized/Albrecht_DuтХа├кrer_95.jpg  \n",
            " extracting: local_data/resized/Albrecht_DuтХа├кrer_96.jpg  \n",
            "  inflating: local_data/resized/Albrecht_DuтХа├кrer_97.jpg  \n",
            " extracting: local_data/resized/Albrecht_DuтХа├кrer_98.jpg  \n",
            "  inflating: local_data/resized/Albrecht_DuтХа├кrer_99.jpg  \n",
            " extracting: local_data/resized/Albrecht_Du╠Иrer_1.jpg  \n",
            " extracting: local_data/resized/Albrecht_Du╠Иrer_10.jpg  \n",
            " extracting: local_data/resized/Albrecht_Du╠Иrer_100.jpg  \n",
            "  inflating: local_data/resized/Albrecht_Du╠Иrer_101.jpg  \n",
            "  inflating: local_data/resized/Albrecht_Du╠Иrer_102.jpg  \n",
            "  inflating: local_data/resized/Albrecht_Du╠Иrer_103.jpg  \n",
            " extracting: local_data/resized/Albrecht_Du╠Иrer_104.jpg  \n",
            "  inflating: local_data/resized/Albrecht_Du╠Иrer_105.jpg  \n",
            " extracting: local_data/resized/Albrecht_Du╠Иrer_106.jpg  \n",
            " extracting: local_data/resized/Albrecht_Du╠Иrer_107.jpg  \n",
            " extracting: local_data/resized/Albrecht_Du╠Иrer_108.jpg  \n",
            " extracting: local_data/resized/Albrecht_Du╠Иrer_109.jpg  \n",
            "  inflating: local_data/resized/Albrecht_Du╠Иrer_11.jpg  \n",
            "  inflating: local_data/resized/Albrecht_Du╠Иrer_110.jpg  \n",
            " extracting: local_data/resized/Albrecht_Du╠Иrer_111.jpg  \n",
            "  inflating: local_data/resized/Albrecht_Du╠Иrer_112.jpg  \n",
            " extracting: local_data/resized/Albrecht_Du╠Иrer_113.jpg  \n",
            " extracting: local_data/resized/Albrecht_Du╠Иrer_114.jpg  \n",
            "  inflating: local_data/resized/Albrecht_Du╠Иrer_115.jpg  \n",
            " extracting: local_data/resized/Albrecht_Du╠Иrer_116.jpg  \n",
            "  inflating: local_data/resized/Albrecht_Du╠Иrer_117.jpg  \n",
            " extracting: local_data/resized/Albrecht_Du╠Иrer_118.jpg  \n",
            " extracting: local_data/resized/Albrecht_Du╠Иrer_119.jpg  \n",
            "  inflating: local_data/resized/Albrecht_Du╠Иrer_12.jpg  \n",
            "  inflating: local_data/resized/Albrecht_Du╠Иrer_120.jpg  \n",
            " extracting: local_data/resized/Albrecht_Du╠Иrer_121.jpg  \n",
            " extracting: local_data/resized/Albrecht_Du╠Иrer_122.jpg  \n",
            " extracting: local_data/resized/Albrecht_Du╠Иrer_123.jpg  \n",
            " extracting: local_data/resized/Albrecht_Du╠Иrer_124.jpg  \n",
            "  inflating: local_data/resized/Albrecht_Du╠Иrer_125.jpg  \n",
            " extracting: local_data/resized/Albrecht_Du╠Иrer_126.jpg  \n",
            " extracting: local_data/resized/Albrecht_Du╠Иrer_127.jpg  \n",
            " extracting: local_data/resized/Albrecht_Du╠Иrer_128.jpg  \n",
            " extracting: local_data/resized/Albrecht_Du╠Иrer_129.jpg  \n",
            " extracting: local_data/resized/Albrecht_Du╠Иrer_13.jpg  \n",
            "  inflating: local_data/resized/Albrecht_Du╠Иrer_130.jpg  \n",
            " extracting: local_data/resized/Albrecht_Du╠Иrer_131.jpg  \n",
            " extracting: local_data/resized/Albrecht_Du╠Иrer_132.jpg  \n",
            " extracting: local_data/resized/Albrecht_Du╠Иrer_133.jpg  \n",
            "  inflating: local_data/resized/Albrecht_Du╠Иrer_134.jpg  \n",
            "  inflating: local_data/resized/Albrecht_Du╠Иrer_135.jpg  \n",
            "  inflating: local_data/resized/Albrecht_Du╠Иrer_136.jpg  \n",
            " extracting: local_data/resized/Albrecht_Du╠Иrer_137.jpg  \n",
            " extracting: local_data/resized/Albrecht_Du╠Иrer_138.jpg  \n",
            "  inflating: local_data/resized/Albrecht_Du╠Иrer_139.jpg  \n",
            " extracting: local_data/resized/Albrecht_Du╠Иrer_14.jpg  \n",
            " extracting: local_data/resized/Albrecht_Du╠Иrer_140.jpg  \n",
            " extracting: local_data/resized/Albrecht_Du╠Иrer_141.jpg  \n",
            "  inflating: local_data/resized/Albrecht_Du╠Иrer_142.jpg  \n",
            " extracting: local_data/resized/Albrecht_Du╠Иrer_143.jpg  \n",
            " extracting: local_data/resized/Albrecht_Du╠Иrer_144.jpg  \n",
            " extracting: local_data/resized/Albrecht_Du╠Иrer_145.jpg  \n",
            " extracting: local_data/resized/Albrecht_Du╠Иrer_146.jpg  \n",
            " extracting: local_data/resized/Albrecht_Du╠Иrer_147.jpg  \n",
            "  inflating: local_data/resized/Albrecht_Du╠Иrer_148.jpg  \n",
            " extracting: local_data/resized/Albrecht_Du╠Иrer_149.jpg  \n",
            " extracting: local_data/resized/Albrecht_Du╠Иrer_15.jpg  \n",
            " extracting: local_data/resized/Albrecht_Du╠Иrer_150.jpg  \n",
            "  inflating: local_data/resized/Albrecht_Du╠Иrer_151.jpg  \n",
            " extracting: local_data/resized/Albrecht_Du╠Иrer_152.jpg  \n",
            " extracting: local_data/resized/Albrecht_Du╠Иrer_153.jpg  \n",
            " extracting: local_data/resized/Albrecht_Du╠Иrer_154.jpg  \n",
            " extracting: local_data/resized/Albrecht_Du╠Иrer_155.jpg  \n",
            " extracting: local_data/resized/Albrecht_Du╠Иrer_156.jpg  \n",
            "  inflating: local_data/resized/Albrecht_Du╠Иrer_157.jpg  \n",
            " extracting: local_data/resized/Albrecht_Du╠Иrer_158.jpg  \n",
            " extracting: local_data/resized/Albrecht_Du╠Иrer_159.jpg  \n",
            "  inflating: local_data/resized/Albrecht_Du╠Иrer_16.jpg  \n",
            " extracting: local_data/resized/Albrecht_Du╠Иrer_160.jpg  \n",
            " extracting: local_data/resized/Albrecht_Du╠Иrer_161.jpg  \n",
            " extracting: local_data/resized/Albrecht_Du╠Иrer_162.jpg  \n",
            " extracting: local_data/resized/Albrecht_Du╠Иrer_163.jpg  \n",
            " extracting: local_data/resized/Albrecht_Du╠Иrer_164.jpg  \n",
            "  inflating: local_data/resized/Albrecht_Du╠Иrer_165.jpg  \n",
            " extracting: local_data/resized/Albrecht_Du╠Иrer_166.jpg  \n",
            "  inflating: local_data/resized/Albrecht_Du╠Иrer_167.jpg  \n",
            "  inflating: local_data/resized/Albrecht_Du╠Иrer_168.jpg  \n",
            " extracting: local_data/resized/Albrecht_Du╠Иrer_169.jpg  \n",
            " extracting: local_data/resized/Albrecht_Du╠Иrer_17.jpg  \n",
            "  inflating: local_data/resized/Albrecht_Du╠Иrer_170.jpg  \n",
            " extracting: local_data/resized/Albrecht_Du╠Иrer_171.jpg  \n",
            " extracting: local_data/resized/Albrecht_Du╠Иrer_172.jpg  \n",
            " extracting: local_data/resized/Albrecht_Du╠Иrer_173.jpg  \n",
            " extracting: local_data/resized/Albrecht_Du╠Иrer_174.jpg  \n",
            " extracting: local_data/resized/Albrecht_Du╠Иrer_175.jpg  \n",
            " extracting: local_data/resized/Albrecht_Du╠Иrer_176.jpg  \n",
            " extracting: local_data/resized/Albrecht_Du╠Иrer_177.jpg  \n",
            " extracting: local_data/resized/Albrecht_Du╠Иrer_178.jpg  \n",
            " extracting: local_data/resized/Albrecht_Du╠Иrer_179.jpg  \n",
            " extracting: local_data/resized/Albrecht_Du╠Иrer_18.jpg  \n",
            " extracting: local_data/resized/Albrecht_Du╠Иrer_180.jpg  \n",
            " extracting: local_data/resized/Albrecht_Du╠Иrer_181.jpg  \n",
            " extracting: local_data/resized/Albrecht_Du╠Иrer_182.jpg  \n",
            "  inflating: local_data/resized/Albrecht_Du╠Иrer_183.jpg  \n",
            " extracting: local_data/resized/Albrecht_Du╠Иrer_184.jpg  \n",
            " extracting: local_data/resized/Albrecht_Du╠Иrer_185.jpg  \n",
            " extracting: local_data/resized/Albrecht_Du╠Иrer_186.jpg  \n",
            "  inflating: local_data/resized/Albrecht_Du╠Иrer_187.jpg  \n",
            " extracting: local_data/resized/Albrecht_Du╠Иrer_188.jpg  \n",
            " extracting: local_data/resized/Albrecht_Du╠Иrer_189.jpg  \n",
            " extracting: local_data/resized/Albrecht_Du╠Иrer_19.jpg  \n",
            " extracting: local_data/resized/Albrecht_Du╠Иrer_190.jpg  \n",
            "  inflating: local_data/resized/Albrecht_Du╠Иrer_191.jpg  \n",
            "  inflating: local_data/resized/Albrecht_Du╠Иrer_192.jpg  \n",
            "  inflating: local_data/resized/Albrecht_Du╠Иrer_193.jpg  \n",
            " extracting: local_data/resized/Albrecht_Du╠Иrer_194.jpg  \n",
            " extracting: local_data/resized/Albrecht_Du╠Иrer_195.jpg  \n",
            "  inflating: local_data/resized/Albrecht_Du╠Иrer_196.jpg  \n",
            " extracting: local_data/resized/Albrecht_Du╠Иrer_197.jpg  \n",
            " extracting: local_data/resized/Albrecht_Du╠Иrer_198.jpg  \n",
            "  inflating: local_data/resized/Albrecht_Du╠Иrer_199.jpg  \n",
            " extracting: local_data/resized/Albrecht_Du╠Иrer_2.jpg  \n",
            " extracting: local_data/resized/Albrecht_Du╠Иrer_20.jpg  \n",
            " extracting: local_data/resized/Albrecht_Du╠Иrer_200.jpg  \n",
            " extracting: local_data/resized/Albrecht_Du╠Иrer_201.jpg  \n",
            " extracting: local_data/resized/Albrecht_Du╠Иrer_202.jpg  \n",
            " extracting: local_data/resized/Albrecht_Du╠Иrer_203.jpg  \n",
            "  inflating: local_data/resized/Albrecht_Du╠Иrer_204.jpg  \n",
            " extracting: local_data/resized/Albrecht_Du╠Иrer_205.jpg  \n",
            " extracting: local_data/resized/Albrecht_Du╠Иrer_206.jpg  \n",
            " extracting: local_data/resized/Albrecht_Du╠Иrer_207.jpg  \n",
            "  inflating: local_data/resized/Albrecht_Du╠Иrer_208.jpg  \n",
            " extracting: local_data/resized/Albrecht_Du╠Иrer_209.jpg  \n",
            " extracting: local_data/resized/Albrecht_Du╠Иrer_21.jpg  \n",
            " extracting: local_data/resized/Albrecht_Du╠Иrer_210.jpg  \n",
            " extracting: local_data/resized/Albrecht_Du╠Иrer_211.jpg  \n",
            "  inflating: local_data/resized/Albrecht_Du╠Иrer_212.jpg  \n",
            " extracting: local_data/resized/Albrecht_Du╠Иrer_213.jpg  \n",
            " extracting: local_data/resized/Albrecht_Du╠Иrer_214.jpg  \n",
            "  inflating: local_data/resized/Albrecht_Du╠Иrer_215.jpg  \n",
            " extracting: local_data/resized/Albrecht_Du╠Иrer_216.jpg  \n",
            " extracting: local_data/resized/Albrecht_Du╠Иrer_217.jpg  \n",
            " extracting: local_data/resized/Albrecht_Du╠Иrer_218.jpg  \n",
            " extracting: local_data/resized/Albrecht_Du╠Иrer_219.jpg  \n",
            " extracting: local_data/resized/Albrecht_Du╠Иrer_22.jpg  \n",
            "  inflating: local_data/resized/Albrecht_Du╠Иrer_220.jpg  \n",
            " extracting: local_data/resized/Albrecht_Du╠Иrer_221.jpg  \n",
            " extracting: local_data/resized/Albrecht_Du╠Иrer_222.jpg  \n",
            "  inflating: local_data/resized/Albrecht_Du╠Иrer_223.jpg  \n",
            "  inflating: local_data/resized/Albrecht_Du╠Иrer_224.jpg  \n",
            " extracting: local_data/resized/Albrecht_Du╠Иrer_225.jpg  \n",
            " extracting: local_data/resized/Albrecht_Du╠Иrer_226.jpg  \n",
            " extracting: local_data/resized/Albrecht_Du╠Иrer_227.jpg  \n",
            " extracting: local_data/resized/Albrecht_Du╠Иrer_228.jpg  \n",
            " extracting: local_data/resized/Albrecht_Du╠Иrer_229.jpg  \n",
            " extracting: local_data/resized/Albrecht_Du╠Иrer_23.jpg  \n",
            " extracting: local_data/resized/Albrecht_Du╠Иrer_230.jpg  \n",
            " extracting: local_data/resized/Albrecht_Du╠Иrer_231.jpg  \n",
            "  inflating: local_data/resized/Albrecht_Du╠Иrer_232.jpg  \n",
            "  inflating: local_data/resized/Albrecht_Du╠Иrer_233.jpg  \n",
            "  inflating: local_data/resized/Albrecht_Du╠Иrer_234.jpg  \n",
            " extracting: local_data/resized/Albrecht_Du╠Иrer_235.jpg  \n",
            "  inflating: local_data/resized/Albrecht_Du╠Иrer_236.jpg  \n",
            " extracting: local_data/resized/Albrecht_Du╠Иrer_237.jpg  \n",
            " extracting: local_data/resized/Albrecht_Du╠Иrer_238.jpg  \n",
            "  inflating: local_data/resized/Albrecht_Du╠Иrer_239.jpg  \n",
            "  inflating: local_data/resized/Albrecht_Du╠Иrer_24.jpg  \n",
            "  inflating: local_data/resized/Albrecht_Du╠Иrer_240.jpg  \n",
            " extracting: local_data/resized/Albrecht_Du╠Иrer_241.jpg  \n",
            " extracting: local_data/resized/Albrecht_Du╠Иrer_242.jpg  \n",
            " extracting: local_data/resized/Albrecht_Du╠Иrer_243.jpg  \n",
            " extracting: local_data/resized/Albrecht_Du╠Иrer_244.jpg  \n",
            "  inflating: local_data/resized/Albrecht_Du╠Иrer_245.jpg  \n",
            "  inflating: local_data/resized/Albrecht_Du╠Иrer_246.jpg  \n",
            "  inflating: local_data/resized/Albrecht_Du╠Иrer_247.jpg  \n",
            " extracting: local_data/resized/Albrecht_Du╠Иrer_248.jpg  \n",
            " extracting: local_data/resized/Albrecht_Du╠Иrer_249.jpg  \n",
            "  inflating: local_data/resized/Albrecht_Du╠Иrer_25.jpg  \n",
            " extracting: local_data/resized/Albrecht_Du╠Иrer_250.jpg  \n",
            " extracting: local_data/resized/Albrecht_Du╠Иrer_251.jpg  \n",
            " extracting: local_data/resized/Albrecht_Du╠Иrer_252.jpg  \n",
            " extracting: local_data/resized/Albrecht_Du╠Иrer_253.jpg  \n",
            " extracting: local_data/resized/Albrecht_Du╠Иrer_254.jpg  \n",
            " extracting: local_data/resized/Albrecht_Du╠Иrer_255.jpg  \n",
            " extracting: local_data/resized/Albrecht_Du╠Иrer_256.jpg  \n",
            " extracting: local_data/resized/Albrecht_Du╠Иrer_257.jpg  \n",
            "  inflating: local_data/resized/Albrecht_Du╠Иrer_258.jpg  \n",
            " extracting: local_data/resized/Albrecht_Du╠Иrer_259.jpg  \n",
            " extracting: local_data/resized/Albrecht_Du╠Иrer_26.jpg  \n",
            " extracting: local_data/resized/Albrecht_Du╠Иrer_260.jpg  \n",
            "  inflating: local_data/resized/Albrecht_Du╠Иrer_261.jpg  \n",
            "  inflating: local_data/resized/Albrecht_Du╠Иrer_262.jpg  \n",
            " extracting: local_data/resized/Albrecht_Du╠Иrer_263.jpg  \n",
            "  inflating: local_data/resized/Albrecht_Du╠Иrer_264.jpg  \n",
            " extracting: local_data/resized/Albrecht_Du╠Иrer_265.jpg  \n",
            "  inflating: local_data/resized/Albrecht_Du╠Иrer_266.jpg  \n",
            " extracting: local_data/resized/Albrecht_Du╠Иrer_267.jpg  \n",
            "  inflating: local_data/resized/Albrecht_Du╠Иrer_268.jpg  \n",
            " extracting: local_data/resized/Albrecht_Du╠Иrer_269.jpg  \n",
            "  inflating: local_data/resized/Albrecht_Du╠Иrer_27.jpg  \n",
            " extracting: local_data/resized/Albrecht_Du╠Иrer_270.jpg  \n",
            " extracting: local_data/resized/Albrecht_Du╠Иrer_271.jpg  \n",
            " extracting: local_data/resized/Albrecht_Du╠Иrer_272.jpg  \n",
            "  inflating: local_data/resized/Albrecht_Du╠Иrer_273.jpg  \n",
            " extracting: local_data/resized/Albrecht_Du╠Иrer_274.jpg  \n",
            " extracting: local_data/resized/Albrecht_Du╠Иrer_275.jpg  \n",
            " extracting: local_data/resized/Albrecht_Du╠Иrer_276.jpg  \n",
            "  inflating: local_data/resized/Albrecht_Du╠Иrer_277.jpg  \n",
            " extracting: local_data/resized/Albrecht_Du╠Иrer_278.jpg  \n",
            " extracting: local_data/resized/Albrecht_Du╠Иrer_279.jpg  \n",
            " extracting: local_data/resized/Albrecht_Du╠Иrer_28.jpg  \n",
            "  inflating: local_data/resized/Albrecht_Du╠Иrer_280.jpg  \n",
            "  inflating: local_data/resized/Albrecht_Du╠Иrer_281.jpg  \n",
            "  inflating: local_data/resized/Albrecht_Du╠Иrer_282.jpg  \n",
            " extracting: local_data/resized/Albrecht_Du╠Иrer_283.jpg  \n",
            " extracting: local_data/resized/Albrecht_Du╠Иrer_284.jpg  \n",
            " extracting: local_data/resized/Albrecht_Du╠Иrer_285.jpg  \n",
            " extracting: local_data/resized/Albrecht_Du╠Иrer_286.jpg  \n",
            "  inflating: local_data/resized/Albrecht_Du╠Иrer_287.jpg  \n",
            "  inflating: local_data/resized/Albrecht_Du╠Иrer_288.jpg  \n",
            "  inflating: local_data/resized/Albrecht_Du╠Иrer_289.jpg  \n",
            " extracting: local_data/resized/Albrecht_Du╠Иrer_29.jpg  \n",
            "  inflating: local_data/resized/Albrecht_Du╠Иrer_290.jpg  \n",
            " extracting: local_data/resized/Albrecht_Du╠Иrer_291.jpg  \n",
            " extracting: local_data/resized/Albrecht_Du╠Иrer_292.jpg  \n",
            " extracting: local_data/resized/Albrecht_Du╠Иrer_293.jpg  \n",
            " extracting: local_data/resized/Albrecht_Du╠Иrer_294.jpg  \n",
            " extracting: local_data/resized/Albrecht_Du╠Иrer_295.jpg  \n",
            " extracting: local_data/resized/Albrecht_Du╠Иrer_296.jpg  \n",
            "  inflating: local_data/resized/Albrecht_Du╠Иrer_297.jpg  \n",
            " extracting: local_data/resized/Albrecht_Du╠Иrer_298.jpg  \n",
            " extracting: local_data/resized/Albrecht_Du╠Иrer_299.jpg  \n",
            "  inflating: local_data/resized/Albrecht_Du╠Иrer_3.jpg  \n",
            "  inflating: local_data/resized/Albrecht_Du╠Иrer_30.jpg  \n",
            " extracting: local_data/resized/Albrecht_Du╠Иrer_300.jpg  \n",
            " extracting: local_data/resized/Albrecht_Du╠Иrer_301.jpg  \n",
            " extracting: local_data/resized/Albrecht_Du╠Иrer_302.jpg  \n",
            "  inflating: local_data/resized/Albrecht_Du╠Иrer_303.jpg  \n",
            " extracting: local_data/resized/Albrecht_Du╠Иrer_304.jpg  \n",
            " extracting: local_data/resized/Albrecht_Du╠Иrer_305.jpg  \n",
            " extracting: local_data/resized/Albrecht_Du╠Иrer_306.jpg  \n",
            "  inflating: local_data/resized/Albrecht_Du╠Иrer_307.jpg  \n",
            "  inflating: local_data/resized/Albrecht_Du╠Иrer_308.jpg  \n",
            " extracting: local_data/resized/Albrecht_Du╠Иrer_309.jpg  \n",
            " extracting: local_data/resized/Albrecht_Du╠Иrer_31.jpg  \n",
            " extracting: local_data/resized/Albrecht_Du╠Иrer_310.jpg  \n",
            "  inflating: local_data/resized/Albrecht_Du╠Иrer_311.jpg  \n",
            "  inflating: local_data/resized/Albrecht_Du╠Иrer_312.jpg  \n",
            " extracting: local_data/resized/Albrecht_Du╠Иrer_313.jpg  \n",
            " extracting: local_data/resized/Albrecht_Du╠Иrer_314.jpg  \n",
            "  inflating: local_data/resized/Albrecht_Du╠Иrer_315.jpg  \n",
            " extracting: local_data/resized/Albrecht_Du╠Иrer_316.jpg  \n",
            " extracting: local_data/resized/Albrecht_Du╠Иrer_317.jpg  \n",
            " extracting: local_data/resized/Albrecht_Du╠Иrer_318.jpg  \n",
            " extracting: local_data/resized/Albrecht_Du╠Иrer_319.jpg  \n",
            " extracting: local_data/resized/Albrecht_Du╠Иrer_32.jpg  \n",
            " extracting: local_data/resized/Albrecht_Du╠Иrer_320.jpg  \n",
            " extracting: local_data/resized/Albrecht_Du╠Иrer_321.jpg  \n",
            "  inflating: local_data/resized/Albrecht_Du╠Иrer_322.jpg  \n",
            "  inflating: local_data/resized/Albrecht_Du╠Иrer_323.jpg  \n",
            "  inflating: local_data/resized/Albrecht_Du╠Иrer_324.jpg  \n",
            " extracting: local_data/resized/Albrecht_Du╠Иrer_325.jpg  \n",
            " extracting: local_data/resized/Albrecht_Du╠Иrer_326.jpg  \n",
            "  inflating: local_data/resized/Albrecht_Du╠Иrer_327.jpg  \n",
            " extracting: local_data/resized/Albrecht_Du╠Иrer_328.jpg  \n",
            "  inflating: local_data/resized/Albrecht_Du╠Иrer_33.jpg  \n",
            " extracting: local_data/resized/Albrecht_Du╠Иrer_34.jpg  \n",
            " extracting: local_data/resized/Albrecht_Du╠Иrer_35.jpg  \n",
            " extracting: local_data/resized/Albrecht_Du╠Иrer_36.jpg  \n",
            " extracting: local_data/resized/Albrecht_Du╠Иrer_37.jpg  \n",
            "  inflating: local_data/resized/Albrecht_Du╠Иrer_38.jpg  \n",
            " extracting: local_data/resized/Albrecht_Du╠Иrer_39.jpg  \n",
            "  inflating: local_data/resized/Albrecht_Du╠Иrer_4.jpg  \n",
            " extracting: local_data/resized/Albrecht_Du╠Иrer_40.jpg  \n",
            " extracting: local_data/resized/Albrecht_Du╠Иrer_41.jpg  \n",
            " extracting: local_data/resized/Albrecht_Du╠Иrer_42.jpg  \n",
            "  inflating: local_data/resized/Albrecht_Du╠Иrer_43.jpg  \n",
            "  inflating: local_data/resized/Albrecht_Du╠Иrer_44.jpg  \n",
            " extracting: local_data/resized/Albrecht_Du╠Иrer_45.jpg  \n",
            " extracting: local_data/resized/Albrecht_Du╠Иrer_46.jpg  \n",
            " extracting: local_data/resized/Albrecht_Du╠Иrer_47.jpg  \n",
            " extracting: local_data/resized/Albrecht_Du╠Иrer_48.jpg  \n",
            " extracting: local_data/resized/Albrecht_Du╠Иrer_49.jpg  \n",
            "  inflating: local_data/resized/Albrecht_Du╠Иrer_5.jpg  \n",
            "  inflating: local_data/resized/Albrecht_Du╠Иrer_50.jpg  \n",
            " extracting: local_data/resized/Albrecht_Du╠Иrer_51.jpg  \n",
            "  inflating: local_data/resized/Albrecht_Du╠Иrer_52.jpg  \n",
            " extracting: local_data/resized/Albrecht_Du╠Иrer_53.jpg  \n",
            "  inflating: local_data/resized/Albrecht_Du╠Иrer_54.jpg  \n",
            " extracting: local_data/resized/Albrecht_Du╠Иrer_55.jpg  \n",
            " extracting: local_data/resized/Albrecht_Du╠Иrer_56.jpg  \n",
            "  inflating: local_data/resized/Albrecht_Du╠Иrer_57.jpg  \n",
            "  inflating: local_data/resized/Albrecht_Du╠Иrer_58.jpg  \n",
            "  inflating: local_data/resized/Albrecht_Du╠Иrer_59.jpg  \n",
            "  inflating: local_data/resized/Albrecht_Du╠Иrer_6.jpg  \n",
            " extracting: local_data/resized/Albrecht_Du╠Иrer_60.jpg  \n",
            " extracting: local_data/resized/Albrecht_Du╠Иrer_61.jpg  \n",
            " extracting: local_data/resized/Albrecht_Du╠Иrer_62.jpg  \n",
            "  inflating: local_data/resized/Albrecht_Du╠Иrer_63.jpg  \n",
            "  inflating: local_data/resized/Albrecht_Du╠Иrer_64.jpg  \n",
            " extracting: local_data/resized/Albrecht_Du╠Иrer_65.jpg  \n",
            " extracting: local_data/resized/Albrecht_Du╠Иrer_66.jpg  \n",
            " extracting: local_data/resized/Albrecht_Du╠Иrer_67.jpg  \n",
            " extracting: local_data/resized/Albrecht_Du╠Иrer_68.jpg  \n",
            " extracting: local_data/resized/Albrecht_Du╠Иrer_69.jpg  \n",
            " extracting: local_data/resized/Albrecht_Du╠Иrer_7.jpg  \n",
            " extracting: local_data/resized/Albrecht_Du╠Иrer_70.jpg  \n",
            "  inflating: local_data/resized/Albrecht_Du╠Иrer_71.jpg  \n",
            " extracting: local_data/resized/Albrecht_Du╠Иrer_72.jpg  \n",
            "  inflating: local_data/resized/Albrecht_Du╠Иrer_73.jpg  \n",
            " extracting: local_data/resized/Albrecht_Du╠Иrer_74.jpg  \n",
            " extracting: local_data/resized/Albrecht_Du╠Иrer_75.jpg  \n",
            " extracting: local_data/resized/Albrecht_Du╠Иrer_76.jpg  \n",
            " extracting: local_data/resized/Albrecht_Du╠Иrer_77.jpg  \n",
            "  inflating: local_data/resized/Albrecht_Du╠Иrer_78.jpg  \n",
            "  inflating: local_data/resized/Albrecht_Du╠Иrer_79.jpg  \n",
            "  inflating: local_data/resized/Albrecht_Du╠Иrer_8.jpg  \n",
            " extracting: local_data/resized/Albrecht_Du╠Иrer_80.jpg  \n",
            "  inflating: local_data/resized/Albrecht_Du╠Иrer_81.jpg  \n",
            " extracting: local_data/resized/Albrecht_Du╠Иrer_82.jpg  \n",
            "  inflating: local_data/resized/Albrecht_Du╠Иrer_83.jpg  \n",
            "  inflating: local_data/resized/Albrecht_Du╠Иrer_84.jpg  \n",
            "  inflating: local_data/resized/Albrecht_Du╠Иrer_85.jpg  \n",
            "  inflating: local_data/resized/Albrecht_Du╠Иrer_86.jpg  \n",
            " extracting: local_data/resized/Albrecht_Du╠Иrer_87.jpg  \n",
            " extracting: local_data/resized/Albrecht_Du╠Иrer_88.jpg  \n",
            "  inflating: local_data/resized/Albrecht_Du╠Иrer_89.jpg  \n",
            "  inflating: local_data/resized/Albrecht_Du╠Иrer_9.jpg  \n",
            " extracting: local_data/resized/Albrecht_Du╠Иrer_90.jpg  \n",
            " extracting: local_data/resized/Albrecht_Du╠Иrer_91.jpg  \n",
            "  inflating: local_data/resized/Albrecht_Du╠Иrer_92.jpg  \n",
            "  inflating: local_data/resized/Albrecht_Du╠Иrer_93.jpg  \n",
            " extracting: local_data/resized/Albrecht_Du╠Иrer_94.jpg  \n",
            " extracting: local_data/resized/Albrecht_Du╠Иrer_95.jpg  \n",
            " extracting: local_data/resized/Albrecht_Du╠Иrer_96.jpg  \n",
            "  inflating: local_data/resized/Albrecht_Du╠Иrer_97.jpg  \n",
            " extracting: local_data/resized/Albrecht_Du╠Иrer_98.jpg  \n",
            "  inflating: local_data/resized/Albrecht_Du╠Иrer_99.jpg  \n",
            "replace local_data/resized/Alfred_Sisley_1.jpg? [y]es, [n]o, [A]ll, [N]one, [r]ename: "
          ],
          "name": "stdout"
        }
      ]
    },
    {
      "cell_type": "code",
      "metadata": {
        "id": "JX6DnOghIOA-",
        "colab": {
          "base_uri": "https://localhost:8080/"
        },
        "outputId": "c1986292-3a09-41f8-d21c-881649b4237e"
      },
      "source": [
        "cd /content/"
      ],
      "execution_count": 8,
      "outputs": [
        {
          "output_type": "stream",
          "text": [
            "/content\n"
          ],
          "name": "stdout"
        }
      ]
    },
    {
      "cell_type": "code",
      "metadata": {
        "id": "2WjasAbeIgFp"
      },
      "source": [
        "#!mkdir training_set\n",
        "#!mkdir test_set"
      ],
      "execution_count": 9,
      "outputs": []
    },
    {
      "cell_type": "code",
      "metadata": {
        "id": "H9TtTuCyDEsV"
      },
      "source": [
        "#ls -l"
      ],
      "execution_count": 10,
      "outputs": []
    },
    {
      "cell_type": "code",
      "metadata": {
        "id": "xdq7mREmAp8U"
      },
      "source": [
        "#rm -r ./local_data/"
      ],
      "execution_count": 11,
      "outputs": []
    },
    {
      "cell_type": "code",
      "metadata": {
        "id": "DsMG0mkI-97w"
      },
      "source": [
        "#/content/local_data/resized\n",
        "#data_path = 'C:/_dev/_aida/scientificProject/data/w_3/resized'\n",
        "data_path = '/content/local_data/resized'\n",
        "\n",
        "#/content/local_data/\n",
        "#main_target_path = 'C:\\\\_dev\\\\_aida\\\\scientificProject\\\\data\\\\w_3\\\\'\n",
        "main_target_path = '/content/local_data'\n",
        "\n",
        "\n",
        "all_subdir = 'data_set'\n",
        "train_subdir = 'train'\n",
        "val_subdir = 'valid'\n",
        "test_subdir = 'test'\n",
        "\n",
        "train_size = 0.7\n",
        "val_size = 0.15\n",
        "test_size = 0.15\n",
        "\n",
        "artist_list = ['Albrecht_Duerer','Caravaggio','Giotto_di_Bondone','Leonardo_da_Vinci','Michelangelo','Raphael','Rembrandt']\n",
        "data_format = '/*.jpg'\n"
      ],
      "execution_count": 12,
      "outputs": []
    },
    {
      "cell_type": "code",
      "metadata": {
        "id": "mWk5l6LUbo9I"
      },
      "source": [
        "artist_name_class_dict = { i : artist_list[i] for i in range(0, len(artist_list) ) }\n",
        "artist_class_name_dict = { artist_list[i] : i for i in range(0, len(artist_list) ) }"
      ],
      "execution_count": 13,
      "outputs": []
    },
    {
      "cell_type": "code",
      "metadata": {
        "colab": {
          "base_uri": "https://localhost:8080/"
        },
        "id": "HdsvdHRwcsBQ",
        "outputId": "24c2e242-230f-4c81-c5e3-a85f8cabfe8b"
      },
      "source": [
        "artist_class_name_dict"
      ],
      "execution_count": 14,
      "outputs": [
        {
          "output_type": "execute_result",
          "data": {
            "text/plain": [
              "{'Albrecht_Duerer': 0,\n",
              " 'Caravaggio': 1,\n",
              " 'Giotto_di_Bondone': 2,\n",
              " 'Leonardo_da_Vinci': 3,\n",
              " 'Michelangelo': 4,\n",
              " 'Raphael': 5,\n",
              " 'Rembrandt': 6}"
            ]
          },
          "metadata": {
            "tags": []
          },
          "execution_count": 14
        }
      ]
    },
    {
      "cell_type": "markdown",
      "metadata": {
        "id": "li2dypJlVXOj"
      },
      "source": [
        "# import and organize images"
      ]
    },
    {
      "cell_type": "code",
      "metadata": {
        "id": "-U3spJw8Uoaj",
        "collapsed": true
      },
      "source": [
        "for file_name in listdir(data_path):\n",
        "    #print(file_name)\n",
        "\n",
        "    #convert Albrecht_DuÔòá├¬rer\n",
        "    if file_name.startswith('Albrecht_DuтХа├кrer'):\n",
        "        new_file_name = file_name.replace('Albrecht_DuтХа├кrer','Albrecht_Duerer_x')\n",
        "    elif file_name.startswith('Albrecht_Du╠Иrer'):\n",
        "        new_file_name = file_name.replace('Albrecht_Du╠Иrer','Albrecht_Duerer_y')\n",
        "    else:\n",
        "        new_file_name = file_name\n",
        "\n",
        "    for artist_name in artist_list:\n",
        "        if new_file_name.startswith(artist_name):\n",
        "            filepath = os.path.join(data_path,file_name)\n",
        "            new_filepath = os.path.join(main_target_path,all_subdir,artist_name,new_file_name)\n",
        "\n",
        "            #check dir and create\n",
        "            if not os.path.exists(os.path.join(main_target_path,all_subdir,artist_name)):\n",
        "                os.makedirs(os.path.join(main_target_path,all_subdir,artist_name))\n",
        "            #move file\n",
        "            try:\n",
        "                os.rename(filepath, new_filepath)\n",
        "            except:\n",
        "                continue"
      ],
      "execution_count": 15,
      "outputs": []
    },
    {
      "cell_type": "code",
      "metadata": {
        "colab": {
          "base_uri": "https://localhost:8080/"
        },
        "id": "gpRlpbfOiyT4",
        "outputId": "493791f5-e0e7-4cbe-946c-d65fbbec5093"
      },
      "source": [
        "import glob\n",
        "data_format = '/*.jpg'\n",
        "\n",
        "def number_of_images_in_path(target_path,data_format):\n",
        "    print(target_path)\n",
        "    img_path_list = glob.glob(target_path + data_format)\n",
        "           \n",
        "    n = len(img_path_list)\n",
        "    print(f'Number of images: {n}\\n')\n",
        "\n",
        "for artist_name in artist_list:\n",
        "    number_of_images_in_path(os.path.join(os.sep,main_target_path,all_subdir,artist_name),data_format)"
      ],
      "execution_count": 16,
      "outputs": [
        {
          "output_type": "stream",
          "text": [
            "/content/local_data/data_set/Albrecht_Duerer\n",
            "Number of images: 656\n",
            "\n",
            "/content/local_data/data_set/Caravaggio\n",
            "Number of images: 0\n",
            "\n",
            "/content/local_data/data_set/Giotto_di_Bondone\n",
            "Number of images: 1\n",
            "\n",
            "/content/local_data/data_set/Leonardo_da_Vinci\n",
            "Number of images: 0\n",
            "\n",
            "/content/local_data/data_set/Michelangelo\n",
            "Number of images: 0\n",
            "\n",
            "/content/local_data/data_set/Raphael\n",
            "Number of images: 0\n",
            "\n",
            "/content/local_data/data_set/Rembrandt\n",
            "Number of images: 0\n",
            "\n"
          ],
          "name": "stdout"
        }
      ]
    },
    {
      "cell_type": "markdown",
      "metadata": {
        "id": "ptjVDOJbJq-E"
      },
      "source": [
        "Now explore the data. \n",
        "\n",
        "- What are the different image dimensions?\n",
        "\n",
        "- How are the labels distributed?\n",
        "\n",
        "- What else would be useful to know?"
      ]
    },
    {
      "cell_type": "code",
      "metadata": {
        "id": "2Mf8Qm0SJ7Nr",
        "colab": {
          "base_uri": "https://localhost:8080/",
          "height": 407
        },
        "outputId": "6f280a6c-3375-4914-82f0-b81dc23ac8f2"
      },
      "source": [
        "def get_image_information(main_target_path,sub_path ,class_list ,data_format ):\n",
        "    info_array = []#np.array([[0,8]])\n",
        "    column_names = ['class_x','name_x','row','column','channel','shape','main_target_path','sub_path']\n",
        "\n",
        "    for class_name in class_list:\n",
        "        path = os.path.join(os.sep,main_target_path,sub_path,class_name)\n",
        "        img_path_list = glob.glob(path + data_format)\n",
        "\n",
        "        for img_path in img_path_list:\n",
        "            img = cv2.imread(img_path)\n",
        "            #img = cv2.cvtColor(img, cv2.COLOR_BGR2RGB)\n",
        "            info_array.append([class_name,os.path.split(img_path)[-1],img.shape[0],img.shape[1],img.shape[2],img.shape,main_target_path,sub_path])\n",
        "\n",
        "    df = pd.DataFrame(data=info_array,columns= column_names)\n",
        "    return df\n",
        "\n",
        "df =get_image_information(main_target_path=main_target_path,sub_path=all_subdir,class_list=artist_list,data_format=data_format)\n",
        "df"
      ],
      "execution_count": 17,
      "outputs": [
        {
          "output_type": "execute_result",
          "data": {
            "text/html": [
              "<div>\n",
              "<style scoped>\n",
              "    .dataframe tbody tr th:only-of-type {\n",
              "        vertical-align: middle;\n",
              "    }\n",
              "\n",
              "    .dataframe tbody tr th {\n",
              "        vertical-align: top;\n",
              "    }\n",
              "\n",
              "    .dataframe thead th {\n",
              "        text-align: right;\n",
              "    }\n",
              "</style>\n",
              "<table border=\"1\" class=\"dataframe\">\n",
              "  <thead>\n",
              "    <tr style=\"text-align: right;\">\n",
              "      <th></th>\n",
              "      <th>class_x</th>\n",
              "      <th>name_x</th>\n",
              "      <th>row</th>\n",
              "      <th>column</th>\n",
              "      <th>channel</th>\n",
              "      <th>shape</th>\n",
              "      <th>main_target_path</th>\n",
              "      <th>sub_path</th>\n",
              "    </tr>\n",
              "  </thead>\n",
              "  <tbody>\n",
              "    <tr>\n",
              "      <th>0</th>\n",
              "      <td>Albrecht_Duerer</td>\n",
              "      <td>Albrecht_Duerer_y_230.jpg</td>\n",
              "      <td>1229</td>\n",
              "      <td>893</td>\n",
              "      <td>3</td>\n",
              "      <td>(1229, 893, 3)</td>\n",
              "      <td>/content/local_data</td>\n",
              "      <td>data_set</td>\n",
              "    </tr>\n",
              "    <tr>\n",
              "      <th>1</th>\n",
              "      <td>Albrecht_Duerer</td>\n",
              "      <td>Albrecht_Duerer_y_88.jpg</td>\n",
              "      <td>1229</td>\n",
              "      <td>835</td>\n",
              "      <td>3</td>\n",
              "      <td>(1229, 835, 3)</td>\n",
              "      <td>/content/local_data</td>\n",
              "      <td>data_set</td>\n",
              "    </tr>\n",
              "    <tr>\n",
              "      <th>2</th>\n",
              "      <td>Albrecht_Duerer</td>\n",
              "      <td>Albrecht_Duerer_x_166.jpg</td>\n",
              "      <td>614</td>\n",
              "      <td>598</td>\n",
              "      <td>3</td>\n",
              "      <td>(614, 598, 3)</td>\n",
              "      <td>/content/local_data</td>\n",
              "      <td>data_set</td>\n",
              "    </tr>\n",
              "    <tr>\n",
              "      <th>3</th>\n",
              "      <td>Albrecht_Duerer</td>\n",
              "      <td>Albrecht_Duerer_y_268.jpg</td>\n",
              "      <td>614</td>\n",
              "      <td>442</td>\n",
              "      <td>3</td>\n",
              "      <td>(614, 442, 3)</td>\n",
              "      <td>/content/local_data</td>\n",
              "      <td>data_set</td>\n",
              "    </tr>\n",
              "    <tr>\n",
              "      <th>4</th>\n",
              "      <td>Albrecht_Duerer</td>\n",
              "      <td>Albrecht_Duerer_y_74.jpg</td>\n",
              "      <td>1229</td>\n",
              "      <td>1080</td>\n",
              "      <td>3</td>\n",
              "      <td>(1229, 1080, 3)</td>\n",
              "      <td>/content/local_data</td>\n",
              "      <td>data_set</td>\n",
              "    </tr>\n",
              "    <tr>\n",
              "      <th>...</th>\n",
              "      <td>...</td>\n",
              "      <td>...</td>\n",
              "      <td>...</td>\n",
              "      <td>...</td>\n",
              "      <td>...</td>\n",
              "      <td>...</td>\n",
              "      <td>...</td>\n",
              "      <td>...</td>\n",
              "    </tr>\n",
              "    <tr>\n",
              "      <th>652</th>\n",
              "      <td>Albrecht_Duerer</td>\n",
              "      <td>Albrecht_Duerer_x_129.jpg</td>\n",
              "      <td>614</td>\n",
              "      <td>460</td>\n",
              "      <td>3</td>\n",
              "      <td>(614, 460, 3)</td>\n",
              "      <td>/content/local_data</td>\n",
              "      <td>data_set</td>\n",
              "    </tr>\n",
              "    <tr>\n",
              "      <th>653</th>\n",
              "      <td>Albrecht_Duerer</td>\n",
              "      <td>Albrecht_Duerer_y_71.jpg</td>\n",
              "      <td>1229</td>\n",
              "      <td>959</td>\n",
              "      <td>3</td>\n",
              "      <td>(1229, 959, 3)</td>\n",
              "      <td>/content/local_data</td>\n",
              "      <td>data_set</td>\n",
              "    </tr>\n",
              "    <tr>\n",
              "      <th>654</th>\n",
              "      <td>Albrecht_Duerer</td>\n",
              "      <td>Albrecht_Duerer_y_83.jpg</td>\n",
              "      <td>1229</td>\n",
              "      <td>620</td>\n",
              "      <td>3</td>\n",
              "      <td>(1229, 620, 3)</td>\n",
              "      <td>/content/local_data</td>\n",
              "      <td>data_set</td>\n",
              "    </tr>\n",
              "    <tr>\n",
              "      <th>655</th>\n",
              "      <td>Albrecht_Duerer</td>\n",
              "      <td>Albrecht_Duerer_y_202.jpg</td>\n",
              "      <td>1229</td>\n",
              "      <td>891</td>\n",
              "      <td>3</td>\n",
              "      <td>(1229, 891, 3)</td>\n",
              "      <td>/content/local_data</td>\n",
              "      <td>data_set</td>\n",
              "    </tr>\n",
              "    <tr>\n",
              "      <th>656</th>\n",
              "      <td>Giotto_di_Bondone</td>\n",
              "      <td>Giotto_di_Bondone_89.jpg</td>\n",
              "      <td>559</td>\n",
              "      <td>600</td>\n",
              "      <td>3</td>\n",
              "      <td>(559, 600, 3)</td>\n",
              "      <td>/content/local_data</td>\n",
              "      <td>data_set</td>\n",
              "    </tr>\n",
              "  </tbody>\n",
              "</table>\n",
              "<p>657 rows × 8 columns</p>\n",
              "</div>"
            ],
            "text/plain": [
              "               class_x  ...  sub_path\n",
              "0      Albrecht_Duerer  ...  data_set\n",
              "1      Albrecht_Duerer  ...  data_set\n",
              "2      Albrecht_Duerer  ...  data_set\n",
              "3      Albrecht_Duerer  ...  data_set\n",
              "4      Albrecht_Duerer  ...  data_set\n",
              "..                 ...  ...       ...\n",
              "652    Albrecht_Duerer  ...  data_set\n",
              "653    Albrecht_Duerer  ...  data_set\n",
              "654    Albrecht_Duerer  ...  data_set\n",
              "655    Albrecht_Duerer  ...  data_set\n",
              "656  Giotto_di_Bondone  ...  data_set\n",
              "\n",
              "[657 rows x 8 columns]"
            ]
          },
          "metadata": {
            "tags": []
          },
          "execution_count": 17
        }
      ]
    },
    {
      "cell_type": "code",
      "metadata": {
        "id": "Gk1LgLkYXk_6"
      },
      "source": [
        "df['size'] = df.apply(lambda x: x.row*x.column,axis=1)"
      ],
      "execution_count": 18,
      "outputs": []
    },
    {
      "cell_type": "code",
      "metadata": {
        "colab": {
          "base_uri": "https://localhost:8080/",
          "height": 295
        },
        "id": "rWLszlyVcauz",
        "outputId": "8d22cb18-baa9-4820-c7ec-63ff68c678e1"
      },
      "source": [
        "df[['size']].boxplot()"
      ],
      "execution_count": 19,
      "outputs": [
        {
          "output_type": "execute_result",
          "data": {
            "text/plain": [
              "<matplotlib.axes._subplots.AxesSubplot at 0x7ff01c586690>"
            ]
          },
          "metadata": {
            "tags": []
          },
          "execution_count": 19
        },
        {
          "output_type": "display_data",
          "data": {
            "image/png": "[encoded data removed]",
            "text/plain": [
              "<Figure size 432x288 with 1 Axes>"
            ]
          },
          "metadata": {
            "tags": [],
            "needs_background": "light"
          }
        }
      ]
    },
    {
      "cell_type": "code",
      "metadata": {
        "colab": {
          "base_uri": "https://localhost:8080/"
        },
        "id": "vbuC7YvBZYX0",
        "outputId": "f0c11771-a0dd-4443-cd4a-56e5fc2447f5"
      },
      "source": [
        "df['size'].quantile([0.25,0.5,0.75,1])"
      ],
      "execution_count": 20,
      "outputs": [
        {
          "output_type": "execute_result",
          "data": {
            "text/plain": [
              "0.25     260950.0\n",
              "0.50     878410.0\n",
              "0.75    1090123.0\n",
              "1.00    1866851.0\n",
              "Name: size, dtype: float64"
            ]
          },
          "metadata": {
            "tags": []
          },
          "execution_count": 20
        }
      ]
    },
    {
      "cell_type": "code",
      "metadata": {
        "colab": {
          "base_uri": "https://localhost:8080/"
        },
        "id": "_Yt_CFSndhFJ",
        "outputId": "70becc6e-1076-45ef-ae70-e89c620df565"
      },
      "source": [
        "df['size'].describe()"
      ],
      "execution_count": 21,
      "outputs": [
        {
          "output_type": "execute_result",
          "data": {
            "text/plain": [
              "count    6.570000e+02\n",
              "mean     7.357361e+05\n",
              "std      4.774481e+05\n",
              "min      9.324000e+04\n",
              "25%      2.609500e+05\n",
              "50%      8.784100e+05\n",
              "75%      1.090123e+06\n",
              "max      1.866851e+06\n",
              "Name: size, dtype: float64"
            ]
          },
          "metadata": {
            "tags": []
          },
          "execution_count": 21
        }
      ]
    },
    {
      "cell_type": "code",
      "metadata": {
        "id": "kE3ZVWsHeNkm"
      },
      "source": [
        "df_group = df.groupby('class_x').agg(img_count=('class_x','count'),size_mean=('size','mean'),size_min=('size','min'),size_max=('size','max')).reset_index()"
      ],
      "execution_count": 22,
      "outputs": []
    },
    {
      "cell_type": "code",
      "metadata": {
        "id": "KxdAqqTWmcuC"
      },
      "source": [
        "import math\n",
        "df_group['size_mean_sqrt'] = df_group['size_mean'].apply(lambda x: math.sqrt(x))"
      ],
      "execution_count": 23,
      "outputs": []
    },
    {
      "cell_type": "code",
      "metadata": {
        "colab": {
          "base_uri": "https://localhost:8080/",
          "height": 108
        },
        "id": "fvBFG3O8i_lO",
        "outputId": "72526478-db2e-4f3b-d29a-2df8c8544126"
      },
      "source": [
        "df_group"
      ],
      "execution_count": 24,
      "outputs": [
        {
          "output_type": "execute_result",
          "data": {
            "text/html": [
              "<div>\n",
              "<style scoped>\n",
              "    .dataframe tbody tr th:only-of-type {\n",
              "        vertical-align: middle;\n",
              "    }\n",
              "\n",
              "    .dataframe tbody tr th {\n",
              "        vertical-align: top;\n",
              "    }\n",
              "\n",
              "    .dataframe thead th {\n",
              "        text-align: right;\n",
              "    }\n",
              "</style>\n",
              "<table border=\"1\" class=\"dataframe\">\n",
              "  <thead>\n",
              "    <tr style=\"text-align: right;\">\n",
              "      <th></th>\n",
              "      <th>class_x</th>\n",
              "      <th>img_count</th>\n",
              "      <th>size_mean</th>\n",
              "      <th>size_min</th>\n",
              "      <th>size_max</th>\n",
              "      <th>size_mean_sqrt</th>\n",
              "    </tr>\n",
              "  </thead>\n",
              "  <tbody>\n",
              "    <tr>\n",
              "      <th>0</th>\n",
              "      <td>Albrecht_Duerer</td>\n",
              "      <td>656</td>\n",
              "      <td>736346.371951</td>\n",
              "      <td>93240</td>\n",
              "      <td>1866851</td>\n",
              "      <td>858.106271</td>\n",
              "    </tr>\n",
              "    <tr>\n",
              "      <th>1</th>\n",
              "      <td>Giotto_di_Bondone</td>\n",
              "      <td>1</td>\n",
              "      <td>335400.000000</td>\n",
              "      <td>335400</td>\n",
              "      <td>335400</td>\n",
              "      <td>579.137289</td>\n",
              "    </tr>\n",
              "  </tbody>\n",
              "</table>\n",
              "</div>"
            ],
            "text/plain": [
              "             class_x  img_count  ...  size_max  size_mean_sqrt\n",
              "0    Albrecht_Duerer        656  ...   1866851      858.106271\n",
              "1  Giotto_di_Bondone          1  ...    335400      579.137289\n",
              "\n",
              "[2 rows x 6 columns]"
            ]
          },
          "metadata": {
            "tags": []
          },
          "execution_count": 24
        }
      ]
    },
    {
      "cell_type": "code",
      "metadata": {
        "id": "4TYVQ8xDJ9o3",
        "colab": {
          "base_uri": "https://localhost:8080/",
          "height": 138
        },
        "outputId": "5a0ea8c7-f1c3-4b1d-f044-67352faebd56"
      },
      "source": [
        "df.groupby('class_x').agg(row_min=('row','min'),row_max=('row','max'),row_maen=('row','mean'),column_min=('column','min'),column_man=('column','max'),column_mean=('column','mean'))"
      ],
      "execution_count": 25,
      "outputs": [
        {
          "output_type": "execute_result",
          "data": {
            "text/html": [
              "<div>\n",
              "<style scoped>\n",
              "    .dataframe tbody tr th:only-of-type {\n",
              "        vertical-align: middle;\n",
              "    }\n",
              "\n",
              "    .dataframe tbody tr th {\n",
              "        vertical-align: top;\n",
              "    }\n",
              "\n",
              "    .dataframe thead th {\n",
              "        text-align: right;\n",
              "    }\n",
              "</style>\n",
              "<table border=\"1\" class=\"dataframe\">\n",
              "  <thead>\n",
              "    <tr style=\"text-align: right;\">\n",
              "      <th></th>\n",
              "      <th>row_min</th>\n",
              "      <th>row_max</th>\n",
              "      <th>row_maen</th>\n",
              "      <th>column_min</th>\n",
              "      <th>column_man</th>\n",
              "      <th>column_mean</th>\n",
              "    </tr>\n",
              "    <tr>\n",
              "      <th>class_x</th>\n",
              "      <th></th>\n",
              "      <th></th>\n",
              "      <th></th>\n",
              "      <th></th>\n",
              "      <th></th>\n",
              "      <th></th>\n",
              "    </tr>\n",
              "  </thead>\n",
              "  <tbody>\n",
              "    <tr>\n",
              "      <th>Albrecht_Duerer</th>\n",
              "      <td>239</td>\n",
              "      <td>1229</td>\n",
              "      <td>899.481707</td>\n",
              "      <td>241</td>\n",
              "      <td>1536</td>\n",
              "      <td>736.542683</td>\n",
              "    </tr>\n",
              "    <tr>\n",
              "      <th>Giotto_di_Bondone</th>\n",
              "      <td>559</td>\n",
              "      <td>559</td>\n",
              "      <td>559.000000</td>\n",
              "      <td>600</td>\n",
              "      <td>600</td>\n",
              "      <td>600.000000</td>\n",
              "    </tr>\n",
              "  </tbody>\n",
              "</table>\n",
              "</div>"
            ],
            "text/plain": [
              "                   row_min  row_max  ...  column_man  column_mean\n",
              "class_x                              ...                         \n",
              "Albrecht_Duerer        239     1229  ...        1536   736.542683\n",
              "Giotto_di_Bondone      559      559  ...         600   600.000000\n",
              "\n",
              "[2 rows x 6 columns]"
            ]
          },
          "metadata": {
            "tags": []
          },
          "execution_count": 25
        }
      ]
    },
    {
      "cell_type": "markdown",
      "metadata": {
        "id": "7wyALTSQtE02"
      },
      "source": [
        "## orginze in train,test and validate"
      ]
    },
    {
      "cell_type": "code",
      "metadata": {
        "colab": {
          "base_uri": "https://localhost:8080/"
        },
        "id": "eExyPsTFGRX9",
        "outputId": "a854f808-ddfa-47ea-cc97-d6c373c8d1e5"
      },
      "source": [
        "all_subdir = 'data_set'\n",
        "train_subdir = 'train'\n",
        "val_subdir = 'validation'\n",
        "test_subdir = 'test'\n",
        "\n",
        "train_size = 0.7\n",
        "val_size = 0.15\n",
        "test_size = 0.15\n",
        "\n",
        "def number_of_images_in_path(target_path,data_format):\n",
        "    print(target_path)\n",
        "    img_path_list = glob.glob(target_path + data_format)\n",
        "\n",
        "    n = len(img_path_list)\n",
        "    print(f'Number of images: {n}\\n')\n",
        "    return img_path_list\n",
        "\n",
        "def organize_train_test_vaildation_dir(main_target_path,all_subdir,class_list,data_format,ml_subdir_list,train_size,test_size,validation_size):\n",
        "    \"\"\"\n",
        "    :param main_target_path:\n",
        "    :param all_subdir:\n",
        "    :param class_list:\n",
        "    :param data_format:\n",
        "    :param ml_subdir_list:\n",
        "    :param train_size:\n",
        "    :param test_size:\n",
        "    :param validation_size:\n",
        "    :return:\n",
        "    \"\"\"\n",
        "    assert(train_size+test_size+validation_size == 1)\n",
        "\n",
        "    for ml_subdir in ml_subdir_list:\n",
        "        if not os.path.exists(os.path.join(main_target_path, ml_subdir)):\n",
        "            os.makedirs(os.path.join(main_target_path, ml_subdir))\n",
        "\n",
        "    for class_name in class_list:\n",
        "        img_path_list =  number_of_images_in_path(os.path.join(os.sep,main_target_path,all_subdir,class_name),data_format)\n",
        "\n",
        "        #shuffle\n",
        "        np.random.shuffle(img_path_list)\n",
        "        #create class_dir\n",
        "        for ml_subdir in ml_subdir_list:\n",
        "            if not os.path.exists(os.path.join(main_target_path,ml_subdir,class_name)):\n",
        "                os.makedirs(os.path.join(main_target_path,ml_subdir,class_name))\n",
        "\n",
        "        #move images to class subdir\n",
        "        train_stop = int(len(img_path_list) * train_size)\n",
        "        validation_stop = train_stop + int(len(img_path_list) * validation_size)\n",
        "        test_stop = validation_stop + int(len(img_path_list) * test_size)\n",
        "\n",
        "        n = 0\n",
        "        for imp_path in img_path_list:\n",
        "            new_filepath = ''\n",
        "            if n <= train_stop:\n",
        "                new_filepath = os.path.join(main_target_path, ml_subdir_list[0], class_name, os.path.split(img_path_list[n])[-1])\n",
        "            elif n <= validation_stop:\n",
        "                new_filepath = os.path.join(main_target_path, ml_subdir_list[1], class_name, os.path.split(img_path_list[n])[-1])\n",
        "            elif n <= test_stop:\n",
        "                new_filepath = os.path.join(main_target_path, ml_subdir_list[2], class_name, os.path.split(img_path_list[n])[-1])\n",
        "\n",
        "            # move file\n",
        "            try:\n",
        "                os.rename(img_path_list[n], new_filepath)\n",
        "                n += 1\n",
        "            except:\n",
        "                continue\n",
        "\n",
        "\n",
        "organize_train_test_vaildation_dir(main_target_path=main_target_path,all_subdir=all_subdir,\n",
        "                                   class_list=artist_list,data_format=data_format,\n",
        "                                   ml_subdir_list=[train_subdir,val_subdir,test_subdir],\n",
        "                                   train_size=train_size,\n",
        "                                   validation_size=val_size,\n",
        "                                   test_size=test_size)"
      ],
      "execution_count": 26,
      "outputs": [
        {
          "output_type": "stream",
          "text": [
            "/content/local_data/data_set/Albrecht_Duerer\n",
            "Number of images: 656\n",
            "\n",
            "/content/local_data/data_set/Caravaggio\n",
            "Number of images: 0\n",
            "\n",
            "/content/local_data/data_set/Giotto_di_Bondone\n",
            "Number of images: 1\n",
            "\n",
            "/content/local_data/data_set/Leonardo_da_Vinci\n",
            "Number of images: 0\n",
            "\n",
            "/content/local_data/data_set/Michelangelo\n",
            "Number of images: 0\n",
            "\n",
            "/content/local_data/data_set/Raphael\n",
            "Number of images: 0\n",
            "\n",
            "/content/local_data/data_set/Rembrandt\n",
            "Number of images: 0\n",
            "\n"
          ],
          "name": "stdout"
        }
      ]
    },
    {
      "cell_type": "markdown",
      "metadata": {
        "id": "HBk9GKxOJ-Pu"
      },
      "source": [
        "What is the most obvious way to deal with this data?\n",
        "\n",
        "Think a bit about it. \n",
        "\n",
        "Correct: We just resize all images to the same size! In this case to a dimension which can easily be used in a Resnet50 or a VGG_16 or VGG_19, i.e. 224 x 224 You do not have to code this here, as the data generator will do it for us (at least if you use the same one as last week). \n",
        "\n",
        "Now set up the data generator - and test it. \n"
      ]
    },
    {
      "cell_type": "code",
      "metadata": {
        "id": "VDhOC2tDK8F9"
      },
      "source": [
        "train_gen = ImageDataGenerator(rescale=1./255.)\n",
        "validation_gen = ImageDataGenerator(rescale=1./255.)\n",
        "test_gen = ImageDataGenerator(rescale=1./255.)"
      ],
      "execution_count": 27,
      "outputs": []
    },
    {
      "cell_type": "code",
      "metadata": {
        "colab": {
          "base_uri": "https://localhost:8080/"
        },
        "id": "zLj5p28EkweH",
        "outputId": "bde1aa1f-013b-4e76-8cfa-ef53e70d7152"
      },
      "source": [
        "train_generator = train_gen.flow_from_directory(directory=\"/content/local_data/train\",target_size=(224,224),batch_size=16,shuffle=True,seed=42)\n",
        "valid_generator = validation_gen.flow_from_directory(directory=\"/content/local_data/validation\",target_size=(224,224),batch_size=16,shuffle=False,seed=42)\n",
        "test_generator = test_gen.flow_from_directory(directory=\"/content/local_data/test\", target_size=(224,224),batch_size=16,shuffle=False,seed=42)"
      ],
      "execution_count": 28,
      "outputs": [
        {
          "output_type": "stream",
          "text": [
            "Found 1374 images belonging to 7 classes.\n",
            "Found 593 images belonging to 7 classes.\n",
            "Found 586 images belonging to 7 classes.\n"
          ],
          "name": "stdout"
        }
      ]
    },
    {
      "cell_type": "markdown",
      "metadata": {
        "id": "nrg2nRpVK87K"
      },
      "source": [
        "Now set up a Resnet50 and a VGG_19 (or another model for comparison), pretrained on Imagenet - and write a new custom top-layer to match the number of classes you've chosen. "
      ]
    },
    {
      "cell_type": "markdown",
      "metadata": {
        "id": "CAsw3RNrpiJJ"
      },
      "source": [
        "# simple model for baseline"
      ]
    },
    {
      "cell_type": "code",
      "metadata": {
        "id": "Szv5eSqFpwTX"
      },
      "source": [
        "in_shape = (224,224,3)"
      ],
      "execution_count": 29,
      "outputs": []
    },
    {
      "cell_type": "code",
      "metadata": {
        "colab": {
          "base_uri": "https://localhost:8080/"
        },
        "id": "B2zkw36bpm7Q",
        "outputId": "19c37a0a-5e15-4421-b989-299284ced516"
      },
      "source": [
        "learning_rate = 0.0001\n",
        "dec_rate = 0 #1/4353 * 0.2 \n",
        "optim = Adam(lr=learning_rate, decay=dec_rate)\n",
        "\n",
        "model = Sequential()\n",
        "model.add(Conv2D(32, (3,3), padding='valid',activation='relu', input_shape=in_shape))\n",
        "model.add(MaxPooling2D())\n",
        "model.add(Conv2D(64,(3,3), padding='valid',activation='relu'))\n",
        "model.add(MaxPooling2D())\n",
        "model.add(Conv2D(128,(3,3), padding='valid',activation='relu'))\n",
        "model.add(Flatten())\n",
        "model.add(Dense(64,activation='relu'))\n",
        "model.add(Dense(7,activation='softmax'))\n",
        "model.summary()"
      ],
      "execution_count": 30,
      "outputs": [
        {
          "output_type": "stream",
          "text": [
            "Model: \"sequential\"\n",
            "_________________________________________________________________\n",
            "Layer (type)                 Output Shape              Param #   \n",
            "=================================================================\n",
            "conv2d (Conv2D)              (None, 222, 222, 32)      896       \n",
            "_________________________________________________________________\n",
            "max_pooling2d (MaxPooling2D) (None, 111, 111, 32)      0         \n",
            "_________________________________________________________________\n",
            "conv2d_1 (Conv2D)            (None, 109, 109, 64)      18496     \n",
            "_________________________________________________________________\n",
            "max_pooling2d_1 (MaxPooling2 (None, 54, 54, 64)        0         \n",
            "_________________________________________________________________\n",
            "conv2d_2 (Conv2D)            (None, 52, 52, 128)       73856     \n",
            "_________________________________________________________________\n",
            "flatten (Flatten)            (None, 346112)            0         \n",
            "_________________________________________________________________\n",
            "dense (Dense)                (None, 64)                22151232  \n",
            "_________________________________________________________________\n",
            "dense_1 (Dense)              (None, 7)                 455       \n",
            "=================================================================\n",
            "Total params: 22,244,935\n",
            "Trainable params: 22,244,935\n",
            "Non-trainable params: 0\n",
            "_________________________________________________________________\n"
          ],
          "name": "stdout"
        }
      ]
    },
    {
      "cell_type": "code",
      "metadata": {
        "id": "7ZcdoJlGta5Q"
      },
      "source": [
        "model.compile(optimizer=Adam(lr=0.0001),loss='categorical_crossentropy',metrics='accuracy') "
      ],
      "execution_count": 31,
      "outputs": []
    },
    {
      "cell_type": "code",
      "metadata": {
        "id": "ZtrSD5Mir6kn",
        "colab": {
          "base_uri": "https://localhost:8080/",
          "height": 189
        },
        "outputId": "9907967a-ee39-4ab3-a2d6-44837d5f61a3"
      },
      "source": [
        "mcp_1 = ModelCheckpoint('best_model_simple', monitor='val_accuracy', save_best_only=True, save_weights_only=False, verbose=1)\n",
        "early = EarlyStopping(monitor='val_accuracy', min_delta=0, patience=5, verbose=1, mode='auto', restore_best_weights=True)"
      ],
      "execution_count": 32,
      "outputs": [
        {
          "output_type": "error",
          "ename": "NameError",
          "evalue": "ignored",
          "traceback": [
            "\u001b[0;31m---------------------------------------------------------------------------\u001b[0m",
            "\u001b[0;31mNameError\u001b[0m                                 Traceback (most recent call last)",
            "\u001b[0;32m<ipython-input-32-1307be629df1>\u001b[0m in \u001b[0;36m<module>\u001b[0;34m()\u001b[0m\n\u001b[1;32m      1\u001b[0m \u001b[0mmcp_1\u001b[0m \u001b[0;34m=\u001b[0m \u001b[0mModelCheckpoint\u001b[0m\u001b[0;34m(\u001b[0m\u001b[0;34m'best_model_simple'\u001b[0m\u001b[0;34m,\u001b[0m \u001b[0mmonitor\u001b[0m\u001b[0;34m=\u001b[0m\u001b[0;34m'val_accuracy'\u001b[0m\u001b[0;34m,\u001b[0m \u001b[0msave_best_only\u001b[0m\u001b[0;34m=\u001b[0m\u001b[0;32mTrue\u001b[0m\u001b[0;34m,\u001b[0m \u001b[0msave_weights_only\u001b[0m\u001b[0;34m=\u001b[0m\u001b[0;32mFalse\u001b[0m\u001b[0;34m,\u001b[0m \u001b[0mverbose\u001b[0m\u001b[0;34m=\u001b[0m\u001b[0;36m1\u001b[0m\u001b[0;34m)\u001b[0m\u001b[0;34m\u001b[0m\u001b[0;34m\u001b[0m\u001b[0m\n\u001b[0;32m----> 2\u001b[0;31m \u001b[0mearly\u001b[0m \u001b[0;34m=\u001b[0m \u001b[0mEarlyStopping\u001b[0m\u001b[0;34m(\u001b[0m\u001b[0mmonitor\u001b[0m\u001b[0;34m=\u001b[0m\u001b[0;34m'val_accuracy'\u001b[0m\u001b[0;34m,\u001b[0m \u001b[0mmin_delta\u001b[0m\u001b[0;34m=\u001b[0m\u001b[0;36m0\u001b[0m\u001b[0;34m,\u001b[0m \u001b[0mpatience\u001b[0m\u001b[0;34m=\u001b[0m\u001b[0;36m5\u001b[0m\u001b[0;34m,\u001b[0m \u001b[0mverbose\u001b[0m\u001b[0;34m=\u001b[0m\u001b[0;36m1\u001b[0m\u001b[0;34m,\u001b[0m \u001b[0mmode\u001b[0m\u001b[0;34m=\u001b[0m\u001b[0;34m'auto'\u001b[0m\u001b[0;34m,\u001b[0m \u001b[0mrestore_best_weights\u001b[0m\u001b[0;34m=\u001b[0m\u001b[0;32mTrue\u001b[0m\u001b[0;34m)\u001b[0m\u001b[0;34m\u001b[0m\u001b[0;34m\u001b[0m\u001b[0m\n\u001b[0m",
            "\u001b[0;31mNameError\u001b[0m: name 'EarlyStopping' is not defined"
          ]
        }
      ]
    },
    {
      "cell_type": "code",
      "metadata": {
        "id": "JzCF-ZiEsFbG"
      },
      "source": [
        "history_model = model.fit(train_generator,validation_data = valid_generator,epochs=10,callbacks=[mcp_1,early])    "
      ],
      "execution_count": null,
      "outputs": []
    },
    {
      "cell_type": "markdown",
      "metadata": {
        "id": "QVgTDLwhu9iS"
      },
      "source": [
        "## results"
      ]
    },
    {
      "cell_type": "code",
      "metadata": {
        "id": "w_cHrUOvsFqv"
      },
      "source": [
        "history_plot_from_loss_acc(history_model,'best_model_simple')"
      ],
      "execution_count": null,
      "outputs": []
    },
    {
      "cell_type": "code",
      "metadata": {
        "id": "GelBHqPmDFbt"
      },
      "source": [
        "best_simple_model = load_model('best_model_simple')\n",
        "best_simple_model.summary()"
      ],
      "execution_count": null,
      "outputs": []
    },
    {
      "cell_type": "code",
      "metadata": {
        "id": "79yWRfMTsFqv"
      },
      "source": [
        "best_simple_model.evaluate(test_generator)"
      ],
      "execution_count": null,
      "outputs": []
    },
    {
      "cell_type": "code",
      "metadata": {
        "id": "0ycynxtUucw6"
      },
      "source": [
        "y_predict_simple_model = best_simple_model.predict(test_generator)"
      ],
      "execution_count": null,
      "outputs": []
    },
    {
      "cell_type": "code",
      "metadata": {
        "id": "opt98SdvuM_T"
      },
      "source": [
        "plot_confusion_matrix_x(test_generator.classes,y_predict_simple_model,artist_list)"
      ],
      "execution_count": null,
      "outputs": []
    },
    {
      "cell_type": "code",
      "metadata": {
        "id": "sLAaDSh1vDaV"
      },
      "source": [
        "create_result_df(y_predict_simple_model,test_generator)"
      ],
      "execution_count": null,
      "outputs": []
    },
    {
      "cell_type": "markdown",
      "metadata": {
        "id": "UEq1HzRCrDLK"
      },
      "source": [
        "# VGG16 from Keras"
      ]
    },
    {
      "cell_type": "markdown",
      "metadata": {
        "id": "8JjuIsIurDLL"
      },
      "source": [
        "Build a convolutional neural network based on the [VGG16](https://neurohive.io/en/popular-networks/vgg16/) architecture."
      ]
    },
    {
      "cell_type": "code",
      "metadata": {
        "id": "8e6e3seorREx"
      },
      "source": [
        "import tensorflow. keras as keras\n",
        "vgg16_model = keras.applications.VGG16()"
      ],
      "execution_count": null,
      "outputs": []
    },
    {
      "cell_type": "code",
      "metadata": {
        "id": "kGnUhu5xJMKG"
      },
      "source": [
        "vgg16_model = keras.applications.vgg16.VGG16(\n",
        "  weights='imagenet',\n",
        "  include_top=False,\n",
        "  input_shape=in_shape)"
      ],
      "execution_count": null,
      "outputs": []
    },
    {
      "cell_type": "code",
      "metadata": {
        "id": "SaSM8TWwt1u9"
      },
      "source": [
        "vgg16_model.summary()"
      ],
      "execution_count": null,
      "outputs": []
    },
    {
      "cell_type": "code",
      "metadata": {
        "id": "eAQjvPS2rDLL"
      },
      "source": [
        "model_vgg16_c = Sequential()\n",
        "for layer in vgg16_model.layers:\n",
        "  model_vgg16_c.add(layer)"
      ],
      "execution_count": null,
      "outputs": []
    },
    {
      "cell_type": "code",
      "metadata": {
        "id": "H61hEu0NV1zL"
      },
      "source": [
        "for layer in model_vgg16_c.layers:\n",
        "  layer.trainable = False"
      ],
      "execution_count": null,
      "outputs": []
    },
    {
      "cell_type": "code",
      "metadata": {
        "id": "8o48KUYZJuf-"
      },
      "source": [
        "model_vgg16_c.add(Flatten())\n",
        "model_vgg16_c.add(Dense(256,activation='relu'))\n",
        "model_vgg16_c.add(Dropout(0.5))\n",
        "model_vgg16_c.add(Dense(7,activation='softmax'))\n",
        "model_vgg16_c.summary()"
      ],
      "execution_count": null,
      "outputs": []
    },
    {
      "cell_type": "code",
      "metadata": {
        "id": "JulUSv7qKkkg"
      },
      "source": [
        "model_vgg16_c.compile(optimizer=Adam(lr=0.0001),loss='categorical_crossentropy',metrics='accuracy') "
      ],
      "execution_count": null,
      "outputs": []
    },
    {
      "cell_type": "code",
      "metadata": {
        "id": "tL9pb813Kkkh"
      },
      "source": [
        "mcp_2 = ModelCheckpoint('keras_applications_VGG16', monitor='val_accuracy', save_best_only=True, save_weights_only=False, verbose=1)"
      ],
      "execution_count": null,
      "outputs": []
    },
    {
      "cell_type": "code",
      "metadata": {
        "id": "98YQSD5EKkkh"
      },
      "source": [
        "history_model_vgg16_c = model_vgg16_c.fit(train_generator,validation_data = valid_generator,epochs=15,callbacks=[mcp_2,early])    "
      ],
      "execution_count": null,
      "outputs": []
    },
    {
      "cell_type": "code",
      "metadata": {
        "id": "rbZZrr6GKkkh"
      },
      "source": [
        "history_plot_from_loss_acc(history_model_vgg16_c,'keras.applications.VGG16')"
      ],
      "execution_count": null,
      "outputs": []
    },
    {
      "cell_type": "code",
      "metadata": {
        "id": "mBH9vGluDaKH"
      },
      "source": [
        "best_keras_applications_VGG16_model = load_model('keras_applications_VGG16')"
      ],
      "execution_count": null,
      "outputs": []
    },
    {
      "cell_type": "markdown",
      "metadata": {
        "id": "TPNRvxMu7HyR"
      },
      "source": [
        "#### result"
      ]
    },
    {
      "cell_type": "code",
      "metadata": {
        "id": "evOsK8Z6Kkki"
      },
      "source": [
        "y_eval = best_keras_applications_VGG16_model.evaluate(test_generator)"
      ],
      "execution_count": null,
      "outputs": []
    },
    {
      "cell_type": "code",
      "metadata": {
        "id": "PzGyvIbk0Iob"
      },
      "source": [
        "y_predict_vgg16_model = best_keras_applications_VGG16_model.predict(test_generator)"
      ],
      "execution_count": null,
      "outputs": []
    },
    {
      "cell_type": "code",
      "metadata": {
        "id": "3QizXC250Iod"
      },
      "source": [
        "plot_confusion_matrix_x(test_generator.classes,y_predict_vgg16_model,artist_list)"
      ],
      "execution_count": null,
      "outputs": []
    },
    {
      "cell_type": "code",
      "metadata": {
        "id": "xjTu8H6h0Iod"
      },
      "source": [
        "create_result_df(y_predict_vgg16_model,test_generator)"
      ],
      "execution_count": null,
      "outputs": []
    },
    {
      "cell_type": "code",
      "metadata": {
        "id": "csZQr1cXLTkH"
      },
      "source": [
        "test_generator.filenames[:5]"
      ],
      "execution_count": null,
      "outputs": []
    },
    {
      "cell_type": "markdown",
      "metadata": {
        "id": "GEJ3zQzbfUAM"
      },
      "source": [
        "# resnet50"
      ]
    },
    {
      "cell_type": "markdown",
      "metadata": {
        "id": "DOYKDN_9fMO7"
      },
      "source": [
        "### top model"
      ]
    },
    {
      "cell_type": "code",
      "metadata": {
        "id": "Vc_7PHKafDeu"
      },
      "source": [
        "from keras.models import Model\n",
        "from keras.layers import Dense, Flatten, Dropout, Input, AveragePooling2D, Conv2D\n",
        "from keras import initializers\n",
        "from keras.callbacks import Callback\n",
        "import tensorflow as tf\n",
        "from keras.applications.resnet50 import ResNet50"
      ],
      "execution_count": null,
      "outputs": []
    },
    {
      "cell_type": "code",
      "metadata": {
        "id": "Yx4kjXAyLiQ7"
      },
      "source": [
        "resnet50 = ResNet50(include_top=False, input_shape=in_shape)\n",
        "resnet50.summary()"
      ],
      "execution_count": null,
      "outputs": []
    },
    {
      "cell_type": "code",
      "metadata": {
        "id": "NYD9nOmgLaYh"
      },
      "source": [
        "dropout_rate = 0.3\n",
        "num_classes = 7\n",
        "\n",
        "# Top Model\n",
        "a = Input(shape=(7,7,2048))\n",
        "#x = AveragePooling2D(7,7)(name='avg_pool_1')(a)\n",
        "x = AveragePooling2D(7,7)(a)\n",
        "x = Flatten()(x)\n",
        "x = Dropout(dropout_rate)(x)\n",
        "x = Dense(2048, kernel_initializer=initializers.he_normal(), bias_initializer=initializers.ones(),activation='relu')(x)\n",
        "x = Dense(num_classes, kernel_initializer=initializers.he_normal(), bias_initializer=initializers.ones(), activation='softmax')(x)\n",
        "top_model = Model(inputs=a, outputs=x)\n",
        "\n",
        "top_model.summary()"
      ],
      "execution_count": null,
      "outputs": []
    },
    {
      "cell_type": "code",
      "metadata": {
        "id": "qWEqBZn4LiYs"
      },
      "source": [
        "inp = Input(shape=in_shape)\n",
        "y = resnet50(inp)\n",
        "y = top_model(y)\n",
        "final_model = Model(inp,y)\n",
        "\n",
        "final_model.summary()"
      ],
      "execution_count": null,
      "outputs": []
    },
    {
      "cell_type": "code",
      "metadata": {
        "id": "zUdMLX3fIXKZ"
      },
      "source": [
        "final_model.compile(optimizer=Adam(lr=0.0001),loss='categorical_crossentropy',metrics='accuracy') "
      ],
      "execution_count": null,
      "outputs": []
    },
    {
      "cell_type": "code",
      "metadata": {
        "id": "qkL_WU1LIXKa"
      },
      "source": [
        "mcp_3 = ModelCheckpoint('final_model_resnet_1', monitor='val_accuracy', save_best_only=True, save_weights_only=False, verbose=1)"
      ],
      "execution_count": null,
      "outputs": []
    },
    {
      "cell_type": "code",
      "metadata": {
        "id": "AiwwS6x9IXKa"
      },
      "source": [
        "history_model_final_model = final_model.fit(train_generator,validation_data = valid_generator,epochs=20,callbacks=[mcp_3,early])    "
      ],
      "execution_count": null,
      "outputs": []
    },
    {
      "cell_type": "code",
      "metadata": {
        "id": "M4VabKZxIXKb"
      },
      "source": [
        "history_plot_from_loss_acc(history_model_final_model,'final_model_resnet_1')"
      ],
      "execution_count": null,
      "outputs": []
    },
    {
      "cell_type": "code",
      "metadata": {
        "id": "g_8P6JviIXKb"
      },
      "source": [
        "best_final_model_resnet = load_model('final_model_resnet_1')#final_model"
      ],
      "execution_count": null,
      "outputs": []
    },
    {
      "cell_type": "markdown",
      "metadata": {
        "id": "3dxPNbUg0ex2"
      },
      "source": [
        "### result"
      ]
    },
    {
      "cell_type": "code",
      "metadata": {
        "id": "33NpHhsJIXKc"
      },
      "source": [
        "best_final_model_resnet.evaluate(test_generator)"
      ],
      "execution_count": null,
      "outputs": []
    },
    {
      "cell_type": "code",
      "metadata": {
        "id": "X-2j9PqX0kk9"
      },
      "source": [
        "y_predict_resnet_model = best_final_model_resnet.predict(test_generator)"
      ],
      "execution_count": null,
      "outputs": []
    },
    {
      "cell_type": "code",
      "metadata": {
        "id": "DLzVqc7r0kk-"
      },
      "source": [
        "plot_confusion_matrix_x(test_generator.classes,y_predict_resnet_model,artist_list)"
      ],
      "execution_count": null,
      "outputs": []
    },
    {
      "cell_type": "code",
      "metadata": {
        "id": "kj6X0Squ0kk-"
      },
      "source": [
        "create_result_df(y_predict_resnet_model,test_generator)"
      ],
      "execution_count": null,
      "outputs": []
    },
    {
      "cell_type": "markdown",
      "metadata": {
        "id": "28aQR8i40ght"
      },
      "source": [
        "#### view"
      ]
    },
    {
      "cell_type": "code",
      "metadata": {
        "id": "JtFYfCHsJA2h"
      },
      "source": [
        "for art in artist_list:\n",
        "  img_path = os.path.join(main_target_path,test_subdir,art)\n",
        "  # Paths and Variables\n",
        "  img_file_list=os.listdir(img_path)\n",
        "  img_file=np.random.choice(img_file_list)\n",
        "  \n",
        "  img_rdn=cv2.imread(os.path.join(os.sep,img_path,img_file))\n",
        "  img_rdn_cvt = cv2.cvtColor(img_rdn, cv2.COLOR_BGR2RGB)\n",
        "  \n",
        "  img_rdn_cvt = img_rdn_cvt/255\n",
        "  img_rdn_rs = cv2.resize(img_rdn_cvt, (224, 224), interpolation = cv2.INTER_AREA)\n",
        "  \n",
        "  test_predict = best_final_model_resnet.predict(np.expand_dims(img_rdn_rs, axis=0))\n",
        "  max_predict = np.argmax(test_predict, axis=-1)\n",
        "\n",
        "  print(os.path.join(os.sep,img_path,img_file))\n",
        "  print(test_predict)\n",
        "  print(artist_class_name_dict.get(max_predict[0]))\n",
        "\n",
        "  plt.imshow(img_rdn_cvt)\n",
        "  plt.show()"
      ],
      "execution_count": null,
      "outputs": []
    },
    {
      "cell_type": "markdown",
      "metadata": {
        "id": "4ZmZGW_EleLB"
      },
      "source": [
        "# Compare both models"
      ]
    },
    {
      "cell_type": "markdown",
      "metadata": {
        "id": "9iZVRPbjLodO"
      },
      "source": [
        "Compare both models - which has more parameters?"
      ]
    },
    {
      "cell_type": "code",
      "metadata": {
        "id": "CLozkEZqLyB0"
      },
      "source": [
        "# fgg16  Total params: 21,139,271\n",
        "# resnet Total params: 27,798,407\n",
        "# the resnet has more parameters"
      ],
      "execution_count": null,
      "outputs": []
    },
    {
      "cell_type": "markdown",
      "metadata": {
        "id": "SJbVjw5qL1j5"
      },
      "source": [
        "Compile both models, train both models and evaluate both models on the test set."
      ]
    },
    {
      "cell_type": "code",
      "metadata": {
        "id": "GGu-Q92cMAbE"
      },
      "source": [
        "# the resnet get with my setup the better results, but it needs more epochs to train"
      ],
      "execution_count": null,
      "outputs": []
    },
    {
      "cell_type": "markdown",
      "metadata": {
        "id": "p2agMQMH6N2o"
      },
      "source": [
        "# Data Augmentation"
      ]
    },
    {
      "cell_type": "markdown",
      "metadata": {
        "id": "tG8rz-yiMBTm"
      },
      "source": [
        "Now try to tune the hyperparameters, including\n",
        "\n",
        "*   Optimizer\n",
        "*   Data Augmentation (look at what keras has under the hood)\n",
        "\n"
      ]
    },
    {
      "cell_type": "markdown",
      "metadata": {
        "id": "rxORuOKbBfO3"
      },
      "source": [
        "### Data Augmentation (look at what keras has under the hood)"
      ]
    },
    {
      "cell_type": "code",
      "metadata": {
        "id": "eWP4TYN8DcBc"
      },
      "source": [
        "train_gen = ImageDataGenerator(rescale=1./255,\n",
        "        shear_range=0.2,\n",
        "        zoom_range=0.2,\n",
        "        brightness_range = (0.7, 1.3),\n",
        "        horizontal_flip=True,\n",
        "        vertical_flip=True,\n",
        "        rotation_range=359)"
      ],
      "execution_count": null,
      "outputs": []
    },
    {
      "cell_type": "code",
      "metadata": {
        "id": "_qG3EKFjDcBy"
      },
      "source": [
        "train_generator = train_gen.flow_from_directory(directory=\"/content/local_data/train\",target_size=(224,224),batch_size=16,shuffle=True,seed=42)"
      ],
      "execution_count": null,
      "outputs": []
    },
    {
      "cell_type": "markdown",
      "metadata": {
        "id": "hL91HmXnEM-8"
      },
      "source": [
        "### simple"
      ]
    },
    {
      "cell_type": "code",
      "metadata": {
        "id": "NM0vldbcEPu8"
      },
      "source": [
        "model.compile(optimizer=Adam(lr=0.0001),loss='categorical_crossentropy',metrics='accuracy') "
      ],
      "execution_count": null,
      "outputs": []
    },
    {
      "cell_type": "code",
      "metadata": {
        "id": "ZlXnQ1IdEPvD"
      },
      "source": [
        "mcp_4 = ModelCheckpoint('best_model_simple', monitor='val_accuracy', save_best_only=True, save_weights_only=False, verbose=1)"
      ],
      "execution_count": null,
      "outputs": []
    },
    {
      "cell_type": "code",
      "metadata": {
        "id": "wCKBJ-UyEPvD"
      },
      "source": [
        "history_model = model.fit(train_generator,validation_data = valid_generator,epochs=20,callbacks=[mcp_4,early])    "
      ],
      "execution_count": null,
      "outputs": []
    },
    {
      "cell_type": "code",
      "metadata": {
        "id": "JiVE6pkvEPvE"
      },
      "source": [
        "history_plot_from_loss_acc(history_model,'best_model_simple')"
      ],
      "execution_count": null,
      "outputs": []
    },
    {
      "cell_type": "code",
      "metadata": {
        "id": "l4QOatBIEPvE"
      },
      "source": [
        "best_model_simple = load_model('best_model_simple')\n",
        "best_model_simple.summary()"
      ],
      "execution_count": null,
      "outputs": []
    },
    {
      "cell_type": "markdown",
      "metadata": {
        "id": "k-G1D6_k62F1"
      },
      "source": [
        "#### result"
      ]
    },
    {
      "cell_type": "code",
      "metadata": {
        "id": "0dQiXdW4EPvE"
      },
      "source": [
        "best_model_simple.evaluate(test_generator)"
      ],
      "execution_count": null,
      "outputs": []
    },
    {
      "cell_type": "code",
      "metadata": {
        "id": "HJyw3BaA64K0"
      },
      "source": [
        "y_predict_simple_model = best_simple_model.predict(test_generator)"
      ],
      "execution_count": null,
      "outputs": []
    },
    {
      "cell_type": "code",
      "metadata": {
        "id": "X0ISWsW464K0"
      },
      "source": [
        "plot_confusion_matrix_x(test_generator.classes,y_predict_simple_model,artist_list)"
      ],
      "execution_count": null,
      "outputs": []
    },
    {
      "cell_type": "code",
      "metadata": {
        "id": "N86ko5s264K1"
      },
      "source": [
        "create_result_df(y_predict_simple_model,test_generator)"
      ],
      "execution_count": null,
      "outputs": []
    },
    {
      "cell_type": "markdown",
      "metadata": {
        "id": "OlgcQlh0EsOW"
      },
      "source": [
        "### VGG16"
      ]
    },
    {
      "cell_type": "code",
      "metadata": {
        "id": "BZux32omFCpI"
      },
      "source": [
        "model_vgg16_c.compile(optimizer=Adam(lr=0.0001),loss='categorical_crossentropy',metrics='accuracy') "
      ],
      "execution_count": null,
      "outputs": []
    },
    {
      "cell_type": "code",
      "metadata": {
        "id": "qnh5eoooFCpL"
      },
      "source": [
        "mcp_5 = ModelCheckpoint('keras_applications_VGG16', monitor='val_accuracy', save_best_only=True, save_weights_only=False, verbose=1)"
      ],
      "execution_count": null,
      "outputs": []
    },
    {
      "cell_type": "code",
      "metadata": {
        "id": "932fpQGAFCpL"
      },
      "source": [
        "history_model_vgg16_c = model_vgg16_c.fit(train_generator,validation_data = valid_generator,epochs=20,callbacks=[mcp_5,early])    "
      ],
      "execution_count": null,
      "outputs": []
    },
    {
      "cell_type": "code",
      "metadata": {
        "id": "uAyKbG_zFCpM"
      },
      "source": [
        "history_plot_from_loss_acc(history_model_vgg16_c,'keras.applications.VGG16')"
      ],
      "execution_count": null,
      "outputs": []
    },
    {
      "cell_type": "code",
      "metadata": {
        "id": "M7mPnQPfFCpM"
      },
      "source": [
        "best_VGG16_model = load_model('keras_applications_VGG16')"
      ],
      "execution_count": null,
      "outputs": []
    },
    {
      "cell_type": "code",
      "metadata": {
        "id": "0TgZLfQBFCpM"
      },
      "source": [
        "best_VGG16_model.evaluate(test_generator)"
      ],
      "execution_count": null,
      "outputs": []
    },
    {
      "cell_type": "markdown",
      "metadata": {
        "id": "JUMy_OGR7RZ1"
      },
      "source": [
        "#### result"
      ]
    },
    {
      "cell_type": "code",
      "metadata": {
        "id": "bqhemDe97Tut"
      },
      "source": [
        "y_predict_best_VGG16_model = best_VGG16_model.predict(test_generator)"
      ],
      "execution_count": null,
      "outputs": []
    },
    {
      "cell_type": "code",
      "metadata": {
        "id": "-AXD-IGQ7Tuz"
      },
      "source": [
        "plot_confusion_matrix_x(test_generator.classes,y_predict_best_VGG16_model,artist_list)"
      ],
      "execution_count": null,
      "outputs": []
    },
    {
      "cell_type": "code",
      "metadata": {
        "id": "JKc3ODNk7Tuz"
      },
      "source": [
        "create_result_df(y_predict_best_VGG16_model,test_generator)"
      ],
      "execution_count": null,
      "outputs": []
    },
    {
      "cell_type": "markdown",
      "metadata": {
        "id": "Xi6IX3dZGFl3"
      },
      "source": [
        "### RESNET 50"
      ]
    },
    {
      "cell_type": "markdown",
      "metadata": {
        "id": "udfGIJirHGn-"
      },
      "source": [
        "#### top model"
      ]
    },
    {
      "cell_type": "code",
      "metadata": {
        "id": "mh4-AK3iHGn_"
      },
      "source": [
        "dropout_rate = 0.3\n",
        "num_classes = 7\n",
        "\n",
        "# Top Model\n",
        "a = Input(shape=(7,7,2048))\n",
        "#x = AveragePooling2D(7,7)(name='avg_pool_1')(a)\n",
        "x = AveragePooling2D(7,7)(a)\n",
        "x = Flatten()(x)\n",
        "x = Dropout(dropout_rate)(x)\n",
        "x = Dense(2048, kernel_initializer=initializers.he_normal(), bias_initializer=initializers.ones(),activation='relu')(x)\n",
        "x = Dense(num_classes, kernel_initializer=initializers.he_normal(), bias_initializer=initializers.ones(), activation='softmax')(x)\n",
        "top_model = Model(inputs=a, outputs=x)\n",
        "\n",
        "top_model.summary()\n"
      ],
      "execution_count": null,
      "outputs": []
    },
    {
      "cell_type": "code",
      "metadata": {
        "id": "tBNwQTtvHGn_"
      },
      "source": [
        "inp = Input(shape=in_shape)\n",
        "y = resnet50(inp)\n",
        "y = top_model(y)\n",
        "final_model_resnet = Model(inp,y)\n",
        "\n",
        "final_model_resnet.summary()"
      ],
      "execution_count": null,
      "outputs": []
    },
    {
      "cell_type": "code",
      "metadata": {
        "id": "KOEDzwNvHGoA"
      },
      "source": [
        "final_model_resnet.compile(optimizer=Adam(lr=0.0001),loss='categorical_crossentropy',metrics='accuracy') "
      ],
      "execution_count": null,
      "outputs": []
    },
    {
      "cell_type": "code",
      "metadata": {
        "id": "r7_aekrdHGoA"
      },
      "source": [
        "mcp_6 = ModelCheckpoint('final_model_resnet', monitor='val_accuracy', save_best_only=True, save_weights_only=False, verbose=1)"
      ],
      "execution_count": null,
      "outputs": []
    },
    {
      "cell_type": "code",
      "metadata": {
        "id": "RfL7bAGKHGoA"
      },
      "source": [
        "history_final_model_resnet = final_model.fit(train_generator,validation_data = valid_generator,epochs=25,callbacks=[mcp_6,early])    "
      ],
      "execution_count": null,
      "outputs": []
    },
    {
      "cell_type": "code",
      "metadata": {
        "id": "ToReBI1GHGoA"
      },
      "source": [
        "history_plot_from_loss_acc(history_model_final_model,'final_model_resnet')"
      ],
      "execution_count": null,
      "outputs": []
    },
    {
      "cell_type": "code",
      "metadata": {
        "id": "qfF2upWNHGoB"
      },
      "source": [
        "best_final_model = load_model('final_model_resnet')"
      ],
      "execution_count": null,
      "outputs": []
    },
    {
      "cell_type": "markdown",
      "metadata": {
        "id": "sTxoknpA8DLn"
      },
      "source": [
        "#### result"
      ]
    },
    {
      "cell_type": "code",
      "metadata": {
        "id": "-WLdD_O6HGoB"
      },
      "source": [
        "best_final_model.evaluate(test_generator)"
      ],
      "execution_count": null,
      "outputs": []
    },
    {
      "cell_type": "code",
      "metadata": {
        "id": "3rCi05QrJdzy"
      },
      "source": [
        "y_predict_resnet_au = best_final_model.predict(test_generator)"
      ],
      "execution_count": null,
      "outputs": []
    },
    {
      "cell_type": "code",
      "metadata": {
        "id": "HMpLc4JKJdzz"
      },
      "source": [
        "y_predict_resnet_au = np.argmax(y_predict_resnet_au, axis=-1)"
      ],
      "execution_count": null,
      "outputs": []
    },
    {
      "cell_type": "code",
      "metadata": {
        "id": "z1K40ec1I3E9"
      },
      "source": [
        "plot_confusion_matrix_x(test_generator.classes,y_predict_resnet_au,artist_list)"
      ],
      "execution_count": null,
      "outputs": []
    },
    {
      "cell_type": "code",
      "metadata": {
        "id": "LE05_dFy8CZo"
      },
      "source": [
        "create_result_df(y_predict_resnet_au,test_generator)"
      ],
      "execution_count": null,
      "outputs": []
    },
    {
      "cell_type": "markdown",
      "metadata": {
        "id": "uMTh91EtI7nb"
      },
      "source": [
        "# Have you checked ..."
      ]
    },
    {
      "cell_type": "markdown",
      "metadata": {
        "id": "fyrCWEDTS4bM"
      },
      "source": [
        "Have you checked how \"good\" or \"bad\" the model performs for different painters? \n",
        "\n",
        "Just implement a function that gives you the accuracy and/or other metric for each class. \n",
        "\n",
        "Plot the class size vs. the accuracy (and or other metrics)"
      ]
    },
    {
      "cell_type": "code",
      "metadata": {
        "id": "6GrE-NxhKPZa"
      },
      "source": [
        "# done"
      ],
      "execution_count": null,
      "outputs": []
    },
    {
      "cell_type": "markdown",
      "metadata": {
        "id": "OmqHy5SRR4lJ"
      },
      "source": [
        "Are you happy with that result?\n",
        "\n",
        "If not (and even if you are quite content), try to think how you could improve the project accuracy. Note that I have not written model accuracy!!!\n",
        "\n",
        "Really do think about it - and then go on to the next quest!\n",
        "\n"
      ]
    },
    {
      "cell_type": "markdown",
      "metadata": {
        "id": "Z5bTGB1nlh6Y"
      },
      "source": [
        "# The End"
      ]
    }
  ]
}